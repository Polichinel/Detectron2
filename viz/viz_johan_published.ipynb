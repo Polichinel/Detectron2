{
 "cells": [
  {
   "cell_type": "code",
   "execution_count": null,
   "metadata": {},
   "outputs": [],
   "source": [
    "# use new_torch_env (which is not new...)\n",
    "import cv2\n",
    "import numpy as np\n",
    "import pickle\n",
    "import torch\n",
    "import detectron2\n",
    "from detectron2.utils.visualizer import Visualizer, VisImage\n",
    "from xml.etree import ElementTree, ElementInclude\n",
    "import copy"
   ]
  },
  {
   "cell_type": "code",
   "execution_count": null,
   "metadata": {},
   "outputs": [],
   "source": [
    "import matplotlib.pyplot as plt"
   ]
  },
  {
   "cell_type": "code",
   "execution_count": null,
   "metadata": {},
   "outputs": [],
   "source": [
    "def get_classes(img_dir):\n",
    "    \"\"\"Creates a list of classes and corrosponding ints. also a dict to translate\"\"\"\n",
    "\n",
    "    obj_name = []\n",
    "\n",
    "    # Get all objects that have been annotated\n",
    "    for filename in os.listdir(img_dir):\n",
    "        if filename.split('.')[1] == 'xml':\n",
    "            box_path = os.path.join(img_dir, filename)\n",
    "\n",
    "            tree = ElementTree.parse(box_path)\n",
    "            lst_obj = tree.findall('object')\n",
    "\n",
    "            for j in lst_obj:\n",
    "                obj_name.append(j.find('name').text)\n",
    "    \n",
    "    classes = list(sorted(set(obj_name))) # all labesl\n",
    "    classes_int = list(np.arange(0,len(classes))) # corrospoding int\n",
    "    class_to_int = dict(zip(classes,classes_int)) # a dict to translate between them\n",
    "\n",
    "    return(classes, classes_int, class_to_int)"
   ]
  },
  {
   "cell_type": "code",
   "execution_count": null,
   "metadata": {},
   "outputs": [],
   "source": [
    "classes, classes_int, class_to_int = get_classes('/media/simon/Seagate Expansion Drive/jeppe/images')"
   ]
  },
  {
   "cell_type": "code",
   "execution_count": null,
   "metadata": {},
   "outputs": [],
   "source": [
    "int_to_class = dict(zip(classes_int, classes))"
   ]
  },
  {
   "cell_type": "markdown",
   "metadata": {},
   "source": [
    "# Faster"
   ]
  },
  {
   "cell_type": "code",
   "execution_count": null,
   "metadata": {},
   "outputs": [],
   "source": [
    "data_dir = '/home/simon/Documents/Bodies/data/sample_pred_pub_img/faster_rcnn_X_101_32x8d_FPN_3x_FULL/'\n",
    "\n",
    "with open(f'{data_dir}output_list_FULL.pkl', 'rb') as file:\n",
    "    outputs = pickle.load(file)\n",
    "\n",
    "with open(f'{data_dir}instances_list_FULL.pkl', 'rb') as file:\n",
    "    instances = pickle.load(file)\n",
    "\n",
    "with open(f'{data_dir}all_img_feature_list_FULL.pkl', 'rb') as file:\n",
    "    features = pickle.load(file)"
   ]
  },
  {
   "cell_type": "code",
   "execution_count": null,
   "metadata": {},
   "outputs": [],
   "source": [
    "image_dir = '/home/simon/Desktop/published_spanner/'\n",
    "for idx in range(len(instances)):\n",
    "\n",
    "    image_file = f'{image_dir}{outputs[idx][\"img_id\"]}.JPG'\n",
    "    img = cv2.imread(image_file)\n",
    "\n",
    "    try:\n",
    "        img = cv2.cvtColor(img, cv2.COLOR_BGR2RGB)\n",
    "\n",
    "    except:\n",
    "        image_file = f'{image_dir}{outputs[idx][\"img_id\"]}.jpg'\n",
    "        img = cv2.imread(image_file)\n",
    "        img = cv2.cvtColor(img, cv2.COLOR_BGR2RGB)\n",
    "\n",
    "\n",
    "    ins = copy.deepcopy(instances[idx])\n",
    "\n",
    "    # viz:\n",
    "    ins.pred_classes = np.array([int_to_class[i.item()] for i in ins.pred_classes])\n",
    "\n",
    "    output = Visualizer(img)\n",
    "    out = output.draw_instance_predictions(ins)\n",
    "    plt.figure(figsize=[20,20])\n",
    "    plt.imshow(out.get_image())\n",
    "    plt.show()"
   ]
  },
  {
   "cell_type": "markdown",
   "metadata": {},
   "source": [
    "# Retina 50"
   ]
  },
  {
   "cell_type": "code",
   "execution_count": null,
   "metadata": {},
   "outputs": [],
   "source": [
    "data_dir = '/home/simon/Documents/Bodies/data/sample_pred_pub_img/retinanet_R_50_FPN_3x_FULL/'\n",
    "\n",
    "with open(f'{data_dir}output_list_FULL.pkl', 'rb') as file:\n",
    "    outputs = pickle.load(file)\n",
    "\n",
    "with open(f'{data_dir}instances_list_FULL.pkl', 'rb') as file:\n",
    "    instances = pickle.load(file)\n",
    "\n",
    "with open(f'{data_dir}all_img_feature_list_FULL.pkl', 'rb') as file:\n",
    "    features = pickle.load(file)"
   ]
  },
  {
   "cell_type": "code",
   "execution_count": null,
   "metadata": {},
   "outputs": [],
   "source": [
    "image_dir = '/home/simon/Desktop/published_spanner/'\n",
    "for idx in range(len(instances)):\n",
    "\n",
    "    image_file = f'{image_dir}{outputs[idx][\"img_id\"]}.JPG'\n",
    "    img = cv2.imread(image_file)\n",
    "\n",
    "    try:\n",
    "        img = cv2.cvtColor(img, cv2.COLOR_BGR2RGB)\n",
    "\n",
    "    except:\n",
    "        image_file = f'{image_dir}{outputs[idx][\"img_id\"]}.jpg'\n",
    "        img = cv2.imread(image_file)\n",
    "        img = cv2.cvtColor(img, cv2.COLOR_BGR2RGB)\n",
    "\n",
    "\n",
    "    ins = copy.deepcopy(instances[idx])\n",
    "\n",
    "    # viz:\n",
    "    ins.pred_classes = np.array([int_to_class[i.item()] for i in ins.pred_classes])\n",
    "\n",
    "    output = Visualizer(img)\n",
    "    out = output.draw_instance_predictions(ins)\n",
    "    plt.figure(figsize=[20,20])\n",
    "    plt.imshow(out.get_image())\n",
    "    plt.show()"
   ]
  },
  {
   "cell_type": "markdown",
   "metadata": {},
   "source": [
    "# Retina 101"
   ]
  },
  {
   "cell_type": "code",
   "execution_count": null,
   "metadata": {},
   "outputs": [],
   "source": [
    "data_dir = '/home/simon/Documents/Bodies/data/sample_pred_pub_img/retinanet_R_101_FPN_3x_FULL/'\n",
    "\n",
    "with open(f'{data_dir}output_list_FULL.pkl', 'rb') as file:\n",
    "    outputs = pickle.load(file)\n",
    "\n",
    "with open(f'{data_dir}instances_list_FULL.pkl', 'rb') as file:\n",
    "    instances = pickle.load(file)\n",
    "\n",
    "with open(f'{data_dir}all_img_feature_list_FULL.pkl', 'rb') as file:\n",
    "    features = pickle.load(file)"
   ]
  },
  {
   "cell_type": "code",
   "execution_count": null,
   "metadata": {},
   "outputs": [],
   "source": [
    "idx = 0\n",
    "\n",
    "image_dir = '/home/simon/Desktop/published_spanner/'\n",
    "\n",
    "image_file = f'{image_dir}{outputs[idx][\"img_id\"]}.JPG'\n",
    "img = cv2.imread(image_file)\n",
    "\n",
    "try:\n",
    "    img = cv2.cvtColor(img, cv2.COLOR_BGR2RGB)\n",
    "\n",
    "except:\n",
    "    image_file = f'{image_dir}{outputs[idx][\"img_id\"]}.jpg'\n",
    "    img = cv2.imread(image_file)\n",
    "    img = cv2.cvtColor(img, cv2.COLOR_BGR2RGB)\n",
    "\n",
    "\n",
    "ins = copy.deepcopy(instances[idx])\n",
    "\n",
    "# viz:\n",
    "ins.pred_classes = np.array([int_to_class[i.item()] for i in ins.pred_classes])\n",
    "\n",
    "\n",
    "output = Visualizer(img)\n",
    "out = output.draw_instance_predictions(ins)\n",
    "plt.figure(figsize=[20,20])\n",
    "plt.imshow(out.get_image())\n",
    "plt.show()\n"
   ]
  },
  {
   "cell_type": "code",
   "execution_count": null,
   "metadata": {},
   "outputs": [],
   "source": [
    "image_dir = '/home/simon/Desktop/published_spanner/'\n",
    "for idx in range(len(instances)):\n",
    "\n",
    "    image_file = f'{image_dir}{outputs[idx][\"img_id\"]}.JPG'\n",
    "    img = cv2.imread(image_file)\n",
    "\n",
    "    try:\n",
    "        img = cv2.cvtColor(img, cv2.COLOR_BGR2RGB)\n",
    "\n",
    "    except:\n",
    "        image_file = f'{image_dir}{outputs[idx][\"img_id\"]}.jpg'\n",
    "        img = cv2.imread(image_file)\n",
    "        img = cv2.cvtColor(img, cv2.COLOR_BGR2RGB)\n",
    "\n",
    "\n",
    "    ins = copy.deepcopy(instances[idx])\n",
    "\n",
    "    # viz:\n",
    "    ins.pred_classes = np.array([int_to_class[i.item()] for i in ins.pred_classes])\n",
    "\n",
    "    output = Visualizer(img)\n",
    "    out = output.draw_instance_predictions(ins)\n",
    "    plt.figure(figsize=[20,20])\n",
    "    plt.imshow(out.get_image())\n",
    "    plt.show()\n"
   ]
  }
 ],
 "metadata": {
  "kernelspec": {
   "display_name": "Python 3.8.8 ('new_torch_env')",
   "language": "python",
   "name": "python3"
  },
  "language_info": {
   "codemirror_mode": {
    "name": "ipython",
    "version": 3
   },
   "file_extension": ".py",
   "mimetype": "text/x-python",
   "name": "python",
   "nbconvert_exporter": "python",
   "pygments_lexer": "ipython3",
   "version": "3.8.8"
  },
  "orig_nbformat": 4,
  "vscode": {
   "interpreter": {
    "hash": "7fcc707ba52361edf59c8725809d3f80fff5a023f2a5646c9753e548f7e28de1"
   }
  }
 },
 "nbformat": 4,
 "nbformat_minor": 2
}

{
 "cells": [
  {
   "cell_type": "code",
   "execution_count": 2,
   "metadata": {},
   "outputs": [],
   "source": [
    "# use geo_env_2022\n",
    "import os\n",
    "import numpy as np\n",
    "import pandas as pd # original 1.2.3\n",
    "import geopandas as gpd\n",
    "from shapely.geometry import Point\n",
    "import pickle\n",
    "import urllib.request\n",
    "\n",
    "import matplotlib.pyplot as plt"
   ]
  },
  {
   "cell_type": "code",
   "execution_count": 3,
   "metadata": {},
   "outputs": [],
   "source": [
    "def get_prio_shape():\n",
    "\n",
    "    location = '/home/simon/Documents/Bodies/data/PRIO'\n",
    "    path_prio = location + '/priogrid_shapefiles.zip'\n",
    "\n",
    "    if os.path.isfile(path_prio) == True:\n",
    "        \n",
    "        print('File already downloaded')\n",
    "        prio_grid = gpd.read_file('zip://' + path_prio)\n",
    "\n",
    "    else:\n",
    "        print('Beginning file download PRIO...')\n",
    "        url_prio = 'http://file.prio.no/ReplicationData/PRIO-GRID/priogrid_shapefiles.zip'\n",
    "\n",
    "        urllib.request.urlretrieve(url_prio, path_prio)\n",
    "        prio_grid = gpd.read_file('zip://' + path_prio)\n",
    "\n",
    "    return prio_grid"
   ]
  },
  {
   "cell_type": "code",
   "execution_count": 4,
   "metadata": {},
   "outputs": [],
   "source": [
    "def get_gwno():\n",
    "\n",
    "    location = '/home/simon/Documents/Bodies/data/PRIO'\n",
    "    #path_gwno = location + '/PRIO-GRID Yearly Variables for 2003-2009 - 2022-06-16.csv' #https://grid.prio.org/#/download # need to figrue out the API\n",
    "    path_gwno = location + '/PRIO-GRID Yearly Variables for 1989-2014 - 2022-06-16.csv' #https://grid.prio.org/#/download # need to figrue out the API\n",
    "\n",
    "    # why not just go 1989 - 2019 like ucdp...\n",
    "\n",
    "    gwno = pd.read_csv(path_gwno)\n",
    "\n",
    "    return gwno\n",
    "\n"
   ]
  },
  {
   "cell_type": "code",
   "execution_count": 5,
   "metadata": {},
   "outputs": [],
   "source": [
    "def get_ucdp():\n",
    "    location = '/home/simon/Documents/Bodies/data/UCDP' \n",
    "    path_ucdp = location + \"/ged201-csv.zip\"\n",
    "    \n",
    "    if os.path.isfile(path_ucdp) == True:\n",
    "        print('file already downloaded')\n",
    "        ucdp = pd.read_csv(path_ucdp)\n",
    "\n",
    "\n",
    "    else: \n",
    "        print('Beginning file download UCDP...')\n",
    "\n",
    "        url_ucdp = 'https://ucdp.uu.se/downloads/ged/ged201-csv.zip'\n",
    "    \n",
    "        urllib.request.urlretrieve(url_ucdp, path_ucdp)\n",
    "        ucdp = pd.read_csv(path_ucdp)\n",
    "\n",
    "    return ucdp"
   ]
  },
  {
   "cell_type": "code",
   "execution_count": 6,
   "metadata": {},
   "outputs": [],
   "source": [
    "def add_month_id(ucdp): # you could also do a week_id....\n",
    "\n",
    "    ucdp_tmp1 = ucdp.copy()\n",
    "\n",
    "    ucdp_tmp1['year_months_start'] = ucdp_tmp1['date_start'].str.slice(start = 0, stop = 7) # Date YYYY-MM-DD\n",
    "    ucdp_tmp1['year_months_end'] = ucdp_tmp1['date_start'].str.slice(start = 0, stop = 7) # Date YYYY-MM-DD\n",
    "\n",
    "\n",
    "    mask1 = (ucdp_tmp1['year'] != ucdp_tmp1['year_months_start'].str.slice(start = 0, stop = 4).astype(int))\n",
    "    mask2 = (ucdp_tmp1['year'] != ucdp_tmp1['year_months_end'].str.slice(start = 0, stop = 4).astype(int))\n",
    "\n",
    "    # correction. Note that end and start year for the four entries that is corrected is the same.\n",
    "    ucdp_tmp1.loc[mask1 | mask2, 'year'] = ucdp_tmp1.loc[mask1 | mask2,'year_months_start'].str.slice(start = 0, stop = 4).astype(int)\n",
    "\n",
    "    ds_uniques = ucdp_tmp1['date_start'].str.slice(start = 0, stop = 7).unique()\n",
    "    de_uniques = ucdp_tmp1['date_end'].str.slice(start = 0, stop = 7).unique() # do you need both?\n",
    "\n",
    "    months_unique = np.union1d(ds_uniques, de_uniques)\n",
    "    months_unique.sort()\n",
    "\n",
    "    month_id = np.arange(109, months_unique.shape[0] + 109, 1) # this makes sure the month_id matches that of ViWES replication data. Just in case.\n",
    "\n",
    "    month_df = pd.DataFrame({'month_id' : month_id, 'year_months_start' : months_unique, 'year_months_end' : months_unique})\n",
    "\n",
    "    # I checked. There is no instance where the month id will differ if we take start or end.\n",
    "    ucdp_tmp2 = ucdp_tmp1.merge(month_df[['month_id', 'year_months_start']], how = 'outer', on= 'year_months_start')\n",
    "\n",
    "    return(ucdp_tmp2)"
   ]
  },
  {
   "cell_type": "code",
   "execution_count": 7,
   "metadata": {},
   "outputs": [],
   "source": [
    "def trim_ucdp(ucdp_monthly):\n",
    "\n",
    "    ucdp_slim = ucdp_monthly[['country','year', 'month_id', 'year_months_start', 'priogrid_gid','best','low','high']].copy()\n",
    "    ucdp_gid = ucdp_slim.groupby(by=['priogrid_gid','month_id', 'year_months_start', 'year','country']).sum().reset_index() # so right now it is monthly units. you can change this..\n",
    "    ucdp_gid.rename(columns={'priogrid_gid':'gid'}, inplace=True)\n",
    "\n",
    "    ucdp_gid['log_best'] = np.log(ucdp_gid['best'] +1)\n",
    "    ucdp_gid['log_low'] = np.log(ucdp_gid['low'] +1)\n",
    "    ucdp_gid['log_high'] = np.log(ucdp_gid['high'] +1)\n",
    "\n",
    "    return(ucdp_gid)"
   ]
  },
  {
   "cell_type": "code",
   "execution_count": 8,
   "metadata": {},
   "outputs": [],
   "source": [
    "def add_years(ucdp, world_grid):\n",
    "\n",
    "    diff = ucdp['year'].max() - world_grid['year'].max()\n",
    "\n",
    "    subset_list = []\n",
    "\n",
    "    for i in np.arange(1, diff+1, 1):\n",
    "\n",
    "        subset = world_grid[world_grid['year'] == world_grid['year'].max()].copy()\n",
    "        subset['year'] = world_grid['year'].max() + i\n",
    "\n",
    "        subset_list.append(subset)\n",
    "\n",
    "    new_years = pd.concat(subset_list)\n",
    "    world_grid_all_years = pd.concat([world_grid, new_years])\n",
    "\n",
    "    return world_grid_all_years"
   ]
  },
  {
   "cell_type": "code",
   "execution_count": 9,
   "metadata": {},
   "outputs": [],
   "source": [
    "def combine_UCDP_PRIO(ucdp_gid, world_grid_all_years):\n",
    "\n",
    "    month = [str(i).zfill(2) for i in np.arange(1,13,1)]\n",
    "    world_grid_all_years.loc[:,'month'] = world_grid_all_years.apply(lambda _: month, axis=1)\n",
    "    world_grid_monthly = world_grid_all_years.explode('month')\n",
    "\n",
    "    world_grid_monthly['year_months_start'] = world_grid_monthly['year'].astype(str) + '-' +  world_grid_monthly['month'].astype(str)\n",
    "\n",
    "    #ucdp_cliped = ucdp_gid[ucdp_gid['year']<2015].copy()# Could also just expand world_grid_monhtly but I do not need these values anyway (for now)..\n",
    "\n",
    "    combined_df = world_grid_monthly.merge(ucdp_gid, how = 'left', on = ['gid', 'year_months_start', 'year']) # month id needs to be made after..\n",
    "    combined_df.loc[:, ['best', 'low', 'high', 'log_best', 'log_low', 'log_high']] = combined_df.loc[:, ['best', 'low', 'high', 'log_best', 'log_low', 'log_high']].fillna(0)\n",
    "\n",
    "    month_id_dict = dict(zip(ucdp_gid['year_months_start'],ucdp_gid['month_id']))\n",
    "    combined_df['month_id'].fillna(combined_df['year_months_start'].map(month_id_dict), inplace = True)\n",
    "    combined_df['month_id'] = combined_df['month_id'].astype(int)\n",
    "\n",
    "    #combined_df['gwno'] = combined_df['gwno'].astype(int)\n",
    "    # Does not really work...\n",
    "    #contry_dict = dict(zip(combined_df.loc[combined_df['country'].notna(), 'country'].unique(), combined_df.loc[combined_df['country'].notna(), 'gwno'].unique()))\n",
    "    #combined_df['country'].fillna(combined_df['gwno'].map(contry_dict), inplace = True)\n",
    "\n",
    "    combined_df.drop(columns= ['country'], inplace = True)\n",
    "\n",
    "    return(combined_df)"
   ]
  },
  {
   "cell_type": "code",
   "execution_count": 10,
   "metadata": {},
   "outputs": [
    {
     "name": "stdout",
     "output_type": "stream",
     "text": [
      "File already downloaded\n",
      "file already downloaded\n"
     ]
    },
    {
     "name": "stderr",
     "output_type": "stream",
     "text": [
      "/tmp/ipykernel_248272/3991126561.py:7: DtypeWarning: Columns (47) have mixed types. Specify dtype option on import or set low_memory=False.\n",
      "  ucdp = pd.read_csv(path_ucdp)\n"
     ]
    }
   ],
   "source": [
    "prio_grid = get_prio_shape()\n",
    "gwno = get_gwno()\n",
    "world_grid = prio_grid.merge(gwno, how = 'right', on = 'gid') # if you just merge this on outer I think you get the full grid needed for R-UNET\n",
    "\n",
    "ucdp = get_ucdp()\n",
    "ucdp_monthly = add_month_id(ucdp)\n",
    "ucdp_gid = trim_ucdp(ucdp_monthly)\n",
    "\n",
    "world_grid_all_years = add_years(ucdp, world_grid)\n",
    "\n",
    "combined_df = combine_UCDP_PRIO(ucdp_gid, world_grid_all_years)"
   ]
  },
  {
   "cell_type": "code",
   "execution_count": 11,
   "metadata": {},
   "outputs": [],
   "source": [
    "data_dir = '/home/simon/Documents/Bodies/data/OD_dataframes_compiled/'\n",
    "\n",
    "with open(f'{data_dir}df_ucdp_prio.pkl', 'wb') as file:\n",
    "    pickle.dump(combined_df, file)"
   ]
  },
  {
   "cell_type": "code",
   "execution_count": 12,
   "metadata": {},
   "outputs": [
    {
     "name": "stdout",
     "output_type": "stream",
     "text": [
      "1989: [109 110 111 112 113 114 115 116 117 118 119 120]\n",
      "1990: [121 122 123 124 125 126 127 128 129 130 131 132]\n",
      "1991: [133 134 135 136 137 138 139 140 141 142 143 144]\n",
      "1992: [145 146 147 148 149 150 151 152 153 154 155 156]\n",
      "1993: [157 158 159 160 161 162 163 164 165 166 167 168]\n",
      "1994: [169 170 171 172 173 174 175 176 177 178 179 180]\n",
      "1995: [181 182 183 184 185 186 187 188 189 190 191 192]\n",
      "1996: [193 194 195 196 197 198 199 200 201 202 203 204]\n",
      "1997: [205 206 207 208 209 210 211 212 213 214 215 216]\n",
      "1998: [217 218 219 220 221 222 223 224 225 226 227 228]\n",
      "1999: [229 230 231 232 233 234 235 236 237 238 239 240]\n",
      "2000: [241 242 243 244 245 246 247 248 249 250 251 252]\n",
      "2001: [253 254 255 256 257 258 259 260 261 262 263 264]\n",
      "2002: [265 266 267 268 269 270 271 272 273 274 275 276]\n",
      "2003: [277 278 279 280 281 282 283 284 285 286 287 288]\n",
      "2004: [289 290 291 292 293 294 295 296 297 298 299 300]\n",
      "2005: [301 302 303 304 305 306 307 308 309 310 311 312]\n",
      "2006: [313 314 315 316 317 318 319 320 321 322 323 324]\n",
      "2007: [325 326 327 328 329 330 331 332 333 334 335 336]\n",
      "2008: [337 338 339 340 341 342 343 344 345 346 347 348]\n",
      "2009: [349 350 351 352 353 354 355 356 357 358 359 360]\n",
      "2010: [361 362 363 364 365 366 367 368 369 370 371 372]\n",
      "2011: [373 374 375 376 377 378 379 380 381 382 383 384]\n",
      "2012: [385 386 387 388 389 390 391 392 393 394 395 396]\n",
      "2013: [397 398 399 400 401 402 403 404 405 406 407 408]\n",
      "2014: [409 410 411 412 413 414 415 416 417 418 419 420]\n",
      "2015: [421 422 423 424 425 426 427 428 429 430 431 432]\n",
      "2016: [433 434 435 436 437 438 439 440 441 442 443 444]\n",
      "2017: [445 446 447 448 449 450 451 452 453 454 455 456]\n",
      "2018: [457 458 459 460 461 462 463 464 465 466 467 468]\n",
      "2019: [469 470 471 472 473 474 475 476 477 478 479 480]\n",
      "1989: [109, 110, 111, 112, 113, 114, 115, 116, 117, 118, 119, 120]\n",
      "1990: [121, 122, 123, 124, 125, 126, 127, 128, 129, 130, 131, 132]\n",
      "1991: [133, 134, 135, 136, 137, 138, 139, 140, 141, 142, 143, 144]\n",
      "1992: [145, 146, 147, 148, 149, 150, 151, 152, 153, 154, 155, 156]\n",
      "1993: [157, 158, 159, 160, 161, 162, 163, 164, 165, 166, 167, 168]\n",
      "1994: [169, 170, 171, 172, 173, 174, 175, 176, 177, 178, 179, 180]\n",
      "1995: [181, 182, 183, 184, 185, 186, 187, 188, 189, 190, 191, 192]\n",
      "1996: [193, 194, 195, 196, 197, 198, 199, 200, 201, 202, 203, 204]\n",
      "1997: [205, 206, 207, 208, 209, 210, 211, 212, 213, 214, 215, 216]\n",
      "1998: [217, 218, 219, 220, 221, 222, 223, 224, 225, 226, 227, 228]\n",
      "1999: [229, 230, 231, 232, 233, 234, 235, 236, 237, 238, 239, 240]\n",
      "2000: [241, 242, 243, 244, 245, 246, 247, 248, 249, 250, 251, 252]\n",
      "2001: [253, 254, 255, 256, 257, 258, 259, 260, 261, 262, 263, 264]\n",
      "2002: [265, 266, 267, 268, 269, 270, 271, 272, 273, 274, 275, 276]\n",
      "2003: [277, 278, 279, 280, 281, 282, 283, 284, 285, 286, 287, 288]\n",
      "2004: [289, 290, 291, 292, 293, 294, 295, 296, 297, 298, 299, 300]\n",
      "2005: [301, 302, 303, 304, 305, 306, 307, 308, 309, 310, 311, 312]\n",
      "2006: [313, 314, 315, 316, 317, 318, 319, 320, 321, 322, 323, 324]\n",
      "2007: [325, 326, 327, 328, 329, 330, 331, 332, 333, 334, 335, 336]\n",
      "2008: [337, 338, 339, 340, 341, 342, 343, 344, 345, 346, 347, 348]\n",
      "2009: [349, 350, 351, 352, 353, 354, 355, 356, 357, 358, 359, 360]\n",
      "2010: [361, 362, 363, 364, 365, 366, 367, 368, 369, 370, 371, 372]\n",
      "2011: [373, 374, 375, 376, 377, 378, 379, 380, 381, 382, 383, 384]\n",
      "2012: [385, 386, 387, 388, 389, 390, 391, 392, 393, 394, 395, 396]\n",
      "2013: [397, 398, 399, 400, 401, 402, 403, 404, 405, 406, 407, 408]\n",
      "2014: [409, 410, 411, 412, 413, 414, 415, 416, 417, 418, 419, 420]\n"
     ]
    }
   ],
   "source": [
    "# Check:\n",
    "\n",
    "for y in sorted(combined_df['year'].unique()):\n",
    "    array = combined_df[combined_df['year'] == y]['month_id'].unique()\n",
    "    print(f'{y}: {array}')\n",
    "\n",
    "for y in sorted(ucdp_gid['year'].unique())[:26]:\n",
    "    array = sorted(ucdp_gid[ucdp_gid['year'] == y]['month_id'].unique())\n",
    "    print(f'{y}: {array}')"
   ]
  },
  {
   "cell_type": "code",
   "execution_count": 13,
   "metadata": {},
   "outputs": [
    {
     "data": {
      "text/html": [
       "<div>\n",
       "<style scoped>\n",
       "    .dataframe tbody tr th:only-of-type {\n",
       "        vertical-align: middle;\n",
       "    }\n",
       "\n",
       "    .dataframe tbody tr th {\n",
       "        vertical-align: top;\n",
       "    }\n",
       "\n",
       "    .dataframe thead th {\n",
       "        text-align: right;\n",
       "    }\n",
       "</style>\n",
       "<table border=\"1\" class=\"dataframe\">\n",
       "  <thead>\n",
       "    <tr style=\"text-align: right;\">\n",
       "      <th></th>\n",
       "      <th>gid</th>\n",
       "      <th>xcoord</th>\n",
       "      <th>ycoord</th>\n",
       "      <th>col</th>\n",
       "      <th>row</th>\n",
       "      <th>geometry</th>\n",
       "      <th>year</th>\n",
       "      <th>gwno</th>\n",
       "      <th>month</th>\n",
       "      <th>year_months_start</th>\n",
       "      <th>month_id</th>\n",
       "      <th>best</th>\n",
       "      <th>low</th>\n",
       "      <th>high</th>\n",
       "      <th>log_best</th>\n",
       "      <th>log_low</th>\n",
       "      <th>log_high</th>\n",
       "    </tr>\n",
       "  </thead>\n",
       "  <tbody>\n",
       "    <tr>\n",
       "      <th>0</th>\n",
       "      <td>49182</td>\n",
       "      <td>-69.25</td>\n",
       "      <td>-55.75</td>\n",
       "      <td>222</td>\n",
       "      <td>69</td>\n",
       "      <td>POLYGON ((-69.50000 -56.00000, -69.50000 -55.5...</td>\n",
       "      <td>2003</td>\n",
       "      <td>155.0</td>\n",
       "      <td>01</td>\n",
       "      <td>2003-01</td>\n",
       "      <td>277</td>\n",
       "      <td>0.0</td>\n",
       "      <td>0.0</td>\n",
       "      <td>0.0</td>\n",
       "      <td>0.0</td>\n",
       "      <td>0.0</td>\n",
       "      <td>0.0</td>\n",
       "    </tr>\n",
       "    <tr>\n",
       "      <th>1</th>\n",
       "      <td>49182</td>\n",
       "      <td>-69.25</td>\n",
       "      <td>-55.75</td>\n",
       "      <td>222</td>\n",
       "      <td>69</td>\n",
       "      <td>POLYGON ((-69.50000 -56.00000, -69.50000 -55.5...</td>\n",
       "      <td>2003</td>\n",
       "      <td>155.0</td>\n",
       "      <td>02</td>\n",
       "      <td>2003-02</td>\n",
       "      <td>278</td>\n",
       "      <td>0.0</td>\n",
       "      <td>0.0</td>\n",
       "      <td>0.0</td>\n",
       "      <td>0.0</td>\n",
       "      <td>0.0</td>\n",
       "      <td>0.0</td>\n",
       "    </tr>\n",
       "    <tr>\n",
       "      <th>2</th>\n",
       "      <td>49182</td>\n",
       "      <td>-69.25</td>\n",
       "      <td>-55.75</td>\n",
       "      <td>222</td>\n",
       "      <td>69</td>\n",
       "      <td>POLYGON ((-69.50000 -56.00000, -69.50000 -55.5...</td>\n",
       "      <td>2003</td>\n",
       "      <td>155.0</td>\n",
       "      <td>03</td>\n",
       "      <td>2003-03</td>\n",
       "      <td>279</td>\n",
       "      <td>0.0</td>\n",
       "      <td>0.0</td>\n",
       "      <td>0.0</td>\n",
       "      <td>0.0</td>\n",
       "      <td>0.0</td>\n",
       "      <td>0.0</td>\n",
       "    </tr>\n",
       "    <tr>\n",
       "      <th>3</th>\n",
       "      <td>49182</td>\n",
       "      <td>-69.25</td>\n",
       "      <td>-55.75</td>\n",
       "      <td>222</td>\n",
       "      <td>69</td>\n",
       "      <td>POLYGON ((-69.50000 -56.00000, -69.50000 -55.5...</td>\n",
       "      <td>2003</td>\n",
       "      <td>155.0</td>\n",
       "      <td>04</td>\n",
       "      <td>2003-04</td>\n",
       "      <td>280</td>\n",
       "      <td>0.0</td>\n",
       "      <td>0.0</td>\n",
       "      <td>0.0</td>\n",
       "      <td>0.0</td>\n",
       "      <td>0.0</td>\n",
       "      <td>0.0</td>\n",
       "    </tr>\n",
       "    <tr>\n",
       "      <th>4</th>\n",
       "      <td>49182</td>\n",
       "      <td>-69.25</td>\n",
       "      <td>-55.75</td>\n",
       "      <td>222</td>\n",
       "      <td>69</td>\n",
       "      <td>POLYGON ((-69.50000 -56.00000, -69.50000 -55.5...</td>\n",
       "      <td>2003</td>\n",
       "      <td>155.0</td>\n",
       "      <td>05</td>\n",
       "      <td>2003-05</td>\n",
       "      <td>281</td>\n",
       "      <td>0.0</td>\n",
       "      <td>0.0</td>\n",
       "      <td>0.0</td>\n",
       "      <td>0.0</td>\n",
       "      <td>0.0</td>\n",
       "      <td>0.0</td>\n",
       "    </tr>\n",
       "    <tr>\n",
       "      <th>...</th>\n",
       "      <td>...</td>\n",
       "      <td>...</td>\n",
       "      <td>...</td>\n",
       "      <td>...</td>\n",
       "      <td>...</td>\n",
       "      <td>...</td>\n",
       "      <td>...</td>\n",
       "      <td>...</td>\n",
       "      <td>...</td>\n",
       "      <td>...</td>\n",
       "      <td>...</td>\n",
       "      <td>...</td>\n",
       "      <td>...</td>\n",
       "      <td>...</td>\n",
       "      <td>...</td>\n",
       "      <td>...</td>\n",
       "      <td>...</td>\n",
       "    </tr>\n",
       "    <tr>\n",
       "      <th>24112858</th>\n",
       "      <td>249344</td>\n",
       "      <td>-68.25</td>\n",
       "      <td>83.25</td>\n",
       "      <td>224</td>\n",
       "      <td>347</td>\n",
       "      <td>POLYGON ((-68.50000 83.00000, -68.50000 83.500...</td>\n",
       "      <td>2019</td>\n",
       "      <td>20.0</td>\n",
       "      <td>08</td>\n",
       "      <td>2019-08</td>\n",
       "      <td>476</td>\n",
       "      <td>0.0</td>\n",
       "      <td>0.0</td>\n",
       "      <td>0.0</td>\n",
       "      <td>0.0</td>\n",
       "      <td>0.0</td>\n",
       "      <td>0.0</td>\n",
       "    </tr>\n",
       "    <tr>\n",
       "      <th>24112859</th>\n",
       "      <td>249344</td>\n",
       "      <td>-68.25</td>\n",
       "      <td>83.25</td>\n",
       "      <td>224</td>\n",
       "      <td>347</td>\n",
       "      <td>POLYGON ((-68.50000 83.00000, -68.50000 83.500...</td>\n",
       "      <td>2019</td>\n",
       "      <td>20.0</td>\n",
       "      <td>09</td>\n",
       "      <td>2019-09</td>\n",
       "      <td>477</td>\n",
       "      <td>0.0</td>\n",
       "      <td>0.0</td>\n",
       "      <td>0.0</td>\n",
       "      <td>0.0</td>\n",
       "      <td>0.0</td>\n",
       "      <td>0.0</td>\n",
       "    </tr>\n",
       "    <tr>\n",
       "      <th>24112860</th>\n",
       "      <td>249344</td>\n",
       "      <td>-68.25</td>\n",
       "      <td>83.25</td>\n",
       "      <td>224</td>\n",
       "      <td>347</td>\n",
       "      <td>POLYGON ((-68.50000 83.00000, -68.50000 83.500...</td>\n",
       "      <td>2019</td>\n",
       "      <td>20.0</td>\n",
       "      <td>10</td>\n",
       "      <td>2019-10</td>\n",
       "      <td>478</td>\n",
       "      <td>0.0</td>\n",
       "      <td>0.0</td>\n",
       "      <td>0.0</td>\n",
       "      <td>0.0</td>\n",
       "      <td>0.0</td>\n",
       "      <td>0.0</td>\n",
       "    </tr>\n",
       "    <tr>\n",
       "      <th>24112861</th>\n",
       "      <td>249344</td>\n",
       "      <td>-68.25</td>\n",
       "      <td>83.25</td>\n",
       "      <td>224</td>\n",
       "      <td>347</td>\n",
       "      <td>POLYGON ((-68.50000 83.00000, -68.50000 83.500...</td>\n",
       "      <td>2019</td>\n",
       "      <td>20.0</td>\n",
       "      <td>11</td>\n",
       "      <td>2019-11</td>\n",
       "      <td>479</td>\n",
       "      <td>0.0</td>\n",
       "      <td>0.0</td>\n",
       "      <td>0.0</td>\n",
       "      <td>0.0</td>\n",
       "      <td>0.0</td>\n",
       "      <td>0.0</td>\n",
       "    </tr>\n",
       "    <tr>\n",
       "      <th>24112862</th>\n",
       "      <td>249344</td>\n",
       "      <td>-68.25</td>\n",
       "      <td>83.25</td>\n",
       "      <td>224</td>\n",
       "      <td>347</td>\n",
       "      <td>POLYGON ((-68.50000 83.00000, -68.50000 83.500...</td>\n",
       "      <td>2019</td>\n",
       "      <td>20.0</td>\n",
       "      <td>12</td>\n",
       "      <td>2019-12</td>\n",
       "      <td>480</td>\n",
       "      <td>0.0</td>\n",
       "      <td>0.0</td>\n",
       "      <td>0.0</td>\n",
       "      <td>0.0</td>\n",
       "      <td>0.0</td>\n",
       "      <td>0.0</td>\n",
       "    </tr>\n",
       "  </tbody>\n",
       "</table>\n",
       "<p>24112863 rows × 17 columns</p>\n",
       "</div>"
      ],
      "text/plain": [
       "             gid  xcoord  ycoord  col  row  \\\n",
       "0          49182  -69.25  -55.75  222   69   \n",
       "1          49182  -69.25  -55.75  222   69   \n",
       "2          49182  -69.25  -55.75  222   69   \n",
       "3          49182  -69.25  -55.75  222   69   \n",
       "4          49182  -69.25  -55.75  222   69   \n",
       "...          ...     ...     ...  ...  ...   \n",
       "24112858  249344  -68.25   83.25  224  347   \n",
       "24112859  249344  -68.25   83.25  224  347   \n",
       "24112860  249344  -68.25   83.25  224  347   \n",
       "24112861  249344  -68.25   83.25  224  347   \n",
       "24112862  249344  -68.25   83.25  224  347   \n",
       "\n",
       "                                                   geometry  year   gwno  \\\n",
       "0         POLYGON ((-69.50000 -56.00000, -69.50000 -55.5...  2003  155.0   \n",
       "1         POLYGON ((-69.50000 -56.00000, -69.50000 -55.5...  2003  155.0   \n",
       "2         POLYGON ((-69.50000 -56.00000, -69.50000 -55.5...  2003  155.0   \n",
       "3         POLYGON ((-69.50000 -56.00000, -69.50000 -55.5...  2003  155.0   \n",
       "4         POLYGON ((-69.50000 -56.00000, -69.50000 -55.5...  2003  155.0   \n",
       "...                                                     ...   ...    ...   \n",
       "24112858  POLYGON ((-68.50000 83.00000, -68.50000 83.500...  2019   20.0   \n",
       "24112859  POLYGON ((-68.50000 83.00000, -68.50000 83.500...  2019   20.0   \n",
       "24112860  POLYGON ((-68.50000 83.00000, -68.50000 83.500...  2019   20.0   \n",
       "24112861  POLYGON ((-68.50000 83.00000, -68.50000 83.500...  2019   20.0   \n",
       "24112862  POLYGON ((-68.50000 83.00000, -68.50000 83.500...  2019   20.0   \n",
       "\n",
       "         month year_months_start  month_id  best  low  high  log_best  \\\n",
       "0           01           2003-01       277   0.0  0.0   0.0       0.0   \n",
       "1           02           2003-02       278   0.0  0.0   0.0       0.0   \n",
       "2           03           2003-03       279   0.0  0.0   0.0       0.0   \n",
       "3           04           2003-04       280   0.0  0.0   0.0       0.0   \n",
       "4           05           2003-05       281   0.0  0.0   0.0       0.0   \n",
       "...        ...               ...       ...   ...  ...   ...       ...   \n",
       "24112858    08           2019-08       476   0.0  0.0   0.0       0.0   \n",
       "24112859    09           2019-09       477   0.0  0.0   0.0       0.0   \n",
       "24112860    10           2019-10       478   0.0  0.0   0.0       0.0   \n",
       "24112861    11           2019-11       479   0.0  0.0   0.0       0.0   \n",
       "24112862    12           2019-12       480   0.0  0.0   0.0       0.0   \n",
       "\n",
       "          log_low  log_high  \n",
       "0             0.0       0.0  \n",
       "1             0.0       0.0  \n",
       "2             0.0       0.0  \n",
       "3             0.0       0.0  \n",
       "4             0.0       0.0  \n",
       "...           ...       ...  \n",
       "24112858      0.0       0.0  \n",
       "24112859      0.0       0.0  \n",
       "24112860      0.0       0.0  \n",
       "24112861      0.0       0.0  \n",
       "24112862      0.0       0.0  \n",
       "\n",
       "[24112863 rows x 17 columns]"
      ]
     },
     "execution_count": 13,
     "metadata": {},
     "output_type": "execute_result"
    }
   ],
   "source": [
    "combined_df"
   ]
  },
  {
   "cell_type": "code",
   "execution_count": 17,
   "metadata": {},
   "outputs": [
    {
     "data": {
      "text/plain": [
       "'1989-05'"
      ]
     },
     "execution_count": 17,
     "metadata": {},
     "output_type": "execute_result"
    }
   ],
   "source": [
    "world = gpd.read_file(gpd.datasets.get_path('naturalearth_lowres'))\n",
    "world.to_crs(combined_df.crs)"
   ]
  },
  {
   "cell_type": "code",
   "execution_count": 18,
   "metadata": {},
   "outputs": [
    {
     "name": "stdout",
     "output_type": "stream",
     "text": [
      "109: 1989-01\n"
     ]
    },
    {
     "data": {
      "image/png": "[encoded data removed]",
      "text/plain": [
       "<Figure size 1440x1440 with 1 Axes>"
      ]
     },
     "metadata": {
      "needs_background": "light"
     },
     "output_type": "display_data"
    },
    {
     "name": "stdout",
     "output_type": "stream",
     "text": [
      "110: 1989-02\n"
     ]
    },
    {
     "data": {
      "image/png": "[encoded data removed]",
      "text/plain": [
       "<Figure size 1440x1440 with 1 Axes>"
      ]
     },
     "metadata": {
      "needs_background": "light"
     },
     "output_type": "display_data"
    },
    {
     "name": "stdout",
     "output_type": "stream",
     "text": [
      "111: 1989-03\n"
     ]
    },
    {
     "data": {
      "image/png": "[encoded data removed]",
      "text/plain": [
       "<Figure size 1440x1440 with 1 Axes>"
      ]
     },
     "metadata": {
      "needs_background": "light"
     },
     "output_type": "display_data"
    },
    {
     "name": "stdout",
     "output_type": "stream",
     "text": [
      "112: 1989-04\n"
     ]
    },
    {
     "data": {
      "image/png": "[encoded data removed]",
      "text/plain": [
       "<Figure size 1440x1440 with 1 Axes>"
      ]
     },
     "metadata": {
      "needs_background": "light"
     },
     "output_type": "display_data"
    },
    {
     "name": "stdout",
     "output_type": "stream",
     "text": [
      "113: 1989-05\n"
     ]
    },
    {
     "data": {
      "image/png": "[encoded data removed]",
      "text/plain": [
       "<Figure size 1440x1440 with 1 Axes>"
      ]
     },
     "metadata": {
      "needs_background": "light"
     },
     "output_type": "display_data"
    }
   ],
   "source": [
    "for i in sorted(combined_df['month_id'].unique())[0:5]:\n",
    "\n",
    "    print(f\"{i}: {combined_df[combined_df['month_id'] == i]['year_months_start'].unique().item()}\")\n",
    "    fig, ax = plt.subplots(figsize = (20,20))\n",
    "    combined_df[combined_df['month_id'] == i].plot(ax=ax, column = 'log_best')\n",
    "    world.plot(color=None, edgecolor='black', ax=ax)\n",
    "    plt.show()"
   ]
  }
 ],
 "metadata": {
  "kernelspec": {
   "display_name": "Python 3.8.13 ('geo_env_2022')",
   "language": "python",
   "name": "python3"
  },
  "language_info": {
   "codemirror_mode": {
    "name": "ipython",
    "version": 3
   },
   "file_extension": ".py",
   "mimetype": "text/x-python",
   "name": "python",
   "nbconvert_exporter": "python",
   "pygments_lexer": "ipython3",
   "version": "3.8.13"
  },
  "orig_nbformat": 4,
  "vscode": {
   "interpreter": {
    "hash": "5129632b36db574984207cd0a6a7eba6bc5bd4272ef35f5fb4074faf0a719fbc"
   }
  }
 },
 "nbformat": 4,
 "nbformat_minor": 2
}

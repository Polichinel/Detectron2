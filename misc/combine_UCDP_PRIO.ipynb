{
 "cells": [
  {
   "cell_type": "code",
   "execution_count": 1,
   "metadata": {},
   "outputs": [],
   "source": [
    "# use geo_env_2022\n",
    "\n",
    "import os\n",
    "import numpy as np\n",
    "import pandas as pd # original 1.2.3\n",
    "import geopandas as gpd\n",
    "from shapely.geometry import Point\n",
    "import pickle\n",
    "import urllib.request"
   ]
  },
  {
   "cell_type": "code",
   "execution_count": 2,
   "metadata": {},
   "outputs": [],
   "source": [
    "def get_prio_shape():\n",
    "\n",
    "    location = '/home/simon/Documents/Bodies/data/PRIO'\n",
    "    path_prio = location + '/priogrid_shapefiles.zip'\n",
    "\n",
    "    if os.path.isfile(path_prio) == True:\n",
    "        \n",
    "        print('File already downloaded')\n",
    "        prio_grid = gpd.read_file('zip://' + path_prio)\n",
    "\n",
    "    else:\n",
    "        print('Beginning file download PRIO...')\n",
    "        url_prio = 'http://file.prio.no/ReplicationData/PRIO-GRID/priogrid_shapefiles.zip'\n",
    "\n",
    "        urllib.request.urlretrieve(url_prio, path_prio)\n",
    "        prio_grid = gpd.read_file('zip://' + path_prio)\n",
    "\n",
    "    return prio_grid\n",
    "\n",
    "\n",
    "def get_gwno():\n",
    "\n",
    "    location = '/home/simon/Documents/Bodies/data/PRIO'\n",
    "    path_gwno = location + '/PRIO-GRID Yearly Variables for 1989-2014 - 2022-06-16.csv' #https://grid.prio.org/#/download Simply contains the GW contry code and the meta.\n",
    "\n",
    "    # why not just go 1989 - 2019 like ucdp...\n",
    "\n",
    "    gwno = pd.read_csv(path_gwno)\n",
    "\n",
    "    return gwno\n",
    "\n",
    "\n",
    "def get_ucdp():\n",
    "    location = '/home/simon/Documents/Bodies/data/UCDP' \n",
    "    path_ucdp = location + \"/ged201-csv.zip\"\n",
    "    \n",
    "    if os.path.isfile(path_ucdp) == True:\n",
    "        print('file already downloaded')\n",
    "        ucdp = pd.read_csv(path_ucdp)\n",
    "\n",
    "\n",
    "    else: \n",
    "        print('Beginning file download UCDP...')\n",
    "\n",
    "        url_ucdp = 'https://ucdp.uu.se/downloads/ged/ged201-csv.zip'\n",
    "    \n",
    "        urllib.request.urlretrieve(url_ucdp, path_ucdp)\n",
    "        ucdp = pd.read_csv(path_ucdp)\n",
    "\n",
    "    return ucdp\n"
   ]
  },
  {
   "cell_type": "code",
   "execution_count": 3,
   "metadata": {},
   "outputs": [],
   "source": [
    "# something like get_gwno for the other stuff Jacob want"
   ]
  },
  {
   "cell_type": "code",
   "execution_count": 4,
   "metadata": {},
   "outputs": [],
   "source": [
    "\n",
    "def add_months(ucdp, world_grid):\n",
    "\n",
    "    diff = ucdp['year'].max() - world_grid['year'].max()\n",
    "\n",
    "    subset_list = []\n",
    "\n",
    "    for i in np.arange(1, diff+1, 1):\n",
    "\n",
    "        subset = world_grid[world_grid['year'] == world_grid['year'].max()].copy()\n",
    "        subset['year'] = world_grid['year'].max() + i\n",
    "\n",
    "        subset_list.append(subset)\n",
    "\n",
    "    new_years = pd.concat(subset_list)\n",
    "    world_grid_all_years = pd.concat([world_grid, new_years])\n",
    "\n",
    "    month = [str(i).zfill(2) for i in np.arange(1,13,1)]\n",
    "    world_grid_all_years.loc[:,'month'] = world_grid_all_years.apply(lambda _: month, axis=1)\n",
    "    world_grid_all_months = world_grid_all_years.sort_values('year').explode('month').copy()\n",
    "    world_grid_all_months['year_months_start'] =  world_grid_all_months['year'].astype(str) + '-' +  world_grid_all_months['month'].astype(str)\n",
    "\n",
    "    year_months = sorted(world_grid_all_months['year_months_start'].unique())\n",
    "    ts = len(year_months)\n",
    "    month_ids = np.arange(109, ts + 109, 1)\n",
    "    month_id_dict = dict(zip(year_months,month_ids))\n",
    "    month_df = pd.DataFrame({'year_months_start' : year_months, 'month_id': month_ids})\n",
    "    world_grid_all_months_id = world_grid_all_months.merge(month_df, how = 'left', on = 'year_months_start')\n",
    "\n",
    "    return world_grid_all_months_id"
   ]
  },
  {
   "cell_type": "code",
   "execution_count": 5,
   "metadata": {},
   "outputs": [],
   "source": [
    "\n",
    "def prio_ucdp_merge(ucdp, world_grid_all_months):\n",
    "    ucdp_tmp1 = ucdp.copy()\n",
    "\n",
    "    ucdp_tmp1['year_months_start'] = ucdp_tmp1['date_start'].str.slice(start = 0, stop = 7) # Date YYYY-MM-DD\n",
    "    ucdp_tmp1['year_months_end'] = ucdp_tmp1['date_start'].str.slice(start = 0, stop = 7) # Date YYYY-MM-DD\n",
    "\n",
    "\n",
    "    mask1 = (ucdp_tmp1['year'] != ucdp_tmp1['year_months_start'].str.slice(start = 0, stop = 4).astype(int))\n",
    "    mask2 = (ucdp_tmp1['year'] != ucdp_tmp1['year_months_end'].str.slice(start = 0, stop = 4).astype(int))\n",
    "\n",
    "    # correction. Note that end and start year for the four entries that is corrected is the same.\n",
    "    ucdp_tmp1.loc[mask1 | mask2, 'year'] = ucdp_tmp1.loc[mask1 | mask2,'year_months_start'].str.slice(start = 0, stop = 4).astype(int)\n",
    "\n",
    "    feature_list = ['deaths_a','deaths_b', 'deaths_civilians', 'deaths_unknown','best', 'high', 'low']\n",
    "\n",
    "    ucdp_monthly_unit = ucdp_tmp1.groupby(['year_months_start','year', 'priogrid_gid']).sum()[feature_list].reset_index()\n",
    "    ucdp_monthly_unit.rename(columns={'priogrid_gid':'gid'}, inplace=True)\n",
    "\n",
    "    ucdp_monthly_unit['log_best'] = np.log(ucdp_monthly_unit['best'] +1)\n",
    "    ucdp_monthly_unit['log_low'] = np.log(ucdp_monthly_unit['low'] +1)\n",
    "    ucdp_monthly_unit['log_high'] = np.log(ucdp_monthly_unit['high'] +1)\n",
    "\n",
    "    prio_ucdp_df = world_grid_all_months.merge(ucdp_monthly_unit, how = 'left', on = ['gid', 'year_months_start', 'year'])\n",
    "    prio_ucdp_df.fillna(0, inplace=True)\n",
    "\n",
    "    return prio_ucdp_df\n"
   ]
  },
  {
   "cell_type": "code",
   "execution_count": 6,
   "metadata": {},
   "outputs": [],
   "source": [
    "# prio_grid = get_prio_shape()\n",
    "# gwno = get_gwno()\n",
    "# ucdp = get_ucdp()\n",
    "\n",
    "# world_grid = prio_grid.merge(gwno, how = 'right', on = 'gid') # if you just merge this on outer I think you get the full grid needed for R-UNET\n",
    "# world_grid_all_months = add_months(ucdp, world_grid)\n",
    "# prio_ucdp = prio_ucdp_merge(ucdp, world_grid_all_months)"
   ]
  },
  {
   "cell_type": "code",
   "execution_count": 7,
   "metadata": {},
   "outputs": [
    {
     "name": "stdout",
     "output_type": "stream",
     "text": [
      "File already downloaded\n",
      "file already downloaded\n"
     ]
    },
    {
     "name": "stderr",
     "output_type": "stream",
     "text": [
      "/tmp/ipykernel_2751511/1529523153.py:39: DtypeWarning: Columns (47) have mixed types. Specify dtype option on import or set low_memory=False.\n",
      "  ucdp = pd.read_csv(path_ucdp)\n"
     ]
    }
   ],
   "source": [
    "def compile_combined_df():\n",
    "\n",
    "    prio_grid = get_prio_shape()\n",
    "    gwno = get_gwno()\n",
    "    ucdp = get_ucdp()\n",
    "\n",
    "    world_grid = prio_grid.merge(gwno, how = 'right', on = 'gid') # if you just merge this on outer I think you get the full grid needed for R-UNET\n",
    "    world_grid_all_months = add_months(ucdp, world_grid)\n",
    "    prio_ucdp = prio_ucdp_merge(ucdp, world_grid_all_months)\n",
    "\n",
    "    data_dir = '/home/simon/Documents/Bodies/data/OD_dataframes_compiled/'\n",
    "\n",
    "    with open(f'{data_dir}g_df_ucdp_prio.pkl', 'wb') as file:\n",
    "        pickle.dump(prio_ucdp, file)\n",
    "\n",
    "    prio_ucdp_pd = pd.DataFrame(prio_ucdp.drop(columns= 'geometry').copy())\n",
    "\n",
    "    with open(f'{data_dir}df_ucdp_prio.pkl', 'wb') as file:\n",
    "        pickle.dump(prio_ucdp_pd, file)\n",
    "\n",
    "\n",
    "if __name__ == \"__main__\":\n",
    "    compile_combined_df()\n"
   ]
  },
  {
   "cell_type": "markdown",
   "metadata": {},
   "source": [
    "# Checking"
   ]
  },
  {
   "cell_type": "code",
   "execution_count": 8,
   "metadata": {},
   "outputs": [],
   "source": [
    "data_dir = '/home/simon/Documents/Bodies/data/OD_dataframes_compiled/'\n",
    "\n",
    "# with open(f'{data_dir}bodies_df_fatal.pkl', 'rb') as file:\n",
    "#     bodies_df_fatal = pickle.load(file)\n",
    "\n",
    "with open(f'{data_dir}df_ucdp_prio.pkl', 'rb') as file:\n",
    "    prio_ucdp = pickle.load(file)\n",
    "\n",
    "test_df = prio_ucdp.drop(['deaths_a', 'deaths_b', 'deaths_civilians', 'deaths_unknown'], axis = 1).copy()"
   ]
  },
  {
   "cell_type": "code",
   "execution_count": 9,
   "metadata": {},
   "outputs": [],
   "source": [
    "data_dir = '/home/simon/Documents/Bodies/data/OD_dataframes_compiled/'\n",
    "\n",
    "# with open(f'{data_dir}bodies_df_fatal.pkl', 'rb') as file:\n",
    "#     bodies_df_fatal = pickle.load(file)\n",
    "\n",
    "with open(f'{data_dir}df_ucdp_prio_old.pkl', 'rb') as file:\n",
    "    old_df = pickle.load(file)"
   ]
  },
  {
   "cell_type": "code",
   "execution_count": 10,
   "metadata": {},
   "outputs": [
    {
     "name": "stdout",
     "output_type": "stream",
     "text": [
      "gid: True\n",
      "xcoord: True\n",
      "ycoord: True\n",
      "col: True\n",
      "row: True\n",
      "year: True\n",
      "gwno: True\n",
      "month: True\n",
      "year_months_start: True\n",
      "month_id: True\n",
      "best: True\n",
      "high: True\n",
      "low: True\n",
      "log_best: True\n",
      "log_low: True\n",
      "log_high: True\n"
     ]
    }
   ],
   "source": [
    "for c in test_df.columns:\n",
    "    eq = old_df[c].equals(test_df[c])\n",
    "    print(f'{c}: {eq}')"
   ]
  },
  {
   "cell_type": "code",
   "execution_count": 11,
   "metadata": {},
   "outputs": [],
   "source": [
    "data_dir = '/home/simon/Documents/Bodies/data/OD_dataframes_compiled/'\n",
    "\n",
    "# with open(f'{data_dir}bodies_df_fatal.pkl', 'rb') as file:\n",
    "#     bodies_df_fatal = pickle.load(file)\n",
    "\n",
    "with open(f'{data_dir}bodies_df_exposure.pkl', 'rb') as file:\n",
    "    bodies = pickle.load(file)"
   ]
  },
  {
   "cell_type": "code",
   "execution_count": 12,
   "metadata": {},
   "outputs": [
    {
     "name": "stdout",
     "output_type": "stream",
     "text": [
      "person_mean\n",
      "person_median\n",
      "person_fasterR50\n",
      "person_fasterR101\n",
      "person_fasterX101\n",
      "person_retinaR50\n",
      "person_retinaR101\n",
      "child_mean\n",
      "child_median\n",
      "child_retinaR50\n",
      "child_retinaR101\n",
      "male_mean\n",
      "male_median\n",
      "male_fasterR50\n",
      "male_fasterR101\n",
      "male_fasterX101\n",
      "male_retinaR50\n",
      "male_retinaR101\n",
      "adult_mean\n",
      "adult_median\n",
      "adult_fasterR50\n",
      "adult_fasterR101\n",
      "adult_fasterX101\n",
      "adult_retinaR50\n",
      "adult_retinaR101\n",
      "youth_mean\n",
      "youth_median\n",
      "youth_retinaR50\n",
      "youth_retinaR101\n",
      "falgIRQ_mean\n",
      "falgIRQ_median\n",
      "falgIRQ_fasterR50\n",
      "falgIRQ_fasterR101\n",
      "falgIRQ_fasterX101\n",
      "falgIRQ_retinaR50\n",
      "falgIRQ_retinaR101\n",
      "female_mean\n",
      "female_median\n",
      "female_retinaR50\n",
      "female_retinaR101\n",
      "religiousGarmentFemale_mean\n",
      "religiousGarmentFemale_median\n",
      "religiousGarmentFemale_retinaR50\n",
      "religiousGarmentFemale_retinaR101\n",
      "uniformed_mean\n",
      "uniformed_median\n",
      "uniformed_fasterR50\n",
      "uniformed_fasterR101\n",
      "uniformed_fasterX101\n",
      "uniformed_retinaR50\n",
      "uniformed_retinaR101\n",
      "firearm_mean\n",
      "firearm_median\n",
      "firearm_fasterR50\n",
      "firearm_fasterR101\n",
      "firearm_fasterX101\n",
      "firearm_retinaR50\n",
      "firearm_retinaR101\n",
      "flagUS_mean\n",
      "flagUS_median\n",
      "flagUS_fasterR50\n",
      "flagUS_fasterR101\n",
      "flagUS_fasterX101\n",
      "flagUS_retinaR50\n",
      "flagUS_retinaR101\n",
      "bloodedArea_mean\n",
      "bloodedArea_median\n",
      "bloodedArea_retinaR50\n",
      "bloodedArea_retinaR101\n",
      "militaryVehicle_mean\n",
      "militaryVehicle_median\n",
      "militaryVehicle_fasterR50\n",
      "militaryVehicle_fasterR101\n",
      "militaryVehicle_fasterX101\n",
      "militaryVehicle_retinaR50\n",
      "militaryVehicle_retinaR101\n",
      "hostage_mean\n",
      "hostage_median\n",
      "hostage_retinaR50\n",
      "hostage_retinaR101\n",
      "casualty_mean\n",
      "casualty_median\n",
      "casualty_retinaR50\n",
      "casualty_retinaR101\n",
      "elderly_mean\n",
      "elderly_median\n",
      "elderly_retinaR50\n",
      "elderly_retinaR101\n",
      "img_id\n",
      "publication\n",
      "year\n",
      "org img name\n",
      "date created\n",
      "time created\n",
      "city\n",
      "province/state\n",
      "sub-location\n",
      "headline\n",
      "by-line title\n",
      "caption/abstract\n",
      "object name\n",
      "latitude_p\n",
      "longitude_p\n",
      "date\n",
      "location_annot\n",
      "distance_days\n",
      "pred_idx\n",
      "longitude_full\n",
      "latitude_full\n",
      "year_month\n",
      "month_id\n",
      "new_year\n",
      "index_right\n",
      "gid\n",
      "log_best\n",
      "log_high\n",
      "log_low\n",
      "tce\n",
      "tsce\n"
     ]
    }
   ],
   "source": [
    "for i in bodies.columns:\n",
    "    print(i)"
   ]
  },
  {
   "cell_type": "code",
   "execution_count": 13,
   "metadata": {},
   "outputs": [],
   "source": [
    "import matplotlib.pyplot as plt\n",
    "\n",
    "world = gpd.read_file(gpd.datasets.get_path('naturalearth_lowres'))\n",
    "country_mask_world = ['Israel', 'Palestine', 'Jordan', 'Iraq', 'Syria', 'Turkey', 'Lebanon']\n",
    "sub_world = world[world['name'].isin(country_mask_world)].copy()\n",
    "\n",
    "\n",
    "gwno_list = [645., 652., 663., 666., 640., 660.]\n",
    "sub_prio_ucdp = prio_ucdp[(prio_ucdp['month_id'] == 480) & (prio_ucdp['gwno'].isin(gwno_list))]"
   ]
  },
  {
   "cell_type": "code",
   "execution_count": 14,
   "metadata": {},
   "outputs": [
    {
     "data": {
      "image/png": "[encoded data removed]",
      "text/plain": [
       "<Figure size 1440x864 with 1 Axes>"
      ]
     },
     "metadata": {
      "needs_background": "light"
     },
     "output_type": "display_data"
    }
   ],
   "source": [
    "#plt.figure(figsize = [14,8])\n",
    "fig, ax = plt.subplots(figsize = (20,12))\n",
    "ax.set_aspect('equal')\n",
    "\n",
    "plt.scatter(sub_prio_ucdp['xcoord'], sub_prio_ucdp['ycoord'], c = np.log(sub_prio_ucdp['best']+1), cmap = 'rainbow', marker = 's', s = 560)\n",
    "plt.scatter(bodies['longitude_full'].unique()[:-1], bodies['latitude_full'].unique()[:-1], color = 'black', marker = 'x', s = 235)\n",
    "sub_world.plot(facecolor='none', edgecolor='black', ax=ax)\n",
    "\n",
    "\n",
    "plt.show()"
   ]
  },
  {
   "cell_type": "markdown",
   "metadata": {},
   "source": [
    "# Why some features that might be interesting are not here:\n",
    "\n",
    "Fra Uppsala:\n",
    "\n",
    "- event_clarity \n",
    "- date_prec \n",
    "- type_of_violence\n",
    "\n",
    "Fra Prio\n",
    "\n"
   ]
  }
 ],
 "metadata": {
  "kernelspec": {
   "display_name": "Python 3.8.13 ('geo_env_2022')",
   "language": "python",
   "name": "python3"
  },
  "language_info": {
   "codemirror_mode": {
    "name": "ipython",
    "version": 3
   },
   "file_extension": ".py",
   "mimetype": "text/x-python",
   "name": "python",
   "nbconvert_exporter": "python",
   "pygments_lexer": "ipython3",
   "version": "3.8.13"
  },
  "orig_nbformat": 4,
  "vscode": {
   "interpreter": {
    "hash": "5129632b36db574984207cd0a6a7eba6bc5bd4272ef35f5fb4074faf0a719fbc"
   }
  }
 },
 "nbformat": 4,
 "nbformat_minor": 2
}

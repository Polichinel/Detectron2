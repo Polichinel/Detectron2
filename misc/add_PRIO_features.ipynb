{
 "cells": [
  {
   "cell_type": "code",
   "execution_count": 1,
   "metadata": {},
   "outputs": [],
   "source": [
    "import os\n",
    "import numpy as np\n",
    "import pandas as pd # original 1.2.3\n",
    "import geopandas as gpd\n",
    "from shapely.geometry import Point\n",
    "import pickle\n",
    "import urllib.request\n",
    "from scipy import interpolate\n",
    "import matplotlib.pyplot as plt"
   ]
  },
  {
   "cell_type": "code",
   "execution_count": 2,
   "metadata": {},
   "outputs": [],
   "source": [
    "data_dir = '/home/simon/Documents/Bodies/data/PRIO/'\n",
    "\n",
    "with open(f'{data_dir}prio_ucdp_full.pkl', 'rb') as file:\n",
    "    df = pickle.load(file)"
   ]
  },
  {
   "cell_type": "code",
   "execution_count": 3,
   "metadata": {},
   "outputs": [
    {
     "data": {
      "text/html": [
       "<div>\n",
       "<style scoped>\n",
       "    .dataframe tbody tr th:only-of-type {\n",
       "        vertical-align: middle;\n",
       "    }\n",
       "\n",
       "    .dataframe tbody tr th {\n",
       "        vertical-align: top;\n",
       "    }\n",
       "\n",
       "    .dataframe thead th {\n",
       "        text-align: right;\n",
       "    }\n",
       "</style>\n",
       "<table border=\"1\" class=\"dataframe\">\n",
       "  <thead>\n",
       "    <tr style=\"text-align: right;\">\n",
       "      <th></th>\n",
       "      <th>gid</th>\n",
       "      <th>xcoord</th>\n",
       "      <th>ycoord</th>\n",
       "      <th>col</th>\n",
       "      <th>row</th>\n",
       "      <th>year</th>\n",
       "      <th>gwno</th>\n",
       "      <th>month</th>\n",
       "      <th>year_months_start</th>\n",
       "      <th>month_id</th>\n",
       "      <th>...</th>\n",
       "      <th>pasture_ih_observed</th>\n",
       "      <th>petroleum_y_observed</th>\n",
       "      <th>pop_gpw_sd_observed</th>\n",
       "      <th>pop_gpw_sum_observed</th>\n",
       "      <th>prec_gpcp_observed</th>\n",
       "      <th>urban_ih_observed</th>\n",
       "      <th>cmr_mean</th>\n",
       "      <th>imr_mean</th>\n",
       "      <th>mountains_mean</th>\n",
       "      <th>ttime_mean</th>\n",
       "    </tr>\n",
       "  </thead>\n",
       "  <tbody>\n",
       "    <tr>\n",
       "      <th>0</th>\n",
       "      <td>239205</td>\n",
       "      <td>-97.75</td>\n",
       "      <td>76.25</td>\n",
       "      <td>165</td>\n",
       "      <td>333</td>\n",
       "      <td>1989</td>\n",
       "      <td>20.0</td>\n",
       "      <td>1</td>\n",
       "      <td>1989-01</td>\n",
       "      <td>109</td>\n",
       "      <td>...</td>\n",
       "      <td>False</td>\n",
       "      <td>False</td>\n",
       "      <td>False</td>\n",
       "      <td>False</td>\n",
       "      <td>True</td>\n",
       "      <td>False</td>\n",
       "      <td>0.0</td>\n",
       "      <td>99.0</td>\n",
       "      <td>0.000000</td>\n",
       "      <td>7253.5800</td>\n",
       "    </tr>\n",
       "    <tr>\n",
       "      <th>1</th>\n",
       "      <td>239205</td>\n",
       "      <td>-97.75</td>\n",
       "      <td>76.25</td>\n",
       "      <td>165</td>\n",
       "      <td>333</td>\n",
       "      <td>1989</td>\n",
       "      <td>20.0</td>\n",
       "      <td>2</td>\n",
       "      <td>1989-02</td>\n",
       "      <td>110</td>\n",
       "      <td>...</td>\n",
       "      <td>False</td>\n",
       "      <td>False</td>\n",
       "      <td>False</td>\n",
       "      <td>False</td>\n",
       "      <td>False</td>\n",
       "      <td>False</td>\n",
       "      <td>0.0</td>\n",
       "      <td>99.0</td>\n",
       "      <td>0.000000</td>\n",
       "      <td>7253.5800</td>\n",
       "    </tr>\n",
       "    <tr>\n",
       "      <th>2</th>\n",
       "      <td>239205</td>\n",
       "      <td>-97.75</td>\n",
       "      <td>76.25</td>\n",
       "      <td>165</td>\n",
       "      <td>333</td>\n",
       "      <td>1989</td>\n",
       "      <td>20.0</td>\n",
       "      <td>3</td>\n",
       "      <td>1989-03</td>\n",
       "      <td>111</td>\n",
       "      <td>...</td>\n",
       "      <td>False</td>\n",
       "      <td>False</td>\n",
       "      <td>False</td>\n",
       "      <td>False</td>\n",
       "      <td>False</td>\n",
       "      <td>False</td>\n",
       "      <td>0.0</td>\n",
       "      <td>99.0</td>\n",
       "      <td>0.000000</td>\n",
       "      <td>7253.5800</td>\n",
       "    </tr>\n",
       "    <tr>\n",
       "      <th>3</th>\n",
       "      <td>239205</td>\n",
       "      <td>-97.75</td>\n",
       "      <td>76.25</td>\n",
       "      <td>165</td>\n",
       "      <td>333</td>\n",
       "      <td>1989</td>\n",
       "      <td>20.0</td>\n",
       "      <td>4</td>\n",
       "      <td>1989-04</td>\n",
       "      <td>112</td>\n",
       "      <td>...</td>\n",
       "      <td>False</td>\n",
       "      <td>False</td>\n",
       "      <td>False</td>\n",
       "      <td>False</td>\n",
       "      <td>False</td>\n",
       "      <td>False</td>\n",
       "      <td>0.0</td>\n",
       "      <td>99.0</td>\n",
       "      <td>0.000000</td>\n",
       "      <td>7253.5800</td>\n",
       "    </tr>\n",
       "    <tr>\n",
       "      <th>4</th>\n",
       "      <td>239205</td>\n",
       "      <td>-97.75</td>\n",
       "      <td>76.25</td>\n",
       "      <td>165</td>\n",
       "      <td>333</td>\n",
       "      <td>1989</td>\n",
       "      <td>20.0</td>\n",
       "      <td>5</td>\n",
       "      <td>1989-05</td>\n",
       "      <td>113</td>\n",
       "      <td>...</td>\n",
       "      <td>False</td>\n",
       "      <td>False</td>\n",
       "      <td>False</td>\n",
       "      <td>False</td>\n",
       "      <td>False</td>\n",
       "      <td>False</td>\n",
       "      <td>0.0</td>\n",
       "      <td>99.0</td>\n",
       "      <td>0.000000</td>\n",
       "      <td>7253.5800</td>\n",
       "    </tr>\n",
       "    <tr>\n",
       "      <th>...</th>\n",
       "      <td>...</td>\n",
       "      <td>...</td>\n",
       "      <td>...</td>\n",
       "      <td>...</td>\n",
       "      <td>...</td>\n",
       "      <td>...</td>\n",
       "      <td>...</td>\n",
       "      <td>...</td>\n",
       "      <td>...</td>\n",
       "      <td>...</td>\n",
       "      <td>...</td>\n",
       "      <td>...</td>\n",
       "      <td>...</td>\n",
       "      <td>...</td>\n",
       "      <td>...</td>\n",
       "      <td>...</td>\n",
       "      <td>...</td>\n",
       "      <td>...</td>\n",
       "      <td>...</td>\n",
       "      <td>...</td>\n",
       "      <td>...</td>\n",
       "    </tr>\n",
       "    <tr>\n",
       "      <th>20223211</th>\n",
       "      <td>200297</td>\n",
       "      <td>-111.75</td>\n",
       "      <td>49.25</td>\n",
       "      <td>137</td>\n",
       "      <td>279</td>\n",
       "      <td>2014</td>\n",
       "      <td>20.0</td>\n",
       "      <td>8</td>\n",
       "      <td>2014-08</td>\n",
       "      <td>416</td>\n",
       "      <td>...</td>\n",
       "      <td>False</td>\n",
       "      <td>False</td>\n",
       "      <td>False</td>\n",
       "      <td>False</td>\n",
       "      <td>False</td>\n",
       "      <td>False</td>\n",
       "      <td>0.0</td>\n",
       "      <td>44.0</td>\n",
       "      <td>0.043333</td>\n",
       "      <td>154.7922</td>\n",
       "    </tr>\n",
       "    <tr>\n",
       "      <th>20223212</th>\n",
       "      <td>200297</td>\n",
       "      <td>-111.75</td>\n",
       "      <td>49.25</td>\n",
       "      <td>137</td>\n",
       "      <td>279</td>\n",
       "      <td>2014</td>\n",
       "      <td>20.0</td>\n",
       "      <td>9</td>\n",
       "      <td>2014-09</td>\n",
       "      <td>417</td>\n",
       "      <td>...</td>\n",
       "      <td>False</td>\n",
       "      <td>False</td>\n",
       "      <td>False</td>\n",
       "      <td>False</td>\n",
       "      <td>False</td>\n",
       "      <td>False</td>\n",
       "      <td>0.0</td>\n",
       "      <td>44.0</td>\n",
       "      <td>0.043333</td>\n",
       "      <td>154.7922</td>\n",
       "    </tr>\n",
       "    <tr>\n",
       "      <th>20223213</th>\n",
       "      <td>200297</td>\n",
       "      <td>-111.75</td>\n",
       "      <td>49.25</td>\n",
       "      <td>137</td>\n",
       "      <td>279</td>\n",
       "      <td>2014</td>\n",
       "      <td>20.0</td>\n",
       "      <td>10</td>\n",
       "      <td>2014-10</td>\n",
       "      <td>418</td>\n",
       "      <td>...</td>\n",
       "      <td>False</td>\n",
       "      <td>False</td>\n",
       "      <td>False</td>\n",
       "      <td>False</td>\n",
       "      <td>False</td>\n",
       "      <td>False</td>\n",
       "      <td>0.0</td>\n",
       "      <td>44.0</td>\n",
       "      <td>0.043333</td>\n",
       "      <td>154.7922</td>\n",
       "    </tr>\n",
       "    <tr>\n",
       "      <th>20223214</th>\n",
       "      <td>200297</td>\n",
       "      <td>-111.75</td>\n",
       "      <td>49.25</td>\n",
       "      <td>137</td>\n",
       "      <td>279</td>\n",
       "      <td>2014</td>\n",
       "      <td>20.0</td>\n",
       "      <td>11</td>\n",
       "      <td>2014-11</td>\n",
       "      <td>419</td>\n",
       "      <td>...</td>\n",
       "      <td>False</td>\n",
       "      <td>False</td>\n",
       "      <td>False</td>\n",
       "      <td>False</td>\n",
       "      <td>False</td>\n",
       "      <td>False</td>\n",
       "      <td>0.0</td>\n",
       "      <td>44.0</td>\n",
       "      <td>0.043333</td>\n",
       "      <td>154.7922</td>\n",
       "    </tr>\n",
       "    <tr>\n",
       "      <th>20223215</th>\n",
       "      <td>200297</td>\n",
       "      <td>-111.75</td>\n",
       "      <td>49.25</td>\n",
       "      <td>137</td>\n",
       "      <td>279</td>\n",
       "      <td>2014</td>\n",
       "      <td>20.0</td>\n",
       "      <td>12</td>\n",
       "      <td>2014-12</td>\n",
       "      <td>420</td>\n",
       "      <td>...</td>\n",
       "      <td>False</td>\n",
       "      <td>False</td>\n",
       "      <td>False</td>\n",
       "      <td>False</td>\n",
       "      <td>False</td>\n",
       "      <td>False</td>\n",
       "      <td>0.0</td>\n",
       "      <td>44.0</td>\n",
       "      <td>0.043333</td>\n",
       "      <td>154.7922</td>\n",
       "    </tr>\n",
       "  </tbody>\n",
       "</table>\n",
       "<p>20223216 rows × 56 columns</p>\n",
       "</div>"
      ],
      "text/plain": [
       "             gid  xcoord  ycoord  col  row  year  gwno  month  \\\n",
       "0         239205  -97.75   76.25  165  333  1989  20.0      1   \n",
       "1         239205  -97.75   76.25  165  333  1989  20.0      2   \n",
       "2         239205  -97.75   76.25  165  333  1989  20.0      3   \n",
       "3         239205  -97.75   76.25  165  333  1989  20.0      4   \n",
       "4         239205  -97.75   76.25  165  333  1989  20.0      5   \n",
       "...          ...     ...     ...  ...  ...   ...   ...    ...   \n",
       "20223211  200297 -111.75   49.25  137  279  2014  20.0      8   \n",
       "20223212  200297 -111.75   49.25  137  279  2014  20.0      9   \n",
       "20223213  200297 -111.75   49.25  137  279  2014  20.0     10   \n",
       "20223214  200297 -111.75   49.25  137  279  2014  20.0     11   \n",
       "20223215  200297 -111.75   49.25  137  279  2014  20.0     12   \n",
       "\n",
       "         year_months_start  month_id  ...  pasture_ih_observed  \\\n",
       "0                  1989-01       109  ...                False   \n",
       "1                  1989-02       110  ...                False   \n",
       "2                  1989-03       111  ...                False   \n",
       "3                  1989-04       112  ...                False   \n",
       "4                  1989-05       113  ...                False   \n",
       "...                    ...       ...  ...                  ...   \n",
       "20223211           2014-08       416  ...                False   \n",
       "20223212           2014-09       417  ...                False   \n",
       "20223213           2014-10       418  ...                False   \n",
       "20223214           2014-11       419  ...                False   \n",
       "20223215           2014-12       420  ...                False   \n",
       "\n",
       "          petroleum_y_observed  pop_gpw_sd_observed  pop_gpw_sum_observed  \\\n",
       "0                        False                False                 False   \n",
       "1                        False                False                 False   \n",
       "2                        False                False                 False   \n",
       "3                        False                False                 False   \n",
       "4                        False                False                 False   \n",
       "...                        ...                  ...                   ...   \n",
       "20223211                 False                False                 False   \n",
       "20223212                 False                False                 False   \n",
       "20223213                 False                False                 False   \n",
       "20223214                 False                False                 False   \n",
       "20223215                 False                False                 False   \n",
       "\n",
       "          prec_gpcp_observed  urban_ih_observed  cmr_mean  imr_mean  \\\n",
       "0                       True              False       0.0      99.0   \n",
       "1                      False              False       0.0      99.0   \n",
       "2                      False              False       0.0      99.0   \n",
       "3                      False              False       0.0      99.0   \n",
       "4                      False              False       0.0      99.0   \n",
       "...                      ...                ...       ...       ...   \n",
       "20223211               False              False       0.0      44.0   \n",
       "20223212               False              False       0.0      44.0   \n",
       "20223213               False              False       0.0      44.0   \n",
       "20223214               False              False       0.0      44.0   \n",
       "20223215               False              False       0.0      44.0   \n",
       "\n",
       "          mountains_mean  ttime_mean  \n",
       "0               0.000000   7253.5800  \n",
       "1               0.000000   7253.5800  \n",
       "2               0.000000   7253.5800  \n",
       "3               0.000000   7253.5800  \n",
       "4               0.000000   7253.5800  \n",
       "...                  ...         ...  \n",
       "20223211        0.043333    154.7922  \n",
       "20223212        0.043333    154.7922  \n",
       "20223213        0.043333    154.7922  \n",
       "20223214        0.043333    154.7922  \n",
       "20223215        0.043333    154.7922  \n",
       "\n",
       "[20223216 rows x 56 columns]"
      ]
     },
     "execution_count": 3,
     "metadata": {},
     "output_type": "execute_result"
    }
   ],
   "source": [
    "df"
   ]
  },
  {
   "cell_type": "code",
   "execution_count": null,
   "metadata": {},
   "outputs": [],
   "source": []
  },
  {
   "cell_type": "code",
   "execution_count": null,
   "metadata": {},
   "outputs": [],
   "source": []
  },
  {
   "cell_type": "code",
   "execution_count": null,
   "metadata": {},
   "outputs": [],
   "source": []
  },
  {
   "cell_type": "code",
   "execution_count": 2,
   "metadata": {},
   "outputs": [],
   "source": [
    "data_dir = '/home/simon/Documents/Bodies/data/OD_dataframes_compiled/'\n",
    "\n",
    "with open(f'{data_dir}df_ucdp_prio.pkl', 'rb') as file:\n",
    "    prio_ucdp = pickle.load(file)"
   ]
  },
  {
   "cell_type": "code",
   "execution_count": 3,
   "metadata": {},
   "outputs": [],
   "source": [
    "data_dir = '/home/simon/Documents/Bodies/data/PRIO'\n",
    "\n",
    "with open(f'{data_dir}/full_prio_interpl.pkl', 'rb') as file:\n",
    "    full_df = pickle.load(file)"
   ]
  },
  {
   "cell_type": "code",
   "execution_count": 14,
   "metadata": {},
   "outputs": [],
   "source": [
    "# correction for month_id\n",
    "offset = prio_ucdp['month_id'].min() -1\n",
    "full_df['month_id'] = full_df['month_id'] + offset\n",
    "\n",
    "# year cut of for ucdp and type correction\n",
    "prio_ucdp = prio_ucdp[prio_ucdp['year'] <= 2014]\n",
    "prio_ucdp['month_id'] = prio_ucdp['month_id'].astype(int)\n",
    "prio_ucdp['month'] = prio_ucdp['month'].astype(int)"
   ]
  },
  {
   "cell_type": "code",
   "execution_count": 15,
   "metadata": {},
   "outputs": [
    {
     "name": "stdout",
     "output_type": "stream",
     "text": [
      "(20223216, 20)\n",
      "(20223216, 44)\n",
      "ycoord\n",
      "-55.75\n",
      "83.25\n",
      "float64\n",
      "-55.75\n",
      "83.25\n",
      "float64\n",
      "\n",
      "\n",
      "gid\n",
      "49182\n",
      "249344\n",
      "int64\n",
      "49182\n",
      "249344\n",
      "int64\n",
      "\n",
      "\n",
      "row\n",
      "69\n",
      "347\n",
      "int64\n",
      "69\n",
      "347\n",
      "int64\n",
      "\n",
      "\n",
      "month_id\n",
      "109\n",
      "420\n",
      "int64\n",
      "325\n",
      "636\n",
      "int64\n",
      "\n",
      "\n",
      "col\n",
      "1\n",
      "720\n",
      "int64\n",
      "1\n",
      "720\n",
      "int64\n",
      "\n",
      "\n",
      "xcoord\n",
      "-179.75\n",
      "179.75\n",
      "float64\n",
      "-179.75\n",
      "179.75\n",
      "float64\n",
      "\n",
      "\n",
      "month\n",
      "1\n",
      "12\n",
      "int64\n",
      "1\n",
      "12\n",
      "int64\n",
      "\n",
      "\n",
      "year\n",
      "1989\n",
      "2014\n",
      "int64\n",
      "1989\n",
      "2014\n",
      "int64\n",
      "\n",
      "\n"
     ]
    }
   ],
   "source": [
    "merge_on = list(set.intersection(set(prio_ucdp.columns),set(full_df.columns)))\n",
    "\n",
    "#Check:\n",
    "print(prio_ucdp.shape)\n",
    "print(full_df.shape)\n",
    "\n",
    "for i in merge_on:\n",
    "    print(i)\n",
    "    print(prio_ucdp[i].min())\n",
    "    print(prio_ucdp[i].max())\n",
    "    print(prio_ucdp[i].dtype)\n",
    "\n",
    "    print(full_df[i].min())\n",
    "    print(full_df[i].max())\n",
    "    print(full_df[i].dtype)\n",
    "    print('\\n')\n",
    "\n"
   ]
  },
  {
   "cell_type": "code",
   "execution_count": 16,
   "metadata": {},
   "outputs": [
    {
     "ename": "",
     "evalue": "",
     "output_type": "error",
     "traceback": [
      "\u001b[1;31mCanceled future for execute_request message before replies were done"
     ]
    },
    {
     "ename": "",
     "evalue": "",
     "output_type": "error",
     "traceback": [
      "\u001b[1;31mThe Kernel crashed while executing code in the the current cell or a previous cell. Please review the code in the cell(s) to identify a possible cause of the failure. Click <a href='https://aka.ms/vscodeJupyterKernelCrash'>here</a> for more info. View Jupyter <a href='command:jupyter.viewOutput'>log</a> for further details."
     ]
    }
   ],
   "source": [
    "prio_ucdp_full = prio_ucdp.merge(full_df, on = merge_on, how='outer')"
   ]
  },
  {
   "cell_type": "code",
   "execution_count": null,
   "metadata": {},
   "outputs": [],
   "source": []
  },
  {
   "cell_type": "code",
   "execution_count": null,
   "metadata": {},
   "outputs": [],
   "source": []
  },
  {
   "cell_type": "code",
   "execution_count": null,
   "metadata": {},
   "outputs": [],
   "source": [
    "prio_ucdp[prio_ucdp['year'] <= 2014]['year'].shape"
   ]
  },
  {
   "cell_type": "code",
   "execution_count": null,
   "metadata": {},
   "outputs": [],
   "source": []
  },
  {
   "cell_type": "code",
   "execution_count": null,
   "metadata": {},
   "outputs": [],
   "source": [
    "yearly_df.columns"
   ]
  },
  {
   "cell_type": "code",
   "execution_count": null,
   "metadata": {},
   "outputs": [],
   "source": [
    "static_df.columns"
   ]
  },
  {
   "cell_type": "code",
   "execution_count": null,
   "metadata": {},
   "outputs": [],
   "source": [
    "full_df.columns"
   ]
  },
  {
   "cell_type": "markdown",
   "metadata": {},
   "source": [
    "# OLD"
   ]
  },
  {
   "cell_type": "code",
   "execution_count": null,
   "metadata": {},
   "outputs": [],
   "source": [
    "data_dir = '/home/simon/Documents/Bodies/data/PRIO'\n",
    "\n",
    "with open(f'{data_dir}/static_prio_interpl.pkl', 'rb') as file:\n",
    "    static_df = pickle.load(file)"
   ]
  },
  {
   "cell_type": "code",
   "execution_count": null,
   "metadata": {},
   "outputs": [],
   "source": []
  },
  {
   "cell_type": "code",
   "execution_count": null,
   "metadata": {},
   "outputs": [],
   "source": []
  },
  {
   "cell_type": "code",
   "execution_count": null,
   "metadata": {},
   "outputs": [],
   "source": []
  },
  {
   "cell_type": "code",
   "execution_count": null,
   "metadata": {},
   "outputs": [],
   "source": []
  },
  {
   "cell_type": "code",
   "execution_count": null,
   "metadata": {},
   "outputs": [],
   "source": []
  },
  {
   "cell_type": "code",
   "execution_count": null,
   "metadata": {},
   "outputs": [],
   "source": []
  },
  {
   "cell_type": "code",
   "execution_count": null,
   "metadata": {},
   "outputs": [],
   "source": [
    "# old:"
   ]
  },
  {
   "cell_type": "code",
   "execution_count": null,
   "metadata": {},
   "outputs": [],
   "source": [
    "data_dir = '/home/simon/Documents/Bodies/data/OD_dataframes_compiled/'\n",
    "\n",
    "with open(f'{data_dir}df_ucdp_prio.pkl', 'rb') as file:\n",
    "    prio_ucdp = pickle.load(file)"
   ]
  },
  {
   "cell_type": "code",
   "execution_count": null,
   "metadata": {},
   "outputs": [],
   "source": [
    "coords_long = prio_ucdp[['gid', 'xcoord', 'ycoord']].copy() # conveniet for plotting\n",
    "coords = coords_long.groupby('gid').mean()\n",
    "coords.reset_index(inplace = True)"
   ]
  },
  {
   "cell_type": "code",
   "execution_count": null,
   "metadata": {},
   "outputs": [],
   "source": [
    "# bdist3 capdist gcp_mer gcp_ppp excluded nlights_mean nlights_calib_mean \n",
    "# petroleum_y pop_gpw_sum pop_gpw_sd prec_gpcp urban_ih agri_ih pasture_ih\n",
    "# barren_ih irrig_sum imr_mean cmr_mean mountain_mean  ttime_mean\n",
    "\n",
    "location = '/home/simon/Documents/Bodies/data/PRIO'\n",
    "path_yearly = location + '/PRIO-GRID Yearly Variables for 1989-2014 - 2022-09-08.csv' #https://grid.prio.org/#/download \n",
    "path_static = location + '/PRIO-GRID Static Variables - 2022-09-08.csv' #https://grid.prio.org/#/download \n",
    "\n",
    "#yearly_df = pd.read_csv(path_yearly)\n",
    "#yearly_df = yearly_df.merge(coords, on='gid', how='left') # for plotting. faster to scatter then geopandas plot\n",
    "\n",
    "static_df = pd.read_csv(path_static) # already have coords. You could get them from here..\n",
    "#static_df = static_df.merge(coords, on='gid', how='left') # for plotting. faster to scatter then geopandas plot\n",
    "\n"
   ]
  },
  {
   "cell_type": "code",
   "execution_count": null,
   "metadata": {},
   "outputs": [],
   "source": [
    "data_dir = '/home/simon/Documents/Bodies/data/PRIO'\n",
    "\n",
    "with open(f'{data_dir}/yearly_prio_interpl.pkl', 'rb') as file:\n",
    "    yearly_df = pickle.load(file)"
   ]
  },
  {
   "cell_type": "code",
   "execution_count": null,
   "metadata": {},
   "outputs": [],
   "source": [
    "def explode_static(static_df, yearly_df):\n",
    "    \n",
    "    n_months = 12\n",
    "    years = sorted(yearly_df['year'].unique())\n",
    "    n_gid = yearly_df['gid'].unique().shape[0] # number of groups - could be from either static or yearly. Same\n",
    "    n_years = yearly_df['year'].unique().shape[0] # number of years\n",
    "\n",
    "    df = static_df.copy()\n",
    "\n",
    "    df['year'] = [years] * df.shape[0]\n",
    "    df['month'] = [list(np.arange(1, n_months+1))] * df.shape[0]\n",
    "\n",
    "    df = df.explode('year')\n",
    "    df = df.explode('month')\n",
    "\n",
    "    df.reset_index(inplace=True, drop= True)\n",
    "    \n",
    "    df['month_id'] = list(np.arange(1,n_years * n_months+1)) * n_gid \n",
    "\n",
    "    return(df)"
   ]
  },
  {
   "cell_type": "code",
   "execution_count": null,
   "metadata": {},
   "outputs": [],
   "source": [
    "static_df = explode_static(static_df, yearly_df)\n",
    "merge_on = list(set.intersection(set(yearly_df.columns), set(static_df.columns)))\n",
    "print(merge_on)"
   ]
  },
  {
   "cell_type": "code",
   "execution_count": null,
   "metadata": {},
   "outputs": [],
   "source": [
    "yearly_df = yearly_df.merge(static_df, on=merge_on, how='outer', copy = False)"
   ]
  },
  {
   "cell_type": "code",
   "execution_count": null,
   "metadata": {},
   "outputs": [],
   "source": []
  },
  {
   "cell_type": "code",
   "execution_count": null,
   "metadata": {},
   "outputs": [],
   "source": []
  },
  {
   "cell_type": "code",
   "execution_count": null,
   "metadata": {},
   "outputs": [],
   "source": [
    "full_df"
   ]
  },
  {
   "cell_type": "code",
   "execution_count": null,
   "metadata": {},
   "outputs": [],
   "source": [
    "data_dir = '/home/simon/Documents/Bodies/data/PRIO'\n",
    "full_df.to_pickle(f'{data_dir}/full_prio_interpl.pkl')\n",
    "static_df.to_pickle(f'{data_dir}/static_prio_interpl.pkl')"
   ]
  },
  {
   "cell_type": "code",
   "execution_count": null,
   "metadata": {},
   "outputs": [],
   "source": []
  },
  {
   "cell_type": "code",
   "execution_count": null,
   "metadata": {},
   "outputs": [],
   "source": []
  },
  {
   "cell_type": "code",
   "execution_count": null,
   "metadata": {},
   "outputs": [],
   "source": []
  },
  {
   "cell_type": "code",
   "execution_count": null,
   "metadata": {},
   "outputs": [],
   "source": []
  },
  {
   "cell_type": "code",
   "execution_count": null,
   "metadata": {},
   "outputs": [],
   "source": []
  },
  {
   "cell_type": "code",
   "execution_count": null,
   "metadata": {},
   "outputs": [],
   "source": []
  },
  {
   "cell_type": "code",
   "execution_count": null,
   "metadata": {},
   "outputs": [],
   "source": [
    "yearly_df"
   ]
  },
  {
   "cell_type": "code",
   "execution_count": null,
   "metadata": {},
   "outputs": [],
   "source": [
    "yearly_df.merge(df, on=['gid', 'year', 'month_id'])"
   ]
  },
  {
   "cell_type": "code",
   "execution_count": null,
   "metadata": {},
   "outputs": [],
   "source": [
    "yearly_df.columns"
   ]
  },
  {
   "cell_type": "code",
   "execution_count": null,
   "metadata": {},
   "outputs": [],
   "source": [
    "df.columns"
   ]
  },
  {
   "cell_type": "code",
   "execution_count": null,
   "metadata": {},
   "outputs": [],
   "source": [
    "set.intersection(set(yearly_df.columns), set(df.columns))"
   ]
  },
  {
   "cell_type": "code",
   "execution_count": null,
   "metadata": {},
   "outputs": [],
   "source": [
    "df = yearly_df.copy()"
   ]
  },
  {
   "cell_type": "code",
   "execution_count": null,
   "metadata": {},
   "outputs": [],
   "source": [
    "df.sort_values(['gid', 'year'], inplace=True)"
   ]
  },
  {
   "cell_type": "code",
   "execution_count": null,
   "metadata": {},
   "outputs": [],
   "source": [
    "def expl_interpl_extrapl(data, feature_list):\n",
    "    \n",
    "    n_months = 12\n",
    "    n_gid = data['gid'].unique().shape[0] # number of groups\n",
    "    n_years = data['year'].unique().shape[0] # number of years\n",
    "\n",
    "    # list of lists with temporal sub unites. eg. months\n",
    "    months = [list(np.arange(1, n_months+1))] * data.shape[0] # list of lists with temporal sub unites. eg. months\n",
    "\n",
    "    # append the colum\n",
    "    data['month'] = months \n",
    "\n",
    "    # explode the df in reference to the new col and drop the ond index\n",
    "    data = data.explode('month').reset_index(drop=True) \n",
    "\n",
    "    # we'll only keep the original values in the first tempoeal sub unit. Interpolate rest.\n",
    "    data.loc[data['month'] != 1, feature_list] = np.nan \n",
    "\n",
    "\n",
    "    # number of year x number of months. And then number of groups. +1 becaus Views month_id starts at 1\n",
    "    data['month_id'] = list(np.arange(1,n_years * n_months+1)) * n_gid \n",
    "\n",
    "    # to be used below\n",
    "    obs_features_list = []\n",
    "\n",
    "    for f in feature_list:\n",
    "        observed_col_name = f'{f}_observed'\n",
    "\n",
    "        # an identifier for the non-interpolated values\n",
    "        data[observed_col_name] = data.loc[:,f].notna() \n",
    "        obs_features_list.append(observed_col_name)\n",
    "\n",
    "    # interpolate and extrapolate\n",
    "    data = data.groupby('gid').apply(lambda x: x.interpolate(method='linear', axis = 0, limit_direction = 'both', fill_value='extrapolate'))\n",
    "\n",
    "\n",
    "    # clip at group observed min and max for each feature.\n",
    "    for f, o in list(zip(feature_list, obs_features_list)):\n",
    "        data[f] = data.groupby('gid').apply(lambda x: np.clip(x[f], x[x[o] == True][f].min(), x[x[o] == True][f].max())).reset_index(drop=True)\n",
    "\n",
    "    return(data)"
   ]
  },
  {
   "cell_type": "code",
   "execution_count": null,
   "metadata": {},
   "outputs": [],
   "source": [
    "feature_list = list(df.columns[2:-2])\n",
    "new_df = expl_interpl_extrapl(df, feature_list)"
   ]
  },
  {
   "cell_type": "code",
   "execution_count": null,
   "metadata": {},
   "outputs": [],
   "source": [
    "new_df.to_pickle('test_interpolate.pkl')"
   ]
  },
  {
   "cell_type": "code",
   "execution_count": null,
   "metadata": {},
   "outputs": [],
   "source": [
    "df_no_nan = new_df.copy()\n",
    "df_no_nan.fillna(0, inplace=True)"
   ]
  },
  {
   "cell_type": "code",
   "execution_count": null,
   "metadata": {},
   "outputs": [],
   "source": [
    "df_no_nan.to_pickle('/home/simon/Documents/Bodies/data/PRIO/yearly_prio_interpl.pkl')"
   ]
  },
  {
   "cell_type": "code",
   "execution_count": null,
   "metadata": {},
   "outputs": [],
   "source": [
    "df_no_nan['month_id'].unique() "
   ]
  },
  {
   "cell_type": "code",
   "execution_count": null,
   "metadata": {},
   "outputs": [],
   "source": [
    "def plot_maps(df):\n",
    "\n",
    "    map_dir = '/home/simon/Documents/Bodies/figures/maps/PRIO_timelaps/'\n",
    "\n",
    "    for feature in df.columns[2:3]:#[2:-20]:\n",
    "\n",
    "        feature_dir = os.path.join(map_dir, feature)\n",
    "        os.makedirs(feature_dir, exist_ok = True)\n",
    "\n",
    "        for month_id in df['month_id'].unique():\n",
    "\n",
    "            x = df.loc[new_df['month_id'] == month_id, 'xcoord'] \n",
    "            y = df.loc[new_df['month_id'] == month_id, 'ycoord'] \n",
    "            c = df.loc[new_df['month_id'] == month_id, feature] \n",
    "\n",
    "            plt.figure(figsize=[28,12])\n",
    "            plt.scatter(x, y, c = c, cmap = 'rainbow', marker = 's', s = 2, vmin= c.min(), vmax=c.max())\n",
    "        \n",
    "            fig_title = f'{feature}_{str(month_id).zfill(3)}'\n",
    "\n",
    "            plt.title(fig_title)\n",
    "            plt.savefig(feature_dir + '/' + fig_title + '.JPG', bbox_inches=\"tight\")\n",
    "            plt.cla() # idk if this is also needed..\n",
    "            plt.close('all') # so they do not display or take up mem\n"
   ]
  },
  {
   "cell_type": "code",
   "execution_count": null,
   "metadata": {},
   "outputs": [],
   "source": [
    "plot_maps(df_no_nan)"
   ]
  },
  {
   "cell_type": "code",
   "execution_count": null,
   "metadata": {},
   "outputs": [],
   "source": []
  },
  {
   "cell_type": "code",
   "execution_count": null,
   "metadata": {},
   "outputs": [],
   "source": []
  },
  {
   "cell_type": "code",
   "execution_count": null,
   "metadata": {},
   "outputs": [],
   "source": [
    "'1'.zfill(3)"
   ]
  },
  {
   "cell_type": "code",
   "execution_count": null,
   "metadata": {},
   "outputs": [],
   "source": [
    "feature = 'sks'\n",
    "month_id = 2\n",
    "print(f'{feature}_{str(month_id).zfill(3)}')"
   ]
  },
  {
   "cell_type": "code",
   "execution_count": null,
   "metadata": {},
   "outputs": [],
   "source": []
  },
  {
   "cell_type": "code",
   "execution_count": null,
   "metadata": {},
   "outputs": [],
   "source": []
  },
  {
   "cell_type": "code",
   "execution_count": null,
   "metadata": {},
   "outputs": [],
   "source": []
  },
  {
   "cell_type": "code",
   "execution_count": null,
   "metadata": {},
   "outputs": [],
   "source": []
  },
  {
   "cell_type": "code",
   "execution_count": null,
   "metadata": {},
   "outputs": [],
   "source": []
  },
  {
   "cell_type": "code",
   "execution_count": null,
   "metadata": {},
   "outputs": [],
   "source": []
  },
  {
   "cell_type": "code",
   "execution_count": null,
   "metadata": {},
   "outputs": [],
   "source": [
    "list(np.arange(1,10 * 12+1))"
   ]
  },
  {
   "cell_type": "code",
   "execution_count": null,
   "metadata": {},
   "outputs": [],
   "source": []
  },
  {
   "cell_type": "code",
   "execution_count": null,
   "metadata": {},
   "outputs": [],
   "source": []
  },
  {
   "cell_type": "code",
   "execution_count": null,
   "metadata": {},
   "outputs": [],
   "source": []
  },
  {
   "cell_type": "code",
   "execution_count": null,
   "metadata": {},
   "outputs": [],
   "source": []
  },
  {
   "cell_type": "code",
   "execution_count": null,
   "metadata": {},
   "outputs": [],
   "source": []
  },
  {
   "cell_type": "markdown",
   "metadata": {},
   "source": [
    "# OLD"
   ]
  },
  {
   "cell_type": "code",
   "execution_count": null,
   "metadata": {},
   "outputs": [],
   "source": [
    "# SEEMS TO WORK!!!\n",
    "df_interpolate = df.groupby('gid').apply(lambda x: x.interpolate(method='linear', axis = 0, limit_direction = 'both'))"
   ]
  },
  {
   "cell_type": "code",
   "execution_count": null,
   "metadata": {},
   "outputs": [],
   "source": [
    "df_interpolate"
   ]
  },
  {
   "cell_type": "markdown",
   "metadata": {},
   "source": [
    "- have a dumme of original values\n",
    "- plot samples to see.\n",
    "- se om du kan gører det til mdr. pandas explode..."
   ]
  },
  {
   "cell_type": "code",
   "execution_count": null,
   "metadata": {},
   "outputs": [],
   "source": []
  },
  {
   "cell_type": "code",
   "execution_count": null,
   "metadata": {},
   "outputs": [],
   "source": [
    "test_gid = 180640\n",
    "df_interpolate[df_interpolate['gid'] == test_gid]['agri_ih']"
   ]
  },
  {
   "cell_type": "code",
   "execution_count": null,
   "metadata": {},
   "outputs": [],
   "source": [
    "test_gid = 180640\n",
    "df[df['gid'] == test_gid]['agri_ih']"
   ]
  },
  {
   "cell_type": "code",
   "execution_count": null,
   "metadata": {},
   "outputs": [],
   "source": []
  },
  {
   "cell_type": "code",
   "execution_count": null,
   "metadata": {},
   "outputs": [],
   "source": [
    "# prof of concept"
   ]
  },
  {
   "cell_type": "code",
   "execution_count": null,
   "metadata": {},
   "outputs": [],
   "source": [
    "ex_test = pd.DataFrame({'value': [60,70,90,140,300,120], 'year' : [1990, 1991, 1992,1990, 1991, 1992], 'group' : [1,1,1,2,2,2]}) # some df ith vlaues, temporal unites and groups\n",
    "ex_test"
   ]
  },
  {
   "cell_type": "code",
   "execution_count": null,
   "metadata": {},
   "outputs": [],
   "source": [
    "q = [[1,2]] * ex_test.shape[0] # list of lists with temporal sub unites. eg. months\n",
    "ex_test['quarter'] = q # append the colum\n",
    "ex_test = ex_test.explode('quarter').reset_index(drop=True) # explode the df in reference to the new col and drop the ond index\n",
    "ex_test.loc[ex_test['quarter'] != 1, 'value'] = np.nan # we'll only keep the original values in the first tempoeal sub unit. Interpolate rest.\n",
    "ex_test\n"
   ]
  },
  {
   "cell_type": "code",
   "execution_count": null,
   "metadata": {},
   "outputs": [],
   "source": [
    "nt = ex_test['year'].unique().shape[0] * ex_test['quarter'].unique().shape[0] # number of time unites\n",
    "gn = ex_test['group'].unique().shape[0] # number of groups\n",
    "\n",
    "ex_test['t_id'] = list(range(nt)) * gn # uniq temporal idenitfier"
   ]
  },
  {
   "cell_type": "code",
   "execution_count": null,
   "metadata": {},
   "outputs": [],
   "source": [
    "ex_test"
   ]
  },
  {
   "cell_type": "code",
   "execution_count": null,
   "metadata": {},
   "outputs": [],
   "source": [
    "#ex_test = ex_test.groupby('group').apply(lambda x: x.interpolate(method='polynomial', order = 2, axis = 0, limit_direction = 'both'))\n",
    "\n",
    "#ex_test = ex_test.groupby('group').apply(lambda x: interpolate.interp1d(x, ex_test['t_id'].unique(), fill_value='extrapolate'))\n",
    "#f = interpolate.interp1d(x, ex_test['t_id'].unique(), fill_value='extrapolate')\n",
    "\n",
    "ex_test = ex_test.groupby('group').apply(lambda x: x.interpolate(method='linear', axis = 0, limit_direction = 'both', fill_value='extrapolate'))\n",
    "\n",
    "\n",
    "ex_test"
   ]
  },
  {
   "cell_type": "code",
   "execution_count": null,
   "metadata": {},
   "outputs": [],
   "source": [
    "for i in range(3):\n",
    "    plt.plot(ex_test.loc[ex_test['group'] == i, 't_id'], ex_test.loc[ex_test['group'] == i, 'value'])\n",
    "plt.show()"
   ]
  },
  {
   "cell_type": "code",
   "execution_count": null,
   "metadata": {},
   "outputs": [],
   "source": []
  },
  {
   "cell_type": "code",
   "execution_count": null,
   "metadata": {},
   "outputs": [],
   "source": [
    "df.groupby('gid').apply(lambda x: x.interpolate(method='linear', axis = 0, limit_direction = 'both'))"
   ]
  },
  {
   "cell_type": "code",
   "execution_count": null,
   "metadata": {},
   "outputs": [],
   "source": []
  },
  {
   "cell_type": "code",
   "execution_count": null,
   "metadata": {},
   "outputs": [],
   "source": []
  },
  {
   "cell_type": "code",
   "execution_count": null,
   "metadata": {},
   "outputs": [],
   "source": []
  },
  {
   "cell_type": "code",
   "execution_count": null,
   "metadata": {},
   "outputs": [],
   "source": []
  },
  {
   "cell_type": "code",
   "execution_count": null,
   "metadata": {},
   "outputs": [],
   "source": []
  },
  {
   "cell_type": "code",
   "execution_count": null,
   "metadata": {},
   "outputs": [],
   "source": []
  },
  {
   "cell_type": "code",
   "execution_count": null,
   "metadata": {},
   "outputs": [],
   "source": []
  },
  {
   "cell_type": "code",
   "execution_count": null,
   "metadata": {},
   "outputs": [],
   "source": []
  },
  {
   "cell_type": "code",
   "execution_count": null,
   "metadata": {},
   "outputs": [],
   "source": []
  },
  {
   "cell_type": "code",
   "execution_count": null,
   "metadata": {},
   "outputs": [],
   "source": []
  },
  {
   "cell_type": "code",
   "execution_count": null,
   "metadata": {},
   "outputs": [],
   "source": [
    "df = yearly_df.copy()\n",
    "df['year'] = pd.to_datetime(df['year'], format='%Y')\n",
    "df.index = df['year']\n",
    "df.sort_index(inplace= True)\n",
    "del df['year']"
   ]
  },
  {
   "cell_type": "code",
   "execution_count": null,
   "metadata": {},
   "outputs": [],
   "source": [
    "df"
   ]
  },
  {
   "cell_type": "code",
   "execution_count": null,
   "metadata": {},
   "outputs": [],
   "source": [
    "# df_interpol = df.groupby('gid').resample('Y').mean()\n",
    "#df_interpol = df.groupby('gid').apply(lambda x: x.interpolate(method='linear'))\n"
   ]
  },
  {
   "cell_type": "code",
   "execution_count": null,
   "metadata": {},
   "outputs": [],
   "source": [
    "df_interpol = df.groupby('gid').apply(lambda x: x.interpolate(method='linear', axis = 0))\n",
    "# df_interpol = df.groupby('gid').apply(lambda x: x.interpolate(method='linear', axis = 0)).bfill().ffill()\n"
   ]
  },
  {
   "cell_type": "code",
   "execution_count": null,
   "metadata": {},
   "outputs": [],
   "source": [
    "df_interpol.shape == df.shape"
   ]
  },
  {
   "cell_type": "code",
   "execution_count": null,
   "metadata": {},
   "outputs": [],
   "source": []
  },
  {
   "cell_type": "code",
   "execution_count": null,
   "metadata": {},
   "outputs": [],
   "source": [
    "dum = pd.DataFrame({'time': [1,2,3,4,5,1,2,3,4,5],'group': [1,1,1,1,1,2,2,2,2,2], 'value1': [np.nan,10,np.nan,20,np.nan,1,np.nan,np.nan,4,np.nan],'value2': [np.nan,100,np.nan,200,np.nan,10,np.nan,np.nan,40,np.nan]})\n",
    "dum"
   ]
  },
  {
   "cell_type": "code",
   "execution_count": null,
   "metadata": {},
   "outputs": [],
   "source": [
    "dum.groupby('group').apply(lambda x: x.interpolate(method='linear', axis = 0, limit_direction = 'both')) "
   ]
  },
  {
   "cell_type": "code",
   "execution_count": null,
   "metadata": {},
   "outputs": [],
   "source": []
  },
  {
   "cell_type": "code",
   "execution_count": null,
   "metadata": {},
   "outputs": [],
   "source": []
  },
  {
   "cell_type": "code",
   "execution_count": null,
   "metadata": {},
   "outputs": [],
   "source": []
  },
  {
   "cell_type": "code",
   "execution_count": null,
   "metadata": {},
   "outputs": [],
   "source": [
    "agri_ih = df.groupby('gid')['agri_ih'].apply(lambda x: x.interpolate(method='linear')) #.bfill()"
   ]
  },
  {
   "cell_type": "code",
   "execution_count": null,
   "metadata": {},
   "outputs": [],
   "source": [
    "test_gid = 180640\n",
    "df_interpol[df_interpol['gid'] == test_gid]['agri_ih'].sort_index()"
   ]
  },
  {
   "cell_type": "code",
   "execution_count": null,
   "metadata": {},
   "outputs": [],
   "source": [
    "test_gid = 180640\n",
    "df[df['gid'] == test_gid]['agri_ih'].sort_index()"
   ]
  },
  {
   "cell_type": "code",
   "execution_count": null,
   "metadata": {},
   "outputs": [],
   "source": [
    "#df_interpol_done = df_interpol.interpolate(method='linear', axis=0).copy()\n",
    "#df_interpol_done = df.interpolate(method='linear', axis=0).copy()\n",
    "df_interpol_done = df_interpol.ffill().bfill().copy()\n"
   ]
  },
  {
   "cell_type": "code",
   "execution_count": null,
   "metadata": {},
   "outputs": [],
   "source": [
    "test_gid = 180640\n",
    "df_interpol_done[df_interpol_done['gid'] == test_gid]['agri_ih'].sort_index()"
   ]
  },
  {
   "cell_type": "code",
   "execution_count": null,
   "metadata": {},
   "outputs": [],
   "source": [
    "test_gid = 180640\n",
    "df_interpol_done[df_interpol_done['gid'] == test_gid]['agri_ih'].sort_index()"
   ]
  },
  {
   "cell_type": "code",
   "execution_count": null,
   "metadata": {},
   "outputs": [],
   "source": [
    "test_gid = 180640\n",
    "df_interpolate[df_interpolate['gid'] == test_gid]['agri_ih']\n"
   ]
  },
  {
   "cell_type": "code",
   "execution_count": null,
   "metadata": {},
   "outputs": [],
   "source": [
    "df_interpol = df.groupby('gid').bfill()\n",
    "df_interpol['gid'] = df['gid']"
   ]
  },
  {
   "cell_type": "code",
   "execution_count": null,
   "metadata": {},
   "outputs": [],
   "source": []
  },
  {
   "cell_type": "code",
   "execution_count": null,
   "metadata": {},
   "outputs": [],
   "source": [
    "df_interpol_done = df_interpol.interpolate(method='linear', axis=0, limit_area = 'outside').copy()\n",
    "df_interpol_done.head(4)"
   ]
  },
  {
   "cell_type": "code",
   "execution_count": null,
   "metadata": {},
   "outputs": [],
   "source": []
  },
  {
   "cell_type": "code",
   "execution_count": null,
   "metadata": {},
   "outputs": [],
   "source": [
    "test_gid = 180640\n",
    "df_interpol[df_interpol['gid'] == test_gid]['agri_ih'].sort_index()"
   ]
  },
  {
   "cell_type": "code",
   "execution_count": null,
   "metadata": {},
   "outputs": [],
   "source": [
    "test_gid = 180640\n",
    "df_interpol_done[df_interpol_done['gid'] == test_gid]['agri_ih']"
   ]
  },
  {
   "cell_type": "code",
   "execution_count": null,
   "metadata": {},
   "outputs": [],
   "source": [
    "test_gid = 180640\n",
    "df_interpol_done[df_interpol_done['gid'] == test_gid]['agri_ih']"
   ]
  },
  {
   "cell_type": "code",
   "execution_count": null,
   "metadata": {},
   "outputs": [],
   "source": [
    "test_gid = 180640\n",
    "test_df = yearly_df.copy()\n",
    "test_df = test_df[test_df['gid'] == test_gid][['agri_ih', 'year']].sort_values('year').set_index('year')\n",
    "#test_df.interpolate(method='linear', axis=0, inplace=True)\n",
    "test_df"
   ]
  },
  {
   "cell_type": "code",
   "execution_count": null,
   "metadata": {},
   "outputs": [],
   "source": [
    "test_gid = 180640\n",
    "test_df = yearly_df.copy()\n",
    "test_df = test_df[test_df['gid'] == test_gid][['agri_ih', 'year']].sort_values('year').set_index('year')\n",
    "test_df.interpolate(method='linear', axis=0, inplace=True)\n",
    "test_df"
   ]
  },
  {
   "cell_type": "code",
   "execution_count": null,
   "metadata": {},
   "outputs": [],
   "source": []
  },
  {
   "cell_type": "code",
   "execution_count": null,
   "metadata": {},
   "outputs": [],
   "source": []
  },
  {
   "cell_type": "code",
   "execution_count": null,
   "metadata": {},
   "outputs": [],
   "source": []
  },
  {
   "cell_type": "code",
   "execution_count": null,
   "metadata": {},
   "outputs": [],
   "source": []
  },
  {
   "cell_type": "code",
   "execution_count": null,
   "metadata": {},
   "outputs": [],
   "source": []
  },
  {
   "cell_type": "code",
   "execution_count": null,
   "metadata": {},
   "outputs": [],
   "source": []
  },
  {
   "cell_type": "code",
   "execution_count": null,
   "metadata": {},
   "outputs": [],
   "source": []
  },
  {
   "cell_type": "code",
   "execution_count": null,
   "metadata": {},
   "outputs": [],
   "source": []
  },
  {
   "cell_type": "code",
   "execution_count": null,
   "metadata": {},
   "outputs": [],
   "source": [
    "yearly_df.head()"
   ]
  },
  {
   "cell_type": "code",
   "execution_count": null,
   "metadata": {},
   "outputs": [],
   "source": [
    "test_gid = 180640\n",
    "test_df = yearly_df[yearly_df['gid'] == test_gid][['agri_ih', 'year']].sort_values('year').set_index('year')\n",
    "test_df.interpolate(method='linear', axis=0, inplace=True)\n",
    "test_df"
   ]
  },
  {
   "cell_type": "code",
   "execution_count": null,
   "metadata": {},
   "outputs": [],
   "source": [
    "sub_yearly_df = yearly_df[yearly_df['year'] == 2000]\n",
    "\n",
    "for col in sub_yearly_df.columns:\n",
    "    print(col)\n",
    "    plt.figure(figsize=[28,12])\n",
    "    plt.scatter(sub_yearly_df['xcoord'], sub_yearly_df['ycoord'], c = sub_yearly_df[col], cmap = 'rainbow', marker = 's', s = 2)\n",
    "    plt.show()"
   ]
  },
  {
   "cell_type": "code",
   "execution_count": null,
   "metadata": {},
   "outputs": [],
   "source": []
  },
  {
   "cell_type": "code",
   "execution_count": null,
   "metadata": {},
   "outputs": [],
   "source": []
  },
  {
   "cell_type": "code",
   "execution_count": null,
   "metadata": {},
   "outputs": [],
   "source": []
  },
  {
   "cell_type": "code",
   "execution_count": null,
   "metadata": {},
   "outputs": [],
   "source": []
  },
  {
   "cell_type": "code",
   "execution_count": null,
   "metadata": {},
   "outputs": [],
   "source": []
  },
  {
   "cell_type": "code",
   "execution_count": null,
   "metadata": {},
   "outputs": [],
   "source": []
  },
  {
   "cell_type": "code",
   "execution_count": null,
   "metadata": {},
   "outputs": [],
   "source": []
  },
  {
   "cell_type": "code",
   "execution_count": null,
   "metadata": {},
   "outputs": [],
   "source": []
  },
  {
   "cell_type": "code",
   "execution_count": null,
   "metadata": {},
   "outputs": [],
   "source": []
  },
  {
   "cell_type": "code",
   "execution_count": null,
   "metadata": {},
   "outputs": [],
   "source": [
    "#plt.figure(figsize = [14,8])\n",
    "fig, ax = plt.subplots(figsize = (20,12))\n",
    "ax.set_aspect('equal')\n",
    "\n",
    "plt.scatter(sub_prio_ucdp['xcoord'], sub_prio_ucdp['ycoord'], c = np.log(sub_prio_ucdp['best']+1), cmap = 'rainbow', marker = 's', s = 560)\n",
    "plt.scatter(bodies['longitude_full'].unique()[:-1], bodies['latitude_full'].unique()[:-1], color = 'black', marker = 'x', s = 235)\n",
    "sub_world.plot(facecolor='none', edgecolor='black', ax=ax)\n",
    "\n",
    "\n",
    "plt.show()"
   ]
  },
  {
   "cell_type": "code",
   "execution_count": null,
   "metadata": {},
   "outputs": [],
   "source": []
  },
  {
   "cell_type": "code",
   "execution_count": null,
   "metadata": {},
   "outputs": [],
   "source": []
  },
  {
   "cell_type": "code",
   "execution_count": null,
   "metadata": {},
   "outputs": [],
   "source": [
    "yearly_df[yearly_df['year'] == 2000].info()"
   ]
  },
  {
   "cell_type": "code",
   "execution_count": null,
   "metadata": {},
   "outputs": [],
   "source": [
    "static_df.info()"
   ]
  },
  {
   "cell_type": "code",
   "execution_count": null,
   "metadata": {},
   "outputs": [],
   "source": []
  },
  {
   "cell_type": "code",
   "execution_count": null,
   "metadata": {},
   "outputs": [],
   "source": []
  },
  {
   "cell_type": "code",
   "execution_count": null,
   "metadata": {},
   "outputs": [],
   "source": []
  },
  {
   "cell_type": "code",
   "execution_count": null,
   "metadata": {},
   "outputs": [],
   "source": []
  },
  {
   "cell_type": "code",
   "execution_count": null,
   "metadata": {},
   "outputs": [],
   "source": []
  },
  {
   "cell_type": "code",
   "execution_count": null,
   "metadata": {},
   "outputs": [],
   "source": []
  },
  {
   "cell_type": "code",
   "execution_count": null,
   "metadata": {},
   "outputs": [],
   "source": [
    "def get_gwno():\n",
    "\n",
    "    location = '/home/simon/Documents/Bodies/data/PRIO'\n",
    "    path_gwno = location + '/PRIO-GRID Yearly Variables for 1989-2014 - 2022-06-16.csv' #https://grid.prio.org/#/download Simply contains the GW contry code and the meta.\n",
    "\n",
    "    # why not just go 1989 - 2019 like ucdp...\n",
    "\n",
    "    gwno = pd.read_csv(path_gwno)\n",
    "\n",
    "    return gwno"
   ]
  },
  {
   "cell_type": "code",
   "execution_count": null,
   "metadata": {},
   "outputs": [],
   "source": []
  },
  {
   "cell_type": "code",
   "execution_count": null,
   "metadata": {},
   "outputs": [],
   "source": []
  },
  {
   "cell_type": "code",
   "execution_count": null,
   "metadata": {},
   "outputs": [],
   "source": []
  },
  {
   "cell_type": "code",
   "execution_count": null,
   "metadata": {},
   "outputs": [],
   "source": []
  },
  {
   "cell_type": "code",
   "execution_count": null,
   "metadata": {},
   "outputs": [],
   "source": []
  },
  {
   "cell_type": "code",
   "execution_count": null,
   "metadata": {},
   "outputs": [],
   "source": []
  },
  {
   "cell_type": "code",
   "execution_count": null,
   "metadata": {},
   "outputs": [],
   "source": []
  },
  {
   "cell_type": "markdown",
   "metadata": {},
   "source": [
    "\n",
    "\n",
    "\n",
    " # Why some features that might be interesting are not here:\n",
    "\n",
    "Fra Uppsala:\n",
    "\n",
    "- event_clarity \n",
    "- date_prec \n",
    "- type_of_violence\n",
    "\n",
    "Fra Prio\n"
   ]
  },
  {
   "cell_type": "code",
   "execution_count": null,
   "metadata": {},
   "outputs": [],
   "source": []
  },
  {
   "cell_type": "code",
   "execution_count": null,
   "metadata": {},
   "outputs": [],
   "source": []
  },
  {
   "cell_type": "code",
   "execution_count": null,
   "metadata": {},
   "outputs": [],
   "source": []
  },
  {
   "cell_type": "code",
   "execution_count": null,
   "metadata": {},
   "outputs": [],
   "source": []
  },
  {
   "cell_type": "code",
   "execution_count": null,
   "metadata": {},
   "outputs": [],
   "source": []
  },
  {
   "cell_type": "code",
   "execution_count": null,
   "metadata": {},
   "outputs": [],
   "source": []
  },
  {
   "cell_type": "code",
   "execution_count": null,
   "metadata": {},
   "outputs": [],
   "source": [
    "data_dir = '/home/simon/Documents/Bodies/data/OD_dataframes_compiled/'\n",
    "\n",
    "with open(f'{data_dir}bodies_df_exposure.pkl', 'rb') as file:\n",
    "    df = pickle.load(file)"
   ]
  },
  {
   "cell_type": "code",
   "execution_count": null,
   "metadata": {},
   "outputs": [],
   "source": [
    "df"
   ]
  },
  {
   "cell_type": "code",
   "execution_count": null,
   "metadata": {},
   "outputs": [],
   "source": []
  },
  {
   "cell_type": "code",
   "execution_count": null,
   "metadata": {},
   "outputs": [],
   "source": []
  },
  {
   "cell_type": "code",
   "execution_count": null,
   "metadata": {},
   "outputs": [],
   "source": []
  },
  {
   "cell_type": "code",
   "execution_count": null,
   "metadata": {},
   "outputs": [],
   "source": []
  }
 ],
 "metadata": {
  "kernelspec": {
   "display_name": "Python 3.8.13 ('geo_env_2022')",
   "language": "python",
   "name": "python3"
  },
  "language_info": {
   "codemirror_mode": {
    "name": "ipython",
    "version": 3
   },
   "file_extension": ".py",
   "mimetype": "text/x-python",
   "name": "python",
   "nbconvert_exporter": "python",
   "pygments_lexer": "ipython3",
   "version": "3.8.13"
  },
  "orig_nbformat": 4,
  "vscode": {
   "interpreter": {
    "hash": "5129632b36db574984207cd0a6a7eba6bc5bd4272ef35f5fb4074faf0a719fbc"
   }
  }
 },
 "nbformat": 4,
 "nbformat_minor": 2
}

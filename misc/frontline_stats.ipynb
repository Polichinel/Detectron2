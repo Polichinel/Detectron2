{
 "cells": [
  {
   "cell_type": "code",
   "execution_count": 1,
   "metadata": {},
   "outputs": [],
   "source": [
    "import numpy as np\n",
    "import pandas as pd\n",
    "import pickle\n",
    "import statsmodels.api as sm\n",
    "from linearmodels.panel import PanelOLS\n",
    "from linearmodels.panel import compare\n",
    "\n",
    "import FixedEffectModelPyHDFE.api as FEM\n",
    "from fixedeffect.fe import fixedeffect, did, getfe\n",
    "\n",
    "from fixedeffect.fe import fixedeffect # for 3-way fixed https://pypi.org/project/FixedEffectModel/\n",
    "import matplotlib.pyplot as plt\n",
    "import matplotlib.lines as mlines\n",
    "import matplotlib\n",
    "\n",
    "import seaborn as sns\n",
    "\n",
    "matplotlib.rcParams['font.family'] = 'serif'"
   ]
  },
  {
   "cell_type": "code",
   "execution_count": 2,
   "metadata": {},
   "outputs": [],
   "source": [
    "data_dir = '/home/simon/Documents/Bodies/data/done_dfs/'\n",
    "\n",
    "with open(f'{data_dir}bodies_df_2022_v1_4.pkl', 'rb') as file:\n",
    "    bodies_df = pickle.load(file)"
   ]
  },
  {
   "cell_type": "code",
   "execution_count": 3,
   "metadata": {},
   "outputs": [],
   "source": [
    "# if you only want more robust observatino:\n",
    "\n",
    "bodies_df = bodies_df[(bodies_df['distance_days'] <= 48) | (bodies_df['location_annot'] == 1)].copy() # only locations you are certain of\n",
    "bodies_df = bodies_df[bodies_df['city'] != 'nan']\n",
    "\n",
    "bodies_df = bodies_df[bodies_df['year'] >= 2003]\n",
    "lwd = [294, 299, 300] # likely wrong dates/months. \n",
    "bodies_df = bodies_df[~bodies_df['month_id'].isin(lwd)].copy()\n",
    "\n",
    "# indtil det er styr på det her:\n",
    "bodies_df = bodies_df[bodies_df['publication'] != 'Published']"
   ]
  },
  {
   "cell_type": "code",
   "execution_count": 4,
   "metadata": {},
   "outputs": [],
   "source": [
    "#bodies_df[['Published', 'Raw', 'Submitted']] = pd.get_dummies(bodies_df[['publication']])\n",
    "bodies_df[['Raw', 'Submitted']] = pd.get_dummies(bodies_df[['publication']])\n",
    "\n",
    "bodies_df.drop(columns= 'publication', inplace= True)\n",
    "\n",
    "# for FE\n",
    "bodies_df.set_index(['gid', 'month_id'], inplace = True)"
   ]
  },
  {
   "cell_type": "code",
   "execution_count": 5,
   "metadata": {},
   "outputs": [],
   "source": [
    "bodies_df = bodies_df[bodies_df['person_mean']>0]\n",
    "\n",
    "bodies_df['lgarments'] = np.log(bodies_df['religiousGarmentFemale_mean'] + 1)\n",
    "bodies_df['lfemale'] = np.log(bodies_df['female_mean'] + 1)\n",
    "\n",
    "bodies_df['female_dummy'] = (bodies_df['female_mean'] > 0)*1\n",
    "bodies_df['garment_dummy'] = (bodies_df['religiousGarmentFemale_mean'] > 0)*1\n",
    "\n",
    "bodies_df['pp'] = bodies_df['public_mean'] - bodies_df['privat_mean']\n",
    "bodies_df['log_best_public'] = bodies_df['log_best'] * bodies_df['pp']\n",
    "\n",
    "\n",
    "# public_df = bodies_df[(bodies_df['pp']>0)&(bodies_df['person_mean']>0)]\n",
    "# privat_df = bodies_df[(bodies_df['pp']<0)&(bodies_df['person_mean']>0)]\n",
    "\n",
    "public_df = bodies_df[bodies_df['pp']>0]\n",
    "privat_df = bodies_df[bodies_df['pp']<0]"
   ]
  }
 ],
 "metadata": {
  "kernelspec": {
   "display_name": "Python 3.8.13 ('scikit_env')",
   "language": "python",
   "name": "python3"
  },
  "language_info": {
   "codemirror_mode": {
    "name": "ipython",
    "version": 3
   },
   "file_extension": ".py",
   "mimetype": "text/x-python",
   "name": "python",
   "nbconvert_exporter": "python",
   "pygments_lexer": "ipython3",
   "version": "3.8.13"
  },
  "orig_nbformat": 4,
  "vscode": {
   "interpreter": {
    "hash": "db0d53181fc69c22f9e4b058cea75697c61780ca1ed81bc2eb5bd14731b6f4bf"
   }
  }
 },
 "nbformat": 4,
 "nbformat_minor": 2
}

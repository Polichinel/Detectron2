{
 "cells": [
  {
   "cell_type": "markdown",
   "metadata": {},
   "source": [
    "# TODO\n",
    "\n",
    "- you need plots\n"
   ]
  },
  {
   "cell_type": "code",
   "execution_count": 1,
   "metadata": {},
   "outputs": [],
   "source": [
    "import numpy as np\n",
    "import pandas as pd\n",
    "import pickle\n",
    "import statsmodels.api as sm\n",
    "from linearmodels.panel import PanelOLS\n",
    "from linearmodels.panel import compare\n",
    "\n",
    "from fixedeffect.fe import fixedeffect # for 3-way fixed https://pypi.org/project/FixedEffectModel/\n",
    "import matplotlib.pyplot as plt\n",
    "import matplotlib.lines as mlines\n",
    "import matplotlib\n",
    "\n",
    "import seaborn as sns\n",
    "\n",
    "matplotlib.rcParams['font.family'] = 'serif'\n"
   ]
  },
  {
   "cell_type": "code",
   "execution_count": 2,
   "metadata": {},
   "outputs": [],
   "source": [
    "data_dir = '/home/simon/Documents/Bodies/data/done_dfs/'\n",
    "\n",
    "with open(f'{data_dir}bodies_df_2022_v1_4.pkl', 'rb') as file:\n",
    "    bodies_df = pickle.load(file)"
   ]
  },
  {
   "cell_type": "code",
   "execution_count": 3,
   "metadata": {},
   "outputs": [
    {
     "data": {
      "text/plain": [
       "(152188, 194)"
      ]
     },
     "execution_count": 3,
     "metadata": {},
     "output_type": "execute_result"
    }
   ],
   "source": [
    "bodies_df.shape"
   ]
  },
  {
   "cell_type": "code",
   "execution_count": 4,
   "metadata": {},
   "outputs": [],
   "source": [
    "# if you only want more robust observatino:\n",
    "\n",
    "bodies_df = bodies_df[(bodies_df['distance_days'] == 0) | (bodies_df['location_annot'] == 1)].copy() # only locations you are certain of\n",
    "bodies_df = bodies_df[bodies_df['city'] != 'nan']\n",
    "\n",
    "bodies_df = bodies_df[bodies_df['year'] >= 2003]\n",
    "lwd = [294, 299, 300] # likely wrong dates/months. \n",
    "bodies_df = bodies_df[~bodies_df['month_id'].isin(lwd)].copy()\n",
    "\n",
    "\n",
    "# indtil det er styr på det her:\n",
    "bodies_df = bodies_df[bodies_df['publication'] != 'Published']"
   ]
  },
  {
   "cell_type": "code",
   "execution_count": 5,
   "metadata": {},
   "outputs": [
    {
     "data": {
      "text/plain": [
       "(112343, 194)"
      ]
     },
     "execution_count": 5,
     "metadata": {},
     "output_type": "execute_result"
    }
   ],
   "source": [
    "bodies_df.shape"
   ]
  },
  {
   "cell_type": "code",
   "execution_count": 6,
   "metadata": {},
   "outputs": [],
   "source": [
    "#bodies_df[['Published', 'Raw', 'Submitted']] = pd.get_dummies(bodies_df[['publication']])\n",
    "bodies_df[['Raw', 'Submitted']] = pd.get_dummies(bodies_df[['publication']])\n",
    "\n",
    "bodies_df.drop(columns= 'publication', inplace= True)\n",
    "\n",
    "# for FE\n",
    "bodies_df.set_index(['gid', 'month_id'], inplace = True)\n",
    "#bodies_df.set_index(['city_id', 'month_id'], inplace = True)\n",
    "\n"
   ]
  },
  {
   "cell_type": "code",
   "execution_count": 7,
   "metadata": {},
   "outputs": [],
   "source": [
    "bodies_df['person_dummy'] = (bodies_df['person_mean'] > 0) * 1\n",
    "bodies_df['female_dummy'] = (bodies_df['female_mean']> 0) * 1\n",
    "bodies_df['male_dummy'] = (bodies_df['male_mean']> 0) * 1\n",
    "bodies_df['firearm_dummy'] = (bodies_df['firearm_mean']> 0) * 1\n",
    "\n",
    "bodies_df['firearm_log'] = np.log(bodies_df['firearm_mean'] + 1)\n",
    "bodies_df['female_log'] = np.log(bodies_df['female_mean'] + 1)\n",
    "\n",
    "\n",
    "bodies_df['emotions_mean'] = (bodies_df['emotions_t2_mean'] + bodies_df['emotions_t1_mean'])/2\n",
    "\n",
    "bodies_df['religiousGarmentFemale_dummy'] = (bodies_df['religiousGarmentFemale_mean'] > 0) * 1\n",
    "\n",
    "\n",
    "bodies_df['uniformed_dummy'] = (bodies_df['uniformed_mean'] > 0) * 1\n",
    "\n",
    "bodies_df['mass_protest_top'] = (bodies_df['mass_protest_mean'] >= 1) * 1"
   ]
  },
  {
   "cell_type": "markdown",
   "metadata": {},
   "source": [
    "\n",
    "### for plotting later"
   ]
  },
  {
   "cell_type": "code",
   "execution_count": 8,
   "metadata": {},
   "outputs": [],
   "source": [
    "results_dict = {}"
   ]
  },
  {
   "cell_type": "markdown",
   "metadata": {},
   "source": [
    "# NEW FTFP:"
   ]
  },
  {
   "cell_type": "code",
   "execution_count": 9,
   "metadata": {},
   "outputs": [
    {
     "name": "stdout",
     "output_type": "stream",
     "text": [
      "                                Model Comparison                               \n",
      "===============================================================================\n",
      "                               model1        model2        model3        model4\n",
      "-------------------------------------------------------------------------------\n",
      "Dep. Variable               Submitted     Submitted     Submitted     Submitted\n",
      "Estimator                    PanelOLS      PanelOLS      PanelOLS      PanelOLS\n",
      "No. Observations               112343        112343        112343        112343\n",
      "Cov. Est.                      Robust     Clustered     Clustered     Clustered\n",
      "R-squared                      0.0005        0.0008        0.0003        0.0008\n",
      "R-Squared (Within)             0.0008        0.0008        0.0007        0.0008\n",
      "R-Squared (Between)           -0.3958       -0.0079       -0.0050       -0.0085\n",
      "R-Squared (Overall)            0.0005       -0.0045       -0.0027       -0.0049\n",
      "F-statistic                    60.122        90.179        33.314        92.822\n",
      "P-value (F-stat)               0.0000        0.0000        0.0000        0.0000\n",
      "=====================     ===========   ===========   ===========   ===========\n",
      "const                       0.0422***                                          \n",
      "                             (0.0007)                                          \n",
      "mass_protest_mean           0.0170***     0.0209***        0.0134     0.0224***\n",
      "                             (0.0020)      (0.0045)      (0.0123)      (0.0030)\n",
      "======================= ============= ============= ============= =============\n",
      "Effects                                      Entity          Time        Entity\n",
      "                                                                           Time\n",
      "-------------------------------------------------------------------------------\n",
      "\n",
      "Std. Errors reported in parentheses\n"
     ]
    }
   ],
   "source": [
    "#feature = ['damaged_property_mean', 'rural_mean']\n",
    "\n",
    "feature = ['mass_protest_mean']\n",
    "\n",
    "target =  'Submitted' #'uniformed_dummy'\n",
    "\n",
    "\n",
    "X = bodies_df.loc[:,feature] \n",
    "X = sm.add_constant(X)\n",
    "y = bodies_df.loc[:, target]\n",
    "\n",
    "m = PanelOLS(dependent=y, exog=X, entity_effects=False, time_effects=False, drop_absorbed = True)\n",
    "model1 =  m.fit(cov_type='robust')\n",
    "\n",
    "X = bodies_df.loc[:,feature] \n",
    "#X = sm.add_constant(X)\n",
    "y = bodies_df.loc[:, target]\n",
    "\n",
    "m = PanelOLS(dependent=y, exog=X, entity_effects=True, time_effects=False, drop_absorbed = True)\n",
    "model2 =  m.fit(cov_type='clustered', cluster_entity=True)\n",
    "\n",
    "\n",
    "X = bodies_df.loc[:,feature] \n",
    "#X = sm.add_constant(X)\n",
    "y = bodies_df.loc[:, target]\n",
    "\n",
    "m = PanelOLS(dependent=y, exog=X, entity_effects=False, time_effects=True, drop_absorbed = True)\n",
    "model3 =  m.fit(cov_type='clustered', cluster_entity=False, cluster_time = True)\n",
    "\n",
    "\n",
    "X = bodies_df.loc[:,feature] \n",
    "#X = sm.add_constant(X)\n",
    "y = bodies_df.loc[:, target]\n",
    "\n",
    "m = PanelOLS(dependent=y, exog=X, entity_effects=True, time_effects=True, drop_absorbed = True)\n",
    "model4 =  m.fit(cov_type='clustered', cluster_entity=True,  cluster_time = True)\n",
    "\n",
    "\n",
    "print(compare({\"model1\": model1, \"model2\": model2, \"model3\": model3, \"model4\": model4}, precision = 'std_errors', stars = True))"
   ]
  },
  {
   "cell_type": "code",
   "execution_count": 10,
   "metadata": {},
   "outputs": [
    {
     "name": "stdout",
     "output_type": "stream",
     "text": [
      "                                 Model Comparison                                \n",
      "=================================================================================\n",
      "                                 model1        model2        model3        model4\n",
      "---------------------------------------------------------------------------------\n",
      "Dep. Variable                 Submitted     Submitted     Submitted     Submitted\n",
      "Estimator                      PanelOLS      PanelOLS      PanelOLS      PanelOLS\n",
      "No. Observations                 112343        112343        112343        112343\n",
      "Cov. Est.                        Robust     Clustered     Clustered     Clustered\n",
      "R-squared                        0.0006        0.0003        0.0003        0.0001\n",
      "R-Squared (Within)               0.0003        0.0003        0.0003        0.0003\n",
      "R-Squared (Between)             -0.3906        0.0050        0.0049        0.0029\n",
      "R-Squared (Overall)              0.0006        0.0035        0.0034        0.0021\n",
      "F-statistic                      67.760        38.591        34.918        11.786\n",
      "P-value (F-stat)                 0.0000        0.0000        0.0000        0.0006\n",
      "=======================     ===========   ===========   ===========   ===========\n",
      "const                         0.0383***                                          \n",
      "                               (0.0006)                                          \n",
      "damaged_property_mean         0.0083***      0.0064**      0.0063**        0.0037\n",
      "                               (0.0010)      (0.0025)      (0.0028)      (0.0023)\n",
      "========================= ============= ============= ============= =============\n",
      "Effects                                        Entity          Time        Entity\n",
      "                                                                             Time\n",
      "---------------------------------------------------------------------------------\n",
      "\n",
      "Std. Errors reported in parentheses\n"
     ]
    }
   ],
   "source": [
    "#feature = ['damaged_property_mean', 'rural_mean']\n",
    "\n",
    "feature = ['damaged_property_mean'] # but it is go with 'rural_mean'\n",
    "\n",
    "target =  'Submitted' #'uniformed_dummy'\n",
    "\n",
    "\n",
    "X = bodies_df.loc[:,feature] \n",
    "X = sm.add_constant(X)\n",
    "y = bodies_df.loc[:, target]\n",
    "\n",
    "m = PanelOLS(dependent=y, exog=X, entity_effects=False, time_effects=False, drop_absorbed = True)\n",
    "model1 =  m.fit(cov_type='robust')\n",
    "\n",
    "X = bodies_df.loc[:,feature] \n",
    "#X = sm.add_constant(X)\n",
    "y = bodies_df.loc[:, target]\n",
    "\n",
    "m = PanelOLS(dependent=y, exog=X, entity_effects=True, time_effects=False, drop_absorbed = True)\n",
    "model2 =  m.fit(cov_type='clustered', cluster_entity=True)\n",
    "\n",
    "\n",
    "X = bodies_df.loc[:,feature] \n",
    "#X = sm.add_constant(X)\n",
    "y = bodies_df.loc[:, target]\n",
    "\n",
    "m = PanelOLS(dependent=y, exog=X, entity_effects=False, time_effects=True, drop_absorbed = True)\n",
    "model3 =  m.fit(cov_type='clustered', cluster_entity=False, cluster_time = True)\n",
    "\n",
    "\n",
    "X = bodies_df.loc[:,feature] \n",
    "#X = sm.add_constant(X)\n",
    "y = bodies_df.loc[:, target]\n",
    "\n",
    "m = PanelOLS(dependent=y, exog=X, entity_effects=True, time_effects=True, drop_absorbed = True)\n",
    "model4 =  m.fit(cov_type='clustered', cluster_entity=True,  cluster_time = True)\n",
    "\n",
    "\n",
    "print(compare({\"model1\": model1, \"model2\": model2, \"model3\": model3, \"model4\": model4}, precision = 'std_errors', stars = True))"
   ]
  },
  {
   "cell_type": "code",
   "execution_count": 11,
   "metadata": {},
   "outputs": [
    {
     "name": "stdout",
     "output_type": "stream",
     "text": [
      "                                Model Comparison                               \n",
      "===============================================================================\n",
      "                               model1        model2        model3        model4\n",
      "-------------------------------------------------------------------------------\n",
      "Dep. Variable               Submitted     Submitted     Submitted     Submitted\n",
      "Estimator                    PanelOLS      PanelOLS      PanelOLS      PanelOLS\n",
      "No. Observations               112343        112343        112343        112343\n",
      "Cov. Est.                      Robust     Clustered     Clustered     Clustered\n",
      "R-squared                   4.962e-07     2.214e-06     1.573e-06     1.265e-07\n",
      "R-Squared (Within)           1.59e-06     2.214e-06     2.179e-06     9.629e-07\n",
      "R-Squared (Between)           -0.3933       -0.0005       -0.0004       -0.0001\n",
      "R-Squared (Overall)         4.962e-07       -0.0005       -0.0004       -0.0001\n",
      "F-statistic                    0.0557        0.2487        0.1766        0.0142\n",
      "P-value (F-stat)               0.8134        0.6180        0.6743        0.9052\n",
      "=====================     ===========   ===========   ===========   ===========\n",
      "const                       0.0404***                                          \n",
      "                             (0.0007)                                          \n",
      "uniformed_dummy               -0.0003       -0.0006       -0.0005       -0.0002\n",
      "                             (0.0012)      (0.0030)      (0.0032)      (0.0032)\n",
      "======================= ============= ============= ============= =============\n",
      "Effects                                      Entity          Time        Entity\n",
      "                                                                           Time\n",
      "-------------------------------------------------------------------------------\n",
      "\n",
      "Std. Errors reported in parentheses\n"
     ]
    }
   ],
   "source": [
    "#feature = ['damaged_property_mean', 'rural_mean']\n",
    "\n",
    "feature = ['uniformed_dummy'] # also not uniformed_mean\n",
    "\n",
    "target =  'Submitted' #'uniformed_dummy'\n",
    "\n",
    "\n",
    "X = bodies_df.loc[:,feature] \n",
    "X = sm.add_constant(X)\n",
    "y = bodies_df.loc[:, target]\n",
    "\n",
    "m = PanelOLS(dependent=y, exog=X, entity_effects=False, time_effects=False, drop_absorbed = True)\n",
    "model1 =  m.fit(cov_type='robust')\n",
    "\n",
    "X = bodies_df.loc[:,feature] \n",
    "#X = sm.add_constant(X)\n",
    "y = bodies_df.loc[:, target]\n",
    "\n",
    "m = PanelOLS(dependent=y, exog=X, entity_effects=True, time_effects=False, drop_absorbed = True)\n",
    "model2 =  m.fit(cov_type='clustered', cluster_entity=True)\n",
    "\n",
    "\n",
    "X = bodies_df.loc[:,feature] \n",
    "#X = sm.add_constant(X)\n",
    "y = bodies_df.loc[:, target]\n",
    "\n",
    "m = PanelOLS(dependent=y, exog=X, entity_effects=False, time_effects=True, drop_absorbed = True)\n",
    "model3 =  m.fit(cov_type='clustered', cluster_entity=False, cluster_time = True)\n",
    "\n",
    "\n",
    "X = bodies_df.loc[:,feature] \n",
    "#X = sm.add_constant(X)\n",
    "y = bodies_df.loc[:, target]\n",
    "\n",
    "m = PanelOLS(dependent=y, exog=X, entity_effects=True, time_effects=True, drop_absorbed = True)\n",
    "model4 =  m.fit(cov_type='clustered', cluster_entity=True,  cluster_time = True)\n",
    "\n",
    "\n",
    "print(compare({\"model1\": model1, \"model2\": model2, \"model3\": model3, \"model4\": model4}, precision = 'std_errors', stars = True))"
   ]
  },
  {
   "cell_type": "code",
   "execution_count": 12,
   "metadata": {},
   "outputs": [
    {
     "name": "stdout",
     "output_type": "stream",
     "text": [
      "                                Model Comparison                                \n",
      "================================================================================\n",
      "                                model1        model2        model3        model4\n",
      "--------------------------------------------------------------------------------\n",
      "Dep. Variable                Submitted     Submitted     Submitted     Submitted\n",
      "Estimator                     PanelOLS      PanelOLS      PanelOLS      PanelOLS\n",
      "No. Observations                112343        112343        112343        112343\n",
      "Cov. Est.                       Robust     Clustered     Clustered     Clustered\n",
      "R-squared                    1.688e-07     3.738e-05     1.081e-05        0.0001\n",
      "R-Squared (Within)          -5.086e-06     3.738e-05     3.049e-05     5.738e-06\n",
      "R-Squared (Between)            -0.3933       -0.0013       -0.0007       -0.0025\n",
      "R-Squared (Overall)          1.688e-07       -0.0010       -0.0006       -0.0020\n",
      "F-statistic                     0.0190        4.1983        1.2141        13.235\n",
      "P-value (F-stat)                0.8905        0.0405        0.2705        0.0003\n",
      "=====================     ============   ===========   ===========   ===========\n",
      "const                        0.0402***                                          \n",
      "                              (0.0006)                                          \n",
      "militarized_mean                0.0002       -0.0031       -0.0018       -0.0060\n",
      "                              (0.0015)      (0.0040)      (0.0062)      (0.0047)\n",
      "======================= ============== ============= ============= =============\n",
      "Effects                                       Entity          Time        Entity\n",
      "                                                                            Time\n",
      "--------------------------------------------------------------------------------\n",
      "\n",
      "Std. Errors reported in parentheses\n"
     ]
    }
   ],
   "source": [
    "#feature = ['damaged_property_mean', 'rural_mean']\n",
    "\n",
    "feature = ['militarized_mean'] # also not uniformed_mean\n",
    "\n",
    "target =  'Submitted' #'uniformed_dummy'\n",
    "\n",
    "\n",
    "X = bodies_df.loc[:,feature] \n",
    "X = sm.add_constant(X)\n",
    "y = bodies_df.loc[:, target]\n",
    "\n",
    "m = PanelOLS(dependent=y, exog=X, entity_effects=False, time_effects=False, drop_absorbed = True)\n",
    "model1 =  m.fit(cov_type='robust')\n",
    "\n",
    "X = bodies_df.loc[:,feature] \n",
    "#X = sm.add_constant(X)\n",
    "y = bodies_df.loc[:, target]\n",
    "\n",
    "m = PanelOLS(dependent=y, exog=X, entity_effects=True, time_effects=False, drop_absorbed = True)\n",
    "model2 =  m.fit(cov_type='clustered', cluster_entity=True)\n",
    "\n",
    "\n",
    "X = bodies_df.loc[:,feature] \n",
    "#X = sm.add_constant(X)\n",
    "y = bodies_df.loc[:, target]\n",
    "\n",
    "m = PanelOLS(dependent=y, exog=X, entity_effects=False, time_effects=True, drop_absorbed = True)\n",
    "model3 =  m.fit(cov_type='clustered', cluster_entity=False, cluster_time = True)\n",
    "\n",
    "\n",
    "X = bodies_df.loc[:,feature] \n",
    "#X = sm.add_constant(X)\n",
    "y = bodies_df.loc[:, target]\n",
    "\n",
    "m = PanelOLS(dependent=y, exog=X, entity_effects=True, time_effects=True, drop_absorbed = True)\n",
    "model4 =  m.fit(cov_type='clustered', cluster_entity=True,  cluster_time = True)\n",
    "\n",
    "\n",
    "print(compare({\"model1\": model1, \"model2\": model2, \"model3\": model3, \"model4\": model4}, precision = 'std_errors', stars = True))"
   ]
  },
  {
   "cell_type": "code",
   "execution_count": 13,
   "metadata": {},
   "outputs": [
    {
     "name": "stdout",
     "output_type": "stream",
     "text": [
      "                                Model Comparison                                \n",
      "================================================================================\n",
      "                                model1        model2        model3        model4\n",
      "--------------------------------------------------------------------------------\n",
      "Dep. Variable                Submitted     Submitted     Submitted     Submitted\n",
      "Estimator                     PanelOLS      PanelOLS      PanelOLS      PanelOLS\n",
      "No. Observations                112343        112343        112343        112343\n",
      "Cov. Est.                       Robust     Clustered     Clustered     Clustered\n",
      "R-squared                       0.0002        0.0006        0.0016     2.708e-05\n",
      "R-Squared (Within)             -0.0007        0.0006       -0.0067        0.0006\n",
      "R-Squared (Between)            -0.3778        0.0036       -0.0105        0.0038\n",
      "R-Squared (Overall)             0.0002        0.0190       -0.0914        0.0201\n",
      "F-statistic                     25.587        65.840        185.22        3.0406\n",
      "P-value (F-stat)                0.0000        0.0000        0.0000        0.0812\n",
      "=====================     ============   ===========   ===========   ===========\n",
      "const                        0.0460***                                          \n",
      "                              (0.0015)                                          \n",
      "log_best                    -0.0018***     0.0039***       -0.0099        0.0042\n",
      "                              (0.0004)      (0.0002)      (0.0080)      (0.0290)\n",
      "======================= ============== ============= ============= =============\n",
      "Effects                                       Entity          Time        Entity\n",
      "                                                                            Time\n",
      "--------------------------------------------------------------------------------\n",
      "\n",
      "Std. Errors reported in parentheses\n"
     ]
    }
   ],
   "source": [
    "#feature = ['damaged_property_mean', 'rural_mean']\n",
    "\n",
    "feature = ['log_best']\n",
    "\n",
    "target =  'Submitted' #'uniformed_dummy'\n",
    "\n",
    "\n",
    "X = bodies_df.loc[:,feature] \n",
    "X = sm.add_constant(X)\n",
    "y = bodies_df.loc[:, target]\n",
    "\n",
    "m = PanelOLS(dependent=y, exog=X, entity_effects=False, time_effects=False, drop_absorbed = True)\n",
    "model1 =  m.fit(cov_type='robust')\n",
    "\n",
    "X = bodies_df.loc[:,feature] \n",
    "#X = sm.add_constant(X)\n",
    "y = bodies_df.loc[:, target]\n",
    "\n",
    "m = PanelOLS(dependent=y, exog=X, entity_effects=True, time_effects=False, drop_absorbed = True)\n",
    "model2 =  m.fit(cov_type='clustered', cluster_entity=True)\n",
    "\n",
    "\n",
    "X = bodies_df.loc[:,feature] \n",
    "#X = sm.add_constant(X)\n",
    "y = bodies_df.loc[:, target]\n",
    "\n",
    "m = PanelOLS(dependent=y, exog=X, entity_effects=False, time_effects=True, drop_absorbed = True)\n",
    "model3 =  m.fit(cov_type='clustered', cluster_entity=False, cluster_time = True)\n",
    "\n",
    "\n",
    "X = bodies_df.loc[:,feature] \n",
    "#X = sm.add_constant(X)\n",
    "y = bodies_df.loc[:, target]\n",
    "\n",
    "m = PanelOLS(dependent=y, exog=X, entity_effects=True, time_effects=True, drop_absorbed = True)\n",
    "model4 =  m.fit(cov_type='clustered', cluster_entity=True,  cluster_time = True)\n",
    "\n",
    "\n",
    "print(compare({\"model1\": model1, \"model2\": model2, \"model3\": model3, \"model4\": model4}, precision = 'std_errors', stars = True))"
   ]
  },
  {
   "cell_type": "code",
   "execution_count": 14,
   "metadata": {},
   "outputs": [
    {
     "name": "stdout",
     "output_type": "stream",
     "text": [
      "                                Model Comparison                               \n",
      "===============================================================================\n",
      "                               model1        model2        model3        model4\n",
      "-------------------------------------------------------------------------------\n",
      "Dep. Variable               Submitted     Submitted     Submitted     Submitted\n",
      "Estimator                    PanelOLS      PanelOLS      PanelOLS      PanelOLS\n",
      "No. Observations               112343        112343        112343        112343\n",
      "Cov. Est.                      Robust     Clustered     Clustered     Clustered\n",
      "R-squared                      0.0002        0.0002     8.782e-05        0.0002\n",
      "R-Squared (Within)             0.0002        0.0002        0.0002        0.0002\n",
      "R-Squared (Between)           -0.3926        0.0026        0.0019        0.0026\n",
      "R-Squared (Overall)            0.0002        0.0020        0.0015        0.0020\n",
      "F-statistic                    18.079        18.940        9.8633        17.866\n",
      "P-value (F-stat)               0.0000        0.0000        0.0017        0.0000\n",
      "=====================     ===========   ===========   ===========   ===========\n",
      "const                       0.0394***                                          \n",
      "                             (0.0006)                                          \n",
      "firearm_dummy               0.0078***     0.0081***        0.0059     0.0079***\n",
      "                             (0.0020)      (0.0017)      (0.0049)      (0.0015)\n",
      "======================= ============= ============= ============= =============\n",
      "Effects                                      Entity          Time        Entity\n",
      "                                                                           Time\n",
      "-------------------------------------------------------------------------------\n",
      "\n",
      "Std. Errors reported in parentheses\n"
     ]
    }
   ],
   "source": [
    "#feature = ['damaged_property_mean', 'rural_mean']\n",
    "\n",
    "feature = ['firearm_dummy'] # firearm_mean is even better - propb not lienar but suggest taht up to some point more guns are better\n",
    "\n",
    "target =  'Submitted' #'uniformed_dummy'\n",
    "\n",
    "\n",
    "X = bodies_df.loc[:,feature] \n",
    "X = sm.add_constant(X)\n",
    "y = bodies_df.loc[:, target]\n",
    "\n",
    "m = PanelOLS(dependent=y, exog=X, entity_effects=False, time_effects=False, drop_absorbed = True)\n",
    "model1 =  m.fit(cov_type='robust')\n",
    "\n",
    "X = bodies_df.loc[:,feature] \n",
    "#X = sm.add_constant(X)\n",
    "y = bodies_df.loc[:, target]\n",
    "\n",
    "m = PanelOLS(dependent=y, exog=X, entity_effects=True, time_effects=False, drop_absorbed = True)\n",
    "model2 =  m.fit(cov_type='clustered', cluster_entity=True)\n",
    "\n",
    "\n",
    "X = bodies_df.loc[:,feature] \n",
    "#X = sm.add_constant(X)\n",
    "y = bodies_df.loc[:, target]\n",
    "\n",
    "m = PanelOLS(dependent=y, exog=X, entity_effects=False, time_effects=True, drop_absorbed = True)\n",
    "model3 =  m.fit(cov_type='clustered', cluster_entity=False, cluster_time = True)\n",
    "\n",
    "\n",
    "X = bodies_df.loc[:,feature] \n",
    "#X = sm.add_constant(X)\n",
    "y = bodies_df.loc[:, target]\n",
    "\n",
    "m = PanelOLS(dependent=y, exog=X, entity_effects=True, time_effects=True, drop_absorbed = True)\n",
    "model4 =  m.fit(cov_type='clustered', cluster_entity=True,  cluster_time = True)\n",
    "\n",
    "\n",
    "print(compare({\"model1\": model1, \"model2\": model2, \"model3\": model3, \"model4\": model4}, precision = 'std_errors', stars = True))"
   ]
  },
  {
   "cell_type": "code",
   "execution_count": 15,
   "metadata": {},
   "outputs": [
    {
     "name": "stdout",
     "output_type": "stream",
     "text": [
      "                                Model Comparison                                \n",
      "================================================================================\n",
      "                                model1        model2        model3        model4\n",
      "--------------------------------------------------------------------------------\n",
      "Dep. Variable                Submitted     Submitted     Submitted     Submitted\n",
      "Estimator                     PanelOLS      PanelOLS      PanelOLS      PanelOLS\n",
      "No. Observations                112343        112343        112343        112343\n",
      "Cov. Est.                       Robust     Clustered     Clustered     Clustered\n",
      "R-squared                    2.023e-06     3.368e-05     9.369e-06        0.0001\n",
      "R-Squared (Within)          -1.838e-05     3.368e-05     2.641e-05     1.319e-05\n",
      "R-Squared (Between)            -0.3932        0.0014        0.0008        0.0025\n",
      "R-Squared (Overall)          2.023e-06        0.0015        0.0008        0.0025\n",
      "F-statistic                     0.2273        3.7830        1.0523        11.586\n",
      "P-value (F-stat)                0.6336        0.0518        0.3050        0.0007\n",
      "=====================     ============   ===========   ===========   ===========\n",
      "const                        0.0404***                                          \n",
      "                              (0.0007)                                          \n",
      "female_mean                    -0.0003      0.0013**        0.0007     0.0023***\n",
      "                              (0.0007)      (0.0005)      (0.0018)      (0.0005)\n",
      "======================= ============== ============= ============= =============\n",
      "Effects                                       Entity          Time        Entity\n",
      "                                                                            Time\n",
      "--------------------------------------------------------------------------------\n",
      "\n",
      "Std. Errors reported in parentheses\n"
     ]
    }
   ],
   "source": [
    "#feature = ['damaged_property_mean', 'rural_mean']\n",
    "\n",
    "feature = ['female_mean']\n",
    "\n",
    "target =  'Submitted' #'uniformed_dummy'\n",
    "\n",
    "\n",
    "X = bodies_df.loc[:,feature] \n",
    "X = sm.add_constant(X)\n",
    "y = bodies_df.loc[:, target]\n",
    "\n",
    "m = PanelOLS(dependent=y, exog=X, entity_effects=False, time_effects=False, drop_absorbed = True)\n",
    "model1 =  m.fit(cov_type='robust')\n",
    "\n",
    "X = bodies_df.loc[:,feature] \n",
    "#X = sm.add_constant(X)\n",
    "y = bodies_df.loc[:, target]\n",
    "\n",
    "m = PanelOLS(dependent=y, exog=X, entity_effects=True, time_effects=False, drop_absorbed = True)\n",
    "model2 =  m.fit(cov_type='clustered', cluster_entity=True)\n",
    "\n",
    "\n",
    "X = bodies_df.loc[:,feature] \n",
    "#X = sm.add_constant(X)\n",
    "y = bodies_df.loc[:, target]\n",
    "\n",
    "m = PanelOLS(dependent=y, exog=X, entity_effects=False, time_effects=True, drop_absorbed = True)\n",
    "model3 =  m.fit(cov_type='clustered', cluster_entity=False, cluster_time = True)\n",
    "\n",
    "\n",
    "X = bodies_df.loc[:,feature] \n",
    "#X = sm.add_constant(X)\n",
    "y = bodies_df.loc[:, target]\n",
    "\n",
    "m = PanelOLS(dependent=y, exog=X, entity_effects=True, time_effects=True, drop_absorbed = True)\n",
    "model4 =  m.fit(cov_type='clustered', cluster_entity=True,  cluster_time = True)\n",
    "\n",
    "\n",
    "print(compare({\"model1\": model1, \"model2\": model2, \"model3\": model3, \"model4\": model4}, precision = 'std_errors', stars = True))"
   ]
  },
  {
   "cell_type": "code",
   "execution_count": 16,
   "metadata": {},
   "outputs": [
    {
     "name": "stdout",
     "output_type": "stream",
     "text": [
      "                                     Model Comparison                                    \n",
      "=========================================================================================\n",
      "                                         model1        model2        model3        model4\n",
      "-----------------------------------------------------------------------------------------\n",
      "Dep. Variable                         Submitted     Submitted     Submitted     Submitted\n",
      "Estimator                              PanelOLS      PanelOLS      PanelOLS      PanelOLS\n",
      "No. Observations                         112343        112343        112343        112343\n",
      "Cov. Est.                                Robust     Clustered     Clustered     Clustered\n",
      "R-squared                             8.029e-08     2.368e-05     7.155e-06     5.793e-05\n",
      "R-Squared (Within)                   -2.848e-06     2.368e-05     1.898e-05     1.598e-05\n",
      "R-Squared (Between)                     -0.3933        0.0010        0.0005        0.0015\n",
      "R-Squared (Overall)                   8.029e-08        0.0008        0.0004        0.0012\n",
      "F-statistic                              0.0090        2.6601        0.8036        6.5047\n",
      "P-value (F-stat)                         0.9243        0.1029        0.3700        0.0108\n",
      "==============================     ============   ===========   ===========   ===========\n",
      "const                                 0.0403***                                          \n",
      "                                       (0.0006)                                          \n",
      "religiousGarmentFemale_dummy            -0.0002      0.0026**        0.0015     0.0041***\n",
      "                                       (0.0016)      (0.0012)      (0.0024)      (0.0006)\n",
      "================================ ============== ============= ============= =============\n",
      "Effects                                                Entity          Time        Entity\n",
      "                                                                                     Time\n",
      "-----------------------------------------------------------------------------------------\n",
      "\n",
      "Std. Errors reported in parentheses\n"
     ]
    }
   ],
   "source": [
    "feature = ['religiousGarmentFemale_dummy']\n",
    "\n",
    "target =  'Submitted' #'uniformed_dummy'\n",
    "\n",
    "\n",
    "X = bodies_df.loc[:,feature] \n",
    "X = sm.add_constant(X)\n",
    "y = bodies_df.loc[:, target]\n",
    "\n",
    "m = PanelOLS(dependent=y, exog=X, entity_effects=False, time_effects=False, drop_absorbed = True)\n",
    "model1 =  m.fit(cov_type='robust')\n",
    "\n",
    "X = bodies_df.loc[:,feature] \n",
    "#X = sm.add_constant(X)\n",
    "y = bodies_df.loc[:, target]\n",
    "\n",
    "m = PanelOLS(dependent=y, exog=X, entity_effects=True, time_effects=False, drop_absorbed = True)\n",
    "model2 =  m.fit(cov_type='clustered', cluster_entity=True)\n",
    "\n",
    "\n",
    "X = bodies_df.loc[:,feature] \n",
    "#X = sm.add_constant(X)\n",
    "y = bodies_df.loc[:, target]\n",
    "\n",
    "m = PanelOLS(dependent=y, exog=X, entity_effects=False, time_effects=True, drop_absorbed = True)\n",
    "model3 =  m.fit(cov_type='clustered', cluster_entity=False, cluster_time = True)\n",
    "\n",
    "\n",
    "X = bodies_df.loc[:,feature] \n",
    "#X = sm.add_constant(X)\n",
    "y = bodies_df.loc[:, target]\n",
    "\n",
    "m = PanelOLS(dependent=y, exog=X, entity_effects=True, time_effects=True, drop_absorbed = True)\n",
    "model4 =  m.fit(cov_type='clustered', cluster_entity=True,  cluster_time = True)\n",
    "\n",
    "\n",
    "print(compare({\"model1\": model1, \"model2\": model2, \"model3\": model3, \"model4\": model4}, precision = 'std_errors', stars = True))"
   ]
  },
  {
   "cell_type": "code",
   "execution_count": 17,
   "metadata": {},
   "outputs": [
    {
     "name": "stdout",
     "output_type": "stream",
     "text": [
      "                                     Model Comparison                                    \n",
      "=========================================================================================\n",
      "                                         model1        model2        model3        model4\n",
      "-----------------------------------------------------------------------------------------\n",
      "Dep. Variable                         Submitted     Submitted     Submitted     Submitted\n",
      "Estimator                              PanelOLS      PanelOLS      PanelOLS      PanelOLS\n",
      "No. Observations                         112343        112343        112343        112343\n",
      "Cov. Est.                                Robust     Clustered     Clustered     Clustered\n",
      "R-squared                             8.029e-08     2.368e-05     7.155e-06     5.793e-05\n",
      "R-Squared (Within)                   -2.848e-06     2.368e-05     1.898e-05     1.598e-05\n",
      "R-Squared (Between)                     -0.3933        0.0010        0.0005        0.0015\n",
      "R-Squared (Overall)                   8.029e-08        0.0008        0.0004        0.0012\n",
      "F-statistic                              0.0090        2.6601        0.8036        6.5047\n",
      "P-value (F-stat)                         0.9243        0.1029        0.3700        0.0108\n",
      "==============================     ============   ===========   ===========   ===========\n",
      "const                                 0.0403***                                          \n",
      "                                       (0.0006)                                          \n",
      "religiousGarmentFemale_dummy            -0.0002      0.0026**        0.0015     0.0041***\n",
      "                                       (0.0016)      (0.0012)      (0.0024)      (0.0006)\n",
      "================================ ============== ============= ============= =============\n",
      "Effects                                                Entity          Time        Entity\n",
      "                                                                                     Time\n",
      "-----------------------------------------------------------------------------------------\n",
      "\n",
      "Std. Errors reported in parentheses\n"
     ]
    }
   ],
   "source": [
    "feature = ['religiousGarmentFemale_dummy']\n",
    "\n",
    "target =  'Submitted' #'uniformed_dummy'\n",
    "\n",
    "\n",
    "X = bodies_df.loc[:,feature] \n",
    "X = sm.add_constant(X)\n",
    "y = bodies_df.loc[:, target]\n",
    "\n",
    "m = PanelOLS(dependent=y, exog=X, entity_effects=False, time_effects=False, drop_absorbed = True)\n",
    "model1 =  m.fit(cov_type='robust')\n",
    "\n",
    "X = bodies_df.loc[:,feature] \n",
    "#X = sm.add_constant(X)\n",
    "y = bodies_df.loc[:, target]\n",
    "\n",
    "m = PanelOLS(dependent=y, exog=X, entity_effects=True, time_effects=False, drop_absorbed = True)\n",
    "model2 =  m.fit(cov_type='clustered', cluster_entity=True)\n",
    "\n",
    "\n",
    "X = bodies_df.loc[:,feature] \n",
    "#X = sm.add_constant(X)\n",
    "y = bodies_df.loc[:, target]\n",
    "\n",
    "m = PanelOLS(dependent=y, exog=X, entity_effects=False, time_effects=True, drop_absorbed = True)\n",
    "model3 =  m.fit(cov_type='clustered', cluster_entity=False, cluster_time = True)\n",
    "\n",
    "\n",
    "X = bodies_df.loc[:,feature] \n",
    "#X = sm.add_constant(X)\n",
    "y = bodies_df.loc[:, target]\n",
    "\n",
    "m = PanelOLS(dependent=y, exog=X, entity_effects=True, time_effects=True, drop_absorbed = True)\n",
    "model4 =  m.fit(cov_type='clustered', cluster_entity=True,  cluster_time = True)\n",
    "\n",
    "\n",
    "print(compare({\"model1\": model1, \"model2\": model2, \"model3\": model3, \"model4\": model4}, precision = 'std_errors', stars = True))"
   ]
  },
  {
   "cell_type": "markdown",
   "metadata": {},
   "source": [
    "## initial conclution:\n",
    "\n",
    "Sanitiszing war:\n",
    "- Nothing from log_best\n",
    "- Nothing from uniformes\n",
    "- militarized Nothing from \n",
    "- Something from protest\n",
    "- Something from destroyed property - when controling for rural\n",
    "- Something from fiarm\n",
    "\n",
    "\n",
    "# Gender\n",
    "- Somthing from Garments\n",
    "- Something from female\n"
   ]
  },
  {
   "cell_type": "markdown",
   "metadata": {},
   "source": [
    "### Sanitizing war:"
   ]
  },
  {
   "cell_type": "markdown",
   "metadata": {},
   "source": [
    "### Log_best"
   ]
  },
  {
   "cell_type": "code",
   "execution_count": 18,
   "metadata": {},
   "outputs": [
    {
     "name": "stdout",
     "output_type": "stream",
     "text": [
      "                                               Model Comparison                                              \n",
      "=============================================================================================================\n",
      "                                 model1        model2        model3        model4        model5        model6\n",
      "-------------------------------------------------------------------------------------------------------------\n",
      "Dep. Variable                 Submitted     Submitted     Submitted     Submitted     Submitted     Submitted\n",
      "Estimator                      PanelOLS      PanelOLS      PanelOLS      PanelOLS      PanelOLS      PanelOLS\n",
      "No. Observations                 112343        112343        112343        112343        112343        112343\n",
      "Cov. Est.                     Clustered     Clustered     Clustered     Clustered     Clustered     Clustered\n",
      "R-squared                     2.708e-05        0.0009        0.0009        0.0009        0.0011        0.0015\n",
      "R-Squared (Within)               0.0006        0.0012        0.0013        0.0014        0.0016       -0.0517\n",
      "R-Squared (Between)              0.0038       -0.0048       -0.0035       -0.0044       -0.0037        0.1906\n",
      "R-Squared (Overall)              0.0201        0.0158        0.0163        0.0159        0.0161       -3.8584\n",
      "F-statistic                      3.0406        47.766        32.305        25.044        23.994        27.545\n",
      "P-value (F-stat)                 0.0812        0.0000        0.0000        0.0000        0.0000        0.0000\n",
      "=======================     ===========   ===========   ===========   ===========   ===========   ===========\n",
      "log_best                         0.0042        0.0040        0.0039        0.0040        0.0039        0.0047\n",
      "                               (0.0290)      (0.0294)      (0.0293)      (0.0293)      (0.0294)      (0.0334)\n",
      "mass_protest_mean                           0.0224***     0.0217***     0.0223***     0.0219***     0.0212***\n",
      "                                             (0.0030)      (0.0046)      (0.0039)      (0.0040)      (0.0042)\n",
      "damaged_property_mean                                        0.0013        0.0018        0.0019        0.0017\n",
      "                                                           (0.0027)      (0.0038)      (0.0038)      (0.0038)\n",
      "uniformed_mean                                                            -0.0015       -0.0032       -0.0033\n",
      "                                                                         (0.0038)      (0.0043)      (0.0041)\n",
      "firearm_mean                                                                           0.0105**      0.0105**\n",
      "                                                                                       (0.0045)      (0.0045)\n",
      "nlights_calib_mean                                                                                     1.1366\n",
      "                                                                                                     (2.6668)\n",
      "========================= ============= ============= ============= ============= ============= =============\n",
      "Effects                          Entity        Entity        Entity        Entity        Entity        Entity\n",
      "                                   Time          Time          Time          Time          Time          Time\n",
      "-------------------------------------------------------------------------------------------------------------\n",
      "\n",
      "Std. Errors reported in parentheses\n"
     ]
    }
   ],
   "source": [
    "\n",
    "X = bodies_df.loc[:,['log_best']] \n",
    "#X = sm.add_constant(X)\n",
    "y = bodies_df.loc[:, 'Submitted']\n",
    "\n",
    "m = PanelOLS(dependent=y, exog=X, entity_effects=True, time_effects=True)\n",
    "model1 = m.fit(cov_type='clustered', cluster_time=True, cluster_entity=True)\n",
    "\n",
    "X = bodies_df.loc[:,[ 'log_best', 'mass_protest_mean']] \n",
    "#X = sm.add_constant(X)\n",
    "\n",
    "y = bodies_df.loc[:, 'Submitted']\n",
    "\n",
    "m = PanelOLS(dependent=y, exog=X, entity_effects=True, time_effects=True)\n",
    "model2 = m.fit(cov_type='clustered', cluster_time=True, cluster_entity=True)\n",
    "\n",
    "X = bodies_df.loc[:,[ 'log_best', 'mass_protest_mean', 'damaged_property_mean']] \n",
    "#X = sm.add_constant(X)\n",
    "\n",
    "y = bodies_df.loc[:, 'Submitted']\n",
    "\n",
    "m = PanelOLS(dependent=y, exog=X, entity_effects=True, time_effects=True)\n",
    "model3 = m.fit(cov_type='clustered', cluster_time=True, cluster_entity=True)\n",
    "\n",
    "X = bodies_df.loc[:,[ 'log_best', 'mass_protest_mean', 'damaged_property_mean', 'uniformed_mean']] \n",
    "#X = sm.add_constant(X)\n",
    "\n",
    "y = bodies_df.loc[:, 'Submitted']\n",
    "\n",
    "m = PanelOLS(dependent=y, exog=X, entity_effects=True, time_effects=True)\n",
    "model4 = m.fit(cov_type='clustered', cluster_time=True, cluster_entity=True)\n",
    "\n",
    "X = bodies_df.loc[:,[ 'log_best', 'mass_protest_mean', 'damaged_property_mean', 'uniformed_mean', 'firearm_mean']] \n",
    "#X = sm.add_constant(X)\n",
    "\n",
    "y = bodies_df.loc[:, 'Submitted']\n",
    "\n",
    "m = PanelOLS(dependent=y, exog=X, entity_effects=True, time_effects=True)\n",
    "model5 = m.fit(cov_type='clustered', cluster_time=True, cluster_entity=True)\n",
    "\n",
    "X = bodies_df.loc[:,[ 'log_best', 'mass_protest_mean', 'damaged_property_mean', 'uniformed_mean', 'firearm_mean', 'nlights_calib_mean']] \n",
    "#X = sm.add_constant(X)\n",
    "\n",
    "y = bodies_df.loc[:, 'Submitted']\n",
    "\n",
    "m = PanelOLS(dependent=y, exog=X, entity_effects=True, time_effects=True)\n",
    "model6 = m.fit(cov_type='clustered', cluster_time=True, cluster_entity=True)\n",
    "\n",
    "print(compare({\"model1\": model1, \"model2\": model2, \"model3\": model3, \"model4\": model4, \"model5\": model5, \"model6\": model6}, precision = 'std_errors', stars = True))"
   ]
  },
  {
   "cell_type": "code",
   "execution_count": 19,
   "metadata": {},
   "outputs": [],
   "source": [
    "results_dict['log_best'] = [0.0047, 0.0334]"
   ]
  },
  {
   "cell_type": "markdown",
   "metadata": {},
   "source": [
    "### Uniforms"
   ]
  },
  {
   "cell_type": "code",
   "execution_count": 20,
   "metadata": {},
   "outputs": [
    {
     "name": "stdout",
     "output_type": "stream",
     "text": [
      "                                                Model Comparison                                               \n",
      "===============================================================================================================\n",
      "                                 model1        model2        model3        model4         model5         model6\n",
      "---------------------------------------------------------------------------------------------------------------\n",
      "Dep. Variable                 Submitted     Submitted     Submitted     Submitted      Submitted      Submitted\n",
      "Estimator                      PanelOLS      PanelOLS      PanelOLS      PanelOLS       PanelOLS       PanelOLS\n",
      "No. Observations                 112343        112343        112343        112343         112343         112343\n",
      "Cov. Est.                     Clustered     Clustered     Clustered     Clustered      Clustered      Clustered\n",
      "R-squared                     1.265e-07       2.9e-06        0.0002        0.0002         0.0003         0.0007\n",
      "R-Squared (Within)            9.629e-07     1.432e-05        0.0002        0.0008         0.0011        -0.0555\n",
      "R-Squared (Between)             -0.0001       -0.0008        0.0006        0.0044         0.0066         0.1936\n",
      "R-Squared (Overall)             -0.0001       -0.0007        0.0002        0.0200         0.0207        -4.3031\n",
      "F-statistic                      0.0142        0.1628        6.6292        5.6949         6.4911         13.660\n",
      "P-value (F-stat)                 0.9052        0.8498        0.0002        0.0001         0.0000         0.0000\n",
      "=======================     ===========   ===========   ===========   ===========   ============   ============\n",
      "uniformed_dummy                 -0.0002        -3e-05       -0.0015       -0.0015        -0.0028        -0.0027\n",
      "                               (0.0032)      (0.0029)      (0.0029)      (0.0029)       (0.0037)       (0.0038)\n",
      "person_mean                                   -0.0002       -0.0002       -0.0002     -1.811e-05     -8.102e-05\n",
      "                                             (0.0006)      (0.0006)      (0.0006)       (0.0005)       (0.0004)\n",
      "firearm_dummy                                             0.0085***     0.0085***      0.0079***      0.0078***\n",
      "                                                           (0.0012)      (0.0012)       (0.0014)       (0.0015)\n",
      "log_best                                                                   0.0041         0.0040         0.0048\n",
      "                                                                         (0.0290)       (0.0291)       (0.0332)\n",
      "damaged_property_mean                                                                     0.0036         0.0033\n",
      "                                                                                        (0.0029)       (0.0031)\n",
      "nlights_calib_mean                                                                                       1.1885\n",
      "                                                                                                       (2.6563)\n",
      "========================= ============= ============= ============= ============= ============== ==============\n",
      "Effects                          Entity        Entity        Entity        Entity         Entity         Entity\n",
      "                                   Time          Time          Time          Time           Time           Time\n",
      "---------------------------------------------------------------------------------------------------------------\n",
      "\n",
      "Std. Errors reported in parentheses\n"
     ]
    }
   ],
   "source": [
    "\n",
    "X = bodies_df.loc[:,['uniformed_dummy']] \n",
    "#X = sm.add_constant(X)\n",
    "y = bodies_df.loc[:, 'Submitted']\n",
    "\n",
    "m = PanelOLS(dependent=y, exog=X, entity_effects=True, time_effects=True)\n",
    "model1 = m.fit(cov_type='clustered', cluster_time=True, cluster_entity=True)\n",
    "\n",
    "X = bodies_df.loc[:,[ 'uniformed_dummy', 'person_mean']] \n",
    "#X = sm.add_constant(X)\n",
    "\n",
    "y = bodies_df.loc[:, 'Submitted']\n",
    "\n",
    "m = PanelOLS(dependent=y, exog=X, entity_effects=True, time_effects=True)\n",
    "model2 = m.fit(cov_type='clustered', cluster_time=True, cluster_entity=True)\n",
    "\n",
    "X = bodies_df.loc[:,[ 'uniformed_dummy', 'person_mean', 'firearm_dummy']] \n",
    "#X = sm.add_constant(X)\n",
    "\n",
    "y = bodies_df.loc[:, 'Submitted']\n",
    "\n",
    "m = PanelOLS(dependent=y, exog=X, entity_effects=True, time_effects=True)\n",
    "model3 = m.fit(cov_type='clustered', cluster_time=True, cluster_entity=True)\n",
    "\n",
    "X = bodies_df.loc[:,[ 'uniformed_dummy', 'person_mean', 'firearm_dummy', 'log_best']] \n",
    "#X = sm.add_constant(X)\n",
    "\n",
    "y = bodies_df.loc[:, 'Submitted']\n",
    "\n",
    "m = PanelOLS(dependent=y, exog=X, entity_effects=True, time_effects=True)\n",
    "model4 = m.fit(cov_type='clustered', cluster_time=True, cluster_entity=True)\n",
    "\n",
    "X = bodies_df.loc[:,[ 'uniformed_dummy', 'person_mean', 'firearm_dummy', 'log_best', 'damaged_property_mean']] \n",
    "#X = sm.add_constant(X)\n",
    "\n",
    "y = bodies_df.loc[:, 'Submitted']\n",
    "\n",
    "m = PanelOLS(dependent=y, exog=X, entity_effects=True, time_effects=True)\n",
    "model5 = m.fit(cov_type='clustered', cluster_time=True, cluster_entity=True)\n",
    "\n",
    "X = bodies_df.loc[:,[ 'uniformed_dummy', 'person_mean', 'firearm_dummy', 'log_best', 'damaged_property_mean', 'nlights_calib_mean']] \n",
    "#X = sm.add_constant(X)\n",
    "\n",
    "y = bodies_df.loc[:, 'Submitted']\n",
    "\n",
    "m = PanelOLS(dependent=y, exog=X, entity_effects=True, time_effects=True)\n",
    "model6 = m.fit(cov_type='clustered', cluster_time=True, cluster_entity=True)\n",
    "\n",
    "print(compare({\"model1\": model1, \"model2\": model2, \"model3\": model3, \"model4\": model4, \"model5\": model5, \"model6\": model6}, precision = 'std_errors', stars = True))"
   ]
  },
  {
   "cell_type": "code",
   "execution_count": 21,
   "metadata": {},
   "outputs": [],
   "source": [
    "results_dict['uniformed'] = [-0.0027, 0.0038]"
   ]
  },
  {
   "cell_type": "markdown",
   "metadata": {},
   "source": [
    "### Protest:"
   ]
  },
  {
   "cell_type": "code",
   "execution_count": 35,
   "metadata": {},
   "outputs": [
    {
     "name": "stdout",
     "output_type": "stream",
     "text": [
      "                                                Model Comparison                                               \n",
      "===============================================================================================================\n",
      "                               model1        model2         model3         model4         model5         model6\n",
      "---------------------------------------------------------------------------------------------------------------\n",
      "Dep. Variable               Submitted     Submitted      Submitted      Submitted      Submitted      Submitted\n",
      "Estimator                    PanelOLS      PanelOLS       PanelOLS       PanelOLS       PanelOLS       PanelOLS\n",
      "No. Observations               112343        112343         112343         112343         112343         112343\n",
      "Cov. Est.                   Clustered     Clustered      Clustered      Clustered      Clustered      Clustered\n",
      "R-squared                      0.0008        0.0010         0.0016         0.0016         0.0016         0.0021\n",
      "R-Squared (Within)             0.0008        0.0011         0.0018         0.0022         0.0023        -0.0531\n",
      "R-Squared (Between)           -0.0085       -0.0168        -0.0263        -0.0222        -0.0211         0.1820\n",
      "R-Squared (Overall)           -0.0049       -0.0118        -0.0192         0.0066         0.0070        -3.9616\n",
      "F-statistic                    92.822        55.956         60.228         45.928         36.856         38.653\n",
      "P-value (F-stat)               0.0000        0.0000         0.0000         0.0000         0.0000         0.0000\n",
      "=====================     ===========   ===========   ============   ============   ============   ============\n",
      "mass_protest_mean           0.0224***     0.0264***      0.0456***      0.0456***      0.0461***      0.0457***\n",
      "                             (0.0030)      (0.0016)       (0.0043)       (0.0043)       (0.0030)       (0.0036)\n",
      "person_mean                               -0.0013**      -0.0015**      -0.0015**      -0.0014**      -0.0014**\n",
      "                                           (0.0006)       (0.0006)       (0.0006)       (0.0007)       (0.0007)\n",
      "public_mean                                             -0.0152***     -0.0152***     -0.0158***     -0.0160***\n",
      "                                                          (0.0026)       (0.0023)       (0.0017)       (0.0018)\n",
      "log_best                                                                   0.0042         0.0042         0.0050\n",
      "                                                                         (0.0290)       (0.0291)       (0.0330)\n",
      "urban_mean                                                                               -0.0010        -0.0010\n",
      "                                                                                        (0.0020)       (0.0020)\n",
      "nlights_calib_mean                                                                                       1.1646\n",
      "                                                                                                       (2.6534)\n",
      "======================= ============= ============= ============== ============== ============== ==============\n",
      "Effects                        Entity        Entity         Entity         Entity         Entity         Entity\n",
      "                                 Time          Time           Time           Time           Time           Time\n",
      "---------------------------------------------------------------------------------------------------------------\n",
      "\n",
      "Std. Errors reported in parentheses\n"
     ]
    }
   ],
   "source": [
    "\n",
    "X = bodies_df.loc[:,['mass_protest_mean']] \n",
    "#X = sm.add_constant(X)\n",
    "y = bodies_df.loc[:, 'Submitted']\n",
    "\n",
    "m = PanelOLS(dependent=y, exog=X, entity_effects=True, time_effects=True)\n",
    "model1 = m.fit(cov_type='clustered', cluster_time=True, cluster_entity=True)\n",
    "\n",
    "X = bodies_df.loc[:,[ 'mass_protest_mean', 'person_mean']] \n",
    "#X = sm.add_constant(X)\n",
    "\n",
    "y = bodies_df.loc[:, 'Submitted']\n",
    "\n",
    "m = PanelOLS(dependent=y, exog=X, entity_effects=True, time_effects=True)\n",
    "model2 = m.fit(cov_type='clustered', cluster_time=True, cluster_entity=True)\n",
    "\n",
    "X = bodies_df.loc[:,[ 'mass_protest_mean', 'person_mean', 'public_mean']] \n",
    "#X = sm.add_constant(X)\n",
    "\n",
    "y = bodies_df.loc[:, 'Submitted']\n",
    "\n",
    "m = PanelOLS(dependent=y, exog=X, entity_effects=True, time_effects=True)\n",
    "model3 = m.fit(cov_type='clustered', cluster_time=True, cluster_entity=True)\n",
    "\n",
    "X = bodies_df.loc[:,[ 'mass_protest_mean', 'person_mean', 'public_mean', 'log_best']] \n",
    "#X = sm.add_constant(X)\n",
    "\n",
    "y = bodies_df.loc[:, 'Submitted']\n",
    "\n",
    "m = PanelOLS(dependent=y, exog=X, entity_effects=True, time_effects=True)\n",
    "model4 = m.fit(cov_type='clustered', cluster_time=True, cluster_entity=True)\n",
    "\n",
    "X = bodies_df.loc[:,[ 'mass_protest_mean', 'person_mean', 'public_mean', 'log_best', 'urban_mean']] \n",
    "#X = sm.add_constant(X)\n",
    "\n",
    "y = bodies_df.loc[:, 'Submitted']\n",
    "\n",
    "m = PanelOLS(dependent=y, exog=X, entity_effects=True, time_effects=True)\n",
    "model5 = m.fit(cov_type='clustered', cluster_time=True, cluster_entity=True)\n",
    "\n",
    "X = bodies_df.loc[:,[ 'mass_protest_mean', 'person_mean', 'public_mean', 'log_best', 'urban_mean', 'nlights_calib_mean']] \n",
    "#X = sm.add_constant(X)\n",
    "\n",
    "y = bodies_df.loc[:, 'Submitted']\n",
    "\n",
    "m = PanelOLS(dependent=y, exog=X, entity_effects=True, time_effects=True)\n",
    "model6 = m.fit(cov_type='clustered', cluster_time=True, cluster_entity=True)\n",
    "\n",
    "print(compare({\"model1\": model1, \"model2\": model2, \"model3\": model3, \"model4\": model4, \"model5\": model5, \"model6\": model6}, precision = 'std_errors', stars = True))"
   ]
  },
  {
   "cell_type": "code",
   "execution_count": 23,
   "metadata": {},
   "outputs": [],
   "source": [
    "results_dict['protest'] = [0.0457, 0.0036]"
   ]
  },
  {
   "cell_type": "markdown",
   "metadata": {},
   "source": [
    "So a 6% point increae in the probabilty of submission of you are over the 65% percential in protest. robustly."
   ]
  },
  {
   "cell_type": "markdown",
   "metadata": {},
   "source": [
    "### Damaged property"
   ]
  },
  {
   "cell_type": "code",
   "execution_count": 24,
   "metadata": {},
   "outputs": [
    {
     "name": "stdout",
     "output_type": "stream",
     "text": [
      "                                               Model Comparison                                               \n",
      "==============================================================================================================\n",
      "                                 model1        model2        model3        model4        model5         model6\n",
      "--------------------------------------------------------------------------------------------------------------\n",
      "Dep. Variable                 Submitted     Submitted     Submitted     Submitted     Submitted      Submitted\n",
      "Estimator                      PanelOLS      PanelOLS      PanelOLS      PanelOLS      PanelOLS       PanelOLS\n",
      "No. Observations                 112343        112343        112343        112343        112343         112343\n",
      "Cov. Est.                     Clustered     Clustered     Clustered     Clustered     Clustered      Clustered\n",
      "R-squared                        0.0001        0.0004        0.0015        0.0020        0.0020         0.0025\n",
      "R-Squared (Within)               0.0003        0.0006       -0.1759       -0.2862       -0.2871        -0.3211\n",
      "R-Squared (Between)              0.0029        0.0033        0.1021       -0.0354       -0.0369        -0.0790\n",
      "R-Squared (Overall)              0.0021        0.0062       -7.6276       -15.851       -15.877        -17.839\n",
      "F-statistic                      11.786        19.682        56.083        55.339        44.519         47.391\n",
      "P-value (F-stat)                 0.0006        0.0000        0.0000        0.0000        0.0000         0.0000\n",
      "=======================     ===========   ===========   ===========   ===========   ===========   ============\n",
      "damaged_property_mean            0.0037      0.0109**      0.0111**      0.0107**      0.0108**       0.0146**\n",
      "                               (0.0023)      (0.0049)      (0.0045)      (0.0047)      (0.0048)       (0.0057)\n",
      "rural_mean                                  -0.0136**     -0.0143**     -0.0142**     -0.0146**        -0.0063\n",
      "                                             (0.0064)      (0.0058)      (0.0059)      (0.0065)       (0.0057)\n",
      "nlights_mean                                                 0.0281        0.0369        0.0370         0.0392\n",
      "                                                           (0.0225)      (0.0350)      (0.0350)       (0.0349)\n",
      "log_best                                                                   0.0195        0.0195         0.0204\n",
      "                                                                         (0.0335)      (0.0335)       (0.0336)\n",
      "person_mean                                                                             -0.0003        -0.0003\n",
      "                                                                                       (0.0006)       (0.0006)\n",
      "militarized_mean                                                                                    -0.0188***\n",
      "                                                                                                      (0.0068)\n",
      "========================= ============= ============= ============= ============= ============= ==============\n",
      "Effects                          Entity        Entity        Entity        Entity        Entity         Entity\n",
      "                                   Time          Time          Time          Time          Time           Time\n",
      "--------------------------------------------------------------------------------------------------------------\n",
      "\n",
      "Std. Errors reported in parentheses\n"
     ]
    }
   ],
   "source": [
    "\n",
    "X = bodies_df.loc[:,['damaged_property_mean']] \n",
    "#X = sm.add_constant(X)\n",
    "y = bodies_df.loc[:, 'Submitted']\n",
    "\n",
    "m = PanelOLS(dependent=y, exog=X, entity_effects=True, time_effects=True)\n",
    "model1 = m.fit(cov_type='clustered', cluster_time=True, cluster_entity=True)\n",
    "\n",
    "X = bodies_df.loc[:,[ 'damaged_property_mean', 'rural_mean']] \n",
    "#X = sm.add_constant(X)\n",
    "\n",
    "y = bodies_df.loc[:, 'Submitted']\n",
    "\n",
    "m = PanelOLS(dependent=y, exog=X, entity_effects=True, time_effects=True)\n",
    "model2 = m.fit(cov_type='clustered', cluster_time=True, cluster_entity=True)\n",
    "\n",
    "X = bodies_df.loc[:,[ 'damaged_property_mean', 'rural_mean', 'nlights_mean']] \n",
    "#X = sm.add_constant(X)\n",
    "\n",
    "y = bodies_df.loc[:, 'Submitted']\n",
    "\n",
    "m = PanelOLS(dependent=y, exog=X, entity_effects=True, time_effects=True)\n",
    "model3 = m.fit(cov_type='clustered', cluster_time=True, cluster_entity=True)\n",
    "\n",
    "X = bodies_df.loc[:,[ 'damaged_property_mean', 'rural_mean', 'nlights_mean', 'log_best']] \n",
    "#X = sm.add_constant(X)\n",
    "\n",
    "y = bodies_df.loc[:, 'Submitted']\n",
    "\n",
    "m = PanelOLS(dependent=y, exog=X, entity_effects=True, time_effects=True)\n",
    "model4 = m.fit(cov_type='clustered', cluster_time=True, cluster_entity=True)\n",
    "\n",
    "X = bodies_df.loc[:,[ 'damaged_property_mean', 'rural_mean', 'nlights_mean', 'log_best', 'person_mean']] \n",
    "#X = sm.add_constant(X)\n",
    "\n",
    "y = bodies_df.loc[:, 'Submitted']\n",
    "\n",
    "m = PanelOLS(dependent=y, exog=X, entity_effects=True, time_effects=True)\n",
    "model5 = m.fit(cov_type='clustered', cluster_time=True, cluster_entity=True)\n",
    "\n",
    "X = bodies_df.loc[:,[ 'damaged_property_mean', 'rural_mean', 'nlights_mean', 'log_best', 'person_mean', 'militarized_mean']] \n",
    "#X = sm.add_constant(X)\n",
    "\n",
    "y = bodies_df.loc[:, 'Submitted']\n",
    "\n",
    "m = PanelOLS(dependent=y, exog=X, entity_effects=True, time_effects=True)\n",
    "model6 = m.fit(cov_type='clustered', cluster_time=True, cluster_entity=True)\n",
    "\n",
    "print(compare({\"model1\": model1, \"model2\": model2, \"model3\": model3, \"model4\": model4, \"model5\": model5, \"model6\": model6}, precision = 'std_errors', stars = True))"
   ]
  },
  {
   "cell_type": "markdown",
   "metadata": {},
   "source": [
    "1.5% point increase for the top 65% with damaged property"
   ]
  },
  {
   "cell_type": "code",
   "execution_count": 25,
   "metadata": {},
   "outputs": [],
   "source": [
    "results_dict['damaged'] = [0.0146, 0.0057]"
   ]
  },
  {
   "cell_type": "markdown",
   "metadata": {},
   "source": [
    "## GUNS"
   ]
  },
  {
   "cell_type": "code",
   "execution_count": 26,
   "metadata": {},
   "outputs": [
    {
     "name": "stdout",
     "output_type": "stream",
     "text": [
      "                                               Model Comparison                                              \n",
      "=============================================================================================================\n",
      "                                 model1        model2        model3        model4        model5        model6\n",
      "-------------------------------------------------------------------------------------------------------------\n",
      "Dep. Variable                 Submitted     Submitted     Submitted     Submitted     Submitted     Submitted\n",
      "Estimator                      PanelOLS      PanelOLS      PanelOLS      PanelOLS      PanelOLS      PanelOLS\n",
      "No. Observations                 112343        112343        112343        112343        112343        112343\n",
      "Cov. Est.                     Clustered     Clustered     Clustered     Clustered     Clustered     Clustered\n",
      "R-squared                        0.0002        0.0003        0.0007        0.0007        0.0008        0.0015\n",
      "R-Squared (Within)               0.0003        0.0003       -0.0543       -0.0574       -0.0560       -0.0516\n",
      "R-Squared (Between)              0.0026        0.0017        0.1950        0.1925        0.1937        0.1909\n",
      "R-Squared (Overall)              0.0021        0.0012       -3.9923       -4.4433       -4.3486       -3.8625\n",
      "F-statistic                      25.411        14.628        26.311        20.773        18.498        28.029\n",
      "P-value (F-stat)                 0.0000        0.0000        0.0000        0.0000        0.0000        0.0000\n",
      "=======================     ===========   ===========   ===========   ===========   ===========   ===========\n",
      "firearm_log                   0.0176***     0.0209***     0.0208***     0.0208***     0.0203***     0.0185***\n",
      "                               (0.0028)      (0.0068)      (0.0070)      (0.0069)      (0.0065)      (0.0068)\n",
      "uniformed_mean                                -0.0017       -0.0019       -0.0019       -0.0026       -0.0033\n",
      "                                             (0.0038)      (0.0035)      (0.0034)      (0.0042)      (0.0041)\n",
      "nlights_calib_mean                                           1.1884        1.2056        1.1934        1.1368\n",
      "                                                           (2.6006)      (2.6418)      (2.6512)      (2.6662)\n",
      "log_best                                                                   0.0049        0.0048        0.0047\n",
      "                                                                         (0.0330)      (0.0331)      (0.0334)\n",
      "damaged_property_mean                                                                    0.0035        0.0016\n",
      "                                                                                       (0.0037)      (0.0039)\n",
      "mass_protest_mean                                                                                   0.0210***\n",
      "                                                                                                     (0.0042)\n",
      "========================= ============= ============= ============= ============= ============= =============\n",
      "Effects                          Entity        Entity        Entity        Entity        Entity        Entity\n",
      "                                   Time          Time          Time          Time          Time          Time\n",
      "-------------------------------------------------------------------------------------------------------------\n",
      "\n",
      "Std. Errors reported in parentheses\n"
     ]
    }
   ],
   "source": [
    "\n",
    "X = bodies_df.loc[:,['firearm_log']] \n",
    "#X = sm.add_constant(X)\n",
    "y = bodies_df.loc[:, 'Submitted']\n",
    "\n",
    "m = PanelOLS(dependent=y, exog=X, entity_effects=True, time_effects=True)\n",
    "model1 = m.fit(cov_type='clustered', cluster_time=True, cluster_entity=True)\n",
    "\n",
    "X = bodies_df.loc[:,[ 'firearm_log', 'uniformed_mean']] \n",
    "#X = sm.add_constant(X)\n",
    "\n",
    "y = bodies_df.loc[:, 'Submitted']\n",
    "\n",
    "m = PanelOLS(dependent=y, exog=X, entity_effects=True, time_effects=True)\n",
    "model2 = m.fit(cov_type='clustered', cluster_time=True, cluster_entity=True)\n",
    "\n",
    "X = bodies_df.loc[:,[ 'firearm_log', 'uniformed_mean', 'nlights_calib_mean']] \n",
    "#X = sm.add_constant(X)\n",
    "\n",
    "y = bodies_df.loc[:, 'Submitted']\n",
    "\n",
    "m = PanelOLS(dependent=y, exog=X, entity_effects=True, time_effects=True)\n",
    "model3 = m.fit(cov_type='clustered', cluster_time=True, cluster_entity=True)\n",
    "\n",
    "X = bodies_df.loc[:,[ 'firearm_log', 'uniformed_mean', 'nlights_calib_mean', 'log_best']] \n",
    "#X = sm.add_constant(X)\n",
    "\n",
    "y = bodies_df.loc[:, 'Submitted']\n",
    "\n",
    "m = PanelOLS(dependent=y, exog=X, entity_effects=True, time_effects=True)\n",
    "model4 = m.fit(cov_type='clustered', cluster_time=True, cluster_entity=True)\n",
    "\n",
    "X = bodies_df.loc[:,[ 'firearm_log', 'uniformed_mean', 'nlights_calib_mean', 'log_best', 'damaged_property_mean']] \n",
    "#X = sm.add_constant(X)\n",
    "\n",
    "y = bodies_df.loc[:, 'Submitted']\n",
    "\n",
    "m = PanelOLS(dependent=y, exog=X, entity_effects=True, time_effects=True)\n",
    "model5 = m.fit(cov_type='clustered', cluster_time=True, cluster_entity=True)\n",
    "\n",
    "X = bodies_df.loc[:,[ 'firearm_log', 'uniformed_mean', 'nlights_calib_mean', 'log_best', 'damaged_property_mean', 'mass_protest_mean']] \n",
    "#X = sm.add_constant(X)\n",
    "\n",
    "y = bodies_df.loc[:, 'Submitted']\n",
    "\n",
    "m = PanelOLS(dependent=y, exog=X, entity_effects=True, time_effects=True)\n",
    "model6 = m.fit(cov_type='clustered', cluster_time=True, cluster_entity=True)\n",
    "\n",
    "print(compare({\"model1\": model1, \"model2\": model2, \"model3\": model3, \"model4\": model4, \"model5\": model5, \"model6\": model6}, precision = 'std_errors', stars = True))"
   ]
  },
  {
   "cell_type": "code",
   "execution_count": 27,
   "metadata": {},
   "outputs": [],
   "source": [
    "results_dict['firearm_log'] = [0.0185, 0.0068]"
   ]
  },
  {
   "cell_type": "markdown",
   "metadata": {},
   "source": [
    "so 1% increse in the probability of submission for each gun - lilke not lenar one or more guns\n",
    "log (make sense with deminising effect) 2% increase in the probabilty of submission each time the numbe of guns ... check woolridge!"
   ]
  },
  {
   "cell_type": "markdown",
   "metadata": {},
   "source": [
    "# Gender\n",
    "## Female"
   ]
  },
  {
   "cell_type": "code",
   "execution_count": 28,
   "metadata": {},
   "outputs": [
    {
     "name": "stdout",
     "output_type": "stream",
     "text": [
      "                                                  Model Comparison                                                  \n",
      "====================================================================================================================\n",
      "                                        model1        model2        model3        model4        model5        model6\n",
      "--------------------------------------------------------------------------------------------------------------------\n",
      "Dep. Variable                        Submitted     Submitted     Submitted     Submitted     Submitted     Submitted\n",
      "Estimator                             PanelOLS      PanelOLS      PanelOLS      PanelOLS      PanelOLS      PanelOLS\n",
      "No. Observations                        112343        112343        112343        112343        112343        112343\n",
      "Cov. Est.                            Clustered     Clustered     Clustered     Clustered     Clustered     Clustered\n",
      "R-squared                            2.991e-05     4.748e-05        0.0005        0.0005        0.0006        0.0006\n",
      "R-Squared (Within)                   -1.46e-05     1.926e-05       -0.0562       -0.0595       -0.0596       -0.0597\n",
      "R-Squared (Between)                     0.0024        0.0010        0.1936        0.1909        0.1908        0.1911\n",
      "R-Squared (Overall)                     0.0020        0.0009       -4.1503       -4.6266       -4.6304       -4.6655\n",
      "F-statistic                             3.3583        2.6660        18.902        15.298        13.167        11.128\n",
      "P-value (F-stat)                        0.0669        0.0695        0.0000        0.0000        0.0000        0.0000\n",
      "==============================     ===========   ===========   ===========   ===========   ===========   ===========\n",
      "female_dummy                         0.0022***        0.0029       0.0032*      0.0032**        0.0022        0.0018\n",
      "                                      (0.0005)      (0.0023)      (0.0017)      (0.0016)      (0.0019)      (0.0022)\n",
      "person_mean                                          -0.0004       -0.0005       -0.0005       -0.0006       -0.0005\n",
      "                                                    (0.0009)      (0.0008)      (0.0008)      (0.0008)      (0.0008)\n",
      "nlights_calib_mean                                                  1.2092        1.2268        1.2276        1.2304\n",
      "                                                                  (2.6035)      (2.6421)      (2.6421)      (2.6404)\n",
      "log_best                                                                          0.0051        0.0051        0.0051\n",
      "                                                                                (0.0331)      (0.0331)      (0.0330)\n",
      "religiousGarmentFemale_dummy                                                                 0.0039***     0.0038***\n",
      "                                                                                              (0.0011)      (0.0011)\n",
      "privat_mean                                                                                                   0.0027\n",
      "                                                                                                            (0.0024)\n",
      "================================ ============= ============= ============= ============= ============= =============\n",
      "Effects                                 Entity        Entity        Entity        Entity        Entity        Entity\n",
      "                                          Time          Time          Time          Time          Time          Time\n",
      "--------------------------------------------------------------------------------------------------------------------\n",
      "\n",
      "Std. Errors reported in parentheses\n"
     ]
    }
   ],
   "source": [
    "\n",
    "X = bodies_df.loc[:,['female_dummy']]\n",
    "#X = sm.add_constant(X)\n",
    "y = bodies_df.loc[:, 'Submitted']\n",
    "\n",
    "m = PanelOLS(dependent=y, exog=X, entity_effects=True, time_effects=True)\n",
    "model1 = m.fit(cov_type='clustered', cluster_time=True, cluster_entity=True)\n",
    "\n",
    "X = bodies_df.loc[:,[ 'female_dummy', 'person_mean']] \n",
    "#X = sm.add_constant(X)\n",
    "\n",
    "y = bodies_df.loc[:, 'Submitted']\n",
    "\n",
    "m = PanelOLS(dependent=y, exog=X, entity_effects=True, time_effects=True)\n",
    "model2 = m.fit(cov_type='clustered', cluster_time=True, cluster_entity=True)\n",
    "\n",
    "X = bodies_df.loc[:,[ 'female_dummy', 'person_mean', 'nlights_calib_mean']] \n",
    "#X = sm.add_constant(X)\n",
    "\n",
    "y = bodies_df.loc[:, 'Submitted']\n",
    "\n",
    "m = PanelOLS(dependent=y, exog=X, entity_effects=True, time_effects=True)\n",
    "model3 = m.fit(cov_type='clustered', cluster_time=True, cluster_entity=True)\n",
    "\n",
    "X = bodies_df.loc[:,[ 'female_dummy', 'person_mean', 'nlights_calib_mean', 'log_best']] \n",
    "#X = sm.add_constant(X)\n",
    "\n",
    "y = bodies_df.loc[:, 'Submitted']\n",
    "\n",
    "m = PanelOLS(dependent=y, exog=X, entity_effects=True, time_effects=True)\n",
    "model4 = m.fit(cov_type='clustered', cluster_time=True, cluster_entity=True)\n",
    "\n",
    "X = bodies_df.loc[:,[ 'female_dummy', 'person_mean', 'nlights_calib_mean', 'log_best', 'religiousGarmentFemale_dummy']] \n",
    "#X = sm.add_constant(X)\n",
    "\n",
    "y = bodies_df.loc[:, 'Submitted']\n",
    "\n",
    "m = PanelOLS(dependent=y, exog=X, entity_effects=True, time_effects=True)\n",
    "model5 = m.fit(cov_type='clustered', cluster_time=True, cluster_entity=True)\n",
    "\n",
    "X = bodies_df.loc[:,[ 'female_dummy', 'person_mean', 'nlights_calib_mean', 'log_best', 'religiousGarmentFemale_dummy', 'privat_mean']] \n",
    "#X = sm.add_constant(X)\n",
    "\n",
    "y = bodies_df.loc[:, 'Submitted']\n",
    "\n",
    "m = PanelOLS(dependent=y, exog=X, entity_effects=True, time_effects=True)\n",
    "model6 = m.fit(cov_type='clustered', cluster_time=True, cluster_entity=True)\n",
    "\n",
    "print(compare({\"model1\": model1, \"model2\": model2, \"model3\": model3, \"model4\": model4, \"model5\": model5, \"model6\": model6}, precision = 'std_errors', stars = True))"
   ]
  },
  {
   "cell_type": "code",
   "execution_count": 29,
   "metadata": {},
   "outputs": [],
   "source": [
    "results_dict['female_dummy'] = [0.0018, 0.0022]"
   ]
  },
  {
   "cell_type": "markdown",
   "metadata": {},
   "source": [
    "So there might be something, but it is not near substantially irrellevant.."
   ]
  },
  {
   "cell_type": "markdown",
   "metadata": {},
   "source": [
    "## Garments"
   ]
  },
  {
   "cell_type": "code",
   "execution_count": 30,
   "metadata": {},
   "outputs": [
    {
     "name": "stdout",
     "output_type": "stream",
     "text": [
      "                                                  Model Comparison                                                  \n",
      "====================================================================================================================\n",
      "                                        model1        model2        model3        model4        model5        model6\n",
      "--------------------------------------------------------------------------------------------------------------------\n",
      "Dep. Variable                        Submitted     Submitted     Submitted     Submitted     Submitted     Submitted\n",
      "Estimator                             PanelOLS      PanelOLS      PanelOLS      PanelOLS      PanelOLS      PanelOLS\n",
      "No. Observations                        112343        112343        112343        112343        112343        112343\n",
      "Cov. Est.                            Clustered     Clustered     Clustered     Clustered     Clustered     Clustered\n",
      "R-squared                            5.793e-05     6.461e-05     9.203e-05       9.3e-05        0.0009        0.0013\n",
      "R-Squared (Within)                   1.598e-05     5.354e-06        0.0006        0.0006        0.0012       -0.0521\n",
      "R-Squared (Between)                     0.0015        0.0025        0.0064        0.0068       -0.0029        0.1907\n",
      "R-Squared (Overall)                     0.0012        0.0020        0.0215        0.0216        0.0171       -3.9139\n",
      "F-statistic                             6.5047        3.6274        3.4447        2.6108        20.338        24.550\n",
      "P-value (F-stat)                        0.0108        0.0266        0.0159        0.0336        0.0000        0.0000\n",
      "==============================     ===========   ===========   ===========   ===========   ===========   ===========\n",
      "religiousGarmentFemale_dummy         0.0041***      0.0035**      0.0035**      0.0035**       0.0028*       0.0028*\n",
      "                                      (0.0006)      (0.0016)      (0.0015)      (0.0015)      (0.0015)      (0.0015)\n",
      "female_dummy                                          0.0011        0.0012        0.0013        0.0011        0.0012\n",
      "                                                    (0.0012)      (0.0010)      (0.0014)      (0.0014)      (0.0010)\n",
      "log_best                                                            0.0042        0.0042        0.0040        0.0048\n",
      "                                                                  (0.0290)      (0.0290)      (0.0293)      (0.0333)\n",
      "rural_mean                                                                        0.0006       -0.0010       -0.0008\n",
      "                                                                                (0.0032)      (0.0033)      (0.0033)\n",
      "mass_protest_mean                                                                            0.0223***     0.0216***\n",
      "                                                                                              (0.0033)      (0.0034)\n",
      "nlights_calib_mean                                                                                            1.1404\n",
      "                                                                                                            (2.6619)\n",
      "================================ ============= ============= ============= ============= ============= =============\n",
      "Effects                                 Entity        Entity        Entity        Entity        Entity        Entity\n",
      "                                          Time          Time          Time          Time          Time          Time\n",
      "--------------------------------------------------------------------------------------------------------------------\n",
      "\n",
      "Std. Errors reported in parentheses\n"
     ]
    }
   ],
   "source": [
    "\n",
    "X = bodies_df.loc[:,['religiousGarmentFemale_dummy']]\n",
    "#X = sm.add_constant(X)\n",
    "y = bodies_df.loc[:, 'Submitted']\n",
    "\n",
    "m = PanelOLS(dependent=y, exog=X, entity_effects=True, time_effects=True)\n",
    "model1 = m.fit(cov_type='clustered', cluster_time=True, cluster_entity=True)\n",
    "\n",
    "X = bodies_df.loc[:,[ 'religiousGarmentFemale_dummy', 'female_dummy']] \n",
    "#X = sm.add_constant(X)\n",
    "\n",
    "y = bodies_df.loc[:, 'Submitted']\n",
    "\n",
    "m = PanelOLS(dependent=y, exog=X, entity_effects=True, time_effects=True)\n",
    "model2 = m.fit(cov_type='clustered', cluster_time=True, cluster_entity=True)\n",
    "\n",
    "X = bodies_df.loc[:,[ 'religiousGarmentFemale_dummy', 'female_dummy', 'log_best']] \n",
    "#X = sm.add_constant(X)\n",
    "\n",
    "y = bodies_df.loc[:, 'Submitted']\n",
    "\n",
    "m = PanelOLS(dependent=y, exog=X, entity_effects=True, time_effects=True)\n",
    "model3 = m.fit(cov_type='clustered', cluster_time=True, cluster_entity=True)\n",
    "\n",
    "X = bodies_df.loc[:,[ 'religiousGarmentFemale_dummy', 'female_dummy', 'log_best', 'rural_mean']] \n",
    "#X = sm.add_constant(X)\n",
    "\n",
    "y = bodies_df.loc[:, 'Submitted']\n",
    "\n",
    "m = PanelOLS(dependent=y, exog=X, entity_effects=True, time_effects=True)\n",
    "model4 = m.fit(cov_type='clustered', cluster_time=True, cluster_entity=True)\n",
    "\n",
    "X = bodies_df.loc[:,[ 'religiousGarmentFemale_dummy', 'female_dummy', 'log_best', 'rural_mean', 'mass_protest_mean']] \n",
    "#X = sm.add_constant(X)\n",
    "\n",
    "y = bodies_df.loc[:, 'Submitted']\n",
    "\n",
    "m = PanelOLS(dependent=y, exog=X, entity_effects=True, time_effects=True)\n",
    "model5 = m.fit(cov_type='clustered', cluster_time=True, cluster_entity=True)\n",
    "\n",
    "X = bodies_df.loc[:,[ 'religiousGarmentFemale_dummy', 'female_dummy', 'log_best', 'rural_mean', 'mass_protest_mean', 'nlights_calib_mean']] \n",
    "#X = sm.add_constant(X)\n",
    "\n",
    "y = bodies_df.loc[:, 'Submitted']\n",
    "\n",
    "m = PanelOLS(dependent=y, exog=X, entity_effects=True, time_effects=True)\n",
    "model6 = m.fit(cov_type='clustered', cluster_time=True, cluster_entity=True)\n",
    "\n",
    "print(compare({\"model1\": model1, \"model2\": model2, \"model3\": model3, \"model4\": model4, \"model5\": model5, \"model6\": model6}, precision = 'std_errors', stars = True))"
   ]
  },
  {
   "cell_type": "code",
   "execution_count": 31,
   "metadata": {},
   "outputs": [],
   "source": [
    "results_dict['garments_dummy'] = [0.0028, 0.0015]"
   ]
  },
  {
   "cell_type": "code",
   "execution_count": null,
   "metadata": {},
   "outputs": [],
   "source": []
  },
  {
   "cell_type": "markdown",
   "metadata": {},
   "source": [
    "# PLOT"
   ]
  },
  {
   "cell_type": "code",
   "execution_count": 32,
   "metadata": {},
   "outputs": [
    {
     "name": "stdout",
     "output_type": "stream",
     "text": [
      "0 log_best\n",
      "1 uniformed\n",
      "2 protest\n",
      "3 damaged\n",
      "4 firearm_log\n",
      "5 female_dummy\n",
      "6 garments_dummy\n"
     ]
    }
   ],
   "source": [
    "for i,j in enumerate(results_dict.keys()):\n",
    "    print(i,j)"
   ]
  },
  {
   "cell_type": "code",
   "execution_count": 33,
   "metadata": {},
   "outputs": [
    {
     "data": {
      "image/png": "[encoded data removed]",
      "text/plain": [
       "<Figure size 1080x576 with 1 Axes>"
      ]
     },
     "metadata": {
      "needs_background": "light"
     },
     "output_type": "display_data"
    }
   ],
   "source": [
    "plt.figure(figsize = [15,8])\n",
    "\n",
    "yticks = []\n",
    "#yticks_l = []\n",
    "yticks_l = ['Conflict fatalities (ln)', 'Uniformed (dummy)', 'Mass protest', 'Damaged property', 'Firearms (ln)', 'Female (dummy)', 'Religious garments (dummy)']\n",
    "\n",
    "\n",
    "\n",
    "for i,j in enumerate(results_dict.keys()):\n",
    "\n",
    "    if j in ['female_dummy', 'garments_dummy']:\n",
    "        color = '#00b5d4'\n",
    "\n",
    "    elif j == 'log_best':\n",
    "        color = 'darkgray'\n",
    "\n",
    "    else:\n",
    "        color = '#dd2726'\n",
    "\n",
    "    plt.scatter(results_dict[j][0], i+1, color = color, s = 100)\n",
    "\n",
    "    plt.errorbar(results_dict[j][0], i+1, xerr = results_dict[j][1]*2, color = color, alpha = 0.6)\n",
    "    plt.vlines(0,0,10, linestyle = 'dashed', color = 'gray', alpha = 0.6)\n",
    "\n",
    "    yticks.append(i+1)\n",
    "    #yticks_l.append(j)\n",
    "\n",
    "plt.title('Submitted - LpmTWFE results\\n(relevant controls included)', fontsize = 16)\n",
    "\n",
    "plt.xticks(fontsize = 14)\n",
    "plt.yticks(yticks, yticks_l, fontsize = 14)\n",
    "plt.ylim(0, max(yticks) +1 )\n",
    "plt.xlim(-0.08, 0.08)\n",
    "plt.xlabel('β estimate', fontsize = 14)\n",
    "\n",
    "gen_cap = mlines.Line2D([], [], color='#00b5d4', marker='o', markersize=10, label='Gender related motifs')\n",
    "mil_cap = mlines.Line2D([], [], color='#dd2726', marker='o', markersize=10, label='Conflict related motifs')\n",
    "leg_cap = mlines.Line2D([], [], color='darkgray', marker='o', markersize=10, label='Observed conflict')\n",
    "\n",
    "plt.legend(handles=[gen_cap, mil_cap, leg_cap], fontsize = 14)\n",
    "\n",
    "fig_path = f'/home/simon/Documents/Bodies/figures/frontline/results0.png'\n",
    "plt.savefig(fig_path, bbox_inches=\"tight\")\n",
    "\n",
    "plt.show()"
   ]
  },
  {
   "cell_type": "code",
   "execution_count": null,
   "metadata": {},
   "outputs": [],
   "source": [
    "results_dict"
   ]
  },
  {
   "cell_type": "markdown",
   "metadata": {},
   "source": [
    "# Robustness:"
   ]
  },
  {
   "cell_type": "code",
   "execution_count": null,
   "metadata": {},
   "outputs": [],
   "source": [
    "['best (ln)', 'uniformed (dummy)', 'mass protest', 'damaged property', 'firearms (ln)', 'female (dummy)', 'religious garments (dummy)']"
   ]
  },
  {
   "cell_type": "code",
   "execution_count": null,
   "metadata": {},
   "outputs": [],
   "source": [
    "yticks_l"
   ]
  },
  {
   "cell_type": "code",
   "execution_count": null,
   "metadata": {},
   "outputs": [],
   "source": []
  },
  {
   "cell_type": "code",
   "execution_count": null,
   "metadata": {},
   "outputs": [],
   "source": []
  },
  {
   "cell_type": "code",
   "execution_count": null,
   "metadata": {},
   "outputs": [],
   "source": [
    "for i in bodies_df.columns:\n",
    "    print(i)"
   ]
  },
  {
   "cell_type": "code",
   "execution_count": null,
   "metadata": {},
   "outputs": [],
   "source": []
  },
  {
   "cell_type": "code",
   "execution_count": null,
   "metadata": {},
   "outputs": [],
   "source": []
  },
  {
   "cell_type": "code",
   "execution_count": null,
   "metadata": {},
   "outputs": [],
   "source": []
  },
  {
   "cell_type": "code",
   "execution_count": null,
   "metadata": {},
   "outputs": [],
   "source": []
  },
  {
   "cell_type": "code",
   "execution_count": null,
   "metadata": {},
   "outputs": [],
   "source": []
  },
  {
   "cell_type": "code",
   "execution_count": null,
   "metadata": {},
   "outputs": [],
   "source": []
  },
  {
   "cell_type": "markdown",
   "metadata": {},
   "source": [
    "#  OLD:"
   ]
  },
  {
   "cell_type": "markdown",
   "metadata": {},
   "source": [
    "# Introducing ...."
   ]
  },
  {
   "cell_type": "markdown",
   "metadata": {},
   "source": [
    "nlights_calib_mean',\n",
    "       'nlights_mean', 'pasture_ih', 'petroleum_y', 'pop_gpw_sd',\n",
    "       'pop_gpw_sum', "
   ]
  },
  {
   "cell_type": "markdown",
   "metadata": {},
   "source": [
    "### uniformed"
   ]
  },
  {
   "cell_type": "code",
   "execution_count": null,
   "metadata": {},
   "outputs": [],
   "source": [
    "# POOLD\n",
    "\n",
    "X = bodies_df.loc[:,['log_best']] \n",
    "X = sm.add_constant(X)\n",
    "y = bodies_df.loc[:, 'uniformed_dummy']\n",
    "\n",
    "m = PanelOLS(dependent=y, exog=X, entity_effects=False, time_effects=False, drop_absorbed = True)\n",
    "model1 =  m.fit(cov_type='robust')\n",
    "\n",
    "X = bodies_df.loc[:,[ 'log_best', 'person_dummy']] \n",
    "X = sm.add_constant(X)\n",
    "\n",
    "y = bodies_df.loc[:, 'uniformed_dummy']\n",
    "\n",
    "m = PanelOLS(dependent=y, exog=X, entity_effects=False, time_effects=False, drop_absorbed = True)\n",
    "model2 = m.fit(cov_type='robust')\n",
    "\n",
    "X = bodies_df.loc[:,[ 'log_best', 'person_dummy', 'damaged_property_mean']] \n",
    "X = sm.add_constant(X)\n",
    "\n",
    "y = bodies_df.loc[:, 'uniformed_dummy']\n",
    "\n",
    "m = PanelOLS(dependent=y, exog=X, entity_effects=False, time_effects=False, drop_absorbed = True)\n",
    "model3 = m.fit(cov_type='robust')\n",
    "\n",
    "X = bodies_df.loc[:,[ 'log_best', 'person_dummy', 'damaged_property_mean', 'nlights_mean']] \n",
    "X = sm.add_constant(X)\n",
    "\n",
    "y = bodies_df.loc[:, 'uniformed_dummy']\n",
    "\n",
    "m = PanelOLS(dependent=y, exog=X, entity_effects=False, time_effects=False, drop_absorbed = True)\n",
    "model4 = m.fit(cov_type='robust')\n",
    "\n",
    "X = bodies_df.loc[:,[ 'tce', 'person_dummy', 'damaged_property_mean', 'nlights_mean']] \n",
    "X = sm.add_constant(X)\n",
    "\n",
    "y = bodies_df.loc[:, 'uniformed_dummy']\n",
    "\n",
    "m = PanelOLS(dependent=y, exog=X, entity_effects=False, time_effects=False, drop_absorbed = True)\n",
    "model5 = m.fit(cov_type='robust')\n",
    "\n",
    "X = bodies_df.loc[:,[ 'tsce', 'person_dummy', 'damaged_property_mean', 'nlights_mean']] \n",
    "X = sm.add_constant(X)\n",
    "\n",
    "y = bodies_df.loc[:, 'uniformed_dummy']\n",
    "\n",
    "m = PanelOLS(dependent=y, exog=X, entity_effects=False, time_effects=False, drop_absorbed = True)\n",
    "model6 = m.fit(cov_type='robust')\n",
    "\n",
    "print(compare({\"model1\": model1, \"model2\": model2, \"model3\": model3, \"model4\": model4, \"model5\": model5, \"model6\": model6}, precision = 'std_errors', stars = True))"
   ]
  },
  {
   "cell_type": "code",
   "execution_count": null,
   "metadata": {},
   "outputs": [],
   "source": [
    "# FE Entity\n",
    "\n",
    "X = bodies_df.loc[:,['log_best']] \n",
    "#X = sm.add_constant(X)\n",
    "y = bodies_df.loc[:, 'uniformed_dummy']\n",
    "\n",
    "m = PanelOLS(dependent=y, exog=X, entity_effects=True, time_effects=False, drop_absorbed = True)\n",
    "model1 =  m.fit(cov_type='clustered', cluster_time=False, cluster_entity=True)\n",
    "\n",
    "X = bodies_df.loc[:,[ 'log_best', 'person_dummy']] \n",
    "#X = sm.add_constant(X)\n",
    "\n",
    "y = bodies_df.loc[:, 'uniformed_dummy']\n",
    "\n",
    "m = PanelOLS(dependent=y, exog=X, entity_effects=True, time_effects=False, drop_absorbed = True)\n",
    "model2 = m.fit(cov_type='clustered', cluster_time=False, cluster_entity=True)\n",
    "\n",
    "X = bodies_df.loc[:,[ 'log_best', 'person_dummy', 'damaged_property_mean']] \n",
    "#X = sm.add_constant(X)\n",
    "\n",
    "y = bodies_df.loc[:, 'uniformed_dummy']\n",
    "\n",
    "m = PanelOLS(dependent=y, exog=X, entity_effects=True, time_effects=False, drop_absorbed = True)\n",
    "model3 = m.fit(cov_type='clustered', cluster_time=False, cluster_entity=True)\n",
    "\n",
    "X = bodies_df.loc[:,[ 'log_best', 'person_dummy', 'damaged_property_mean', 'nlights_mean']] \n",
    "#X = sm.add_constant(X)\n",
    "\n",
    "y = bodies_df.loc[:, 'uniformed_dummy']\n",
    "\n",
    "m = PanelOLS(dependent=y, exog=X, entity_effects=True, time_effects=False, drop_absorbed = True)\n",
    "model4 = m.fit(cov_type='clustered', cluster_time=False, cluster_entity=True)\n",
    "\n",
    "X = bodies_df.loc[:,[ 'tce', 'person_dummy', 'damaged_property_mean', 'nlights_mean']] \n",
    "#X = sm.add_constant(X)\n",
    "\n",
    "y = bodies_df.loc[:, 'uniformed_dummy']\n",
    "\n",
    "m = PanelOLS(dependent=y, exog=X, entity_effects=True, time_effects=False, drop_absorbed = True)\n",
    "model5 = m.fit(cov_type='clustered', cluster_time=False, cluster_entity=True)\n",
    "\n",
    "X = bodies_df.loc[:,[ 'tsce', 'person_dummy', 'damaged_property_mean', 'nlights_mean']] \n",
    "#X = sm.add_constant(X)\n",
    "\n",
    "y = bodies_df.loc[:, 'uniformed_dummy']\n",
    "\n",
    "m = PanelOLS(dependent=y, exog=X, entity_effects=True, time_effects=False, drop_absorbed = True)\n",
    "model6 = m.fit(cov_type='clustered', cluster_time=False, cluster_entity=True)\n",
    "\n",
    "print(compare({\"model1\": model1, \"model2\": model2, \"model3\": model3, \"model4\": model4, \"model5\": model5, \"model6\": model6}, precision = 'std_errors', stars = True))"
   ]
  },
  {
   "cell_type": "code",
   "execution_count": null,
   "metadata": {},
   "outputs": [],
   "source": [
    "# FE TIME\n",
    "\n",
    "X = bodies_df.loc[:,['log_best']] \n",
    "#X = sm.add_constant(X)\n",
    "y = bodies_df.loc[:, 'uniformed_dummy']\n",
    "\n",
    "m = PanelOLS(dependent=y, exog=X, entity_effects=False, time_effects=True, drop_absorbed = True)\n",
    "model1 =  m.fit(cov_type='clustered', cluster_time=True, cluster_entity=False)\n",
    "\n",
    "X = bodies_df.loc[:,[ 'log_best', 'person_dummy']] \n",
    "#X = sm.add_constant(X)\n",
    "\n",
    "y = bodies_df.loc[:, 'uniformed_dummy']\n",
    "\n",
    "m = PanelOLS(dependent=y, exog=X, entity_effects=False, time_effects=True, drop_absorbed = True)\n",
    "model2 = m.fit(cov_type='clustered', cluster_time=True, cluster_entity=False)\n",
    "\n",
    "X = bodies_df.loc[:,[ 'log_best', 'person_dummy', 'damaged_property_mean']] \n",
    "#X = sm.add_constant(X)\n",
    "\n",
    "y = bodies_df.loc[:, 'uniformed_dummy']\n",
    "\n",
    "m = PanelOLS(dependent=y, exog=X, entity_effects=False, time_effects=True, drop_absorbed = True)\n",
    "model3 = m.fit(cov_type='clustered', cluster_time=True, cluster_entity=False)\n",
    "\n",
    "X = bodies_df.loc[:,[ 'log_best', 'person_dummy', 'damaged_property_mean', 'nlights_mean']] \n",
    "#X = sm.add_constant(X)\n",
    "\n",
    "y = bodies_df.loc[:, 'uniformed_dummy']\n",
    "\n",
    "m = PanelOLS(dependent=y, exog=X, entity_effects=False, time_effects=True, drop_absorbed = True)\n",
    "model4 = m.fit(cov_type='clustered', cluster_time=True, cluster_entity=False)\n",
    "\n",
    "X = bodies_df.loc[:,[ 'tce', 'person_dummy', 'damaged_property_mean', 'nlights_mean']] \n",
    "#X = sm.add_constant(X)\n",
    "\n",
    "y = bodies_df.loc[:, 'uniformed_dummy']\n",
    "\n",
    "m = PanelOLS(dependent=y, exog=X, entity_effects=False, time_effects=True, drop_absorbed = True)\n",
    "model5 = m.fit(cov_type='clustered', cluster_time=True, cluster_entity=False)\n",
    "\n",
    "X = bodies_df.loc[:,[ 'tsce', 'person_dummy', 'damaged_property_mean', 'nlights_mean']] \n",
    "#X = sm.add_constant(X)\n",
    "\n",
    "y = bodies_df.loc[:, 'uniformed_dummy']\n",
    "\n",
    "m = PanelOLS(dependent=y, exog=X, entity_effects=False, time_effects=True, drop_absorbed = True)\n",
    "model6 = m.fit(cov_type='clustered', cluster_time=True, cluster_entity=False)\n",
    "\n",
    "print(compare({\"model1\": model1, \"model2\": model2, \"model3\": model3, \"model4\": model4, \"model5\": model5, \"model6\": model6}, precision = 'std_errors', stars = True))"
   ]
  },
  {
   "cell_type": "code",
   "execution_count": null,
   "metadata": {},
   "outputs": [],
   "source": [
    "# TWO-WAY FE\n",
    "\n",
    "X = bodies_df.loc[:,['log_best']] \n",
    "#X = sm.add_constant(X)\n",
    "y = bodies_df.loc[:, 'uniformed_dummy']\n",
    "\n",
    "m = PanelOLS(dependent=y, exog=X, entity_effects=True, time_effects=True)\n",
    "model1 =  m.fit(cov_type='clustered', cluster_time=True, cluster_entity=True)\n",
    "\n",
    "X = bodies_df.loc[:,[ 'log_best', 'person_dummy']] \n",
    "#X = sm.add_constant(X)\n",
    "\n",
    "y = bodies_df.loc[:, 'uniformed_dummy']\n",
    "\n",
    "m = PanelOLS(dependent=y, exog=X, entity_effects=True, time_effects=True)\n",
    "model2 = m.fit(cov_type='clustered', cluster_time=True, cluster_entity=True)\n",
    "\n",
    "X = bodies_df.loc[:,[ 'log_best', 'person_dummy', 'damaged_property_mean']] \n",
    "#X = sm.add_constant(X)\n",
    "\n",
    "y = bodies_df.loc[:, 'uniformed_dummy']\n",
    "\n",
    "m = PanelOLS(dependent=y, exog=X, entity_effects=True, time_effects=True)\n",
    "model3 = m.fit(cov_type='clustered', cluster_time=True, cluster_entity=True)\n",
    "\n",
    "X = bodies_df.loc[:,[ 'log_best', 'person_dummy', 'damaged_property_mean', 'nlights_mean']] \n",
    "#X = sm.add_constant(X)\n",
    "\n",
    "y = bodies_df.loc[:, 'uniformed_dummy']\n",
    "\n",
    "m = PanelOLS(dependent=y, exog=X, entity_effects=True, time_effects=True)\n",
    "model4 = m.fit(cov_type='clustered', cluster_time=True, cluster_entity=True)\n",
    "\n",
    "X = bodies_df.loc[:,[ 'tce', 'person_dummy', 'damaged_property_mean', 'nlights_mean']] \n",
    "#X = sm.add_constant(X)\n",
    "\n",
    "y = bodies_df.loc[:, 'uniformed_dummy']\n",
    "\n",
    "m = PanelOLS(dependent=y, exog=X, entity_effects=True, time_effects=True)\n",
    "model5 = m.fit(cov_type='clustered', cluster_time=True, cluster_entity=True)\n",
    "\n",
    "X = bodies_df.loc[:,[ 'tsce', 'person_dummy', 'damaged_property_mean', 'nlights_mean']] \n",
    "#X = sm.add_constant(X)\n",
    "\n",
    "y = bodies_df.loc[:, 'uniformed_dummy']\n",
    "\n",
    "m = PanelOLS(dependent=y, exog=X, entity_effects=True, time_effects=True)\n",
    "model6 = m.fit(cov_type='clustered', cluster_time=True, cluster_entity=True)\n",
    "\n",
    "print(compare({\"model1\": model1, \"model2\": model2, \"model3\": model3, \"model4\": model4, \"model5\": model5, \"model6\": model6}, precision = 'std_errors', stars = True))"
   ]
  },
  {
   "cell_type": "code",
   "execution_count": null,
   "metadata": {},
   "outputs": [],
   "source": [
    "#Baghdad gid = 177569\n",
    "baghdad_df = bodies_df.loc[[177569]].copy()\n",
    "baghdad_df['damaged_property_clip'] = np.clip(baghdad_df['damaged_property_mean'], 0, None)"
   ]
  },
  {
   "cell_type": "code",
   "execution_count": null,
   "metadata": {},
   "outputs": [],
   "source": [
    "#feature = ['damaged_property_mean', 'rural_mean']\n",
    "# 'rural_mean', 'log_best', 'person_mean'\n",
    "\n",
    "feature = ['uniformed_dummy']\n",
    "target =  'Submitted' #'uniformed_dummy'\n",
    "\n",
    "\n",
    "X = bodies_df.loc[:,['log_best']] \n",
    "X = sm.add_constant(X)\n",
    "y = bodies_df.loc[:, target]\n",
    "\n",
    "m = PanelOLS(dependent=y, exog=X, entity_effects=False, time_effects=False, drop_absorbed = True)\n",
    "model1 =  m.fit(cov_type='robust')\n",
    "\n",
    "X = bodies_df.loc[:,['tce']] \n",
    "X = sm.add_constant(X)\n",
    "y = bodies_df.loc[:, target]\n",
    "\n",
    "m = PanelOLS(dependent=y, exog=X, entity_effects=False, time_effects=False, drop_absorbed = True)\n",
    "model2 =  m.fit(cov_type='robust')\n",
    "\n",
    "\n",
    "X = bodies_df.loc[:,['tsce']]\n",
    "X = sm.add_constant(X)\n",
    "y = bodies_df.loc[:, target]\n",
    "\n",
    "m = PanelOLS(dependent=y, exog=X, entity_effects=False, time_effects=False, drop_absorbed = True)\n",
    "model3 =  m.fit(cov_type='robust')\n",
    "\n",
    "\n",
    "\n",
    "print(compare({\"model1\": model1, \"model2\": model2, \"model3\": model3}, precision = 'std_errors', stars = True))"
   ]
  },
  {
   "cell_type": "code",
   "execution_count": null,
   "metadata": {},
   "outputs": [],
   "source": [
    "feature_list = ['person_dummy','female_dummy','male_dummy','religiousGarmentFemale_dummy',\n",
    "                'uniformed_dummy','mass_protest_mean','emotions_t2_mean','formal_mean',\n",
    "                'privat_mean','urban_mean','militarized_mean','damaged_property_mean',\n",
    "                'public_mean','emotions_t1_mean']"
   ]
  },
  {
   "cell_type": "code",
   "execution_count": null,
   "metadata": {},
   "outputs": [],
   "source": [
    "for feature in feature_list:\n",
    "\n",
    "    target =  'Submitted' #'uniformed_dummy'\n",
    "\n",
    "    X = bodies_df.loc[:,feature] \n",
    "    X = sm.add_constant(X)\n",
    "    y = bodies_df.loc[:, target]\n",
    "\n",
    "    m = PanelOLS(dependent=y, exog=X, entity_effects=False, time_effects=False, drop_absorbed = True)\n",
    "    model1 =  m.fit(cov_type='robust')\n",
    "\n",
    "    X = bodies_df.loc[:,feature] \n",
    "    #X = sm.add_constant(X)\n",
    "    y = bodies_df.loc[:, target]\n",
    "\n",
    "    m = PanelOLS(dependent=y, exog=X, entity_effects=True, time_effects=False, drop_absorbed = True)\n",
    "    model2 =  m.fit(cov_type='clustered', cluster_entity=True)\n",
    "\n",
    "\n",
    "    X = bodies_df.loc[:,feature] \n",
    "    #X = sm.add_constant(X)\n",
    "    y = bodies_df.loc[:, target]\n",
    "\n",
    "    m = PanelOLS(dependent=y, exog=X, entity_effects=False, time_effects=True, drop_absorbed = True)\n",
    "    model3 =  m.fit(cov_type='clustered', cluster_entity=False, cluster_time = True)\n",
    "\n",
    "\n",
    "    X = bodies_df.loc[:,feature] \n",
    "    #X = sm.add_constant(X)\n",
    "    y = bodies_df.loc[:, target]\n",
    "\n",
    "    m = PanelOLS(dependent=y, exog=X, entity_effects=True, time_effects=True, drop_absorbed = True)\n",
    "    model4 =  m.fit(cov_type='clustered', cluster_entity=True,  cluster_time = True)\n",
    "\n",
    "\n",
    "    print(compare({\"model1\": model1, \"model2\": model2, \"model3\": model3, \"model4\": model4}, precision = 'std_errors', stars = True))"
   ]
  },
  {
   "cell_type": "code",
   "execution_count": null,
   "metadata": {},
   "outputs": [],
   "source": []
  },
  {
   "cell_type": "code",
   "execution_count": null,
   "metadata": {},
   "outputs": [],
   "source": []
  },
  {
   "cell_type": "code",
   "execution_count": null,
   "metadata": {},
   "outputs": [],
   "source": []
  },
  {
   "cell_type": "markdown",
   "metadata": {},
   "source": [
    "# NEW THING FOR INTRODUCTION TO"
   ]
  },
  {
   "cell_type": "code",
   "execution_count": null,
   "metadata": {},
   "outputs": [],
   "source": [
    "#feature = ['damaged_property_mean', 'rural_mean']\n",
    "\n",
    "feature = ['mass_protest_mean']\n",
    "\n",
    "target =  'Submitted' #'uniformed_dummy'\n",
    "\n",
    "\n",
    "X = bodies_df.loc[:,feature] \n",
    "X = sm.add_constant(X)\n",
    "y = bodies_df.loc[:, target]\n",
    "\n",
    "m = PanelOLS(dependent=y, exog=X, entity_effects=False, time_effects=False, drop_absorbed = True)\n",
    "model1 =  m.fit(cov_type='robust')\n",
    "\n",
    "X = bodies_df.loc[:,feature] \n",
    "#X = sm.add_constant(X)\n",
    "y = bodies_df.loc[:, target]\n",
    "\n",
    "m = PanelOLS(dependent=y, exog=X, entity_effects=True, time_effects=False, drop_absorbed = True)\n",
    "model2 =  m.fit(cov_type='clustered', cluster_entity=True)\n",
    "\n",
    "\n",
    "X = bodies_df.loc[:,feature] \n",
    "#X = sm.add_constant(X)\n",
    "y = bodies_df.loc[:, target]\n",
    "\n",
    "m = PanelOLS(dependent=y, exog=X, entity_effects=False, time_effects=True, drop_absorbed = True)\n",
    "model3 =  m.fit(cov_type='clustered', cluster_entity=False, cluster_time = True)\n",
    "\n",
    "\n",
    "X = bodies_df.loc[:,feature] \n",
    "#X = sm.add_constant(X)\n",
    "y = bodies_df.loc[:, target]\n",
    "\n",
    "m = PanelOLS(dependent=y, exog=X, entity_effects=True, time_effects=True, drop_absorbed = True)\n",
    "model4 =  m.fit(cov_type='clustered', cluster_entity=True,  cluster_time = True)\n",
    "\n",
    "\n",
    "print(compare({\"model1\": model1, \"model2\": model2, \"model3\": model3, \"model4\": model4}, precision = 'std_errors', stars = True))"
   ]
  },
  {
   "cell_type": "code",
   "execution_count": null,
   "metadata": {},
   "outputs": [],
   "source": [
    "feature = ['mass_protest_mean']\n",
    "\n",
    "target =  'Submitted' #'uniformed_dummy'\n",
    "\n",
    "\n",
    "X = bodies_df.loc[:,feature] \n",
    "#X = sm.add_constant(X)\n",
    "y = bodies_df.loc[:, target]\n",
    "\n",
    "m = PanelOLS(dependent=y, exog=X, entity_effects=True, time_effects=True, drop_absorbed = True)\n",
    "model1 =  m.fit(cov_type='clustered', cluster_entity=True,  cluster_time = True)\n",
    "\n",
    "X = bodies_df.loc[:,feature + ['person_mean']] \n",
    "#X = sm.add_constant(X)\n",
    "y = bodies_df.loc[:, target]\n",
    "\n",
    "m = PanelOLS(dependent=y, exog=X, entity_effects=True, time_effects=True, drop_absorbed = True)\n",
    "model2 =  m.fit(cov_type='clustered', cluster_entity=True,  cluster_time = True)\n",
    "\n",
    "X = bodies_df.loc[:,feature+ ['person_mean', 'public_mean']] \n",
    "#X = sm.add_constant(X)\n",
    "y = bodies_df.loc[:, target]\n",
    "\n",
    "m = PanelOLS(dependent=y, exog=X, entity_effects=True, time_effects=True, drop_absorbed = True)\n",
    "model3 =  m.fit(cov_type='clustered', cluster_entity=True,  cluster_time = True)\n",
    "\n",
    "X = bodies_df.loc[:,feature+ ['person_mean', 'public_mean', 'log_best']] \n",
    "#X = sm.add_constant(X)\n",
    "y = bodies_df.loc[:, target]\n",
    "\n",
    "m = PanelOLS(dependent=y, exog=X, entity_effects=True, time_effects=True, drop_absorbed = True)\n",
    "model4 =  m.fit(cov_type='clustered', cluster_entity=True,  cluster_time = True)\n",
    "\n",
    "\n",
    "X = bodies_df.loc[:,feature+ ['person_mean', 'public_mean', 'tce']] \n",
    "#X = sm.add_constant(X)\n",
    "y = bodies_df.loc[:, target]\n",
    "\n",
    "m = PanelOLS(dependent=y, exog=X, entity_effects=True, time_effects=True, drop_absorbed = True)\n",
    "model5 =  m.fit(cov_type='clustered', cluster_entity=True,  cluster_time = True)\n",
    "\n",
    "\n",
    "X = bodies_df.loc[:,feature+ ['person_mean', 'public_mean', 'tsce']] \n",
    "#X = sm.add_constant(X)\n",
    "y = bodies_df.loc[:, target]\n",
    "\n",
    "m = PanelOLS(dependent=y, exog=X, entity_effects=True, time_effects=True, drop_absorbed = True)\n",
    "model6 =  m.fit(cov_type='clustered', cluster_entity=True,  cluster_time = True)\n",
    "\n",
    "print(compare({\"model1\": model1, \"model2\": model2, \"model3\": model3, \"model4\": model4, \"model5\": model5, \"model6\": model6}, precision = 'std_errors', stars = True))"
   ]
  },
  {
   "cell_type": "code",
   "execution_count": null,
   "metadata": {},
   "outputs": [],
   "source": [
    "feature = ['mass_protest_mean']\n",
    "\n",
    "target =  'Submitted' #'uniformed_dummy'\n",
    "\n",
    "\n",
    "X = bodies_df.loc[:,feature] \n",
    "#X = sm.add_constant(X)\n",
    "y = bodies_df.loc[:, target]\n",
    "\n",
    "m = PanelOLS(dependent=y, exog=X, entity_effects=True, time_effects=False, drop_absorbed = True)\n",
    "model1 =  m.fit(cov_type='clustered', cluster_entity=True,  cluster_time = False)\n",
    "\n",
    "X = bodies_df.loc[:,feature + ['person_mean']] \n",
    "#X = sm.add_constant(X)\n",
    "y = bodies_df.loc[:, target]\n",
    "\n",
    "m = PanelOLS(dependent=y, exog=X, entity_effects=True, time_effects=False, drop_absorbed = True)\n",
    "model2 =  m.fit(cov_type='clustered', cluster_entity=True,  cluster_time = False)\n",
    "\n",
    "X = bodies_df.loc[:,feature+ ['person_mean', 'public_mean']] \n",
    "#X = sm.add_constant(X)\n",
    "y = bodies_df.loc[:, target]\n",
    "\n",
    "m = PanelOLS(dependent=y, exog=X, entity_effects=True, time_effects=False, drop_absorbed = True)\n",
    "model3 =  m.fit(cov_type='clustered', cluster_entity=True,  cluster_time = False)\n",
    "\n",
    "X = bodies_df.loc[:,feature+ ['person_mean', 'public_mean', 'log_best']] \n",
    "#X = sm.add_constant(X)\n",
    "y = bodies_df.loc[:, target]\n",
    "\n",
    "m = PanelOLS(dependent=y, exog=X, entity_effects=True, time_effects=False, drop_absorbed = True)\n",
    "model4 =  m.fit(cov_type='clustered', cluster_entity=True,  cluster_time = False)\n",
    "\n",
    "\n",
    "X = bodies_df.loc[:,feature+ ['person_mean', 'public_mean', 'log_best', 'rural_mean']] #\"!!!!!!\"\n",
    "#X = sm.add_constant(X)\n",
    "y = bodies_df.loc[:, target]\n",
    "\n",
    "m = PanelOLS(dependent=y, exog=X, entity_effects=True, time_effects=False, drop_absorbed = True)\n",
    "model5 =  m.fit(cov_type='clustered', cluster_entity=True,  cluster_time = False)\n",
    "\n",
    "\n",
    "X = bodies_df.loc[:,feature+ ['person_mean', 'public_mean', 'tsce']] \n",
    "#X = sm.add_constant(X)\n",
    "y = bodies_df.loc[:, target]\n",
    "\n",
    "m = PanelOLS(dependent=y, exog=X, entity_effects=True, time_effects=False, drop_absorbed = True)\n",
    "model6 =  m.fit(cov_type='clustered', cluster_entity=True,  cluster_time = False)\n",
    "\n",
    "print(compare({\"model1\": model1, \"model2\": model2, \"model3\": model3, \"model4\": model4, \"model5\": model5, \"model6\": model6}, precision = 'std_errors', stars = True))"
   ]
  },
  {
   "cell_type": "code",
   "execution_count": null,
   "metadata": {},
   "outputs": [],
   "source": [
    "feature = ['mass_protest_mean']\n",
    "\n",
    "target =  'Submitted' #'uniformed_dummy'\n",
    "\n",
    "\n",
    "X = bodies_df.loc[:,feature] \n",
    "X = sm.add_constant(X)\n",
    "y = bodies_df.loc[:, target]\n",
    "\n",
    "m = PanelOLS(dependent=y, exog=X, entity_effects=False, time_effects=False, drop_absorbed = True)\n",
    "model1 =  m.fit(cov_type='robust')\n",
    "\n",
    "X = bodies_df.loc[:,feature + ['person_mean']] \n",
    "X = sm.add_constant(X)\n",
    "y = bodies_df.loc[:, target]\n",
    "\n",
    "m = PanelOLS(dependent=y, exog=X, entity_effects=False, time_effects=False, drop_absorbed = True)\n",
    "model2 =  m.fit(cov_type='robust')\n",
    "\n",
    "X = bodies_df.loc[:,feature+ ['person_mean', 'public_mean']] \n",
    "X = sm.add_constant(X)\n",
    "y = bodies_df.loc[:, target]\n",
    "\n",
    "m = PanelOLS(dependent=y, exog=X, entity_effects=False, time_effects=False, drop_absorbed = True)\n",
    "model3 =  m.fit(cov_type='robust')\n",
    "\n",
    "X = bodies_df.loc[:,feature+ ['person_mean', 'public_mean', 'log_best']] \n",
    "X = sm.add_constant(X)\n",
    "y = bodies_df.loc[:, target]\n",
    "\n",
    "m = PanelOLS(dependent=y, exog=X, entity_effects=False, time_effects=False, drop_absorbed = True)\n",
    "model4 =  m.fit(cov_type='robust')\n",
    "\n",
    "\n",
    "X = bodies_df.loc[:,feature+ ['person_mean', 'public_mean', 'tce']] \n",
    "X = sm.add_constant(X)\n",
    "y = bodies_df.loc[:, target]\n",
    "\n",
    "m = PanelOLS(dependent=y, exog=X, entity_effects=False, time_effects=False, drop_absorbed = True)\n",
    "model5 =  m.fit(cov_type='robust')\n",
    "\n",
    "\n",
    "X = bodies_df.loc[:,feature+ ['person_mean', 'public_mean', 'tsce']] \n",
    "X = sm.add_constant(X)\n",
    "y = bodies_df.loc[:, target]\n",
    "\n",
    "m = PanelOLS(dependent=y, exog=X, entity_effects=False, time_effects=False, drop_absorbed = True)\n",
    "model6 =  m.fit(cov_type='robust')\n",
    "\n",
    "print(compare({\"model1\": model1, \"model2\": model2, \"model3\": model3, \"model4\": model4, \"model5\": model5, \"model6\": model6}, precision = 'std_errors', stars = True))"
   ]
  },
  {
   "cell_type": "code",
   "execution_count": null,
   "metadata": {},
   "outputs": [],
   "source": []
  },
  {
   "cell_type": "code",
   "execution_count": null,
   "metadata": {},
   "outputs": [],
   "source": []
  },
  {
   "cell_type": "code",
   "execution_count": null,
   "metadata": {},
   "outputs": [],
   "source": []
  },
  {
   "cell_type": "code",
   "execution_count": null,
   "metadata": {},
   "outputs": [],
   "source": []
  },
  {
   "cell_type": "code",
   "execution_count": null,
   "metadata": {},
   "outputs": [],
   "source": []
  },
  {
   "cell_type": "code",
   "execution_count": null,
   "metadata": {},
   "outputs": [],
   "source": []
  },
  {
   "cell_type": "code",
   "execution_count": null,
   "metadata": {},
   "outputs": [],
   "source": []
  },
  {
   "cell_type": "code",
   "execution_count": null,
   "metadata": {},
   "outputs": [],
   "source": []
  },
  {
   "cell_type": "code",
   "execution_count": null,
   "metadata": {},
   "outputs": [],
   "source": []
  },
  {
   "cell_type": "code",
   "execution_count": null,
   "metadata": {},
   "outputs": [],
   "source": []
  },
  {
   "cell_type": "code",
   "execution_count": null,
   "metadata": {},
   "outputs": [],
   "source": [
    "# POOLD\n",
    "\n",
    "X = bodies_df.loc[:,['uniformed_dummy']] \n",
    "X = sm.add_constant(X)\n",
    "y = bodies_df.loc[:, 'log_best']\n",
    "\n",
    "m = PanelOLS(dependent=y, exog=X, entity_effects=False, time_effects=False, drop_absorbed = True)\n",
    "model1 =  m.fit(cov_type='robust')\n",
    "\n",
    "X = bodies_df.loc[:,[ 'log_best', 'person_dummy']] \n",
    "X = sm.add_constant(X)\n",
    "\n",
    "y = bodies_df.loc[:, 'damaged_property_mean']\n",
    "\n",
    "m = PanelOLS(dependent=y, exog=X, entity_effects=False, time_effects=False, drop_absorbed = True)\n",
    "model2 = m.fit(cov_type='robust')\n",
    "\n",
    "X = bodies_df.loc[:,[ 'log_best', 'person_dummy', 'uniformed_dummy']] \n",
    "X = sm.add_constant(X)\n",
    "\n",
    "y = bodies_df.loc[:, 'damaged_property_mean']\n",
    "\n",
    "m = PanelOLS(dependent=y, exog=X, entity_effects=False, time_effects=False, drop_absorbed = True)\n",
    "model3 = m.fit(cov_type='robust')\n",
    "\n",
    "X = bodies_df.loc[:,[ 'log_best', 'person_dummy', 'uniformed_dummy', 'nlights_mean']] \n",
    "X = sm.add_constant(X)\n",
    "\n",
    "y = bodies_df.loc[:, 'damaged_property_mean']\n",
    "\n",
    "m = PanelOLS(dependent=y, exog=X, entity_effects=False, time_effects=False, drop_absorbed = True)\n",
    "model4 = m.fit(cov_type='robust')\n",
    "\n",
    "X = bodies_df.loc[:,[ 'tce', 'person_dummy', 'uniformed_dummy', 'nlights_mean']] \n",
    "X = sm.add_constant(X)\n",
    "\n",
    "y = bodies_df.loc[:, 'damaged_property_mean']\n",
    "\n",
    "m = PanelOLS(dependent=y, exog=X, entity_effects=False, time_effects=False, drop_absorbed = True)\n",
    "model5 = m.fit(cov_type='robust')\n",
    "\n",
    "X = bodies_df.loc[:,[ 'tsce', 'person_dummy', 'uniformed_dummy', 'nlights_mean']] \n",
    "X = sm.add_constant(X)\n",
    "\n",
    "y = bodies_df.loc[:, 'damaged_property_mean']\n",
    "\n",
    "m = PanelOLS(dependent=y, exog=X, entity_effects=False, time_effects=False, drop_absorbed = True)\n",
    "model6 = m.fit(cov_type='robust')\n",
    "\n",
    "print(compare({\"model1\": model1, \"model2\": model2, \"model3\": model3, \"model4\": model4, \"model5\": model5, \"model6\": model6}, precision = 'std_errors', stars = True))"
   ]
  },
  {
   "cell_type": "code",
   "execution_count": null,
   "metadata": {},
   "outputs": [],
   "source": []
  },
  {
   "cell_type": "code",
   "execution_count": null,
   "metadata": {},
   "outputs": [],
   "source": []
  },
  {
   "cell_type": "code",
   "execution_count": null,
   "metadata": {},
   "outputs": [],
   "source": []
  },
  {
   "cell_type": "code",
   "execution_count": null,
   "metadata": {},
   "outputs": [],
   "source": []
  },
  {
   "cell_type": "code",
   "execution_count": null,
   "metadata": {},
   "outputs": [],
   "source": []
  },
  {
   "cell_type": "code",
   "execution_count": null,
   "metadata": {},
   "outputs": [],
   "source": []
  },
  {
   "cell_type": "code",
   "execution_count": null,
   "metadata": {},
   "outputs": [],
   "source": []
  },
  {
   "cell_type": "markdown",
   "metadata": {},
   "source": [
    "## Destroyd property "
   ]
  },
  {
   "cell_type": "code",
   "execution_count": null,
   "metadata": {},
   "outputs": [],
   "source": [
    "# POOLD\n",
    "\n",
    "X = bodies_df.loc[:,['log_best']] \n",
    "X = sm.add_constant(X)\n",
    "y = bodies_df.loc[:, 'damaged_property_mean']\n",
    "\n",
    "m = PanelOLS(dependent=y, exog=X, entity_effects=False, time_effects=False, drop_absorbed = True)\n",
    "model1 =  m.fit(cov_type='robust')\n",
    "\n",
    "X = bodies_df.loc[:,[ 'log_best', 'person_dummy']] \n",
    "X = sm.add_constant(X)\n",
    "\n",
    "y = bodies_df.loc[:, 'damaged_property_mean']\n",
    "\n",
    "m = PanelOLS(dependent=y, exog=X, entity_effects=False, time_effects=False, drop_absorbed = True)\n",
    "model2 = m.fit(cov_type='robust')\n",
    "\n",
    "X = bodies_df.loc[:,[ 'log_best', 'person_dummy', 'uniformed_dummy']] \n",
    "X = sm.add_constant(X)\n",
    "\n",
    "y = bodies_df.loc[:, 'damaged_property_mean']\n",
    "\n",
    "m = PanelOLS(dependent=y, exog=X, entity_effects=False, time_effects=False, drop_absorbed = True)\n",
    "model3 = m.fit(cov_type='robust')\n",
    "\n",
    "X = bodies_df.loc[:,[ 'log_best', 'person_dummy', 'uniformed_dummy', 'nlights_mean']] \n",
    "X = sm.add_constant(X)\n",
    "\n",
    "y = bodies_df.loc[:, 'damaged_property_mean']\n",
    "\n",
    "m = PanelOLS(dependent=y, exog=X, entity_effects=False, time_effects=False, drop_absorbed = True)\n",
    "model4 = m.fit(cov_type='robust')\n",
    "\n",
    "X = bodies_df.loc[:,[ 'tce', 'person_dummy', 'uniformed_dummy', 'nlights_mean']] \n",
    "X = sm.add_constant(X)\n",
    "\n",
    "y = bodies_df.loc[:, 'damaged_property_mean']\n",
    "\n",
    "m = PanelOLS(dependent=y, exog=X, entity_effects=False, time_effects=False, drop_absorbed = True)\n",
    "model5 = m.fit(cov_type='robust')\n",
    "\n",
    "X = bodies_df.loc[:,[ 'tsce', 'person_dummy', 'uniformed_dummy', 'nlights_mean']] \n",
    "X = sm.add_constant(X)\n",
    "\n",
    "y = bodies_df.loc[:, 'damaged_property_mean']\n",
    "\n",
    "m = PanelOLS(dependent=y, exog=X, entity_effects=False, time_effects=False, drop_absorbed = True)\n",
    "model6 = m.fit(cov_type='robust')\n",
    "\n",
    "print(compare({\"model1\": model1, \"model2\": model2, \"model3\": model3, \"model4\": model4, \"model5\": model5, \"model6\": model6}, precision = 'std_errors', stars = True))"
   ]
  },
  {
   "cell_type": "code",
   "execution_count": null,
   "metadata": {},
   "outputs": [],
   "source": [
    "# FE Entity\n",
    "\n",
    "X = bodies_df.loc[:,['log_best']] \n",
    "#X = sm.add_constant(X)\n",
    "y = bodies_df.loc[:, 'damaged_property_mean']\n",
    "\n",
    "m = PanelOLS(dependent=y, exog=X, entity_effects=True, time_effects=False, drop_absorbed = True)\n",
    "model1 =  m.fit(cov_type='clustered', cluster_time=False, cluster_entity=True)\n",
    "\n",
    "X = bodies_df.loc[:,[ 'log_best', 'person_dummy']] \n",
    "#X = sm.add_constant(X)\n",
    "\n",
    "y = bodies_df.loc[:, 'damaged_property_mean']\n",
    "\n",
    "m = PanelOLS(dependent=y, exog=X, entity_effects=True, time_effects=False, drop_absorbed = True)\n",
    "model2 = m.fit(cov_type='clustered', cluster_time=False, cluster_entity=True)\n",
    "\n",
    "X = bodies_df.loc[:,[ 'log_best', 'person_dummy', 'uniformed_dummy']] \n",
    "#X = sm.add_constant(X)\n",
    "\n",
    "y = bodies_df.loc[:, 'damaged_property_mean']\n",
    "\n",
    "m = PanelOLS(dependent=y, exog=X, entity_effects=True, time_effects=False, drop_absorbed = True)\n",
    "model3 = m.fit(cov_type='clustered', cluster_time=False, cluster_entity=True)\n",
    "\n",
    "X = bodies_df.loc[:,[ 'log_best', 'person_dummy', 'uniformed_dummy', 'nlights_mean']] \n",
    "#X = sm.add_constant(X)\n",
    "\n",
    "y = bodies_df.loc[:, 'damaged_property_mean']\n",
    "\n",
    "m = PanelOLS(dependent=y, exog=X, entity_effects=True, time_effects=False, drop_absorbed = True)\n",
    "model4 = m.fit(cov_type='clustered', cluster_time=False, cluster_entity=True)\n",
    "\n",
    "X = bodies_df.loc[:,[ 'tce', 'person_dummy', 'uniformed_dummy', 'nlights_mean']] \n",
    "#X = sm.add_constant(X)\n",
    "\n",
    "y = bodies_df.loc[:, 'damaged_property_mean']\n",
    "\n",
    "m = PanelOLS(dependent=y, exog=X, entity_effects=True, time_effects=False, drop_absorbed = True)\n",
    "model5 = m.fit(cov_type='clustered', cluster_time=False, cluster_entity=True)\n",
    "\n",
    "X = bodies_df.loc[:,[ 'tsce', 'person_dummy', 'uniformed_dummy', 'nlights_mean']] \n",
    "#X = sm.add_constant(X)\n",
    "\n",
    "y = bodies_df.loc[:, 'damaged_property_mean']\n",
    "\n",
    "m = PanelOLS(dependent=y, exog=X, entity_effects=True, time_effects=False, drop_absorbed = True)\n",
    "model6 = m.fit(cov_type='clustered', cluster_time=False, cluster_entity=True)\n",
    "\n",
    "print(compare({\"model1\": model1, \"model2\": model2, \"model3\": model3, \"model4\": model4, \"model5\": model5, \"model6\": model6}, precision = 'std_errors', stars = True))"
   ]
  },
  {
   "cell_type": "code",
   "execution_count": null,
   "metadata": {},
   "outputs": [],
   "source": [
    "# FE TIME\n",
    "\n",
    "X = bodies_df.loc[:,['log_best']] \n",
    "#X = sm.add_constant(X)\n",
    "y = bodies_df.loc[:, 'damaged_property_mean']\n",
    "\n",
    "m = PanelOLS(dependent=y, exog=X, entity_effects=False, time_effects=True, drop_absorbed = True)\n",
    "model1 =  m.fit(cov_type='clustered', cluster_time=True, cluster_entity=False)\n",
    "\n",
    "X = bodies_df.loc[:,[ 'log_best', 'person_dummy']] \n",
    "#X = sm.add_constant(X)\n",
    "\n",
    "y = bodies_df.loc[:, 'damaged_property_mean']\n",
    "\n",
    "m = PanelOLS(dependent=y, exog=X, entity_effects=False, time_effects=True, drop_absorbed = True)\n",
    "model2 = m.fit(cov_type='clustered', cluster_time=True, cluster_entity=False)\n",
    "\n",
    "X = bodies_df.loc[:,[ 'log_best', 'person_dummy', 'uniformed_dummy']] \n",
    "#X = sm.add_constant(X)\n",
    "\n",
    "y = bodies_df.loc[:, 'damaged_property_mean']\n",
    "\n",
    "m = PanelOLS(dependent=y, exog=X, entity_effects=False, time_effects=True, drop_absorbed = True)\n",
    "model3 = m.fit(cov_type='clustered', cluster_time=True, cluster_entity=False)\n",
    "\n",
    "X = bodies_df.loc[:,[ 'log_best', 'person_dummy', 'uniformed_dummy', 'nlights_mean']] \n",
    "#X = sm.add_constant(X)\n",
    "\n",
    "y = bodies_df.loc[:, 'damaged_property_mean']\n",
    "\n",
    "m = PanelOLS(dependent=y, exog=X, entity_effects=False, time_effects=True, drop_absorbed = True)\n",
    "model4 = m.fit(cov_type='clustered', cluster_time=True, cluster_entity=False)\n",
    "\n",
    "X = bodies_df.loc[:,[ 'tce', 'person_dummy', 'uniformed_dummy', 'nlights_mean']] \n",
    "#X = sm.add_constant(X)\n",
    "\n",
    "y = bodies_df.loc[:, 'damaged_property_mean']\n",
    "\n",
    "m = PanelOLS(dependent=y, exog=X, entity_effects=False, time_effects=True, drop_absorbed = True)\n",
    "model5 = m.fit(cov_type='clustered', cluster_time=True, cluster_entity=False)\n",
    "\n",
    "X = bodies_df.loc[:,[ 'tsce', 'person_dummy', 'uniformed_dummy', 'nlights_mean']] \n",
    "#X = sm.add_constant(X)\n",
    "\n",
    "y = bodies_df.loc[:, 'damaged_property_mean']\n",
    "\n",
    "m = PanelOLS(dependent=y, exog=X, entity_effects=False, time_effects=True, drop_absorbed = True)\n",
    "model6 = m.fit(cov_type='clustered', cluster_time=True, cluster_entity=False)\n",
    "\n",
    "print(compare({\"model1\": model1, \"model2\": model2, \"model3\": model3, \"model4\": model4, \"model5\": model5, \"model6\": model6}, precision = 'std_errors', stars = True))"
   ]
  },
  {
   "cell_type": "code",
   "execution_count": null,
   "metadata": {},
   "outputs": [],
   "source": [
    "# TWO-WAY FE\n",
    "\n",
    "X = bodies_df.loc[:,['log_best']] \n",
    "#X = sm.add_constant(X)\n",
    "y = bodies_df.loc[:, 'damaged_property_mean']\n",
    "\n",
    "m = PanelOLS(dependent=y, exog=X, entity_effects=True, time_effects=True, drop_absorbed = True)\n",
    "model1 =  m.fit(cov_type='clustered', cluster_time=True, cluster_entity=True)\n",
    "\n",
    "X = bodies_df.loc[:,[ 'log_best', 'person_dummy']] \n",
    "#X = sm.add_constant(X)\n",
    "\n",
    "y = bodies_df.loc[:, 'damaged_property_mean']\n",
    "\n",
    "m = PanelOLS(dependent=y, exog=X, entity_effects=True, time_effects=True, drop_absorbed = True)\n",
    "model2 = m.fit(cov_type='clustered', cluster_time=True, cluster_entity=True)\n",
    "\n",
    "X = bodies_df.loc[:,[ 'log_best', 'person_dummy', 'uniformed_dummy']] \n",
    "#X = sm.add_constant(X)\n",
    "\n",
    "y = bodies_df.loc[:, 'damaged_property_mean']\n",
    "\n",
    "m = PanelOLS(dependent=y, exog=X, entity_effects=True, time_effects=True, drop_absorbed = True)\n",
    "model3 = m.fit(cov_type='clustered', cluster_time=True, cluster_entity=True)\n",
    "\n",
    "X = bodies_df.loc[:,[ 'log_best', 'person_dummy', 'uniformed_dummy', 'nlights_mean']] \n",
    "#X = sm.add_constant(X)\n",
    "\n",
    "y = bodies_df.loc[:, 'damaged_property_mean']\n",
    "\n",
    "m = PanelOLS(dependent=y, exog=X, entity_effects=True, time_effects=True, drop_absorbed = True)\n",
    "model4 = m.fit(cov_type='clustered', cluster_time=True, cluster_entity=True)\n",
    "\n",
    "X = bodies_df.loc[:,[ 'tce', 'person_dummy', 'uniformed_dummy', 'nlights_mean']] \n",
    "#X = sm.add_constant(X)\n",
    "\n",
    "y = bodies_df.loc[:, 'damaged_property_mean']\n",
    "\n",
    "m = PanelOLS(dependent=y, exog=X, entity_effects=True, time_effects=True, drop_absorbed = True)\n",
    "model5 = m.fit(cov_type='clustered', cluster_time=True, cluster_entity=True)\n",
    "\n",
    "X = bodies_df.loc[:,[ 'tsce', 'person_dummy', 'uniformed_dummy', 'nlights_mean']] \n",
    "#X = sm.add_constant(X)\n",
    "\n",
    "y = bodies_df.loc[:, 'damaged_property_mean']\n",
    "\n",
    "m = PanelOLS(dependent=y, exog=X, entity_effects=True, time_effects=True, drop_absorbed = True)\n",
    "model6 = m.fit(cov_type='clustered', cluster_time=True, cluster_entity=True)\n",
    "\n",
    "print(compare({\"model1\": model1, \"model2\": model2, \"model3\": model3, \"model4\": model4, \"model5\": model5, \"model6\": model6}, precision = 'std_errors', stars = True))"
   ]
  },
  {
   "cell_type": "code",
   "execution_count": null,
   "metadata": {},
   "outputs": [],
   "source": []
  },
  {
   "cell_type": "code",
   "execution_count": null,
   "metadata": {},
   "outputs": [],
   "source": []
  },
  {
   "cell_type": "code",
   "execution_count": null,
   "metadata": {},
   "outputs": [],
   "source": []
  },
  {
   "cell_type": "code",
   "execution_count": null,
   "metadata": {},
   "outputs": [],
   "source": []
  },
  {
   "cell_type": "code",
   "execution_count": null,
   "metadata": {},
   "outputs": [],
   "source": []
  },
  {
   "cell_type": "markdown",
   "metadata": {},
   "source": [
    "# 1.3"
   ]
  },
  {
   "cell_type": "markdown",
   "metadata": {},
   "source": [
    "## FTFP female"
   ]
  },
  {
   "cell_type": "code",
   "execution_count": null,
   "metadata": {},
   "outputs": [],
   "source": [
    "#FEMALE\n",
    "X = bodies_df.loc[:,['female_dummy']] \n",
    "y = bodies_df.loc[:, 'Submitted']\n",
    "\n",
    "m = PanelOLS(dependent=y, exog=X, entity_effects=True, time_effects=True, drop_absorbed = True)\n",
    "model1 =  m.fit(cov_type='clustered', cluster_time=True, cluster_entity=True)\n",
    "\n",
    "\n",
    "X = bodies_df.loc[:,[ 'female_dummy', 'person_dummy']] \n",
    "y = bodies_df.loc[:, 'Submitted']\n",
    "\n",
    "m = PanelOLS(dependent=y, exog=X, entity_effects=True, time_effects=True, drop_absorbed = True)\n",
    "model2 = m.fit(cov_type='clustered', cluster_time=True, cluster_entity=True)\n",
    "\n",
    "X = bodies_df.loc[:,[ 'female_dummy', 'person_dummy', 'all_privat_mean']] \n",
    "y = bodies_df.loc[:, 'Submitted']\n",
    "\n",
    "m = PanelOLS(dependent=y, exog=X, entity_effects=True, time_effects=True, drop_absorbed = True)\n",
    "model3 = m.fit(cov_type='clustered', cluster_time=True, cluster_entity=True)\n",
    "\n",
    "\n",
    "X = bodies_df.loc[:,[ 'female_dummy', 'person_dummy', 'all_privat_mean', 'all_rural_mean']] \n",
    "y = bodies_df.loc[:, 'Submitted']\n",
    "\n",
    "m = PanelOLS(dependent=y, exog=X, entity_effects=True, time_effects=True, drop_absorbed = True)\n",
    "model4 = m.fit(cov_type='clustered', cluster_time=True, cluster_entity=True)\n",
    "\n",
    "\n",
    "X = bodies_df.loc[:,[ 'female_dummy', 'person_dummy','all_privat_mean', 'all_rural_mean','nlights_mean']] \n",
    "y = bodies_df.loc[:, 'Submitted']\n",
    "\n",
    "m = PanelOLS(dependent=y, exog=X, entity_effects=True, time_effects=True, drop_absorbed = True)\n",
    "model5 = m.fit(cov_type='clustered', cluster_time=True, cluster_entity=True)\n",
    "\n",
    "\n",
    "X = bodies_df.loc[:,[ 'female_dummy', 'person_dummy', 'all_privat_mean', 'all_rural_mean','nlights_mean', 'log_best']] \n",
    "y = bodies_df.loc[:, 'Submitted']\n",
    "\n",
    "m = PanelOLS(dependent=y, exog=X, entity_effects=True, time_effects=True, drop_absorbed = True)\n",
    "model6 = m.fit(cov_type='clustered', cluster_time=True, cluster_entity=True)\n",
    "\n",
    "X = bodies_df.loc[:,[ 'female_dummy', 'person_dummy','all_privat_mean', 'all_rural_mean','nlights_mean', 'tce']] \n",
    "y = bodies_df.loc[:, 'Submitted']\n",
    "\n",
    "m = PanelOLS(dependent=y, exog=X, entity_effects=True, time_effects=True, drop_absorbed = True)\n",
    "model7 = m.fit(cov_type='clustered', cluster_time=True, cluster_entity=True)\n",
    "\n",
    "X = bodies_df.loc[:,[ 'female_dummy', 'person_dummy', 'all_privat_mean', 'all_rural_mean','nlights_mean', 'tsce']] \n",
    "y = bodies_df.loc[:, 'Submitted']\n",
    "\n",
    "m = PanelOLS(dependent=y, exog=X, entity_effects=True, time_effects=True, drop_absorbed = True)\n",
    "model8 = m.fit(cov_type='clustered', cluster_time=True, cluster_entity=True)\n",
    "\n",
    "\n",
    "print(compare({\"model1\": model1, \"model2\": model2, \"model3\": model3, \"model4\": model4, \"model5\": model5, \"model6\": model6, \"model7\": model7, \"model8\": model8}, precision = 'std_errors', stars = True))"
   ]
  },
  {
   "cell_type": "markdown",
   "metadata": {},
   "source": [
    "# FLFP GAR"
   ]
  },
  {
   "cell_type": "code",
   "execution_count": null,
   "metadata": {},
   "outputs": [],
   "source": [
    "# GARMENTS\n",
    "X = bodies_df.loc[:,['religiousGarmentFemale_dummy']] \n",
    "y = bodies_df.loc[:, 'Submitted']\n",
    "\n",
    "m = PanelOLS(dependent=y, exog=X, entity_effects=True, time_effects=True, drop_absorbed = True)\n",
    "model1 =  m.fit(cov_type='clustered', cluster_time=True, cluster_entity=True)\n",
    "\n",
    "X = bodies_df.loc[:,['religiousGarmentFemale_dummy', 'female_dummy']] \n",
    "y = bodies_df.loc[:, 'Submitted']\n",
    "\n",
    "m = PanelOLS(dependent=y, exog=X, entity_effects=True, time_effects=True, drop_absorbed = True)\n",
    "model2 = m.fit(cov_type='clustered', cluster_time=True, cluster_entity=True)\n",
    "\n",
    "X = bodies_df.loc[:,['religiousGarmentFemale_dummy', 'female_dummy', 'person_dummy']] \n",
    "y = bodies_df.loc[:, 'Submitted']\n",
    "\n",
    "m = PanelOLS(dependent=y, exog=X, entity_effects=True, time_effects=True, drop_absorbed = True)\n",
    "model3 = m.fit(cov_type='clustered', cluster_time=True, cluster_entity=True)\n",
    "\n",
    "X = bodies_df.loc[:,['religiousGarmentFemale_dummy', 'female_dummy', 'person_dummy', 'all_privat_mean']] \n",
    "y = bodies_df.loc[:, 'Submitted']\n",
    "\n",
    "m = PanelOLS(dependent=y, exog=X, entity_effects=True, time_effects=True, drop_absorbed = True)\n",
    "model4 = m.fit(cov_type='clustered', cluster_time=True, cluster_entity=True)\n",
    "\n",
    "X = bodies_df.loc[:,['religiousGarmentFemale_dummy', 'female_dummy', 'person_dummy', 'all_privat_mean', 'all_rural_mean']] \n",
    "y = bodies_df.loc[:, 'Submitted']\n",
    "\n",
    "m = PanelOLS(dependent=y, exog=X, entity_effects=True, time_effects=True, drop_absorbed = True)\n",
    "model5 = m.fit(cov_type='clustered', cluster_time=True, cluster_entity=True)\n",
    "\n",
    "\n",
    "X = bodies_df.loc[:,['religiousGarmentFemale_dummy', 'female_dummy', 'person_dummy', 'all_privat_mean', 'all_rural_mean','nlights_mean']] \n",
    "y = bodies_df.loc[:, 'Submitted']\n",
    "\n",
    "m = PanelOLS(dependent=y, exog=X, entity_effects=True, time_effects=True, drop_absorbed = True)\n",
    "model6 = m.fit(cov_type='clustered', cluster_time=True, cluster_entity=True)\n",
    "\n",
    "\n",
    "X = bodies_df.loc[:,['religiousGarmentFemale_dummy', 'female_dummy', 'person_dummy', 'all_privat_mean', 'all_rural_mean','nlights_mean', 'log_best']] \n",
    "y = bodies_df.loc[:, 'Submitted']\n",
    "\n",
    "m = PanelOLS(dependent=y, exog=X, entity_effects=True, time_effects=True, drop_absorbed = True)\n",
    "model7 = m.fit(cov_type='clustered', cluster_time=True, cluster_entity=True)\n",
    "\n",
    "X = bodies_df.loc[:,['religiousGarmentFemale_dummy', 'female_dummy', 'person_dummy', 'all_privat_mean', 'all_rural_mean','nlights_mean', 'tce']] \n",
    "y = bodies_df.loc[:, 'Submitted']\n",
    "\n",
    "m = PanelOLS(dependent=y, exog=X, entity_effects=True, time_effects=True, drop_absorbed = True)\n",
    "model8 = m.fit(cov_type='clustered', cluster_time=True, cluster_entity=True)\n",
    "\n",
    "X = bodies_df.loc[:,['religiousGarmentFemale_dummy', 'female_dummy', 'person_dummy', 'all_privat_mean', 'all_rural_mean','nlights_mean', 'tsce']] \n",
    "y = bodies_df.loc[:, 'Submitted']\n",
    "\n",
    "m = PanelOLS(dependent=y, exog=X, entity_effects=True, time_effects=True, drop_absorbed = True)\n",
    "model9 = m.fit(cov_type='clustered', cluster_time=True, cluster_entity=True)\n",
    "\n",
    "\n",
    "print(compare({\"model1\": model1, \"model2\": model2, \"model3\": model3, \"model4\": model4, \"model5\": model5, \"model6\": model6, \"model7\": model7, \"model8\": model8, \"model9\": model9}, precision = 'std_errors', stars = True))"
   ]
  },
  {
   "cell_type": "markdown",
   "metadata": {},
   "source": [
    "# FTFP damaged"
   ]
  },
  {
   "cell_type": "code",
   "execution_count": null,
   "metadata": {},
   "outputs": [],
   "source": [
    "X = bodies_df.loc[:,['damaged_property_mean' ]] \n",
    "y = bodies_df.loc[:, 'Submitted']\n",
    "\n",
    "m = PanelOLS(dependent=y, exog=X, entity_effects=True, time_effects=True, drop_absorbed = True)\n",
    "model1 =  m.fit(cov_type='clustered', cluster_time=True, cluster_entity=True)\n",
    "\n",
    "\n",
    "X = bodies_df.loc[:,['damaged_property_mean', 'all_rural_mean']] \n",
    "y = bodies_df.loc[:, 'Submitted']\n",
    "\n",
    "m = PanelOLS(dependent=y, exog=X, entity_effects=True, time_effects=True, drop_absorbed = True)\n",
    "model2 =  m.fit(cov_type='clustered', cluster_time=True, cluster_entity=True)\n",
    "\n",
    "\n",
    "X = bodies_df.loc[:,['damaged_property_mean', 'all_rural_mean', 'all_militarized_mean']] \n",
    "y = bodies_df.loc[:, 'Submitted']\n",
    "\n",
    "m = PanelOLS(dependent=y, exog=X, entity_effects=True, time_effects=True, drop_absorbed = True)\n",
    "model3 =  m.fit(cov_type='clustered', cluster_time=True, cluster_entity=True)\n",
    "\n",
    "\n",
    "X = bodies_df.loc[:,['damaged_property_mean', 'all_rural_mean', 'all_militarized_mean', 'nlights_mean',  'log_best']] \n",
    "y = bodies_df.loc[:, 'Submitted']\n",
    "\n",
    "m = PanelOLS(dependent=y, exog=X, entity_effects=True, time_effects=True, drop_absorbed = True)\n",
    "model4 =  m.fit(cov_type='clustered', cluster_time=True, cluster_entity=True)\n",
    "\n",
    "\n",
    "X = bodies_df.loc[:,['damaged_property_mean', 'all_rural_mean', 'all_militarized_mean', 'nlights_mean',  'tce']] \n",
    "y = bodies_df.loc[:, 'Submitted']\n",
    "\n",
    "m = PanelOLS(dependent=y, exog=X, entity_effects=True, time_effects=True, drop_absorbed = True)\n",
    "model5 =  m.fit(cov_type='clustered', cluster_time=True, cluster_entity=True)\n",
    "\n",
    "\n",
    "X = bodies_df.loc[:,['damaged_property_mean', 'all_rural_mean', 'all_militarized_mean', 'nlights_mean',  'tsce']] \n",
    "y = bodies_df.loc[:, 'Submitted']\n",
    "\n",
    "m = PanelOLS(dependent=y, exog=X, entity_effects=True, time_effects=True, drop_absorbed = True)\n",
    "model6 =  m.fit(cov_type='clustered', cluster_time=True, cluster_entity=True)\n",
    "\n",
    "print(compare({\"model1\": model1, \"model2\": model2, \"model3\": model3, \"model4\": model4, \"model5\": model5, \"model6\": model6}, precision = 'std_errors', stars = True))"
   ]
  },
  {
   "cell_type": "markdown",
   "metadata": {},
   "source": [
    "# FTPT Protest"
   ]
  },
  {
   "cell_type": "code",
   "execution_count": null,
   "metadata": {},
   "outputs": [],
   "source": [
    "X = bodies_df.loc[:,['mass_protest_mean' ]] \n",
    "y = bodies_df.loc[:, 'Submitted']\n",
    "\n",
    "m = PanelOLS(dependent=y, exog=X, entity_effects=True, time_effects=True, drop_absorbed = True)\n",
    "model1 =  m.fit(cov_type='clustered', cluster_time=True, cluster_entity=True)\n",
    "\n",
    "\n",
    "X = bodies_df.loc[:,['mass_protest_mean', 'person_mean']] \n",
    "y = bodies_df.loc[:, 'Submitted']\n",
    "\n",
    "m = PanelOLS(dependent=y, exog=X, entity_effects=True, time_effects=True, drop_absorbed = True)\n",
    "model2 =  m.fit(cov_type='clustered', cluster_time=True, cluster_entity=True)\n",
    "\n",
    "\n",
    "X = bodies_df.loc[:,['mass_protest_mean', 'person_mean', 'all_public_mean']] \n",
    "y = bodies_df.loc[:, 'Submitted']\n",
    "\n",
    "m = PanelOLS(dependent=y, exog=X, entity_effects=True, time_effects=True, drop_absorbed = True)\n",
    "model3 =  m.fit(cov_type='clustered', cluster_time=True, cluster_entity=True)\n",
    "\n",
    "\n",
    "X = bodies_df.loc[:,['mass_protest_mean', 'person_mean', 'all_public_mean', 'all_urban_mean',  'log_best']] \n",
    "y = bodies_df.loc[:, 'Submitted']\n",
    "\n",
    "m = PanelOLS(dependent=y, exog=X, entity_effects=True, time_effects=True, drop_absorbed = True)\n",
    "model4 =  m.fit(cov_type='clustered', cluster_time=True, cluster_entity=True)\n",
    "\n",
    "\n",
    "X = bodies_df.loc[:,['mass_protest_mean', 'person_mean', 'all_public_mean', 'all_urban_mean',  'tce']] \n",
    "y = bodies_df.loc[:, 'Submitted']\n",
    "\n",
    "m = PanelOLS(dependent=y, exog=X, entity_effects=True, time_effects=True, drop_absorbed = True)\n",
    "model5 =  m.fit(cov_type='clustered', cluster_time=True, cluster_entity=True)\n",
    "\n",
    "\n",
    "X = bodies_df.loc[:,['mass_protest_mean', 'person_mean', 'all_public_mean', 'all_urban_mean',  'tsce']] \n",
    "y = bodies_df.loc[:, 'Submitted']\n",
    "\n",
    "m = PanelOLS(dependent=y, exog=X, entity_effects=True, time_effects=True, drop_absorbed = True)\n",
    "model6 =  m.fit(cov_type='clustered', cluster_time=True, cluster_entity=True)\n",
    "\n",
    "print(compare({\"model1\": model1, \"model2\": model2, \"model3\": model3, \"model4\": model4, \"model5\": model5, \"model6\": model6}, precision = 'std_errors', stars = True))"
   ]
  },
  {
   "cell_type": "markdown",
   "metadata": {},
   "source": [
    "# FTPT EMOTION"
   ]
  },
  {
   "cell_type": "code",
   "execution_count": null,
   "metadata": {},
   "outputs": [],
   "source": [
    "X = bodies_df.loc[:,['emotions_t1_mean' ]] \n",
    "y = bodies_df.loc[:, 'Submitted']\n",
    "\n",
    "m = PanelOLS(dependent=y, exog=X, entity_effects=True, time_effects=True, drop_absorbed = True)\n",
    "model1 =  m.fit(cov_type='clustered', cluster_time=True, cluster_entity=True)\n",
    "\n",
    "\n",
    "X = bodies_df.loc[:,['emotions_t1_mean', 'person_dummy' ]] \n",
    "y = bodies_df.loc[:, 'Submitted']\n",
    "\n",
    "m = PanelOLS(dependent=y, exog=X, entity_effects=True, time_effects=True, drop_absorbed = True)\n",
    "model2 =  m.fit(cov_type='clustered', cluster_time=True, cluster_entity=True)\n",
    "\n",
    "\n",
    "X = bodies_df.loc[:,['emotions_t1_mean', 'person_dummy', 'female_dummy', 'religiousGarmentFemale_dummy']] \n",
    "y = bodies_df.loc[:, 'Submitted']\n",
    "\n",
    "m = PanelOLS(dependent=y, exog=X, entity_effects=True, time_effects=True, drop_absorbed = True)\n",
    "model4 =  m.fit(cov_type='clustered', cluster_time=True, cluster_entity=True)\n",
    "\n",
    "\n",
    "X = bodies_df.loc[:,['emotions_t1_mean', 'person_dummy', 'female_dummy', 'religiousGarmentFemale_dummy', 'mass_protest_mean']] \n",
    "y = bodies_df.loc[:, 'Submitted']\n",
    "\n",
    "m = PanelOLS(dependent=y, exog=X, entity_effects=True, time_effects=True, drop_absorbed = True)\n",
    "model5 =  m.fit(cov_type='clustered', cluster_time=True, cluster_entity=True)\n",
    "\n",
    "print(compare({\"model1\": model1, \"model2\": model2, \"model3\": model3, \"model3\": model5, \"model5\": model5 }, precision = 'std_errors', stars = True))"
   ]
  },
  {
   "cell_type": "markdown",
   "metadata": {},
   "source": [
    "# What is emotion made of?"
   ]
  },
  {
   "cell_type": "code",
   "execution_count": null,
   "metadata": {},
   "outputs": [],
   "source": [
    "X = bodies_df.loc[:,['person_dummy']] \n",
    "y = bodies_df.loc[:, 'emotions_t1_mean']\n",
    "\n",
    "m = PanelOLS(dependent=y, exog=X, entity_effects=True, time_effects=True, drop_absorbed = True)\n",
    "model1 =  m.fit(cov_type='clustered', cluster_time=True, cluster_entity=True)\n",
    "\n",
    "\n",
    "X = bodies_df.loc[:,['person_dummy', 'female_dummy']] \n",
    "y = bodies_df.loc[:, 'emotions_t1_mean']\n",
    "\n",
    "m = PanelOLS(dependent=y, exog=X, entity_effects=True, time_effects=True, drop_absorbed = True)\n",
    "model2 =  m.fit(cov_type='clustered', cluster_time=True, cluster_entity=True)\n",
    "\n",
    "\n",
    "X = bodies_df.loc[:,['person_dummy',  'female_dummy', 'religiousGarmentFemale_dummy']] \n",
    "y = bodies_df.loc[:, 'emotions_t1_mean']\n",
    "\n",
    "m = PanelOLS(dependent=y, exog=X, entity_effects=True, time_effects=True, drop_absorbed = True)\n",
    "model3 =  m.fit(cov_type='clustered', cluster_time=True, cluster_entity=True)\n",
    "\n",
    "X = bodies_df.loc[:,['person_dummy',  'female_dummy', 'religiousGarmentFemale_dummy', 'mass_protest_mean']] \n",
    "y = bodies_df.loc[:, 'emotions_t1_mean']\n",
    "\n",
    "m = PanelOLS(dependent=y, exog=X, entity_effects=True, time_effects=True, drop_absorbed = True)\n",
    "model4 =  m.fit(cov_type='clustered', cluster_time=True, cluster_entity=True)\n",
    "\n",
    "X = bodies_df.loc[:,['person_dummy',  'female_dummy', 'religiousGarmentFemale_dummy', 'mass_protest_mean', 'all_militarized_mean']] \n",
    "y = bodies_df.loc[:, 'emotions_t1_mean']\n",
    "\n",
    "m = PanelOLS(dependent=y, exog=X, entity_effects=True, time_effects=True, drop_absorbed = True)\n",
    "model5 =  m.fit(cov_type='clustered', cluster_time=True, cluster_entity=True)\n",
    "\n",
    "print(compare({\"model1\": model1, \"model2\": model2, \"model3\": model3, \"model4\" : model4, \"model5\" : model5}, precision = 'std_errors', stars = True))"
   ]
  },
  {
   "cell_type": "code",
   "execution_count": null,
   "metadata": {},
   "outputs": [],
   "source": [
    "bodies_df.columns"
   ]
  },
  {
   "cell_type": "code",
   "execution_count": null,
   "metadata": {},
   "outputs": [],
   "source": []
  },
  {
   "cell_type": "code",
   "execution_count": null,
   "metadata": {},
   "outputs": [],
   "source": []
  },
  {
   "cell_type": "code",
   "execution_count": null,
   "metadata": {},
   "outputs": [],
   "source": []
  },
  {
   "cell_type": "code",
   "execution_count": null,
   "metadata": {},
   "outputs": [],
   "source": []
  },
  {
   "cell_type": "code",
   "execution_count": null,
   "metadata": {},
   "outputs": [],
   "source": []
  },
  {
   "cell_type": "code",
   "execution_count": null,
   "metadata": {},
   "outputs": [],
   "source": []
  },
  {
   "cell_type": "code",
   "execution_count": null,
   "metadata": {},
   "outputs": [],
   "source": []
  },
  {
   "cell_type": "code",
   "execution_count": null,
   "metadata": {},
   "outputs": [],
   "source": []
  },
  {
   "cell_type": "code",
   "execution_count": null,
   "metadata": {},
   "outputs": [],
   "source": []
  },
  {
   "cell_type": "code",
   "execution_count": null,
   "metadata": {},
   "outputs": [],
   "source": []
  },
  {
   "cell_type": "code",
   "execution_count": null,
   "metadata": {},
   "outputs": [],
   "source": []
  },
  {
   "cell_type": "code",
   "execution_count": null,
   "metadata": {},
   "outputs": [],
   "source": []
  },
  {
   "cell_type": "code",
   "execution_count": null,
   "metadata": {},
   "outputs": [],
   "source": []
  },
  {
   "cell_type": "markdown",
   "metadata": {},
   "source": [
    "# Violence"
   ]
  },
  {
   "cell_type": "code",
   "execution_count": null,
   "metadata": {},
   "outputs": [],
   "source": [
    "# GARMENTS\n",
    "X = bodies_df.loc[:,['log_best']] \n",
    "y = bodies_df.loc[:, 'female_dummy']\n",
    "\n",
    "m = PanelOLS(dependent=y, exog=X, entity_effects=True, time_effects=True, drop_absorbed = True)\n",
    "model1 =  m.fit(cov_type='clustered', cluster_time=True, cluster_entity=True)\n",
    "\n",
    "X = bodies_df.loc[:,['log_best', 'person_dummy']] \n",
    "y = bodies_df.loc[:, 'religiousGarmentFemale_dummy']\n",
    "\n",
    "m = PanelOLS(dependent=y, exog=X, entity_effects=True, time_effects=True, drop_absorbed = True)\n",
    "model2 = m.fit(cov_type='clustered', cluster_time=True, cluster_entity=True)\n",
    "\n",
    "X = bodies_df.loc[:,['log_best', 'religiousGarmentFemale_dummy', 'person_dummy']] \n",
    "y = bodies_df.loc[:, 'female_dummy']\n",
    "\n",
    "m = PanelOLS(dependent=y, exog=X, entity_effects=True, time_effects=True, drop_absorbed = True)\n",
    "model3 = m.fit(cov_type='clustered', cluster_time=True, cluster_entity=True)\n",
    "\n",
    "\n",
    "print(compare({\"model1\": model1, \"model2\": model2, \"model3\": model3}, precision = 'std_errors', stars = True))"
   ]
  },
  {
   "cell_type": "code",
   "execution_count": null,
   "metadata": {},
   "outputs": [],
   "source": [
    "# GARMENTS\n",
    "X = bodies_df.loc[:,['log_best']] \n",
    "y = bodies_df.loc[:, 'religiousGarmentFemale_dummy']\n",
    "\n",
    "m = PanelOLS(dependent=y, exog=X, entity_effects=True, time_effects=True, drop_absorbed = True)\n",
    "model1 =  m.fit(cov_type='clustered', cluster_time=True, cluster_entity=True)\n",
    "\n",
    "X = bodies_df.loc[:,['log_best', 'female_dummy']] \n",
    "y = bodies_df.loc[:, 'religiousGarmentFemale_dummy']\n",
    "\n",
    "m = PanelOLS(dependent=y, exog=X, entity_effects=True, time_effects=True, drop_absorbed = True)\n",
    "model2 = m.fit(cov_type='clustered', cluster_time=True, cluster_entity=True)\n",
    "\n",
    "X = bodies_df.loc[:,['log_best', 'female_dummy', 'person_dummy']] \n",
    "y = bodies_df.loc[:, 'religiousGarmentFemale_dummy']\n",
    "\n",
    "m = PanelOLS(dependent=y, exog=X, entity_effects=True, time_effects=True, drop_absorbed = True)\n",
    "model3 = m.fit(cov_type='clustered', cluster_time=True, cluster_entity=True)\n",
    "\n",
    "\n",
    "print(compare({\"model1\": model1, \"model2\": model2, \"model3\": model3}, precision = 'std_errors', stars = True))"
   ]
  },
  {
   "cell_type": "code",
   "execution_count": null,
   "metadata": {},
   "outputs": [],
   "source": []
  },
  {
   "cell_type": "code",
   "execution_count": null,
   "metadata": {},
   "outputs": [],
   "source": []
  },
  {
   "cell_type": "code",
   "execution_count": null,
   "metadata": {},
   "outputs": [],
   "source": []
  },
  {
   "cell_type": "code",
   "execution_count": null,
   "metadata": {},
   "outputs": [],
   "source": []
  },
  {
   "cell_type": "code",
   "execution_count": null,
   "metadata": {},
   "outputs": [],
   "source": []
  },
  {
   "cell_type": "code",
   "execution_count": null,
   "metadata": {},
   "outputs": [],
   "source": []
  },
  {
   "cell_type": "code",
   "execution_count": null,
   "metadata": {},
   "outputs": [],
   "source": []
  },
  {
   "cell_type": "code",
   "execution_count": null,
   "metadata": {},
   "outputs": [],
   "source": []
  },
  {
   "cell_type": "code",
   "execution_count": null,
   "metadata": {},
   "outputs": [],
   "source": []
  },
  {
   "cell_type": "code",
   "execution_count": null,
   "metadata": {},
   "outputs": [],
   "source": []
  },
  {
   "cell_type": "code",
   "execution_count": null,
   "metadata": {},
   "outputs": [],
   "source": []
  },
  {
   "cell_type": "code",
   "execution_count": null,
   "metadata": {},
   "outputs": [],
   "source": []
  },
  {
   "cell_type": "markdown",
   "metadata": {},
   "source": [
    "# old"
   ]
  },
  {
   "cell_type": "code",
   "execution_count": null,
   "metadata": {},
   "outputs": [],
   "source": [
    "#E2\n",
    "X = bodies_df.loc[:,['emotions_t1_mean']] \n",
    "y = bodies_df.loc[:, 'Submitted']\n",
    "\n",
    "m = PanelOLS(dependent=y, exog=X, entity_effects=True, time_effects=True, drop_absorbed = True)\n",
    "model1 =  m.fit(cov_type='clustered', cluster_time=True, cluster_entity=True)\n",
    "\n",
    "\n",
    "#E2\n",
    "X = bodies_df.loc[:,['emotions_t1_mean', 'person_dummy']] \n",
    "y = bodies_df.loc[:, 'Submitted']\n",
    "\n",
    "m = PanelOLS(dependent=y, exog=X, entity_effects=True, time_effects=True, drop_absorbed = True)\n",
    "model2 =  m.fit(cov_type='clustered', cluster_time=True, cluster_entity=True)\n",
    "\n",
    "\n",
    "#E2\n",
    "X = bodies_df.loc[:,['emotions_t1_mean', 'person_dummy', 'female_dummy']] \n",
    "y = bodies_df.loc[:, 'Submitted']\n",
    "\n",
    "m = PanelOLS(dependent=y, exog=X, entity_effects=True, time_effects=True, drop_absorbed = True)\n",
    "model3 =  m.fit(cov_type='clustered', cluster_time=True, cluster_entity=True)\n",
    "\n",
    "\n",
    "#E2\n",
    "X = bodies_df.loc[:,['emotions_t1_mean', 'person_dummy', 'female_dummy', 'religiousGarmentFemale_dummy']] \n",
    "y = bodies_df.loc[:, 'Submitted']\n",
    "\n",
    "m = PanelOLS(dependent=y, exog=X, entity_effects=True, time_effects=True, drop_absorbed = True)\n",
    "model4 =  m.fit(cov_type='clustered', cluster_time=True, cluster_entity=True)\n",
    "\n",
    "\n",
    "#E2\n",
    "X = bodies_df.loc[:,['emotions_t1_mean', 'person_dummy', 'female_dummy', 'religiousGarmentFemale_dummy',  'uniformed_mean']] \n",
    "y = bodies_df.loc[:, 'Submitted']\n",
    "\n",
    "m = PanelOLS(dependent=y, exog=X, entity_effects=True, time_effects=True, drop_absorbed = True)\n",
    "model5 =  m.fit(cov_type='clustered', cluster_time=True, cluster_entity=True)\n",
    "\n",
    "\n",
    "#E2\n",
    "X = bodies_df.loc[:,['emotions_t1_mean', 'person_dummy', 'female_dummy', 'religiousGarmentFemale_dummy',  'uniformed_mean', 'all_militarized_mean']] \n",
    "y = bodies_df.loc[:, 'Submitted']\n",
    "\n",
    "m = PanelOLS(dependent=y, exog=X, entity_effects=True, time_effects=True, drop_absorbed = True)\n",
    "model6 =  m.fit(cov_type='clustered', cluster_time=True, cluster_entity=True)\n",
    "\n",
    "\n",
    "print(compare({\"model1\": model1, \"model2\": model2, \"model3\": model3, \"model4\": model4, \"model5\": model5, \"mode6\": model6}, precision = 'std_errors', stars = True))"
   ]
  },
  {
   "cell_type": "code",
   "execution_count": null,
   "metadata": {},
   "outputs": [],
   "source": []
  },
  {
   "cell_type": "code",
   "execution_count": null,
   "metadata": {},
   "outputs": [],
   "source": []
  },
  {
   "cell_type": "code",
   "execution_count": null,
   "metadata": {},
   "outputs": [],
   "source": []
  },
  {
   "cell_type": "code",
   "execution_count": null,
   "metadata": {},
   "outputs": [],
   "source": []
  },
  {
   "cell_type": "code",
   "execution_count": null,
   "metadata": {},
   "outputs": [],
   "source": []
  },
  {
   "cell_type": "code",
   "execution_count": null,
   "metadata": {},
   "outputs": [],
   "source": []
  },
  {
   "cell_type": "code",
   "execution_count": null,
   "metadata": {},
   "outputs": [],
   "source": [
    "#E2\n",
    "X = bodies_df.loc[:,['emotions_t1_mean']] \n",
    "y = bodies_df.loc[:, 'Submitted']\n",
    "\n",
    "m = PanelOLS(dependent=y, exog=X, entity_effects=True, time_effects=True, drop_absorbed = True)\n",
    "model1 =  m.fit(cov_type='clustered', cluster_time=True, cluster_entity=True)\n",
    "\n",
    "\n",
    "#E2\n",
    "X = bodies_df.loc[:,['emotions_t2_mean', 'emotions_t1_mean']] \n",
    "y = bodies_df.loc[:, 'Submitted']\n",
    "\n",
    "m = PanelOLS(dependent=y, exog=X, entity_effects=True, time_effects=True, drop_absorbed = True)\n",
    "model2 =  m.fit(cov_type='clustered', cluster_time=True, cluster_entity=True)\n",
    "\n",
    "\n",
    "print(compare({\"model1\": model1, \"model2\": model2}, precision = 'std_errors', stars = True))"
   ]
  },
  {
   "cell_type": "code",
   "execution_count": null,
   "metadata": {},
   "outputs": [],
   "source": []
  },
  {
   "cell_type": "code",
   "execution_count": null,
   "metadata": {},
   "outputs": [],
   "source": []
  },
  {
   "cell_type": "code",
   "execution_count": null,
   "metadata": {},
   "outputs": [],
   "source": []
  },
  {
   "cell_type": "code",
   "execution_count": null,
   "metadata": {},
   "outputs": [],
   "source": [
    "#FEMALE\n",
    "X = bodies_df.loc[:,['damaged_property_mean']] \n",
    "y = bodies_df.loc[:, 'Submitted']\n",
    "\n",
    "m = PanelOLS(dependent=y, exog=X, entity_effects=True, time_effects=True, drop_absorbed = True)\n",
    "model1 =  m.fit(cov_type='clustered', cluster_time=True, cluster_entity=True)\n",
    "\n"
   ]
  },
  {
   "cell_type": "code",
   "execution_count": null,
   "metadata": {},
   "outputs": [],
   "source": [
    "ra = ['damaged_property_mean', 'militaryVehicle_mean', 'firearm_mean', 'flagUS_mean', 'uniformed_mean', 'all_militarized_mean', 'emotions_t2_mean', 'emotions_t1_mean']\n",
    "\n",
    "for i in ra:\n",
    "\n",
    "    X = bodies_df.loc[:,[i]] \n",
    "    y = bodies_df.loc[:, 'Submitted']\n",
    "\n",
    "    m = PanelOLS(dependent=y, exog=X, entity_effects=True, time_effects=True, drop_absorbed = True)\n",
    "    model1 =  m.fit(cov_type='clustered', cluster_time=True, cluster_entity=True)\n",
    "\n",
    "    print(model1)"
   ]
  },
  {
   "cell_type": "code",
   "execution_count": null,
   "metadata": {},
   "outputs": [],
   "source": []
  },
  {
   "cell_type": "code",
   "execution_count": null,
   "metadata": {},
   "outputs": [],
   "source": []
  },
  {
   "cell_type": "code",
   "execution_count": null,
   "metadata": {},
   "outputs": [],
   "source": []
  },
  {
   "cell_type": "code",
   "execution_count": null,
   "metadata": {},
   "outputs": [],
   "source": []
  },
  {
   "cell_type": "code",
   "execution_count": null,
   "metadata": {},
   "outputs": [],
   "source": []
  },
  {
   "cell_type": "code",
   "execution_count": null,
   "metadata": {},
   "outputs": [],
   "source": []
  },
  {
   "cell_type": "code",
   "execution_count": null,
   "metadata": {},
   "outputs": [],
   "source": [
    "mass_protest_mean"
   ]
  },
  {
   "cell_type": "code",
   "execution_count": null,
   "metadata": {},
   "outputs": [],
   "source": []
  },
  {
   "cell_type": "code",
   "execution_count": null,
   "metadata": {},
   "outputs": [],
   "source": []
  },
  {
   "cell_type": "code",
   "execution_count": null,
   "metadata": {},
   "outputs": [],
   "source": [
    "bodies_df.columns"
   ]
  },
  {
   "cell_type": "code",
   "execution_count": null,
   "metadata": {},
   "outputs": [],
   "source": []
  },
  {
   "cell_type": "code",
   "execution_count": null,
   "metadata": {},
   "outputs": [],
   "source": []
  },
  {
   "cell_type": "code",
   "execution_count": null,
   "metadata": {},
   "outputs": [],
   "source": []
  },
  {
   "cell_type": "code",
   "execution_count": null,
   "metadata": {},
   "outputs": [],
   "source": []
  },
  {
   "cell_type": "code",
   "execution_count": null,
   "metadata": {},
   "outputs": [],
   "source": []
  },
  {
   "cell_type": "code",
   "execution_count": null,
   "metadata": {},
   "outputs": [],
   "source": []
  },
  {
   "cell_type": "code",
   "execution_count": null,
   "metadata": {},
   "outputs": [],
   "source": []
  },
  {
   "cell_type": "code",
   "execution_count": null,
   "metadata": {},
   "outputs": [],
   "source": []
  },
  {
   "cell_type": "code",
   "execution_count": null,
   "metadata": {},
   "outputs": [],
   "source": []
  },
  {
   "cell_type": "markdown",
   "metadata": {},
   "source": [
    "# Summary: FFTF"
   ]
  },
  {
   "cell_type": "code",
   "execution_count": null,
   "metadata": {},
   "outputs": [],
   "source": [
    "\n",
    "X = df_sub.loc[:,['female_dummy']] \n",
    "y = df_sub.loc[:, 'Submitted']\n",
    "\n",
    "m = PanelOLS(dependent=y, exog=X, entity_effects=True, time_effects=True, drop_absorbed = True)\n",
    "model1 =  m.fit(cov_type='clustered', cluster_time=True, cluster_entity=True)\n",
    "\n",
    "X = df_sub.loc[:,[ 'female_dummy', 'religiousGarmentFemale_dummy']] \n",
    "y = df_sub.loc[:, 'Submitted']\n",
    "\n",
    "m = PanelOLS(dependent=y, exog=X, entity_effects=True, time_effects=True, drop_absorbed = True)\n",
    "model2 = m.fit(cov_type='clustered', cluster_time=True, cluster_entity=True)\n",
    "\n",
    "X = df_sub.loc[:,['female_dummy', 'religiousGarmentFemale_dummy', 'intDUniDGar', 'uniformed_dummy']] \n",
    "y = df_sub.loc[:, 'Submitted']\n",
    "\n",
    "m = PanelOLS(dependent=y, exog=X, entity_effects=True, time_effects=True, drop_absorbed = True)\n",
    "model3 =  m.fit(cov_type='clustered', cluster_time=True, cluster_entity=True)\n",
    "\n",
    "\n",
    "X = df_sub.loc[:,['female_dummy', 'religiousGarmentFemale_dummy', 'intDFirDGar', 'firearm_dummy']] \n",
    "y = df_sub.loc[:, 'Submitted']\n",
    "\n",
    "m = PanelOLS(dependent=y, exog=X, entity_effects=True, time_effects=True, drop_absorbed = True)\n",
    "model4 = m.fit(cov_type='clustered', cluster_time=True, cluster_entity=True)\n",
    "\n",
    "print(compare({\"model1\": model1, \"model2\": model2, \"model3\": model3, \"model4\" : model4}, precision = 'std_errors', stars = True))"
   ]
  },
  {
   "cell_type": "markdown",
   "metadata": {},
   "source": [
    "# JACOB STRUCTURE:\n"
   ]
  },
  {
   "cell_type": "code",
   "execution_count": null,
   "metadata": {},
   "outputs": [],
   "source": [
    "#FEMALE\n",
    "X = df_sub.loc[:,['female_dummy']] \n",
    "y = df_sub.loc[:, 'Submitted']\n",
    "\n",
    "m = PanelOLS(dependent=y, exog=X, entity_effects=True, time_effects=True, drop_absorbed = True)\n",
    "model1 =  m.fit(cov_type='clustered', cluster_time=True, cluster_entity=True)\n",
    "\n",
    "\n",
    "X = df_sub.loc[:,[ 'female_dummy', 'person_dummy']] \n",
    "y = df_sub.loc[:, 'Submitted']\n",
    "\n",
    "m = PanelOLS(dependent=y, exog=X, entity_effects=True, time_effects=True, drop_absorbed = True)\n",
    "model2 = m.fit(cov_type='clustered', cluster_time=True, cluster_entity=True)\n",
    "\n",
    "X = df_sub.loc[:,[ 'female_dummy', 'person_dummy', 'all_privat']] \n",
    "y = df_sub.loc[:, 'Submitted']\n",
    "\n",
    "m = PanelOLS(dependent=y, exog=X, entity_effects=True, time_effects=True, drop_absorbed = True)\n",
    "model3 = m.fit(cov_type='clustered', cluster_time=True, cluster_entity=True)\n",
    "\n",
    "\n",
    "X = df_sub.loc[:,[ 'female_dummy', 'person_dummy', 'all_privat', 'all_rural']] \n",
    "y = df_sub.loc[:, 'Submitted']\n",
    "\n",
    "m = PanelOLS(dependent=y, exog=X, entity_effects=True, time_effects=True, drop_absorbed = True)\n",
    "model4 = m.fit(cov_type='clustered', cluster_time=True, cluster_entity=True)\n",
    "\n",
    "\n",
    "X = df_sub.loc[:,[ 'female_dummy', 'person_dummy', 'all_privat', 'all_rural','nlights_mean']] \n",
    "y = df_sub.loc[:, 'Submitted']\n",
    "\n",
    "m = PanelOLS(dependent=y, exog=X, entity_effects=True, time_effects=True, drop_absorbed = True)\n",
    "model5 = m.fit(cov_type='clustered', cluster_time=True, cluster_entity=True)\n",
    "\n",
    "\n",
    "X = df_sub.loc[:,[ 'female_dummy', 'person_dummy', 'all_privat', 'all_rural','nlights_mean', 'log_best']] \n",
    "y = df_sub.loc[:, 'Submitted']\n",
    "\n",
    "m = PanelOLS(dependent=y, exog=X, entity_effects=True, time_effects=True, drop_absorbed = True)\n",
    "model6 = m.fit(cov_type='clustered', cluster_time=True, cluster_entity=True)\n",
    "\n",
    "X = df_sub.loc[:,[ 'female_dummy', 'person_dummy', 'all_privat', 'all_rural','nlights_mean', 'tce']] \n",
    "y = df_sub.loc[:, 'Submitted']\n",
    "\n",
    "m = PanelOLS(dependent=y, exog=X, entity_effects=True, time_effects=True, drop_absorbed = True)\n",
    "model7 = m.fit(cov_type='clustered', cluster_time=True, cluster_entity=True)\n",
    "\n",
    "X = df_sub.loc[:,[ 'female_dummy', 'person_dummy', 'all_privat', 'all_rural','nlights_mean', 'tsce']] \n",
    "y = df_sub.loc[:, 'Submitted']\n",
    "\n",
    "m = PanelOLS(dependent=y, exog=X, entity_effects=True, time_effects=True, drop_absorbed = True)\n",
    "model8 = m.fit(cov_type='clustered', cluster_time=True, cluster_entity=True)\n",
    "\n",
    "\n",
    "print(compare({\"model1\": model1, \"model2\": model2, \"model3\": model3, \"model4\": model4, \"model5\": model5, \"model6\": model6, \"model7\": model7, \"model8\": model8}, precision = 'std_errors', stars = True))"
   ]
  },
  {
   "cell_type": "code",
   "execution_count": null,
   "metadata": {},
   "outputs": [],
   "source": [
    "# GARMENTS\n",
    "X = df_sub.loc[:,['religiousGarmentFemale_dummy']] \n",
    "y = df_sub.loc[:, 'Submitted']\n",
    "\n",
    "m = PanelOLS(dependent=y, exog=X, entity_effects=True, time_effects=True, drop_absorbed = True)\n",
    "model1 =  m.fit(cov_type='clustered', cluster_time=True, cluster_entity=True)\n",
    "\n",
    "X = df_sub.loc[:,[ 'female_dummy', 'religiousGarmentFemale_dummy']] \n",
    "y = df_sub.loc[:, 'Submitted']\n",
    "\n",
    "m = PanelOLS(dependent=y, exog=X, entity_effects=True, time_effects=True, drop_absorbed = True)\n",
    "model2 = m.fit(cov_type='clustered', cluster_time=True, cluster_entity=True)\n",
    "\n",
    "X = df_sub.loc[:,[ 'female_dummy', 'religiousGarmentFemale_dummy', 'person_dummy']] \n",
    "y = df_sub.loc[:, 'Submitted']\n",
    "\n",
    "m = PanelOLS(dependent=y, exog=X, entity_effects=True, time_effects=True, drop_absorbed = True)\n",
    "model3 = m.fit(cov_type='clustered', cluster_time=True, cluster_entity=True)\n",
    "\n",
    "X = df_sub.loc[:,[ 'female_dummy', 'religiousGarmentFemale_dummy', 'person_dummy', 'all_privat']] \n",
    "y = df_sub.loc[:, 'Submitted']\n",
    "\n",
    "m = PanelOLS(dependent=y, exog=X, entity_effects=True, time_effects=True, drop_absorbed = True)\n",
    "model4 = m.fit(cov_type='clustered', cluster_time=True, cluster_entity=True)\n",
    "\n",
    "\n",
    "X = df_sub.loc[:,[ 'female_dummy', 'religiousGarmentFemale_dummy', 'person_dummy', 'all_privat', 'all_rural']] \n",
    "y = df_sub.loc[:, 'Submitted']\n",
    "\n",
    "m = PanelOLS(dependent=y, exog=X, entity_effects=True, time_effects=True, drop_absorbed = True)\n",
    "model5 = m.fit(cov_type='clustered', cluster_time=True, cluster_entity=True)\n",
    "\n",
    "\n",
    "X = df_sub.loc[:,[ 'female_dummy', 'religiousGarmentFemale_dummy', 'person_dummy', 'all_privat', 'all_rural','nlights_mean']] \n",
    "y = df_sub.loc[:, 'Submitted']\n",
    "\n",
    "m = PanelOLS(dependent=y, exog=X, entity_effects=True, time_effects=True, drop_absorbed = True)\n",
    "model6 = m.fit(cov_type='clustered', cluster_time=True, cluster_entity=True)\n",
    "\n",
    "\n",
    "X = df_sub.loc[:,[ 'female_dummy', 'religiousGarmentFemale_dummy', 'person_dummy', 'all_privat', 'all_rural','nlights_mean', 'log_best']] \n",
    "y = df_sub.loc[:, 'Submitted']\n",
    "\n",
    "m = PanelOLS(dependent=y, exog=X, entity_effects=True, time_effects=True, drop_absorbed = True)\n",
    "model7 = m.fit(cov_type='clustered', cluster_time=True, cluster_entity=True)\n",
    "\n",
    "X = df_sub.loc[:,[ 'female_dummy', 'religiousGarmentFemale_dummy', 'person_dummy', 'all_privat', 'all_rural','nlights_mean', 'tce']] \n",
    "y = df_sub.loc[:, 'Submitted']\n",
    "\n",
    "m = PanelOLS(dependent=y, exog=X, entity_effects=True, time_effects=True, drop_absorbed = True)\n",
    "model8 = m.fit(cov_type='clustered', cluster_time=True, cluster_entity=True)\n",
    "\n",
    "X = df_sub.loc[:,[ 'female_dummy', 'religiousGarmentFemale_dummy', 'person_dummy', 'all_privat', 'all_rural','nlights_mean', 'tsce']] \n",
    "y = df_sub.loc[:, 'Submitted']\n",
    "\n",
    "m = PanelOLS(dependent=y, exog=X, entity_effects=True, time_effects=True, drop_absorbed = True)\n",
    "model9 = m.fit(cov_type='clustered', cluster_time=True, cluster_entity=True)\n",
    "\n",
    "\n",
    "print(compare({\"model1\": model1, \"model2\": model2, \"model3\": model3, \"model4\": model4, \"model5\": model5, \"model6\": model6, \"model7\": model7, \"model8\": model8, \"model9\": model9}, precision = 'std_errors', stars = True))"
   ]
  },
  {
   "cell_type": "code",
   "execution_count": null,
   "metadata": {},
   "outputs": [],
   "source": []
  },
  {
   "cell_type": "code",
   "execution_count": null,
   "metadata": {},
   "outputs": [],
   "source": []
  },
  {
   "cell_type": "code",
   "execution_count": null,
   "metadata": {},
   "outputs": [],
   "source": []
  },
  {
   "cell_type": "code",
   "execution_count": null,
   "metadata": {},
   "outputs": [],
   "source": [
    "df_sub[df_sub['female_dummy'] == 1].shape[0] / df_sub.shape[0]"
   ]
  },
  {
   "cell_type": "code",
   "execution_count": null,
   "metadata": {},
   "outputs": [],
   "source": [
    "df_sub[(df_sub['female_dummy'] == 1)&(df_sub['Submitted'] == 1)].shape[0] / df_sub[df_sub['Submitted'] == 1].shape[0]"
   ]
  },
  {
   "cell_type": "code",
   "execution_count": null,
   "metadata": {},
   "outputs": [],
   "source": [
    "df_sub[df_sub['Submitted'] == 1].shape[0]"
   ]
  },
  {
   "cell_type": "code",
   "execution_count": null,
   "metadata": {},
   "outputs": [],
   "source": [
    "df_sub[(df_sub['religiousGarmentFemale_dummy'] == 1)&(df_sub['Submitted'] == 1)].shape[0]"
   ]
  },
  {
   "cell_type": "code",
   "execution_count": null,
   "metadata": {},
   "outputs": [],
   "source": []
  },
  {
   "cell_type": "code",
   "execution_count": null,
   "metadata": {},
   "outputs": [],
   "source": []
  },
  {
   "cell_type": "code",
   "execution_count": null,
   "metadata": {},
   "outputs": [],
   "source": []
  },
  {
   "cell_type": "code",
   "execution_count": null,
   "metadata": {},
   "outputs": [],
   "source": [
    "\n",
    "X = df_sub.loc[:,['tce']] \n",
    "y = df_sub.loc[:, 'Submitted']\n",
    "\n",
    "m = PanelOLS(dependent=y, exog=X, entity_effects=True, time_effects=True, drop_absorbed = True)\n",
    "model1 =  m.fit(cov_type='clustered', cluster_time=True, cluster_entity=True)\n",
    "\n",
    "X = df_sub.loc[:,['tce', 'log_best']] \n",
    "y = df_sub.loc[:, 'Submitted']\n",
    "\n",
    "m = PanelOLS(dependent=y, exog=X, entity_effects=True, time_effects=True, drop_absorbed = True)\n",
    "model2 = m.fit(cov_type='clustered', cluster_time=True, cluster_entity=True)\n",
    "\n",
    "X = df_sub.loc[:,['tce', 'log_best', 'nlights_mean']] \n",
    "y = df_sub.loc[:, 'Submitted']\n",
    "\n",
    "m = PanelOLS(dependent=y, exog=X, entity_effects=True, time_effects=True, drop_absorbed = True)\n",
    "model3 = m.fit(cov_type='clustered', cluster_time=True, cluster_entity=True)\n",
    "\n",
    "\n",
    "print(compare({\"model1\": model1, \"model2\": model2, \"model3\": model3}, precision = 'std_errors', stars = True))"
   ]
  },
  {
   "cell_type": "code",
   "execution_count": null,
   "metadata": {},
   "outputs": [],
   "source": [
    "\n",
    "X = df_sub.loc[:,['tsce']] \n",
    "y = df_sub.loc[:, 'Submitted']\n",
    "\n",
    "m = PanelOLS(dependent=y, exog=X, entity_effects=True, time_effects=True, drop_absorbed = True)\n",
    "model1 =  m.fit(cov_type='clustered', cluster_time=True, cluster_entity=True)\n",
    "\n",
    "X = df_sub.loc[:,['tsce', 'log_best']] \n",
    "y = df_sub.loc[:, 'Submitted']\n",
    "\n",
    "m = PanelOLS(dependent=y, exog=X, entity_effects=True, time_effects=True, drop_absorbed = True)\n",
    "model2 = m.fit(cov_type='clustered', cluster_time=True, cluster_entity=True)\n",
    "\n",
    "X = df_sub.loc[:,['tsce', 'log_best', 'nlights_mean']] \n",
    "y = df_sub.loc[:, 'Submitted']\n",
    "\n",
    "m = PanelOLS(dependent=y, exog=X, entity_effects=True, time_effects=True, drop_absorbed = True)\n",
    "model3 = m.fit(cov_type='clustered', cluster_time=True, cluster_entity=True)\n",
    "\n",
    "\n",
    "print(compare({\"model1\": model1, \"model2\": model2, \"model3\": model3}, precision = 'std_errors', stars = True))"
   ]
  },
  {
   "cell_type": "code",
   "execution_count": null,
   "metadata": {},
   "outputs": [],
   "source": [
    "sns.heatmap(df_sub.loc[:,['tce','tsce', 'log_best', 'nlights_mean']].corr(), cmap= 'Reds' , annot=True)\n",
    "plt.show()"
   ]
  },
  {
   "cell_type": "code",
   "execution_count": null,
   "metadata": {},
   "outputs": [],
   "source": []
  },
  {
   "cell_type": "markdown",
   "metadata": {},
   "source": [
    "# Summary: VVV"
   ]
  },
  {
   "cell_type": "code",
   "execution_count": null,
   "metadata": {},
   "outputs": [],
   "source": [
    "#'nlights_calib_mean', 'nlights_mean', 'nlights_calib_mean_observed', 'nlights_mean_observed', \n",
    "df_sub['llights'] = np.log(df_sub['nlights_calib_mean'])\n",
    "\n",
    "# X = df_sub.loc[:,['log_best']] \n",
    "# y = df_sub.loc[:, 'religiousGarmentFemale_mean']\n",
    "\n",
    "# m = PanelOLS(dependent=y, exog=X, entity_effects=True, time_effects=True, drop_absorbed = True)\n",
    "# model1 =  m.fit(cov_type='clustered', cluster_time=True, cluster_entity=True)\n",
    "\n",
    "\n",
    "X = df_sub.loc[:,['log_best', 'female_mean']] \n",
    "X = sm.add_constant(X)\n",
    "y = df_sub.loc[:, 'religiousGarmentFemale_mean']\n",
    "\n",
    "m = PanelOLS(dependent=y, exog=X, entity_effects=True, time_effects=True, drop_absorbed = True)\n",
    "model1 =  m.fit(cov_type='clustered', cluster_time=True, cluster_entity=True)\n",
    "\n",
    "\n",
    "X = df_sub.loc[:,['log_best', 'female_mean', 'all_public']] \n",
    "X = sm.add_constant(X)\n",
    "y = df_sub.loc[:, 'religiousGarmentFemale_mean']\n",
    "\n",
    "m = PanelOLS(dependent=y, exog=X, entity_effects=True, time_effects=True, drop_absorbed = True)\n",
    "model2 =  m.fit(cov_type='clustered', cluster_time=True, cluster_entity=True)\n",
    "\n",
    "\n",
    "X = df_sub.loc[:,['log_best', 'female_mean', 'all_privat']] \n",
    "X = sm.add_constant(X)\n",
    "y = df_sub.loc[:, 'religiousGarmentFemale_mean']\n",
    "\n",
    "m = PanelOLS(dependent=y, exog=X, entity_effects=True, time_effects=True, drop_absorbed = True)\n",
    "model3 =  m.fit(cov_type='clustered', cluster_time=True, cluster_entity=True)\n",
    "\n",
    "X = df_sub.loc[:,['log_best', 'female_mean', 'all_public', 'all_privat']] \n",
    "X = sm.add_constant(X)\n",
    "y = df_sub.loc[:, 'religiousGarmentFemale_mean']\n",
    "\n",
    "m = PanelOLS(dependent=y, exog=X, entity_effects=True, time_effects=True, drop_absorbed = True)\n",
    "model4 =  m.fit(cov_type='clustered', cluster_time=True, cluster_entity=True)\n",
    "\n",
    "\n",
    "X = df_sub.loc[:,['log_best', 'female_mean', 'all_public', 'all_privat', 'uniformed_dummy']] \n",
    "X = sm.add_constant(X)\n",
    "y = df_sub.loc[:, 'religiousGarmentFemale_mean']\n",
    "\n",
    "m = PanelOLS(dependent=y, exog=X, entity_effects=True, time_effects=True, drop_absorbed = True)\n",
    "model5 =  m.fit(cov_type='clustered', cluster_time=True, cluster_entity=True)\n",
    "\n",
    "\n",
    "X = df_sub.loc[:,['log_best', 'female_mean', 'all_public', 'all_privat', 'uniformed_dummy', 'nlights_calib_mean']] \n",
    "X = sm.add_constant(X)\n",
    "y = df_sub.loc[:, 'religiousGarmentFemale_mean']\n",
    "\n",
    "m = PanelOLS(dependent=y, exog=X, entity_effects=True, time_effects=True, drop_absorbed = True)\n",
    "model6 =  m.fit(cov_type='clustered', cluster_time=True, cluster_entity=True)\n",
    "\n",
    "\n",
    "print(compare({\"model1\": model1, \"model2\": model2, \"model3\": model3,  \"model4\": model4, \"model5\": model5, \"model6\": model6}, precision = 'std_errors', stars = True))"
   ]
  },
  {
   "cell_type": "code",
   "execution_count": null,
   "metadata": {},
   "outputs": [],
   "source": []
  },
  {
   "cell_type": "code",
   "execution_count": null,
   "metadata": {},
   "outputs": [],
   "source": []
  },
  {
   "cell_type": "code",
   "execution_count": null,
   "metadata": {},
   "outputs": [],
   "source": []
  },
  {
   "cell_type": "code",
   "execution_count": null,
   "metadata": {},
   "outputs": [],
   "source": []
  },
  {
   "cell_type": "code",
   "execution_count": null,
   "metadata": {},
   "outputs": [],
   "source": []
  },
  {
   "cell_type": "code",
   "execution_count": null,
   "metadata": {},
   "outputs": [],
   "source": []
  },
  {
   "cell_type": "code",
   "execution_count": null,
   "metadata": {},
   "outputs": [],
   "source": []
  },
  {
   "cell_type": "code",
   "execution_count": null,
   "metadata": {},
   "outputs": [],
   "source": []
  },
  {
   "cell_type": "code",
   "execution_count": null,
   "metadata": {},
   "outputs": [],
   "source": [
    "#'nlights_calib_mean', 'nlights_mean', 'nlights_calib_mean_observed', 'nlights_mean_observed', \n",
    "\n",
    "df_sub['llights'] = np.log(df_sub['nlights_calib_mean'])\n",
    "#df_sub1 = df_sub[df_sub['person_mean'] != 0] # no people, no entry\n",
    "\n",
    "X = df_sub1.loc[:,['log_best']] \n",
    "y = df_sub1.loc[:, 'religiousGarmentFemale_mean']\n",
    "\n",
    "m = PanelOLS(dependent=y, exog=X, entity_effects=True, time_effects=True, drop_absorbed = True)\n",
    "model1 =  m.fit(cov_type='clustered', cluster_time=True, cluster_entity=True)\n",
    "\n",
    "X = df_sub1.loc[:,['log_best', 'all_public']] \n",
    "y = df_sub1.loc[:, 'religiousGarmentFemale_mean']\n",
    "\n",
    "m = PanelOLS(dependent=y, exog=X, entity_effects=True, time_effects=True, drop_absorbed = True)\n",
    "model2 = m.fit(cov_type='clustered', cluster_time=True, cluster_entity=True)\n",
    "\n",
    "X = df_sub1.loc[:,['log_best', 'all_public', 'all_rural']] \n",
    "y = df_sub1.loc[:, 'religiousGarmentFemale_mean']\n",
    "\n",
    "m = PanelOLS(dependent=y, exog=X, entity_effects=True, time_effects=True, drop_absorbed = True)\n",
    "model3 = m.fit(cov_type='clustered', cluster_time=True, cluster_entity=True)\n",
    "\n",
    "X = df_sub1.loc[:,['log_best', 'all_public', 'all_rural', 'llights']] \n",
    "y = df_sub1.loc[:, 'religiousGarmentFemale_mean']\n",
    "\n",
    "m = PanelOLS(dependent=y, exog=X, entity_effects=True, time_effects=True, drop_absorbed = True)\n",
    "model4 =  m.fit(cov_type='clustered', cluster_time=True, cluster_entity=True)\n",
    "\n",
    "\n",
    "X = df_sub1.loc[:,['log_best', 'all_public', 'all_rural', 'llights', 'Submitted']] \n",
    "y = df_sub1.loc[:, 'religiousGarmentFemale_mean']\n",
    "\n",
    "m = PanelOLS(dependent=y, exog=X, entity_effects=True, time_effects=True, drop_absorbed = True)\n",
    "model5 = m.fit(cov_type='clustered', cluster_time=True, cluster_entity=True)\n",
    "\n",
    "\n",
    "X = df_sub1.loc[:,['log_best', 'all_public', 'all_rural', 'llights', 'Submitted', 'uniformed_mean']] \n",
    "y = df_sub1.loc[:, 'religiousGarmentFemale_mean']\n",
    "\n",
    "m = PanelOLS(dependent=y, exog=X, entity_effects=True, time_effects=True, drop_absorbed = True)\n",
    "model6 = m.fit(cov_type='clustered', cluster_time=True, cluster_entity=True)\n",
    "\n",
    "print(compare({\"model1\": model1, \"model2\": model2, \"model3\": model3, \"model4\" : model4, \"model4\" : model5, \"model4\" : model6}, precision = 'std_errors', stars = True))"
   ]
  },
  {
   "cell_type": "code",
   "execution_count": null,
   "metadata": {},
   "outputs": [],
   "source": []
  },
  {
   "cell_type": "code",
   "execution_count": null,
   "metadata": {},
   "outputs": [],
   "source": []
  },
  {
   "cell_type": "code",
   "execution_count": null,
   "metadata": {},
   "outputs": [],
   "source": []
  },
  {
   "cell_type": "code",
   "execution_count": null,
   "metadata": {},
   "outputs": [],
   "source": []
  },
  {
   "cell_type": "code",
   "execution_count": null,
   "metadata": {},
   "outputs": [],
   "source": []
  },
  {
   "cell_type": "code",
   "execution_count": null,
   "metadata": {},
   "outputs": [],
   "source": [
    "#'nlights_calib_mean', 'nlights_mean', 'nlights_calib_mean_observed', 'nlights_mean_observed', \n",
    "\n",
    "df_sub['llights'] = np.log(df_sub['nlights_calib_mean'])\n",
    "df_sub1 = df_sub[df_sub['person_mean'] != 0] # no people, no entry\n",
    "\n",
    "\n",
    "\n",
    "X = df_sub1.loc[:,['log_best']] \n",
    "X = sm.add_constant(X)\n",
    "y = df_sub1.loc[:, 'religiousGarmentFemale_mean']\n",
    "\n",
    "m = PanelOLS(dependent=y, exog=X, entity_effects=True, time_effects=True, drop_absorbed = True)\n",
    "model1 =  m.fit(cov_type='clustered', cluster_time=True, cluster_entity=True)\n",
    "\n",
    "X = df_sub1.loc[:,['log_best', 'all_public']]\n",
    "X = sm.add_constant(X)\n",
    "y = df_sub1.loc[:, 'religiousGarmentFemale_mean']\n",
    "\n",
    "m = PanelOLS(dependent=y, exog=X, entity_effects=True, time_effects=True, drop_absorbed = True)\n",
    "model2 = m.fit(cov_type='clustered', cluster_time=True, cluster_entity=True)\n",
    "\n",
    "X = df_sub1.loc[:,['log_best', 'all_public', 'all_rural']] \n",
    "X = sm.add_constant(X)\n",
    "y = df_sub1.loc[:, 'religiousGarmentFemale_mean']\n",
    "\n",
    "m = PanelOLS(dependent=y, exog=X, entity_effects=True, time_effects=True, drop_absorbed = True)\n",
    "model3 = m.fit(cov_type='clustered', cluster_time=True, cluster_entity=True)\n",
    "\n",
    "X = df_sub1.loc[:,['log_best', 'all_public', 'all_rural', 'llights']] \n",
    "X = sm.add_constant(X)\n",
    "y = df_sub1.loc[:, 'religiousGarmentFemale_mean']\n",
    "\n",
    "m = PanelOLS(dependent=y, exog=X, entity_effects=True, time_effects=True, drop_absorbed = True)\n",
    "model4 =  m.fit(cov_type='clustered', cluster_time=True, cluster_entity=True)\n",
    "\n",
    "\n",
    "X = df_sub1.loc[:,['log_best', 'all_public', 'all_rural', 'llights', 'Submitted']] \n",
    "X = sm.add_constant(X)\n",
    "y = df_sub1.loc[:, 'religiousGarmentFemale_mean']\n",
    "\n",
    "m = PanelOLS(dependent=y, exog=X, entity_effects=True, time_effects=True, drop_absorbed = True)\n",
    "model5 = m.fit(cov_type='clustered', cluster_time=True, cluster_entity=True)\n",
    "\n",
    "\n",
    "X = df_sub1.loc[:,['log_best', 'all_public', 'all_rural', 'llights', 'Submitted', 'uniformed_mean']] \n",
    "X = sm.add_constant(X)\n",
    "y = df_sub1.loc[:, 'religiousGarmentFemale_mean']\n",
    "\n",
    "m = PanelOLS(dependent=y, exog=X, entity_effects=True, time_effects=True, drop_absorbed = True)\n",
    "model6 = m.fit(cov_type='clustered', cluster_time=True, cluster_entity=True)\n",
    "\n",
    "print(compare({\"model1\": model1, \"model2\": model2, \"model3\": model3, \"model4\" : model4, \"model4\" : model5, \"model4\" : model6}, precision = 'std_errors', stars = True))"
   ]
  },
  {
   "cell_type": "code",
   "execution_count": null,
   "metadata": {},
   "outputs": [],
   "source": [
    "PanelOLS?"
   ]
  },
  {
   "cell_type": "code",
   "execution_count": null,
   "metadata": {},
   "outputs": [],
   "source": []
  },
  {
   "cell_type": "code",
   "execution_count": null,
   "metadata": {},
   "outputs": [],
   "source": []
  },
  {
   "cell_type": "code",
   "execution_count": null,
   "metadata": {},
   "outputs": [],
   "source": []
  },
  {
   "cell_type": "code",
   "execution_count": null,
   "metadata": {},
   "outputs": [],
   "source": []
  },
  {
   "cell_type": "code",
   "execution_count": null,
   "metadata": {},
   "outputs": [],
   "source": []
  },
  {
   "cell_type": "code",
   "execution_count": null,
   "metadata": {},
   "outputs": [],
   "source": []
  },
  {
   "cell_type": "code",
   "execution_count": null,
   "metadata": {},
   "outputs": [],
   "source": [
    "df_sub2 = df_sub.reset_index()"
   ]
  },
  {
   "cell_type": "code",
   "execution_count": null,
   "metadata": {},
   "outputs": [],
   "source": [
    "exog_x = ['log_best']\n",
    "y = ['religiousGarmentFemale_mean']\n",
    "\n",
    "category = ['gid', 'month_id', 'female_mean']\n",
    "cluster =  ['gid', 'month_id', 'female_mean']\n",
    "\n",
    "\n",
    "model_fe = fixedeffect(data_df = df_sub2,\n",
    "                      dependent = y,\n",
    "                      exog_x = exog_x,\n",
    "                      category = category,\n",
    "                      cluster = cluster)\n",
    "\n",
    "result = model_fe.fit()\n",
    "result.summary()"
   ]
  },
  {
   "cell_type": "code",
   "execution_count": null,
   "metadata": {},
   "outputs": [],
   "source": [
    "fixedeffect?"
   ]
  },
  {
   "cell_type": "code",
   "execution_count": null,
   "metadata": {},
   "outputs": [],
   "source": []
  },
  {
   "cell_type": "code",
   "execution_count": null,
   "metadata": {},
   "outputs": [],
   "source": []
  },
  {
   "cell_type": "code",
   "execution_count": null,
   "metadata": {},
   "outputs": [],
   "source": []
  },
  {
   "cell_type": "code",
   "execution_count": null,
   "metadata": {},
   "outputs": [],
   "source": [
    "X = df_sub.loc[:,['log_best', 'female_mean']] \n",
    "X = sm.add_constant(X)\n",
    "y = df_sub.loc[:, 'religiousGarmentFemale_mean']\n",
    "\n",
    "m = PanelOLS(dependent=y, exog=X, entity_effects=True, time_effects=True, drop_absorbed = True)\n",
    "model1 =  m.fit(cov_type='clustered', cluster_time=True, cluster_entity=True)\n",
    "\n",
    "X = df_sub.loc[:,['log_best', 'all_public', 'female_mean']] \n",
    "X = sm.add_constant(X)\n",
    "y = df_sub.loc[:, 'religiousGarmentFemale_mean']\n",
    "\n",
    "m = PanelOLS(dependent=y, exog=X, entity_effects=True, time_effects=True, drop_absorbed = True)\n",
    "model2 = m.fit(cov_type='clustered', cluster_time=True, cluster_entity=True)\n",
    "\n",
    "\n",
    "\n",
    "X = df_sub.loc[:,['log_best', 'all_public', 'all_rural', 'female_mean']] \n",
    "X = sm.add_constant(X)\n",
    "y = df_sub.loc[:, 'religiousGarmentFemale_mean']\n",
    "\n",
    "m = PanelOLS(dependent=y, exog=X, entity_effects=True, time_effects=True, drop_absorbed = True)\n",
    "model3 =  m.fit(cov_type='clustered', cluster_time=True, cluster_entity=True)\n",
    "\n",
    "\n",
    "\n",
    "X = df_sub.loc[:,['log_best', 'all_public', 'all_rural', 'nlights_mean', 'female_mean']] \n",
    "X = sm.add_constant(X)\n",
    "y = df_sub.loc[:, 'religiousGarmentFemale_mean']\n",
    "\n",
    "m = PanelOLS(dependent=y, exog=X, entity_effects=True, time_effects=True, drop_absorbed = True)\n",
    "model4 = m.fit(cov_type='clustered', cluster_time=True, cluster_entity=True)\n",
    "\n",
    "\n",
    "\n",
    "X = df_sub.loc[:,['log_best', 'all_public', 'all_rural', 'nlights_mean', 'Submitted', 'female_mean']] \n",
    "X = sm.add_constant(X)\n",
    "y = df_sub.loc[:, 'religiousGarmentFemale_mean']\n",
    "\n",
    "m = PanelOLS(dependent=y, exog=X, entity_effects=True, time_effects=True, drop_absorbed = True)\n",
    "model5 = m.fit(cov_type='clustered', cluster_time=True, cluster_entity=True)\n",
    "\n",
    "\n",
    "\n",
    "X = df_sub.loc[:,['log_best', 'all_public', 'all_rural', 'nlights_mean', 'Submitted', 'uniformed_mean', 'female_mean']] \n",
    "X = sm.add_constant(X)\n",
    "y = df_sub.loc[:, 'religiousGarmentFemale_mean']\n",
    "\n",
    "m = PanelOLS(dependent=y, exog=X, entity_effects=True, time_effects=True, drop_absorbed = True)\n",
    "model6 = m.fit(cov_type='clustered', cluster_time=True, cluster_entity=True)\n",
    "\n",
    "\n",
    "print(compare({\"model1\": model1, \"model2\": model2, \"model3\": model3, \"model4\" : model4, \"model5\" : model5, \"model6\" : model6}, precision = 'std_errors', stars = True))"
   ]
  },
  {
   "cell_type": "code",
   "execution_count": null,
   "metadata": {},
   "outputs": [],
   "source": []
  },
  {
   "cell_type": "code",
   "execution_count": null,
   "metadata": {},
   "outputs": [],
   "source": []
  },
  {
   "cell_type": "code",
   "execution_count": null,
   "metadata": {},
   "outputs": [],
   "source": []
  },
  {
   "cell_type": "code",
   "execution_count": null,
   "metadata": {},
   "outputs": [],
   "source": []
  },
  {
   "cell_type": "code",
   "execution_count": null,
   "metadata": {},
   "outputs": [],
   "source": []
  },
  {
   "cell_type": "markdown",
   "metadata": {},
   "source": [
    "# Story 1 front line to front page"
   ]
  },
  {
   "cell_type": "code",
   "execution_count": null,
   "metadata": {},
   "outputs": [],
   "source": [
    "X = df_sub.loc[:,['person_dummy']] # raw is ref\n",
    "y = df_sub.loc[:, 'Submitted']\n",
    "\n",
    "#X = sm.add_constant(X)\n",
    "\n",
    "\n",
    "m = PanelOLS(dependent=y,\n",
    "            exog=X,\n",
    "            entity_effects=True,\n",
    "            time_effects=True,\n",
    "            drop_absorbed = True)\n",
    "\n",
    "# m = PanelOLS.from_formula('female_mean ~ log_best + Published + Submitted + person_mean + EntityEffects + TimeEffects', data=df_sub)\n",
    "\n",
    "m.fit(cov_type='clustered', cluster_time=True, cluster_entity=True)"
   ]
  },
  {
   "cell_type": "markdown",
   "metadata": {},
   "source": [
    "Not sig on 95 but is seems most submitted images contains persons"
   ]
  },
  {
   "cell_type": "code",
   "execution_count": null,
   "metadata": {},
   "outputs": [],
   "source": [
    "X = df_sub.loc[:,['person_dummy', 'female_dummy']] # raw is ref\n",
    "y = df_sub.loc[:, 'Submitted']\n",
    "\n",
    "m = PanelOLS(dependent=y,\n",
    "            exog=X,\n",
    "            entity_effects=True,\n",
    "            time_effects=True,\n",
    "            drop_absorbed = True)\n",
    "\n",
    "# m = PanelOLS.from_formula('female_mean ~ log_best + Published + Submitted + person_mean + EntityEffects + TimeEffects', data=df_sub)\n",
    "\n",
    "m.fit(cov_type='clustered', cluster_time=True, cluster_entity=True)\n",
    "\n"
   ]
  },
  {
   "cell_type": "code",
   "execution_count": null,
   "metadata": {},
   "outputs": [],
   "source": [
    "X = df_sub.loc[:,['person_mean', 'female_mean']] # raw is ref\n",
    "y = df_sub.loc[:, 'Submitted']\n",
    "\n",
    "m = PanelOLS(dependent=y,\n",
    "            exog=X,\n",
    "            entity_effects=True,\n",
    "            time_effects=True,\n",
    "            drop_absorbed = True)\n",
    "\n",
    "# m = PanelOLS.from_formula('female_mean ~ log_best + Published + Submitted + person_mean + EntityEffects + TimeEffects', data=df_sub)\n",
    "\n",
    "m.fit(cov_type='clustered', cluster_time=True, cluster_entity=True)\n"
   ]
  },
  {
   "cell_type": "markdown",
   "metadata": {},
   "source": [
    "So no matter if you use Dummy or count female mean more higher prop of submitting"
   ]
  },
  {
   "cell_type": "code",
   "execution_count": null,
   "metadata": {},
   "outputs": [],
   "source": [
    "X = df_sub.loc[:,['person_dummy', 'female_dummy', 'religiousGarmentFemale_dummy']] # raw is ref\n",
    "y = df_sub.loc[:, 'Submitted']\n",
    "\n",
    "m = PanelOLS(dependent=y,\n",
    "            exog=X,\n",
    "            entity_effects=True,\n",
    "            time_effects=True,\n",
    "            drop_absorbed = True)\n",
    "\n",
    "# m = PanelOLS.from_formula('female_mean ~ log_best + Published + Submitted + person_mean + EntityEffects + TimeEffects', data=df_sub)\n",
    "\n",
    "m.fit(cov_type='clustered', cluster_time=True, cluster_entity=True)\n"
   ]
  },
  {
   "cell_type": "code",
   "execution_count": null,
   "metadata": {},
   "outputs": [],
   "source": [
    "X = df_sub.loc[:,['person_mean', 'female_mean', 'religiousGarmentFemale_mean']] # raw is ref\n",
    "y = df_sub.loc[:, 'Submitted']\n",
    "\n",
    "m = PanelOLS(dependent=y,\n",
    "            exog=X,\n",
    "            entity_effects=True,\n",
    "            time_effects=True,\n",
    "            drop_absorbed = True)\n",
    "\n",
    "# m = PanelOLS.from_formula('female_mean ~ log_best + Published + Submitted + person_mean + EntityEffects + TimeEffects', data=df_sub)\n",
    "\n",
    "m.fit(cov_type='clustered', cluster_time=True, cluster_entity=True)\n"
   ]
  },
  {
   "cell_type": "markdown",
   "metadata": {},
   "source": [
    "Garments also give a higher prob of submission - but only the dummy. There is also a very high co-linearity. If you remove person, garments is almost sig on 95. "
   ]
  },
  {
   "cell_type": "code",
   "execution_count": null,
   "metadata": {},
   "outputs": [],
   "source": [
    "X = df_sub.loc[:,['female_dummy', 'religiousGarmentFemale_dummy']] # raw is ref\n",
    "y = df_sub.loc[:, 'Submitted']\n",
    "\n",
    "m = PanelOLS(dependent=y,\n",
    "            exog=X,\n",
    "            entity_effects=True,\n",
    "            time_effects=True,\n",
    "            drop_absorbed = True)\n",
    "\n",
    "# m = PanelOLS.from_formula('female_mean ~ log_best + Published + Submitted + person_mean + EntityEffects + TimeEffects', data=df_sub)\n",
    "\n",
    "m.fit(cov_type='clustered', cluster_time=True, cluster_entity=True)\n"
   ]
  },
  {
   "cell_type": "markdown",
   "metadata": {},
   "source": [
    "It does not make alot of sense to includer person. both female and garments are highly significant if we ommit person\n",
    "\n",
    "So to sum up:"
   ]
  },
  {
   "cell_type": "code",
   "execution_count": null,
   "metadata": {},
   "outputs": [],
   "source": [
    "X = df_sub.loc[:,['person_dummy']] \n",
    "y = df_sub.loc[:, 'Submitted']\n",
    "\n",
    "m = PanelOLS(dependent=y, exog=X, entity_effects=True, time_effects=True, drop_absorbed = True)\n",
    "model1 = m.fit(cov_type='clustered', cluster_time=True, cluster_entity=True)\n",
    "\n",
    "X = df_sub.loc[:,['person_dummy', 'female_dummy']] \n",
    "y = df_sub.loc[:, 'Submitted']\n",
    "\n",
    "m = PanelOLS(dependent=y, exog=X, entity_effects=True, time_effects=True, drop_absorbed = True)\n",
    "model2 =  m.fit(cov_type='clustered', cluster_time=True, cluster_entity=True)\n",
    "\n",
    "\n",
    "X = df_sub.loc[:,['person_dummy', 'female_dummy', 'religiousGarmentFemale_dummy']] \n",
    "y = df_sub.loc[:, 'Submitted']\n",
    "\n",
    "m = PanelOLS(dependent=y, exog=X, entity_effects=True, time_effects=True, drop_absorbed = True)\n",
    "model3 = m.fit(cov_type='clustered', cluster_time=True, cluster_entity=True)\n",
    "\n",
    "\n",
    "X = df_sub.loc[:,['female_dummy', 'religiousGarmentFemale_dummy']] \n",
    "y = df_sub.loc[:, 'Submitted']\n",
    "\n",
    "m = PanelOLS(dependent=y, exog=X, entity_effects=True, time_effects=True, drop_absorbed = True)\n",
    "model4 = m.fit(cov_type='clustered', cluster_time=True, cluster_entity=True)\n",
    "\n",
    "print(compare({\"model1\": model1, \"model2\": model2, \"model3\": model3, \"model4\" : model4}, precision = 'std_errors', stars = True))"
   ]
  },
  {
   "cell_type": "markdown",
   "metadata": {},
   "source": [
    "### the savoir story"
   ]
  },
  {
   "cell_type": "code",
   "execution_count": null,
   "metadata": {},
   "outputs": [],
   "source": [
    "\n",
    "\n",
    "X = df_sub.loc[:,['person_dummy', 'female_dummy', 'religiousGarmentFemale_dummy', 'intDUniDGar', 'uniformed_dummy']] \n",
    "y = df_sub.loc[:, 'Submitted']\n",
    "\n",
    "m = PanelOLS(dependent=y, exog=X, entity_effects=True, time_effects=True, drop_absorbed = True)\n",
    "model1 =  m.fit(cov_type='clustered', cluster_time=True, cluster_entity=True)\n",
    "\n",
    "\n",
    "X = df_sub.loc[:,['person_dummy', 'female_dummy', 'religiousGarmentFemale_dummy', 'intDFirDGar', 'firearm_dummy']] \n",
    "y = df_sub.loc[:, 'Submitted']\n",
    "\n",
    "m = PanelOLS(dependent=y, exog=X, entity_effects=True, time_effects=True, drop_absorbed = True)\n",
    "model2 = m.fit(cov_type='clustered', cluster_time=True, cluster_entity=True)\n",
    "\n",
    "\n",
    "X = df_sub.loc[:,['female_dummy', 'religiousGarmentFemale_dummy', 'intDUniDGar', 'uniformed_dummy']] \n",
    "y = df_sub.loc[:, 'Submitted']\n",
    "\n",
    "m = PanelOLS(dependent=y, exog=X, entity_effects=True, time_effects=True, drop_absorbed = True)\n",
    "model3 =  m.fit(cov_type='clustered', cluster_time=True, cluster_entity=True)\n",
    "\n",
    "\n",
    "X = df_sub.loc[:,['female_dummy', 'religiousGarmentFemale_dummy', 'intDFirDGar', 'firearm_dummy']] \n",
    "y = df_sub.loc[:, 'Submitted']\n",
    "\n",
    "m = PanelOLS(dependent=y, exog=X, entity_effects=True, time_effects=True, drop_absorbed = True)\n",
    "model4 = m.fit(cov_type='clustered', cluster_time=True, cluster_entity=True)\n",
    "\n",
    "print(compare({\"model1\": model1, \"model2\": model2, \"model3\": model3, \"model4\": model4}, precision = 'std_errors', stars = True))"
   ]
  },
  {
   "cell_type": "code",
   "execution_count": null,
   "metadata": {},
   "outputs": [],
   "source": []
  },
  {
   "cell_type": "code",
   "execution_count": null,
   "metadata": {},
   "outputs": [],
   "source": []
  },
  {
   "cell_type": "code",
   "execution_count": null,
   "metadata": {},
   "outputs": [],
   "source": []
  },
  {
   "cell_type": "code",
   "execution_count": null,
   "metadata": {},
   "outputs": [],
   "source": [
    "X = df_sub.loc[:,['person_dummy', 'female_dummy', 'religiousGarmentFemale_dummy', 'intDUniDGar', 'uniformed_dummy']] # raw is ref\n",
    "y = df_sub.loc[:, 'Submitted']\n",
    "\n",
    "m = PanelOLS(dependent=y,\n",
    "            exog=X,\n",
    "            entity_effects=True,\n",
    "            time_effects=True,\n",
    "            drop_absorbed = True)\n",
    "\n",
    "# m = PanelOLS.from_formula('female_mean ~ log_best + Published + Submitted + person_mean + EntityEffects + TimeEffects', data=df_sub)\n",
    "\n",
    "m.fit(cov_type='clustered', cluster_time=True, cluster_entity=True)\n"
   ]
  },
  {
   "cell_type": "code",
   "execution_count": null,
   "metadata": {},
   "outputs": [],
   "source": [
    "X = df_sub.loc[:,['female_dummy', 'religiousGarmentFemale_dummy', 'intDUniDGar', 'uniformed_dummy']] # raw is ref\n",
    "y = df_sub.loc[:, 'Submitted']\n",
    "\n",
    "m = PanelOLS(dependent=y,\n",
    "            exog=X,\n",
    "            entity_effects=True,\n",
    "            time_effects=True,\n",
    "            drop_absorbed = True)\n",
    "\n",
    "# m = PanelOLS.from_formula('female_mean ~ log_best + Published + Submitted + person_mean + EntityEffects + TimeEffects', data=df_sub)\n",
    "\n",
    "m.fit(cov_type='clustered', cluster_time=True, cluster_entity=True)\n"
   ]
  },
  {
   "cell_type": "markdown",
   "metadata": {},
   "source": [
    "So uniforms does not do a difference"
   ]
  },
  {
   "cell_type": "code",
   "execution_count": null,
   "metadata": {},
   "outputs": [],
   "source": [
    "X = df_sub.loc[:,['person_dummy', 'female_dummy', 'religiousGarmentFemale_dummy', 'intMilDGar', 'all_militarized']] # raw is ref\n",
    "y = df_sub.loc[:, 'Submitted']\n",
    "\n",
    "m = PanelOLS(dependent=y,\n",
    "            exog=X,\n",
    "            entity_effects=True,\n",
    "            time_effects=True,\n",
    "            drop_absorbed = True)\n",
    "\n",
    "# m = PanelOLS.from_formula('female_mean ~ log_best + Published + Submitted + person_mean + EntityEffects + TimeEffects', data=df_sub)\n",
    "\n",
    "m.fit(cov_type='clustered', cluster_time=True, cluster_entity=True)\n"
   ]
  },
  {
   "cell_type": "code",
   "execution_count": null,
   "metadata": {},
   "outputs": [],
   "source": [
    "X = df_sub.loc[:,['female_dummy', 'religiousGarmentFemale_dummy', 'intMilDGar', 'all_militarized']] # raw is ref\n",
    "y = df_sub.loc[:, 'Submitted']\n",
    "\n",
    "m = PanelOLS(dependent=y,\n",
    "            exog=X,\n",
    "            entity_effects=True,\n",
    "            time_effects=True,\n",
    "            drop_absorbed = True)\n",
    "\n",
    "# m = PanelOLS.from_formula('female_mean ~ log_best + Published + Submitted + person_mean + EntityEffects + TimeEffects', data=df_sub)\n",
    "\n",
    "m.fit(cov_type='clustered', cluster_time=True, cluster_entity=True)\n"
   ]
  },
  {
   "cell_type": "markdown",
   "metadata": {},
   "source": [
    "Neiter does militarization"
   ]
  },
  {
   "cell_type": "code",
   "execution_count": null,
   "metadata": {},
   "outputs": [],
   "source": [
    "X = df_sub.loc[:,['person_dummy', 'female_dummy', 'religiousGarmentFemale_dummy', 'intDFirDGar', 'firearm_dummy']] # raw is ref\n",
    "y = df_sub.loc[:, 'Submitted']\n",
    "\n",
    "m = PanelOLS(dependent=y,\n",
    "            exog=X,\n",
    "            entity_effects=True,\n",
    "            time_effects=True,\n",
    "            drop_absorbed = True)\n",
    "\n",
    "# m = PanelOLS.from_formula('female_mean ~ log_best + Published + Submitted + person_mean + EntityEffects + TimeEffects', data=df_sub)\n",
    "\n",
    "m.fit(cov_type='clustered', cluster_time=True, cluster_entity=True)\n"
   ]
  },
  {
   "cell_type": "code",
   "execution_count": null,
   "metadata": {},
   "outputs": [],
   "source": [
    "X = df_sub.loc[:,['female_dummy', 'religiousGarmentFemale_dummy', 'intDFirDGar', 'firearm_dummy']] # raw is ref\n",
    "y = df_sub.loc[:, 'Submitted']\n",
    "\n",
    "m = PanelOLS(dependent=y,\n",
    "            exog=X,\n",
    "            entity_effects=True,\n",
    "            time_effects=True,\n",
    "            drop_absorbed = True)\n",
    "\n",
    "# m = PanelOLS.from_formula('female_mean ~ log_best + Published + Submitted + person_mean + EntityEffects + TimeEffects', data=df_sub)\n",
    "\n",
    "m.fit(cov_type='clustered', cluster_time=True, cluster_entity=True)\n"
   ]
  },
  {
   "cell_type": "markdown",
   "metadata": {},
   "source": [
    "But guns! That works"
   ]
  },
  {
   "cell_type": "code",
   "execution_count": null,
   "metadata": {},
   "outputs": [],
   "source": [
    "X = df_sub.loc[:,['person_dummy', 'female_dummy', 'religiousGarmentFemale_dummy', 'intDFirDGar','intDFirDFem', 'firearm_dummy']] # raw is ref\n",
    "y = df_sub.loc[:, 'Submitted']\n",
    "\n",
    "m = PanelOLS(dependent=y,\n",
    "            exog=X,\n",
    "            entity_effects=True,\n",
    "            time_effects=True,\n",
    "            drop_absorbed = True)\n",
    "\n",
    "# m = PanelOLS.from_formula('female_mean ~ log_best + Published + Submitted + person_mean + EntityEffects + TimeEffects', data=df_sub)\n",
    "\n",
    "m.fit(cov_type='clustered', cluster_time=True, cluster_entity=True)\n"
   ]
  },
  {
   "cell_type": "code",
   "execution_count": null,
   "metadata": {},
   "outputs": [],
   "source": [
    "X = df_sub.loc[:,['female_dummy', 'religiousGarmentFemale_dummy', 'intDFirDGar','intDFirDFem', 'firearm_dummy']] # raw is ref\n",
    "y = df_sub.loc[:, 'Submitted']\n",
    "\n",
    "m = PanelOLS(dependent=y,\n",
    "            exog=X,\n",
    "            entity_effects=True,\n",
    "            time_effects=True,\n",
    "            drop_absorbed = True)\n",
    "\n",
    "# m = PanelOLS.from_formula('female_mean ~ log_best + Published + Submitted + person_mean + EntityEffects + TimeEffects', data=df_sub)\n",
    "\n",
    "m.fit(cov_type='clustered', cluster_time=True, cluster_entity=True)\n"
   ]
  },
  {
   "cell_type": "code",
   "execution_count": null,
   "metadata": {},
   "outputs": [],
   "source": [
    "X = df_sub.loc[:,['person_dummy', 'female_dummy', 'religiousGarmentFemale_dummy', 'intDFirDGar','uniformed_dummy', 'firearm_dummy']] # raw is ref\n",
    "y = df_sub.loc[:, 'Submitted']\n",
    "\n",
    "m = PanelOLS(dependent=y,\n",
    "            exog=X,\n",
    "            entity_effects=True,\n",
    "            time_effects=True,\n",
    "            drop_absorbed = True)\n",
    "\n",
    "# m = PanelOLS.from_formula('female_mean ~ log_best + Published + Submitted + person_mean + EntityEffects + TimeEffects', data=df_sub)\n",
    "\n",
    "m.fit(cov_type='clustered', cluster_time=True, cluster_entity=True)\n"
   ]
  },
  {
   "cell_type": "code",
   "execution_count": null,
   "metadata": {},
   "outputs": [],
   "source": [
    "X = df_sub.loc[:,['person_dummy', 'female_dummy', 'religiousGarmentFemale_dummy', 'intDFirDGar','uniformed_dummy', 'all_militarized', 'firearm_dummy']] # raw is ref\n",
    "y = df_sub.loc[:, 'Submitted']\n",
    "\n",
    "m = PanelOLS(dependent=y,\n",
    "            exog=X,\n",
    "            entity_effects=True,\n",
    "            time_effects=True,\n",
    "            drop_absorbed = True)\n",
    "\n",
    "# m = PanelOLS.from_formula('female_mean ~ log_best + Published + Submitted + person_mean + EntityEffects + TimeEffects', data=df_sub)\n",
    "\n",
    "m.fit(cov_type='clustered', cluster_time=True, cluster_entity=True)\n"
   ]
  },
  {
   "cell_type": "code",
   "execution_count": null,
   "metadata": {},
   "outputs": [],
   "source": [
    "X = df_sub.loc[:,['female_dummy', 'religiousGarmentFemale_dummy', 'intDFirDGar','uniformed_dummy', 'all_militarized', 'firearm_dummy']] # raw is ref\n",
    "y = df_sub.loc[:, 'Submitted']\n",
    "\n",
    "m = PanelOLS(dependent=y,\n",
    "            exog=X,\n",
    "            entity_effects=True,\n",
    "            time_effects=True,\n",
    "            drop_absorbed = True)\n",
    "\n",
    "# m = PanelOLS.from_formula('female_mean ~ log_best + Published + Submitted + person_mean + EntityEffects + TimeEffects', data=df_sub)\n",
    "\n",
    "m.fit(cov_type='clustered', cluster_time=True, cluster_entity=True)\n"
   ]
  },
  {
   "cell_type": "markdown",
   "metadata": {},
   "source": [
    "Garments and guns. That shit gets subbed asap! so:"
   ]
  },
  {
   "cell_type": "markdown",
   "metadata": {},
   "source": [
    "### Summing up front-line to fron-page:"
   ]
  },
  {
   "cell_type": "code",
   "execution_count": null,
   "metadata": {},
   "outputs": [],
   "source": [
    "\n",
    "X = df_sub.loc[:,['person_dummy', 'female_dummy']] \n",
    "y = df_sub.loc[:, 'Submitted']\n",
    "\n",
    "m = PanelOLS(dependent=y, exog=X, entity_effects=True, time_effects=True, drop_absorbed = True)\n",
    "model1 =  m.fit(cov_type='clustered', cluster_time=True, cluster_entity=True)\n",
    "\n",
    "X = df_sub.loc[:,['person_dummy', 'female_dummy', 'religiousGarmentFemale_dummy']] \n",
    "y = df_sub.loc[:, 'Submitted']\n",
    "\n",
    "m = PanelOLS(dependent=y, exog=X, entity_effects=True, time_effects=True, drop_absorbed = True)\n",
    "model2 = m.fit(cov_type='clustered', cluster_time=True, cluster_entity=True)\n",
    "\n",
    "X = df_sub.loc[:,['person_dummy', 'female_dummy', 'religiousGarmentFemale_dummy', 'uniformed_dummy', 'intDUniDGar']] \n",
    "y = df_sub.loc[:, 'Submitted']\n",
    "\n",
    "m = PanelOLS(dependent=y, exog=X, entity_effects=True, time_effects=True, drop_absorbed = True)\n",
    "model3 =  m.fit(cov_type='clustered', cluster_time=True, cluster_entity=True)\n",
    "\n",
    "\n",
    "X = df_sub.loc[:,['person_dummy', 'female_dummy', 'religiousGarmentFemale_dummy', 'firearm_dummy', 'intDFirDGar']] \n",
    "y = df_sub.loc[:, 'Submitted']\n",
    "\n",
    "m = PanelOLS(dependent=y, exog=X, entity_effects=True, time_effects=True, drop_absorbed = True)\n",
    "model4 = m.fit(cov_type='clustered', cluster_time=True, cluster_entity=True)\n",
    "\n",
    "print(compare({\"model1\": model1, \"model2\": model2, \"model3\": model3, \"model4\" : model4}, precision = 'std_errors', stars = True))"
   ]
  },
  {
   "cell_type": "code",
   "execution_count": null,
   "metadata": {},
   "outputs": [],
   "source": [
    "\n",
    "X = df_sub.loc[:,['female_dummy']] \n",
    "y = df_sub.loc[:, 'Submitted']\n",
    "\n",
    "m = PanelOLS(dependent=y, exog=X, entity_effects=True, time_effects=True, drop_absorbed = True)\n",
    "model1 =  m.fit(cov_type='clustered', cluster_time=True, cluster_entity=True)\n",
    "\n",
    "X = df_sub.loc[:,[ 'female_dummy', 'religiousGarmentFemale_dummy']] \n",
    "y = df_sub.loc[:, 'Submitted']\n",
    "\n",
    "m = PanelOLS(dependent=y, exog=X, entity_effects=True, time_effects=True, drop_absorbed = True)\n",
    "model2 = m.fit(cov_type='clustered', cluster_time=True, cluster_entity=True)\n",
    "\n",
    "X = df_sub.loc[:,['female_dummy', 'religiousGarmentFemale_dummy', 'intDUniDGar', 'uniformed_dummy']] \n",
    "y = df_sub.loc[:, 'Submitted']\n",
    "\n",
    "m = PanelOLS(dependent=y, exog=X, entity_effects=True, time_effects=True, drop_absorbed = True)\n",
    "model3 =  m.fit(cov_type='clustered', cluster_time=True, cluster_entity=True)\n",
    "\n",
    "\n",
    "X = df_sub.loc[:,['female_dummy', 'religiousGarmentFemale_dummy', 'intDFirDGar', 'firearm_dummy']] \n",
    "y = df_sub.loc[:, 'Submitted']\n",
    "\n",
    "m = PanelOLS(dependent=y, exog=X, entity_effects=True, time_effects=True, drop_absorbed = True)\n",
    "model4 = m.fit(cov_type='clustered', cluster_time=True, cluster_entity=True)\n",
    "\n",
    "print(compare({\"model1\": model1, \"model2\": model2, \"model3\": model3, \"model4\" : model4}, precision = 'std_errors', stars = True))"
   ]
  },
  {
   "cell_type": "markdown",
   "metadata": {},
   "source": [
    "## The military story?"
   ]
  },
  {
   "cell_type": "markdown",
   "metadata": {},
   "source": [
    "So do we just like firearms?"
   ]
  },
  {
   "cell_type": "code",
   "execution_count": null,
   "metadata": {},
   "outputs": [],
   "source": [
    "X = df_sub.loc[:,['person_dummy', 'firearm_dummy']] # raw is ref\n",
    "y = df_sub.loc[:, 'Submitted']\n",
    "\n",
    "m = PanelOLS(dependent=y,\n",
    "            exog=X,\n",
    "            entity_effects=True,\n",
    "            time_effects=True,\n",
    "            drop_absorbed = True)\n",
    "\n",
    "# m = PanelOLS.from_formula('female_mean ~ log_best + Published + Submitted + person_mean + EntityEffects + TimeEffects', data=df_sub)\n",
    "\n",
    "m.fit(cov_type='clustered', cluster_time=True, cluster_entity=True)\n"
   ]
  },
  {
   "cell_type": "markdown",
   "metadata": {},
   "source": [
    "Not just, no."
   ]
  },
  {
   "cell_type": "code",
   "execution_count": null,
   "metadata": {},
   "outputs": [],
   "source": [
    "X = df_sub.loc[:,['person_dummy', 'firearm_dummy', 'all_militarized']] # raw is ref\n",
    "y = df_sub.loc[:, 'Submitted']\n",
    "\n",
    "m = PanelOLS(dependent=y,\n",
    "            exog=X,\n",
    "            entity_effects=True,\n",
    "            time_effects=True,\n",
    "            drop_absorbed = True)\n",
    "\n",
    "# m = PanelOLS.from_formula('female_mean ~ log_best + Published + Submitted + person_mean + EntityEffects + TimeEffects', data=df_sub)\n",
    "\n",
    "m.fit(cov_type='clustered', cluster_time=True, cluster_entity=True)\n"
   ]
  },
  {
   "cell_type": "code",
   "execution_count": null,
   "metadata": {},
   "outputs": [],
   "source": [
    "X = df_sub.loc[:,['person_dummy', 'firearm_dummy', 'uniformed_dummy']] # raw is ref\n",
    "y = df_sub.loc[:, 'Submitted']\n",
    "\n",
    "m = PanelOLS(dependent=y,\n",
    "            exog=X,\n",
    "            entity_effects=True,\n",
    "            time_effects=True,\n",
    "            drop_absorbed = True)\n",
    "\n",
    "# m = PanelOLS.from_formula('female_mean ~ log_best + Published + Submitted + person_mean + EntityEffects + TimeEffects', data=df_sub)\n",
    "\n",
    "m.fit(cov_type='clustered', cluster_time=True, cluster_entity=True)\n"
   ]
  },
  {
   "cell_type": "markdown",
   "metadata": {},
   "source": [
    "But if we control for the presence of uniforms or militarization, sure. We like Guns."
   ]
  },
  {
   "cell_type": "code",
   "execution_count": null,
   "metadata": {},
   "outputs": [],
   "source": [
    "X = df_sub.loc[:,['person_dummy', 'firearm_dummy', 'uniformed_dummy', 'militaryVehicle_dummy', 'flagUS_mean', 'all_militarized']] # raw is ref\n",
    "y = df_sub.loc[:, 'Submitted']\n",
    "\n",
    "m = PanelOLS(dependent=y,\n",
    "            exog=X,\n",
    "            entity_effects=True,\n",
    "            time_effects=True,\n",
    "            drop_absorbed = True)\n",
    "\n",
    "# m = PanelOLS.from_formula('female_mean ~ log_best + Published + Submitted + person_mean + EntityEffects + TimeEffects', data=df_sub)\n",
    "\n",
    "m.fit(cov_type='clustered', cluster_time=True, cluster_entity=True)\n"
   ]
  },
  {
   "cell_type": "markdown",
   "metadata": {},
   "source": [
    "Nothing else of all the state symbol stuff seems to matter."
   ]
  },
  {
   "cell_type": "markdown",
   "metadata": {},
   "source": [
    "# Story 2 Violence, Viels and Visuals"
   ]
  },
  {
   "cell_type": "markdown",
   "metadata": {},
   "source": [
    "So do we have more garments in images with females?"
   ]
  },
  {
   "cell_type": "code",
   "execution_count": null,
   "metadata": {},
   "outputs": [],
   "source": [
    "X = df_sub.loc[:,['female_mean', 'person_mean']] # raw is ref\n",
    "y = df_sub.loc[:, 'religiousGarmentFemale_mean']\n",
    "\n",
    "#X = sm.add_constant(X)\n",
    "\n",
    "\n",
    "m = PanelOLS(dependent=y,\n",
    "            exog=X,\n",
    "            entity_effects=True,\n",
    "            time_effects=True,\n",
    "            drop_absorbed = True)\n",
    "\n",
    "\n",
    "m.fit(cov_type='clustered', cluster_time=True, cluster_entity=True)\n"
   ]
  },
  {
   "cell_type": "markdown",
   "metadata": {},
   "source": [
    "Of course we do"
   ]
  },
  {
   "cell_type": "code",
   "execution_count": null,
   "metadata": {},
   "outputs": [],
   "source": [
    "X = df_sub.loc[:,['female_mean', 'person_mean', 'log_best']] # raw is ref\n",
    "y = df_sub.loc[:, 'religiousGarmentFemale_mean']\n",
    "\n",
    "m = PanelOLS(dependent=y,\n",
    "            exog=X,\n",
    "            entity_effects=True,\n",
    "            time_effects=True,\n",
    "            drop_absorbed = True)\n",
    "\n",
    "\n",
    "m.fit(cov_type='clustered', cluster_time=True, cluster_entity=True)"
   ]
  },
  {
   "cell_type": "markdown",
   "metadata": {},
   "source": [
    "But also where there is conflict"
   ]
  },
  {
   "cell_type": "code",
   "execution_count": null,
   "metadata": {},
   "outputs": [],
   "source": [
    "X = df_sub.loc[:,['female_mean', 'person_mean', 'tce']] # raw is ref\n",
    "y = df_sub.loc[:, 'religiousGarmentFemale_mean']\n",
    "\n",
    "m = PanelOLS(dependent=y,\n",
    "            exog=X,\n",
    "            entity_effects=True,\n",
    "            time_effects=True,\n",
    "            drop_absorbed = True)\n",
    "\n",
    "\n",
    "m.fit(cov_type='clustered', cluster_time=True, cluster_entity=True)"
   ]
  },
  {
   "cell_type": "code",
   "execution_count": null,
   "metadata": {},
   "outputs": [],
   "source": [
    "X = df_sub.loc[:,['female_mean', 'person_mean', 'tsce']] # raw is ref\n",
    "y = df_sub.loc[:, 'religiousGarmentFemale_mean']\n",
    "\n",
    "m = PanelOLS(dependent=y,\n",
    "            exog=X,\n",
    "            entity_effects=True,\n",
    "            time_effects=True,\n",
    "            drop_absorbed = True)\n",
    "\n",
    "\n",
    "m.fit(cov_type='clustered', cluster_time=True, cluster_entity=True)"
   ]
  },
  {
   "cell_type": "markdown",
   "metadata": {},
   "source": [
    "Especially if we take into account the temporal or tempo-saptial conflict exposure."
   ]
  },
  {
   "cell_type": "markdown",
   "metadata": {},
   "source": [
    "## Public/private story"
   ]
  },
  {
   "cell_type": "code",
   "execution_count": null,
   "metadata": {},
   "outputs": [],
   "source": [
    "X = df_sub.loc[:,['log_best', 'person_mean']] # raw is ref\n",
    "y = df_sub.loc[:, 'female_mean']\n",
    "\n",
    "m = PanelOLS(dependent=y,\n",
    "            exog=X,\n",
    "            entity_effects=True,\n",
    "            time_effects=True,\n",
    "            drop_absorbed = True)\n",
    "\n",
    "\n",
    "m.fit(cov_type='clustered', cluster_time=True, cluster_entity=True)"
   ]
  },
  {
   "cell_type": "markdown",
   "metadata": {},
   "source": [
    "So the ratio of women in images doe not change with conflict"
   ]
  },
  {
   "cell_type": "code",
   "execution_count": null,
   "metadata": {},
   "outputs": [],
   "source": [
    "X = df_sub.loc[:,['log_best', 'person_mean', 'all_public']] # raw is ref\n",
    "y = df_sub.loc[:, 'female_mean']\n",
    "\n",
    "m = PanelOLS(dependent=y,\n",
    "            exog=X,\n",
    "            entity_effects=True,\n",
    "            time_effects=True,\n",
    "            drop_absorbed = True)\n",
    "\n",
    "\n",
    "m.fit(cov_type='clustered', cluster_time=True, cluster_entity=True)"
   ]
  },
  {
   "cell_type": "markdown",
   "metadata": {},
   "source": [
    "There are however, less women in Public overall"
   ]
  },
  {
   "cell_type": "code",
   "execution_count": null,
   "metadata": {},
   "outputs": [],
   "source": [
    "X = df_sub.loc[:,['log_best', 'person_mean', 'all_privat']] # raw is ref\n",
    "y = df_sub.loc[:, 'female_mean']\n",
    "\n",
    "m = PanelOLS(dependent=y,\n",
    "            exog=X,\n",
    "            entity_effects=True,\n",
    "            time_effects=True,\n",
    "            drop_absorbed = True)\n",
    "\n",
    "\n",
    "m.fit(cov_type='clustered', cluster_time=True, cluster_entity=True)"
   ]
  },
  {
   "cell_type": "markdown",
   "metadata": {},
   "source": [
    "and much more women in private settings."
   ]
  },
  {
   "cell_type": "code",
   "execution_count": null,
   "metadata": {},
   "outputs": [],
   "source": [
    "X = df_sub.loc[:,['log_best','person_mean', 'all_privat', 'all_public']] # raw is ref\n",
    "y = df_sub.loc[:, 'female_mean']\n",
    "\n",
    "m = PanelOLS(dependent=y,\n",
    "            exog=X,\n",
    "            entity_effects=True,\n",
    "            time_effects=True,\n",
    "            drop_absorbed = True)\n",
    "\n",
    "\n",
    "m.fit(cov_type='clustered', cluster_time=True, cluster_entity=True)"
   ]
  },
  {
   "cell_type": "code",
   "execution_count": null,
   "metadata": {},
   "outputs": [],
   "source": [
    "X = df_sub.loc[:,['log_best', 'all_privat', 'all_public']] # raw is ref\n",
    "y = df_sub.loc[:, 'female_mean']\n",
    "\n",
    "m = PanelOLS(dependent=y,\n",
    "            exog=X,\n",
    "            entity_effects=True,\n",
    "            time_effects=True,\n",
    "            drop_absorbed = True)\n",
    "\n",
    "\n",
    "m.fit(cov_type='clustered', cluster_time=True, cluster_entity=True)"
   ]
  },
  {
   "cell_type": "markdown",
   "metadata": {},
   "source": [
    "The effect of public dissapears if we add both but this is like because of high (negative) co-linearity between public and private "
   ]
  },
  {
   "cell_type": "code",
   "execution_count": null,
   "metadata": {},
   "outputs": [],
   "source": [
    "X = df_sub.loc[:,['log_best','person_mean', 'all_privat', 'all_public', 'religiousGarmentFemale_mean']] # raw is ref\n",
    "y = df_sub.loc[:, 'female_mean']\n",
    "\n",
    "m = PanelOLS(dependent=y,\n",
    "            exog=X,\n",
    "            entity_effects=True,\n",
    "            time_effects=True,\n",
    "            drop_absorbed = True)\n",
    "\n",
    "\n",
    "m.fit(cov_type='clustered', cluster_time=True, cluster_entity=True)"
   ]
  },
  {
   "cell_type": "code",
   "execution_count": null,
   "metadata": {},
   "outputs": [],
   "source": [
    "X = df_sub.loc[:,['log_best', 'all_privat', 'all_public', 'religiousGarmentFemale_mean']] # raw is ref\n",
    "y = df_sub.loc[:, 'female_mean']\n",
    "\n",
    "m = PanelOLS(dependent=y,\n",
    "            exog=X,\n",
    "            entity_effects=True,\n",
    "            time_effects=True,\n",
    "            drop_absorbed = True)\n",
    "\n",
    "\n",
    "m.fit(cov_type='clustered', cluster_time=True, cluster_entity=True)"
   ]
  },
  {
   "cell_type": "markdown",
   "metadata": {},
   "source": [
    "Introducing garments changes things thou. Now both public and private are highly significant dispite the co-linearity. Less women with no veils in public. More women with no vail in private."
   ]
  },
  {
   "cell_type": "code",
   "execution_count": null,
   "metadata": {},
   "outputs": [],
   "source": [
    "X = df_sub.loc[:,['tce','person_mean', 'all_privat', 'all_public', 'religiousGarmentFemale_mean']] # raw is ref\n",
    "y = df_sub.loc[:, 'female_mean']\n",
    "\n",
    "m = PanelOLS(dependent=y,\n",
    "            exog=X,\n",
    "            entity_effects=True,\n",
    "            time_effects=True,\n",
    "            drop_absorbed = True)\n",
    "\n",
    "\n",
    "m.fit(cov_type='clustered', cluster_time=True, cluster_entity=True)"
   ]
  },
  {
   "cell_type": "code",
   "execution_count": null,
   "metadata": {},
   "outputs": [],
   "source": [
    "X = df_sub.loc[:,['tce','all_privat', 'all_public', 'religiousGarmentFemale_mean']] # raw is ref\n",
    "y = df_sub.loc[:, 'female_mean']\n",
    "\n",
    "m = PanelOLS(dependent=y,\n",
    "            exog=X,\n",
    "            entity_effects=True,\n",
    "            time_effects=True,\n",
    "            drop_absorbed = True)\n",
    "\n",
    "\n",
    "m.fit(cov_type='clustered', cluster_time=True, cluster_entity=True)"
   ]
  },
  {
   "cell_type": "code",
   "execution_count": null,
   "metadata": {},
   "outputs": [],
   "source": [
    "X = df_sub.loc[:,['tsce','person_mean', 'all_privat', 'all_public', 'religiousGarmentFemale_mean']] # raw is ref\n",
    "y = df_sub.loc[:, 'female_mean']\n",
    "\n",
    "m = PanelOLS(dependent=y,\n",
    "            exog=X,\n",
    "            entity_effects=True,\n",
    "            time_effects=True,\n",
    "            drop_absorbed = True)\n",
    "\n",
    "\n",
    "m.fit(cov_type='clustered', cluster_time=True, cluster_entity=True)"
   ]
  },
  {
   "cell_type": "code",
   "execution_count": null,
   "metadata": {},
   "outputs": [],
   "source": [
    "X = df_sub.loc[:,['tsce','all_privat', 'all_public', 'religiousGarmentFemale_mean']] # raw is ref\n",
    "y = df_sub.loc[:, 'female_mean']\n",
    "\n",
    "m = PanelOLS(dependent=y,\n",
    "            exog=X,\n",
    "            entity_effects=True,\n",
    "            time_effects=True,\n",
    "            drop_absorbed = True)\n",
    "\n",
    "\n",
    "m.fit(cov_type='clustered', cluster_time=True, cluster_entity=True)"
   ]
  },
  {
   "cell_type": "markdown",
   "metadata": {},
   "source": [
    "But no matter the specification - conflict does not chage this"
   ]
  },
  {
   "cell_type": "code",
   "execution_count": null,
   "metadata": {},
   "outputs": [],
   "source": []
  },
  {
   "cell_type": "markdown",
   "metadata": {},
   "source": [
    "# Old"
   ]
  },
  {
   "cell_type": "code",
   "execution_count": null,
   "metadata": {},
   "outputs": [],
   "source": [
    "df_sub['person_dummy'].unique()"
   ]
  },
  {
   "cell_type": "code",
   "execution_count": null,
   "metadata": {},
   "outputs": [],
   "source": []
  },
  {
   "cell_type": "code",
   "execution_count": null,
   "metadata": {},
   "outputs": [],
   "source": []
  },
  {
   "cell_type": "code",
   "execution_count": null,
   "metadata": {},
   "outputs": [],
   "source": [
    "X = df_sub.loc[:,['log_best', 'female_mean']] # raw is ref\n",
    "y = df_sub.loc[:, 'religiousGarmentFemale_mean']\n",
    "\n",
    "m = PanelOLS(dependent=y,\n",
    "            exog=X,\n",
    "            entity_effects=True,\n",
    "            time_effects=True,\n",
    "            drop_absorbed = True)\n",
    "\n",
    "# m = PanelOLS.from_formula('female_mean ~ log_best + Published + Submitted + person_mean + EntityEffects + TimeEffects', data=df_sub)\n",
    "\n",
    "output = m.fit(cov_type='clustered', cluster_time=True, cluster_entity=True)\n",
    "print(output)\n"
   ]
  },
  {
   "cell_type": "code",
   "execution_count": null,
   "metadata": {},
   "outputs": [],
   "source": [
    "X = df_sub.loc[:,['tce', 'female_mean']] # raw is ref\n",
    "y = df_sub.loc[:, 'religiousGarmentFemale_mean']\n",
    "\n",
    "m = PanelOLS(dependent=y,\n",
    "            exog=X,\n",
    "            entity_effects=True,\n",
    "            time_effects=True,\n",
    "            drop_absorbed = True)\n",
    "\n",
    "# m = PanelOLS.from_formula('female_mean ~ log_best + Published + Submitted + person_mean + EntityEffects + TimeEffects', data=df_sub)\n",
    "\n",
    "output = m.fit(cov_type='clustered', cluster_time=True, cluster_entity=True)\n",
    "print(output)\n"
   ]
  },
  {
   "cell_type": "code",
   "execution_count": null,
   "metadata": {},
   "outputs": [],
   "source": [
    "X = df_sub.loc[:,['tsce', 'female_mean']] # raw is ref\n",
    "y = df_sub.loc[:, 'religiousGarmentFemale_mean']\n",
    "\n",
    "m = PanelOLS(dependent=y,\n",
    "            exog=X,\n",
    "            entity_effects=True,\n",
    "            time_effects=True,\n",
    "            drop_absorbed = True)\n",
    "\n",
    "# m = PanelOLS.from_formula('female_mean ~ log_best + Published + Submitted + person_mean + EntityEffects + TimeEffects', data=df_sub)\n",
    "\n",
    "output = m.fit(cov_type='clustered', cluster_time=True, cluster_entity=True)\n",
    "print(output)\n"
   ]
  },
  {
   "cell_type": "code",
   "execution_count": null,
   "metadata": {},
   "outputs": [],
   "source": [
    "X = df_sub.loc[:,['tsce', 'female_mean', 'all_privat']] # raw is ref\n",
    "y = df_sub.loc[:, 'religiousGarmentFemale_mean']\n",
    "\n",
    "m = PanelOLS(dependent=y,\n",
    "            exog=X,\n",
    "            entity_effects=True,\n",
    "            time_effects=True,\n",
    "            drop_absorbed = True)\n",
    "\n",
    "# m = PanelOLS.from_formula('female_mean ~ log_best + Published + Submitted + person_mean + EntityEffects + TimeEffects', data=df_sub)\n",
    "\n",
    "output = m.fit(cov_type='clustered', cluster_time=True, cluster_entity=True)\n",
    "print(output)\n"
   ]
  },
  {
   "cell_type": "code",
   "execution_count": null,
   "metadata": {},
   "outputs": [],
   "source": [
    "X = df_sub.loc[:,['tsce', 'female_mean', 'all_public', 'all_militarized']] # raw is ref\n",
    "y = df_sub.loc[:, 'religiousGarmentFemale_mean']\n",
    "\n",
    "m = PanelOLS(dependent=y,\n",
    "            exog=X,\n",
    "            entity_effects=True,\n",
    "            time_effects=True,\n",
    "            drop_absorbed = True)\n",
    "\n",
    "# m = PanelOLS.from_formula('female_mean ~ log_best + Published + Submitted + person_mean + EntityEffects + TimeEffects', data=df_sub)\n",
    "\n",
    "output = m.fit(cov_type='clustered', cluster_time=True, cluster_entity=True)\n",
    "print(output)\n"
   ]
  },
  {
   "cell_type": "code",
   "execution_count": null,
   "metadata": {},
   "outputs": [],
   "source": []
  },
  {
   "cell_type": "code",
   "execution_count": null,
   "metadata": {},
   "outputs": [],
   "source": []
  },
  {
   "cell_type": "code",
   "execution_count": null,
   "metadata": {},
   "outputs": [],
   "source": []
  },
  {
   "cell_type": "code",
   "execution_count": null,
   "metadata": {},
   "outputs": [],
   "source": []
  },
  {
   "cell_type": "code",
   "execution_count": null,
   "metadata": {},
   "outputs": [],
   "source": []
  },
  {
   "cell_type": "code",
   "execution_count": null,
   "metadata": {},
   "outputs": [],
   "source": []
  },
  {
   "cell_type": "code",
   "execution_count": null,
   "metadata": {},
   "outputs": [],
   "source": [
    "X = df_sub.loc[:,['tsce', 'female_mean', 'all_public', 'all_privat']] # raw is ref\n",
    "y = df_sub.loc[:, 'religiousGarmentFemale_mean']\n",
    "\n",
    "m = PanelOLS(dependent=y,\n",
    "            exog=X,\n",
    "            entity_effects=True,\n",
    "            time_effects=True,\n",
    "            drop_absorbed = True)\n",
    "\n",
    "# m = PanelOLS.from_formula('female_mean ~ log_best + Published + Submitted + person_mean + EntityEffects + TimeEffects', data=df_sub)\n",
    "\n",
    "output = m.fit(cov_type='clustered', cluster_time=True, cluster_entity=True)\n",
    "print(output)\n"
   ]
  },
  {
   "cell_type": "code",
   "execution_count": null,
   "metadata": {},
   "outputs": [],
   "source": []
  },
  {
   "cell_type": "code",
   "execution_count": null,
   "metadata": {},
   "outputs": [],
   "source": [
    "X = df_sub.loc[:,['tce', 'person_mean']] # raw is ref\n",
    "y = df_sub.loc[:, 'religiousGarmentFemale_mean']\n",
    "\n",
    "m = PanelOLS(dependent=y,\n",
    "            exog=X,\n",
    "            entity_effects=True,\n",
    "            time_effects=True,\n",
    "            drop_absorbed = True)\n",
    "\n",
    "# m = PanelOLS.from_formula('female_mean ~ log_best + Published + Submitted + person_mean + EntityEffects + TimeEffects', data=df_sub)\n",
    "\n",
    "output = m.fit(cov_type='clustered', cluster_time=True, cluster_entity=True)\n",
    "print(output)\n"
   ]
  },
  {
   "cell_type": "code",
   "execution_count": null,
   "metadata": {},
   "outputs": [],
   "source": [
    "X = df_sub.loc[:,['tsce', 'person_mean']] # raw is ref\n",
    "y = df_sub.loc[:, 'religiousGarmentFemale_mean']\n",
    "\n",
    "m = PanelOLS(dependent=y,\n",
    "            exog=X,\n",
    "            entity_effects=True,\n",
    "            time_effects=True,\n",
    "            drop_absorbed = True)\n",
    "\n",
    "# m = PanelOLS.from_formula('female_mean ~ log_best + Published + Submitted + person_mean + EntityEffects + TimeEffects', data=df_sub)\n",
    "\n",
    "output = m.fit(cov_type='clustered', cluster_time=True, cluster_entity=True)\n",
    "print(output)\n"
   ]
  },
  {
   "cell_type": "code",
   "execution_count": null,
   "metadata": {},
   "outputs": [],
   "source": []
  },
  {
   "cell_type": "code",
   "execution_count": null,
   "metadata": {},
   "outputs": [],
   "source": []
  },
  {
   "cell_type": "code",
   "execution_count": null,
   "metadata": {},
   "outputs": [],
   "source": []
  },
  {
   "cell_type": "code",
   "execution_count": null,
   "metadata": {},
   "outputs": [],
   "source": []
  },
  {
   "cell_type": "code",
   "execution_count": null,
   "metadata": {},
   "outputs": [],
   "source": []
  },
  {
   "cell_type": "code",
   "execution_count": null,
   "metadata": {},
   "outputs": [],
   "source": []
  },
  {
   "cell_type": "code",
   "execution_count": null,
   "metadata": {},
   "outputs": [],
   "source": []
  },
  {
   "cell_type": "code",
   "execution_count": null,
   "metadata": {},
   "outputs": [],
   "source": []
  },
  {
   "cell_type": "code",
   "execution_count": null,
   "metadata": {},
   "outputs": [],
   "source": []
  },
  {
   "cell_type": "code",
   "execution_count": null,
   "metadata": {},
   "outputs": [],
   "source": []
  },
  {
   "cell_type": "code",
   "execution_count": null,
   "metadata": {},
   "outputs": [],
   "source": [
    "X = df_sub.loc[:,['log_best', 'female_dummy']] # raw is ref\n",
    "y = df_sub.loc[:, 'religiousGarmentFemale_dummy']\n",
    "\n",
    "m = PanelOLS(dependent=y,\n",
    "            exog=X,\n",
    "            entity_effects=True,\n",
    "            time_effects=True,\n",
    "            drop_absorbed = True)\n",
    "\n",
    "# m = PanelOLS.from_formula('female_mean ~ log_best + Published + Submitted + person_mean + EntityEffects + TimeEffects', data=df_sub)\n",
    "\n",
    "output = m.fit(cov_type='clustered', cluster_time=True, cluster_entity=True)\n",
    "print(output)\n"
   ]
  },
  {
   "cell_type": "code",
   "execution_count": null,
   "metadata": {},
   "outputs": [],
   "source": []
  },
  {
   "cell_type": "code",
   "execution_count": null,
   "metadata": {},
   "outputs": [],
   "source": []
  },
  {
   "cell_type": "code",
   "execution_count": null,
   "metadata": {},
   "outputs": [],
   "source": []
  },
  {
   "cell_type": "code",
   "execution_count": null,
   "metadata": {},
   "outputs": [],
   "source": []
  },
  {
   "cell_type": "code",
   "execution_count": null,
   "metadata": {},
   "outputs": [],
   "source": []
  },
  {
   "cell_type": "code",
   "execution_count": null,
   "metadata": {},
   "outputs": [],
   "source": []
  },
  {
   "cell_type": "code",
   "execution_count": null,
   "metadata": {},
   "outputs": [],
   "source": [
    "for i in df_sub.columns[:-9]:\n",
    "\n",
    "    X = df_sub.loc[:,['Submitted']] # raw is ref\n",
    "    y = df_sub.loc[:, i]\n",
    "\n",
    "    m = PanelOLS(dependent=y,\n",
    "                exog=X,\n",
    "                entity_effects=True,\n",
    "                time_effects=True,\n",
    "                drop_absorbed = True)\n",
    "\n",
    "    # m = PanelOLS.from_formula('female_mean ~ log_best + Published + Submitted + person_mean + EntityEffects + TimeEffects', data=df_sub)\n",
    "\n",
    "    try:\n",
    "        output = m.fit(cov_type='clustered', cluster_time=True, cluster_entity=True)\n",
    "        print(output)\n",
    "\n",
    "    except:\n",
    "        pass"
   ]
  },
  {
   "cell_type": "code",
   "execution_count": null,
   "metadata": {},
   "outputs": [],
   "source": [
    "for i in df_sub.columns:\n",
    "\n",
    "    X = df_sub.loc[:,['log_best']] # raw is ref\n",
    "    y = df_sub.loc[:, i]\n",
    "\n",
    "    m = PanelOLS(dependent=y,\n",
    "                exog=X,\n",
    "                entity_effects=True,\n",
    "                time_effects=True,\n",
    "                drop_absorbed = True)\n",
    "\n",
    "    # m = PanelOLS.from_formula('female_mean ~ log_best + Published + Submitted + person_mean + EntityEffects + TimeEffects', data=df_sub)\n",
    "\n",
    "    try:\n",
    "        output = m.fit(cov_type='clustered', cluster_time=True, cluster_entity=True)\n",
    "        print(output)\n",
    "\n",
    "    except:\n",
    "        pass"
   ]
  },
  {
   "cell_type": "code",
   "execution_count": null,
   "metadata": {},
   "outputs": [],
   "source": [
    "X = df_sub.loc[:,['Submitted','all_militarized', 'person_mean']] # raw is ref\n",
    "y = df_sub.loc[:, 'female_mean']\n",
    "\n",
    "m = PanelOLS(dependent=y,\n",
    "            exog=X,\n",
    "            entity_effects=True,\n",
    "            time_effects=True,\n",
    "            drop_absorbed = True)\n",
    "\n",
    "# m = PanelOLS.from_formula('female_mean ~ log_best + Published + Submitted + person_mean + EntityEffects + TimeEffects', data=df_sub)\n",
    "\n",
    "output = m.fit(cov_type='clustered', cluster_time=True, cluster_entity=True)\n",
    "print(output)\n"
   ]
  },
  {
   "cell_type": "code",
   "execution_count": null,
   "metadata": {},
   "outputs": [],
   "source": [
    "X = df_sub.loc[:,['Submitted','all_militarized', 'person_dummy']] # raw is ref\n",
    "y = df_sub.loc[:, 'female_dummy']\n",
    "\n",
    "m = PanelOLS(dependent=y,\n",
    "            exog=X,\n",
    "            entity_effects=True,\n",
    "            time_effects=True,\n",
    "            drop_absorbed = True)\n",
    "\n",
    "# m = PanelOLS.from_formula('female_mean ~ log_best + Published + Submitted + person_mean + EntityEffects + TimeEffects', data=df_sub)\n",
    "\n",
    "output = m.fit(cov_type='clustered', cluster_time=True, cluster_entity=True)\n",
    "print(output)\n"
   ]
  },
  {
   "cell_type": "code",
   "execution_count": null,
   "metadata": {},
   "outputs": [],
   "source": [
    "X = df_sub.loc[:,['person_dummy', 'female_dummy', 'religiousGarmentFemale_dummy']] # raw is ref\n",
    "y = df_sub.loc[:, 'Submitted']\n",
    "\n",
    "m = PanelOLS(dependent=y,\n",
    "            exog=X,\n",
    "            entity_effects=True,\n",
    "            time_effects=True,\n",
    "            drop_absorbed = True)\n",
    "\n",
    "# m = PanelOLS.from_formula('female_mean ~ log_best + Published + Submitted + person_mean + EntityEffects + TimeEffects', data=df_sub)\n",
    "\n",
    "output = m.fit(cov_type='clustered', cluster_time=True, cluster_entity=True)\n",
    "print(output)\n"
   ]
  },
  {
   "cell_type": "code",
   "execution_count": null,
   "metadata": {},
   "outputs": [],
   "source": [
    "X = df_sub.loc[:,['all_militarized','person_dummy', 'female_dummy', 'religiousGarmentFemale_dummy']] # raw is ref\n",
    "y = df_sub.loc[:, 'Submitted']\n",
    "\n",
    "m = PanelOLS(dependent=y,\n",
    "            exog=X,\n",
    "            entity_effects=True,\n",
    "            time_effects=True,\n",
    "            drop_absorbed = True)\n",
    "\n",
    "# m = PanelOLS.from_formula('female_mean ~ log_best + Published + Submitted + person_mean + EntityEffects + TimeEffects', data=df_sub)\n",
    "\n",
    "output = m.fit(cov_type='clustered', cluster_time=True, cluster_entity=True)\n",
    "print(output)\n"
   ]
  },
  {
   "cell_type": "code",
   "execution_count": null,
   "metadata": {},
   "outputs": [],
   "source": [
    "X = df_sub.loc[:,['female_dummy']] # raw is ref\n",
    "y = df_sub.loc[:, 'log_best']\n",
    "\n",
    "m = PanelOLS(dependent=y,\n",
    "            exog=X,\n",
    "            entity_effects=True,\n",
    "            time_effects=True,\n",
    "            drop_absorbed = True)\n",
    "\n",
    "# m = PanelOLS.from_formula('female_mean ~ log_best + Published + Submitted + person_mean + EntityEffects + TimeEffects', data=df_sub)\n",
    "\n",
    "output = m.fit(cov_type='clustered', cluster_time=True, cluster_entity=True)\n",
    "print(output)\n"
   ]
  },
  {
   "cell_type": "code",
   "execution_count": null,
   "metadata": {},
   "outputs": [],
   "source": [
    "X = df_sub.loc[:,['all_privat', 'all_public', 'person_dummy']] # raw is ref\n",
    "y = df_sub.loc[:, 'female_dummy']\n",
    "\n",
    "m = PanelOLS(dependent=y,\n",
    "            exog=X,\n",
    "            entity_effects=True,\n",
    "            time_effects=True,\n",
    "            drop_absorbed = True)\n",
    "\n",
    "# m = PanelOLS.from_formula('female_mean ~ log_best + Published + Submitted + person_mean + EntityEffects + TimeEffects', data=df_sub)\n",
    "\n",
    "output = m.fit(cov_type='clustered', cluster_time=True, cluster_entity=True)\n",
    "print(output)\n"
   ]
  },
  {
   "cell_type": "code",
   "execution_count": null,
   "metadata": {},
   "outputs": [],
   "source": [
    "X = df_sub.loc[:,['all_privat', 'all_public', 'female_dummy']] # raw is ref\n",
    "y = df_sub.loc[:, 'religiousGarmentFemale_dummy']\n",
    "\n",
    "m = PanelOLS(dependent=y,\n",
    "            exog=X,\n",
    "            entity_effects=True,\n",
    "            time_effects=True,\n",
    "            drop_absorbed = True)\n",
    "\n",
    "# m = PanelOLS.from_formula('female_mean ~ log_best + Published + Submitted + person_mean + EntityEffects + TimeEffects', data=df_sub)\n",
    "\n",
    "output = m.fit(cov_type='clustered', cluster_time=True, cluster_entity=True)\n",
    "print(output)\n"
   ]
  },
  {
   "cell_type": "code",
   "execution_count": null,
   "metadata": {},
   "outputs": [],
   "source": [
    "X = df_sub.loc[:,['all_privat', 'female_dummy', 'log_best']] # raw is ref\n",
    "y = df_sub.loc[:, 'intFemPri']\n",
    "\n",
    "m = PanelOLS(dependent=y,\n",
    "            exog=X,\n",
    "            entity_effects=True,\n",
    "            time_effects=True,\n",
    "            drop_absorbed = True)\n",
    "\n",
    "# m = PanelOLS.from_formula('female_mean ~ log_best + Published + Submitted + person_mean + EntityEffects + TimeEffects', data=df_sub)\n",
    "\n",
    "output = m.fit(cov_type='clustered', cluster_time=True, cluster_entity=True)\n",
    "print(output)\n"
   ]
  },
  {
   "cell_type": "code",
   "execution_count": null,
   "metadata": {},
   "outputs": [],
   "source": [
    "X = df_sub.loc[:,['all_public', 'female_mean', 'log_best']] # raw is ref\n",
    "y = df_sub.loc[:, 'intFemPub']\n",
    "\n",
    "m = PanelOLS(dependent=y,\n",
    "            exog=X,\n",
    "            entity_effects=True,\n",
    "            time_effects=True,\n",
    "            drop_absorbed = True)\n",
    "\n",
    "# m = PanelOLS.from_formula('female_mean ~ log_best + Published + Submitted + person_mean + EntityEffects + TimeEffects', data=df_sub)\n",
    "\n",
    "output = m.fit(cov_type='clustered', cluster_time=True, cluster_entity=True)\n",
    "print(output)\n"
   ]
  },
  {
   "cell_type": "code",
   "execution_count": null,
   "metadata": {},
   "outputs": [],
   "source": [
    "X = df_sub.loc[:,['all_privat', 'female_mean', 'log_best']] # raw is ref\n",
    "y = df_sub.loc[:, 'intFemDPri']\n",
    "\n",
    "m = PanelOLS(dependent=y,\n",
    "            exog=X,\n",
    "            entity_effects=True,\n",
    "            time_effects=True,\n",
    "            drop_absorbed = True)\n",
    "\n",
    "# m = PanelOLS.from_formula('female_mean ~ log_best + Published + Submitted + person_mean + EntityEffects + TimeEffects', data=df_sub)\n",
    "\n",
    "output = m.fit(cov_type='clustered', cluster_time=True, cluster_entity=True)\n",
    "print(output)\n"
   ]
  },
  {
   "cell_type": "code",
   "execution_count": null,
   "metadata": {},
   "outputs": [],
   "source": [
    "X = df_sub.loc[:,['all_privat', 'female_dummy', 'log_best', 'person_mean']] # raw is ref\n",
    "y = df_sub.loc[:, 'intFemDPri']\n",
    "\n",
    "m = PanelOLS(dependent=y,\n",
    "            exog=X,\n",
    "            entity_effects=True,\n",
    "            time_effects=True,\n",
    "            drop_absorbed = True)\n",
    "\n",
    "# m = PanelOLS.from_formula('female_mean ~ log_best + Published + Submitted + person_mean + EntityEffects + TimeEffects', data=df_sub)\n",
    "\n",
    "output = m.fit(cov_type='clustered', cluster_time=True, cluster_entity=True)\n",
    "print(output)"
   ]
  },
  {
   "cell_type": "code",
   "execution_count": null,
   "metadata": {},
   "outputs": [],
   "source": [
    "X = df_sub.loc[:,['all_privat', 'female_dummy', 'tce']] # raw is ref\n",
    "y = df_sub.loc[:, 'intFemDPri']\n",
    "\n",
    "m = PanelOLS(dependent=y,\n",
    "            exog=X,\n",
    "            entity_effects=True,\n",
    "            time_effects=True,\n",
    "            drop_absorbed = True)\n",
    "\n",
    "# m = PanelOLS.from_formula('female_mean ~ log_best + Published + Submitted + person_mean + EntityEffects + TimeEffects', data=df_sub)\n",
    "\n",
    "output = m.fit(cov_type='clustered', cluster_time=True, cluster_entity=True)\n",
    "print(output)"
   ]
  },
  {
   "cell_type": "code",
   "execution_count": null,
   "metadata": {},
   "outputs": [],
   "source": [
    "X = df_sub.loc[:,['all_privat', 'female_dummy', 'tsce']] # raw is ref\n",
    "y = df_sub.loc[:, 'intFemDPri']\n",
    "\n",
    "m = PanelOLS(dependent=y,\n",
    "            exog=X,\n",
    "            entity_effects=True,\n",
    "            time_effects=True,\n",
    "            drop_absorbed = True)\n",
    "\n",
    "# m = PanelOLS.from_formula('female_mean ~ log_best + Published + Submitted + person_mean + EntityEffects + TimeEffects', data=df_sub)\n",
    "\n",
    "output = m.fit(cov_type='clustered', cluster_time=True, cluster_entity=True)\n",
    "print(output)"
   ]
  },
  {
   "cell_type": "code",
   "execution_count": null,
   "metadata": {},
   "outputs": [],
   "source": []
  },
  {
   "cell_type": "code",
   "execution_count": null,
   "metadata": {},
   "outputs": [],
   "source": [
    "X = df_sub.loc[:,['all_privat', 'female_dummy', 'log_best', 'intFemDPri']] # raw is ref\n",
    "y = df_sub.loc[:, 'Submitted']\n",
    "\n",
    "m = PanelOLS(dependent=y,\n",
    "            exog=X,\n",
    "            entity_effects=True,\n",
    "            time_effects=True,\n",
    "            drop_absorbed = True)\n",
    "\n",
    "# m = PanelOLS.from_formula('female_mean ~ log_best + Published + Submitted + person_mean + EntityEffects + TimeEffects', data=df_sub)\n",
    "\n",
    "output = m.fit(cov_type='clustered', cluster_time=True, cluster_entity=True)\n",
    "print(output)"
   ]
  },
  {
   "cell_type": "code",
   "execution_count": null,
   "metadata": {},
   "outputs": [],
   "source": [
    "X = df_sub.loc[:,['all_privat', 'female_dummy', 'intFemDPri']] # raw is ref\n",
    "y = df_sub.loc[:, 'Submitted']\n",
    "\n",
    "m = PanelOLS(dependent=y,\n",
    "            exog=X,\n",
    "            entity_effects=True,\n",
    "            time_effects=True,\n",
    "            drop_absorbed = True)\n",
    "\n",
    "# m = PanelOLS.from_formula('female_mean ~ log_best + Published + Submitted + person_mean + EntityEffects + TimeEffects', data=df_sub)\n",
    "\n",
    "output = m.fit(cov_type='clustered', cluster_time=True, cluster_entity=True)\n",
    "print(output)"
   ]
  },
  {
   "cell_type": "code",
   "execution_count": null,
   "metadata": {},
   "outputs": [],
   "source": [
    "X = df_sub.loc[df_sub['Published'] == 0, ['all_privat', 'female_dummy', 'person_dummy', 'intFemDPri']] # raw is ref\n",
    "y = df_sub.loc[df_sub['Published'] == 0, 'Submitted']\n",
    "\n",
    "m = PanelOLS(dependent=y,\n",
    "            exog=X,\n",
    "            entity_effects=True,\n",
    "            time_effects=True,\n",
    "            drop_absorbed = True)\n",
    "\n",
    "# m = PanelOLS.from_formula('female_mean ~ log_best + Published + Submitted + person_mean + EntityEffects + TimeEffects', data=df_sub)\n",
    "\n",
    "output = m.fit(cov_type='clustered', cluster_time=True, cluster_entity=True)\n",
    "print(output)"
   ]
  },
  {
   "cell_type": "code",
   "execution_count": null,
   "metadata": {},
   "outputs": [],
   "source": [
    "X = df_sub.loc[:,['all_public', 'female_dummy', 'log_best']] # raw is ref\n",
    "y = df_sub.loc[:, 'intFemDPub']\n",
    "\n",
    "m = PanelOLS(dependent=y,\n",
    "            exog=X,\n",
    "            entity_effects=True,\n",
    "            time_effects=True,\n",
    "            drop_absorbed = True)\n",
    "\n",
    "# m = PanelOLS.from_formula('female_mean ~ log_best + Published + Submitted + person_mean + EntityEffects + TimeEffects', data=df_sub)\n",
    "\n",
    "output = m.fit(cov_type='clustered', cluster_time=True, cluster_entity=True)\n",
    "print(output)"
   ]
  },
  {
   "cell_type": "code",
   "execution_count": null,
   "metadata": {},
   "outputs": [],
   "source": []
  },
  {
   "cell_type": "code",
   "execution_count": null,
   "metadata": {},
   "outputs": [],
   "source": []
  },
  {
   "cell_type": "code",
   "execution_count": null,
   "metadata": {},
   "outputs": [],
   "source": []
  },
  {
   "cell_type": "code",
   "execution_count": null,
   "metadata": {},
   "outputs": [],
   "source": []
  },
  {
   "cell_type": "code",
   "execution_count": null,
   "metadata": {},
   "outputs": [],
   "source": [
    "x = df_sub['all_privat']\n",
    "y = df_sub['all_public']\n",
    "\n",
    "plt.scatter(x, y)\n",
    "plt.show()"
   ]
  },
  {
   "cell_type": "code",
   "execution_count": null,
   "metadata": {},
   "outputs": [],
   "source": []
  },
  {
   "cell_type": "code",
   "execution_count": null,
   "metadata": {},
   "outputs": [],
   "source": [
    "for i in df_sub.columns:\n",
    "\n",
    "    X = df_sub.loc[:,[i, 'female_dummy']] # raw is ref\n",
    "    y = df_sub.loc[:, 'religiousGarmentFemale_dummy']\n",
    "\n",
    "    m = PanelOLS(dependent=y,\n",
    "                exog=X,\n",
    "                entity_effects=True,\n",
    "                time_effects=True,\n",
    "                drop_absorbed = True)\n",
    "\n",
    "    # m = PanelOLS.from_formula('female_mean ~ log_best + Published + Submitted + person_mean + EntityEffects + TimeEffects', data=df_sub)\n",
    "\n",
    "    try:\n",
    "        output = m.fit(cov_type='clustered', cluster_time=True, cluster_entity=True)\n",
    "        print(output)\n",
    "\n",
    "    except:\n",
    "        pass"
   ]
  },
  {
   "cell_type": "code",
   "execution_count": null,
   "metadata": {},
   "outputs": [],
   "source": []
  },
  {
   "cell_type": "code",
   "execution_count": null,
   "metadata": {},
   "outputs": [],
   "source": []
  },
  {
   "cell_type": "code",
   "execution_count": null,
   "metadata": {},
   "outputs": [],
   "source": [
    "X = df_sub.loc[:,['person_mean', 'female_mean', 'religiousGarmentFemale_mean']] # raw is ref\n",
    "y = df_sub.loc[:, 'Submitted']\n",
    "\n",
    "m = PanelOLS(dependent=y,\n",
    "            exog=X,\n",
    "            entity_effects=True,\n",
    "            time_effects=True,\n",
    "            drop_absorbed = True)\n",
    "\n",
    "# m = PanelOLS.from_formula('female_mean ~ log_best + Published + Submitted + person_mean + EntityEffects + TimeEffects', data=df_sub)\n",
    "\n",
    "output = m.fit(cov_type='clustered', cluster_time=True, cluster_entity=True)\n",
    "print(output)\n"
   ]
  },
  {
   "cell_type": "code",
   "execution_count": null,
   "metadata": {},
   "outputs": [],
   "source": []
  },
  {
   "cell_type": "code",
   "execution_count": null,
   "metadata": {},
   "outputs": [],
   "source": []
  },
  {
   "cell_type": "code",
   "execution_count": null,
   "metadata": {},
   "outputs": [],
   "source": []
  },
  {
   "cell_type": "code",
   "execution_count": null,
   "metadata": {},
   "outputs": [],
   "source": []
  },
  {
   "cell_type": "code",
   "execution_count": null,
   "metadata": {},
   "outputs": [],
   "source": []
  },
  {
   "cell_type": "code",
   "execution_count": null,
   "metadata": {},
   "outputs": [],
   "source": [
    "#df_sub.loc[[df_sub['Published'] == 0],['person_mean', 'female_mean']] \n",
    "\n",
    "df_sub[df_sub['Published'] == 0].loc[:,['person_mean', 'female_mean']] \n"
   ]
  },
  {
   "cell_type": "code",
   "execution_count": null,
   "metadata": {},
   "outputs": [],
   "source": [
    "X = df_sub.loc[df_sub['Published'] == 0,['person_mean', 'female_mean']] # raw is ref\n",
    "y = df_sub.loc[df_sub['Published'] == 0, 'Submitted']\n",
    "\n",
    "m = PanelOLS(dependent=y,\n",
    "            exog=X,\n",
    "            entity_effects=True,\n",
    "            time_effects=True,\n",
    "            drop_absorbed = True)\n",
    "\n",
    "# m = PanelOLS.from_formula('female_mean ~ log_best + Published + Submitted + person_mean + EntityEffects + TimeEffects', data=df_sub)\n",
    "\n",
    "output = m.fit(cov_type='clustered', cluster_time=True, cluster_entity=True)\n",
    "print(output)"
   ]
  },
  {
   "cell_type": "code",
   "execution_count": null,
   "metadata": {},
   "outputs": [],
   "source": [
    "X = df_sub.loc[df_sub['Published'] == 0,['person_mean', 'female_mean']] # raw is ref\n",
    "y = df_sub.loc[df_sub['Published'] == 0, 'Submitted']\n",
    "\n",
    "m = PanelOLS(dependent=y,\n",
    "            exog=X,\n",
    "            entity_effects=True,\n",
    "            time_effects=True,\n",
    "            drop_absorbed = True)\n",
    "\n",
    "# m = PanelOLS.from_formula('female_mean ~ log_best + Published + Submitted + person_mean + EntityEffects + TimeEffects', data=df_sub)\n",
    "\n",
    "output = m.fit(cov_type='clustered', cluster_time=True, cluster_entity=True)\n",
    "print(output)"
   ]
  },
  {
   "cell_type": "code",
   "execution_count": null,
   "metadata": {},
   "outputs": [],
   "source": [
    "X = df_sub.loc[df_sub['Published'] == 0,['person_dummy', 'female_dummy']] # raw is ref\n",
    "y = df_sub.loc[df_sub['Published'] == 0, 'Submitted']\n",
    "\n",
    "m = PanelOLS(dependent=y,\n",
    "            exog=X,\n",
    "            entity_effects=True,\n",
    "            time_effects=True,\n",
    "            drop_absorbed = True)\n",
    "\n",
    "# m = PanelOLS.from_formula('female_mean ~ log_best + Published + Submitted + person_mean + EntityEffects + TimeEffects', data=df_sub)\n",
    "\n",
    "output = m.fit(cov_type='clustered', cluster_time=True, cluster_entity=True)\n",
    "print(output)"
   ]
  },
  {
   "cell_type": "code",
   "execution_count": null,
   "metadata": {},
   "outputs": [],
   "source": []
  },
  {
   "cell_type": "code",
   "execution_count": null,
   "metadata": {},
   "outputs": [],
   "source": [
    "X = df_sub.loc[df_sub['Published'] == 0,['female_mean', 'religiousGarmentFemale_mean']] # raw is ref\n",
    "y = df_sub.loc[df_sub['Published'] == 0, 'Submitted']\n",
    "\n",
    "m = PanelOLS(dependent=y,\n",
    "            exog=X,\n",
    "            entity_effects=True,\n",
    "            time_effects=True,\n",
    "            drop_absorbed = True)\n",
    "\n",
    "# m = PanelOLS.from_formula('female_mean ~ log_best + Published + Submitted + person_mean + EntityEffects + TimeEffects', data=df_sub)\n",
    "\n",
    "output = m.fit(cov_type='clustered', cluster_time=True, cluster_entity=True)\n",
    "print(output)"
   ]
  },
  {
   "cell_type": "code",
   "execution_count": null,
   "metadata": {},
   "outputs": [],
   "source": [
    "X = df_sub.loc[df_sub['Published'] == 0,['female_dummy', 'religiousGarmentFemale_mean']] # raw is ref\n",
    "y = df_sub.loc[df_sub['Published'] == 0, 'Submitted']\n",
    "\n",
    "m = PanelOLS(dependent=y,\n",
    "            exog=X,\n",
    "            entity_effects=True,\n",
    "            time_effects=True,\n",
    "            drop_absorbed = True)\n",
    "\n",
    "# m = PanelOLS.from_formula('female_mean ~ log_best + Published + Submitted + person_mean + EntityEffects + TimeEffects', data=df_sub)\n",
    "\n",
    "output = m.fit(cov_type='clustered', cluster_time=True, cluster_entity=True)\n",
    "print(output)"
   ]
  },
  {
   "cell_type": "code",
   "execution_count": null,
   "metadata": {},
   "outputs": [],
   "source": [
    "X = df_sub.loc[df_sub['Published'] == 0,['religiousGarmentFemale_mean']] # raw is ref\n",
    "y = df_sub.loc[df_sub['Published'] == 0, 'Submitted']\n",
    "\n",
    "m = PanelOLS(dependent=y,\n",
    "            exog=X,\n",
    "            entity_effects=True,\n",
    "            time_effects=True,\n",
    "            drop_absorbed = True)\n",
    "\n",
    "# m = PanelOLS.from_formula('female_mean ~ log_best + Published + Submitted + person_mean + EntityEffects + TimeEffects', data=df_sub)\n",
    "\n",
    "output = m.fit(cov_type='clustered', cluster_time=True, cluster_entity=True)\n",
    "print(output)"
   ]
  },
  {
   "cell_type": "code",
   "execution_count": null,
   "metadata": {},
   "outputs": [],
   "source": [
    "X = df_sub.loc[df_sub['Published'] == 0,['all_militarized','female_mean']] # raw is ref\n",
    "y = df_sub.loc[df_sub['Published'] == 0, 'Submitted']\n",
    "\n",
    "m = PanelOLS(dependent=y,\n",
    "            exog=X,\n",
    "            entity_effects=True,\n",
    "            time_effects=True,\n",
    "            drop_absorbed = True)\n",
    "\n",
    "# m = PanelOLS.from_formula('female_mean ~ log_best + Published + Submitted + person_mean + EntityEffects + TimeEffects', data=df_sub)\n",
    "\n",
    "output = m.fit(cov_type='clustered', cluster_time=True, cluster_entity=True)\n",
    "print(output)"
   ]
  },
  {
   "cell_type": "code",
   "execution_count": null,
   "metadata": {},
   "outputs": [],
   "source": [
    "X = df_sub.loc[df_sub['Published'] == 0,['intMilFem', 'all_militarized','female_mean']] # raw is ref\n",
    "y = df_sub.loc[df_sub['Published'] == 0, 'Submitted']\n",
    "\n",
    "m = PanelOLS(dependent=y,\n",
    "            exog=X,\n",
    "            entity_effects=True,\n",
    "            time_effects=True,\n",
    "            drop_absorbed = True)\n",
    "\n",
    "# m = PanelOLS.from_formula('female_mean ~ log_best + Published + Submitted + person_mean + EntityEffects + TimeEffects', data=df_sub)\n",
    "\n",
    "output = m.fit(cov_type='clustered', cluster_time=True, cluster_entity=True)\n",
    "print(output)"
   ]
  },
  {
   "cell_type": "code",
   "execution_count": null,
   "metadata": {},
   "outputs": [],
   "source": [
    "X = df_sub.loc[df_sub['Published'] == 0,['intMilGar', 'all_militarized','religiousGarmentFemale_mean']] # raw is ref\n",
    "y = df_sub.loc[df_sub['Published'] == 0, 'Submitted']\n",
    "\n",
    "m = PanelOLS(dependent=y,\n",
    "            exog=X,\n",
    "            entity_effects=True,\n",
    "            time_effects=True,\n",
    "            drop_absorbed = True)\n",
    "\n",
    "# m = PanelOLS.from_formula('female_mean ~ log_best + Published + Submitted + person_mean + EntityEffects + TimeEffects', data=df_sub)\n",
    "\n",
    "output = m.fit(cov_type='clustered', cluster_time=True, cluster_entity=True)\n",
    "print(output)"
   ]
  },
  {
   "cell_type": "code",
   "execution_count": null,
   "metadata": {},
   "outputs": [],
   "source": [
    "X = df_sub.loc[df_sub['Published'] == 0,['intUnGar', 'all_militarized','religiousGarmentFemale_mean']] # raw is ref\n",
    "y = df_sub.loc[df_sub['Published'] == 0, 'Submitted']\n",
    "\n",
    "m = PanelOLS(dependent=y,\n",
    "            exog=X,\n",
    "            entity_effects=True,\n",
    "            time_effects=True,\n",
    "            drop_absorbed = True)\n",
    "\n",
    "# m = PanelOLS.from_formula('female_mean ~ log_best + Published + Submitted + person_mean + EntityEffects + TimeEffects', data=df_sub)\n",
    "\n",
    "output = m.fit(cov_type='clustered', cluster_time=True, cluster_entity=True)\n",
    "print(output)"
   ]
  },
  {
   "cell_type": "code",
   "execution_count": null,
   "metadata": {},
   "outputs": [],
   "source": [
    "X = df_sub.loc[df_sub['Published'] == 0,['intUnFem', 'all_militarized','female_mean']] # raw is ref\n",
    "y = df_sub.loc[df_sub['Published'] == 0, 'Submitted']\n",
    "\n",
    "m = PanelOLS(dependent=y,\n",
    "            exog=X,\n",
    "            entity_effects=True,\n",
    "            time_effects=True,\n",
    "            drop_absorbed = True)\n",
    "\n",
    "# m = PanelOLS.from_formula('female_mean ~ log_best + Published + Submitted + person_mean + EntityEffects + TimeEffects', data=df_sub)\n",
    "\n",
    "output = m.fit(cov_type='clustered', cluster_time=True, cluster_entity=True)\n",
    "print(output)"
   ]
  },
  {
   "cell_type": "code",
   "execution_count": null,
   "metadata": {},
   "outputs": [],
   "source": []
  },
  {
   "cell_type": "code",
   "execution_count": null,
   "metadata": {},
   "outputs": [],
   "source": [
    "X = df_sub.loc[df_sub['Published'] == 0,[ 'all_militarized', 'person_dummy']] # raw is ref\n",
    "y = df_sub.loc[df_sub['Published'] == 0, 'female_dummy']\n",
    "\n",
    "m = PanelOLS(dependent=y,\n",
    "            exog=X,\n",
    "            entity_effects=True,\n",
    "            time_effects=True,\n",
    "            drop_absorbed = True)\n",
    "\n",
    "# m = PanelOLS.from_formula('female_mean ~ log_best + Published + Submitted + person_mean + EntityEffects + TimeEffects', data=df_sub)\n",
    "\n",
    "output = m.fit(cov_type='clustered', cluster_time=True, cluster_entity=True)\n",
    "print(output)"
   ]
  },
  {
   "cell_type": "code",
   "execution_count": null,
   "metadata": {},
   "outputs": [],
   "source": [
    "X = df_sub.loc[df_sub['Published'] == 0,[ 'all_militarized', 'person_mean']] # raw is ref\n",
    "y = df_sub.loc[df_sub['Published'] == 0, 'female_mean']\n",
    "\n",
    "m = PanelOLS(dependent=y,\n",
    "            exog=X,\n",
    "            entity_effects=True,\n",
    "            time_effects=True,\n",
    "            drop_absorbed = True)\n",
    "\n",
    "# m = PanelOLS.from_formula('female_mean ~ log_best + Published + Submitted + person_mean + EntityEffects + TimeEffects', data=df_sub)\n",
    "\n",
    "output = m.fit(cov_type='clustered', cluster_time=True, cluster_entity=True)\n",
    "print(output)"
   ]
  },
  {
   "cell_type": "code",
   "execution_count": null,
   "metadata": {},
   "outputs": [],
   "source": [
    "X = df_sub.loc[df_sub['Published'] == 0,[ 'all_militarized', 'person_dummy']] # raw is ref\n",
    "y = df_sub.loc[df_sub['Published'] == 0, 'religiousGarmentFemale_dummy']\n",
    "\n",
    "m = PanelOLS(dependent=y,\n",
    "            exog=X,\n",
    "            entity_effects=True,\n",
    "            time_effects=True,\n",
    "            drop_absorbed = True)\n",
    "\n",
    "# m = PanelOLS.from_formula('female_mean ~ log_best + Published + Submitted + person_mean + EntityEffects + TimeEffects', data=df_sub)\n",
    "\n",
    "output = m.fit(cov_type='clustered', cluster_time=True, cluster_entity=True)\n",
    "print(output)"
   ]
  },
  {
   "cell_type": "code",
   "execution_count": null,
   "metadata": {},
   "outputs": [],
   "source": [
    "X = df_sub.loc[df_sub['Published'] == 0,[ 'all_militarized', 'person_mean']] # raw is ref\n",
    "y = df_sub.loc[df_sub['Published'] == 0, 'religiousGarmentFemale_mean']\n",
    "\n",
    "m = PanelOLS(dependent=y,\n",
    "            exog=X,\n",
    "            entity_effects=True,\n",
    "            time_effects=True,\n",
    "            drop_absorbed = True)\n",
    "\n",
    "# m = PanelOLS.from_formula('female_mean ~ log_best + Published + Submitted + person_mean + EntityEffects + TimeEffects', data=df_sub)\n",
    "\n",
    "output = m.fit(cov_type='clustered', cluster_time=True, cluster_entity=True)\n",
    "print(output)"
   ]
  },
  {
   "cell_type": "code",
   "execution_count": null,
   "metadata": {},
   "outputs": [],
   "source": [
    "X = df_sub.loc[df_sub['Published'] == 0,[ 'all_militarized', 'female_dummy']] # raw is ref\n",
    "y = df_sub.loc[df_sub['Published'] == 0, 'religiousGarmentFemale_dummy']\n",
    "\n",
    "m = PanelOLS(dependent=y,\n",
    "            exog=X,\n",
    "            entity_effects=True,\n",
    "            time_effects=True,\n",
    "            drop_absorbed = True)\n",
    "\n",
    "# m = PanelOLS.from_formula('female_mean ~ log_best + Published + Submitted + person_mean + EntityEffects + TimeEffects', data=df_sub)\n",
    "\n",
    "output = m.fit(cov_type='clustered', cluster_time=True, cluster_entity=True)\n",
    "print(output)"
   ]
  },
  {
   "cell_type": "code",
   "execution_count": null,
   "metadata": {},
   "outputs": [],
   "source": [
    "X = df_sub.loc[df_sub['Published'] == 0,[ 'all_militarized', 'female_mean']] # raw is ref\n",
    "y = df_sub.loc[df_sub['Published'] == 0, 'religiousGarmentFemale_mean']\n",
    "\n",
    "m = PanelOLS(dependent=y,\n",
    "            exog=X,\n",
    "            entity_effects=True,\n",
    "            time_effects=True,\n",
    "            drop_absorbed = True)\n",
    "\n",
    "# m = PanelOLS.from_formula('female_mean ~ log_best + Published + Submitted + person_mean + EntityEffects + TimeEffects', data=df_sub)\n",
    "\n",
    "output = m.fit(cov_type='clustered', cluster_time=True, cluster_entity=True)\n",
    "print(output)"
   ]
  },
  {
   "cell_type": "code",
   "execution_count": null,
   "metadata": {},
   "outputs": [],
   "source": []
  },
  {
   "cell_type": "code",
   "execution_count": null,
   "metadata": {},
   "outputs": [],
   "source": []
  },
  {
   "cell_type": "code",
   "execution_count": null,
   "metadata": {},
   "outputs": [],
   "source": [
    "\n",
    "df_sub['intMilFem']\n",
    "df_sub['intMilGar'] \n",
    "df_sub['intUnFem'] \n",
    "df_sub['intUnGar']"
   ]
  },
  {
   "cell_type": "code",
   "execution_count": null,
   "metadata": {},
   "outputs": [],
   "source": []
  },
  {
   "cell_type": "code",
   "execution_count": null,
   "metadata": {},
   "outputs": [],
   "source": []
  },
  {
   "cell_type": "code",
   "execution_count": null,
   "metadata": {},
   "outputs": [],
   "source": [
    "X = df_sub.loc[:,['person_mean', 'female_mean']] # raw is ref\n",
    "y = df_sub.loc[:, 'Submitted']\n",
    "\n",
    "m = PanelOLS(dependent=y,\n",
    "            exog=X,\n",
    "            entity_effects=True,\n",
    "            time_effects=True,\n",
    "            drop_absorbed = True)\n",
    "\n",
    "# m = PanelOLS.from_formula('female_mean ~ log_best + Published + Submitted + person_mean + EntityEffects + TimeEffects', data=df_sub)\n",
    "\n",
    "output = m.fit(cov_type='clustered', cluster_time=True, cluster_entity=True)\n",
    "print(output)"
   ]
  },
  {
   "cell_type": "code",
   "execution_count": null,
   "metadata": {},
   "outputs": [],
   "source": []
  },
  {
   "cell_type": "code",
   "execution_count": null,
   "metadata": {},
   "outputs": [],
   "source": []
  },
  {
   "cell_type": "code",
   "execution_count": null,
   "metadata": {},
   "outputs": [],
   "source": []
  },
  {
   "cell_type": "code",
   "execution_count": null,
   "metadata": {},
   "outputs": [],
   "source": []
  },
  {
   "cell_type": "code",
   "execution_count": null,
   "metadata": {},
   "outputs": [],
   "source": []
  },
  {
   "cell_type": "code",
   "execution_count": null,
   "metadata": {},
   "outputs": [],
   "source": []
  },
  {
   "cell_type": "code",
   "execution_count": null,
   "metadata": {},
   "outputs": [],
   "source": []
  },
  {
   "cell_type": "code",
   "execution_count": null,
   "metadata": {},
   "outputs": [],
   "source": []
  },
  {
   "cell_type": "code",
   "execution_count": null,
   "metadata": {},
   "outputs": [],
   "source": []
  },
  {
   "cell_type": "code",
   "execution_count": null,
   "metadata": {},
   "outputs": [],
   "source": [
    "X = df_sub.loc[:,['uniformed_mean', 'person_mean']] # raw is ref\n",
    "y = df_sub.loc[:, 'female_mean']\n",
    "\n",
    "m = PanelOLS(dependent=y,\n",
    "            exog=X,\n",
    "            entity_effects=True,\n",
    "            time_effects=True,\n",
    "            drop_absorbed = True)\n",
    "\n",
    "# m = PanelOLS.from_formula('female_mean ~ log_best + Published + Submitted + person_mean + EntityEffects + TimeEffects', data=df_sub)\n",
    "\n",
    "m.fit(cov_type='clustered', cluster_time=True, cluster_entity=True)"
   ]
  },
  {
   "cell_type": "code",
   "execution_count": null,
   "metadata": {},
   "outputs": [],
   "source": [
    "X = df_sub.loc[:,['uniformed_mean','female_mean']] # raw is ref\n",
    "y = df_sub.loc[:, 'religiousGarmentFemale_mean']\n",
    "\n",
    "m = PanelOLS(dependent=y,\n",
    "            exog=X,\n",
    "            entity_effects=True,\n",
    "            time_effects=True,\n",
    "            drop_absorbed = True)\n",
    "\n",
    "# m = PanelOLS.from_formula('female_mean ~ log_best + Published + Submitted + person_mean + EntityEffects + TimeEffects', data=df_sub)\n",
    "\n",
    "m.fit(cov_type='clustered', cluster_time=True, cluster_entity=True)"
   ]
  },
  {
   "cell_type": "code",
   "execution_count": null,
   "metadata": {},
   "outputs": [],
   "source": [
    "X = df_sub.loc[:,['all_militarized', 'person_mean']] # raw is ref\n",
    "y = df_sub.loc[:, 'female_mean']\n",
    "\n",
    "m = PanelOLS(dependent=y,\n",
    "            exog=X,\n",
    "            entity_effects=True,\n",
    "            time_effects=True,\n",
    "            drop_absorbed = True)\n",
    "\n",
    "# m = PanelOLS.from_formula('female_mean ~ log_best + Published + Submitted + person_mean + EntityEffects + TimeEffects', data=df_sub)\n",
    "\n",
    "m.fit(cov_type='clustered', cluster_time=True, cluster_entity=True)"
   ]
  },
  {
   "cell_type": "code",
   "execution_count": null,
   "metadata": {},
   "outputs": [],
   "source": [
    "X = df_sub.loc[:,['all_militarized','female_mean']] # raw is ref\n",
    "y = df_sub.loc[:, 'religiousGarmentFemale_mean']\n",
    "\n",
    "m = PanelOLS(dependent=y,\n",
    "            exog=X,\n",
    "            entity_effects=True,\n",
    "            time_effects=True,\n",
    "            drop_absorbed = True)\n",
    "\n",
    "# m = PanelOLS.from_formula('female_mean ~ log_best + Published + Submitted + person_mean + EntityEffects + TimeEffects', data=df_sub)\n",
    "\n",
    "m.fit(cov_type='clustered', cluster_time=True, cluster_entity=True)"
   ]
  },
  {
   "cell_type": "code",
   "execution_count": null,
   "metadata": {},
   "outputs": [],
   "source": []
  },
  {
   "cell_type": "code",
   "execution_count": null,
   "metadata": {},
   "outputs": [],
   "source": []
  },
  {
   "cell_type": "code",
   "execution_count": null,
   "metadata": {},
   "outputs": [],
   "source": []
  },
  {
   "cell_type": "code",
   "execution_count": null,
   "metadata": {},
   "outputs": [],
   "source": []
  },
  {
   "cell_type": "code",
   "execution_count": null,
   "metadata": {},
   "outputs": [],
   "source": [
    "X = df_sub.loc[:,['log_best']] # raw is ref\n",
    "y = df_sub.loc[:, 'religiousGarmentFemale_mean']\n",
    "\n",
    "m = PanelOLS(dependent=y,\n",
    "            exog=X,\n",
    "            entity_effects=True,\n",
    "            time_effects=True,\n",
    "            drop_absorbed = True)\n",
    "\n",
    "# m = PanelOLS.from_formula('female_mean ~ log_best + Published + Submitted + person_mean + EntityEffects + TimeEffects', data=df_sub)\n",
    "\n",
    "m.fit(cov_type='clustered', cluster_time=True, cluster_entity=True)"
   ]
  },
  {
   "cell_type": "code",
   "execution_count": null,
   "metadata": {},
   "outputs": [],
   "source": [
    "X = df_sub.loc[:,['tce']] # raw is ref\n",
    "y = df_sub.loc[:, 'religiousGarmentFemale_mean']\n",
    "\n",
    "m = PanelOLS(dependent=y,\n",
    "            exog=X,\n",
    "            entity_effects=True,\n",
    "            time_effects=True,\n",
    "            drop_absorbed = True)\n",
    "\n",
    "# m = PanelOLS.from_formula('female_mean ~ log_best + Published + Submitted + person_mean + EntityEffects + TimeEffects', data=df_sub)\n",
    "\n",
    "m.fit(cov_type='clustered', cluster_time=True, cluster_entity=True)"
   ]
  },
  {
   "cell_type": "code",
   "execution_count": null,
   "metadata": {},
   "outputs": [],
   "source": [
    "X = df_sub.loc[:,['tsce']] # raw is ref\n",
    "y = df_sub.loc[:, 'religiousGarmentFemale_mean']\n",
    "\n",
    "m = PanelOLS(dependent=y,\n",
    "            exog=X,\n",
    "            entity_effects=True,\n",
    "            time_effects=True,\n",
    "            drop_absorbed = True)\n",
    "\n",
    "# m = PanelOLS.from_formula('female_mean ~ log_best + Published + Submitted + person_mean + EntityEffects + TimeEffects', data=df_sub)\n",
    "\n",
    "m.fit(cov_type='clustered', cluster_time=True, cluster_entity=True)"
   ]
  },
  {
   "cell_type": "code",
   "execution_count": null,
   "metadata": {},
   "outputs": [],
   "source": [
    "X = df_sub.loc[:,['tsce', 'female_mean']] # raw is ref\n",
    "y = df_sub.loc[:, 'religiousGarmentFemale_mean']\n",
    "\n",
    "m = PanelOLS(dependent=y,\n",
    "            exog=X,\n",
    "            entity_effects=True,\n",
    "            time_effects=True,\n",
    "            drop_absorbed = True)\n",
    "\n",
    "# m = PanelOLS.from_formula('female_mean ~ log_best + Published + Submitted + person_mean + EntityEffects + TimeEffects', data=df_sub)\n",
    "\n",
    "m.fit(cov_type='clustered', cluster_time=True, cluster_entity=True)"
   ]
  },
  {
   "cell_type": "code",
   "execution_count": null,
   "metadata": {},
   "outputs": [],
   "source": [
    "X = df_sub.loc[:,['tce', 'female_mean']] # raw is ref\n",
    "y = df_sub.loc[:, 'religiousGarmentFemale_mean']\n",
    "\n",
    "m = PanelOLS(dependent=y,\n",
    "            exog=X,\n",
    "            entity_effects=True,\n",
    "            time_effects=True,\n",
    "            drop_absorbed = True)\n",
    "\n",
    "# m = PanelOLS.from_formula('female_mean ~ log_best + Published + Submitted + person_mean + EntityEffects + TimeEffects', data=df_sub)\n",
    "\n",
    "m.fit(cov_type='clustered', cluster_time=True, cluster_entity=True)"
   ]
  },
  {
   "cell_type": "code",
   "execution_count": null,
   "metadata": {},
   "outputs": [],
   "source": [
    "X = df_sub.loc[:,['log_best', 'female_mean']] # raw is ref\n",
    "y = df_sub.loc[:, 'religiousGarmentFemale_mean']\n",
    "\n",
    "m = PanelOLS(dependent=y,\n",
    "            exog=X,\n",
    "            entity_effects=True,\n",
    "            time_effects=True,\n",
    "            drop_absorbed = True)\n",
    "\n",
    "# m = PanelOLS.from_formula('female_mean ~ log_best + Published + Submitted + person_mean + EntityEffects + TimeEffects', data=df_sub)\n",
    "\n",
    "m.fit(cov_type='clustered', cluster_time=True, cluster_entity=True)"
   ]
  },
  {
   "cell_type": "code",
   "execution_count": null,
   "metadata": {},
   "outputs": [],
   "source": [
    "X = df_sub.loc[:,['log_best', 'female_mean', 'person_mean']] # raw is ref\n",
    "y = df_sub.loc[:, 'religiousGarmentFemale_mean']\n",
    "\n",
    "m = PanelOLS(dependent=y,\n",
    "            exog=X,\n",
    "            entity_effects=True,\n",
    "            time_effects=True,\n",
    "            drop_absorbed = True)\n",
    "\n",
    "# m = PanelOLS.from_formula('female_mean ~ log_best + Published + Submitted + person_mean + EntityEffects + TimeEffects', data=df_sub)\n",
    "\n",
    "m.fit(cov_type='clustered', cluster_time=True, cluster_entity=True)"
   ]
  },
  {
   "cell_type": "code",
   "execution_count": null,
   "metadata": {},
   "outputs": [],
   "source": [
    "X = df_sub.loc[:,['tce', 'female_mean', 'person_mean']] # raw is ref\n",
    "y = df_sub.loc[:, 'religiousGarmentFemale_mean']\n",
    "\n",
    "m = PanelOLS(dependent=y,\n",
    "            exog=X,\n",
    "            entity_effects=True,\n",
    "            time_effects=True,\n",
    "            drop_absorbed = True)\n",
    "\n",
    "# m = PanelOLS.from_formula('female_mean ~ log_best + Published + Submitted + person_mean + EntityEffects + TimeEffects', data=df_sub)\n",
    "\n",
    "m.fit(cov_type='clustered', cluster_time=True, cluster_entity=True)"
   ]
  },
  {
   "cell_type": "code",
   "execution_count": null,
   "metadata": {},
   "outputs": [],
   "source": [
    "X = df_sub.loc[:,['tsce', 'female_mean', 'person_mean']] # raw is ref\n",
    "y = df_sub.loc[:, 'religiousGarmentFemale_mean']\n",
    "\n",
    "m = PanelOLS(dependent=y,\n",
    "            exog=X,\n",
    "            entity_effects=True,\n",
    "            time_effects=True,\n",
    "            drop_absorbed = True)\n",
    "\n",
    "# m = PanelOLS.from_formula('female_mean ~ log_best + Published + Submitted + person_mean + EntityEffects + TimeEffects', data=df_sub)\n",
    "\n",
    "m.fit(cov_type='clustered', cluster_time=True, cluster_entity=True)"
   ]
  },
  {
   "cell_type": "code",
   "execution_count": null,
   "metadata": {},
   "outputs": [],
   "source": []
  },
  {
   "cell_type": "code",
   "execution_count": null,
   "metadata": {},
   "outputs": [],
   "source": [
    "X = df_sub.loc[:,['female_mean', 'person_mean']] # raw is ref\n",
    "y = df_sub.loc[:, 'log_best']\n",
    "\n",
    "m = PanelOLS(dependent=y,\n",
    "            exog=X,\n",
    "            entity_effects=True,\n",
    "            time_effects=True,\n",
    "            drop_absorbed = True)\n",
    "\n",
    "# m = PanelOLS.from_formula('female_mean ~ log_best + Published + Submitted + person_mean + EntityEffects + TimeEffects', data=df_sub)\n",
    "\n",
    "m.fit(cov_type='clustered', cluster_time=True, cluster_entity=True)"
   ]
  },
  {
   "cell_type": "code",
   "execution_count": null,
   "metadata": {},
   "outputs": [],
   "source": []
  },
  {
   "cell_type": "code",
   "execution_count": null,
   "metadata": {},
   "outputs": [],
   "source": []
  },
  {
   "cell_type": "code",
   "execution_count": null,
   "metadata": {},
   "outputs": [],
   "source": [
    "X = df_sub.loc[:,['female_mean', 'person_mean']] # raw is ref\n",
    "y = df_sub.loc[:, 'log_best']\n",
    "\n",
    "m = PanelOLS(dependent=y,\n",
    "            exog=X,\n",
    "            entity_effects=True,\n",
    "            time_effects=True,\n",
    "            drop_absorbed = True)\n",
    "\n",
    "# m = PanelOLS.from_formula('female_mean ~ log_best + Published + Submitted + person_mean + EntityEffects + TimeEffects', data=df_sub)\n",
    "\n",
    "m.fit(cov_type='clustered', cluster_time=True, cluster_entity=True)"
   ]
  },
  {
   "cell_type": "code",
   "execution_count": null,
   "metadata": {},
   "outputs": [],
   "source": [
    "X = df_sub.loc[:,['female_mean', 'person_mean']] # raw is ref\n",
    "y = df_sub.loc[:, 'tce']\n",
    "\n",
    "m = PanelOLS(dependent=y,\n",
    "            exog=X,\n",
    "            entity_effects=True,\n",
    "            time_effects=True,\n",
    "            drop_absorbed = True)\n",
    "\n",
    "# m = PanelOLS.from_formula('female_mean ~ log_best + Published + Submitted + person_mean + EntityEffects + TimeEffects', data=df_sub)\n",
    "\n",
    "m.fit(cov_type='clustered', cluster_time=True, cluster_entity=True)"
   ]
  },
  {
   "cell_type": "code",
   "execution_count": null,
   "metadata": {},
   "outputs": [],
   "source": [
    "X = df_sub.loc[:,['female_mean', 'person_mean']] # raw is ref\n",
    "y = df_sub.loc[:, 'tsce']\n",
    "\n",
    "m = PanelOLS(dependent=y,\n",
    "            exog=X,\n",
    "            entity_effects=True,\n",
    "            time_effects=True,\n",
    "            drop_absorbed = True)\n",
    "\n",
    "# m = PanelOLS.from_formula('female_mean ~ log_best + Published + Submitted + person_mean + EntityEffects + TimeEffects', data=df_sub)\n",
    "\n",
    "m.fit(cov_type='clustered', cluster_time=True, cluster_entity=True)"
   ]
  },
  {
   "cell_type": "code",
   "execution_count": null,
   "metadata": {},
   "outputs": [],
   "source": []
  },
  {
   "cell_type": "code",
   "execution_count": null,
   "metadata": {},
   "outputs": [],
   "source": [
    "X = df_sub.loc[:,['falgIRQ_mean', 'flagUS_mean', 'uniformed_mean', 'militaryVehicle_mean']] # raw is ref\n",
    "y = df_sub.loc[:, 'female_mean']\n",
    "\n",
    "m = PanelOLS(dependent=y,\n",
    "            exog=X,\n",
    "            entity_effects=True,\n",
    "            time_effects=True,\n",
    "            drop_absorbed = True)\n",
    "\n",
    "# m = PanelOLS.from_formula('female_mean ~ log_best + Published + Submitted + person_mean + EntityEffects + TimeEffects', data=df_sub)\n",
    "\n",
    "m.fit(cov_type='clustered', cluster_time=True, cluster_entity=True)"
   ]
  },
  {
   "cell_type": "code",
   "execution_count": null,
   "metadata": {},
   "outputs": [],
   "source": [
    "X = df_sub.loc[:,['falgIRQ_mean', 'flagUS_mean', 'uniformed_mean', 'militaryVehicle_mean', 'female_mean']] # raw is ref\n",
    "y = df_sub.loc[:, 'religiousGarmentFemale_mean']\n",
    "\n",
    "m = PanelOLS(dependent=y,\n",
    "            exog=X,\n",
    "            entity_effects=True,\n",
    "            time_effects=True,\n",
    "            drop_absorbed = True)\n",
    "\n",
    "# m = PanelOLS.from_formula('female_mean ~ log_best + Published + Submitted + person_mean + EntityEffects + TimeEffects', data=df_sub)\n",
    "\n",
    "m.fit(cov_type='clustered', cluster_time=True, cluster_entity=True)"
   ]
  },
  {
   "cell_type": "code",
   "execution_count": null,
   "metadata": {},
   "outputs": [],
   "source": []
  },
  {
   "cell_type": "code",
   "execution_count": null,
   "metadata": {},
   "outputs": [],
   "source": [
    "X = df_sub.loc[:,['uniformed_mean', 'person_mean']] # raw is ref\n",
    "y = df_sub.loc[:, 'female_mean']\n",
    "\n",
    "m = PanelOLS(dependent=y,\n",
    "            exog=X,\n",
    "            entity_effects=True,\n",
    "            time_effects=True,\n",
    "            drop_absorbed = True)\n",
    "\n",
    "# m = PanelOLS.from_formula('female_mean ~ log_best + Published + Submitted + person_mean + EntityEffects + TimeEffects', data=df_sub)\n",
    "\n",
    "m.fit(cov_type='clustered', cluster_time=True, cluster_entity=True)"
   ]
  },
  {
   "cell_type": "code",
   "execution_count": null,
   "metadata": {},
   "outputs": [],
   "source": [
    "X = df_sub.loc[:,['uniformed_mean','female_mean']] # raw is ref\n",
    "y = df_sub.loc[:, 'religiousGarmentFemale_mean']\n",
    "\n",
    "m = PanelOLS(dependent=y,\n",
    "            exog=X,\n",
    "            entity_effects=True,\n",
    "            time_effects=True,\n",
    "            drop_absorbed = True)\n",
    "\n",
    "# m = PanelOLS.from_formula('female_mean ~ log_best + Published + Submitted + person_mean + EntityEffects + TimeEffects', data=df_sub)\n",
    "\n",
    "m.fit(cov_type='clustered', cluster_time=True, cluster_entity=True)"
   ]
  },
  {
   "cell_type": "code",
   "execution_count": null,
   "metadata": {},
   "outputs": [],
   "source": [
    "df_sub['best_uni'] = df_sub['log_best'] * df_sub['uniformed_mean']\n",
    "df_sub['tce_uni'] = df_sub['tce'] * df_sub['uniformed_mean']\n",
    "df_sub['tsce_uni'] = df_sub['tsce'] * df_sub['uniformed_mean']"
   ]
  },
  {
   "cell_type": "code",
   "execution_count": null,
   "metadata": {},
   "outputs": [],
   "source": [
    "X = df_sub.loc[:,['tsce_uni', 'uniformed_mean', 'person_mean']] # raw is ref\n",
    "y = df_sub.loc[:, 'female_mean']\n",
    "\n",
    "m = PanelOLS(dependent=y,\n",
    "            exog=X,\n",
    "            entity_effects=True,\n",
    "            time_effects=True,\n",
    "            drop_absorbed = True)\n",
    "\n",
    "m.fit(cov_type='clustered', cluster_time=True, cluster_entity=True)"
   ]
  },
  {
   "cell_type": "code",
   "execution_count": null,
   "metadata": {},
   "outputs": [],
   "source": [
    "X = df_sub.loc[:,['uniformed_mean', 'person_mean']] # raw is ref\n",
    "y = df_sub.loc[:, 'female_mean']\n",
    "\n",
    "m = PanelOLS(dependent=y,\n",
    "            exog=X,\n",
    "            entity_effects=True,\n",
    "            time_effects=True,\n",
    "            drop_absorbed = True)\n",
    "\n",
    "# m = PanelOLS.from_formula('female_mean ~ log_best + Published + Submitted + person_mean + EntityEffects + TimeEffects', data=df_sub)\n",
    "\n",
    "m.fit(cov_type='clustered', cluster_time=True, cluster_entity=True)"
   ]
  },
  {
   "cell_type": "code",
   "execution_count": null,
   "metadata": {},
   "outputs": [],
   "source": []
  },
  {
   "cell_type": "code",
   "execution_count": null,
   "metadata": {},
   "outputs": [],
   "source": []
  },
  {
   "cell_type": "code",
   "execution_count": null,
   "metadata": {},
   "outputs": [],
   "source": []
  },
  {
   "cell_type": "code",
   "execution_count": null,
   "metadata": {},
   "outputs": [],
   "source": []
  },
  {
   "cell_type": "code",
   "execution_count": null,
   "metadata": {},
   "outputs": [],
   "source": [
    "X = df_sub.loc[:,['falgIRQ_mean', 'flagUS_mean', 'uniformed_mean', 'firearm_mean', 'militaryVehicle_mean', 'person_mean']] # raw is ref\n",
    "y = df_sub.loc[:, 'female_mean']\n",
    "\n",
    "m = PanelOLS(dependent=y,\n",
    "            exog=X,\n",
    "            entity_effects=True,\n",
    "            time_effects=True,\n",
    "            drop_absorbed = True)\n",
    "\n",
    "# m = PanelOLS.from_formula('female_mean ~ log_best + Published + Submitted + person_mean + EntityEffects + TimeEffects', data=df_sub)\n",
    "\n",
    "m.fit(cov_type='clustered', cluster_time=True, cluster_entity=True)"
   ]
  },
  {
   "cell_type": "code",
   "execution_count": null,
   "metadata": {},
   "outputs": [],
   "source": [
    "X = df_sub.loc[:,['falgIRQ_mean', 'flagUS_mean', 'uniformed_mean', 'firearm_mean', 'militaryVehicle_mean','female_mean']] # raw is ref\n",
    "y = df_sub.loc[:, 'religiousGarmentFemale_mean']\n",
    "\n",
    "m = PanelOLS(dependent=y,\n",
    "            exog=X,\n",
    "            entity_effects=True,\n",
    "            time_effects=True,\n",
    "            drop_absorbed = True)\n",
    "\n",
    "# m = PanelOLS.from_formula('female_mean ~ log_best + Published + Submitted + person_mean + EntityEffects + TimeEffects', data=df_sub)\n",
    "\n",
    "m.fit(cov_type='clustered', cluster_time=True, cluster_entity=True)"
   ]
  },
  {
   "cell_type": "code",
   "execution_count": null,
   "metadata": {},
   "outputs": [],
   "source": []
  },
  {
   "cell_type": "code",
   "execution_count": null,
   "metadata": {},
   "outputs": [],
   "source": []
  },
  {
   "cell_type": "code",
   "execution_count": null,
   "metadata": {},
   "outputs": [],
   "source": []
  },
  {
   "cell_type": "code",
   "execution_count": null,
   "metadata": {},
   "outputs": [],
   "source": []
  },
  {
   "cell_type": "code",
   "execution_count": null,
   "metadata": {},
   "outputs": [],
   "source": []
  },
  {
   "cell_type": "code",
   "execution_count": null,
   "metadata": {},
   "outputs": [],
   "source": []
  },
  {
   "cell_type": "code",
   "execution_count": null,
   "metadata": {},
   "outputs": [],
   "source": [
    "X = df_sub.loc[:,['tsce']] # raw is ref\n",
    "y = df_sub.loc[:, 'uniformed_mean']\n",
    "\n",
    "m = PanelOLS(dependent=y,\n",
    "            exog=X,\n",
    "            entity_effects=True,\n",
    "            time_effects=True,\n",
    "            drop_absorbed = True)\n",
    "\n",
    "# m = PanelOLS.from_formula('female_mean ~ log_best + Published + Submitted + person_mean + EntityEffects + TimeEffects', data=df_sub)\n",
    "\n",
    "m.fit(cov_type='clustered', cluster_time=True, cluster_entity=True)"
   ]
  },
  {
   "cell_type": "code",
   "execution_count": null,
   "metadata": {},
   "outputs": [],
   "source": [
    "df_sub.columns"
   ]
  },
  {
   "cell_type": "code",
   "execution_count": null,
   "metadata": {},
   "outputs": [],
   "source": [
    "'person_mean','falgIRQ_mean', 'female_mean', 'religiousGarmentFemale_mean',\n",
    "       'uniformed_mean', 'firearm_mean', 'flagUS_mean', 'bloodedArea_mean',\n",
    "       'militaryVehicle_mean'"
   ]
  },
  {
   "cell_type": "code",
   "execution_count": null,
   "metadata": {},
   "outputs": [],
   "source": [
    "plt.matshow(df_sub[['falgIRQ_mean', 'flagUS_mean', 'uniformed_mean', 'firearm_mean', 'militaryVehicle_mean']].corr())\n",
    "plt.show()"
   ]
  },
  {
   "cell_type": "code",
   "execution_count": null,
   "metadata": {},
   "outputs": [],
   "source": []
  },
  {
   "cell_type": "code",
   "execution_count": null,
   "metadata": {},
   "outputs": [],
   "source": []
  },
  {
   "cell_type": "code",
   "execution_count": null,
   "metadata": {},
   "outputs": [],
   "source": []
  },
  {
   "cell_type": "code",
   "execution_count": null,
   "metadata": {},
   "outputs": [],
   "source": [
    "X = df_sub.loc[:,['falgIRQ_mean', 'flagUS_mean', 'uniformed_mean', 'firearm_mean', 'militaryVehicle_mean']] # raw is ref\n",
    "y = df_sub.loc[:, 'log_best']\n",
    "\n",
    "m = PanelOLS(dependent=y,\n",
    "            exog=X,\n",
    "            entity_effects=True,\n",
    "            time_effects=True,\n",
    "            drop_absorbed = True)\n",
    "\n",
    "# m = PanelOLS.from_formula('female_mean ~ log_best + Published + Submitted + person_mean + EntityEffects + TimeEffects', data=df_sub)\n",
    "\n",
    "m.fit(cov_type='clustered', cluster_time=True, cluster_entity=True)"
   ]
  },
  {
   "cell_type": "code",
   "execution_count": null,
   "metadata": {},
   "outputs": [],
   "source": [
    "df_sub[df_sub['Raw'] == 1].shape"
   ]
  },
  {
   "cell_type": "code",
   "execution_count": null,
   "metadata": {},
   "outputs": [],
   "source": [
    "df_sub[df_sub['Submitted'] == 1].shape"
   ]
  },
  {
   "cell_type": "code",
   "execution_count": null,
   "metadata": {},
   "outputs": [],
   "source": [
    "X = df_sub.loc[:,['Submitted', 'person_mean']] # raw is ref\n",
    "y = df_sub.loc[:, 'female_mean']\n",
    "\n",
    "m = PanelOLS(dependent=y,\n",
    "            exog=X,\n",
    "            entity_effects=True,\n",
    "            time_effects=True,\n",
    "            drop_absorbed = True)\n",
    "\n",
    "# m = PanelOLS.from_formula('female_mean ~ log_best + Published + Submitted + person_mean + EntityEffects + TimeEffects', data=df_sub)\n",
    "\n",
    "m.fit(cov_type='clustered', cluster_time=True, cluster_entity=True)"
   ]
  },
  {
   "cell_type": "code",
   "execution_count": null,
   "metadata": {},
   "outputs": [],
   "source": [
    "X = df_sub.loc[:,['Raw']] # raw is ref\n",
    "y = df_sub.loc[:, 'religiousGarmentFemale_mean']\n",
    "\n",
    "m = PanelOLS(dependent=y,\n",
    "            exog=X,\n",
    "            entity_effects=True,\n",
    "            time_effects=True,\n",
    "            drop_absorbed = True)\n",
    "\n",
    "# m = PanelOLS.from_formula('female_mean ~ log_best + Published + Submitted + person_mean + EntityEffects + TimeEffects', data=df_sub)\n",
    "\n",
    "m.fit(cov_type='clustered', cluster_time=True, cluster_entity=True)"
   ]
  },
  {
   "cell_type": "code",
   "execution_count": null,
   "metadata": {},
   "outputs": [],
   "source": []
  },
  {
   "cell_type": "code",
   "execution_count": null,
   "metadata": {},
   "outputs": [],
   "source": []
  },
  {
   "cell_type": "code",
   "execution_count": null,
   "metadata": {},
   "outputs": [],
   "source": [
    "df_sub"
   ]
  },
  {
   "cell_type": "code",
   "execution_count": null,
   "metadata": {},
   "outputs": [],
   "source": []
  },
  {
   "cell_type": "code",
   "execution_count": null,
   "metadata": {},
   "outputs": [],
   "source": []
  },
  {
   "cell_type": "code",
   "execution_count": null,
   "metadata": {},
   "outputs": [],
   "source": []
  },
  {
   "cell_type": "code",
   "execution_count": null,
   "metadata": {},
   "outputs": [],
   "source": []
  },
  {
   "cell_type": "code",
   "execution_count": null,
   "metadata": {},
   "outputs": [],
   "source": []
  },
  {
   "cell_type": "code",
   "execution_count": null,
   "metadata": {},
   "outputs": [],
   "source": []
  },
  {
   "cell_type": "code",
   "execution_count": null,
   "metadata": {},
   "outputs": [],
   "source": []
  },
  {
   "cell_type": "code",
   "execution_count": null,
   "metadata": {},
   "outputs": [],
   "source": [
    "bodies_df_exposure['gid'].unique().shape[0] "
   ]
  },
  {
   "cell_type": "code",
   "execution_count": null,
   "metadata": {},
   "outputs": [],
   "source": [
    "bodies_df_exposure['gid'].unique().shape[0] * bodies_df_exposure['month_id'].unique().shape[0]"
   ]
  },
  {
   "cell_type": "code",
   "execution_count": null,
   "metadata": {},
   "outputs": [],
   "source": [
    "bodies_df_exposure['month_id'].unique()"
   ]
  },
  {
   "cell_type": "markdown",
   "metadata": {},
   "source": [
    "# Old ish"
   ]
  },
  {
   "cell_type": "markdown",
   "metadata": {},
   "source": [
    "# NOTES:\n",
    "\n",
    "\n",
    "RQ:\n",
    "- To what extent does the distribution of content in the images, differs across publication status.\n",
    " \n",
    "- To What extent does the distribution of content in the images corrolate with the magnitude/exposure of conflict \n"
   ]
  },
  {
   "cell_type": "code",
   "execution_count": null,
   "metadata": {},
   "outputs": [],
   "source": [
    "# pre\n",
    "\n",
    "list_of_features_mean = [feature for feature in bodies_df_exposure.columns if 'mean' in feature] \n",
    "\n",
    "df_sub = bodies_df_exposure[list_of_features_mean + ['log_best', 'tce', 'tsce', 'publication', 'month_id', 'gid']].copy()\n",
    "df_sub = df_sub[df_sub['person_mean'] != 0] # no people, no entry\n",
    "df_sub[['Published', 'Raw', 'Submitted']] = pd.get_dummies(df_sub[['publication']])\n",
    "df_sub.drop(columns= 'publication', inplace= True)\n",
    "df_sub.dropna(inplace= True)\n",
    "df_sub.set_index(['gid', 'month_id'], inplace = True)\n",
    "df_sub['intPubBest'] = df_sub['Published'] * df_sub['log_best']\n",
    "df_sub['intPubTce'] = df_sub['Published'] * df_sub['tce']\n",
    "df_sub['intPubTsce'] = df_sub['Published'] * df_sub['tsce']\n",
    "\n",
    "\n",
    "# also drop all with no persons in them"
   ]
  },
  {
   "cell_type": "markdown",
   "metadata": {},
   "source": [
    "# gender\n",
    "## Contiues dependents:\n",
    "\n",
    "$$\n",
    "female_{it} = \\alpha_{i} + \\gamma_{t} + \\beta_{1} logConflict_{it} + \\beta_{2} published_{it} + \\beta_{3} submitted_{it} + \\beta_{4} persons_{it} + \\epsilon_{it}   \n",
    "$$\n",
    "\n",
    "Interestingly, the results holds is we have male mean as dependent. I.e. then Published is significantly negativly corrolated with published \n"
   ]
  },
  {
   "cell_type": "code",
   "execution_count": null,
   "metadata": {},
   "outputs": [],
   "source": [
    "X = df_sub.loc[:,['log_best', 'Published', 'Submitted', 'person_mean']] # raw is ref\n",
    "y = df_sub.loc[:, 'female_mean']\n",
    "\n",
    "m = PanelOLS(dependent=y,\n",
    "            exog=X,\n",
    "            entity_effects=True,\n",
    "            time_effects=True,\n",
    "            drop_absorbed = True)\n",
    "\n",
    "# m = PanelOLS.from_formula('female_mean ~ log_best + Published + Submitted + person_mean + EntityEffects + TimeEffects', data=df_sub)\n",
    "\n",
    "m.fit(cov_type='clustered', cluster_time=True, cluster_entity=True)"
   ]
  },
  {
   "cell_type": "markdown",
   "metadata": {},
   "source": [
    "$$\n",
    "male_{it} = \\alpha_{i} + \\gamma_{t} + \\beta_{1} tce_{it} + \\beta_{2} published_{it} + \\beta_{3} submitted_{it} + \\beta_{4} persons_{it} + \\epsilon_{it}   \n",
    "$$\n"
   ]
  },
  {
   "cell_type": "code",
   "execution_count": null,
   "metadata": {},
   "outputs": [],
   "source": [
    "X = df_sub.loc[:,['log_best', 'Published', 'Submitted', 'person_mean']] # raw is ref\n",
    "y = df_sub.loc[:, 'male_mean']\n",
    "\n",
    "m = PanelOLS(dependent=y,\n",
    "            exog=X,\n",
    "            entity_effects=True,\n",
    "            time_effects=True,\n",
    "            drop_absorbed = True)\n",
    "\n",
    "# m = PanelOLS.from_formula('female_mean ~ log_best + Published + Submitted + person_mean + EntityEffects + TimeEffects', data=df_sub)\n",
    "\n",
    "m.fit(cov_type='clustered', cluster_time=True, cluster_entity=True)"
   ]
  },
  {
   "cell_type": "markdown",
   "metadata": {},
   "source": [
    "\n",
    "$$\n",
    "female_{it} = \\alpha_{i} + \\gamma_{t} + \\beta_{1} tce_{it} + \\beta_{2} published_{it} + \\beta_{3} submitted_{it} + \\beta_{4} persons_{it} + \\epsilon_{it}   \n",
    "$$\n"
   ]
  },
  {
   "cell_type": "code",
   "execution_count": null,
   "metadata": {},
   "outputs": [],
   "source": [
    "X = df_sub.loc[:,['tce', 'Published', 'Submitted', 'person_mean']] # raw is ref\n",
    "y = df_sub.loc[:, 'female_mean']\n",
    "\n",
    "m = PanelOLS(dependent=y,\n",
    "            exog=X,\n",
    "            entity_effects=True,\n",
    "            time_effects=True,\n",
    "            drop_absorbed = True)\n",
    "\n",
    "# m = PanelOLS.from_formula('female_mean ~ log_best + Published + Submitted + person_mean + EntityEffects + TimeEffects', data=df_sub)\n",
    "\n",
    "m.fit(cov_type='clustered', cluster_time=True, cluster_entity=True)"
   ]
  },
  {
   "cell_type": "code",
   "execution_count": null,
   "metadata": {},
   "outputs": [],
   "source": [
    "X = df_sub.loc[:,['tce', 'Published', 'Submitted', 'person_mean']] # raw is ref\n",
    "y = df_sub.loc[:, 'male_mean']\n",
    "\n",
    "m = PanelOLS(dependent=y,\n",
    "            exog=X,\n",
    "            entity_effects=True,\n",
    "            time_effects=True,\n",
    "            drop_absorbed = True)\n",
    "\n",
    "# m = PanelOLS.from_formula('female_mean ~ log_best + Published + Submitted + person_mean + EntityEffects + TimeEffects', data=df_sub)\n",
    "\n",
    "m.fit(cov_type='clustered', cluster_time=True, cluster_entity=True)"
   ]
  },
  {
   "cell_type": "markdown",
   "metadata": {},
   "source": [
    "\n",
    "$$\n",
    "female_{it} = \\alpha_{i} + \\gamma_{t} + \\beta_{1} tsce_{it} + \\beta_{2} published_{it} + \\beta_{3} submitted_{it} + \\beta_{4} persons_{it} + \\epsilon_{it}   \n",
    "$$\n"
   ]
  },
  {
   "cell_type": "code",
   "execution_count": null,
   "metadata": {},
   "outputs": [],
   "source": [
    "X = df_sub.loc[:,['tsce', 'Published', 'Submitted', 'person_mean']] # raw is ref\n",
    "y = df_sub.loc[:, 'female_mean']\n",
    "\n",
    "m = PanelOLS(dependent=y,\n",
    "            exog=X,\n",
    "            entity_effects=True,\n",
    "            time_effects=True,\n",
    "            drop_absorbed = True)\n",
    "\n",
    "# m = PanelOLS.from_formula('female_mean ~ log_best + Published + Submitted + person_mean + EntityEffects + TimeEffects', data=df_sub)\n",
    "\n",
    "m.fit(cov_type='clustered', cluster_time=True, cluster_entity=True)"
   ]
  },
  {
   "cell_type": "markdown",
   "metadata": {},
   "source": [
    "\n",
    "$$\n",
    "female_{it} = \\alpha_{i} + \\gamma_{t} + \\beta_{1} tsce_{it} + \\beta_{2} published_{it} + \\beta_{3} submitted_{it} + \\beta_{4} persons_{it} + \\epsilon_{it}   \n",
    "$$\n"
   ]
  },
  {
   "cell_type": "code",
   "execution_count": null,
   "metadata": {},
   "outputs": [],
   "source": [
    "X = df_sub.loc[:,['tsce', 'Published', 'Submitted', 'person_mean']] # raw is ref\n",
    "y = df_sub.loc[:, 'male_mean']\n",
    "\n",
    "m = PanelOLS(dependent=y,\n",
    "            exog=X,\n",
    "            entity_effects=True,\n",
    "            time_effects=True,\n",
    "            drop_absorbed = True)\n",
    "\n",
    "# m = PanelOLS.from_formula('female_mean ~ log_best + Published + Submitted + person_mean + EntityEffects + TimeEffects', data=df_sub)\n",
    "\n",
    "m.fit(cov_type='clustered', cluster_time=True, cluster_entity=True)"
   ]
  },
  {
   "cell_type": "markdown",
   "metadata": {},
   "source": [
    "$$\n",
    "religiousGarments_{it} =  \\alpha_{i} + \\gamma_{t} + \\beta_{1} logConflict_{it} + \\beta_{2} published_{it} + \\beta_{3} submitted_{it} + \\beta_{4} persons_{it} + \\beta_{5} female_{it} + \\epsilon_{it}  \n",
    "$$"
   ]
  },
  {
   "cell_type": "code",
   "execution_count": null,
   "metadata": {},
   "outputs": [],
   "source": [
    "X = df_sub.loc[:,['female_mean', 'log_best', 'Published', 'Submitted']] # raw is ref\n",
    "y = df_sub.loc[:, 'religiousGarmentFemale_mean']\n",
    "\n",
    "m = PanelOLS(dependent=y,\n",
    "            exog=X,\n",
    "            entity_effects=True,\n",
    "            time_effects=True,\n",
    "            drop_absorbed=True)\n",
    "\n",
    "m.fit(cov_type='clustered', cluster_time=True, cluster_entity=True)"
   ]
  },
  {
   "cell_type": "markdown",
   "metadata": {},
   "source": [
    "$$\n",
    "religiousGarments_{it} =  \\alpha_{i} + \\gamma_{t} + \\beta_{1} tce_{it} + \\beta_{2} published_{it} + \\beta_{3} submitted_{it} + \\beta_{4} persons_{it} + \\beta_{5} female_{it} + \\epsilon_{it}  \n",
    "$$"
   ]
  },
  {
   "cell_type": "code",
   "execution_count": null,
   "metadata": {},
   "outputs": [],
   "source": [
    "X = df_sub.loc[:,['female_mean', 'tce', 'Published', 'Submitted']] # raw is ref\n",
    "y = df_sub.loc[:, 'religiousGarmentFemale_mean']\n",
    "\n",
    "m = PanelOLS(dependent=y,\n",
    "            exog=X,\n",
    "            entity_effects=True,\n",
    "            time_effects=True,\n",
    "            drop_absorbed=True)\n",
    "\n",
    "m.fit(cov_type='clustered', cluster_time=True, cluster_entity=True)"
   ]
  },
  {
   "cell_type": "markdown",
   "metadata": {},
   "source": [
    "$$\n",
    "religiousGarments_{it} =  \\alpha_{i} + \\gamma_{t} + \\beta_{1} tsce_{it} + \\beta_{2} published_{it} + \\beta_{3} submitted_{it} + \\beta_{4} persons_{it} + \\beta_{5} female_{it} + \\epsilon_{it}  \n",
    "$$"
   ]
  },
  {
   "cell_type": "markdown",
   "metadata": {},
   "source": [
    "# with interactions"
   ]
  },
  {
   "cell_type": "code",
   "execution_count": null,
   "metadata": {},
   "outputs": [],
   "source": [
    "X = df_sub.loc[:,['log_best', 'intPubBest', 'Published', 'Submitted', 'person_mean']] # raw is ref\n",
    "y = df_sub.loc[:, 'female_mean']\n",
    "\n",
    "m = PanelOLS(dependent=y,\n",
    "            exog=X,\n",
    "            entity_effects=True,\n",
    "            time_effects=True,\n",
    "            drop_absorbed = True)\n",
    "\n",
    "# m = PanelOLS.from_formula('female_mean ~ log_best + Published + Submitted + person_mean + EntityEffects + TimeEffects', data=df_sub)\n",
    "\n",
    "m.fit(cov_type='clustered', cluster_time=True, cluster_entity=True)"
   ]
  },
  {
   "cell_type": "code",
   "execution_count": null,
   "metadata": {},
   "outputs": [],
   "source": [
    "X = df_sub.loc[:,['tce', 'intPubTce', 'Published', 'Submitted', 'person_mean']] # raw is ref\n",
    "y = df_sub.loc[:, 'female_mean']\n",
    "\n",
    "m = PanelOLS(dependent=y,\n",
    "            exog=X,\n",
    "            entity_effects=True,\n",
    "            time_effects=True,\n",
    "            drop_absorbed = True)\n",
    "\n",
    "# m = PanelOLS.from_formula('female_mean ~ log_best + Published + Submitted + person_mean + EntityEffects + TimeEffects', data=df_sub)\n",
    "\n",
    "m.fit(cov_type='clustered', cluster_time=True, cluster_entity=True)"
   ]
  },
  {
   "cell_type": "code",
   "execution_count": null,
   "metadata": {},
   "outputs": [],
   "source": [
    "X = df_sub.loc[:,['tsce', 'intPubTsce', 'Published', 'Submitted', 'person_mean']] # raw is ref\n",
    "y = df_sub.loc[:, 'female_mean']\n",
    "\n",
    "m = PanelOLS(dependent=y,\n",
    "            exog=X,\n",
    "            entity_effects=True,\n",
    "            time_effects=True,\n",
    "            drop_absorbed = True)\n",
    "\n",
    "# m = PanelOLS.from_formula('female_mean ~ log_best + Published + Submitted + person_mean + EntityEffects + TimeEffects', data=df_sub)\n",
    "\n",
    "m.fit(cov_type='clustered', cluster_time=True, cluster_entity=True)"
   ]
  },
  {
   "cell_type": "code",
   "execution_count": null,
   "metadata": {},
   "outputs": [],
   "source": [
    "X = df_sub.loc[:,['female_mean', 'log_best', 'intPubBest', 'Published', 'Submitted']] # raw is ref\n",
    "y = df_sub.loc[:, 'religiousGarmentFemale_mean']\n",
    "\n",
    "m = PanelOLS(dependent=y,\n",
    "            exog=X,\n",
    "            entity_effects=True,\n",
    "            time_effects=True,\n",
    "            drop_absorbed=True)\n",
    "\n",
    "m.fit(cov_type='clustered', cluster_time=True, cluster_entity=True)"
   ]
  },
  {
   "cell_type": "code",
   "execution_count": null,
   "metadata": {},
   "outputs": [],
   "source": [
    "X = df_sub.loc[:,['female_mean', 'tce', 'intPubTce', 'Published', 'Submitted']] # raw is ref\n",
    "y = df_sub.loc[:, 'religiousGarmentFemale_mean']\n",
    "\n",
    "m = PanelOLS(dependent=y,\n",
    "            exog=X,\n",
    "            entity_effects=True,\n",
    "            time_effects=True,\n",
    "            drop_absorbed=True)\n",
    "\n",
    "m.fit(cov_type='clustered', cluster_time=True, cluster_entity=True)"
   ]
  },
  {
   "cell_type": "code",
   "execution_count": null,
   "metadata": {},
   "outputs": [],
   "source": [
    "X = df_sub.loc[:,['female_mean', 'tsce', 'intPubTsce', 'Published', 'Submitted']] # raw is ref\n",
    "y = df_sub.loc[:, 'religiousGarmentFemale_mean']\n",
    "\n",
    "m = PanelOLS(dependent=y,\n",
    "            exog=X,\n",
    "            entity_effects=True,\n",
    "            time_effects=True,\n",
    "            drop_absorbed=True)\n",
    "\n",
    "m.fit(cov_type='clustered', cluster_time=True, cluster_entity=True)"
   ]
  },
  {
   "cell_type": "markdown",
   "metadata": {},
   "source": [
    "### Binary dependent (linar probability model)\n",
    "\n",
    "$$\n",
    "binaryFemale_{it} = \\alpha_{i} + \\gamma_{t} + \\beta_{1} logConflict_{it} + \\beta_{2} published_{it} + \\beta_{3} submitted_{it} + \\beta_{4} persons_{it} + \\epsilon_{it}   \n",
    "$$\n",
    "\n",
    "$$\n",
    "binaryFeligiousGarments_{it} =  \\gamma_{i} + \\alpha_{t} + \\beta_{1} logConflict_{it} + \\beta_{2} published_{it} + \\beta_{3} submitted_{it} + \\beta_{4} persons_{it} + \\beta_{5} female_{it} + \\epsilon_{it}  \n",
    "$$"
   ]
  },
  {
   "cell_type": "code",
   "execution_count": null,
   "metadata": {},
   "outputs": [],
   "source": [
    "X = df_sub.loc[:,['log_best', 'person_mean', 'Published', 'Submitted']] # raw is ref\n",
    "y = (df_sub.loc[:, 'female_mean'] > 0).astype(int)\n",
    "\n",
    "\n",
    "m = PanelOLS(dependent=y,\n",
    "            exog=X,\n",
    "            entity_effects=True,\n",
    "            time_effects=True)\n",
    "\n",
    "m.fit(cov_type='clustered', cluster_time=True, cluster_entity=True)"
   ]
  },
  {
   "cell_type": "code",
   "execution_count": null,
   "metadata": {},
   "outputs": [],
   "source": [
    "X = df_sub.loc[:,['female_mean', 'person_mean', 'log_best', 'Published', 'Submitted']] # raw is ref\n",
    "y = (df_sub.loc[:, 'religiousGarmentFemale_mean'] > 0).astype(int)\n",
    "\n",
    "m = PanelOLS(dependent=y,\n",
    "            exog=X,\n",
    "            entity_effects=True,\n",
    "            time_effects=True)\n",
    "\n",
    "m.fit(cov_type='clustered', cluster_time=True, cluster_entity=True)"
   ]
  },
  {
   "cell_type": "markdown",
   "metadata": {},
   "source": [
    "## Logged dependent\n",
    "\n",
    "$$\n",
    "logFemale_{it} = \\alpha_{i} + \\gamma_{t} + \\beta_{1} logConflict_{it} + \\beta_{2} published_{it} + \\beta_{3} submitted_{it} + \\beta_{4} persons_{it} + \\epsilon_{it}   \n",
    "$$\n",
    "\n",
    "$$\n",
    "logFeligiousGarments_{it} =  \\alpha_{i} + \\gamma_{t} + \\beta_{1} logConflict_{it} + \\beta_{2} published_{it} + \\beta_{3} submitted_{it} + \\beta_{4} persons_{it} + \\beta_{5} female_{it} + \\epsilon_{it}  \n",
    "$$"
   ]
  },
  {
   "cell_type": "code",
   "execution_count": null,
   "metadata": {},
   "outputs": [],
   "source": [
    "X = df_sub.loc[:,['log_best', 'person_mean', 'Published', 'Submitted']] # raw is ref\n",
    "y = np.log(df_sub.loc[:, 'female_mean']+1)\n",
    "\n",
    "\n",
    "m = PanelOLS(dependent=y,\n",
    "            exog=X,\n",
    "            entity_effects=True,\n",
    "            time_effects=True)\n",
    "\n",
    "m.fit(cov_type='clustered', cluster_time=True, cluster_entity=True)"
   ]
  },
  {
   "cell_type": "code",
   "execution_count": null,
   "metadata": {},
   "outputs": [],
   "source": [
    "X = df_sub.loc[:,['female_mean', 'person_mean', 'log_best', 'Published', 'Submitted']] # raw is ref\n",
    "y = np.log(df_sub.loc[:, 'religiousGarmentFemale_mean'] + 1)\n",
    "\n",
    "m = PanelOLS(dependent=y,\n",
    "            exog=X,\n",
    "            entity_effects=True,\n",
    "            time_effects=True)\n",
    "\n",
    "m.fit(cov_type='clustered', cluster_time=True, cluster_entity=True)"
   ]
  },
  {
   "cell_type": "markdown",
   "metadata": {},
   "source": [
    "## ratio dependent\n",
    "\n",
    "$$\n",
    "ratioFemalePerson_{it} = \\alpha_{i} + \\gamma_{t} + \\beta_{1} logConflict_{it} + \\beta_{2} published_{it} + \\beta_{3} submitted_{it} + \\beta_{4} persons_{it} + \\epsilon_{it}   \n",
    "$$\n",
    "\n",
    "$$\n",
    "ratioFemaleReligiousGarments_{it} =  \\alpha_{i} + \\gamma_{t} + \\beta_{1} logConflict_{it} + \\beta_{2} published_{it} + \\beta_{3} submitted_{it} + \\beta_{4} persons_{it} + \\beta_{5} + female_{it} \\epsilon_{it}  \n",
    "$$"
   ]
  },
  {
   "cell_type": "code",
   "execution_count": null,
   "metadata": {},
   "outputs": [],
   "source": [
    "X = df_sub.loc[:,['log_best', 'person_mean', 'Published', 'Submitted']] # raw is ref\n",
    "y = df_sub.loc[:, 'female_mean']/df_sub.loc[:, 'person_mean']\n",
    "\n",
    "\n",
    "m = PanelOLS(dependent=y,\n",
    "            exog=X,\n",
    "            entity_effects=True,\n",
    "            time_effects=True)\n",
    "\n",
    "m.fit(cov_type='clustered', cluster_time=True, cluster_entity=True)"
   ]
  },
  {
   "cell_type": "code",
   "execution_count": null,
   "metadata": {},
   "outputs": [],
   "source": [
    "df_sub_fem = df_sub[df_sub['female_mean']>0].copy()\n",
    "\n",
    "X = df_sub_fem.loc[:,['female_mean', 'person_mean', 'log_best', 'Published', 'Submitted']] # raw is ref\n",
    "y = df_sub_fem.loc[:, 'religiousGarmentFemale_mean']/df_sub_fem.loc[:, 'female_mean']\n",
    "\n",
    "m = PanelOLS(dependent=y,\n",
    "            exog=X,\n",
    "            entity_effects=True,\n",
    "            time_effects=True)\n",
    "\n",
    "m.fit(cov_type='clustered', cluster_time=True, cluster_entity=True)"
   ]
  },
  {
   "cell_type": "markdown",
   "metadata": {},
   "source": [
    "Conflict\n",
    "..."
   ]
  },
  {
   "cell_type": "code",
   "execution_count": null,
   "metadata": {},
   "outputs": [],
   "source": [
    "X = df_sub.loc[:, list_of_features_mean] # raw is ref\n",
    "y = df_sub.loc[:, 'log_best']\n",
    "\n",
    "m = PanelOLS(dependent=y,\n",
    "            exog=X,\n",
    "            entity_effects=True,\n",
    "            time_effects=True)\n",
    "\n",
    "m.fit(cov_type='clustered', cluster_time=True, cluster_entity=True)"
   ]
  },
  {
   "cell_type": "code",
   "execution_count": null,
   "metadata": {},
   "outputs": [],
   "source": [
    "X = df_sub.loc[:, list_of_features_mean] # raw is ref\n",
    "y = df_sub.loc[:, 'tce']\n",
    "\n",
    "m = PanelOLS(dependent=y,\n",
    "            exog=X,\n",
    "            entity_effects=True,\n",
    "            time_effects=True)\n",
    "\n",
    "m.fit(cov_type='clustered', cluster_time=True, cluster_entity=True)"
   ]
  },
  {
   "cell_type": "code",
   "execution_count": null,
   "metadata": {},
   "outputs": [],
   "source": [
    "\n",
    "X = df_sub.loc[:, list_of_features_mean + ['Published', 'Submitted']] # raw is ref\n",
    "y = df_sub.loc[:, 'tsce']\n",
    "\n",
    "m = PanelOLS(dependent=y,\n",
    "            exog=X,\n",
    "            entity_effects=True,\n",
    "            time_effects=True)\n",
    "\n",
    "m.fit(cov_type='clustered', cluster_time=True, cluster_entity=True)"
   ]
  },
  {
   "cell_type": "code",
   "execution_count": null,
   "metadata": {},
   "outputs": [],
   "source": [
    "\n",
    "X = df_sub.loc[:, ['religiousGarmentFemale_mean']] # raw is ref\n",
    "y = df_sub.loc[:, 'tsce']\n",
    "\n",
    "m = PanelOLS(dependent=y,\n",
    "            exog=X,\n",
    "            entity_effects=True,\n",
    "            time_effects=True)\n",
    "\n",
    "m.fit(cov_type='clustered', cluster_time=True, cluster_entity=True)"
   ]
  },
  {
   "cell_type": "code",
   "execution_count": null,
   "metadata": {},
   "outputs": [],
   "source": [
    "\n",
    "df_sub['intTsceFemale'] = df_sub.loc[:,'tsce']  * df_sub.loc[:,'female_mean'] \n",
    "\n",
    "\n",
    "X = df_sub.loc[:, ['tsce', 'female_mean', 'intTsceFemale']] # raw is ref\n",
    "y = df_sub.loc[:, 'religiousGarmentFemale_mean']\n",
    "\n",
    "m = PanelOLS(dependent=y,\n",
    "            exog=X,\n",
    "            entity_effects=True,\n",
    "            time_effects=True)\n",
    "\n",
    "m.fit(cov_type='clustered', cluster_time=True, cluster_entity=True)"
   ]
  },
  {
   "cell_type": "code",
   "execution_count": null,
   "metadata": {},
   "outputs": [],
   "source": [
    "df_sub_fem = df_sub[df_sub['female_mean']>0].copy()\n",
    "\n",
    "df_sub_fem['intTsceFemale'] = df_sub_fem.loc[:,'tsce']  * df_sub_fem.loc[:,'female_mean'] \n",
    "\n",
    "X = df_sub_fem.loc[:,['female_mean', 'tsce', 'intTsceFemale']] # raw is ref\n",
    "y = df_sub_fem.loc[:, 'religiousGarmentFemale_mean']\n",
    "\n",
    "m = PanelOLS(dependent=y,\n",
    "            exog=X,\n",
    "            entity_effects=True,\n",
    "            time_effects=True)\n",
    "\n",
    "m.fit(cov_type='clustered', cluster_time=True, cluster_entity=True)"
   ]
  },
  {
   "cell_type": "code",
   "execution_count": null,
   "metadata": {},
   "outputs": [],
   "source": [
    "X = df_sub.loc[:, ['tsce', 'person_mean', 'Published', 'Submitted']] # raw is ref\n",
    "y = df_sub.loc[:, 'male_mean']\n",
    "\n",
    "m = PanelOLS(dependent=y,\n",
    "            exog=X,\n",
    "            entity_effects=True,\n",
    "            time_effects=True)\n",
    "\n",
    "m.fit(cov_type='clustered', cluster_time=True, cluster_entity=True)"
   ]
  },
  {
   "cell_type": "code",
   "execution_count": null,
   "metadata": {},
   "outputs": [],
   "source": [
    "X = df_sub.loc[:, ['tsce', 'Published', 'Submitted']] # raw is ref\n",
    "y = df_sub.loc[:, 'person_mean']\n",
    "\n",
    "m = PanelOLS(dependent=y,\n",
    "            exog=X,\n",
    "            entity_effects=True,\n",
    "            time_effects=True)\n",
    "\n",
    "m.fit(cov_type='clustered', cluster_time=True, cluster_entity=True)"
   ]
  },
  {
   "cell_type": "code",
   "execution_count": null,
   "metadata": {},
   "outputs": [],
   "source": [
    "X = df_sub.loc[:, ['tsce', 'person_mean', 'Published', 'Submitted']] # raw is ref\n",
    "y = df_sub.loc[:, 'militaryVehicle_mean']\n",
    "\n",
    "m = PanelOLS(dependent=y,\n",
    "            exog=X,\n",
    "            entity_effects=True,\n",
    "            time_effects=True)\n",
    "\n",
    "m.fit(cov_type='clustered', cluster_time=True, cluster_entity=True)"
   ]
  },
  {
   "cell_type": "code",
   "execution_count": null,
   "metadata": {},
   "outputs": [],
   "source": [
    "list_of_features_mean"
   ]
  },
  {
   "cell_type": "code",
   "execution_count": null,
   "metadata": {},
   "outputs": [],
   "source": [
    "X = df_sub.loc[:, ['female_mean', 'religiousGarmentFemale_mean', 'person_mean', 'male_mean']] # raw is ref\n",
    "y = df_sub.loc[:, 'Published']\n",
    "\n",
    "m = PanelOLS(dependent=y,\n",
    "            exog=X,\n",
    "            entity_effects=True,\n",
    "            time_effects=True)\n",
    "\n",
    "m.fit(cov_type='clustered', cluster_time=True, cluster_entity=True)"
   ]
  },
  {
   "cell_type": "markdown",
   "metadata": {},
   "source": [
    "# old"
   ]
  },
  {
   "cell_type": "code",
   "execution_count": null,
   "metadata": {},
   "outputs": [],
   "source": []
  },
  {
   "cell_type": "code",
   "execution_count": null,
   "metadata": {},
   "outputs": [],
   "source": []
  },
  {
   "cell_type": "code",
   "execution_count": null,
   "metadata": {},
   "outputs": [],
   "source": []
  },
  {
   "cell_type": "code",
   "execution_count": null,
   "metadata": {},
   "outputs": [],
   "source": [
    "\n",
    "fitted_dict = dict()\n",
    "\n",
    "for i in list_of_features_mean:\n",
    "\n",
    "    X = df_sub.loc[:,['log_best', 'Published', 'Submitted']] # raw is ref\n",
    "    y = df_sub.loc[:, i]\n",
    "\n",
    "    m = PanelOLS(dependent=y,\n",
    "                exog=X,\n",
    "                entity_effects=True,\n",
    "                time_effects=True)\n",
    "\n",
    "    fitted_dict[i] = m.fit(cov_type='clustered', cluster_entity=True)"
   ]
  },
  {
   "cell_type": "code",
   "execution_count": null,
   "metadata": {},
   "outputs": [],
   "source": [
    "fitted_dict"
   ]
  },
  {
   "cell_type": "markdown",
   "metadata": {},
   "source": []
  },
  {
   "cell_type": "code",
   "execution_count": null,
   "metadata": {},
   "outputs": [],
   "source": [
    "X = df_sub.loc[:,['female_mean', 'log_best', 'Published', 'Submitted']] # raw is ref\n",
    "y = df_sub.loc[:, 'religiousGarmentFemale_mean']\n",
    "\n",
    "m = PanelOLS(dependent=y,\n",
    "            exog=X,\n",
    "            entity_effects=True,\n",
    "            time_effects=True)\n",
    "\n",
    "m.fit(cov_type='clustered', cluster_entity=True)"
   ]
  },
  {
   "cell_type": "code",
   "execution_count": null,
   "metadata": {},
   "outputs": [],
   "source": [
    "X = df_sub.loc[:,['female_mean', 'log_best', 'Published', 'Submitted']] # raw is ref\n",
    "y = df_sub.loc[:, 'religiousGarmentFemale_mean']\n",
    "\n",
    "m = PanelOLS(dependent=y,\n",
    "            exog=X,\n",
    "            entity_effects=True,\n",
    "            time_effects=True)\n",
    "\n",
    "m.fit(cov_type='clustered', cluster_entity=True)"
   ]
  }
 ],
 "metadata": {
  "kernelspec": {
   "display_name": "Python 3.8.13 ('scikit_env')",
   "language": "python",
   "name": "python3"
  },
  "language_info": {
   "codemirror_mode": {
    "name": "ipython",
    "version": 3
   },
   "file_extension": ".py",
   "mimetype": "text/x-python",
   "name": "python",
   "nbconvert_exporter": "python",
   "pygments_lexer": "ipython3",
   "version": "3.8.13 (default, Mar 28 2022, 11:38:47) \n[GCC 7.5.0]"
  },
  "orig_nbformat": 4,
  "vscode": {
   "interpreter": {
    "hash": "db0d53181fc69c22f9e4b058cea75697c61780ca1ed81bc2eb5bd14731b6f4bf"
   }
  }
 },
 "nbformat": 4,
 "nbformat_minor": 2
}

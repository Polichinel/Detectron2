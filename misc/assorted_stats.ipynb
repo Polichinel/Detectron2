{
 "cells": [
  {
   "cell_type": "markdown",
   "metadata": {},
   "source": [
    "# TODO\n",
    "\n",
    "- you need plots\n"
   ]
  },
  {
   "cell_type": "code",
   "execution_count": 1,
   "metadata": {},
   "outputs": [],
   "source": [
    "import numpy as np\n",
    "import pandas as pd\n",
    "import pickle\n",
    "import statsmodels.api as sm\n",
    "from linearmodels.panel import PanelOLS\n",
    "from linearmodels.panel import compare\n",
    "\n",
    "from fixedeffect.fe import fixedeffect # for 3-way fixed https://pypi.org/project/FixedEffectModel/\n",
    "import matplotlib.pyplot as plt\n",
    "import seaborn as sns"
   ]
  },
  {
   "cell_type": "code",
   "execution_count": 2,
   "metadata": {},
   "outputs": [],
   "source": [
    "data_dir = '/home/simon/Documents/Bodies/data/done_dfs/'\n",
    "\n",
    "with open(f'{data_dir}bodies_df_2022_v1_4.pkl', 'rb') as file:\n",
    "    bodies_df = pickle.load(file)"
   ]
  },
  {
   "cell_type": "code",
   "execution_count": 3,
   "metadata": {},
   "outputs": [
    {
     "data": {
      "text/plain": [
       "(152188, 194)"
      ]
     },
     "execution_count": 3,
     "metadata": {},
     "output_type": "execute_result"
    }
   ],
   "source": [
    "bodies_df.shape"
   ]
  },
  {
   "cell_type": "code",
   "execution_count": 4,
   "metadata": {},
   "outputs": [],
   "source": [
    "# if you only want more robust observatino:\n",
    "\n",
    "bodies_df = bodies_df[(bodies_df['distance_days'] == 0) | (bodies_df['location_annot'] == 1)].copy() # only locations you are certain of\n",
    "bodies_df = bodies_df[bodies_df['city'] != 'nan']\n",
    "\n",
    "bodies_df = bodies_df[bodies_df['year'] >= 2003]\n",
    "lwd = [294, 299, 300] # likely wrong dates/months. \n",
    "bodies_df = bodies_df[~bodies_df['month_id'].isin(lwd)].copy()\n",
    "\n",
    "\n",
    "# indtil det er styr på det her:\n",
    "bodies_df = bodies_df[bodies_df['publication'] != 'Published']"
   ]
  },
  {
   "cell_type": "code",
   "execution_count": 5,
   "metadata": {},
   "outputs": [
    {
     "data": {
      "text/plain": [
       "(112343, 194)"
      ]
     },
     "execution_count": 5,
     "metadata": {},
     "output_type": "execute_result"
    }
   ],
   "source": [
    "bodies_df.shape"
   ]
  },
  {
   "cell_type": "code",
   "execution_count": 6,
   "metadata": {},
   "outputs": [],
   "source": [
    "#bodies_df[['Published', 'Raw', 'Submitted']] = pd.get_dummies(bodies_df[['publication']])\n",
    "bodies_df[['Raw', 'Submitted']] = pd.get_dummies(bodies_df[['publication']])\n",
    "\n",
    "bodies_df.drop(columns= 'publication', inplace= True)\n",
    "\n",
    "# for FE\n",
    "bodies_df.set_index(['gid', 'month_id'], inplace = True)\n",
    "#bodies_df.set_index(['city_id', 'month_id'], inplace = True)\n",
    "\n",
    "\n",
    "bodies_df['person_dummy'] = (bodies_df['person_mean'] > 0) * 1\n",
    "bodies_df['female_dummy'] = (bodies_df['female_mean']> 0) * 1\n",
    "bodies_df['male_dummy'] = (bodies_df['male_mean']> 0) * 1\n",
    "bodies_df['religiousGarmentFemale_dummy'] = (bodies_df['religiousGarmentFemale_mean'] > 0) * 1\n",
    "\n",
    "\n",
    "bodies_df['uniformed_dummy'] = (bodies_df['uniformed_mean'] > 0) * 1\n",
    "\n",
    "\n"
   ]
  },
  {
   "cell_type": "markdown",
   "metadata": {},
   "source": [
    "# Introducing ...."
   ]
  },
  {
   "cell_type": "markdown",
   "metadata": {},
   "source": [
    "nlights_calib_mean',\n",
    "       'nlights_mean', 'pasture_ih', 'petroleum_y', 'pop_gpw_sd',\n",
    "       'pop_gpw_sum', "
   ]
  },
  {
   "cell_type": "markdown",
   "metadata": {},
   "source": [
    "### uniformed"
   ]
  },
  {
   "cell_type": "code",
   "execution_count": 7,
   "metadata": {},
   "outputs": [
    {
     "name": "stdout",
     "output_type": "stream",
     "text": [
      "                                                          Model Comparison                                                         \n",
      "===================================================================================================================================\n",
      "                                   model1            model2            model3            model4            model5            model6\n",
      "-----------------------------------------------------------------------------------------------------------------------------------\n",
      "Dep. Variable             uniformed_dummy   uniformed_dummy   uniformed_dummy   uniformed_dummy   uniformed_dummy   uniformed_dummy\n",
      "Estimator                        PanelOLS          PanelOLS          PanelOLS          PanelOLS          PanelOLS          PanelOLS\n",
      "No. Observations                   112343            112343            112343            112343            112343            112343\n",
      "Cov. Est.                          Robust            Robust            Robust            Robust            Robust            Robust\n",
      "R-squared                          0.0009            0.0855            0.2593            0.2664            0.2664            0.2664\n",
      "R-Squared (Within)                 0.0014            0.0959            0.2483            0.2459            0.2465            0.2461\n",
      "R-Squared (Between)               -0.0545           -0.2260            0.2455            0.2348            0.2098            0.2263\n",
      "R-Squared (Overall)                0.0009            0.0855            0.2593            0.2664            0.2664            0.2664\n",
      "F-statistic                        95.782            5254.0         1.311e+04          1.02e+04          1.02e+04          1.02e+04\n",
      "P-value (F-stat)                   0.0000            0.0000            0.0000            0.0000            0.0000            0.0000\n",
      "======================= ================= ================= ================= ================= ================= =================\n",
      "const                           0.4018***         0.1007***        -0.1019***        -0.0140***         -0.0090**        -0.0121***\n",
      "                                 (0.0031)          (0.0029)          (0.0033)          (0.0044)          (0.0045)          (0.0046)\n",
      "log_best                       -0.0085***        -0.0151***        -0.0059***            0.0006                                    \n",
      "                                 (0.0009)          (0.0008)          (0.0008)          (0.0008)                                    \n",
      "person_dummy                                      0.3840***         0.4923***         0.4874***         0.4882***         0.4877***\n",
      "                                                   (0.0024)          (0.0027)          (0.0027)          (0.0027)          (0.0027)\n",
      "damaged_property_mean                                               0.3567***         0.3474***         0.3469***         0.3473***\n",
      "                                                                     (0.0021)          (0.0021)          (0.0021)          (0.0021)\n",
      "nlights_mean                                                                         -0.0053***        -0.0051***        -0.0053***\n",
      "                                                                                       (0.0002)          (0.0002)          (0.0002)\n",
      "tce                                                                                                     -0.0026**                  \n",
      "                                                                                                         (0.0011)                  \n",
      "tsce                                                                                                                        -0.0008\n",
      "                                                                                                                           (0.0023)\n",
      "-----------------------------------------------------------------------------------------------------------------------------------\n",
      "\n",
      "Std. Errors reported in parentheses\n"
     ]
    }
   ],
   "source": [
    "# POOLD\n",
    "\n",
    "X = bodies_df.loc[:,['log_best']] \n",
    "X = sm.add_constant(X)\n",
    "y = bodies_df.loc[:, 'uniformed_dummy']\n",
    "\n",
    "m = PanelOLS(dependent=y, exog=X, entity_effects=False, time_effects=False, drop_absorbed = True)\n",
    "model1 =  m.fit(cov_type='robust')\n",
    "\n",
    "X = bodies_df.loc[:,[ 'log_best', 'person_dummy']] \n",
    "X = sm.add_constant(X)\n",
    "\n",
    "y = bodies_df.loc[:, 'uniformed_dummy']\n",
    "\n",
    "m = PanelOLS(dependent=y, exog=X, entity_effects=False, time_effects=False, drop_absorbed = True)\n",
    "model2 = m.fit(cov_type='robust')\n",
    "\n",
    "X = bodies_df.loc[:,[ 'log_best', 'person_dummy', 'damaged_property_mean']] \n",
    "X = sm.add_constant(X)\n",
    "\n",
    "y = bodies_df.loc[:, 'uniformed_dummy']\n",
    "\n",
    "m = PanelOLS(dependent=y, exog=X, entity_effects=False, time_effects=False, drop_absorbed = True)\n",
    "model3 = m.fit(cov_type='robust')\n",
    "\n",
    "X = bodies_df.loc[:,[ 'log_best', 'person_dummy', 'damaged_property_mean', 'nlights_mean']] \n",
    "X = sm.add_constant(X)\n",
    "\n",
    "y = bodies_df.loc[:, 'uniformed_dummy']\n",
    "\n",
    "m = PanelOLS(dependent=y, exog=X, entity_effects=False, time_effects=False, drop_absorbed = True)\n",
    "model4 = m.fit(cov_type='robust')\n",
    "\n",
    "X = bodies_df.loc[:,[ 'tce', 'person_dummy', 'damaged_property_mean', 'nlights_mean']] \n",
    "X = sm.add_constant(X)\n",
    "\n",
    "y = bodies_df.loc[:, 'uniformed_dummy']\n",
    "\n",
    "m = PanelOLS(dependent=y, exog=X, entity_effects=False, time_effects=False, drop_absorbed = True)\n",
    "model5 = m.fit(cov_type='robust')\n",
    "\n",
    "X = bodies_df.loc[:,[ 'tsce', 'person_dummy', 'damaged_property_mean', 'nlights_mean']] \n",
    "X = sm.add_constant(X)\n",
    "\n",
    "y = bodies_df.loc[:, 'uniformed_dummy']\n",
    "\n",
    "m = PanelOLS(dependent=y, exog=X, entity_effects=False, time_effects=False, drop_absorbed = True)\n",
    "model6 = m.fit(cov_type='robust')\n",
    "\n",
    "print(compare({\"model1\": model1, \"model2\": model2, \"model3\": model3, \"model4\": model4, \"model5\": model5, \"model6\": model6}, precision = 'std_errors', stars = True))"
   ]
  },
  {
   "cell_type": "code",
   "execution_count": 8,
   "metadata": {},
   "outputs": [
    {
     "name": "stdout",
     "output_type": "stream",
     "text": [
      "                                                                 Model Comparison                                                                \n",
      "=================================================================================================================================================\n",
      "                                       model1              model2              model3              model4              model5              model6\n",
      "-------------------------------------------------------------------------------------------------------------------------------------------------\n",
      "Dep. Variable                 uniformed_dummy     uniformed_dummy     uniformed_dummy     uniformed_dummy     uniformed_dummy     uniformed_dummy\n",
      "Estimator                            PanelOLS            PanelOLS            PanelOLS            PanelOLS            PanelOLS            PanelOLS\n",
      "No. Observations                       112343              112343              112343              112343              112343              112343\n",
      "Cov. Est.                           Clustered           Clustered           Clustered           Clustered           Clustered           Clustered\n",
      "R-squared                              0.0019              0.0967              0.2494              0.2494              0.2494              0.2479\n",
      "R-Squared (Within)                     0.0019              0.0967              0.2494              0.2494              0.2494              0.2479\n",
      "R-Squared (Between)                   -0.0865              0.6432              0.7402              0.7215              0.7510              0.7389\n",
      "R-Squared (Overall)                   -0.1162              0.3886              0.5245              0.5095              0.5354              0.4991\n",
      "F-statistic                            210.54              6014.1           1.244e+04              9331.6              9331.6              9256.5\n",
      "P-value (F-stat)                       0.0000              0.0000              0.0000              0.0000              0.0000              0.0000\n",
      "=======================     =================   =================   =================   =================   =================   =================\n",
      "log_best                           -0.0170***          -0.0256***          -0.0162***          -0.0159***                                        \n",
      "                                     (0.0020)            (0.0013)            (0.0012)            (0.0012)                                        \n",
      "person_dummy                                            0.4005***           0.4927***           0.4939***           0.4930***           0.4917***\n",
      "                                                         (0.0363)            (0.0227)            (0.0224)            (0.0229)            (0.0230)\n",
      "damaged_property_mean                                                       0.3371***           0.3374***           0.3351***           0.3387***\n",
      "                                                                             (0.0150)            (0.0151)            (0.0149)            (0.0156)\n",
      "nlights_mean                                                                                    0.0014***             -0.0002           0.0011***\n",
      "                                                                                                 (0.0002)            (0.0003)            (0.0003)\n",
      "tce                                                                                                                -0.0279***                    \n",
      "                                                                                                                     (0.0022)                    \n",
      "tsce                                                                                                                                   -0.0139***\n",
      "                                                                                                                                         (0.0040)\n",
      "========================= =================== =================== =================== =================== =================== ===================\n",
      "Effects                                Entity              Entity              Entity              Entity              Entity              Entity\n",
      "-------------------------------------------------------------------------------------------------------------------------------------------------\n",
      "\n",
      "Std. Errors reported in parentheses\n"
     ]
    }
   ],
   "source": [
    "# FE Entity\n",
    "\n",
    "X = bodies_df.loc[:,['log_best']] \n",
    "#X = sm.add_constant(X)\n",
    "y = bodies_df.loc[:, 'uniformed_dummy']\n",
    "\n",
    "m = PanelOLS(dependent=y, exog=X, entity_effects=True, time_effects=False, drop_absorbed = True)\n",
    "model1 =  m.fit(cov_type='clustered', cluster_time=False, cluster_entity=True)\n",
    "\n",
    "X = bodies_df.loc[:,[ 'log_best', 'person_dummy']] \n",
    "#X = sm.add_constant(X)\n",
    "\n",
    "y = bodies_df.loc[:, 'uniformed_dummy']\n",
    "\n",
    "m = PanelOLS(dependent=y, exog=X, entity_effects=True, time_effects=False, drop_absorbed = True)\n",
    "model2 = m.fit(cov_type='clustered', cluster_time=False, cluster_entity=True)\n",
    "\n",
    "X = bodies_df.loc[:,[ 'log_best', 'person_dummy', 'damaged_property_mean']] \n",
    "#X = sm.add_constant(X)\n",
    "\n",
    "y = bodies_df.loc[:, 'uniformed_dummy']\n",
    "\n",
    "m = PanelOLS(dependent=y, exog=X, entity_effects=True, time_effects=False, drop_absorbed = True)\n",
    "model3 = m.fit(cov_type='clustered', cluster_time=False, cluster_entity=True)\n",
    "\n",
    "X = bodies_df.loc[:,[ 'log_best', 'person_dummy', 'damaged_property_mean', 'nlights_mean']] \n",
    "#X = sm.add_constant(X)\n",
    "\n",
    "y = bodies_df.loc[:, 'uniformed_dummy']\n",
    "\n",
    "m = PanelOLS(dependent=y, exog=X, entity_effects=True, time_effects=False, drop_absorbed = True)\n",
    "model4 = m.fit(cov_type='clustered', cluster_time=False, cluster_entity=True)\n",
    "\n",
    "X = bodies_df.loc[:,[ 'tce', 'person_dummy', 'damaged_property_mean', 'nlights_mean']] \n",
    "#X = sm.add_constant(X)\n",
    "\n",
    "y = bodies_df.loc[:, 'uniformed_dummy']\n",
    "\n",
    "m = PanelOLS(dependent=y, exog=X, entity_effects=True, time_effects=False, drop_absorbed = True)\n",
    "model5 = m.fit(cov_type='clustered', cluster_time=False, cluster_entity=True)\n",
    "\n",
    "X = bodies_df.loc[:,[ 'tsce', 'person_dummy', 'damaged_property_mean', 'nlights_mean']] \n",
    "#X = sm.add_constant(X)\n",
    "\n",
    "y = bodies_df.loc[:, 'uniformed_dummy']\n",
    "\n",
    "m = PanelOLS(dependent=y, exog=X, entity_effects=True, time_effects=False, drop_absorbed = True)\n",
    "model6 = m.fit(cov_type='clustered', cluster_time=False, cluster_entity=True)\n",
    "\n",
    "print(compare({\"model1\": model1, \"model2\": model2, \"model3\": model3, \"model4\": model4, \"model5\": model5, \"model6\": model6}, precision = 'std_errors', stars = True))"
   ]
  },
  {
   "cell_type": "code",
   "execution_count": 9,
   "metadata": {},
   "outputs": [
    {
     "name": "stdout",
     "output_type": "stream",
     "text": [
      "                                                                 Model Comparison                                                                \n",
      "=================================================================================================================================================\n",
      "                                       model1              model2              model3              model4              model5              model6\n",
      "-------------------------------------------------------------------------------------------------------------------------------------------------\n",
      "Dep. Variable                 uniformed_dummy     uniformed_dummy     uniformed_dummy     uniformed_dummy     uniformed_dummy     uniformed_dummy\n",
      "Estimator                            PanelOLS            PanelOLS            PanelOLS            PanelOLS            PanelOLS            PanelOLS\n",
      "No. Observations                       112343              112343              112343              112343              112343              112343\n",
      "Cov. Est.                           Clustered           Clustered           Clustered           Clustered           Clustered           Clustered\n",
      "R-squared                           9.699e-05              0.0890              0.2320              0.2382              0.2357              0.2357\n",
      "R-Squared (Within)                     0.0010              0.0947              0.2476              0.2149              0.2388              0.2387\n",
      "R-Squared (Between)                   -0.0277              0.6768              0.7652              0.8382              0.8220              0.8104\n",
      "R-Squared (Overall)                   -0.0362              0.4103              0.5119              0.5159              0.5361              0.5338\n",
      "F-statistic                            10.894              5484.9           1.131e+04              8780.8              8658.6              8659.4\n",
      "P-value (F-stat)                       0.0010              0.0000              0.0000              0.0000              0.0000              0.0000\n",
      "=======================     =================   =================   =================   =================   =================   =================\n",
      "log_best                              -0.0056             -0.0085             -0.0017             0.0486*                                        \n",
      "                                     (0.0150)            (0.0166)            (0.0118)            (0.0260)                                        \n",
      "person_dummy                                            0.3825***           0.4766***           0.4809***           0.4798***           0.4801***\n",
      "                                                         (0.0287)            (0.0319)            (0.0309)            (0.0315)            (0.0314)\n",
      "damaged_property_mean                                                       0.3228***           0.3138***           0.3174***           0.3172***\n",
      "                                                                             (0.0152)            (0.0138)            (0.0134)            (0.0135)\n",
      "nlights_mean                                                                                      -0.0106             -0.0077             -0.0080\n",
      "                                                                                                 (0.0067)            (0.0079)            (0.0081)\n",
      "tce                                                                                                                    0.0241                    \n",
      "                                                                                                                     (0.0340)                    \n",
      "tsce                                                                                                                                       0.0567\n",
      "                                                                                                                                         (0.0729)\n",
      "========================= =================== =================== =================== =================== =================== ===================\n",
      "Effects                                  Time                Time                Time                Time                Time                Time\n",
      "-------------------------------------------------------------------------------------------------------------------------------------------------\n",
      "\n",
      "Std. Errors reported in parentheses\n"
     ]
    }
   ],
   "source": [
    "# FE TIME\n",
    "\n",
    "X = bodies_df.loc[:,['log_best']] \n",
    "#X = sm.add_constant(X)\n",
    "y = bodies_df.loc[:, 'uniformed_dummy']\n",
    "\n",
    "m = PanelOLS(dependent=y, exog=X, entity_effects=False, time_effects=True, drop_absorbed = True)\n",
    "model1 =  m.fit(cov_type='clustered', cluster_time=True, cluster_entity=False)\n",
    "\n",
    "X = bodies_df.loc[:,[ 'log_best', 'person_dummy']] \n",
    "#X = sm.add_constant(X)\n",
    "\n",
    "y = bodies_df.loc[:, 'uniformed_dummy']\n",
    "\n",
    "m = PanelOLS(dependent=y, exog=X, entity_effects=False, time_effects=True, drop_absorbed = True)\n",
    "model2 = m.fit(cov_type='clustered', cluster_time=True, cluster_entity=False)\n",
    "\n",
    "X = bodies_df.loc[:,[ 'log_best', 'person_dummy', 'damaged_property_mean']] \n",
    "#X = sm.add_constant(X)\n",
    "\n",
    "y = bodies_df.loc[:, 'uniformed_dummy']\n",
    "\n",
    "m = PanelOLS(dependent=y, exog=X, entity_effects=False, time_effects=True, drop_absorbed = True)\n",
    "model3 = m.fit(cov_type='clustered', cluster_time=True, cluster_entity=False)\n",
    "\n",
    "X = bodies_df.loc[:,[ 'log_best', 'person_dummy', 'damaged_property_mean', 'nlights_mean']] \n",
    "#X = sm.add_constant(X)\n",
    "\n",
    "y = bodies_df.loc[:, 'uniformed_dummy']\n",
    "\n",
    "m = PanelOLS(dependent=y, exog=X, entity_effects=False, time_effects=True, drop_absorbed = True)\n",
    "model4 = m.fit(cov_type='clustered', cluster_time=True, cluster_entity=False)\n",
    "\n",
    "X = bodies_df.loc[:,[ 'tce', 'person_dummy', 'damaged_property_mean', 'nlights_mean']] \n",
    "#X = sm.add_constant(X)\n",
    "\n",
    "y = bodies_df.loc[:, 'uniformed_dummy']\n",
    "\n",
    "m = PanelOLS(dependent=y, exog=X, entity_effects=False, time_effects=True, drop_absorbed = True)\n",
    "model5 = m.fit(cov_type='clustered', cluster_time=True, cluster_entity=False)\n",
    "\n",
    "X = bodies_df.loc[:,[ 'tsce', 'person_dummy', 'damaged_property_mean', 'nlights_mean']] \n",
    "#X = sm.add_constant(X)\n",
    "\n",
    "y = bodies_df.loc[:, 'uniformed_dummy']\n",
    "\n",
    "m = PanelOLS(dependent=y, exog=X, entity_effects=False, time_effects=True, drop_absorbed = True)\n",
    "model6 = m.fit(cov_type='clustered', cluster_time=True, cluster_entity=False)\n",
    "\n",
    "print(compare({\"model1\": model1, \"model2\": model2, \"model3\": model3, \"model4\": model4, \"model5\": model5, \"model6\": model6}, precision = 'std_errors', stars = True))"
   ]
  },
  {
   "cell_type": "code",
   "execution_count": 11,
   "metadata": {},
   "outputs": [
    {
     "name": "stdout",
     "output_type": "stream",
     "text": [
      "                                                                 Model Comparison                                                                \n",
      "=================================================================================================================================================\n",
      "                                       model1              model2              model3              model4              model5              model6\n",
      "-------------------------------------------------------------------------------------------------------------------------------------------------\n",
      "Dep. Variable                 uniformed_dummy     uniformed_dummy     uniformed_dummy     uniformed_dummy     uniformed_dummy     uniformed_dummy\n",
      "Estimator                            PanelOLS            PanelOLS            PanelOLS            PanelOLS            PanelOLS            PanelOLS\n",
      "No. Observations                       112343              112343              112343              112343              112343              112343\n",
      "Cov. Est.                           Clustered           Clustered           Clustered           Clustered           Clustered           Clustered\n",
      "R-squared                           6.765e-05              0.0995              0.2280              0.2351              0.2349              0.2352\n",
      "R-Squared (Within)                    -0.0050              0.0799              0.2431             -0.7874             -1.6407             -1.3535\n",
      "R-Squared (Between)                    0.0721              0.7457              0.7638             -21.497             -42.218             -41.169\n",
      "R-Squared (Overall)                    0.0891              0.4110              0.4810             -47.280             -93.278             -90.729\n",
      "F-statistic                            7.5971              6201.8           1.105e+04              8630.0              8618.5              8630.8\n",
      "P-value (F-stat)                       0.0058              0.0000              0.0000              0.0000              0.0000              0.0000\n",
      "=======================     =================   =================   =================   =================   =================   =================\n",
      "log_best                               0.0156              0.0254              0.0114           0.0899***                                        \n",
      "                                     (0.0202)            (0.0190)            (0.0306)            (0.0162)                                        \n",
      "person_dummy                                            0.4010***           0.4832***           0.4846***           0.4840***           0.4840***\n",
      "                                                         (0.0396)            (0.0306)            (0.0311)            (0.0308)            (0.0309)\n",
      "damaged_property_mean                                                       0.3092***           0.3071***           0.3073***           0.3071***\n",
      "                                                                             (0.0060)            (0.0062)            (0.0062)            (0.0064)\n",
      "nlights_mean                                                                                    0.1839***           0.2585***           0.2509***\n",
      "                                                                                                 (0.0185)            (0.0272)            (0.0234)\n",
      "tce                                                                                                                 0.1386***                    \n",
      "                                                                                                                     (0.0284)                    \n",
      "tsce                                                                                                                                    0.3145***\n",
      "                                                                                                                                         (0.0654)\n",
      "========================= =================== =================== =================== =================== =================== ===================\n",
      "Effects                                Entity              Entity              Entity              Entity              Entity              Entity\n",
      "                                         Time                Time                Time                Time                Time                Time\n",
      "-------------------------------------------------------------------------------------------------------------------------------------------------\n",
      "\n",
      "Std. Errors reported in parentheses\n"
     ]
    }
   ],
   "source": [
    "# TWO-WAY FE\n",
    "\n",
    "X = bodies_df.loc[:,['log_best']] \n",
    "#X = sm.add_constant(X)\n",
    "y = bodies_df.loc[:, 'uniformed_dummy']\n",
    "\n",
    "m = PanelOLS(dependent=y, exog=X, entity_effects=True, time_effects=True)\n",
    "model1 =  m.fit(cov_type='clustered', cluster_time=True, cluster_entity=True)\n",
    "\n",
    "X = bodies_df.loc[:,[ 'log_best', 'person_dummy']] \n",
    "#X = sm.add_constant(X)\n",
    "\n",
    "y = bodies_df.loc[:, 'uniformed_dummy']\n",
    "\n",
    "m = PanelOLS(dependent=y, exog=X, entity_effects=True, time_effects=True)\n",
    "model2 = m.fit(cov_type='clustered', cluster_time=True, cluster_entity=True)\n",
    "\n",
    "X = bodies_df.loc[:,[ 'log_best', 'person_dummy', 'damaged_property_mean']] \n",
    "#X = sm.add_constant(X)\n",
    "\n",
    "y = bodies_df.loc[:, 'uniformed_dummy']\n",
    "\n",
    "m = PanelOLS(dependent=y, exog=X, entity_effects=True, time_effects=True)\n",
    "model3 = m.fit(cov_type='clustered', cluster_time=True, cluster_entity=True)\n",
    "\n",
    "X = bodies_df.loc[:,[ 'log_best', 'person_dummy', 'damaged_property_mean', 'nlights_mean']] \n",
    "#X = sm.add_constant(X)\n",
    "\n",
    "y = bodies_df.loc[:, 'uniformed_dummy']\n",
    "\n",
    "m = PanelOLS(dependent=y, exog=X, entity_effects=True, time_effects=True)\n",
    "model4 = m.fit(cov_type='clustered', cluster_time=True, cluster_entity=True)\n",
    "\n",
    "X = bodies_df.loc[:,[ 'tce', 'person_dummy', 'damaged_property_mean', 'nlights_mean']] \n",
    "#X = sm.add_constant(X)\n",
    "\n",
    "y = bodies_df.loc[:, 'uniformed_dummy']\n",
    "\n",
    "m = PanelOLS(dependent=y, exog=X, entity_effects=True, time_effects=True)\n",
    "model5 = m.fit(cov_type='clustered', cluster_time=True, cluster_entity=True)\n",
    "\n",
    "X = bodies_df.loc[:,[ 'tsce', 'person_dummy', 'damaged_property_mean', 'nlights_mean']] \n",
    "#X = sm.add_constant(X)\n",
    "\n",
    "y = bodies_df.loc[:, 'uniformed_dummy']\n",
    "\n",
    "m = PanelOLS(dependent=y, exog=X, entity_effects=True, time_effects=True)\n",
    "model6 = m.fit(cov_type='clustered', cluster_time=True, cluster_entity=True)\n",
    "\n",
    "print(compare({\"model1\": model1, \"model2\": model2, \"model3\": model3, \"model4\": model4, \"model5\": model5, \"model6\": model6}, precision = 'std_errors', stars = True))"
   ]
  },
  {
   "cell_type": "code",
   "execution_count": 107,
   "metadata": {},
   "outputs": [],
   "source": [
    "#Baghdad gid = 177569\n",
    "baghdad_df = bodies_df.loc[[177569]].copy()\n",
    "baghdad_df['damaged_property_clip'] = np.clip(baghdad_df['damaged_property_mean'], 0, None)"
   ]
  },
  {
   "cell_type": "code",
   "execution_count": 117,
   "metadata": {},
   "outputs": [
    {
     "name": "stdout",
     "output_type": "stream",
     "text": [
      "                      Model Comparison                      \n",
      "============================================================\n",
      "                            model1       model2       model3\n",
      "------------------------------------------------------------\n",
      "Dep. Variable            Submitted    Submitted    Submitted\n",
      "Estimator                 PanelOLS     PanelOLS     PanelOLS\n",
      "No. Observations            112343       112343       112343\n",
      "Cov. Est.                   Robust       Robust       Robust\n",
      "R-squared                   0.0002       0.0007       0.0001\n",
      "R-Squared (Within)         -0.0007      -0.0007      -0.0004\n",
      "R-Squared (Between)        -0.3778      -0.3617      -0.3789\n",
      "R-Squared (Overall)         0.0002       0.0007       0.0001\n",
      "F-statistic                 25.587       78.824       16.355\n",
      "P-value (F-stat)            0.0000       0.0000       0.0001\n",
      "===================== ============ ============ ============\n",
      "const                    0.0460***    0.0527***    0.0466***\n",
      "                          (0.0015)     (0.0018)     (0.0019)\n",
      "log_best                -0.0018***                          \n",
      "                          (0.0004)                          \n",
      "tce                                  -0.0041***             \n",
      "                                       (0.0005)             \n",
      "tsce                                              -0.0039***\n",
      "                                                    (0.0011)\n",
      "------------------------------------------------------------\n",
      "\n",
      "Std. Errors reported in parentheses\n"
     ]
    }
   ],
   "source": [
    "#feature = ['damaged_property_mean', 'rural_mean']\n",
    "# 'rural_mean', 'log_best', 'person_mean'\n",
    "\n",
    "feature = ['uniformed_dummy']\n",
    "target =  'Submitted' #'uniformed_dummy'\n",
    "\n",
    "\n",
    "X = bodies_df.loc[:,['log_best']] \n",
    "X = sm.add_constant(X)\n",
    "y = bodies_df.loc[:, target]\n",
    "\n",
    "m = PanelOLS(dependent=y, exog=X, entity_effects=False, time_effects=False, drop_absorbed = True)\n",
    "model1 =  m.fit(cov_type='robust')\n",
    "\n",
    "X = bodies_df.loc[:,['tce']] \n",
    "X = sm.add_constant(X)\n",
    "y = bodies_df.loc[:, target]\n",
    "\n",
    "m = PanelOLS(dependent=y, exog=X, entity_effects=False, time_effects=False, drop_absorbed = True)\n",
    "model2 =  m.fit(cov_type='robust')\n",
    "\n",
    "\n",
    "X = bodies_df.loc[:,['tsce']]\n",
    "X = sm.add_constant(X)\n",
    "y = bodies_df.loc[:, target]\n",
    "\n",
    "m = PanelOLS(dependent=y, exog=X, entity_effects=False, time_effects=False, drop_absorbed = True)\n",
    "model3 =  m.fit(cov_type='robust')\n",
    "\n",
    "\n",
    "\n",
    "print(compare({\"model1\": model1, \"model2\": model2, \"model3\": model3}, precision = 'std_errors', stars = True))"
   ]
  },
  {
   "cell_type": "code",
   "execution_count": 126,
   "metadata": {},
   "outputs": [],
   "source": [
    "feature_list = ['person_dummy','female_dummy','male_dummy','religiousGarmentFemale_dummy',\n",
    "                'uniformed_dummy','mass_protest_mean','emotions_t2_mean','formal_mean',\n",
    "                'privat_mean','urban_mean','militarized_mean','damaged_property_mean',\n",
    "                'public_mean','emotions_t1_mean']"
   ]
  },
  {
   "cell_type": "code",
   "execution_count": 127,
   "metadata": {},
   "outputs": [
    {
     "name": "stdout",
     "output_type": "stream",
     "text": [
      "                                Model Comparison                                \n",
      "================================================================================\n",
      "                               model1        model2        model3         model4\n",
      "--------------------------------------------------------------------------------\n",
      "Dep. Variable               Submitted     Submitted     Submitted      Submitted\n",
      "Estimator                    PanelOLS      PanelOLS      PanelOLS       PanelOLS\n",
      "No. Observations               112343        112343        112343         112343\n",
      "Cov. Est.                      Robust     Clustered     Clustered      Clustered\n",
      "R-squared                   3.074e-06     2.071e-05     1.528e-05      8.539e-05\n",
      "R-Squared (Within)          1.293e-05     2.071e-05     2.042e-05     -2.924e-06\n",
      "R-Squared (Between)           -0.3933        0.0046        0.0041         0.0095\n",
      "R-Squared (Overall)         3.074e-06        0.0040        0.0035         0.0079\n",
      "F-statistic                    0.3454        2.3266        1.7158         9.5884\n",
      "P-value (F-stat)               0.5567        0.1272        0.1902         0.0020\n",
      "=====================     ===========   ===========   ===========   ============\n",
      "const                       0.0395***                                           \n",
      "                             (0.0014)                                           \n",
      "person_dummy                   0.0009        0.0024        0.0021      0.0050***\n",
      "                             (0.0016)      (0.0018)      (0.0041)       (0.0005)\n",
      "======================= ============= ============= ============= ==============\n",
      "Effects                                      Entity          Time         Entity\n",
      "                                                                            Time\n",
      "--------------------------------------------------------------------------------\n",
      "\n",
      "Std. Errors reported in parentheses\n",
      "                                Model Comparison                                \n",
      "================================================================================\n",
      "                                model1        model2        model3        model4\n",
      "--------------------------------------------------------------------------------\n",
      "Dep. Variable                Submitted     Submitted     Submitted     Submitted\n",
      "Estimator                     PanelOLS      PanelOLS      PanelOLS      PanelOLS\n",
      "No. Observations                112343        112343        112343        112343\n",
      "Cov. Est.                       Robust     Clustered     Clustered     Clustered\n",
      "R-squared                    1.455e-05     2.208e-06     1.699e-08     2.991e-05\n",
      "R-Squared (Within)          -2.564e-05     2.208e-06     3.765e-07     -1.46e-05\n",
      "R-Squared (Between)            -0.3933        0.0006     5.674e-05        0.0024\n",
      "R-Squared (Overall)          1.455e-05        0.0005     4.786e-05        0.0020\n",
      "F-statistic                     1.6342        0.2479        0.0019        3.3583\n",
      "P-value (F-stat)                0.2011        0.6185        0.9652        0.0669\n",
      "=====================     ============   ===========   ===========   ===========\n",
      "const                        0.0410***                                          \n",
      "                              (0.0008)                                          \n",
      "female_dummy                   -0.0015        0.0006     5.258e-05     0.0022***\n",
      "                              (0.0012)      (0.0013)      (0.0031)      (0.0005)\n",
      "======================= ============== ============= ============= =============\n",
      "Effects                                       Entity          Time        Entity\n",
      "                                                                            Time\n",
      "--------------------------------------------------------------------------------\n",
      "\n",
      "Std. Errors reported in parentheses\n",
      "                                Model Comparison                               \n",
      "===============================================================================\n",
      "                               model1        model2        model3        model4\n",
      "-------------------------------------------------------------------------------\n",
      "Dep. Variable               Submitted     Submitted     Submitted     Submitted\n",
      "Estimator                    PanelOLS      PanelOLS      PanelOLS      PanelOLS\n",
      "No. Observations               112343        112343        112343        112343\n",
      "Cov. Est.                      Robust     Clustered     Clustered     Clustered\n",
      "R-squared                   1.002e-05     3.533e-05     2.703e-05        0.0001\n",
      "R-Squared (Within)          2.767e-05     3.533e-05     3.492e-05     9.404e-06\n",
      "R-Squared (Between)           -0.3934        0.0056        0.0050        0.0104\n",
      "R-Squared (Overall)         1.002e-05        0.0049        0.0044        0.0088\n",
      "F-statistic                    1.1258        3.9681        3.0353        13.220\n",
      "P-value (F-stat)               0.2887        0.0464        0.0815        0.0003\n",
      "=====================     ===========   ===========   ===========   ===========\n",
      "const                       0.0389***                                          \n",
      "                             (0.0014)                                          \n",
      "male_dummy                     0.0016        0.0031        0.0027     0.0057***\n",
      "                             (0.0015)      (0.0022)      (0.0041)      (0.0012)\n",
      "======================= ============= ============= ============= =============\n",
      "Effects                                      Entity          Time        Entity\n",
      "                                                                           Time\n",
      "-------------------------------------------------------------------------------\n",
      "\n",
      "Std. Errors reported in parentheses\n",
      "                                     Model Comparison                                    \n",
      "=========================================================================================\n",
      "                                         model1        model2        model3        model4\n",
      "-----------------------------------------------------------------------------------------\n",
      "Dep. Variable                         Submitted     Submitted     Submitted     Submitted\n",
      "Estimator                              PanelOLS      PanelOLS      PanelOLS      PanelOLS\n",
      "No. Observations                         112343        112343        112343        112343\n",
      "Cov. Est.                                Robust     Clustered     Clustered     Clustered\n",
      "R-squared                             8.029e-08     2.368e-05     7.155e-06     5.793e-05\n",
      "R-Squared (Within)                   -2.848e-06     2.368e-05     1.898e-05     1.598e-05\n",
      "R-Squared (Between)                     -0.3933        0.0010        0.0005        0.0015\n",
      "R-Squared (Overall)                   8.029e-08        0.0008        0.0004        0.0012\n",
      "F-statistic                              0.0090        2.6601        0.8036        6.5047\n",
      "P-value (F-stat)                         0.9243        0.1029        0.3700        0.0108\n",
      "==============================     ============   ===========   ===========   ===========\n",
      "const                                 0.0403***                                          \n",
      "                                       (0.0006)                                          \n",
      "religiousGarmentFemale_dummy            -0.0002      0.0026**        0.0015     0.0041***\n",
      "                                       (0.0016)      (0.0012)      (0.0024)      (0.0006)\n",
      "================================ ============== ============= ============= =============\n",
      "Effects                                                Entity          Time        Entity\n",
      "                                                                                     Time\n",
      "-----------------------------------------------------------------------------------------\n",
      "\n",
      "Std. Errors reported in parentheses\n",
      "                                Model Comparison                               \n",
      "===============================================================================\n",
      "                               model1        model2        model3        model4\n",
      "-------------------------------------------------------------------------------\n",
      "Dep. Variable               Submitted     Submitted     Submitted     Submitted\n",
      "Estimator                    PanelOLS      PanelOLS      PanelOLS      PanelOLS\n",
      "No. Observations               112343        112343        112343        112343\n",
      "Cov. Est.                      Robust     Clustered     Clustered     Clustered\n",
      "R-squared                   4.962e-07     2.214e-06     1.573e-06     1.265e-07\n",
      "R-Squared (Within)           1.59e-06     2.214e-06     2.179e-06     9.629e-07\n",
      "R-Squared (Between)           -0.3933       -0.0005       -0.0004       -0.0001\n",
      "R-Squared (Overall)         4.962e-07       -0.0005       -0.0004       -0.0001\n",
      "F-statistic                    0.0557        0.2487        0.1766        0.0142\n",
      "P-value (F-stat)               0.8134        0.6180        0.6743        0.9052\n",
      "=====================     ===========   ===========   ===========   ===========\n",
      "const                       0.0404***                                          \n",
      "                             (0.0007)                                          \n",
      "uniformed_dummy               -0.0003       -0.0006       -0.0005       -0.0002\n",
      "                             (0.0012)      (0.0030)      (0.0032)      (0.0032)\n",
      "======================= ============= ============= ============= =============\n",
      "Effects                                      Entity          Time        Entity\n",
      "                                                                           Time\n",
      "-------------------------------------------------------------------------------\n",
      "\n",
      "Std. Errors reported in parentheses\n",
      "                                Model Comparison                               \n",
      "===============================================================================\n",
      "                               model1        model2        model3        model4\n",
      "-------------------------------------------------------------------------------\n",
      "Dep. Variable               Submitted     Submitted     Submitted     Submitted\n",
      "Estimator                    PanelOLS      PanelOLS      PanelOLS      PanelOLS\n",
      "No. Observations               112343        112343        112343        112343\n",
      "Cov. Est.                      Robust     Clustered     Clustered     Clustered\n",
      "R-squared                      0.0005        0.0008        0.0003        0.0008\n",
      "R-Squared (Within)             0.0008        0.0008        0.0007        0.0008\n",
      "R-Squared (Between)           -0.3958       -0.0079       -0.0050       -0.0085\n",
      "R-Squared (Overall)            0.0005       -0.0045       -0.0027       -0.0049\n",
      "F-statistic                    60.122        90.179        33.314        92.822\n",
      "P-value (F-stat)               0.0000        0.0000        0.0000        0.0000\n",
      "=====================     ===========   ===========   ===========   ===========\n",
      "const                       0.0422***                                          \n",
      "                             (0.0007)                                          \n",
      "mass_protest_mean           0.0170***     0.0209***        0.0134     0.0224***\n",
      "                             (0.0020)      (0.0045)      (0.0123)      (0.0030)\n",
      "======================= ============= ============= ============= =============\n",
      "Effects                                      Entity          Time        Entity\n",
      "                                                                           Time\n",
      "-------------------------------------------------------------------------------\n",
      "\n",
      "Std. Errors reported in parentheses\n",
      "                                Model Comparison                               \n",
      "===============================================================================\n",
      "                               model1        model2        model3        model4\n",
      "-------------------------------------------------------------------------------\n",
      "Dep. Variable               Submitted     Submitted     Submitted     Submitted\n",
      "Estimator                    PanelOLS      PanelOLS      PanelOLS      PanelOLS\n",
      "No. Observations               112343        112343        112343        112343\n",
      "Cov. Est.                      Robust     Clustered     Clustered     Clustered\n",
      "R-squared                      0.0004        0.0007        0.0003        0.0007\n",
      "R-Squared (Within)             0.0006        0.0007        0.0006        0.0007\n",
      "R-Squared (Between)           -0.3959       -0.0072       -0.0048       -0.0076\n",
      "R-Squared (Overall)            0.0004       -0.0039       -0.0025       -0.0042\n",
      "F-statistic                    45.763        74.274        31.444        77.117\n",
      "P-value (F-stat)               0.0000        0.0000        0.0000        0.0000\n",
      "=====================     ===========   ===========   ===========   ===========\n",
      "const                       0.0419***                                          \n",
      "                             (0.0007)                                          \n",
      "emotions_t2_mean            0.0142***     0.0181***      0.0123**     0.0193***\n",
      "                             (0.0020)      (0.0025)      (0.0055)      (0.0027)\n",
      "======================= ============= ============= ============= =============\n",
      "Effects                                      Entity          Time        Entity\n",
      "                                                                           Time\n",
      "-------------------------------------------------------------------------------\n",
      "\n",
      "Std. Errors reported in parentheses\n",
      "                                 Model Comparison                                \n",
      "=================================================================================\n",
      "                                model1        model2        model3         model4\n",
      "---------------------------------------------------------------------------------\n",
      "Dep. Variable                Submitted     Submitted     Submitted      Submitted\n",
      "Estimator                     PanelOLS      PanelOLS      PanelOLS       PanelOLS\n",
      "No. Observations                112343        112343        112343         112343\n",
      "Cov. Est.                       Robust     Clustered     Clustered      Clustered\n",
      "R-squared                       0.0008        0.0003        0.0003      2.754e-05\n",
      "R-Squared (Within)              0.0002        0.0003        0.0003         0.0002\n",
      "R-Squared (Between)            -0.3872        0.0018        0.0017         0.0006\n",
      "R-Squared (Overall)             0.0008       -0.0003       -0.0003     -2.725e-05\n",
      "F-statistic                     85.288        36.002        32.060         3.0928\n",
      "P-value (F-stat)                0.0000        0.0000        0.0000         0.0786\n",
      "=====================     ============   ===========   ===========   ============\n",
      "const                        0.0410***                                           \n",
      "                              (0.0006)                                           \n",
      "formal_mean                 -0.0179***     -0.0120**      -0.0114*        -0.0036\n",
      "                              (0.0019)      (0.0059)      (0.0065)       (0.0046)\n",
      "======================= ============== ============= ============= ==============\n",
      "Effects                                       Entity          Time         Entity\n",
      "                                                                             Time\n",
      "---------------------------------------------------------------------------------\n",
      "\n",
      "Std. Errors reported in parentheses\n",
      "                                Model Comparison                               \n",
      "===============================================================================\n",
      "                               model1        model2        model3        model4\n",
      "-------------------------------------------------------------------------------\n",
      "Dep. Variable               Submitted     Submitted     Submitted     Submitted\n",
      "Estimator                    PanelOLS      PanelOLS      PanelOLS      PanelOLS\n",
      "No. Observations               112343        112343        112343        112343\n",
      "Cov. Est.                      Robust     Clustered     Clustered     Clustered\n",
      "R-squared                      0.0001     9.751e-05     9.026e-05      1.95e-05\n",
      "R-Squared (Within)          9.197e-05     9.751e-05     9.751e-05     6.962e-05\n",
      "R-Squared (Between)           -0.3925        0.0040        0.0040        0.0019\n",
      "R-Squared (Overall)            0.0001        0.0032        0.0032        0.0015\n",
      "F-statistic                    16.595        10.953        10.138        2.1896\n",
      "P-value (F-stat)               0.0000        0.0009        0.0015        0.1389\n",
      "=====================     ===========   ===========   ===========   ===========\n",
      "const                       0.0383***                                          \n",
      "                             (0.0007)                                          \n",
      "privat_mean                 0.0103***     0.0083***        0.0083      0.0039**\n",
      "                             (0.0024)      (0.0030)      (0.0084)      (0.0017)\n",
      "======================= ============= ============= ============= =============\n",
      "Effects                                      Entity          Time        Entity\n",
      "                                                                           Time\n",
      "-------------------------------------------------------------------------------\n",
      "\n",
      "Std. Errors reported in parentheses\n",
      "                                  Model Comparison                                 \n",
      "===================================================================================\n",
      "                                model1         model2         model3         model4\n",
      "-----------------------------------------------------------------------------------\n",
      "Dep. Variable                Submitted      Submitted      Submitted      Submitted\n",
      "Estimator                     PanelOLS       PanelOLS       PanelOLS       PanelOLS\n",
      "No. Observations                112343         112343         112343         112343\n",
      "Cov. Est.                       Robust      Clustered      Clustered      Clustered\n",
      "R-squared                    7.636e-05       1.31e-09      4.817e-05      1.169e-05\n",
      "R-Squared (Within)          -7.145e-05       1.31e-09     -5.023e-05     -1.317e-05\n",
      "R-Squared (Between)            -0.3905      1.304e-05         0.0026        -0.0013\n",
      "R-Squared (Overall)          7.636e-05       4.62e-06         0.0009        -0.0005\n",
      "F-statistic                     8.5786         0.0001         5.4107         1.3123\n",
      "P-value (F-stat)                0.0034         0.9903         0.0200         0.2520\n",
      "=====================     ============   ============   ============   ============\n",
      "const                        0.0398***                                             \n",
      "                              (0.0006)                                             \n",
      "urban_mean                  -0.0033***     -1.404e-05        -0.0028         0.0014\n",
      "                              (0.0011)       (0.0015)       (0.0025)       (0.0019)\n",
      "======================= ============== ============== ============== ==============\n",
      "Effects                                        Entity           Time         Entity\n",
      "                                                                               Time\n",
      "-----------------------------------------------------------------------------------\n",
      "\n",
      "Std. Errors reported in parentheses\n",
      "                                Model Comparison                                \n",
      "================================================================================\n",
      "                                model1        model2        model3        model4\n",
      "--------------------------------------------------------------------------------\n",
      "Dep. Variable                Submitted     Submitted     Submitted     Submitted\n",
      "Estimator                     PanelOLS      PanelOLS      PanelOLS      PanelOLS\n",
      "No. Observations                112343        112343        112343        112343\n",
      "Cov. Est.                       Robust     Clustered     Clustered     Clustered\n",
      "R-squared                    1.688e-07     3.738e-05     1.081e-05        0.0001\n",
      "R-Squared (Within)          -5.086e-06     3.738e-05     3.049e-05     5.738e-06\n",
      "R-Squared (Between)            -0.3933       -0.0013       -0.0007       -0.0025\n",
      "R-Squared (Overall)          1.688e-07       -0.0010       -0.0006       -0.0020\n",
      "F-statistic                     0.0190        4.1983        1.2141        13.235\n",
      "P-value (F-stat)                0.8905        0.0405        0.2705        0.0003\n",
      "=====================     ============   ===========   ===========   ===========\n",
      "const                        0.0402***                                          \n",
      "                              (0.0006)                                          \n",
      "militarized_mean                0.0002       -0.0031       -0.0018       -0.0060\n",
      "                              (0.0015)      (0.0040)      (0.0062)      (0.0047)\n",
      "======================= ============== ============= ============= =============\n",
      "Effects                                       Entity          Time        Entity\n",
      "                                                                            Time\n",
      "--------------------------------------------------------------------------------\n",
      "\n",
      "Std. Errors reported in parentheses\n",
      "                                 Model Comparison                                \n",
      "=================================================================================\n",
      "                                 model1        model2        model3        model4\n",
      "---------------------------------------------------------------------------------\n",
      "Dep. Variable                 Submitted     Submitted     Submitted     Submitted\n",
      "Estimator                      PanelOLS      PanelOLS      PanelOLS      PanelOLS\n",
      "No. Observations                 112343        112343        112343        112343\n",
      "Cov. Est.                        Robust     Clustered     Clustered     Clustered\n",
      "R-squared                        0.0006        0.0003        0.0003        0.0001\n",
      "R-Squared (Within)               0.0003        0.0003        0.0003        0.0003\n",
      "R-Squared (Between)             -0.3906        0.0050        0.0049        0.0029\n",
      "R-Squared (Overall)              0.0006        0.0035        0.0034        0.0021\n",
      "F-statistic                      67.760        38.591        34.918        11.786\n",
      "P-value (F-stat)                 0.0000        0.0000        0.0000        0.0006\n",
      "=======================     ===========   ===========   ===========   ===========\n",
      "const                         0.0383***                                          \n",
      "                               (0.0006)                                          \n",
      "damaged_property_mean         0.0083***      0.0064**      0.0063**        0.0037\n",
      "                               (0.0010)      (0.0025)      (0.0028)      (0.0023)\n",
      "========================= ============= ============= ============= =============\n",
      "Effects                                        Entity          Time        Entity\n",
      "                                                                             Time\n",
      "---------------------------------------------------------------------------------\n",
      "\n",
      "Std. Errors reported in parentheses\n",
      "                                 Model Comparison                                \n",
      "=================================================================================\n",
      "                                model1        model2         model3        model4\n",
      "---------------------------------------------------------------------------------\n",
      "Dep. Variable                Submitted     Submitted      Submitted     Submitted\n",
      "Estimator                     PanelOLS      PanelOLS       PanelOLS      PanelOLS\n",
      "No. Observations                112343        112343         112343        112343\n",
      "Cov. Est.                       Robust     Clustered      Clustered     Clustered\n",
      "R-squared                     9.17e-07     2.726e-06       6.08e-06     8.643e-06\n",
      "R-Squared (Within)          -4.097e-06     2.726e-06      -1.49e-05     7.909e-07\n",
      "R-Squared (Between)            -0.3933     4.434e-05     -6.895e-05     8.148e-05\n",
      "R-Squared (Overall)           9.17e-07     6.148e-05        -0.0001        0.0001\n",
      "F-statistic                     0.1030        0.3062         0.6829        0.9705\n",
      "P-value (F-stat)                0.7482        0.5800         0.4086        0.3246\n",
      "=====================     ============   ===========   ============   ===========\n",
      "const                        0.0403***                                           \n",
      "                              (0.0006)                                           \n",
      "public_mean                    -0.0004        0.0007        -0.0011       0.0013*\n",
      "                              (0.0012)      (0.0014)       (0.0043)      (0.0008)\n",
      "======================= ============== ============= ============== =============\n",
      "Effects                                       Entity           Time        Entity\n",
      "                                                                             Time\n",
      "---------------------------------------------------------------------------------\n",
      "\n",
      "Std. Errors reported in parentheses\n",
      "                                Model Comparison                               \n",
      "===============================================================================\n",
      "                               model1        model2        model3        model4\n",
      "-------------------------------------------------------------------------------\n",
      "Dep. Variable               Submitted     Submitted     Submitted     Submitted\n",
      "Estimator                    PanelOLS      PanelOLS      PanelOLS      PanelOLS\n",
      "No. Observations               112343        112343        112343        112343\n",
      "Cov. Est.                      Robust     Clustered     Clustered     Clustered\n",
      "R-squared                      0.0002        0.0004        0.0002        0.0006\n",
      "R-Squared (Within)             0.0004        0.0004        0.0004        0.0004\n",
      "R-Squared (Between)           -0.3967        0.0056        0.0038        0.0072\n",
      "R-Squared (Overall)            0.0002        0.0074        0.0052        0.0093\n",
      "F-statistic                    25.997        47.962        19.884        72.197\n",
      "P-value (F-stat)               0.0000        0.0000        0.0000        0.0000\n",
      "=====================     ===========   ===========   ===========   ===========\n",
      "const                       0.0375***                                          \n",
      "                             (0.0008)                                          \n",
      "emotions_t1_mean            0.0253***     0.0346***       0.0233*     0.0446***\n",
      "                             (0.0049)      (0.0079)      (0.0123)      (0.0081)\n",
      "======================= ============= ============= ============= =============\n",
      "Effects                                      Entity          Time        Entity\n",
      "                                                                           Time\n",
      "-------------------------------------------------------------------------------\n",
      "\n",
      "Std. Errors reported in parentheses\n"
     ]
    }
   ],
   "source": [
    "for feature in feature_list:\n",
    "\n",
    "    target =  'Submitted' #'uniformed_dummy'\n",
    "\n",
    "    X = bodies_df.loc[:,feature] \n",
    "    X = sm.add_constant(X)\n",
    "    y = bodies_df.loc[:, target]\n",
    "\n",
    "    m = PanelOLS(dependent=y, exog=X, entity_effects=False, time_effects=False, drop_absorbed = True)\n",
    "    model1 =  m.fit(cov_type='robust')\n",
    "\n",
    "    X = bodies_df.loc[:,feature] \n",
    "    #X = sm.add_constant(X)\n",
    "    y = bodies_df.loc[:, target]\n",
    "\n",
    "    m = PanelOLS(dependent=y, exog=X, entity_effects=True, time_effects=False, drop_absorbed = True)\n",
    "    model2 =  m.fit(cov_type='clustered', cluster_entity=True)\n",
    "\n",
    "\n",
    "    X = bodies_df.loc[:,feature] \n",
    "    #X = sm.add_constant(X)\n",
    "    y = bodies_df.loc[:, target]\n",
    "\n",
    "    m = PanelOLS(dependent=y, exog=X, entity_effects=False, time_effects=True, drop_absorbed = True)\n",
    "    model3 =  m.fit(cov_type='clustered', cluster_entity=False, cluster_time = True)\n",
    "\n",
    "\n",
    "    X = bodies_df.loc[:,feature] \n",
    "    #X = sm.add_constant(X)\n",
    "    y = bodies_df.loc[:, target]\n",
    "\n",
    "    m = PanelOLS(dependent=y, exog=X, entity_effects=True, time_effects=True, drop_absorbed = True)\n",
    "    model4 =  m.fit(cov_type='clustered', cluster_entity=True,  cluster_time = True)\n",
    "\n",
    "\n",
    "    print(compare({\"model1\": model1, \"model2\": model2, \"model3\": model3, \"model4\": model4}, precision = 'std_errors', stars = True))"
   ]
  },
  {
   "cell_type": "code",
   "execution_count": null,
   "metadata": {},
   "outputs": [],
   "source": []
  },
  {
   "cell_type": "code",
   "execution_count": null,
   "metadata": {},
   "outputs": [],
   "source": []
  },
  {
   "cell_type": "code",
   "execution_count": null,
   "metadata": {},
   "outputs": [],
   "source": []
  },
  {
   "cell_type": "markdown",
   "metadata": {},
   "source": [
    "# NEW THING FOR INTRODUCTION TO"
   ]
  },
  {
   "cell_type": "code",
   "execution_count": 128,
   "metadata": {},
   "outputs": [
    {
     "name": "stdout",
     "output_type": "stream",
     "text": [
      "                                Model Comparison                               \n",
      "===============================================================================\n",
      "                               model1        model2        model3        model4\n",
      "-------------------------------------------------------------------------------\n",
      "Dep. Variable               Submitted     Submitted     Submitted     Submitted\n",
      "Estimator                    PanelOLS      PanelOLS      PanelOLS      PanelOLS\n",
      "No. Observations               112343        112343        112343        112343\n",
      "Cov. Est.                      Robust     Clustered     Clustered     Clustered\n",
      "R-squared                      0.0005        0.0008        0.0003        0.0008\n",
      "R-Squared (Within)             0.0008        0.0008        0.0007        0.0008\n",
      "R-Squared (Between)           -0.3958       -0.0079       -0.0050       -0.0085\n",
      "R-Squared (Overall)            0.0005       -0.0045       -0.0027       -0.0049\n",
      "F-statistic                    60.122        90.179        33.314        92.822\n",
      "P-value (F-stat)               0.0000        0.0000        0.0000        0.0000\n",
      "=====================     ===========   ===========   ===========   ===========\n",
      "const                       0.0422***                                          \n",
      "                             (0.0007)                                          \n",
      "mass_protest_mean           0.0170***     0.0209***        0.0134     0.0224***\n",
      "                             (0.0020)      (0.0045)      (0.0123)      (0.0030)\n",
      "======================= ============= ============= ============= =============\n",
      "Effects                                      Entity          Time        Entity\n",
      "                                                                           Time\n",
      "-------------------------------------------------------------------------------\n",
      "\n",
      "Std. Errors reported in parentheses\n"
     ]
    }
   ],
   "source": [
    "#feature = ['damaged_property_mean', 'rural_mean']\n",
    "\n",
    "feature = ['mass_protest_mean']\n",
    "\n",
    "target =  'Submitted' #'uniformed_dummy'\n",
    "\n",
    "\n",
    "X = bodies_df.loc[:,feature] \n",
    "X = sm.add_constant(X)\n",
    "y = bodies_df.loc[:, target]\n",
    "\n",
    "m = PanelOLS(dependent=y, exog=X, entity_effects=False, time_effects=False, drop_absorbed = True)\n",
    "model1 =  m.fit(cov_type='robust')\n",
    "\n",
    "X = bodies_df.loc[:,feature] \n",
    "#X = sm.add_constant(X)\n",
    "y = bodies_df.loc[:, target]\n",
    "\n",
    "m = PanelOLS(dependent=y, exog=X, entity_effects=True, time_effects=False, drop_absorbed = True)\n",
    "model2 =  m.fit(cov_type='clustered', cluster_entity=True)\n",
    "\n",
    "\n",
    "X = bodies_df.loc[:,feature] \n",
    "#X = sm.add_constant(X)\n",
    "y = bodies_df.loc[:, target]\n",
    "\n",
    "m = PanelOLS(dependent=y, exog=X, entity_effects=False, time_effects=True, drop_absorbed = True)\n",
    "model3 =  m.fit(cov_type='clustered', cluster_entity=False, cluster_time = True)\n",
    "\n",
    "\n",
    "X = bodies_df.loc[:,feature] \n",
    "#X = sm.add_constant(X)\n",
    "y = bodies_df.loc[:, target]\n",
    "\n",
    "m = PanelOLS(dependent=y, exog=X, entity_effects=True, time_effects=True, drop_absorbed = True)\n",
    "model4 =  m.fit(cov_type='clustered', cluster_entity=True,  cluster_time = True)\n",
    "\n",
    "\n",
    "print(compare({\"model1\": model1, \"model2\": model2, \"model3\": model3, \"model4\": model4}, precision = 'std_errors', stars = True))"
   ]
  },
  {
   "cell_type": "code",
   "execution_count": 134,
   "metadata": {},
   "outputs": [
    {
     "name": "stdout",
     "output_type": "stream",
     "text": [
      "                                                Model Comparison                                               \n",
      "===============================================================================================================\n",
      "                               model1        model2         model3         model4         model5         model6\n",
      "---------------------------------------------------------------------------------------------------------------\n",
      "Dep. Variable               Submitted     Submitted      Submitted      Submitted      Submitted      Submitted\n",
      "Estimator                    PanelOLS      PanelOLS       PanelOLS       PanelOLS       PanelOLS       PanelOLS\n",
      "No. Observations               112343        112343         112343         112343         112343         112343\n",
      "Cov. Est.                   Clustered     Clustered      Clustered      Clustered      Clustered      Clustered\n",
      "R-squared                      0.0008        0.0010         0.0016         0.0016         0.0016         0.0017\n",
      "R-Squared (Within)             0.0008        0.0011         0.0018         0.0022         0.0019      8.921e-05\n",
      "R-Squared (Between)           -0.0085       -0.0168        -0.0263        -0.0222        -0.0245        -0.0403\n",
      "R-Squared (Overall)           -0.0049       -0.0118        -0.0192         0.0066        -0.0098        -0.0842\n",
      "F-statistic                    92.822        55.956         60.228         45.928         45.250         46.559\n",
      "P-value (F-stat)               0.0000        0.0000         0.0000         0.0000         0.0000         0.0000\n",
      "=====================     ===========   ===========   ============   ============   ============   ============\n",
      "mass_protest_mean           0.0224***     0.0264***      0.0456***      0.0456***      0.0457***      0.0455***\n",
      "                             (0.0030)      (0.0016)       (0.0043)       (0.0043)       (0.0037)       (0.0040)\n",
      "person_mean                               -0.0013**      -0.0015**      -0.0015**      -0.0015**      -0.0015**\n",
      "                                           (0.0006)       (0.0006)       (0.0006)       (0.0006)       (0.0006)\n",
      "public_mean                                             -0.0152***     -0.0152***     -0.0152***     -0.0151***\n",
      "                                                          (0.0026)       (0.0023)       (0.0022)       (0.0023)\n",
      "log_best                                                                   0.0042                              \n",
      "                                                                         (0.0290)                              \n",
      "tce                                                                                       0.0014               \n",
      "                                                                                        (0.0272)               \n",
      "tsce                                                                                                    -0.0135\n",
      "                                                                                                       (0.0445)\n",
      "======================= ============= ============= ============== ============== ============== ==============\n",
      "Effects                        Entity        Entity         Entity         Entity         Entity         Entity\n",
      "                                 Time          Time           Time           Time           Time           Time\n",
      "---------------------------------------------------------------------------------------------------------------\n",
      "\n",
      "Std. Errors reported in parentheses\n"
     ]
    }
   ],
   "source": [
    "feature = ['mass_protest_mean']\n",
    "\n",
    "target =  'Submitted' #'uniformed_dummy'\n",
    "\n",
    "\n",
    "X = bodies_df.loc[:,feature] \n",
    "#X = sm.add_constant(X)\n",
    "y = bodies_df.loc[:, target]\n",
    "\n",
    "m = PanelOLS(dependent=y, exog=X, entity_effects=True, time_effects=True, drop_absorbed = True)\n",
    "model1 =  m.fit(cov_type='clustered', cluster_entity=True,  cluster_time = True)\n",
    "\n",
    "X = bodies_df.loc[:,feature + ['person_mean']] \n",
    "#X = sm.add_constant(X)\n",
    "y = bodies_df.loc[:, target]\n",
    "\n",
    "m = PanelOLS(dependent=y, exog=X, entity_effects=True, time_effects=True, drop_absorbed = True)\n",
    "model2 =  m.fit(cov_type='clustered', cluster_entity=True,  cluster_time = True)\n",
    "\n",
    "X = bodies_df.loc[:,feature+ ['person_mean', 'public_mean']] \n",
    "#X = sm.add_constant(X)\n",
    "y = bodies_df.loc[:, target]\n",
    "\n",
    "m = PanelOLS(dependent=y, exog=X, entity_effects=True, time_effects=True, drop_absorbed = True)\n",
    "model3 =  m.fit(cov_type='clustered', cluster_entity=True,  cluster_time = True)\n",
    "\n",
    "X = bodies_df.loc[:,feature+ ['person_mean', 'public_mean', 'log_best']] \n",
    "#X = sm.add_constant(X)\n",
    "y = bodies_df.loc[:, target]\n",
    "\n",
    "m = PanelOLS(dependent=y, exog=X, entity_effects=True, time_effects=True, drop_absorbed = True)\n",
    "model4 =  m.fit(cov_type='clustered', cluster_entity=True,  cluster_time = True)\n",
    "\n",
    "\n",
    "X = bodies_df.loc[:,feature+ ['person_mean', 'public_mean', 'tce']] \n",
    "#X = sm.add_constant(X)\n",
    "y = bodies_df.loc[:, target]\n",
    "\n",
    "m = PanelOLS(dependent=y, exog=X, entity_effects=True, time_effects=True, drop_absorbed = True)\n",
    "model5 =  m.fit(cov_type='clustered', cluster_entity=True,  cluster_time = True)\n",
    "\n",
    "\n",
    "X = bodies_df.loc[:,feature+ ['person_mean', 'public_mean', 'tsce']] \n",
    "#X = sm.add_constant(X)\n",
    "y = bodies_df.loc[:, target]\n",
    "\n",
    "m = PanelOLS(dependent=y, exog=X, entity_effects=True, time_effects=True, drop_absorbed = True)\n",
    "model6 =  m.fit(cov_type='clustered', cluster_entity=True,  cluster_time = True)\n",
    "\n",
    "print(compare({\"model1\": model1, \"model2\": model2, \"model3\": model3, \"model4\": model4, \"model5\": model5, \"model6\": model6}, precision = 'std_errors', stars = True))"
   ]
  },
  {
   "cell_type": "code",
   "execution_count": 135,
   "metadata": {},
   "outputs": [
    {
     "name": "stdout",
     "output_type": "stream",
     "text": [
      "                                                Model Comparison                                               \n",
      "===============================================================================================================\n",
      "                               model1        model2         model3         model4         model5         model6\n",
      "---------------------------------------------------------------------------------------------------------------\n",
      "Dep. Variable               Submitted     Submitted      Submitted      Submitted      Submitted      Submitted\n",
      "Estimator                    PanelOLS      PanelOLS       PanelOLS       PanelOLS       PanelOLS       PanelOLS\n",
      "No. Observations               112343        112343         112343         112343         112343         112343\n",
      "Cov. Est.                   Clustered     Clustered      Clustered      Clustered      Clustered      Clustered\n",
      "R-squared                      0.0008        0.0011         0.0018         0.0023         0.0020         0.0023\n",
      "R-Squared (Within)             0.0008        0.0011         0.0018         0.0023         0.0020         0.0023\n",
      "R-Squared (Between)           -0.0079       -0.0189        -0.0290        -0.0252        -0.0241        -0.0175\n",
      "R-Squared (Overall)           -0.0045       -0.0137        -0.0218         0.0009         0.0012         0.0129\n",
      "F-statistic                    90.179        61.622         68.933         64.128         56.814         63.958\n",
      "P-value (F-stat)               0.0000        0.0000         0.0000         0.0000         0.0000         0.0000\n",
      "=====================     ===========   ===========   ============   ============   ============   ============\n",
      "mass_protest_mean           0.0209***     0.0261***      0.0469***      0.0449***      0.0456***      0.0447***\n",
      "                             (0.0045)      (0.0038)       (0.0054)       (0.0054)       (0.0056)       (0.0056)\n",
      "person_mean                               -0.0017**      -0.0019**     -0.0019***     -0.0019***     -0.0019***\n",
      "                                           (0.0007)       (0.0007)       (0.0007)       (0.0007)       (0.0007)\n",
      "public_mean                                             -0.0164***     -0.0160***     -0.0159***     -0.0155***\n",
      "                                                          (0.0020)       (0.0020)       (0.0021)       (0.0020)\n",
      "log_best                                                                0.0034***                              \n",
      "                                                                         (0.0003)                              \n",
      "tce                                                                                    0.0036***               \n",
      "                                                                                        (0.0013)               \n",
      "tsce                                                                                                  0.0110***\n",
      "                                                                                                       (0.0019)\n",
      "======================= ============= ============= ============== ============== ============== ==============\n",
      "Effects                        Entity        Entity         Entity         Entity         Entity         Entity\n",
      "---------------------------------------------------------------------------------------------------------------\n",
      "\n",
      "Std. Errors reported in parentheses\n"
     ]
    }
   ],
   "source": [
    "feature = ['mass_protest_mean']\n",
    "\n",
    "target =  'Submitted' #'uniformed_dummy'\n",
    "\n",
    "\n",
    "X = bodies_df.loc[:,feature] \n",
    "#X = sm.add_constant(X)\n",
    "y = bodies_df.loc[:, target]\n",
    "\n",
    "m = PanelOLS(dependent=y, exog=X, entity_effects=True, time_effects=False, drop_absorbed = True)\n",
    "model1 =  m.fit(cov_type='clustered', cluster_entity=True,  cluster_time = False)\n",
    "\n",
    "X = bodies_df.loc[:,feature + ['person_mean']] \n",
    "#X = sm.add_constant(X)\n",
    "y = bodies_df.loc[:, target]\n",
    "\n",
    "m = PanelOLS(dependent=y, exog=X, entity_effects=True, time_effects=False, drop_absorbed = True)\n",
    "model2 =  m.fit(cov_type='clustered', cluster_entity=True,  cluster_time = False)\n",
    "\n",
    "X = bodies_df.loc[:,feature+ ['person_mean', 'public_mean']] \n",
    "#X = sm.add_constant(X)\n",
    "y = bodies_df.loc[:, target]\n",
    "\n",
    "m = PanelOLS(dependent=y, exog=X, entity_effects=True, time_effects=False, drop_absorbed = True)\n",
    "model3 =  m.fit(cov_type='clustered', cluster_entity=True,  cluster_time = False)\n",
    "\n",
    "X = bodies_df.loc[:,feature+ ['person_mean', 'public_mean', 'log_best']] \n",
    "#X = sm.add_constant(X)\n",
    "y = bodies_df.loc[:, target]\n",
    "\n",
    "m = PanelOLS(dependent=y, exog=X, entity_effects=True, time_effects=False, drop_absorbed = True)\n",
    "model4 =  m.fit(cov_type='clustered', cluster_entity=True,  cluster_time = False)\n",
    "\n",
    "\n",
    "X = bodies_df.loc[:,feature+ ['person_mean', 'public_mean', 'tce']] \n",
    "#X = sm.add_constant(X)\n",
    "y = bodies_df.loc[:, target]\n",
    "\n",
    "m = PanelOLS(dependent=y, exog=X, entity_effects=True, time_effects=False, drop_absorbed = True)\n",
    "model5 =  m.fit(cov_type='clustered', cluster_entity=True,  cluster_time = False)\n",
    "\n",
    "\n",
    "X = bodies_df.loc[:,feature+ ['person_mean', 'public_mean', 'tsce']] \n",
    "#X = sm.add_constant(X)\n",
    "y = bodies_df.loc[:, target]\n",
    "\n",
    "m = PanelOLS(dependent=y, exog=X, entity_effects=True, time_effects=False, drop_absorbed = True)\n",
    "model6 =  m.fit(cov_type='clustered', cluster_entity=True,  cluster_time = False)\n",
    "\n",
    "print(compare({\"model1\": model1, \"model2\": model2, \"model3\": model3, \"model4\": model4, \"model5\": model5, \"model6\": model6}, precision = 'std_errors', stars = True))"
   ]
  },
  {
   "cell_type": "code",
   "execution_count": 137,
   "metadata": {},
   "outputs": [
    {
     "name": "stdout",
     "output_type": "stream",
     "text": [
      "                                         Model Comparison                                         \n",
      "==================================================================================================\n",
      "                           model1       model2       model3       model4       model5       model6\n",
      "--------------------------------------------------------------------------------------------------\n",
      "Dep. Variable           Submitted    Submitted    Submitted    Submitted    Submitted    Submitted\n",
      "Estimator                PanelOLS     PanelOLS     PanelOLS     PanelOLS     PanelOLS     PanelOLS\n",
      "No. Observations           112343       112343       112343       112343       112343       112343\n",
      "Cov. Est.                  Robust       Robust       Robust       Robust       Robust       Robust\n",
      "R-squared                  0.0005       0.0010       0.0016       0.0020       0.0026       0.0019\n",
      "R-Squared (Within)         0.0008       0.0011       0.0018       0.0010       0.0010       0.0013\n",
      "R-Squared (Between)       -0.3958      -0.3973      -0.3992      -0.3789      -0.3626      -0.3797\n",
      "R-Squared (Overall)        0.0005       0.0010       0.0016       0.0020       0.0026       0.0019\n",
      "F-statistic                60.122       54.228       61.225       57.044       72.429       53.445\n",
      "P-value (F-stat)           0.0000       0.0000       0.0000       0.0000       0.0000       0.0000\n",
      "===================== =========== ============ ============ ============ ============ ============\n",
      "const                   0.0422***    0.0475***    0.0509***    0.0588***    0.0658***    0.0597***\n",
      "                         (0.0007)     (0.0010)     (0.0011)     (0.0018)     (0.0021)     (0.0022)\n",
      "mass_protest_mean       0.0170***    0.0234***    0.0429***    0.0459***    0.0470***    0.0452***\n",
      "                         (0.0020)     (0.0022)     (0.0032)     (0.0033)     (0.0033)     (0.0033)\n",
      "person_mean                         -0.0020***   -0.0022***   -0.0022***   -0.0021***   -0.0021***\n",
      "                                      (0.0003)     (0.0003)     (0.0003)     (0.0003)     (0.0003)\n",
      "public_mean                                      -0.0156***   -0.0166***   -0.0176***   -0.0167***\n",
      "                                                   (0.0017)     (0.0018)     (0.0018)     (0.0018)\n",
      "log_best                                                      -0.0024***                          \n",
      "                                                                (0.0004)                          \n",
      "tce                                                                        -0.0048***             \n",
      "                                                                             (0.0005)             \n",
      "tsce                                                                                    -0.0054***\n",
      "                                                                                          (0.0011)\n",
      "--------------------------------------------------------------------------------------------------\n",
      "\n",
      "Std. Errors reported in parentheses\n"
     ]
    }
   ],
   "source": [
    "feature = ['mass_protest_mean']\n",
    "\n",
    "target =  'Submitted' #'uniformed_dummy'\n",
    "\n",
    "\n",
    "X = bodies_df.loc[:,feature] \n",
    "X = sm.add_constant(X)\n",
    "y = bodies_df.loc[:, target]\n",
    "\n",
    "m = PanelOLS(dependent=y, exog=X, entity_effects=False, time_effects=False, drop_absorbed = True)\n",
    "model1 =  m.fit(cov_type='robust')\n",
    "\n",
    "X = bodies_df.loc[:,feature + ['person_mean']] \n",
    "X = sm.add_constant(X)\n",
    "y = bodies_df.loc[:, target]\n",
    "\n",
    "m = PanelOLS(dependent=y, exog=X, entity_effects=False, time_effects=False, drop_absorbed = True)\n",
    "model2 =  m.fit(cov_type='robust')\n",
    "\n",
    "X = bodies_df.loc[:,feature+ ['person_mean', 'public_mean']] \n",
    "X = sm.add_constant(X)\n",
    "y = bodies_df.loc[:, target]\n",
    "\n",
    "m = PanelOLS(dependent=y, exog=X, entity_effects=False, time_effects=False, drop_absorbed = True)\n",
    "model3 =  m.fit(cov_type='robust')\n",
    "\n",
    "X = bodies_df.loc[:,feature+ ['person_mean', 'public_mean', 'log_best']] \n",
    "X = sm.add_constant(X)\n",
    "y = bodies_df.loc[:, target]\n",
    "\n",
    "m = PanelOLS(dependent=y, exog=X, entity_effects=False, time_effects=False, drop_absorbed = True)\n",
    "model4 =  m.fit(cov_type='robust')\n",
    "\n",
    "\n",
    "X = bodies_df.loc[:,feature+ ['person_mean', 'public_mean', 'tce']] \n",
    "X = sm.add_constant(X)\n",
    "y = bodies_df.loc[:, target]\n",
    "\n",
    "m = PanelOLS(dependent=y, exog=X, entity_effects=False, time_effects=False, drop_absorbed = True)\n",
    "model5 =  m.fit(cov_type='robust')\n",
    "\n",
    "\n",
    "X = bodies_df.loc[:,feature+ ['person_mean', 'public_mean', 'tsce']] \n",
    "X = sm.add_constant(X)\n",
    "y = bodies_df.loc[:, target]\n",
    "\n",
    "m = PanelOLS(dependent=y, exog=X, entity_effects=False, time_effects=False, drop_absorbed = True)\n",
    "model6 =  m.fit(cov_type='robust')\n",
    "\n",
    "print(compare({\"model1\": model1, \"model2\": model2, \"model3\": model3, \"model4\": model4, \"model5\": model5, \"model6\": model6}, precision = 'std_errors', stars = True))"
   ]
  },
  {
   "cell_type": "code",
   "execution_count": null,
   "metadata": {},
   "outputs": [],
   "source": []
  },
  {
   "cell_type": "code",
   "execution_count": null,
   "metadata": {},
   "outputs": [],
   "source": []
  },
  {
   "cell_type": "code",
   "execution_count": null,
   "metadata": {},
   "outputs": [],
   "source": []
  },
  {
   "cell_type": "code",
   "execution_count": null,
   "metadata": {},
   "outputs": [],
   "source": []
  },
  {
   "cell_type": "code",
   "execution_count": null,
   "metadata": {},
   "outputs": [],
   "source": []
  },
  {
   "cell_type": "code",
   "execution_count": null,
   "metadata": {},
   "outputs": [],
   "source": []
  },
  {
   "cell_type": "code",
   "execution_count": null,
   "metadata": {},
   "outputs": [],
   "source": []
  },
  {
   "cell_type": "code",
   "execution_count": null,
   "metadata": {},
   "outputs": [],
   "source": []
  },
  {
   "cell_type": "code",
   "execution_count": null,
   "metadata": {},
   "outputs": [],
   "source": []
  },
  {
   "cell_type": "code",
   "execution_count": null,
   "metadata": {},
   "outputs": [],
   "source": []
  },
  {
   "cell_type": "code",
   "execution_count": 25,
   "metadata": {},
   "outputs": [
    {
     "name": "stdout",
     "output_type": "stream",
     "text": [
      "                                                                     Model Comparison                                                                     \n",
      "==========================================================================================================================================================\n",
      "                            model1                  model2                  model3                  model4                  model5                  model6\n",
      "----------------------------------------------------------------------------------------------------------------------------------------------------------\n",
      "Dep. Variable             log_best   damaged_property_mean   damaged_property_mean   damaged_property_mean   damaged_property_mean   damaged_property_mean\n",
      "Estimator                 PanelOLS                PanelOLS                PanelOLS                PanelOLS                PanelOLS                PanelOLS\n",
      "No. Observations            112343                  112343                  112343                  112343                  112343                  112343\n",
      "Cov. Est.                   Robust                  Robust                  Robust                  Robust                  Robust                  Robust\n",
      "R-squared                   0.0009                  0.0448                  0.2264                  0.2306                  0.2348                  0.2347\n",
      "R-Squared (Within)          0.0019                  0.0367                  0.1989                  0.2005                  0.2045                  0.2041\n",
      "R-Squared (Between)        -2.4713                  0.0426                  0.4068                  0.3785                  0.3683                  0.3634\n",
      "R-Squared (Overall)         0.0009                  0.0448                  0.2264                  0.2306                  0.2348                  0.2347\n",
      "F-statistic                 95.782                  2637.3               1.096e+04                  8416.1                  8615.8                  8613.1\n",
      "P-value (F-stat)            0.0000                  0.0000                  0.0000                  0.0000                  0.0000                  0.0000\n",
      "===================== ============ ======================= ======================= ======================= ======================= =======================\n",
      "const                    3.2206***               0.5681***               0.5145***               0.5922***               0.6221***               0.6363***\n",
      "                          (0.0063)                (0.0049)                (0.0048)                (0.0058)                (0.0058)                (0.0061)\n",
      "uniformed_dummy         -0.0999***                                       0.5328***               0.5211***               0.5175***               0.5181***\n",
      "                          (0.0102)                                        (0.0034)                (0.0034)                (0.0034)                (0.0034)\n",
      "log_best                                        -0.0257***              -0.0177***              -0.0116***                                                \n",
      "                                                  (0.0011)                (0.0010)                (0.0010)                                                \n",
      "person_dummy                                    -0.3037***              -0.5082***              -0.5057***              -0.4966***              -0.4956***\n",
      "                                                  (0.0043)                (0.0044)                (0.0044)                (0.0044)                (0.0044)\n",
      "nlights_mean                                                                                    -0.0049***              -0.0028***              -0.0031***\n",
      "                                                                                                  (0.0002)                (0.0002)                (0.0002)\n",
      "tce                                                                                                                     -0.0376***                        \n",
      "                                                                                                                          (0.0014)                        \n",
      "tsce                                                                                                                                            -0.0765***\n",
      "                                                                                                                                                  (0.0029)\n",
      "----------------------------------------------------------------------------------------------------------------------------------------------------------\n",
      "\n",
      "Std. Errors reported in parentheses\n"
     ]
    }
   ],
   "source": [
    "# POOLD\n",
    "\n",
    "X = bodies_df.loc[:,['uniformed_dummy']] \n",
    "X = sm.add_constant(X)\n",
    "y = bodies_df.loc[:, 'log_best']\n",
    "\n",
    "m = PanelOLS(dependent=y, exog=X, entity_effects=False, time_effects=False, drop_absorbed = True)\n",
    "model1 =  m.fit(cov_type='robust')\n",
    "\n",
    "X = bodies_df.loc[:,[ 'log_best', 'person_dummy']] \n",
    "X = sm.add_constant(X)\n",
    "\n",
    "y = bodies_df.loc[:, 'damaged_property_mean']\n",
    "\n",
    "m = PanelOLS(dependent=y, exog=X, entity_effects=False, time_effects=False, drop_absorbed = True)\n",
    "model2 = m.fit(cov_type='robust')\n",
    "\n",
    "X = bodies_df.loc[:,[ 'log_best', 'person_dummy', 'uniformed_dummy']] \n",
    "X = sm.add_constant(X)\n",
    "\n",
    "y = bodies_df.loc[:, 'damaged_property_mean']\n",
    "\n",
    "m = PanelOLS(dependent=y, exog=X, entity_effects=False, time_effects=False, drop_absorbed = True)\n",
    "model3 = m.fit(cov_type='robust')\n",
    "\n",
    "X = bodies_df.loc[:,[ 'log_best', 'person_dummy', 'uniformed_dummy', 'nlights_mean']] \n",
    "X = sm.add_constant(X)\n",
    "\n",
    "y = bodies_df.loc[:, 'damaged_property_mean']\n",
    "\n",
    "m = PanelOLS(dependent=y, exog=X, entity_effects=False, time_effects=False, drop_absorbed = True)\n",
    "model4 = m.fit(cov_type='robust')\n",
    "\n",
    "X = bodies_df.loc[:,[ 'tce', 'person_dummy', 'uniformed_dummy', 'nlights_mean']] \n",
    "X = sm.add_constant(X)\n",
    "\n",
    "y = bodies_df.loc[:, 'damaged_property_mean']\n",
    "\n",
    "m = PanelOLS(dependent=y, exog=X, entity_effects=False, time_effects=False, drop_absorbed = True)\n",
    "model5 = m.fit(cov_type='robust')\n",
    "\n",
    "X = bodies_df.loc[:,[ 'tsce', 'person_dummy', 'uniformed_dummy', 'nlights_mean']] \n",
    "X = sm.add_constant(X)\n",
    "\n",
    "y = bodies_df.loc[:, 'damaged_property_mean']\n",
    "\n",
    "m = PanelOLS(dependent=y, exog=X, entity_effects=False, time_effects=False, drop_absorbed = True)\n",
    "model6 = m.fit(cov_type='robust')\n",
    "\n",
    "print(compare({\"model1\": model1, \"model2\": model2, \"model3\": model3, \"model4\": model4, \"model5\": model5, \"model6\": model6}, precision = 'std_errors', stars = True))"
   ]
  },
  {
   "cell_type": "code",
   "execution_count": null,
   "metadata": {},
   "outputs": [],
   "source": []
  },
  {
   "cell_type": "code",
   "execution_count": null,
   "metadata": {},
   "outputs": [],
   "source": []
  },
  {
   "cell_type": "code",
   "execution_count": null,
   "metadata": {},
   "outputs": [],
   "source": []
  },
  {
   "cell_type": "code",
   "execution_count": null,
   "metadata": {},
   "outputs": [],
   "source": []
  },
  {
   "cell_type": "code",
   "execution_count": null,
   "metadata": {},
   "outputs": [],
   "source": []
  },
  {
   "cell_type": "code",
   "execution_count": null,
   "metadata": {},
   "outputs": [],
   "source": []
  },
  {
   "cell_type": "code",
   "execution_count": null,
   "metadata": {},
   "outputs": [],
   "source": []
  },
  {
   "cell_type": "markdown",
   "metadata": {},
   "source": [
    "## Destroyd property "
   ]
  },
  {
   "cell_type": "code",
   "execution_count": null,
   "metadata": {},
   "outputs": [],
   "source": [
    "# POOLD\n",
    "\n",
    "X = bodies_df.loc[:,['log_best']] \n",
    "X = sm.add_constant(X)\n",
    "y = bodies_df.loc[:, 'damaged_property_mean']\n",
    "\n",
    "m = PanelOLS(dependent=y, exog=X, entity_effects=False, time_effects=False, drop_absorbed = True)\n",
    "model1 =  m.fit(cov_type='robust')\n",
    "\n",
    "X = bodies_df.loc[:,[ 'log_best', 'person_dummy']] \n",
    "X = sm.add_constant(X)\n",
    "\n",
    "y = bodies_df.loc[:, 'damaged_property_mean']\n",
    "\n",
    "m = PanelOLS(dependent=y, exog=X, entity_effects=False, time_effects=False, drop_absorbed = True)\n",
    "model2 = m.fit(cov_type='robust')\n",
    "\n",
    "X = bodies_df.loc[:,[ 'log_best', 'person_dummy', 'uniformed_dummy']] \n",
    "X = sm.add_constant(X)\n",
    "\n",
    "y = bodies_df.loc[:, 'damaged_property_mean']\n",
    "\n",
    "m = PanelOLS(dependent=y, exog=X, entity_effects=False, time_effects=False, drop_absorbed = True)\n",
    "model3 = m.fit(cov_type='robust')\n",
    "\n",
    "X = bodies_df.loc[:,[ 'log_best', 'person_dummy', 'uniformed_dummy', 'nlights_mean']] \n",
    "X = sm.add_constant(X)\n",
    "\n",
    "y = bodies_df.loc[:, 'damaged_property_mean']\n",
    "\n",
    "m = PanelOLS(dependent=y, exog=X, entity_effects=False, time_effects=False, drop_absorbed = True)\n",
    "model4 = m.fit(cov_type='robust')\n",
    "\n",
    "X = bodies_df.loc[:,[ 'tce', 'person_dummy', 'uniformed_dummy', 'nlights_mean']] \n",
    "X = sm.add_constant(X)\n",
    "\n",
    "y = bodies_df.loc[:, 'damaged_property_mean']\n",
    "\n",
    "m = PanelOLS(dependent=y, exog=X, entity_effects=False, time_effects=False, drop_absorbed = True)\n",
    "model5 = m.fit(cov_type='robust')\n",
    "\n",
    "X = bodies_df.loc[:,[ 'tsce', 'person_dummy', 'uniformed_dummy', 'nlights_mean']] \n",
    "X = sm.add_constant(X)\n",
    "\n",
    "y = bodies_df.loc[:, 'damaged_property_mean']\n",
    "\n",
    "m = PanelOLS(dependent=y, exog=X, entity_effects=False, time_effects=False, drop_absorbed = True)\n",
    "model6 = m.fit(cov_type='robust')\n",
    "\n",
    "print(compare({\"model1\": model1, \"model2\": model2, \"model3\": model3, \"model4\": model4, \"model5\": model5, \"model6\": model6}, precision = 'std_errors', stars = True))"
   ]
  },
  {
   "cell_type": "code",
   "execution_count": null,
   "metadata": {},
   "outputs": [],
   "source": [
    "# FE Entity\n",
    "\n",
    "X = bodies_df.loc[:,['log_best']] \n",
    "#X = sm.add_constant(X)\n",
    "y = bodies_df.loc[:, 'damaged_property_mean']\n",
    "\n",
    "m = PanelOLS(dependent=y, exog=X, entity_effects=True, time_effects=False, drop_absorbed = True)\n",
    "model1 =  m.fit(cov_type='clustered', cluster_time=False, cluster_entity=True)\n",
    "\n",
    "X = bodies_df.loc[:,[ 'log_best', 'person_dummy']] \n",
    "#X = sm.add_constant(X)\n",
    "\n",
    "y = bodies_df.loc[:, 'damaged_property_mean']\n",
    "\n",
    "m = PanelOLS(dependent=y, exog=X, entity_effects=True, time_effects=False, drop_absorbed = True)\n",
    "model2 = m.fit(cov_type='clustered', cluster_time=False, cluster_entity=True)\n",
    "\n",
    "X = bodies_df.loc[:,[ 'log_best', 'person_dummy', 'uniformed_dummy']] \n",
    "#X = sm.add_constant(X)\n",
    "\n",
    "y = bodies_df.loc[:, 'damaged_property_mean']\n",
    "\n",
    "m = PanelOLS(dependent=y, exog=X, entity_effects=True, time_effects=False, drop_absorbed = True)\n",
    "model3 = m.fit(cov_type='clustered', cluster_time=False, cluster_entity=True)\n",
    "\n",
    "X = bodies_df.loc[:,[ 'log_best', 'person_dummy', 'uniformed_dummy', 'nlights_mean']] \n",
    "#X = sm.add_constant(X)\n",
    "\n",
    "y = bodies_df.loc[:, 'damaged_property_mean']\n",
    "\n",
    "m = PanelOLS(dependent=y, exog=X, entity_effects=True, time_effects=False, drop_absorbed = True)\n",
    "model4 = m.fit(cov_type='clustered', cluster_time=False, cluster_entity=True)\n",
    "\n",
    "X = bodies_df.loc[:,[ 'tce', 'person_dummy', 'uniformed_dummy', 'nlights_mean']] \n",
    "#X = sm.add_constant(X)\n",
    "\n",
    "y = bodies_df.loc[:, 'damaged_property_mean']\n",
    "\n",
    "m = PanelOLS(dependent=y, exog=X, entity_effects=True, time_effects=False, drop_absorbed = True)\n",
    "model5 = m.fit(cov_type='clustered', cluster_time=False, cluster_entity=True)\n",
    "\n",
    "X = bodies_df.loc[:,[ 'tsce', 'person_dummy', 'uniformed_dummy', 'nlights_mean']] \n",
    "#X = sm.add_constant(X)\n",
    "\n",
    "y = bodies_df.loc[:, 'damaged_property_mean']\n",
    "\n",
    "m = PanelOLS(dependent=y, exog=X, entity_effects=True, time_effects=False, drop_absorbed = True)\n",
    "model6 = m.fit(cov_type='clustered', cluster_time=False, cluster_entity=True)\n",
    "\n",
    "print(compare({\"model1\": model1, \"model2\": model2, \"model3\": model3, \"model4\": model4, \"model5\": model5, \"model6\": model6}, precision = 'std_errors', stars = True))"
   ]
  },
  {
   "cell_type": "code",
   "execution_count": null,
   "metadata": {},
   "outputs": [],
   "source": [
    "# FE TIME\n",
    "\n",
    "X = bodies_df.loc[:,['log_best']] \n",
    "#X = sm.add_constant(X)\n",
    "y = bodies_df.loc[:, 'damaged_property_mean']\n",
    "\n",
    "m = PanelOLS(dependent=y, exog=X, entity_effects=False, time_effects=True, drop_absorbed = True)\n",
    "model1 =  m.fit(cov_type='clustered', cluster_time=True, cluster_entity=False)\n",
    "\n",
    "X = bodies_df.loc[:,[ 'log_best', 'person_dummy']] \n",
    "#X = sm.add_constant(X)\n",
    "\n",
    "y = bodies_df.loc[:, 'damaged_property_mean']\n",
    "\n",
    "m = PanelOLS(dependent=y, exog=X, entity_effects=False, time_effects=True, drop_absorbed = True)\n",
    "model2 = m.fit(cov_type='clustered', cluster_time=True, cluster_entity=False)\n",
    "\n",
    "X = bodies_df.loc[:,[ 'log_best', 'person_dummy', 'uniformed_dummy']] \n",
    "#X = sm.add_constant(X)\n",
    "\n",
    "y = bodies_df.loc[:, 'damaged_property_mean']\n",
    "\n",
    "m = PanelOLS(dependent=y, exog=X, entity_effects=False, time_effects=True, drop_absorbed = True)\n",
    "model3 = m.fit(cov_type='clustered', cluster_time=True, cluster_entity=False)\n",
    "\n",
    "X = bodies_df.loc[:,[ 'log_best', 'person_dummy', 'uniformed_dummy', 'nlights_mean']] \n",
    "#X = sm.add_constant(X)\n",
    "\n",
    "y = bodies_df.loc[:, 'damaged_property_mean']\n",
    "\n",
    "m = PanelOLS(dependent=y, exog=X, entity_effects=False, time_effects=True, drop_absorbed = True)\n",
    "model4 = m.fit(cov_type='clustered', cluster_time=True, cluster_entity=False)\n",
    "\n",
    "X = bodies_df.loc[:,[ 'tce', 'person_dummy', 'uniformed_dummy', 'nlights_mean']] \n",
    "#X = sm.add_constant(X)\n",
    "\n",
    "y = bodies_df.loc[:, 'damaged_property_mean']\n",
    "\n",
    "m = PanelOLS(dependent=y, exog=X, entity_effects=False, time_effects=True, drop_absorbed = True)\n",
    "model5 = m.fit(cov_type='clustered', cluster_time=True, cluster_entity=False)\n",
    "\n",
    "X = bodies_df.loc[:,[ 'tsce', 'person_dummy', 'uniformed_dummy', 'nlights_mean']] \n",
    "#X = sm.add_constant(X)\n",
    "\n",
    "y = bodies_df.loc[:, 'damaged_property_mean']\n",
    "\n",
    "m = PanelOLS(dependent=y, exog=X, entity_effects=False, time_effects=True, drop_absorbed = True)\n",
    "model6 = m.fit(cov_type='clustered', cluster_time=True, cluster_entity=False)\n",
    "\n",
    "print(compare({\"model1\": model1, \"model2\": model2, \"model3\": model3, \"model4\": model4, \"model5\": model5, \"model6\": model6}, precision = 'std_errors', stars = True))"
   ]
  },
  {
   "cell_type": "code",
   "execution_count": null,
   "metadata": {},
   "outputs": [],
   "source": [
    "# TWO-WAY FE\n",
    "\n",
    "X = bodies_df.loc[:,['log_best']] \n",
    "#X = sm.add_constant(X)\n",
    "y = bodies_df.loc[:, 'damaged_property_mean']\n",
    "\n",
    "m = PanelOLS(dependent=y, exog=X, entity_effects=True, time_effects=True, drop_absorbed = True)\n",
    "model1 =  m.fit(cov_type='clustered', cluster_time=True, cluster_entity=True)\n",
    "\n",
    "X = bodies_df.loc[:,[ 'log_best', 'person_dummy']] \n",
    "#X = sm.add_constant(X)\n",
    "\n",
    "y = bodies_df.loc[:, 'damaged_property_mean']\n",
    "\n",
    "m = PanelOLS(dependent=y, exog=X, entity_effects=True, time_effects=True, drop_absorbed = True)\n",
    "model2 = m.fit(cov_type='clustered', cluster_time=True, cluster_entity=True)\n",
    "\n",
    "X = bodies_df.loc[:,[ 'log_best', 'person_dummy', 'uniformed_dummy']] \n",
    "#X = sm.add_constant(X)\n",
    "\n",
    "y = bodies_df.loc[:, 'damaged_property_mean']\n",
    "\n",
    "m = PanelOLS(dependent=y, exog=X, entity_effects=True, time_effects=True, drop_absorbed = True)\n",
    "model3 = m.fit(cov_type='clustered', cluster_time=True, cluster_entity=True)\n",
    "\n",
    "X = bodies_df.loc[:,[ 'log_best', 'person_dummy', 'uniformed_dummy', 'nlights_mean']] \n",
    "#X = sm.add_constant(X)\n",
    "\n",
    "y = bodies_df.loc[:, 'damaged_property_mean']\n",
    "\n",
    "m = PanelOLS(dependent=y, exog=X, entity_effects=True, time_effects=True, drop_absorbed = True)\n",
    "model4 = m.fit(cov_type='clustered', cluster_time=True, cluster_entity=True)\n",
    "\n",
    "X = bodies_df.loc[:,[ 'tce', 'person_dummy', 'uniformed_dummy', 'nlights_mean']] \n",
    "#X = sm.add_constant(X)\n",
    "\n",
    "y = bodies_df.loc[:, 'damaged_property_mean']\n",
    "\n",
    "m = PanelOLS(dependent=y, exog=X, entity_effects=True, time_effects=True, drop_absorbed = True)\n",
    "model5 = m.fit(cov_type='clustered', cluster_time=True, cluster_entity=True)\n",
    "\n",
    "X = bodies_df.loc[:,[ 'tsce', 'person_dummy', 'uniformed_dummy', 'nlights_mean']] \n",
    "#X = sm.add_constant(X)\n",
    "\n",
    "y = bodies_df.loc[:, 'damaged_property_mean']\n",
    "\n",
    "m = PanelOLS(dependent=y, exog=X, entity_effects=True, time_effects=True, drop_absorbed = True)\n",
    "model6 = m.fit(cov_type='clustered', cluster_time=True, cluster_entity=True)\n",
    "\n",
    "print(compare({\"model1\": model1, \"model2\": model2, \"model3\": model3, \"model4\": model4, \"model5\": model5, \"model6\": model6}, precision = 'std_errors', stars = True))"
   ]
  },
  {
   "cell_type": "code",
   "execution_count": null,
   "metadata": {},
   "outputs": [],
   "source": []
  },
  {
   "cell_type": "code",
   "execution_count": null,
   "metadata": {},
   "outputs": [],
   "source": []
  },
  {
   "cell_type": "code",
   "execution_count": null,
   "metadata": {},
   "outputs": [],
   "source": []
  },
  {
   "cell_type": "code",
   "execution_count": null,
   "metadata": {},
   "outputs": [],
   "source": []
  },
  {
   "cell_type": "code",
   "execution_count": null,
   "metadata": {},
   "outputs": [],
   "source": []
  },
  {
   "cell_type": "markdown",
   "metadata": {},
   "source": [
    "# 1.3"
   ]
  },
  {
   "cell_type": "markdown",
   "metadata": {},
   "source": [
    "## FTFP female"
   ]
  },
  {
   "cell_type": "code",
   "execution_count": null,
   "metadata": {},
   "outputs": [],
   "source": [
    "#FEMALE\n",
    "X = bodies_df.loc[:,['female_dummy']] \n",
    "y = bodies_df.loc[:, 'Submitted']\n",
    "\n",
    "m = PanelOLS(dependent=y, exog=X, entity_effects=True, time_effects=True, drop_absorbed = True)\n",
    "model1 =  m.fit(cov_type='clustered', cluster_time=True, cluster_entity=True)\n",
    "\n",
    "\n",
    "X = bodies_df.loc[:,[ 'female_dummy', 'person_dummy']] \n",
    "y = bodies_df.loc[:, 'Submitted']\n",
    "\n",
    "m = PanelOLS(dependent=y, exog=X, entity_effects=True, time_effects=True, drop_absorbed = True)\n",
    "model2 = m.fit(cov_type='clustered', cluster_time=True, cluster_entity=True)\n",
    "\n",
    "X = bodies_df.loc[:,[ 'female_dummy', 'person_dummy', 'all_privat_mean']] \n",
    "y = bodies_df.loc[:, 'Submitted']\n",
    "\n",
    "m = PanelOLS(dependent=y, exog=X, entity_effects=True, time_effects=True, drop_absorbed = True)\n",
    "model3 = m.fit(cov_type='clustered', cluster_time=True, cluster_entity=True)\n",
    "\n",
    "\n",
    "X = bodies_df.loc[:,[ 'female_dummy', 'person_dummy', 'all_privat_mean', 'all_rural_mean']] \n",
    "y = bodies_df.loc[:, 'Submitted']\n",
    "\n",
    "m = PanelOLS(dependent=y, exog=X, entity_effects=True, time_effects=True, drop_absorbed = True)\n",
    "model4 = m.fit(cov_type='clustered', cluster_time=True, cluster_entity=True)\n",
    "\n",
    "\n",
    "X = bodies_df.loc[:,[ 'female_dummy', 'person_dummy','all_privat_mean', 'all_rural_mean','nlights_mean']] \n",
    "y = bodies_df.loc[:, 'Submitted']\n",
    "\n",
    "m = PanelOLS(dependent=y, exog=X, entity_effects=True, time_effects=True, drop_absorbed = True)\n",
    "model5 = m.fit(cov_type='clustered', cluster_time=True, cluster_entity=True)\n",
    "\n",
    "\n",
    "X = bodies_df.loc[:,[ 'female_dummy', 'person_dummy', 'all_privat_mean', 'all_rural_mean','nlights_mean', 'log_best']] \n",
    "y = bodies_df.loc[:, 'Submitted']\n",
    "\n",
    "m = PanelOLS(dependent=y, exog=X, entity_effects=True, time_effects=True, drop_absorbed = True)\n",
    "model6 = m.fit(cov_type='clustered', cluster_time=True, cluster_entity=True)\n",
    "\n",
    "X = bodies_df.loc[:,[ 'female_dummy', 'person_dummy','all_privat_mean', 'all_rural_mean','nlights_mean', 'tce']] \n",
    "y = bodies_df.loc[:, 'Submitted']\n",
    "\n",
    "m = PanelOLS(dependent=y, exog=X, entity_effects=True, time_effects=True, drop_absorbed = True)\n",
    "model7 = m.fit(cov_type='clustered', cluster_time=True, cluster_entity=True)\n",
    "\n",
    "X = bodies_df.loc[:,[ 'female_dummy', 'person_dummy', 'all_privat_mean', 'all_rural_mean','nlights_mean', 'tsce']] \n",
    "y = bodies_df.loc[:, 'Submitted']\n",
    "\n",
    "m = PanelOLS(dependent=y, exog=X, entity_effects=True, time_effects=True, drop_absorbed = True)\n",
    "model8 = m.fit(cov_type='clustered', cluster_time=True, cluster_entity=True)\n",
    "\n",
    "\n",
    "print(compare({\"model1\": model1, \"model2\": model2, \"model3\": model3, \"model4\": model4, \"model5\": model5, \"model6\": model6, \"model7\": model7, \"model8\": model8}, precision = 'std_errors', stars = True))"
   ]
  },
  {
   "cell_type": "markdown",
   "metadata": {},
   "source": [
    "# FLFP GAR"
   ]
  },
  {
   "cell_type": "code",
   "execution_count": null,
   "metadata": {},
   "outputs": [],
   "source": [
    "# GARMENTS\n",
    "X = bodies_df.loc[:,['religiousGarmentFemale_dummy']] \n",
    "y = bodies_df.loc[:, 'Submitted']\n",
    "\n",
    "m = PanelOLS(dependent=y, exog=X, entity_effects=True, time_effects=True, drop_absorbed = True)\n",
    "model1 =  m.fit(cov_type='clustered', cluster_time=True, cluster_entity=True)\n",
    "\n",
    "X = bodies_df.loc[:,['religiousGarmentFemale_dummy', 'female_dummy']] \n",
    "y = bodies_df.loc[:, 'Submitted']\n",
    "\n",
    "m = PanelOLS(dependent=y, exog=X, entity_effects=True, time_effects=True, drop_absorbed = True)\n",
    "model2 = m.fit(cov_type='clustered', cluster_time=True, cluster_entity=True)\n",
    "\n",
    "X = bodies_df.loc[:,['religiousGarmentFemale_dummy', 'female_dummy', 'person_dummy']] \n",
    "y = bodies_df.loc[:, 'Submitted']\n",
    "\n",
    "m = PanelOLS(dependent=y, exog=X, entity_effects=True, time_effects=True, drop_absorbed = True)\n",
    "model3 = m.fit(cov_type='clustered', cluster_time=True, cluster_entity=True)\n",
    "\n",
    "X = bodies_df.loc[:,['religiousGarmentFemale_dummy', 'female_dummy', 'person_dummy', 'all_privat_mean']] \n",
    "y = bodies_df.loc[:, 'Submitted']\n",
    "\n",
    "m = PanelOLS(dependent=y, exog=X, entity_effects=True, time_effects=True, drop_absorbed = True)\n",
    "model4 = m.fit(cov_type='clustered', cluster_time=True, cluster_entity=True)\n",
    "\n",
    "X = bodies_df.loc[:,['religiousGarmentFemale_dummy', 'female_dummy', 'person_dummy', 'all_privat_mean', 'all_rural_mean']] \n",
    "y = bodies_df.loc[:, 'Submitted']\n",
    "\n",
    "m = PanelOLS(dependent=y, exog=X, entity_effects=True, time_effects=True, drop_absorbed = True)\n",
    "model5 = m.fit(cov_type='clustered', cluster_time=True, cluster_entity=True)\n",
    "\n",
    "\n",
    "X = bodies_df.loc[:,['religiousGarmentFemale_dummy', 'female_dummy', 'person_dummy', 'all_privat_mean', 'all_rural_mean','nlights_mean']] \n",
    "y = bodies_df.loc[:, 'Submitted']\n",
    "\n",
    "m = PanelOLS(dependent=y, exog=X, entity_effects=True, time_effects=True, drop_absorbed = True)\n",
    "model6 = m.fit(cov_type='clustered', cluster_time=True, cluster_entity=True)\n",
    "\n",
    "\n",
    "X = bodies_df.loc[:,['religiousGarmentFemale_dummy', 'female_dummy', 'person_dummy', 'all_privat_mean', 'all_rural_mean','nlights_mean', 'log_best']] \n",
    "y = bodies_df.loc[:, 'Submitted']\n",
    "\n",
    "m = PanelOLS(dependent=y, exog=X, entity_effects=True, time_effects=True, drop_absorbed = True)\n",
    "model7 = m.fit(cov_type='clustered', cluster_time=True, cluster_entity=True)\n",
    "\n",
    "X = bodies_df.loc[:,['religiousGarmentFemale_dummy', 'female_dummy', 'person_dummy', 'all_privat_mean', 'all_rural_mean','nlights_mean', 'tce']] \n",
    "y = bodies_df.loc[:, 'Submitted']\n",
    "\n",
    "m = PanelOLS(dependent=y, exog=X, entity_effects=True, time_effects=True, drop_absorbed = True)\n",
    "model8 = m.fit(cov_type='clustered', cluster_time=True, cluster_entity=True)\n",
    "\n",
    "X = bodies_df.loc[:,['religiousGarmentFemale_dummy', 'female_dummy', 'person_dummy', 'all_privat_mean', 'all_rural_mean','nlights_mean', 'tsce']] \n",
    "y = bodies_df.loc[:, 'Submitted']\n",
    "\n",
    "m = PanelOLS(dependent=y, exog=X, entity_effects=True, time_effects=True, drop_absorbed = True)\n",
    "model9 = m.fit(cov_type='clustered', cluster_time=True, cluster_entity=True)\n",
    "\n",
    "\n",
    "print(compare({\"model1\": model1, \"model2\": model2, \"model3\": model3, \"model4\": model4, \"model5\": model5, \"model6\": model6, \"model7\": model7, \"model8\": model8, \"model9\": model9}, precision = 'std_errors', stars = True))"
   ]
  },
  {
   "cell_type": "markdown",
   "metadata": {},
   "source": [
    "# FTFP damaged"
   ]
  },
  {
   "cell_type": "code",
   "execution_count": null,
   "metadata": {},
   "outputs": [],
   "source": [
    "X = bodies_df.loc[:,['damaged_property_mean' ]] \n",
    "y = bodies_df.loc[:, 'Submitted']\n",
    "\n",
    "m = PanelOLS(dependent=y, exog=X, entity_effects=True, time_effects=True, drop_absorbed = True)\n",
    "model1 =  m.fit(cov_type='clustered', cluster_time=True, cluster_entity=True)\n",
    "\n",
    "\n",
    "X = bodies_df.loc[:,['damaged_property_mean', 'all_rural_mean']] \n",
    "y = bodies_df.loc[:, 'Submitted']\n",
    "\n",
    "m = PanelOLS(dependent=y, exog=X, entity_effects=True, time_effects=True, drop_absorbed = True)\n",
    "model2 =  m.fit(cov_type='clustered', cluster_time=True, cluster_entity=True)\n",
    "\n",
    "\n",
    "X = bodies_df.loc[:,['damaged_property_mean', 'all_rural_mean', 'all_militarized_mean']] \n",
    "y = bodies_df.loc[:, 'Submitted']\n",
    "\n",
    "m = PanelOLS(dependent=y, exog=X, entity_effects=True, time_effects=True, drop_absorbed = True)\n",
    "model3 =  m.fit(cov_type='clustered', cluster_time=True, cluster_entity=True)\n",
    "\n",
    "\n",
    "X = bodies_df.loc[:,['damaged_property_mean', 'all_rural_mean', 'all_militarized_mean', 'nlights_mean',  'log_best']] \n",
    "y = bodies_df.loc[:, 'Submitted']\n",
    "\n",
    "m = PanelOLS(dependent=y, exog=X, entity_effects=True, time_effects=True, drop_absorbed = True)\n",
    "model4 =  m.fit(cov_type='clustered', cluster_time=True, cluster_entity=True)\n",
    "\n",
    "\n",
    "X = bodies_df.loc[:,['damaged_property_mean', 'all_rural_mean', 'all_militarized_mean', 'nlights_mean',  'tce']] \n",
    "y = bodies_df.loc[:, 'Submitted']\n",
    "\n",
    "m = PanelOLS(dependent=y, exog=X, entity_effects=True, time_effects=True, drop_absorbed = True)\n",
    "model5 =  m.fit(cov_type='clustered', cluster_time=True, cluster_entity=True)\n",
    "\n",
    "\n",
    "X = bodies_df.loc[:,['damaged_property_mean', 'all_rural_mean', 'all_militarized_mean', 'nlights_mean',  'tsce']] \n",
    "y = bodies_df.loc[:, 'Submitted']\n",
    "\n",
    "m = PanelOLS(dependent=y, exog=X, entity_effects=True, time_effects=True, drop_absorbed = True)\n",
    "model6 =  m.fit(cov_type='clustered', cluster_time=True, cluster_entity=True)\n",
    "\n",
    "print(compare({\"model1\": model1, \"model2\": model2, \"model3\": model3, \"model4\": model4, \"model5\": model5, \"model6\": model6}, precision = 'std_errors', stars = True))"
   ]
  },
  {
   "cell_type": "markdown",
   "metadata": {},
   "source": [
    "# FTPT Protest"
   ]
  },
  {
   "cell_type": "code",
   "execution_count": null,
   "metadata": {},
   "outputs": [],
   "source": [
    "X = bodies_df.loc[:,['mass_protest_mean' ]] \n",
    "y = bodies_df.loc[:, 'Submitted']\n",
    "\n",
    "m = PanelOLS(dependent=y, exog=X, entity_effects=True, time_effects=True, drop_absorbed = True)\n",
    "model1 =  m.fit(cov_type='clustered', cluster_time=True, cluster_entity=True)\n",
    "\n",
    "\n",
    "X = bodies_df.loc[:,['mass_protest_mean', 'person_mean']] \n",
    "y = bodies_df.loc[:, 'Submitted']\n",
    "\n",
    "m = PanelOLS(dependent=y, exog=X, entity_effects=True, time_effects=True, drop_absorbed = True)\n",
    "model2 =  m.fit(cov_type='clustered', cluster_time=True, cluster_entity=True)\n",
    "\n",
    "\n",
    "X = bodies_df.loc[:,['mass_protest_mean', 'person_mean', 'all_public_mean']] \n",
    "y = bodies_df.loc[:, 'Submitted']\n",
    "\n",
    "m = PanelOLS(dependent=y, exog=X, entity_effects=True, time_effects=True, drop_absorbed = True)\n",
    "model3 =  m.fit(cov_type='clustered', cluster_time=True, cluster_entity=True)\n",
    "\n",
    "\n",
    "X = bodies_df.loc[:,['mass_protest_mean', 'person_mean', 'all_public_mean', 'all_urban_mean',  'log_best']] \n",
    "y = bodies_df.loc[:, 'Submitted']\n",
    "\n",
    "m = PanelOLS(dependent=y, exog=X, entity_effects=True, time_effects=True, drop_absorbed = True)\n",
    "model4 =  m.fit(cov_type='clustered', cluster_time=True, cluster_entity=True)\n",
    "\n",
    "\n",
    "X = bodies_df.loc[:,['mass_protest_mean', 'person_mean', 'all_public_mean', 'all_urban_mean',  'tce']] \n",
    "y = bodies_df.loc[:, 'Submitted']\n",
    "\n",
    "m = PanelOLS(dependent=y, exog=X, entity_effects=True, time_effects=True, drop_absorbed = True)\n",
    "model5 =  m.fit(cov_type='clustered', cluster_time=True, cluster_entity=True)\n",
    "\n",
    "\n",
    "X = bodies_df.loc[:,['mass_protest_mean', 'person_mean', 'all_public_mean', 'all_urban_mean',  'tsce']] \n",
    "y = bodies_df.loc[:, 'Submitted']\n",
    "\n",
    "m = PanelOLS(dependent=y, exog=X, entity_effects=True, time_effects=True, drop_absorbed = True)\n",
    "model6 =  m.fit(cov_type='clustered', cluster_time=True, cluster_entity=True)\n",
    "\n",
    "print(compare({\"model1\": model1, \"model2\": model2, \"model3\": model3, \"model4\": model4, \"model5\": model5, \"model6\": model6}, precision = 'std_errors', stars = True))"
   ]
  },
  {
   "cell_type": "markdown",
   "metadata": {},
   "source": [
    "# FTPT EMOTION"
   ]
  },
  {
   "cell_type": "code",
   "execution_count": null,
   "metadata": {},
   "outputs": [],
   "source": [
    "X = bodies_df.loc[:,['emotions_t1_mean' ]] \n",
    "y = bodies_df.loc[:, 'Submitted']\n",
    "\n",
    "m = PanelOLS(dependent=y, exog=X, entity_effects=True, time_effects=True, drop_absorbed = True)\n",
    "model1 =  m.fit(cov_type='clustered', cluster_time=True, cluster_entity=True)\n",
    "\n",
    "\n",
    "X = bodies_df.loc[:,['emotions_t1_mean', 'person_dummy' ]] \n",
    "y = bodies_df.loc[:, 'Submitted']\n",
    "\n",
    "m = PanelOLS(dependent=y, exog=X, entity_effects=True, time_effects=True, drop_absorbed = True)\n",
    "model2 =  m.fit(cov_type='clustered', cluster_time=True, cluster_entity=True)\n",
    "\n",
    "\n",
    "X = bodies_df.loc[:,['emotions_t1_mean', 'person_dummy', 'female_dummy', 'religiousGarmentFemale_dummy']] \n",
    "y = bodies_df.loc[:, 'Submitted']\n",
    "\n",
    "m = PanelOLS(dependent=y, exog=X, entity_effects=True, time_effects=True, drop_absorbed = True)\n",
    "model4 =  m.fit(cov_type='clustered', cluster_time=True, cluster_entity=True)\n",
    "\n",
    "\n",
    "X = bodies_df.loc[:,['emotions_t1_mean', 'person_dummy', 'female_dummy', 'religiousGarmentFemale_dummy', 'mass_protest_mean']] \n",
    "y = bodies_df.loc[:, 'Submitted']\n",
    "\n",
    "m = PanelOLS(dependent=y, exog=X, entity_effects=True, time_effects=True, drop_absorbed = True)\n",
    "model5 =  m.fit(cov_type='clustered', cluster_time=True, cluster_entity=True)\n",
    "\n",
    "print(compare({\"model1\": model1, \"model2\": model2, \"model3\": model3, \"model3\": model5, \"model5\": model5 }, precision = 'std_errors', stars = True))"
   ]
  },
  {
   "cell_type": "markdown",
   "metadata": {},
   "source": [
    "# What is emotion made of?"
   ]
  },
  {
   "cell_type": "code",
   "execution_count": null,
   "metadata": {},
   "outputs": [],
   "source": [
    "X = bodies_df.loc[:,['person_dummy']] \n",
    "y = bodies_df.loc[:, 'emotions_t1_mean']\n",
    "\n",
    "m = PanelOLS(dependent=y, exog=X, entity_effects=True, time_effects=True, drop_absorbed = True)\n",
    "model1 =  m.fit(cov_type='clustered', cluster_time=True, cluster_entity=True)\n",
    "\n",
    "\n",
    "X = bodies_df.loc[:,['person_dummy', 'female_dummy']] \n",
    "y = bodies_df.loc[:, 'emotions_t1_mean']\n",
    "\n",
    "m = PanelOLS(dependent=y, exog=X, entity_effects=True, time_effects=True, drop_absorbed = True)\n",
    "model2 =  m.fit(cov_type='clustered', cluster_time=True, cluster_entity=True)\n",
    "\n",
    "\n",
    "X = bodies_df.loc[:,['person_dummy',  'female_dummy', 'religiousGarmentFemale_dummy']] \n",
    "y = bodies_df.loc[:, 'emotions_t1_mean']\n",
    "\n",
    "m = PanelOLS(dependent=y, exog=X, entity_effects=True, time_effects=True, drop_absorbed = True)\n",
    "model3 =  m.fit(cov_type='clustered', cluster_time=True, cluster_entity=True)\n",
    "\n",
    "X = bodies_df.loc[:,['person_dummy',  'female_dummy', 'religiousGarmentFemale_dummy', 'mass_protest_mean']] \n",
    "y = bodies_df.loc[:, 'emotions_t1_mean']\n",
    "\n",
    "m = PanelOLS(dependent=y, exog=X, entity_effects=True, time_effects=True, drop_absorbed = True)\n",
    "model4 =  m.fit(cov_type='clustered', cluster_time=True, cluster_entity=True)\n",
    "\n",
    "X = bodies_df.loc[:,['person_dummy',  'female_dummy', 'religiousGarmentFemale_dummy', 'mass_protest_mean', 'all_militarized_mean']] \n",
    "y = bodies_df.loc[:, 'emotions_t1_mean']\n",
    "\n",
    "m = PanelOLS(dependent=y, exog=X, entity_effects=True, time_effects=True, drop_absorbed = True)\n",
    "model5 =  m.fit(cov_type='clustered', cluster_time=True, cluster_entity=True)\n",
    "\n",
    "print(compare({\"model1\": model1, \"model2\": model2, \"model3\": model3, \"model4\" : model4, \"model5\" : model5}, precision = 'std_errors', stars = True))"
   ]
  },
  {
   "cell_type": "code",
   "execution_count": null,
   "metadata": {},
   "outputs": [],
   "source": [
    "bodies_df.columns"
   ]
  },
  {
   "cell_type": "code",
   "execution_count": null,
   "metadata": {},
   "outputs": [],
   "source": []
  },
  {
   "cell_type": "code",
   "execution_count": null,
   "metadata": {},
   "outputs": [],
   "source": []
  },
  {
   "cell_type": "code",
   "execution_count": null,
   "metadata": {},
   "outputs": [],
   "source": []
  },
  {
   "cell_type": "code",
   "execution_count": null,
   "metadata": {},
   "outputs": [],
   "source": []
  },
  {
   "cell_type": "code",
   "execution_count": null,
   "metadata": {},
   "outputs": [],
   "source": []
  },
  {
   "cell_type": "code",
   "execution_count": null,
   "metadata": {},
   "outputs": [],
   "source": []
  },
  {
   "cell_type": "code",
   "execution_count": null,
   "metadata": {},
   "outputs": [],
   "source": []
  },
  {
   "cell_type": "code",
   "execution_count": null,
   "metadata": {},
   "outputs": [],
   "source": []
  },
  {
   "cell_type": "code",
   "execution_count": null,
   "metadata": {},
   "outputs": [],
   "source": []
  },
  {
   "cell_type": "code",
   "execution_count": null,
   "metadata": {},
   "outputs": [],
   "source": []
  },
  {
   "cell_type": "code",
   "execution_count": null,
   "metadata": {},
   "outputs": [],
   "source": []
  },
  {
   "cell_type": "code",
   "execution_count": null,
   "metadata": {},
   "outputs": [],
   "source": []
  },
  {
   "cell_type": "code",
   "execution_count": null,
   "metadata": {},
   "outputs": [],
   "source": []
  },
  {
   "cell_type": "markdown",
   "metadata": {},
   "source": [
    "# Violence"
   ]
  },
  {
   "cell_type": "code",
   "execution_count": null,
   "metadata": {},
   "outputs": [],
   "source": [
    "# GARMENTS\n",
    "X = bodies_df.loc[:,['log_best']] \n",
    "y = bodies_df.loc[:, 'female_dummy']\n",
    "\n",
    "m = PanelOLS(dependent=y, exog=X, entity_effects=True, time_effects=True, drop_absorbed = True)\n",
    "model1 =  m.fit(cov_type='clustered', cluster_time=True, cluster_entity=True)\n",
    "\n",
    "X = bodies_df.loc[:,['log_best', 'person_dummy']] \n",
    "y = bodies_df.loc[:, 'religiousGarmentFemale_dummy']\n",
    "\n",
    "m = PanelOLS(dependent=y, exog=X, entity_effects=True, time_effects=True, drop_absorbed = True)\n",
    "model2 = m.fit(cov_type='clustered', cluster_time=True, cluster_entity=True)\n",
    "\n",
    "X = bodies_df.loc[:,['log_best', 'religiousGarmentFemale_dummy', 'person_dummy']] \n",
    "y = bodies_df.loc[:, 'female_dummy']\n",
    "\n",
    "m = PanelOLS(dependent=y, exog=X, entity_effects=True, time_effects=True, drop_absorbed = True)\n",
    "model3 = m.fit(cov_type='clustered', cluster_time=True, cluster_entity=True)\n",
    "\n",
    "\n",
    "print(compare({\"model1\": model1, \"model2\": model2, \"model3\": model3}, precision = 'std_errors', stars = True))"
   ]
  },
  {
   "cell_type": "code",
   "execution_count": null,
   "metadata": {},
   "outputs": [],
   "source": [
    "# GARMENTS\n",
    "X = bodies_df.loc[:,['log_best']] \n",
    "y = bodies_df.loc[:, 'religiousGarmentFemale_dummy']\n",
    "\n",
    "m = PanelOLS(dependent=y, exog=X, entity_effects=True, time_effects=True, drop_absorbed = True)\n",
    "model1 =  m.fit(cov_type='clustered', cluster_time=True, cluster_entity=True)\n",
    "\n",
    "X = bodies_df.loc[:,['log_best', 'female_dummy']] \n",
    "y = bodies_df.loc[:, 'religiousGarmentFemale_dummy']\n",
    "\n",
    "m = PanelOLS(dependent=y, exog=X, entity_effects=True, time_effects=True, drop_absorbed = True)\n",
    "model2 = m.fit(cov_type='clustered', cluster_time=True, cluster_entity=True)\n",
    "\n",
    "X = bodies_df.loc[:,['log_best', 'female_dummy', 'person_dummy']] \n",
    "y = bodies_df.loc[:, 'religiousGarmentFemale_dummy']\n",
    "\n",
    "m = PanelOLS(dependent=y, exog=X, entity_effects=True, time_effects=True, drop_absorbed = True)\n",
    "model3 = m.fit(cov_type='clustered', cluster_time=True, cluster_entity=True)\n",
    "\n",
    "\n",
    "print(compare({\"model1\": model1, \"model2\": model2, \"model3\": model3}, precision = 'std_errors', stars = True))"
   ]
  },
  {
   "cell_type": "code",
   "execution_count": null,
   "metadata": {},
   "outputs": [],
   "source": []
  },
  {
   "cell_type": "code",
   "execution_count": null,
   "metadata": {},
   "outputs": [],
   "source": []
  },
  {
   "cell_type": "code",
   "execution_count": null,
   "metadata": {},
   "outputs": [],
   "source": []
  },
  {
   "cell_type": "code",
   "execution_count": null,
   "metadata": {},
   "outputs": [],
   "source": []
  },
  {
   "cell_type": "code",
   "execution_count": null,
   "metadata": {},
   "outputs": [],
   "source": []
  },
  {
   "cell_type": "code",
   "execution_count": null,
   "metadata": {},
   "outputs": [],
   "source": []
  },
  {
   "cell_type": "code",
   "execution_count": null,
   "metadata": {},
   "outputs": [],
   "source": []
  },
  {
   "cell_type": "code",
   "execution_count": null,
   "metadata": {},
   "outputs": [],
   "source": []
  },
  {
   "cell_type": "code",
   "execution_count": null,
   "metadata": {},
   "outputs": [],
   "source": []
  },
  {
   "cell_type": "code",
   "execution_count": null,
   "metadata": {},
   "outputs": [],
   "source": []
  },
  {
   "cell_type": "code",
   "execution_count": null,
   "metadata": {},
   "outputs": [],
   "source": []
  },
  {
   "cell_type": "code",
   "execution_count": null,
   "metadata": {},
   "outputs": [],
   "source": []
  },
  {
   "cell_type": "markdown",
   "metadata": {},
   "source": [
    "# old"
   ]
  },
  {
   "cell_type": "code",
   "execution_count": null,
   "metadata": {},
   "outputs": [],
   "source": [
    "#E2\n",
    "X = bodies_df.loc[:,['emotions_t1_mean']] \n",
    "y = bodies_df.loc[:, 'Submitted']\n",
    "\n",
    "m = PanelOLS(dependent=y, exog=X, entity_effects=True, time_effects=True, drop_absorbed = True)\n",
    "model1 =  m.fit(cov_type='clustered', cluster_time=True, cluster_entity=True)\n",
    "\n",
    "\n",
    "#E2\n",
    "X = bodies_df.loc[:,['emotions_t1_mean', 'person_dummy']] \n",
    "y = bodies_df.loc[:, 'Submitted']\n",
    "\n",
    "m = PanelOLS(dependent=y, exog=X, entity_effects=True, time_effects=True, drop_absorbed = True)\n",
    "model2 =  m.fit(cov_type='clustered', cluster_time=True, cluster_entity=True)\n",
    "\n",
    "\n",
    "#E2\n",
    "X = bodies_df.loc[:,['emotions_t1_mean', 'person_dummy', 'female_dummy']] \n",
    "y = bodies_df.loc[:, 'Submitted']\n",
    "\n",
    "m = PanelOLS(dependent=y, exog=X, entity_effects=True, time_effects=True, drop_absorbed = True)\n",
    "model3 =  m.fit(cov_type='clustered', cluster_time=True, cluster_entity=True)\n",
    "\n",
    "\n",
    "#E2\n",
    "X = bodies_df.loc[:,['emotions_t1_mean', 'person_dummy', 'female_dummy', 'religiousGarmentFemale_dummy']] \n",
    "y = bodies_df.loc[:, 'Submitted']\n",
    "\n",
    "m = PanelOLS(dependent=y, exog=X, entity_effects=True, time_effects=True, drop_absorbed = True)\n",
    "model4 =  m.fit(cov_type='clustered', cluster_time=True, cluster_entity=True)\n",
    "\n",
    "\n",
    "#E2\n",
    "X = bodies_df.loc[:,['emotions_t1_mean', 'person_dummy', 'female_dummy', 'religiousGarmentFemale_dummy',  'uniformed_mean']] \n",
    "y = bodies_df.loc[:, 'Submitted']\n",
    "\n",
    "m = PanelOLS(dependent=y, exog=X, entity_effects=True, time_effects=True, drop_absorbed = True)\n",
    "model5 =  m.fit(cov_type='clustered', cluster_time=True, cluster_entity=True)\n",
    "\n",
    "\n",
    "#E2\n",
    "X = bodies_df.loc[:,['emotions_t1_mean', 'person_dummy', 'female_dummy', 'religiousGarmentFemale_dummy',  'uniformed_mean', 'all_militarized_mean']] \n",
    "y = bodies_df.loc[:, 'Submitted']\n",
    "\n",
    "m = PanelOLS(dependent=y, exog=X, entity_effects=True, time_effects=True, drop_absorbed = True)\n",
    "model6 =  m.fit(cov_type='clustered', cluster_time=True, cluster_entity=True)\n",
    "\n",
    "\n",
    "print(compare({\"model1\": model1, \"model2\": model2, \"model3\": model3, \"model4\": model4, \"model5\": model5, \"mode6\": model6}, precision = 'std_errors', stars = True))"
   ]
  },
  {
   "cell_type": "code",
   "execution_count": null,
   "metadata": {},
   "outputs": [],
   "source": []
  },
  {
   "cell_type": "code",
   "execution_count": null,
   "metadata": {},
   "outputs": [],
   "source": []
  },
  {
   "cell_type": "code",
   "execution_count": null,
   "metadata": {},
   "outputs": [],
   "source": []
  },
  {
   "cell_type": "code",
   "execution_count": null,
   "metadata": {},
   "outputs": [],
   "source": []
  },
  {
   "cell_type": "code",
   "execution_count": null,
   "metadata": {},
   "outputs": [],
   "source": []
  },
  {
   "cell_type": "code",
   "execution_count": null,
   "metadata": {},
   "outputs": [],
   "source": []
  },
  {
   "cell_type": "code",
   "execution_count": null,
   "metadata": {},
   "outputs": [],
   "source": [
    "#E2\n",
    "X = bodies_df.loc[:,['emotions_t1_mean']] \n",
    "y = bodies_df.loc[:, 'Submitted']\n",
    "\n",
    "m = PanelOLS(dependent=y, exog=X, entity_effects=True, time_effects=True, drop_absorbed = True)\n",
    "model1 =  m.fit(cov_type='clustered', cluster_time=True, cluster_entity=True)\n",
    "\n",
    "\n",
    "#E2\n",
    "X = bodies_df.loc[:,['emotions_t2_mean', 'emotions_t1_mean']] \n",
    "y = bodies_df.loc[:, 'Submitted']\n",
    "\n",
    "m = PanelOLS(dependent=y, exog=X, entity_effects=True, time_effects=True, drop_absorbed = True)\n",
    "model2 =  m.fit(cov_type='clustered', cluster_time=True, cluster_entity=True)\n",
    "\n",
    "\n",
    "print(compare({\"model1\": model1, \"model2\": model2}, precision = 'std_errors', stars = True))"
   ]
  },
  {
   "cell_type": "code",
   "execution_count": null,
   "metadata": {},
   "outputs": [],
   "source": []
  },
  {
   "cell_type": "code",
   "execution_count": null,
   "metadata": {},
   "outputs": [],
   "source": []
  },
  {
   "cell_type": "code",
   "execution_count": null,
   "metadata": {},
   "outputs": [],
   "source": []
  },
  {
   "cell_type": "code",
   "execution_count": null,
   "metadata": {},
   "outputs": [],
   "source": [
    "#FEMALE\n",
    "X = bodies_df.loc[:,['damaged_property_mean']] \n",
    "y = bodies_df.loc[:, 'Submitted']\n",
    "\n",
    "m = PanelOLS(dependent=y, exog=X, entity_effects=True, time_effects=True, drop_absorbed = True)\n",
    "model1 =  m.fit(cov_type='clustered', cluster_time=True, cluster_entity=True)\n",
    "\n"
   ]
  },
  {
   "cell_type": "code",
   "execution_count": null,
   "metadata": {},
   "outputs": [],
   "source": [
    "ra = ['damaged_property_mean', 'militaryVehicle_mean', 'firearm_mean', 'flagUS_mean', 'uniformed_mean', 'all_militarized_mean', 'emotions_t2_mean', 'emotions_t1_mean']\n",
    "\n",
    "for i in ra:\n",
    "\n",
    "    X = bodies_df.loc[:,[i]] \n",
    "    y = bodies_df.loc[:, 'Submitted']\n",
    "\n",
    "    m = PanelOLS(dependent=y, exog=X, entity_effects=True, time_effects=True, drop_absorbed = True)\n",
    "    model1 =  m.fit(cov_type='clustered', cluster_time=True, cluster_entity=True)\n",
    "\n",
    "    print(model1)"
   ]
  },
  {
   "cell_type": "code",
   "execution_count": null,
   "metadata": {},
   "outputs": [],
   "source": []
  },
  {
   "cell_type": "code",
   "execution_count": null,
   "metadata": {},
   "outputs": [],
   "source": []
  },
  {
   "cell_type": "code",
   "execution_count": null,
   "metadata": {},
   "outputs": [],
   "source": []
  },
  {
   "cell_type": "code",
   "execution_count": null,
   "metadata": {},
   "outputs": [],
   "source": []
  },
  {
   "cell_type": "code",
   "execution_count": null,
   "metadata": {},
   "outputs": [],
   "source": []
  },
  {
   "cell_type": "code",
   "execution_count": null,
   "metadata": {},
   "outputs": [],
   "source": []
  },
  {
   "cell_type": "code",
   "execution_count": null,
   "metadata": {},
   "outputs": [],
   "source": [
    "mass_protest_mean"
   ]
  },
  {
   "cell_type": "code",
   "execution_count": null,
   "metadata": {},
   "outputs": [],
   "source": []
  },
  {
   "cell_type": "code",
   "execution_count": null,
   "metadata": {},
   "outputs": [],
   "source": []
  },
  {
   "cell_type": "code",
   "execution_count": null,
   "metadata": {},
   "outputs": [],
   "source": [
    "bodies_df.columns"
   ]
  },
  {
   "cell_type": "code",
   "execution_count": null,
   "metadata": {},
   "outputs": [],
   "source": []
  },
  {
   "cell_type": "code",
   "execution_count": null,
   "metadata": {},
   "outputs": [],
   "source": []
  },
  {
   "cell_type": "code",
   "execution_count": null,
   "metadata": {},
   "outputs": [],
   "source": []
  },
  {
   "cell_type": "code",
   "execution_count": null,
   "metadata": {},
   "outputs": [],
   "source": []
  },
  {
   "cell_type": "code",
   "execution_count": null,
   "metadata": {},
   "outputs": [],
   "source": []
  },
  {
   "cell_type": "code",
   "execution_count": null,
   "metadata": {},
   "outputs": [],
   "source": []
  },
  {
   "cell_type": "code",
   "execution_count": null,
   "metadata": {},
   "outputs": [],
   "source": []
  },
  {
   "cell_type": "code",
   "execution_count": null,
   "metadata": {},
   "outputs": [],
   "source": []
  },
  {
   "cell_type": "code",
   "execution_count": null,
   "metadata": {},
   "outputs": [],
   "source": []
  },
  {
   "cell_type": "markdown",
   "metadata": {},
   "source": [
    "# Summary: FFTF"
   ]
  },
  {
   "cell_type": "code",
   "execution_count": null,
   "metadata": {},
   "outputs": [],
   "source": [
    "\n",
    "X = df_sub.loc[:,['female_dummy']] \n",
    "y = df_sub.loc[:, 'Submitted']\n",
    "\n",
    "m = PanelOLS(dependent=y, exog=X, entity_effects=True, time_effects=True, drop_absorbed = True)\n",
    "model1 =  m.fit(cov_type='clustered', cluster_time=True, cluster_entity=True)\n",
    "\n",
    "X = df_sub.loc[:,[ 'female_dummy', 'religiousGarmentFemale_dummy']] \n",
    "y = df_sub.loc[:, 'Submitted']\n",
    "\n",
    "m = PanelOLS(dependent=y, exog=X, entity_effects=True, time_effects=True, drop_absorbed = True)\n",
    "model2 = m.fit(cov_type='clustered', cluster_time=True, cluster_entity=True)\n",
    "\n",
    "X = df_sub.loc[:,['female_dummy', 'religiousGarmentFemale_dummy', 'intDUniDGar', 'uniformed_dummy']] \n",
    "y = df_sub.loc[:, 'Submitted']\n",
    "\n",
    "m = PanelOLS(dependent=y, exog=X, entity_effects=True, time_effects=True, drop_absorbed = True)\n",
    "model3 =  m.fit(cov_type='clustered', cluster_time=True, cluster_entity=True)\n",
    "\n",
    "\n",
    "X = df_sub.loc[:,['female_dummy', 'religiousGarmentFemale_dummy', 'intDFirDGar', 'firearm_dummy']] \n",
    "y = df_sub.loc[:, 'Submitted']\n",
    "\n",
    "m = PanelOLS(dependent=y, exog=X, entity_effects=True, time_effects=True, drop_absorbed = True)\n",
    "model4 = m.fit(cov_type='clustered', cluster_time=True, cluster_entity=True)\n",
    "\n",
    "print(compare({\"model1\": model1, \"model2\": model2, \"model3\": model3, \"model4\" : model4}, precision = 'std_errors', stars = True))"
   ]
  },
  {
   "cell_type": "markdown",
   "metadata": {},
   "source": [
    "# JACOB STRUCTURE:\n"
   ]
  },
  {
   "cell_type": "code",
   "execution_count": null,
   "metadata": {},
   "outputs": [],
   "source": [
    "#FEMALE\n",
    "X = df_sub.loc[:,['female_dummy']] \n",
    "y = df_sub.loc[:, 'Submitted']\n",
    "\n",
    "m = PanelOLS(dependent=y, exog=X, entity_effects=True, time_effects=True, drop_absorbed = True)\n",
    "model1 =  m.fit(cov_type='clustered', cluster_time=True, cluster_entity=True)\n",
    "\n",
    "\n",
    "X = df_sub.loc[:,[ 'female_dummy', 'person_dummy']] \n",
    "y = df_sub.loc[:, 'Submitted']\n",
    "\n",
    "m = PanelOLS(dependent=y, exog=X, entity_effects=True, time_effects=True, drop_absorbed = True)\n",
    "model2 = m.fit(cov_type='clustered', cluster_time=True, cluster_entity=True)\n",
    "\n",
    "X = df_sub.loc[:,[ 'female_dummy', 'person_dummy', 'all_privat']] \n",
    "y = df_sub.loc[:, 'Submitted']\n",
    "\n",
    "m = PanelOLS(dependent=y, exog=X, entity_effects=True, time_effects=True, drop_absorbed = True)\n",
    "model3 = m.fit(cov_type='clustered', cluster_time=True, cluster_entity=True)\n",
    "\n",
    "\n",
    "X = df_sub.loc[:,[ 'female_dummy', 'person_dummy', 'all_privat', 'all_rural']] \n",
    "y = df_sub.loc[:, 'Submitted']\n",
    "\n",
    "m = PanelOLS(dependent=y, exog=X, entity_effects=True, time_effects=True, drop_absorbed = True)\n",
    "model4 = m.fit(cov_type='clustered', cluster_time=True, cluster_entity=True)\n",
    "\n",
    "\n",
    "X = df_sub.loc[:,[ 'female_dummy', 'person_dummy', 'all_privat', 'all_rural','nlights_mean']] \n",
    "y = df_sub.loc[:, 'Submitted']\n",
    "\n",
    "m = PanelOLS(dependent=y, exog=X, entity_effects=True, time_effects=True, drop_absorbed = True)\n",
    "model5 = m.fit(cov_type='clustered', cluster_time=True, cluster_entity=True)\n",
    "\n",
    "\n",
    "X = df_sub.loc[:,[ 'female_dummy', 'person_dummy', 'all_privat', 'all_rural','nlights_mean', 'log_best']] \n",
    "y = df_sub.loc[:, 'Submitted']\n",
    "\n",
    "m = PanelOLS(dependent=y, exog=X, entity_effects=True, time_effects=True, drop_absorbed = True)\n",
    "model6 = m.fit(cov_type='clustered', cluster_time=True, cluster_entity=True)\n",
    "\n",
    "X = df_sub.loc[:,[ 'female_dummy', 'person_dummy', 'all_privat', 'all_rural','nlights_mean', 'tce']] \n",
    "y = df_sub.loc[:, 'Submitted']\n",
    "\n",
    "m = PanelOLS(dependent=y, exog=X, entity_effects=True, time_effects=True, drop_absorbed = True)\n",
    "model7 = m.fit(cov_type='clustered', cluster_time=True, cluster_entity=True)\n",
    "\n",
    "X = df_sub.loc[:,[ 'female_dummy', 'person_dummy', 'all_privat', 'all_rural','nlights_mean', 'tsce']] \n",
    "y = df_sub.loc[:, 'Submitted']\n",
    "\n",
    "m = PanelOLS(dependent=y, exog=X, entity_effects=True, time_effects=True, drop_absorbed = True)\n",
    "model8 = m.fit(cov_type='clustered', cluster_time=True, cluster_entity=True)\n",
    "\n",
    "\n",
    "print(compare({\"model1\": model1, \"model2\": model2, \"model3\": model3, \"model4\": model4, \"model5\": model5, \"model6\": model6, \"model7\": model7, \"model8\": model8}, precision = 'std_errors', stars = True))"
   ]
  },
  {
   "cell_type": "code",
   "execution_count": null,
   "metadata": {},
   "outputs": [],
   "source": [
    "# GARMENTS\n",
    "X = df_sub.loc[:,['religiousGarmentFemale_dummy']] \n",
    "y = df_sub.loc[:, 'Submitted']\n",
    "\n",
    "m = PanelOLS(dependent=y, exog=X, entity_effects=True, time_effects=True, drop_absorbed = True)\n",
    "model1 =  m.fit(cov_type='clustered', cluster_time=True, cluster_entity=True)\n",
    "\n",
    "X = df_sub.loc[:,[ 'female_dummy', 'religiousGarmentFemale_dummy']] \n",
    "y = df_sub.loc[:, 'Submitted']\n",
    "\n",
    "m = PanelOLS(dependent=y, exog=X, entity_effects=True, time_effects=True, drop_absorbed = True)\n",
    "model2 = m.fit(cov_type='clustered', cluster_time=True, cluster_entity=True)\n",
    "\n",
    "X = df_sub.loc[:,[ 'female_dummy', 'religiousGarmentFemale_dummy', 'person_dummy']] \n",
    "y = df_sub.loc[:, 'Submitted']\n",
    "\n",
    "m = PanelOLS(dependent=y, exog=X, entity_effects=True, time_effects=True, drop_absorbed = True)\n",
    "model3 = m.fit(cov_type='clustered', cluster_time=True, cluster_entity=True)\n",
    "\n",
    "X = df_sub.loc[:,[ 'female_dummy', 'religiousGarmentFemale_dummy', 'person_dummy', 'all_privat']] \n",
    "y = df_sub.loc[:, 'Submitted']\n",
    "\n",
    "m = PanelOLS(dependent=y, exog=X, entity_effects=True, time_effects=True, drop_absorbed = True)\n",
    "model4 = m.fit(cov_type='clustered', cluster_time=True, cluster_entity=True)\n",
    "\n",
    "\n",
    "X = df_sub.loc[:,[ 'female_dummy', 'religiousGarmentFemale_dummy', 'person_dummy', 'all_privat', 'all_rural']] \n",
    "y = df_sub.loc[:, 'Submitted']\n",
    "\n",
    "m = PanelOLS(dependent=y, exog=X, entity_effects=True, time_effects=True, drop_absorbed = True)\n",
    "model5 = m.fit(cov_type='clustered', cluster_time=True, cluster_entity=True)\n",
    "\n",
    "\n",
    "X = df_sub.loc[:,[ 'female_dummy', 'religiousGarmentFemale_dummy', 'person_dummy', 'all_privat', 'all_rural','nlights_mean']] \n",
    "y = df_sub.loc[:, 'Submitted']\n",
    "\n",
    "m = PanelOLS(dependent=y, exog=X, entity_effects=True, time_effects=True, drop_absorbed = True)\n",
    "model6 = m.fit(cov_type='clustered', cluster_time=True, cluster_entity=True)\n",
    "\n",
    "\n",
    "X = df_sub.loc[:,[ 'female_dummy', 'religiousGarmentFemale_dummy', 'person_dummy', 'all_privat', 'all_rural','nlights_mean', 'log_best']] \n",
    "y = df_sub.loc[:, 'Submitted']\n",
    "\n",
    "m = PanelOLS(dependent=y, exog=X, entity_effects=True, time_effects=True, drop_absorbed = True)\n",
    "model7 = m.fit(cov_type='clustered', cluster_time=True, cluster_entity=True)\n",
    "\n",
    "X = df_sub.loc[:,[ 'female_dummy', 'religiousGarmentFemale_dummy', 'person_dummy', 'all_privat', 'all_rural','nlights_mean', 'tce']] \n",
    "y = df_sub.loc[:, 'Submitted']\n",
    "\n",
    "m = PanelOLS(dependent=y, exog=X, entity_effects=True, time_effects=True, drop_absorbed = True)\n",
    "model8 = m.fit(cov_type='clustered', cluster_time=True, cluster_entity=True)\n",
    "\n",
    "X = df_sub.loc[:,[ 'female_dummy', 'religiousGarmentFemale_dummy', 'person_dummy', 'all_privat', 'all_rural','nlights_mean', 'tsce']] \n",
    "y = df_sub.loc[:, 'Submitted']\n",
    "\n",
    "m = PanelOLS(dependent=y, exog=X, entity_effects=True, time_effects=True, drop_absorbed = True)\n",
    "model9 = m.fit(cov_type='clustered', cluster_time=True, cluster_entity=True)\n",
    "\n",
    "\n",
    "print(compare({\"model1\": model1, \"model2\": model2, \"model3\": model3, \"model4\": model4, \"model5\": model5, \"model6\": model6, \"model7\": model7, \"model8\": model8, \"model9\": model9}, precision = 'std_errors', stars = True))"
   ]
  },
  {
   "cell_type": "code",
   "execution_count": null,
   "metadata": {},
   "outputs": [],
   "source": []
  },
  {
   "cell_type": "code",
   "execution_count": null,
   "metadata": {},
   "outputs": [],
   "source": []
  },
  {
   "cell_type": "code",
   "execution_count": null,
   "metadata": {},
   "outputs": [],
   "source": []
  },
  {
   "cell_type": "code",
   "execution_count": null,
   "metadata": {},
   "outputs": [],
   "source": [
    "df_sub[df_sub['female_dummy'] == 1].shape[0] / df_sub.shape[0]"
   ]
  },
  {
   "cell_type": "code",
   "execution_count": null,
   "metadata": {},
   "outputs": [],
   "source": [
    "df_sub[(df_sub['female_dummy'] == 1)&(df_sub['Submitted'] == 1)].shape[0] / df_sub[df_sub['Submitted'] == 1].shape[0]"
   ]
  },
  {
   "cell_type": "code",
   "execution_count": null,
   "metadata": {},
   "outputs": [],
   "source": [
    "df_sub[df_sub['Submitted'] == 1].shape[0]"
   ]
  },
  {
   "cell_type": "code",
   "execution_count": null,
   "metadata": {},
   "outputs": [],
   "source": [
    "df_sub[(df_sub['religiousGarmentFemale_dummy'] == 1)&(df_sub['Submitted'] == 1)].shape[0]"
   ]
  },
  {
   "cell_type": "code",
   "execution_count": null,
   "metadata": {},
   "outputs": [],
   "source": []
  },
  {
   "cell_type": "code",
   "execution_count": null,
   "metadata": {},
   "outputs": [],
   "source": []
  },
  {
   "cell_type": "code",
   "execution_count": null,
   "metadata": {},
   "outputs": [],
   "source": []
  },
  {
   "cell_type": "code",
   "execution_count": null,
   "metadata": {},
   "outputs": [],
   "source": [
    "\n",
    "X = df_sub.loc[:,['tce']] \n",
    "y = df_sub.loc[:, 'Submitted']\n",
    "\n",
    "m = PanelOLS(dependent=y, exog=X, entity_effects=True, time_effects=True, drop_absorbed = True)\n",
    "model1 =  m.fit(cov_type='clustered', cluster_time=True, cluster_entity=True)\n",
    "\n",
    "X = df_sub.loc[:,['tce', 'log_best']] \n",
    "y = df_sub.loc[:, 'Submitted']\n",
    "\n",
    "m = PanelOLS(dependent=y, exog=X, entity_effects=True, time_effects=True, drop_absorbed = True)\n",
    "model2 = m.fit(cov_type='clustered', cluster_time=True, cluster_entity=True)\n",
    "\n",
    "X = df_sub.loc[:,['tce', 'log_best', 'nlights_mean']] \n",
    "y = df_sub.loc[:, 'Submitted']\n",
    "\n",
    "m = PanelOLS(dependent=y, exog=X, entity_effects=True, time_effects=True, drop_absorbed = True)\n",
    "model3 = m.fit(cov_type='clustered', cluster_time=True, cluster_entity=True)\n",
    "\n",
    "\n",
    "print(compare({\"model1\": model1, \"model2\": model2, \"model3\": model3}, precision = 'std_errors', stars = True))"
   ]
  },
  {
   "cell_type": "code",
   "execution_count": null,
   "metadata": {},
   "outputs": [],
   "source": [
    "\n",
    "X = df_sub.loc[:,['tsce']] \n",
    "y = df_sub.loc[:, 'Submitted']\n",
    "\n",
    "m = PanelOLS(dependent=y, exog=X, entity_effects=True, time_effects=True, drop_absorbed = True)\n",
    "model1 =  m.fit(cov_type='clustered', cluster_time=True, cluster_entity=True)\n",
    "\n",
    "X = df_sub.loc[:,['tsce', 'log_best']] \n",
    "y = df_sub.loc[:, 'Submitted']\n",
    "\n",
    "m = PanelOLS(dependent=y, exog=X, entity_effects=True, time_effects=True, drop_absorbed = True)\n",
    "model2 = m.fit(cov_type='clustered', cluster_time=True, cluster_entity=True)\n",
    "\n",
    "X = df_sub.loc[:,['tsce', 'log_best', 'nlights_mean']] \n",
    "y = df_sub.loc[:, 'Submitted']\n",
    "\n",
    "m = PanelOLS(dependent=y, exog=X, entity_effects=True, time_effects=True, drop_absorbed = True)\n",
    "model3 = m.fit(cov_type='clustered', cluster_time=True, cluster_entity=True)\n",
    "\n",
    "\n",
    "print(compare({\"model1\": model1, \"model2\": model2, \"model3\": model3}, precision = 'std_errors', stars = True))"
   ]
  },
  {
   "cell_type": "code",
   "execution_count": null,
   "metadata": {},
   "outputs": [],
   "source": [
    "sns.heatmap(df_sub.loc[:,['tce','tsce', 'log_best', 'nlights_mean']].corr(), cmap= 'Reds' , annot=True)\n",
    "plt.show()"
   ]
  },
  {
   "cell_type": "code",
   "execution_count": null,
   "metadata": {},
   "outputs": [],
   "source": []
  },
  {
   "cell_type": "markdown",
   "metadata": {},
   "source": [
    "# Summary: VVV"
   ]
  },
  {
   "cell_type": "code",
   "execution_count": null,
   "metadata": {},
   "outputs": [],
   "source": [
    "#'nlights_calib_mean', 'nlights_mean', 'nlights_calib_mean_observed', 'nlights_mean_observed', \n",
    "df_sub['llights'] = np.log(df_sub['nlights_calib_mean'])\n",
    "\n",
    "# X = df_sub.loc[:,['log_best']] \n",
    "# y = df_sub.loc[:, 'religiousGarmentFemale_mean']\n",
    "\n",
    "# m = PanelOLS(dependent=y, exog=X, entity_effects=True, time_effects=True, drop_absorbed = True)\n",
    "# model1 =  m.fit(cov_type='clustered', cluster_time=True, cluster_entity=True)\n",
    "\n",
    "\n",
    "X = df_sub.loc[:,['log_best', 'female_mean']] \n",
    "X = sm.add_constant(X)\n",
    "y = df_sub.loc[:, 'religiousGarmentFemale_mean']\n",
    "\n",
    "m = PanelOLS(dependent=y, exog=X, entity_effects=True, time_effects=True, drop_absorbed = True)\n",
    "model1 =  m.fit(cov_type='clustered', cluster_time=True, cluster_entity=True)\n",
    "\n",
    "\n",
    "X = df_sub.loc[:,['log_best', 'female_mean', 'all_public']] \n",
    "X = sm.add_constant(X)\n",
    "y = df_sub.loc[:, 'religiousGarmentFemale_mean']\n",
    "\n",
    "m = PanelOLS(dependent=y, exog=X, entity_effects=True, time_effects=True, drop_absorbed = True)\n",
    "model2 =  m.fit(cov_type='clustered', cluster_time=True, cluster_entity=True)\n",
    "\n",
    "\n",
    "X = df_sub.loc[:,['log_best', 'female_mean', 'all_privat']] \n",
    "X = sm.add_constant(X)\n",
    "y = df_sub.loc[:, 'religiousGarmentFemale_mean']\n",
    "\n",
    "m = PanelOLS(dependent=y, exog=X, entity_effects=True, time_effects=True, drop_absorbed = True)\n",
    "model3 =  m.fit(cov_type='clustered', cluster_time=True, cluster_entity=True)\n",
    "\n",
    "X = df_sub.loc[:,['log_best', 'female_mean', 'all_public', 'all_privat']] \n",
    "X = sm.add_constant(X)\n",
    "y = df_sub.loc[:, 'religiousGarmentFemale_mean']\n",
    "\n",
    "m = PanelOLS(dependent=y, exog=X, entity_effects=True, time_effects=True, drop_absorbed = True)\n",
    "model4 =  m.fit(cov_type='clustered', cluster_time=True, cluster_entity=True)\n",
    "\n",
    "\n",
    "X = df_sub.loc[:,['log_best', 'female_mean', 'all_public', 'all_privat', 'uniformed_dummy']] \n",
    "X = sm.add_constant(X)\n",
    "y = df_sub.loc[:, 'religiousGarmentFemale_mean']\n",
    "\n",
    "m = PanelOLS(dependent=y, exog=X, entity_effects=True, time_effects=True, drop_absorbed = True)\n",
    "model5 =  m.fit(cov_type='clustered', cluster_time=True, cluster_entity=True)\n",
    "\n",
    "\n",
    "X = df_sub.loc[:,['log_best', 'female_mean', 'all_public', 'all_privat', 'uniformed_dummy', 'nlights_calib_mean']] \n",
    "X = sm.add_constant(X)\n",
    "y = df_sub.loc[:, 'religiousGarmentFemale_mean']\n",
    "\n",
    "m = PanelOLS(dependent=y, exog=X, entity_effects=True, time_effects=True, drop_absorbed = True)\n",
    "model6 =  m.fit(cov_type='clustered', cluster_time=True, cluster_entity=True)\n",
    "\n",
    "\n",
    "print(compare({\"model1\": model1, \"model2\": model2, \"model3\": model3,  \"model4\": model4, \"model5\": model5, \"model6\": model6}, precision = 'std_errors', stars = True))"
   ]
  },
  {
   "cell_type": "code",
   "execution_count": null,
   "metadata": {},
   "outputs": [],
   "source": []
  },
  {
   "cell_type": "code",
   "execution_count": null,
   "metadata": {},
   "outputs": [],
   "source": []
  },
  {
   "cell_type": "code",
   "execution_count": null,
   "metadata": {},
   "outputs": [],
   "source": []
  },
  {
   "cell_type": "code",
   "execution_count": null,
   "metadata": {},
   "outputs": [],
   "source": []
  },
  {
   "cell_type": "code",
   "execution_count": null,
   "metadata": {},
   "outputs": [],
   "source": []
  },
  {
   "cell_type": "code",
   "execution_count": null,
   "metadata": {},
   "outputs": [],
   "source": []
  },
  {
   "cell_type": "code",
   "execution_count": null,
   "metadata": {},
   "outputs": [],
   "source": []
  },
  {
   "cell_type": "code",
   "execution_count": null,
   "metadata": {},
   "outputs": [],
   "source": []
  },
  {
   "cell_type": "code",
   "execution_count": null,
   "metadata": {},
   "outputs": [],
   "source": [
    "#'nlights_calib_mean', 'nlights_mean', 'nlights_calib_mean_observed', 'nlights_mean_observed', \n",
    "\n",
    "df_sub['llights'] = np.log(df_sub['nlights_calib_mean'])\n",
    "#df_sub1 = df_sub[df_sub['person_mean'] != 0] # no people, no entry\n",
    "\n",
    "X = df_sub1.loc[:,['log_best']] \n",
    "y = df_sub1.loc[:, 'religiousGarmentFemale_mean']\n",
    "\n",
    "m = PanelOLS(dependent=y, exog=X, entity_effects=True, time_effects=True, drop_absorbed = True)\n",
    "model1 =  m.fit(cov_type='clustered', cluster_time=True, cluster_entity=True)\n",
    "\n",
    "X = df_sub1.loc[:,['log_best', 'all_public']] \n",
    "y = df_sub1.loc[:, 'religiousGarmentFemale_mean']\n",
    "\n",
    "m = PanelOLS(dependent=y, exog=X, entity_effects=True, time_effects=True, drop_absorbed = True)\n",
    "model2 = m.fit(cov_type='clustered', cluster_time=True, cluster_entity=True)\n",
    "\n",
    "X = df_sub1.loc[:,['log_best', 'all_public', 'all_rural']] \n",
    "y = df_sub1.loc[:, 'religiousGarmentFemale_mean']\n",
    "\n",
    "m = PanelOLS(dependent=y, exog=X, entity_effects=True, time_effects=True, drop_absorbed = True)\n",
    "model3 = m.fit(cov_type='clustered', cluster_time=True, cluster_entity=True)\n",
    "\n",
    "X = df_sub1.loc[:,['log_best', 'all_public', 'all_rural', 'llights']] \n",
    "y = df_sub1.loc[:, 'religiousGarmentFemale_mean']\n",
    "\n",
    "m = PanelOLS(dependent=y, exog=X, entity_effects=True, time_effects=True, drop_absorbed = True)\n",
    "model4 =  m.fit(cov_type='clustered', cluster_time=True, cluster_entity=True)\n",
    "\n",
    "\n",
    "X = df_sub1.loc[:,['log_best', 'all_public', 'all_rural', 'llights', 'Submitted']] \n",
    "y = df_sub1.loc[:, 'religiousGarmentFemale_mean']\n",
    "\n",
    "m = PanelOLS(dependent=y, exog=X, entity_effects=True, time_effects=True, drop_absorbed = True)\n",
    "model5 = m.fit(cov_type='clustered', cluster_time=True, cluster_entity=True)\n",
    "\n",
    "\n",
    "X = df_sub1.loc[:,['log_best', 'all_public', 'all_rural', 'llights', 'Submitted', 'uniformed_mean']] \n",
    "y = df_sub1.loc[:, 'religiousGarmentFemale_mean']\n",
    "\n",
    "m = PanelOLS(dependent=y, exog=X, entity_effects=True, time_effects=True, drop_absorbed = True)\n",
    "model6 = m.fit(cov_type='clustered', cluster_time=True, cluster_entity=True)\n",
    "\n",
    "print(compare({\"model1\": model1, \"model2\": model2, \"model3\": model3, \"model4\" : model4, \"model4\" : model5, \"model4\" : model6}, precision = 'std_errors', stars = True))"
   ]
  },
  {
   "cell_type": "code",
   "execution_count": null,
   "metadata": {},
   "outputs": [],
   "source": []
  },
  {
   "cell_type": "code",
   "execution_count": null,
   "metadata": {},
   "outputs": [],
   "source": []
  },
  {
   "cell_type": "code",
   "execution_count": null,
   "metadata": {},
   "outputs": [],
   "source": []
  },
  {
   "cell_type": "code",
   "execution_count": null,
   "metadata": {},
   "outputs": [],
   "source": []
  },
  {
   "cell_type": "code",
   "execution_count": null,
   "metadata": {},
   "outputs": [],
   "source": []
  },
  {
   "cell_type": "code",
   "execution_count": null,
   "metadata": {},
   "outputs": [],
   "source": [
    "#'nlights_calib_mean', 'nlights_mean', 'nlights_calib_mean_observed', 'nlights_mean_observed', \n",
    "\n",
    "df_sub['llights'] = np.log(df_sub['nlights_calib_mean'])\n",
    "df_sub1 = df_sub[df_sub['person_mean'] != 0] # no people, no entry\n",
    "\n",
    "\n",
    "\n",
    "X = df_sub1.loc[:,['log_best']] \n",
    "X = sm.add_constant(X)\n",
    "y = df_sub1.loc[:, 'religiousGarmentFemale_mean']\n",
    "\n",
    "m = PanelOLS(dependent=y, exog=X, entity_effects=True, time_effects=True, drop_absorbed = True)\n",
    "model1 =  m.fit(cov_type='clustered', cluster_time=True, cluster_entity=True)\n",
    "\n",
    "X = df_sub1.loc[:,['log_best', 'all_public']]\n",
    "X = sm.add_constant(X)\n",
    "y = df_sub1.loc[:, 'religiousGarmentFemale_mean']\n",
    "\n",
    "m = PanelOLS(dependent=y, exog=X, entity_effects=True, time_effects=True, drop_absorbed = True)\n",
    "model2 = m.fit(cov_type='clustered', cluster_time=True, cluster_entity=True)\n",
    "\n",
    "X = df_sub1.loc[:,['log_best', 'all_public', 'all_rural']] \n",
    "X = sm.add_constant(X)\n",
    "y = df_sub1.loc[:, 'religiousGarmentFemale_mean']\n",
    "\n",
    "m = PanelOLS(dependent=y, exog=X, entity_effects=True, time_effects=True, drop_absorbed = True)\n",
    "model3 = m.fit(cov_type='clustered', cluster_time=True, cluster_entity=True)\n",
    "\n",
    "X = df_sub1.loc[:,['log_best', 'all_public', 'all_rural', 'llights']] \n",
    "X = sm.add_constant(X)\n",
    "y = df_sub1.loc[:, 'religiousGarmentFemale_mean']\n",
    "\n",
    "m = PanelOLS(dependent=y, exog=X, entity_effects=True, time_effects=True, drop_absorbed = True)\n",
    "model4 =  m.fit(cov_type='clustered', cluster_time=True, cluster_entity=True)\n",
    "\n",
    "\n",
    "X = df_sub1.loc[:,['log_best', 'all_public', 'all_rural', 'llights', 'Submitted']] \n",
    "X = sm.add_constant(X)\n",
    "y = df_sub1.loc[:, 'religiousGarmentFemale_mean']\n",
    "\n",
    "m = PanelOLS(dependent=y, exog=X, entity_effects=True, time_effects=True, drop_absorbed = True)\n",
    "model5 = m.fit(cov_type='clustered', cluster_time=True, cluster_entity=True)\n",
    "\n",
    "\n",
    "X = df_sub1.loc[:,['log_best', 'all_public', 'all_rural', 'llights', 'Submitted', 'uniformed_mean']] \n",
    "X = sm.add_constant(X)\n",
    "y = df_sub1.loc[:, 'religiousGarmentFemale_mean']\n",
    "\n",
    "m = PanelOLS(dependent=y, exog=X, entity_effects=True, time_effects=True, drop_absorbed = True)\n",
    "model6 = m.fit(cov_type='clustered', cluster_time=True, cluster_entity=True)\n",
    "\n",
    "print(compare({\"model1\": model1, \"model2\": model2, \"model3\": model3, \"model4\" : model4, \"model4\" : model5, \"model4\" : model6}, precision = 'std_errors', stars = True))"
   ]
  },
  {
   "cell_type": "code",
   "execution_count": null,
   "metadata": {},
   "outputs": [],
   "source": [
    "PanelOLS?"
   ]
  },
  {
   "cell_type": "code",
   "execution_count": null,
   "metadata": {},
   "outputs": [],
   "source": []
  },
  {
   "cell_type": "code",
   "execution_count": null,
   "metadata": {},
   "outputs": [],
   "source": []
  },
  {
   "cell_type": "code",
   "execution_count": null,
   "metadata": {},
   "outputs": [],
   "source": []
  },
  {
   "cell_type": "code",
   "execution_count": null,
   "metadata": {},
   "outputs": [],
   "source": []
  },
  {
   "cell_type": "code",
   "execution_count": null,
   "metadata": {},
   "outputs": [],
   "source": []
  },
  {
   "cell_type": "code",
   "execution_count": null,
   "metadata": {},
   "outputs": [],
   "source": []
  },
  {
   "cell_type": "code",
   "execution_count": null,
   "metadata": {},
   "outputs": [],
   "source": [
    "df_sub2 = df_sub.reset_index()"
   ]
  },
  {
   "cell_type": "code",
   "execution_count": null,
   "metadata": {},
   "outputs": [],
   "source": [
    "exog_x = ['log_best']\n",
    "y = ['religiousGarmentFemale_mean']\n",
    "\n",
    "category = ['gid', 'month_id', 'female_mean']\n",
    "cluster =  ['gid', 'month_id', 'female_mean']\n",
    "\n",
    "\n",
    "model_fe = fixedeffect(data_df = df_sub2,\n",
    "                      dependent = y,\n",
    "                      exog_x = exog_x,\n",
    "                      category = category,\n",
    "                      cluster = cluster)\n",
    "\n",
    "result = model_fe.fit()\n",
    "result.summary()"
   ]
  },
  {
   "cell_type": "code",
   "execution_count": null,
   "metadata": {},
   "outputs": [],
   "source": [
    "fixedeffect?"
   ]
  },
  {
   "cell_type": "code",
   "execution_count": null,
   "metadata": {},
   "outputs": [],
   "source": []
  },
  {
   "cell_type": "code",
   "execution_count": null,
   "metadata": {},
   "outputs": [],
   "source": []
  },
  {
   "cell_type": "code",
   "execution_count": null,
   "metadata": {},
   "outputs": [],
   "source": []
  },
  {
   "cell_type": "code",
   "execution_count": null,
   "metadata": {},
   "outputs": [],
   "source": [
    "X = df_sub.loc[:,['log_best', 'female_mean']] \n",
    "X = sm.add_constant(X)\n",
    "y = df_sub.loc[:, 'religiousGarmentFemale_mean']\n",
    "\n",
    "m = PanelOLS(dependent=y, exog=X, entity_effects=True, time_effects=True, drop_absorbed = True)\n",
    "model1 =  m.fit(cov_type='clustered', cluster_time=True, cluster_entity=True)\n",
    "\n",
    "X = df_sub.loc[:,['log_best', 'all_public', 'female_mean']] \n",
    "X = sm.add_constant(X)\n",
    "y = df_sub.loc[:, 'religiousGarmentFemale_mean']\n",
    "\n",
    "m = PanelOLS(dependent=y, exog=X, entity_effects=True, time_effects=True, drop_absorbed = True)\n",
    "model2 = m.fit(cov_type='clustered', cluster_time=True, cluster_entity=True)\n",
    "\n",
    "\n",
    "\n",
    "X = df_sub.loc[:,['log_best', 'all_public', 'all_rural', 'female_mean']] \n",
    "X = sm.add_constant(X)\n",
    "y = df_sub.loc[:, 'religiousGarmentFemale_mean']\n",
    "\n",
    "m = PanelOLS(dependent=y, exog=X, entity_effects=True, time_effects=True, drop_absorbed = True)\n",
    "model3 =  m.fit(cov_type='clustered', cluster_time=True, cluster_entity=True)\n",
    "\n",
    "\n",
    "\n",
    "X = df_sub.loc[:,['log_best', 'all_public', 'all_rural', 'nlights_mean', 'female_mean']] \n",
    "X = sm.add_constant(X)\n",
    "y = df_sub.loc[:, 'religiousGarmentFemale_mean']\n",
    "\n",
    "m = PanelOLS(dependent=y, exog=X, entity_effects=True, time_effects=True, drop_absorbed = True)\n",
    "model4 = m.fit(cov_type='clustered', cluster_time=True, cluster_entity=True)\n",
    "\n",
    "\n",
    "\n",
    "X = df_sub.loc[:,['log_best', 'all_public', 'all_rural', 'nlights_mean', 'Submitted', 'female_mean']] \n",
    "X = sm.add_constant(X)\n",
    "y = df_sub.loc[:, 'religiousGarmentFemale_mean']\n",
    "\n",
    "m = PanelOLS(dependent=y, exog=X, entity_effects=True, time_effects=True, drop_absorbed = True)\n",
    "model5 = m.fit(cov_type='clustered', cluster_time=True, cluster_entity=True)\n",
    "\n",
    "\n",
    "\n",
    "X = df_sub.loc[:,['log_best', 'all_public', 'all_rural', 'nlights_mean', 'Submitted', 'uniformed_mean', 'female_mean']] \n",
    "X = sm.add_constant(X)\n",
    "y = df_sub.loc[:, 'religiousGarmentFemale_mean']\n",
    "\n",
    "m = PanelOLS(dependent=y, exog=X, entity_effects=True, time_effects=True, drop_absorbed = True)\n",
    "model6 = m.fit(cov_type='clustered', cluster_time=True, cluster_entity=True)\n",
    "\n",
    "\n",
    "print(compare({\"model1\": model1, \"model2\": model2, \"model3\": model3, \"model4\" : model4, \"model5\" : model5, \"model6\" : model6}, precision = 'std_errors', stars = True))"
   ]
  },
  {
   "cell_type": "code",
   "execution_count": null,
   "metadata": {},
   "outputs": [],
   "source": []
  },
  {
   "cell_type": "code",
   "execution_count": null,
   "metadata": {},
   "outputs": [],
   "source": []
  },
  {
   "cell_type": "code",
   "execution_count": null,
   "metadata": {},
   "outputs": [],
   "source": []
  },
  {
   "cell_type": "code",
   "execution_count": null,
   "metadata": {},
   "outputs": [],
   "source": []
  },
  {
   "cell_type": "code",
   "execution_count": null,
   "metadata": {},
   "outputs": [],
   "source": []
  },
  {
   "cell_type": "markdown",
   "metadata": {},
   "source": [
    "# Story 1 front line to front page"
   ]
  },
  {
   "cell_type": "code",
   "execution_count": null,
   "metadata": {},
   "outputs": [],
   "source": [
    "X = df_sub.loc[:,['person_dummy']] # raw is ref\n",
    "y = df_sub.loc[:, 'Submitted']\n",
    "\n",
    "#X = sm.add_constant(X)\n",
    "\n",
    "\n",
    "m = PanelOLS(dependent=y,\n",
    "            exog=X,\n",
    "            entity_effects=True,\n",
    "            time_effects=True,\n",
    "            drop_absorbed = True)\n",
    "\n",
    "# m = PanelOLS.from_formula('female_mean ~ log_best + Published + Submitted + person_mean + EntityEffects + TimeEffects', data=df_sub)\n",
    "\n",
    "m.fit(cov_type='clustered', cluster_time=True, cluster_entity=True)"
   ]
  },
  {
   "cell_type": "markdown",
   "metadata": {},
   "source": [
    "Not sig on 95 but is seems most submitted images contains persons"
   ]
  },
  {
   "cell_type": "code",
   "execution_count": null,
   "metadata": {},
   "outputs": [],
   "source": [
    "X = df_sub.loc[:,['person_dummy', 'female_dummy']] # raw is ref\n",
    "y = df_sub.loc[:, 'Submitted']\n",
    "\n",
    "m = PanelOLS(dependent=y,\n",
    "            exog=X,\n",
    "            entity_effects=True,\n",
    "            time_effects=True,\n",
    "            drop_absorbed = True)\n",
    "\n",
    "# m = PanelOLS.from_formula('female_mean ~ log_best + Published + Submitted + person_mean + EntityEffects + TimeEffects', data=df_sub)\n",
    "\n",
    "m.fit(cov_type='clustered', cluster_time=True, cluster_entity=True)\n",
    "\n"
   ]
  },
  {
   "cell_type": "code",
   "execution_count": null,
   "metadata": {},
   "outputs": [],
   "source": [
    "X = df_sub.loc[:,['person_mean', 'female_mean']] # raw is ref\n",
    "y = df_sub.loc[:, 'Submitted']\n",
    "\n",
    "m = PanelOLS(dependent=y,\n",
    "            exog=X,\n",
    "            entity_effects=True,\n",
    "            time_effects=True,\n",
    "            drop_absorbed = True)\n",
    "\n",
    "# m = PanelOLS.from_formula('female_mean ~ log_best + Published + Submitted + person_mean + EntityEffects + TimeEffects', data=df_sub)\n",
    "\n",
    "m.fit(cov_type='clustered', cluster_time=True, cluster_entity=True)\n"
   ]
  },
  {
   "cell_type": "markdown",
   "metadata": {},
   "source": [
    "So no matter if you use Dummy or count female mean more higher prop of submitting"
   ]
  },
  {
   "cell_type": "code",
   "execution_count": null,
   "metadata": {},
   "outputs": [],
   "source": [
    "X = df_sub.loc[:,['person_dummy', 'female_dummy', 'religiousGarmentFemale_dummy']] # raw is ref\n",
    "y = df_sub.loc[:, 'Submitted']\n",
    "\n",
    "m = PanelOLS(dependent=y,\n",
    "            exog=X,\n",
    "            entity_effects=True,\n",
    "            time_effects=True,\n",
    "            drop_absorbed = True)\n",
    "\n",
    "# m = PanelOLS.from_formula('female_mean ~ log_best + Published + Submitted + person_mean + EntityEffects + TimeEffects', data=df_sub)\n",
    "\n",
    "m.fit(cov_type='clustered', cluster_time=True, cluster_entity=True)\n"
   ]
  },
  {
   "cell_type": "code",
   "execution_count": null,
   "metadata": {},
   "outputs": [],
   "source": [
    "X = df_sub.loc[:,['person_mean', 'female_mean', 'religiousGarmentFemale_mean']] # raw is ref\n",
    "y = df_sub.loc[:, 'Submitted']\n",
    "\n",
    "m = PanelOLS(dependent=y,\n",
    "            exog=X,\n",
    "            entity_effects=True,\n",
    "            time_effects=True,\n",
    "            drop_absorbed = True)\n",
    "\n",
    "# m = PanelOLS.from_formula('female_mean ~ log_best + Published + Submitted + person_mean + EntityEffects + TimeEffects', data=df_sub)\n",
    "\n",
    "m.fit(cov_type='clustered', cluster_time=True, cluster_entity=True)\n"
   ]
  },
  {
   "cell_type": "markdown",
   "metadata": {},
   "source": [
    "Garments also give a higher prob of submission - but only the dummy. There is also a very high co-linearity. If you remove person, garments is almost sig on 95. "
   ]
  },
  {
   "cell_type": "code",
   "execution_count": null,
   "metadata": {},
   "outputs": [],
   "source": [
    "X = df_sub.loc[:,['female_dummy', 'religiousGarmentFemale_dummy']] # raw is ref\n",
    "y = df_sub.loc[:, 'Submitted']\n",
    "\n",
    "m = PanelOLS(dependent=y,\n",
    "            exog=X,\n",
    "            entity_effects=True,\n",
    "            time_effects=True,\n",
    "            drop_absorbed = True)\n",
    "\n",
    "# m = PanelOLS.from_formula('female_mean ~ log_best + Published + Submitted + person_mean + EntityEffects + TimeEffects', data=df_sub)\n",
    "\n",
    "m.fit(cov_type='clustered', cluster_time=True, cluster_entity=True)\n"
   ]
  },
  {
   "cell_type": "markdown",
   "metadata": {},
   "source": [
    "It does not make alot of sense to includer person. both female and garments are highly significant if we ommit person\n",
    "\n",
    "So to sum up:"
   ]
  },
  {
   "cell_type": "code",
   "execution_count": null,
   "metadata": {},
   "outputs": [],
   "source": [
    "X = df_sub.loc[:,['person_dummy']] \n",
    "y = df_sub.loc[:, 'Submitted']\n",
    "\n",
    "m = PanelOLS(dependent=y, exog=X, entity_effects=True, time_effects=True, drop_absorbed = True)\n",
    "model1 = m.fit(cov_type='clustered', cluster_time=True, cluster_entity=True)\n",
    "\n",
    "X = df_sub.loc[:,['person_dummy', 'female_dummy']] \n",
    "y = df_sub.loc[:, 'Submitted']\n",
    "\n",
    "m = PanelOLS(dependent=y, exog=X, entity_effects=True, time_effects=True, drop_absorbed = True)\n",
    "model2 =  m.fit(cov_type='clustered', cluster_time=True, cluster_entity=True)\n",
    "\n",
    "\n",
    "X = df_sub.loc[:,['person_dummy', 'female_dummy', 'religiousGarmentFemale_dummy']] \n",
    "y = df_sub.loc[:, 'Submitted']\n",
    "\n",
    "m = PanelOLS(dependent=y, exog=X, entity_effects=True, time_effects=True, drop_absorbed = True)\n",
    "model3 = m.fit(cov_type='clustered', cluster_time=True, cluster_entity=True)\n",
    "\n",
    "\n",
    "X = df_sub.loc[:,['female_dummy', 'religiousGarmentFemale_dummy']] \n",
    "y = df_sub.loc[:, 'Submitted']\n",
    "\n",
    "m = PanelOLS(dependent=y, exog=X, entity_effects=True, time_effects=True, drop_absorbed = True)\n",
    "model4 = m.fit(cov_type='clustered', cluster_time=True, cluster_entity=True)\n",
    "\n",
    "print(compare({\"model1\": model1, \"model2\": model2, \"model3\": model3, \"model4\" : model4}, precision = 'std_errors', stars = True))"
   ]
  },
  {
   "cell_type": "markdown",
   "metadata": {},
   "source": [
    "### the savoir story"
   ]
  },
  {
   "cell_type": "code",
   "execution_count": null,
   "metadata": {},
   "outputs": [],
   "source": [
    "\n",
    "\n",
    "X = df_sub.loc[:,['person_dummy', 'female_dummy', 'religiousGarmentFemale_dummy', 'intDUniDGar', 'uniformed_dummy']] \n",
    "y = df_sub.loc[:, 'Submitted']\n",
    "\n",
    "m = PanelOLS(dependent=y, exog=X, entity_effects=True, time_effects=True, drop_absorbed = True)\n",
    "model1 =  m.fit(cov_type='clustered', cluster_time=True, cluster_entity=True)\n",
    "\n",
    "\n",
    "X = df_sub.loc[:,['person_dummy', 'female_dummy', 'religiousGarmentFemale_dummy', 'intDFirDGar', 'firearm_dummy']] \n",
    "y = df_sub.loc[:, 'Submitted']\n",
    "\n",
    "m = PanelOLS(dependent=y, exog=X, entity_effects=True, time_effects=True, drop_absorbed = True)\n",
    "model2 = m.fit(cov_type='clustered', cluster_time=True, cluster_entity=True)\n",
    "\n",
    "\n",
    "X = df_sub.loc[:,['female_dummy', 'religiousGarmentFemale_dummy', 'intDUniDGar', 'uniformed_dummy']] \n",
    "y = df_sub.loc[:, 'Submitted']\n",
    "\n",
    "m = PanelOLS(dependent=y, exog=X, entity_effects=True, time_effects=True, drop_absorbed = True)\n",
    "model3 =  m.fit(cov_type='clustered', cluster_time=True, cluster_entity=True)\n",
    "\n",
    "\n",
    "X = df_sub.loc[:,['female_dummy', 'religiousGarmentFemale_dummy', 'intDFirDGar', 'firearm_dummy']] \n",
    "y = df_sub.loc[:, 'Submitted']\n",
    "\n",
    "m = PanelOLS(dependent=y, exog=X, entity_effects=True, time_effects=True, drop_absorbed = True)\n",
    "model4 = m.fit(cov_type='clustered', cluster_time=True, cluster_entity=True)\n",
    "\n",
    "print(compare({\"model1\": model1, \"model2\": model2, \"model3\": model3, \"model4\": model4}, precision = 'std_errors', stars = True))"
   ]
  },
  {
   "cell_type": "code",
   "execution_count": null,
   "metadata": {},
   "outputs": [],
   "source": []
  },
  {
   "cell_type": "code",
   "execution_count": null,
   "metadata": {},
   "outputs": [],
   "source": []
  },
  {
   "cell_type": "code",
   "execution_count": null,
   "metadata": {},
   "outputs": [],
   "source": []
  },
  {
   "cell_type": "code",
   "execution_count": null,
   "metadata": {},
   "outputs": [],
   "source": [
    "X = df_sub.loc[:,['person_dummy', 'female_dummy', 'religiousGarmentFemale_dummy', 'intDUniDGar', 'uniformed_dummy']] # raw is ref\n",
    "y = df_sub.loc[:, 'Submitted']\n",
    "\n",
    "m = PanelOLS(dependent=y,\n",
    "            exog=X,\n",
    "            entity_effects=True,\n",
    "            time_effects=True,\n",
    "            drop_absorbed = True)\n",
    "\n",
    "# m = PanelOLS.from_formula('female_mean ~ log_best + Published + Submitted + person_mean + EntityEffects + TimeEffects', data=df_sub)\n",
    "\n",
    "m.fit(cov_type='clustered', cluster_time=True, cluster_entity=True)\n"
   ]
  },
  {
   "cell_type": "code",
   "execution_count": null,
   "metadata": {},
   "outputs": [],
   "source": [
    "X = df_sub.loc[:,['female_dummy', 'religiousGarmentFemale_dummy', 'intDUniDGar', 'uniformed_dummy']] # raw is ref\n",
    "y = df_sub.loc[:, 'Submitted']\n",
    "\n",
    "m = PanelOLS(dependent=y,\n",
    "            exog=X,\n",
    "            entity_effects=True,\n",
    "            time_effects=True,\n",
    "            drop_absorbed = True)\n",
    "\n",
    "# m = PanelOLS.from_formula('female_mean ~ log_best + Published + Submitted + person_mean + EntityEffects + TimeEffects', data=df_sub)\n",
    "\n",
    "m.fit(cov_type='clustered', cluster_time=True, cluster_entity=True)\n"
   ]
  },
  {
   "cell_type": "markdown",
   "metadata": {},
   "source": [
    "So uniforms does not do a difference"
   ]
  },
  {
   "cell_type": "code",
   "execution_count": null,
   "metadata": {},
   "outputs": [],
   "source": [
    "X = df_sub.loc[:,['person_dummy', 'female_dummy', 'religiousGarmentFemale_dummy', 'intMilDGar', 'all_militarized']] # raw is ref\n",
    "y = df_sub.loc[:, 'Submitted']\n",
    "\n",
    "m = PanelOLS(dependent=y,\n",
    "            exog=X,\n",
    "            entity_effects=True,\n",
    "            time_effects=True,\n",
    "            drop_absorbed = True)\n",
    "\n",
    "# m = PanelOLS.from_formula('female_mean ~ log_best + Published + Submitted + person_mean + EntityEffects + TimeEffects', data=df_sub)\n",
    "\n",
    "m.fit(cov_type='clustered', cluster_time=True, cluster_entity=True)\n"
   ]
  },
  {
   "cell_type": "code",
   "execution_count": null,
   "metadata": {},
   "outputs": [],
   "source": [
    "X = df_sub.loc[:,['female_dummy', 'religiousGarmentFemale_dummy', 'intMilDGar', 'all_militarized']] # raw is ref\n",
    "y = df_sub.loc[:, 'Submitted']\n",
    "\n",
    "m = PanelOLS(dependent=y,\n",
    "            exog=X,\n",
    "            entity_effects=True,\n",
    "            time_effects=True,\n",
    "            drop_absorbed = True)\n",
    "\n",
    "# m = PanelOLS.from_formula('female_mean ~ log_best + Published + Submitted + person_mean + EntityEffects + TimeEffects', data=df_sub)\n",
    "\n",
    "m.fit(cov_type='clustered', cluster_time=True, cluster_entity=True)\n"
   ]
  },
  {
   "cell_type": "markdown",
   "metadata": {},
   "source": [
    "Neiter does militarization"
   ]
  },
  {
   "cell_type": "code",
   "execution_count": null,
   "metadata": {},
   "outputs": [],
   "source": [
    "X = df_sub.loc[:,['person_dummy', 'female_dummy', 'religiousGarmentFemale_dummy', 'intDFirDGar', 'firearm_dummy']] # raw is ref\n",
    "y = df_sub.loc[:, 'Submitted']\n",
    "\n",
    "m = PanelOLS(dependent=y,\n",
    "            exog=X,\n",
    "            entity_effects=True,\n",
    "            time_effects=True,\n",
    "            drop_absorbed = True)\n",
    "\n",
    "# m = PanelOLS.from_formula('female_mean ~ log_best + Published + Submitted + person_mean + EntityEffects + TimeEffects', data=df_sub)\n",
    "\n",
    "m.fit(cov_type='clustered', cluster_time=True, cluster_entity=True)\n"
   ]
  },
  {
   "cell_type": "code",
   "execution_count": null,
   "metadata": {},
   "outputs": [],
   "source": [
    "X = df_sub.loc[:,['female_dummy', 'religiousGarmentFemale_dummy', 'intDFirDGar', 'firearm_dummy']] # raw is ref\n",
    "y = df_sub.loc[:, 'Submitted']\n",
    "\n",
    "m = PanelOLS(dependent=y,\n",
    "            exog=X,\n",
    "            entity_effects=True,\n",
    "            time_effects=True,\n",
    "            drop_absorbed = True)\n",
    "\n",
    "# m = PanelOLS.from_formula('female_mean ~ log_best + Published + Submitted + person_mean + EntityEffects + TimeEffects', data=df_sub)\n",
    "\n",
    "m.fit(cov_type='clustered', cluster_time=True, cluster_entity=True)\n"
   ]
  },
  {
   "cell_type": "markdown",
   "metadata": {},
   "source": [
    "But guns! That works"
   ]
  },
  {
   "cell_type": "code",
   "execution_count": null,
   "metadata": {},
   "outputs": [],
   "source": [
    "X = df_sub.loc[:,['person_dummy', 'female_dummy', 'religiousGarmentFemale_dummy', 'intDFirDGar','intDFirDFem', 'firearm_dummy']] # raw is ref\n",
    "y = df_sub.loc[:, 'Submitted']\n",
    "\n",
    "m = PanelOLS(dependent=y,\n",
    "            exog=X,\n",
    "            entity_effects=True,\n",
    "            time_effects=True,\n",
    "            drop_absorbed = True)\n",
    "\n",
    "# m = PanelOLS.from_formula('female_mean ~ log_best + Published + Submitted + person_mean + EntityEffects + TimeEffects', data=df_sub)\n",
    "\n",
    "m.fit(cov_type='clustered', cluster_time=True, cluster_entity=True)\n"
   ]
  },
  {
   "cell_type": "code",
   "execution_count": null,
   "metadata": {},
   "outputs": [],
   "source": [
    "X = df_sub.loc[:,['female_dummy', 'religiousGarmentFemale_dummy', 'intDFirDGar','intDFirDFem', 'firearm_dummy']] # raw is ref\n",
    "y = df_sub.loc[:, 'Submitted']\n",
    "\n",
    "m = PanelOLS(dependent=y,\n",
    "            exog=X,\n",
    "            entity_effects=True,\n",
    "            time_effects=True,\n",
    "            drop_absorbed = True)\n",
    "\n",
    "# m = PanelOLS.from_formula('female_mean ~ log_best + Published + Submitted + person_mean + EntityEffects + TimeEffects', data=df_sub)\n",
    "\n",
    "m.fit(cov_type='clustered', cluster_time=True, cluster_entity=True)\n"
   ]
  },
  {
   "cell_type": "code",
   "execution_count": null,
   "metadata": {},
   "outputs": [],
   "source": [
    "X = df_sub.loc[:,['person_dummy', 'female_dummy', 'religiousGarmentFemale_dummy', 'intDFirDGar','uniformed_dummy', 'firearm_dummy']] # raw is ref\n",
    "y = df_sub.loc[:, 'Submitted']\n",
    "\n",
    "m = PanelOLS(dependent=y,\n",
    "            exog=X,\n",
    "            entity_effects=True,\n",
    "            time_effects=True,\n",
    "            drop_absorbed = True)\n",
    "\n",
    "# m = PanelOLS.from_formula('female_mean ~ log_best + Published + Submitted + person_mean + EntityEffects + TimeEffects', data=df_sub)\n",
    "\n",
    "m.fit(cov_type='clustered', cluster_time=True, cluster_entity=True)\n"
   ]
  },
  {
   "cell_type": "code",
   "execution_count": null,
   "metadata": {},
   "outputs": [],
   "source": [
    "X = df_sub.loc[:,['person_dummy', 'female_dummy', 'religiousGarmentFemale_dummy', 'intDFirDGar','uniformed_dummy', 'all_militarized', 'firearm_dummy']] # raw is ref\n",
    "y = df_sub.loc[:, 'Submitted']\n",
    "\n",
    "m = PanelOLS(dependent=y,\n",
    "            exog=X,\n",
    "            entity_effects=True,\n",
    "            time_effects=True,\n",
    "            drop_absorbed = True)\n",
    "\n",
    "# m = PanelOLS.from_formula('female_mean ~ log_best + Published + Submitted + person_mean + EntityEffects + TimeEffects', data=df_sub)\n",
    "\n",
    "m.fit(cov_type='clustered', cluster_time=True, cluster_entity=True)\n"
   ]
  },
  {
   "cell_type": "code",
   "execution_count": null,
   "metadata": {},
   "outputs": [],
   "source": [
    "X = df_sub.loc[:,['female_dummy', 'religiousGarmentFemale_dummy', 'intDFirDGar','uniformed_dummy', 'all_militarized', 'firearm_dummy']] # raw is ref\n",
    "y = df_sub.loc[:, 'Submitted']\n",
    "\n",
    "m = PanelOLS(dependent=y,\n",
    "            exog=X,\n",
    "            entity_effects=True,\n",
    "            time_effects=True,\n",
    "            drop_absorbed = True)\n",
    "\n",
    "# m = PanelOLS.from_formula('female_mean ~ log_best + Published + Submitted + person_mean + EntityEffects + TimeEffects', data=df_sub)\n",
    "\n",
    "m.fit(cov_type='clustered', cluster_time=True, cluster_entity=True)\n"
   ]
  },
  {
   "cell_type": "markdown",
   "metadata": {},
   "source": [
    "Garments and guns. That shit gets subbed asap! so:"
   ]
  },
  {
   "cell_type": "markdown",
   "metadata": {},
   "source": [
    "### Summing up front-line to fron-page:"
   ]
  },
  {
   "cell_type": "code",
   "execution_count": null,
   "metadata": {},
   "outputs": [],
   "source": [
    "\n",
    "X = df_sub.loc[:,['person_dummy', 'female_dummy']] \n",
    "y = df_sub.loc[:, 'Submitted']\n",
    "\n",
    "m = PanelOLS(dependent=y, exog=X, entity_effects=True, time_effects=True, drop_absorbed = True)\n",
    "model1 =  m.fit(cov_type='clustered', cluster_time=True, cluster_entity=True)\n",
    "\n",
    "X = df_sub.loc[:,['person_dummy', 'female_dummy', 'religiousGarmentFemale_dummy']] \n",
    "y = df_sub.loc[:, 'Submitted']\n",
    "\n",
    "m = PanelOLS(dependent=y, exog=X, entity_effects=True, time_effects=True, drop_absorbed = True)\n",
    "model2 = m.fit(cov_type='clustered', cluster_time=True, cluster_entity=True)\n",
    "\n",
    "X = df_sub.loc[:,['person_dummy', 'female_dummy', 'religiousGarmentFemale_dummy', 'uniformed_dummy', 'intDUniDGar']] \n",
    "y = df_sub.loc[:, 'Submitted']\n",
    "\n",
    "m = PanelOLS(dependent=y, exog=X, entity_effects=True, time_effects=True, drop_absorbed = True)\n",
    "model3 =  m.fit(cov_type='clustered', cluster_time=True, cluster_entity=True)\n",
    "\n",
    "\n",
    "X = df_sub.loc[:,['person_dummy', 'female_dummy', 'religiousGarmentFemale_dummy', 'firearm_dummy', 'intDFirDGar']] \n",
    "y = df_sub.loc[:, 'Submitted']\n",
    "\n",
    "m = PanelOLS(dependent=y, exog=X, entity_effects=True, time_effects=True, drop_absorbed = True)\n",
    "model4 = m.fit(cov_type='clustered', cluster_time=True, cluster_entity=True)\n",
    "\n",
    "print(compare({\"model1\": model1, \"model2\": model2, \"model3\": model3, \"model4\" : model4}, precision = 'std_errors', stars = True))"
   ]
  },
  {
   "cell_type": "code",
   "execution_count": null,
   "metadata": {},
   "outputs": [],
   "source": [
    "\n",
    "X = df_sub.loc[:,['female_dummy']] \n",
    "y = df_sub.loc[:, 'Submitted']\n",
    "\n",
    "m = PanelOLS(dependent=y, exog=X, entity_effects=True, time_effects=True, drop_absorbed = True)\n",
    "model1 =  m.fit(cov_type='clustered', cluster_time=True, cluster_entity=True)\n",
    "\n",
    "X = df_sub.loc[:,[ 'female_dummy', 'religiousGarmentFemale_dummy']] \n",
    "y = df_sub.loc[:, 'Submitted']\n",
    "\n",
    "m = PanelOLS(dependent=y, exog=X, entity_effects=True, time_effects=True, drop_absorbed = True)\n",
    "model2 = m.fit(cov_type='clustered', cluster_time=True, cluster_entity=True)\n",
    "\n",
    "X = df_sub.loc[:,['female_dummy', 'religiousGarmentFemale_dummy', 'intDUniDGar', 'uniformed_dummy']] \n",
    "y = df_sub.loc[:, 'Submitted']\n",
    "\n",
    "m = PanelOLS(dependent=y, exog=X, entity_effects=True, time_effects=True, drop_absorbed = True)\n",
    "model3 =  m.fit(cov_type='clustered', cluster_time=True, cluster_entity=True)\n",
    "\n",
    "\n",
    "X = df_sub.loc[:,['female_dummy', 'religiousGarmentFemale_dummy', 'intDFirDGar', 'firearm_dummy']] \n",
    "y = df_sub.loc[:, 'Submitted']\n",
    "\n",
    "m = PanelOLS(dependent=y, exog=X, entity_effects=True, time_effects=True, drop_absorbed = True)\n",
    "model4 = m.fit(cov_type='clustered', cluster_time=True, cluster_entity=True)\n",
    "\n",
    "print(compare({\"model1\": model1, \"model2\": model2, \"model3\": model3, \"model4\" : model4}, precision = 'std_errors', stars = True))"
   ]
  },
  {
   "cell_type": "markdown",
   "metadata": {},
   "source": [
    "## The military story?"
   ]
  },
  {
   "cell_type": "markdown",
   "metadata": {},
   "source": [
    "So do we just like firearms?"
   ]
  },
  {
   "cell_type": "code",
   "execution_count": null,
   "metadata": {},
   "outputs": [],
   "source": [
    "X = df_sub.loc[:,['person_dummy', 'firearm_dummy']] # raw is ref\n",
    "y = df_sub.loc[:, 'Submitted']\n",
    "\n",
    "m = PanelOLS(dependent=y,\n",
    "            exog=X,\n",
    "            entity_effects=True,\n",
    "            time_effects=True,\n",
    "            drop_absorbed = True)\n",
    "\n",
    "# m = PanelOLS.from_formula('female_mean ~ log_best + Published + Submitted + person_mean + EntityEffects + TimeEffects', data=df_sub)\n",
    "\n",
    "m.fit(cov_type='clustered', cluster_time=True, cluster_entity=True)\n"
   ]
  },
  {
   "cell_type": "markdown",
   "metadata": {},
   "source": [
    "Not just, no."
   ]
  },
  {
   "cell_type": "code",
   "execution_count": null,
   "metadata": {},
   "outputs": [],
   "source": [
    "X = df_sub.loc[:,['person_dummy', 'firearm_dummy', 'all_militarized']] # raw is ref\n",
    "y = df_sub.loc[:, 'Submitted']\n",
    "\n",
    "m = PanelOLS(dependent=y,\n",
    "            exog=X,\n",
    "            entity_effects=True,\n",
    "            time_effects=True,\n",
    "            drop_absorbed = True)\n",
    "\n",
    "# m = PanelOLS.from_formula('female_mean ~ log_best + Published + Submitted + person_mean + EntityEffects + TimeEffects', data=df_sub)\n",
    "\n",
    "m.fit(cov_type='clustered', cluster_time=True, cluster_entity=True)\n"
   ]
  },
  {
   "cell_type": "code",
   "execution_count": null,
   "metadata": {},
   "outputs": [],
   "source": [
    "X = df_sub.loc[:,['person_dummy', 'firearm_dummy', 'uniformed_dummy']] # raw is ref\n",
    "y = df_sub.loc[:, 'Submitted']\n",
    "\n",
    "m = PanelOLS(dependent=y,\n",
    "            exog=X,\n",
    "            entity_effects=True,\n",
    "            time_effects=True,\n",
    "            drop_absorbed = True)\n",
    "\n",
    "# m = PanelOLS.from_formula('female_mean ~ log_best + Published + Submitted + person_mean + EntityEffects + TimeEffects', data=df_sub)\n",
    "\n",
    "m.fit(cov_type='clustered', cluster_time=True, cluster_entity=True)\n"
   ]
  },
  {
   "cell_type": "markdown",
   "metadata": {},
   "source": [
    "But if we control for the presence of uniforms or militarization, sure. We like Guns."
   ]
  },
  {
   "cell_type": "code",
   "execution_count": null,
   "metadata": {},
   "outputs": [],
   "source": [
    "X = df_sub.loc[:,['person_dummy', 'firearm_dummy', 'uniformed_dummy', 'militaryVehicle_dummy', 'flagUS_mean', 'all_militarized']] # raw is ref\n",
    "y = df_sub.loc[:, 'Submitted']\n",
    "\n",
    "m = PanelOLS(dependent=y,\n",
    "            exog=X,\n",
    "            entity_effects=True,\n",
    "            time_effects=True,\n",
    "            drop_absorbed = True)\n",
    "\n",
    "# m = PanelOLS.from_formula('female_mean ~ log_best + Published + Submitted + person_mean + EntityEffects + TimeEffects', data=df_sub)\n",
    "\n",
    "m.fit(cov_type='clustered', cluster_time=True, cluster_entity=True)\n"
   ]
  },
  {
   "cell_type": "markdown",
   "metadata": {},
   "source": [
    "Nothing else of all the state symbol stuff seems to matter."
   ]
  },
  {
   "cell_type": "markdown",
   "metadata": {},
   "source": [
    "# Story 2 Violence, Viels and Visuals"
   ]
  },
  {
   "cell_type": "markdown",
   "metadata": {},
   "source": [
    "So do we have more garments in images with females?"
   ]
  },
  {
   "cell_type": "code",
   "execution_count": null,
   "metadata": {},
   "outputs": [],
   "source": [
    "X = df_sub.loc[:,['female_mean', 'person_mean']] # raw is ref\n",
    "y = df_sub.loc[:, 'religiousGarmentFemale_mean']\n",
    "\n",
    "#X = sm.add_constant(X)\n",
    "\n",
    "\n",
    "m = PanelOLS(dependent=y,\n",
    "            exog=X,\n",
    "            entity_effects=True,\n",
    "            time_effects=True,\n",
    "            drop_absorbed = True)\n",
    "\n",
    "\n",
    "m.fit(cov_type='clustered', cluster_time=True, cluster_entity=True)\n"
   ]
  },
  {
   "cell_type": "markdown",
   "metadata": {},
   "source": [
    "Of course we do"
   ]
  },
  {
   "cell_type": "code",
   "execution_count": null,
   "metadata": {},
   "outputs": [],
   "source": [
    "X = df_sub.loc[:,['female_mean', 'person_mean', 'log_best']] # raw is ref\n",
    "y = df_sub.loc[:, 'religiousGarmentFemale_mean']\n",
    "\n",
    "m = PanelOLS(dependent=y,\n",
    "            exog=X,\n",
    "            entity_effects=True,\n",
    "            time_effects=True,\n",
    "            drop_absorbed = True)\n",
    "\n",
    "\n",
    "m.fit(cov_type='clustered', cluster_time=True, cluster_entity=True)"
   ]
  },
  {
   "cell_type": "markdown",
   "metadata": {},
   "source": [
    "But also where there is conflict"
   ]
  },
  {
   "cell_type": "code",
   "execution_count": null,
   "metadata": {},
   "outputs": [],
   "source": [
    "X = df_sub.loc[:,['female_mean', 'person_mean', 'tce']] # raw is ref\n",
    "y = df_sub.loc[:, 'religiousGarmentFemale_mean']\n",
    "\n",
    "m = PanelOLS(dependent=y,\n",
    "            exog=X,\n",
    "            entity_effects=True,\n",
    "            time_effects=True,\n",
    "            drop_absorbed = True)\n",
    "\n",
    "\n",
    "m.fit(cov_type='clustered', cluster_time=True, cluster_entity=True)"
   ]
  },
  {
   "cell_type": "code",
   "execution_count": null,
   "metadata": {},
   "outputs": [],
   "source": [
    "X = df_sub.loc[:,['female_mean', 'person_mean', 'tsce']] # raw is ref\n",
    "y = df_sub.loc[:, 'religiousGarmentFemale_mean']\n",
    "\n",
    "m = PanelOLS(dependent=y,\n",
    "            exog=X,\n",
    "            entity_effects=True,\n",
    "            time_effects=True,\n",
    "            drop_absorbed = True)\n",
    "\n",
    "\n",
    "m.fit(cov_type='clustered', cluster_time=True, cluster_entity=True)"
   ]
  },
  {
   "cell_type": "markdown",
   "metadata": {},
   "source": [
    "Especially if we take into account the temporal or tempo-saptial conflict exposure."
   ]
  },
  {
   "cell_type": "markdown",
   "metadata": {},
   "source": [
    "## Public/private story"
   ]
  },
  {
   "cell_type": "code",
   "execution_count": null,
   "metadata": {},
   "outputs": [],
   "source": [
    "X = df_sub.loc[:,['log_best', 'person_mean']] # raw is ref\n",
    "y = df_sub.loc[:, 'female_mean']\n",
    "\n",
    "m = PanelOLS(dependent=y,\n",
    "            exog=X,\n",
    "            entity_effects=True,\n",
    "            time_effects=True,\n",
    "            drop_absorbed = True)\n",
    "\n",
    "\n",
    "m.fit(cov_type='clustered', cluster_time=True, cluster_entity=True)"
   ]
  },
  {
   "cell_type": "markdown",
   "metadata": {},
   "source": [
    "So the ratio of women in images doe not change with conflict"
   ]
  },
  {
   "cell_type": "code",
   "execution_count": null,
   "metadata": {},
   "outputs": [],
   "source": [
    "X = df_sub.loc[:,['log_best', 'person_mean', 'all_public']] # raw is ref\n",
    "y = df_sub.loc[:, 'female_mean']\n",
    "\n",
    "m = PanelOLS(dependent=y,\n",
    "            exog=X,\n",
    "            entity_effects=True,\n",
    "            time_effects=True,\n",
    "            drop_absorbed = True)\n",
    "\n",
    "\n",
    "m.fit(cov_type='clustered', cluster_time=True, cluster_entity=True)"
   ]
  },
  {
   "cell_type": "markdown",
   "metadata": {},
   "source": [
    "There are however, less women in Public overall"
   ]
  },
  {
   "cell_type": "code",
   "execution_count": null,
   "metadata": {},
   "outputs": [],
   "source": [
    "X = df_sub.loc[:,['log_best', 'person_mean', 'all_privat']] # raw is ref\n",
    "y = df_sub.loc[:, 'female_mean']\n",
    "\n",
    "m = PanelOLS(dependent=y,\n",
    "            exog=X,\n",
    "            entity_effects=True,\n",
    "            time_effects=True,\n",
    "            drop_absorbed = True)\n",
    "\n",
    "\n",
    "m.fit(cov_type='clustered', cluster_time=True, cluster_entity=True)"
   ]
  },
  {
   "cell_type": "markdown",
   "metadata": {},
   "source": [
    "and much more women in private settings."
   ]
  },
  {
   "cell_type": "code",
   "execution_count": null,
   "metadata": {},
   "outputs": [],
   "source": [
    "X = df_sub.loc[:,['log_best','person_mean', 'all_privat', 'all_public']] # raw is ref\n",
    "y = df_sub.loc[:, 'female_mean']\n",
    "\n",
    "m = PanelOLS(dependent=y,\n",
    "            exog=X,\n",
    "            entity_effects=True,\n",
    "            time_effects=True,\n",
    "            drop_absorbed = True)\n",
    "\n",
    "\n",
    "m.fit(cov_type='clustered', cluster_time=True, cluster_entity=True)"
   ]
  },
  {
   "cell_type": "code",
   "execution_count": null,
   "metadata": {},
   "outputs": [],
   "source": [
    "X = df_sub.loc[:,['log_best', 'all_privat', 'all_public']] # raw is ref\n",
    "y = df_sub.loc[:, 'female_mean']\n",
    "\n",
    "m = PanelOLS(dependent=y,\n",
    "            exog=X,\n",
    "            entity_effects=True,\n",
    "            time_effects=True,\n",
    "            drop_absorbed = True)\n",
    "\n",
    "\n",
    "m.fit(cov_type='clustered', cluster_time=True, cluster_entity=True)"
   ]
  },
  {
   "cell_type": "markdown",
   "metadata": {},
   "source": [
    "The effect of public dissapears if we add both but this is like because of high (negative) co-linearity between public and private "
   ]
  },
  {
   "cell_type": "code",
   "execution_count": null,
   "metadata": {},
   "outputs": [],
   "source": [
    "X = df_sub.loc[:,['log_best','person_mean', 'all_privat', 'all_public', 'religiousGarmentFemale_mean']] # raw is ref\n",
    "y = df_sub.loc[:, 'female_mean']\n",
    "\n",
    "m = PanelOLS(dependent=y,\n",
    "            exog=X,\n",
    "            entity_effects=True,\n",
    "            time_effects=True,\n",
    "            drop_absorbed = True)\n",
    "\n",
    "\n",
    "m.fit(cov_type='clustered', cluster_time=True, cluster_entity=True)"
   ]
  },
  {
   "cell_type": "code",
   "execution_count": null,
   "metadata": {},
   "outputs": [],
   "source": [
    "X = df_sub.loc[:,['log_best', 'all_privat', 'all_public', 'religiousGarmentFemale_mean']] # raw is ref\n",
    "y = df_sub.loc[:, 'female_mean']\n",
    "\n",
    "m = PanelOLS(dependent=y,\n",
    "            exog=X,\n",
    "            entity_effects=True,\n",
    "            time_effects=True,\n",
    "            drop_absorbed = True)\n",
    "\n",
    "\n",
    "m.fit(cov_type='clustered', cluster_time=True, cluster_entity=True)"
   ]
  },
  {
   "cell_type": "markdown",
   "metadata": {},
   "source": [
    "Introducing garments changes things thou. Now both public and private are highly significant dispite the co-linearity. Less women with no veils in public. More women with no vail in private."
   ]
  },
  {
   "cell_type": "code",
   "execution_count": null,
   "metadata": {},
   "outputs": [],
   "source": [
    "X = df_sub.loc[:,['tce','person_mean', 'all_privat', 'all_public', 'religiousGarmentFemale_mean']] # raw is ref\n",
    "y = df_sub.loc[:, 'female_mean']\n",
    "\n",
    "m = PanelOLS(dependent=y,\n",
    "            exog=X,\n",
    "            entity_effects=True,\n",
    "            time_effects=True,\n",
    "            drop_absorbed = True)\n",
    "\n",
    "\n",
    "m.fit(cov_type='clustered', cluster_time=True, cluster_entity=True)"
   ]
  },
  {
   "cell_type": "code",
   "execution_count": null,
   "metadata": {},
   "outputs": [],
   "source": [
    "X = df_sub.loc[:,['tce','all_privat', 'all_public', 'religiousGarmentFemale_mean']] # raw is ref\n",
    "y = df_sub.loc[:, 'female_mean']\n",
    "\n",
    "m = PanelOLS(dependent=y,\n",
    "            exog=X,\n",
    "            entity_effects=True,\n",
    "            time_effects=True,\n",
    "            drop_absorbed = True)\n",
    "\n",
    "\n",
    "m.fit(cov_type='clustered', cluster_time=True, cluster_entity=True)"
   ]
  },
  {
   "cell_type": "code",
   "execution_count": null,
   "metadata": {},
   "outputs": [],
   "source": [
    "X = df_sub.loc[:,['tsce','person_mean', 'all_privat', 'all_public', 'religiousGarmentFemale_mean']] # raw is ref\n",
    "y = df_sub.loc[:, 'female_mean']\n",
    "\n",
    "m = PanelOLS(dependent=y,\n",
    "            exog=X,\n",
    "            entity_effects=True,\n",
    "            time_effects=True,\n",
    "            drop_absorbed = True)\n",
    "\n",
    "\n",
    "m.fit(cov_type='clustered', cluster_time=True, cluster_entity=True)"
   ]
  },
  {
   "cell_type": "code",
   "execution_count": null,
   "metadata": {},
   "outputs": [],
   "source": [
    "X = df_sub.loc[:,['tsce','all_privat', 'all_public', 'religiousGarmentFemale_mean']] # raw is ref\n",
    "y = df_sub.loc[:, 'female_mean']\n",
    "\n",
    "m = PanelOLS(dependent=y,\n",
    "            exog=X,\n",
    "            entity_effects=True,\n",
    "            time_effects=True,\n",
    "            drop_absorbed = True)\n",
    "\n",
    "\n",
    "m.fit(cov_type='clustered', cluster_time=True, cluster_entity=True)"
   ]
  },
  {
   "cell_type": "markdown",
   "metadata": {},
   "source": [
    "But no matter the specification - conflict does not chage this"
   ]
  },
  {
   "cell_type": "code",
   "execution_count": null,
   "metadata": {},
   "outputs": [],
   "source": []
  },
  {
   "cell_type": "markdown",
   "metadata": {},
   "source": [
    "# Old"
   ]
  },
  {
   "cell_type": "code",
   "execution_count": null,
   "metadata": {},
   "outputs": [],
   "source": [
    "df_sub['person_dummy'].unique()"
   ]
  },
  {
   "cell_type": "code",
   "execution_count": null,
   "metadata": {},
   "outputs": [],
   "source": []
  },
  {
   "cell_type": "code",
   "execution_count": null,
   "metadata": {},
   "outputs": [],
   "source": []
  },
  {
   "cell_type": "code",
   "execution_count": null,
   "metadata": {},
   "outputs": [],
   "source": [
    "X = df_sub.loc[:,['log_best', 'female_mean']] # raw is ref\n",
    "y = df_sub.loc[:, 'religiousGarmentFemale_mean']\n",
    "\n",
    "m = PanelOLS(dependent=y,\n",
    "            exog=X,\n",
    "            entity_effects=True,\n",
    "            time_effects=True,\n",
    "            drop_absorbed = True)\n",
    "\n",
    "# m = PanelOLS.from_formula('female_mean ~ log_best + Published + Submitted + person_mean + EntityEffects + TimeEffects', data=df_sub)\n",
    "\n",
    "output = m.fit(cov_type='clustered', cluster_time=True, cluster_entity=True)\n",
    "print(output)\n"
   ]
  },
  {
   "cell_type": "code",
   "execution_count": null,
   "metadata": {},
   "outputs": [],
   "source": [
    "X = df_sub.loc[:,['tce', 'female_mean']] # raw is ref\n",
    "y = df_sub.loc[:, 'religiousGarmentFemale_mean']\n",
    "\n",
    "m = PanelOLS(dependent=y,\n",
    "            exog=X,\n",
    "            entity_effects=True,\n",
    "            time_effects=True,\n",
    "            drop_absorbed = True)\n",
    "\n",
    "# m = PanelOLS.from_formula('female_mean ~ log_best + Published + Submitted + person_mean + EntityEffects + TimeEffects', data=df_sub)\n",
    "\n",
    "output = m.fit(cov_type='clustered', cluster_time=True, cluster_entity=True)\n",
    "print(output)\n"
   ]
  },
  {
   "cell_type": "code",
   "execution_count": null,
   "metadata": {},
   "outputs": [],
   "source": [
    "X = df_sub.loc[:,['tsce', 'female_mean']] # raw is ref\n",
    "y = df_sub.loc[:, 'religiousGarmentFemale_mean']\n",
    "\n",
    "m = PanelOLS(dependent=y,\n",
    "            exog=X,\n",
    "            entity_effects=True,\n",
    "            time_effects=True,\n",
    "            drop_absorbed = True)\n",
    "\n",
    "# m = PanelOLS.from_formula('female_mean ~ log_best + Published + Submitted + person_mean + EntityEffects + TimeEffects', data=df_sub)\n",
    "\n",
    "output = m.fit(cov_type='clustered', cluster_time=True, cluster_entity=True)\n",
    "print(output)\n"
   ]
  },
  {
   "cell_type": "code",
   "execution_count": null,
   "metadata": {},
   "outputs": [],
   "source": [
    "X = df_sub.loc[:,['tsce', 'female_mean', 'all_privat']] # raw is ref\n",
    "y = df_sub.loc[:, 'religiousGarmentFemale_mean']\n",
    "\n",
    "m = PanelOLS(dependent=y,\n",
    "            exog=X,\n",
    "            entity_effects=True,\n",
    "            time_effects=True,\n",
    "            drop_absorbed = True)\n",
    "\n",
    "# m = PanelOLS.from_formula('female_mean ~ log_best + Published + Submitted + person_mean + EntityEffects + TimeEffects', data=df_sub)\n",
    "\n",
    "output = m.fit(cov_type='clustered', cluster_time=True, cluster_entity=True)\n",
    "print(output)\n"
   ]
  },
  {
   "cell_type": "code",
   "execution_count": null,
   "metadata": {},
   "outputs": [],
   "source": [
    "X = df_sub.loc[:,['tsce', 'female_mean', 'all_public', 'all_militarized']] # raw is ref\n",
    "y = df_sub.loc[:, 'religiousGarmentFemale_mean']\n",
    "\n",
    "m = PanelOLS(dependent=y,\n",
    "            exog=X,\n",
    "            entity_effects=True,\n",
    "            time_effects=True,\n",
    "            drop_absorbed = True)\n",
    "\n",
    "# m = PanelOLS.from_formula('female_mean ~ log_best + Published + Submitted + person_mean + EntityEffects + TimeEffects', data=df_sub)\n",
    "\n",
    "output = m.fit(cov_type='clustered', cluster_time=True, cluster_entity=True)\n",
    "print(output)\n"
   ]
  },
  {
   "cell_type": "code",
   "execution_count": null,
   "metadata": {},
   "outputs": [],
   "source": []
  },
  {
   "cell_type": "code",
   "execution_count": null,
   "metadata": {},
   "outputs": [],
   "source": []
  },
  {
   "cell_type": "code",
   "execution_count": null,
   "metadata": {},
   "outputs": [],
   "source": []
  },
  {
   "cell_type": "code",
   "execution_count": null,
   "metadata": {},
   "outputs": [],
   "source": []
  },
  {
   "cell_type": "code",
   "execution_count": null,
   "metadata": {},
   "outputs": [],
   "source": []
  },
  {
   "cell_type": "code",
   "execution_count": null,
   "metadata": {},
   "outputs": [],
   "source": []
  },
  {
   "cell_type": "code",
   "execution_count": null,
   "metadata": {},
   "outputs": [],
   "source": [
    "X = df_sub.loc[:,['tsce', 'female_mean', 'all_public', 'all_privat']] # raw is ref\n",
    "y = df_sub.loc[:, 'religiousGarmentFemale_mean']\n",
    "\n",
    "m = PanelOLS(dependent=y,\n",
    "            exog=X,\n",
    "            entity_effects=True,\n",
    "            time_effects=True,\n",
    "            drop_absorbed = True)\n",
    "\n",
    "# m = PanelOLS.from_formula('female_mean ~ log_best + Published + Submitted + person_mean + EntityEffects + TimeEffects', data=df_sub)\n",
    "\n",
    "output = m.fit(cov_type='clustered', cluster_time=True, cluster_entity=True)\n",
    "print(output)\n"
   ]
  },
  {
   "cell_type": "code",
   "execution_count": null,
   "metadata": {},
   "outputs": [],
   "source": []
  },
  {
   "cell_type": "code",
   "execution_count": null,
   "metadata": {},
   "outputs": [],
   "source": [
    "X = df_sub.loc[:,['tce', 'person_mean']] # raw is ref\n",
    "y = df_sub.loc[:, 'religiousGarmentFemale_mean']\n",
    "\n",
    "m = PanelOLS(dependent=y,\n",
    "            exog=X,\n",
    "            entity_effects=True,\n",
    "            time_effects=True,\n",
    "            drop_absorbed = True)\n",
    "\n",
    "# m = PanelOLS.from_formula('female_mean ~ log_best + Published + Submitted + person_mean + EntityEffects + TimeEffects', data=df_sub)\n",
    "\n",
    "output = m.fit(cov_type='clustered', cluster_time=True, cluster_entity=True)\n",
    "print(output)\n"
   ]
  },
  {
   "cell_type": "code",
   "execution_count": null,
   "metadata": {},
   "outputs": [],
   "source": [
    "X = df_sub.loc[:,['tsce', 'person_mean']] # raw is ref\n",
    "y = df_sub.loc[:, 'religiousGarmentFemale_mean']\n",
    "\n",
    "m = PanelOLS(dependent=y,\n",
    "            exog=X,\n",
    "            entity_effects=True,\n",
    "            time_effects=True,\n",
    "            drop_absorbed = True)\n",
    "\n",
    "# m = PanelOLS.from_formula('female_mean ~ log_best + Published + Submitted + person_mean + EntityEffects + TimeEffects', data=df_sub)\n",
    "\n",
    "output = m.fit(cov_type='clustered', cluster_time=True, cluster_entity=True)\n",
    "print(output)\n"
   ]
  },
  {
   "cell_type": "code",
   "execution_count": null,
   "metadata": {},
   "outputs": [],
   "source": []
  },
  {
   "cell_type": "code",
   "execution_count": null,
   "metadata": {},
   "outputs": [],
   "source": []
  },
  {
   "cell_type": "code",
   "execution_count": null,
   "metadata": {},
   "outputs": [],
   "source": []
  },
  {
   "cell_type": "code",
   "execution_count": null,
   "metadata": {},
   "outputs": [],
   "source": []
  },
  {
   "cell_type": "code",
   "execution_count": null,
   "metadata": {},
   "outputs": [],
   "source": []
  },
  {
   "cell_type": "code",
   "execution_count": null,
   "metadata": {},
   "outputs": [],
   "source": []
  },
  {
   "cell_type": "code",
   "execution_count": null,
   "metadata": {},
   "outputs": [],
   "source": []
  },
  {
   "cell_type": "code",
   "execution_count": null,
   "metadata": {},
   "outputs": [],
   "source": []
  },
  {
   "cell_type": "code",
   "execution_count": null,
   "metadata": {},
   "outputs": [],
   "source": []
  },
  {
   "cell_type": "code",
   "execution_count": null,
   "metadata": {},
   "outputs": [],
   "source": []
  },
  {
   "cell_type": "code",
   "execution_count": null,
   "metadata": {},
   "outputs": [],
   "source": [
    "X = df_sub.loc[:,['log_best', 'female_dummy']] # raw is ref\n",
    "y = df_sub.loc[:, 'religiousGarmentFemale_dummy']\n",
    "\n",
    "m = PanelOLS(dependent=y,\n",
    "            exog=X,\n",
    "            entity_effects=True,\n",
    "            time_effects=True,\n",
    "            drop_absorbed = True)\n",
    "\n",
    "# m = PanelOLS.from_formula('female_mean ~ log_best + Published + Submitted + person_mean + EntityEffects + TimeEffects', data=df_sub)\n",
    "\n",
    "output = m.fit(cov_type='clustered', cluster_time=True, cluster_entity=True)\n",
    "print(output)\n"
   ]
  },
  {
   "cell_type": "code",
   "execution_count": null,
   "metadata": {},
   "outputs": [],
   "source": []
  },
  {
   "cell_type": "code",
   "execution_count": null,
   "metadata": {},
   "outputs": [],
   "source": []
  },
  {
   "cell_type": "code",
   "execution_count": null,
   "metadata": {},
   "outputs": [],
   "source": []
  },
  {
   "cell_type": "code",
   "execution_count": null,
   "metadata": {},
   "outputs": [],
   "source": []
  },
  {
   "cell_type": "code",
   "execution_count": null,
   "metadata": {},
   "outputs": [],
   "source": []
  },
  {
   "cell_type": "code",
   "execution_count": null,
   "metadata": {},
   "outputs": [],
   "source": []
  },
  {
   "cell_type": "code",
   "execution_count": null,
   "metadata": {},
   "outputs": [],
   "source": [
    "for i in df_sub.columns[:-9]:\n",
    "\n",
    "    X = df_sub.loc[:,['Submitted']] # raw is ref\n",
    "    y = df_sub.loc[:, i]\n",
    "\n",
    "    m = PanelOLS(dependent=y,\n",
    "                exog=X,\n",
    "                entity_effects=True,\n",
    "                time_effects=True,\n",
    "                drop_absorbed = True)\n",
    "\n",
    "    # m = PanelOLS.from_formula('female_mean ~ log_best + Published + Submitted + person_mean + EntityEffects + TimeEffects', data=df_sub)\n",
    "\n",
    "    try:\n",
    "        output = m.fit(cov_type='clustered', cluster_time=True, cluster_entity=True)\n",
    "        print(output)\n",
    "\n",
    "    except:\n",
    "        pass"
   ]
  },
  {
   "cell_type": "code",
   "execution_count": null,
   "metadata": {},
   "outputs": [],
   "source": [
    "for i in df_sub.columns:\n",
    "\n",
    "    X = df_sub.loc[:,['log_best']] # raw is ref\n",
    "    y = df_sub.loc[:, i]\n",
    "\n",
    "    m = PanelOLS(dependent=y,\n",
    "                exog=X,\n",
    "                entity_effects=True,\n",
    "                time_effects=True,\n",
    "                drop_absorbed = True)\n",
    "\n",
    "    # m = PanelOLS.from_formula('female_mean ~ log_best + Published + Submitted + person_mean + EntityEffects + TimeEffects', data=df_sub)\n",
    "\n",
    "    try:\n",
    "        output = m.fit(cov_type='clustered', cluster_time=True, cluster_entity=True)\n",
    "        print(output)\n",
    "\n",
    "    except:\n",
    "        pass"
   ]
  },
  {
   "cell_type": "code",
   "execution_count": null,
   "metadata": {},
   "outputs": [],
   "source": [
    "X = df_sub.loc[:,['Submitted','all_militarized', 'person_mean']] # raw is ref\n",
    "y = df_sub.loc[:, 'female_mean']\n",
    "\n",
    "m = PanelOLS(dependent=y,\n",
    "            exog=X,\n",
    "            entity_effects=True,\n",
    "            time_effects=True,\n",
    "            drop_absorbed = True)\n",
    "\n",
    "# m = PanelOLS.from_formula('female_mean ~ log_best + Published + Submitted + person_mean + EntityEffects + TimeEffects', data=df_sub)\n",
    "\n",
    "output = m.fit(cov_type='clustered', cluster_time=True, cluster_entity=True)\n",
    "print(output)\n"
   ]
  },
  {
   "cell_type": "code",
   "execution_count": null,
   "metadata": {},
   "outputs": [],
   "source": [
    "X = df_sub.loc[:,['Submitted','all_militarized', 'person_dummy']] # raw is ref\n",
    "y = df_sub.loc[:, 'female_dummy']\n",
    "\n",
    "m = PanelOLS(dependent=y,\n",
    "            exog=X,\n",
    "            entity_effects=True,\n",
    "            time_effects=True,\n",
    "            drop_absorbed = True)\n",
    "\n",
    "# m = PanelOLS.from_formula('female_mean ~ log_best + Published + Submitted + person_mean + EntityEffects + TimeEffects', data=df_sub)\n",
    "\n",
    "output = m.fit(cov_type='clustered', cluster_time=True, cluster_entity=True)\n",
    "print(output)\n"
   ]
  },
  {
   "cell_type": "code",
   "execution_count": null,
   "metadata": {},
   "outputs": [],
   "source": [
    "X = df_sub.loc[:,['person_dummy', 'female_dummy', 'religiousGarmentFemale_dummy']] # raw is ref\n",
    "y = df_sub.loc[:, 'Submitted']\n",
    "\n",
    "m = PanelOLS(dependent=y,\n",
    "            exog=X,\n",
    "            entity_effects=True,\n",
    "            time_effects=True,\n",
    "            drop_absorbed = True)\n",
    "\n",
    "# m = PanelOLS.from_formula('female_mean ~ log_best + Published + Submitted + person_mean + EntityEffects + TimeEffects', data=df_sub)\n",
    "\n",
    "output = m.fit(cov_type='clustered', cluster_time=True, cluster_entity=True)\n",
    "print(output)\n"
   ]
  },
  {
   "cell_type": "code",
   "execution_count": null,
   "metadata": {},
   "outputs": [],
   "source": [
    "X = df_sub.loc[:,['all_militarized','person_dummy', 'female_dummy', 'religiousGarmentFemale_dummy']] # raw is ref\n",
    "y = df_sub.loc[:, 'Submitted']\n",
    "\n",
    "m = PanelOLS(dependent=y,\n",
    "            exog=X,\n",
    "            entity_effects=True,\n",
    "            time_effects=True,\n",
    "            drop_absorbed = True)\n",
    "\n",
    "# m = PanelOLS.from_formula('female_mean ~ log_best + Published + Submitted + person_mean + EntityEffects + TimeEffects', data=df_sub)\n",
    "\n",
    "output = m.fit(cov_type='clustered', cluster_time=True, cluster_entity=True)\n",
    "print(output)\n"
   ]
  },
  {
   "cell_type": "code",
   "execution_count": null,
   "metadata": {},
   "outputs": [],
   "source": [
    "X = df_sub.loc[:,['female_dummy']] # raw is ref\n",
    "y = df_sub.loc[:, 'log_best']\n",
    "\n",
    "m = PanelOLS(dependent=y,\n",
    "            exog=X,\n",
    "            entity_effects=True,\n",
    "            time_effects=True,\n",
    "            drop_absorbed = True)\n",
    "\n",
    "# m = PanelOLS.from_formula('female_mean ~ log_best + Published + Submitted + person_mean + EntityEffects + TimeEffects', data=df_sub)\n",
    "\n",
    "output = m.fit(cov_type='clustered', cluster_time=True, cluster_entity=True)\n",
    "print(output)\n"
   ]
  },
  {
   "cell_type": "code",
   "execution_count": null,
   "metadata": {},
   "outputs": [],
   "source": [
    "X = df_sub.loc[:,['all_privat', 'all_public', 'person_dummy']] # raw is ref\n",
    "y = df_sub.loc[:, 'female_dummy']\n",
    "\n",
    "m = PanelOLS(dependent=y,\n",
    "            exog=X,\n",
    "            entity_effects=True,\n",
    "            time_effects=True,\n",
    "            drop_absorbed = True)\n",
    "\n",
    "# m = PanelOLS.from_formula('female_mean ~ log_best + Published + Submitted + person_mean + EntityEffects + TimeEffects', data=df_sub)\n",
    "\n",
    "output = m.fit(cov_type='clustered', cluster_time=True, cluster_entity=True)\n",
    "print(output)\n"
   ]
  },
  {
   "cell_type": "code",
   "execution_count": null,
   "metadata": {},
   "outputs": [],
   "source": [
    "X = df_sub.loc[:,['all_privat', 'all_public', 'female_dummy']] # raw is ref\n",
    "y = df_sub.loc[:, 'religiousGarmentFemale_dummy']\n",
    "\n",
    "m = PanelOLS(dependent=y,\n",
    "            exog=X,\n",
    "            entity_effects=True,\n",
    "            time_effects=True,\n",
    "            drop_absorbed = True)\n",
    "\n",
    "# m = PanelOLS.from_formula('female_mean ~ log_best + Published + Submitted + person_mean + EntityEffects + TimeEffects', data=df_sub)\n",
    "\n",
    "output = m.fit(cov_type='clustered', cluster_time=True, cluster_entity=True)\n",
    "print(output)\n"
   ]
  },
  {
   "cell_type": "code",
   "execution_count": null,
   "metadata": {},
   "outputs": [],
   "source": [
    "X = df_sub.loc[:,['all_privat', 'female_dummy', 'log_best']] # raw is ref\n",
    "y = df_sub.loc[:, 'intFemPri']\n",
    "\n",
    "m = PanelOLS(dependent=y,\n",
    "            exog=X,\n",
    "            entity_effects=True,\n",
    "            time_effects=True,\n",
    "            drop_absorbed = True)\n",
    "\n",
    "# m = PanelOLS.from_formula('female_mean ~ log_best + Published + Submitted + person_mean + EntityEffects + TimeEffects', data=df_sub)\n",
    "\n",
    "output = m.fit(cov_type='clustered', cluster_time=True, cluster_entity=True)\n",
    "print(output)\n"
   ]
  },
  {
   "cell_type": "code",
   "execution_count": null,
   "metadata": {},
   "outputs": [],
   "source": [
    "X = df_sub.loc[:,['all_public', 'female_mean', 'log_best']] # raw is ref\n",
    "y = df_sub.loc[:, 'intFemPub']\n",
    "\n",
    "m = PanelOLS(dependent=y,\n",
    "            exog=X,\n",
    "            entity_effects=True,\n",
    "            time_effects=True,\n",
    "            drop_absorbed = True)\n",
    "\n",
    "# m = PanelOLS.from_formula('female_mean ~ log_best + Published + Submitted + person_mean + EntityEffects + TimeEffects', data=df_sub)\n",
    "\n",
    "output = m.fit(cov_type='clustered', cluster_time=True, cluster_entity=True)\n",
    "print(output)\n"
   ]
  },
  {
   "cell_type": "code",
   "execution_count": null,
   "metadata": {},
   "outputs": [],
   "source": [
    "X = df_sub.loc[:,['all_privat', 'female_mean', 'log_best']] # raw is ref\n",
    "y = df_sub.loc[:, 'intFemDPri']\n",
    "\n",
    "m = PanelOLS(dependent=y,\n",
    "            exog=X,\n",
    "            entity_effects=True,\n",
    "            time_effects=True,\n",
    "            drop_absorbed = True)\n",
    "\n",
    "# m = PanelOLS.from_formula('female_mean ~ log_best + Published + Submitted + person_mean + EntityEffects + TimeEffects', data=df_sub)\n",
    "\n",
    "output = m.fit(cov_type='clustered', cluster_time=True, cluster_entity=True)\n",
    "print(output)\n"
   ]
  },
  {
   "cell_type": "code",
   "execution_count": null,
   "metadata": {},
   "outputs": [],
   "source": [
    "X = df_sub.loc[:,['all_privat', 'female_dummy', 'log_best', 'person_mean']] # raw is ref\n",
    "y = df_sub.loc[:, 'intFemDPri']\n",
    "\n",
    "m = PanelOLS(dependent=y,\n",
    "            exog=X,\n",
    "            entity_effects=True,\n",
    "            time_effects=True,\n",
    "            drop_absorbed = True)\n",
    "\n",
    "# m = PanelOLS.from_formula('female_mean ~ log_best + Published + Submitted + person_mean + EntityEffects + TimeEffects', data=df_sub)\n",
    "\n",
    "output = m.fit(cov_type='clustered', cluster_time=True, cluster_entity=True)\n",
    "print(output)"
   ]
  },
  {
   "cell_type": "code",
   "execution_count": null,
   "metadata": {},
   "outputs": [],
   "source": [
    "X = df_sub.loc[:,['all_privat', 'female_dummy', 'tce']] # raw is ref\n",
    "y = df_sub.loc[:, 'intFemDPri']\n",
    "\n",
    "m = PanelOLS(dependent=y,\n",
    "            exog=X,\n",
    "            entity_effects=True,\n",
    "            time_effects=True,\n",
    "            drop_absorbed = True)\n",
    "\n",
    "# m = PanelOLS.from_formula('female_mean ~ log_best + Published + Submitted + person_mean + EntityEffects + TimeEffects', data=df_sub)\n",
    "\n",
    "output = m.fit(cov_type='clustered', cluster_time=True, cluster_entity=True)\n",
    "print(output)"
   ]
  },
  {
   "cell_type": "code",
   "execution_count": null,
   "metadata": {},
   "outputs": [],
   "source": [
    "X = df_sub.loc[:,['all_privat', 'female_dummy', 'tsce']] # raw is ref\n",
    "y = df_sub.loc[:, 'intFemDPri']\n",
    "\n",
    "m = PanelOLS(dependent=y,\n",
    "            exog=X,\n",
    "            entity_effects=True,\n",
    "            time_effects=True,\n",
    "            drop_absorbed = True)\n",
    "\n",
    "# m = PanelOLS.from_formula('female_mean ~ log_best + Published + Submitted + person_mean + EntityEffects + TimeEffects', data=df_sub)\n",
    "\n",
    "output = m.fit(cov_type='clustered', cluster_time=True, cluster_entity=True)\n",
    "print(output)"
   ]
  },
  {
   "cell_type": "code",
   "execution_count": null,
   "metadata": {},
   "outputs": [],
   "source": []
  },
  {
   "cell_type": "code",
   "execution_count": null,
   "metadata": {},
   "outputs": [],
   "source": [
    "X = df_sub.loc[:,['all_privat', 'female_dummy', 'log_best', 'intFemDPri']] # raw is ref\n",
    "y = df_sub.loc[:, 'Submitted']\n",
    "\n",
    "m = PanelOLS(dependent=y,\n",
    "            exog=X,\n",
    "            entity_effects=True,\n",
    "            time_effects=True,\n",
    "            drop_absorbed = True)\n",
    "\n",
    "# m = PanelOLS.from_formula('female_mean ~ log_best + Published + Submitted + person_mean + EntityEffects + TimeEffects', data=df_sub)\n",
    "\n",
    "output = m.fit(cov_type='clustered', cluster_time=True, cluster_entity=True)\n",
    "print(output)"
   ]
  },
  {
   "cell_type": "code",
   "execution_count": null,
   "metadata": {},
   "outputs": [],
   "source": [
    "X = df_sub.loc[:,['all_privat', 'female_dummy', 'intFemDPri']] # raw is ref\n",
    "y = df_sub.loc[:, 'Submitted']\n",
    "\n",
    "m = PanelOLS(dependent=y,\n",
    "            exog=X,\n",
    "            entity_effects=True,\n",
    "            time_effects=True,\n",
    "            drop_absorbed = True)\n",
    "\n",
    "# m = PanelOLS.from_formula('female_mean ~ log_best + Published + Submitted + person_mean + EntityEffects + TimeEffects', data=df_sub)\n",
    "\n",
    "output = m.fit(cov_type='clustered', cluster_time=True, cluster_entity=True)\n",
    "print(output)"
   ]
  },
  {
   "cell_type": "code",
   "execution_count": null,
   "metadata": {},
   "outputs": [],
   "source": [
    "X = df_sub.loc[df_sub['Published'] == 0, ['all_privat', 'female_dummy', 'person_dummy', 'intFemDPri']] # raw is ref\n",
    "y = df_sub.loc[df_sub['Published'] == 0, 'Submitted']\n",
    "\n",
    "m = PanelOLS(dependent=y,\n",
    "            exog=X,\n",
    "            entity_effects=True,\n",
    "            time_effects=True,\n",
    "            drop_absorbed = True)\n",
    "\n",
    "# m = PanelOLS.from_formula('female_mean ~ log_best + Published + Submitted + person_mean + EntityEffects + TimeEffects', data=df_sub)\n",
    "\n",
    "output = m.fit(cov_type='clustered', cluster_time=True, cluster_entity=True)\n",
    "print(output)"
   ]
  },
  {
   "cell_type": "code",
   "execution_count": null,
   "metadata": {},
   "outputs": [],
   "source": [
    "X = df_sub.loc[:,['all_public', 'female_dummy', 'log_best']] # raw is ref\n",
    "y = df_sub.loc[:, 'intFemDPub']\n",
    "\n",
    "m = PanelOLS(dependent=y,\n",
    "            exog=X,\n",
    "            entity_effects=True,\n",
    "            time_effects=True,\n",
    "            drop_absorbed = True)\n",
    "\n",
    "# m = PanelOLS.from_formula('female_mean ~ log_best + Published + Submitted + person_mean + EntityEffects + TimeEffects', data=df_sub)\n",
    "\n",
    "output = m.fit(cov_type='clustered', cluster_time=True, cluster_entity=True)\n",
    "print(output)"
   ]
  },
  {
   "cell_type": "code",
   "execution_count": null,
   "metadata": {},
   "outputs": [],
   "source": []
  },
  {
   "cell_type": "code",
   "execution_count": null,
   "metadata": {},
   "outputs": [],
   "source": []
  },
  {
   "cell_type": "code",
   "execution_count": null,
   "metadata": {},
   "outputs": [],
   "source": []
  },
  {
   "cell_type": "code",
   "execution_count": null,
   "metadata": {},
   "outputs": [],
   "source": []
  },
  {
   "cell_type": "code",
   "execution_count": null,
   "metadata": {},
   "outputs": [],
   "source": [
    "x = df_sub['all_privat']\n",
    "y = df_sub['all_public']\n",
    "\n",
    "plt.scatter(x, y)\n",
    "plt.show()"
   ]
  },
  {
   "cell_type": "code",
   "execution_count": null,
   "metadata": {},
   "outputs": [],
   "source": []
  },
  {
   "cell_type": "code",
   "execution_count": null,
   "metadata": {},
   "outputs": [],
   "source": [
    "for i in df_sub.columns:\n",
    "\n",
    "    X = df_sub.loc[:,[i, 'female_dummy']] # raw is ref\n",
    "    y = df_sub.loc[:, 'religiousGarmentFemale_dummy']\n",
    "\n",
    "    m = PanelOLS(dependent=y,\n",
    "                exog=X,\n",
    "                entity_effects=True,\n",
    "                time_effects=True,\n",
    "                drop_absorbed = True)\n",
    "\n",
    "    # m = PanelOLS.from_formula('female_mean ~ log_best + Published + Submitted + person_mean + EntityEffects + TimeEffects', data=df_sub)\n",
    "\n",
    "    try:\n",
    "        output = m.fit(cov_type='clustered', cluster_time=True, cluster_entity=True)\n",
    "        print(output)\n",
    "\n",
    "    except:\n",
    "        pass"
   ]
  },
  {
   "cell_type": "code",
   "execution_count": null,
   "metadata": {},
   "outputs": [],
   "source": []
  },
  {
   "cell_type": "code",
   "execution_count": null,
   "metadata": {},
   "outputs": [],
   "source": []
  },
  {
   "cell_type": "code",
   "execution_count": null,
   "metadata": {},
   "outputs": [],
   "source": [
    "X = df_sub.loc[:,['person_mean', 'female_mean', 'religiousGarmentFemale_mean']] # raw is ref\n",
    "y = df_sub.loc[:, 'Submitted']\n",
    "\n",
    "m = PanelOLS(dependent=y,\n",
    "            exog=X,\n",
    "            entity_effects=True,\n",
    "            time_effects=True,\n",
    "            drop_absorbed = True)\n",
    "\n",
    "# m = PanelOLS.from_formula('female_mean ~ log_best + Published + Submitted + person_mean + EntityEffects + TimeEffects', data=df_sub)\n",
    "\n",
    "output = m.fit(cov_type='clustered', cluster_time=True, cluster_entity=True)\n",
    "print(output)\n"
   ]
  },
  {
   "cell_type": "code",
   "execution_count": null,
   "metadata": {},
   "outputs": [],
   "source": []
  },
  {
   "cell_type": "code",
   "execution_count": null,
   "metadata": {},
   "outputs": [],
   "source": []
  },
  {
   "cell_type": "code",
   "execution_count": null,
   "metadata": {},
   "outputs": [],
   "source": []
  },
  {
   "cell_type": "code",
   "execution_count": null,
   "metadata": {},
   "outputs": [],
   "source": []
  },
  {
   "cell_type": "code",
   "execution_count": null,
   "metadata": {},
   "outputs": [],
   "source": []
  },
  {
   "cell_type": "code",
   "execution_count": null,
   "metadata": {},
   "outputs": [],
   "source": [
    "#df_sub.loc[[df_sub['Published'] == 0],['person_mean', 'female_mean']] \n",
    "\n",
    "df_sub[df_sub['Published'] == 0].loc[:,['person_mean', 'female_mean']] \n"
   ]
  },
  {
   "cell_type": "code",
   "execution_count": null,
   "metadata": {},
   "outputs": [],
   "source": [
    "X = df_sub.loc[df_sub['Published'] == 0,['person_mean', 'female_mean']] # raw is ref\n",
    "y = df_sub.loc[df_sub['Published'] == 0, 'Submitted']\n",
    "\n",
    "m = PanelOLS(dependent=y,\n",
    "            exog=X,\n",
    "            entity_effects=True,\n",
    "            time_effects=True,\n",
    "            drop_absorbed = True)\n",
    "\n",
    "# m = PanelOLS.from_formula('female_mean ~ log_best + Published + Submitted + person_mean + EntityEffects + TimeEffects', data=df_sub)\n",
    "\n",
    "output = m.fit(cov_type='clustered', cluster_time=True, cluster_entity=True)\n",
    "print(output)"
   ]
  },
  {
   "cell_type": "code",
   "execution_count": null,
   "metadata": {},
   "outputs": [],
   "source": [
    "X = df_sub.loc[df_sub['Published'] == 0,['person_mean', 'female_mean']] # raw is ref\n",
    "y = df_sub.loc[df_sub['Published'] == 0, 'Submitted']\n",
    "\n",
    "m = PanelOLS(dependent=y,\n",
    "            exog=X,\n",
    "            entity_effects=True,\n",
    "            time_effects=True,\n",
    "            drop_absorbed = True)\n",
    "\n",
    "# m = PanelOLS.from_formula('female_mean ~ log_best + Published + Submitted + person_mean + EntityEffects + TimeEffects', data=df_sub)\n",
    "\n",
    "output = m.fit(cov_type='clustered', cluster_time=True, cluster_entity=True)\n",
    "print(output)"
   ]
  },
  {
   "cell_type": "code",
   "execution_count": null,
   "metadata": {},
   "outputs": [],
   "source": [
    "X = df_sub.loc[df_sub['Published'] == 0,['person_dummy', 'female_dummy']] # raw is ref\n",
    "y = df_sub.loc[df_sub['Published'] == 0, 'Submitted']\n",
    "\n",
    "m = PanelOLS(dependent=y,\n",
    "            exog=X,\n",
    "            entity_effects=True,\n",
    "            time_effects=True,\n",
    "            drop_absorbed = True)\n",
    "\n",
    "# m = PanelOLS.from_formula('female_mean ~ log_best + Published + Submitted + person_mean + EntityEffects + TimeEffects', data=df_sub)\n",
    "\n",
    "output = m.fit(cov_type='clustered', cluster_time=True, cluster_entity=True)\n",
    "print(output)"
   ]
  },
  {
   "cell_type": "code",
   "execution_count": null,
   "metadata": {},
   "outputs": [],
   "source": []
  },
  {
   "cell_type": "code",
   "execution_count": null,
   "metadata": {},
   "outputs": [],
   "source": [
    "X = df_sub.loc[df_sub['Published'] == 0,['female_mean', 'religiousGarmentFemale_mean']] # raw is ref\n",
    "y = df_sub.loc[df_sub['Published'] == 0, 'Submitted']\n",
    "\n",
    "m = PanelOLS(dependent=y,\n",
    "            exog=X,\n",
    "            entity_effects=True,\n",
    "            time_effects=True,\n",
    "            drop_absorbed = True)\n",
    "\n",
    "# m = PanelOLS.from_formula('female_mean ~ log_best + Published + Submitted + person_mean + EntityEffects + TimeEffects', data=df_sub)\n",
    "\n",
    "output = m.fit(cov_type='clustered', cluster_time=True, cluster_entity=True)\n",
    "print(output)"
   ]
  },
  {
   "cell_type": "code",
   "execution_count": null,
   "metadata": {},
   "outputs": [],
   "source": [
    "X = df_sub.loc[df_sub['Published'] == 0,['female_dummy', 'religiousGarmentFemale_mean']] # raw is ref\n",
    "y = df_sub.loc[df_sub['Published'] == 0, 'Submitted']\n",
    "\n",
    "m = PanelOLS(dependent=y,\n",
    "            exog=X,\n",
    "            entity_effects=True,\n",
    "            time_effects=True,\n",
    "            drop_absorbed = True)\n",
    "\n",
    "# m = PanelOLS.from_formula('female_mean ~ log_best + Published + Submitted + person_mean + EntityEffects + TimeEffects', data=df_sub)\n",
    "\n",
    "output = m.fit(cov_type='clustered', cluster_time=True, cluster_entity=True)\n",
    "print(output)"
   ]
  },
  {
   "cell_type": "code",
   "execution_count": null,
   "metadata": {},
   "outputs": [],
   "source": [
    "X = df_sub.loc[df_sub['Published'] == 0,['religiousGarmentFemale_mean']] # raw is ref\n",
    "y = df_sub.loc[df_sub['Published'] == 0, 'Submitted']\n",
    "\n",
    "m = PanelOLS(dependent=y,\n",
    "            exog=X,\n",
    "            entity_effects=True,\n",
    "            time_effects=True,\n",
    "            drop_absorbed = True)\n",
    "\n",
    "# m = PanelOLS.from_formula('female_mean ~ log_best + Published + Submitted + person_mean + EntityEffects + TimeEffects', data=df_sub)\n",
    "\n",
    "output = m.fit(cov_type='clustered', cluster_time=True, cluster_entity=True)\n",
    "print(output)"
   ]
  },
  {
   "cell_type": "code",
   "execution_count": null,
   "metadata": {},
   "outputs": [],
   "source": [
    "X = df_sub.loc[df_sub['Published'] == 0,['all_militarized','female_mean']] # raw is ref\n",
    "y = df_sub.loc[df_sub['Published'] == 0, 'Submitted']\n",
    "\n",
    "m = PanelOLS(dependent=y,\n",
    "            exog=X,\n",
    "            entity_effects=True,\n",
    "            time_effects=True,\n",
    "            drop_absorbed = True)\n",
    "\n",
    "# m = PanelOLS.from_formula('female_mean ~ log_best + Published + Submitted + person_mean + EntityEffects + TimeEffects', data=df_sub)\n",
    "\n",
    "output = m.fit(cov_type='clustered', cluster_time=True, cluster_entity=True)\n",
    "print(output)"
   ]
  },
  {
   "cell_type": "code",
   "execution_count": null,
   "metadata": {},
   "outputs": [],
   "source": [
    "X = df_sub.loc[df_sub['Published'] == 0,['intMilFem', 'all_militarized','female_mean']] # raw is ref\n",
    "y = df_sub.loc[df_sub['Published'] == 0, 'Submitted']\n",
    "\n",
    "m = PanelOLS(dependent=y,\n",
    "            exog=X,\n",
    "            entity_effects=True,\n",
    "            time_effects=True,\n",
    "            drop_absorbed = True)\n",
    "\n",
    "# m = PanelOLS.from_formula('female_mean ~ log_best + Published + Submitted + person_mean + EntityEffects + TimeEffects', data=df_sub)\n",
    "\n",
    "output = m.fit(cov_type='clustered', cluster_time=True, cluster_entity=True)\n",
    "print(output)"
   ]
  },
  {
   "cell_type": "code",
   "execution_count": null,
   "metadata": {},
   "outputs": [],
   "source": [
    "X = df_sub.loc[df_sub['Published'] == 0,['intMilGar', 'all_militarized','religiousGarmentFemale_mean']] # raw is ref\n",
    "y = df_sub.loc[df_sub['Published'] == 0, 'Submitted']\n",
    "\n",
    "m = PanelOLS(dependent=y,\n",
    "            exog=X,\n",
    "            entity_effects=True,\n",
    "            time_effects=True,\n",
    "            drop_absorbed = True)\n",
    "\n",
    "# m = PanelOLS.from_formula('female_mean ~ log_best + Published + Submitted + person_mean + EntityEffects + TimeEffects', data=df_sub)\n",
    "\n",
    "output = m.fit(cov_type='clustered', cluster_time=True, cluster_entity=True)\n",
    "print(output)"
   ]
  },
  {
   "cell_type": "code",
   "execution_count": null,
   "metadata": {},
   "outputs": [],
   "source": [
    "X = df_sub.loc[df_sub['Published'] == 0,['intUnGar', 'all_militarized','religiousGarmentFemale_mean']] # raw is ref\n",
    "y = df_sub.loc[df_sub['Published'] == 0, 'Submitted']\n",
    "\n",
    "m = PanelOLS(dependent=y,\n",
    "            exog=X,\n",
    "            entity_effects=True,\n",
    "            time_effects=True,\n",
    "            drop_absorbed = True)\n",
    "\n",
    "# m = PanelOLS.from_formula('female_mean ~ log_best + Published + Submitted + person_mean + EntityEffects + TimeEffects', data=df_sub)\n",
    "\n",
    "output = m.fit(cov_type='clustered', cluster_time=True, cluster_entity=True)\n",
    "print(output)"
   ]
  },
  {
   "cell_type": "code",
   "execution_count": null,
   "metadata": {},
   "outputs": [],
   "source": [
    "X = df_sub.loc[df_sub['Published'] == 0,['intUnFem', 'all_militarized','female_mean']] # raw is ref\n",
    "y = df_sub.loc[df_sub['Published'] == 0, 'Submitted']\n",
    "\n",
    "m = PanelOLS(dependent=y,\n",
    "            exog=X,\n",
    "            entity_effects=True,\n",
    "            time_effects=True,\n",
    "            drop_absorbed = True)\n",
    "\n",
    "# m = PanelOLS.from_formula('female_mean ~ log_best + Published + Submitted + person_mean + EntityEffects + TimeEffects', data=df_sub)\n",
    "\n",
    "output = m.fit(cov_type='clustered', cluster_time=True, cluster_entity=True)\n",
    "print(output)"
   ]
  },
  {
   "cell_type": "code",
   "execution_count": null,
   "metadata": {},
   "outputs": [],
   "source": []
  },
  {
   "cell_type": "code",
   "execution_count": null,
   "metadata": {},
   "outputs": [],
   "source": [
    "X = df_sub.loc[df_sub['Published'] == 0,[ 'all_militarized', 'person_dummy']] # raw is ref\n",
    "y = df_sub.loc[df_sub['Published'] == 0, 'female_dummy']\n",
    "\n",
    "m = PanelOLS(dependent=y,\n",
    "            exog=X,\n",
    "            entity_effects=True,\n",
    "            time_effects=True,\n",
    "            drop_absorbed = True)\n",
    "\n",
    "# m = PanelOLS.from_formula('female_mean ~ log_best + Published + Submitted + person_mean + EntityEffects + TimeEffects', data=df_sub)\n",
    "\n",
    "output = m.fit(cov_type='clustered', cluster_time=True, cluster_entity=True)\n",
    "print(output)"
   ]
  },
  {
   "cell_type": "code",
   "execution_count": null,
   "metadata": {},
   "outputs": [],
   "source": [
    "X = df_sub.loc[df_sub['Published'] == 0,[ 'all_militarized', 'person_mean']] # raw is ref\n",
    "y = df_sub.loc[df_sub['Published'] == 0, 'female_mean']\n",
    "\n",
    "m = PanelOLS(dependent=y,\n",
    "            exog=X,\n",
    "            entity_effects=True,\n",
    "            time_effects=True,\n",
    "            drop_absorbed = True)\n",
    "\n",
    "# m = PanelOLS.from_formula('female_mean ~ log_best + Published + Submitted + person_mean + EntityEffects + TimeEffects', data=df_sub)\n",
    "\n",
    "output = m.fit(cov_type='clustered', cluster_time=True, cluster_entity=True)\n",
    "print(output)"
   ]
  },
  {
   "cell_type": "code",
   "execution_count": null,
   "metadata": {},
   "outputs": [],
   "source": [
    "X = df_sub.loc[df_sub['Published'] == 0,[ 'all_militarized', 'person_dummy']] # raw is ref\n",
    "y = df_sub.loc[df_sub['Published'] == 0, 'religiousGarmentFemale_dummy']\n",
    "\n",
    "m = PanelOLS(dependent=y,\n",
    "            exog=X,\n",
    "            entity_effects=True,\n",
    "            time_effects=True,\n",
    "            drop_absorbed = True)\n",
    "\n",
    "# m = PanelOLS.from_formula('female_mean ~ log_best + Published + Submitted + person_mean + EntityEffects + TimeEffects', data=df_sub)\n",
    "\n",
    "output = m.fit(cov_type='clustered', cluster_time=True, cluster_entity=True)\n",
    "print(output)"
   ]
  },
  {
   "cell_type": "code",
   "execution_count": null,
   "metadata": {},
   "outputs": [],
   "source": [
    "X = df_sub.loc[df_sub['Published'] == 0,[ 'all_militarized', 'person_mean']] # raw is ref\n",
    "y = df_sub.loc[df_sub['Published'] == 0, 'religiousGarmentFemale_mean']\n",
    "\n",
    "m = PanelOLS(dependent=y,\n",
    "            exog=X,\n",
    "            entity_effects=True,\n",
    "            time_effects=True,\n",
    "            drop_absorbed = True)\n",
    "\n",
    "# m = PanelOLS.from_formula('female_mean ~ log_best + Published + Submitted + person_mean + EntityEffects + TimeEffects', data=df_sub)\n",
    "\n",
    "output = m.fit(cov_type='clustered', cluster_time=True, cluster_entity=True)\n",
    "print(output)"
   ]
  },
  {
   "cell_type": "code",
   "execution_count": null,
   "metadata": {},
   "outputs": [],
   "source": [
    "X = df_sub.loc[df_sub['Published'] == 0,[ 'all_militarized', 'female_dummy']] # raw is ref\n",
    "y = df_sub.loc[df_sub['Published'] == 0, 'religiousGarmentFemale_dummy']\n",
    "\n",
    "m = PanelOLS(dependent=y,\n",
    "            exog=X,\n",
    "            entity_effects=True,\n",
    "            time_effects=True,\n",
    "            drop_absorbed = True)\n",
    "\n",
    "# m = PanelOLS.from_formula('female_mean ~ log_best + Published + Submitted + person_mean + EntityEffects + TimeEffects', data=df_sub)\n",
    "\n",
    "output = m.fit(cov_type='clustered', cluster_time=True, cluster_entity=True)\n",
    "print(output)"
   ]
  },
  {
   "cell_type": "code",
   "execution_count": null,
   "metadata": {},
   "outputs": [],
   "source": [
    "X = df_sub.loc[df_sub['Published'] == 0,[ 'all_militarized', 'female_mean']] # raw is ref\n",
    "y = df_sub.loc[df_sub['Published'] == 0, 'religiousGarmentFemale_mean']\n",
    "\n",
    "m = PanelOLS(dependent=y,\n",
    "            exog=X,\n",
    "            entity_effects=True,\n",
    "            time_effects=True,\n",
    "            drop_absorbed = True)\n",
    "\n",
    "# m = PanelOLS.from_formula('female_mean ~ log_best + Published + Submitted + person_mean + EntityEffects + TimeEffects', data=df_sub)\n",
    "\n",
    "output = m.fit(cov_type='clustered', cluster_time=True, cluster_entity=True)\n",
    "print(output)"
   ]
  },
  {
   "cell_type": "code",
   "execution_count": null,
   "metadata": {},
   "outputs": [],
   "source": []
  },
  {
   "cell_type": "code",
   "execution_count": null,
   "metadata": {},
   "outputs": [],
   "source": []
  },
  {
   "cell_type": "code",
   "execution_count": null,
   "metadata": {},
   "outputs": [],
   "source": [
    "\n",
    "df_sub['intMilFem']\n",
    "df_sub['intMilGar'] \n",
    "df_sub['intUnFem'] \n",
    "df_sub['intUnGar']"
   ]
  },
  {
   "cell_type": "code",
   "execution_count": null,
   "metadata": {},
   "outputs": [],
   "source": []
  },
  {
   "cell_type": "code",
   "execution_count": null,
   "metadata": {},
   "outputs": [],
   "source": []
  },
  {
   "cell_type": "code",
   "execution_count": null,
   "metadata": {},
   "outputs": [],
   "source": [
    "X = df_sub.loc[:,['person_mean', 'female_mean']] # raw is ref\n",
    "y = df_sub.loc[:, 'Submitted']\n",
    "\n",
    "m = PanelOLS(dependent=y,\n",
    "            exog=X,\n",
    "            entity_effects=True,\n",
    "            time_effects=True,\n",
    "            drop_absorbed = True)\n",
    "\n",
    "# m = PanelOLS.from_formula('female_mean ~ log_best + Published + Submitted + person_mean + EntityEffects + TimeEffects', data=df_sub)\n",
    "\n",
    "output = m.fit(cov_type='clustered', cluster_time=True, cluster_entity=True)\n",
    "print(output)"
   ]
  },
  {
   "cell_type": "code",
   "execution_count": null,
   "metadata": {},
   "outputs": [],
   "source": []
  },
  {
   "cell_type": "code",
   "execution_count": null,
   "metadata": {},
   "outputs": [],
   "source": []
  },
  {
   "cell_type": "code",
   "execution_count": null,
   "metadata": {},
   "outputs": [],
   "source": []
  },
  {
   "cell_type": "code",
   "execution_count": null,
   "metadata": {},
   "outputs": [],
   "source": []
  },
  {
   "cell_type": "code",
   "execution_count": null,
   "metadata": {},
   "outputs": [],
   "source": []
  },
  {
   "cell_type": "code",
   "execution_count": null,
   "metadata": {},
   "outputs": [],
   "source": []
  },
  {
   "cell_type": "code",
   "execution_count": null,
   "metadata": {},
   "outputs": [],
   "source": []
  },
  {
   "cell_type": "code",
   "execution_count": null,
   "metadata": {},
   "outputs": [],
   "source": []
  },
  {
   "cell_type": "code",
   "execution_count": null,
   "metadata": {},
   "outputs": [],
   "source": []
  },
  {
   "cell_type": "code",
   "execution_count": null,
   "metadata": {},
   "outputs": [],
   "source": [
    "X = df_sub.loc[:,['uniformed_mean', 'person_mean']] # raw is ref\n",
    "y = df_sub.loc[:, 'female_mean']\n",
    "\n",
    "m = PanelOLS(dependent=y,\n",
    "            exog=X,\n",
    "            entity_effects=True,\n",
    "            time_effects=True,\n",
    "            drop_absorbed = True)\n",
    "\n",
    "# m = PanelOLS.from_formula('female_mean ~ log_best + Published + Submitted + person_mean + EntityEffects + TimeEffects', data=df_sub)\n",
    "\n",
    "m.fit(cov_type='clustered', cluster_time=True, cluster_entity=True)"
   ]
  },
  {
   "cell_type": "code",
   "execution_count": null,
   "metadata": {},
   "outputs": [],
   "source": [
    "X = df_sub.loc[:,['uniformed_mean','female_mean']] # raw is ref\n",
    "y = df_sub.loc[:, 'religiousGarmentFemale_mean']\n",
    "\n",
    "m = PanelOLS(dependent=y,\n",
    "            exog=X,\n",
    "            entity_effects=True,\n",
    "            time_effects=True,\n",
    "            drop_absorbed = True)\n",
    "\n",
    "# m = PanelOLS.from_formula('female_mean ~ log_best + Published + Submitted + person_mean + EntityEffects + TimeEffects', data=df_sub)\n",
    "\n",
    "m.fit(cov_type='clustered', cluster_time=True, cluster_entity=True)"
   ]
  },
  {
   "cell_type": "code",
   "execution_count": null,
   "metadata": {},
   "outputs": [],
   "source": [
    "X = df_sub.loc[:,['all_militarized', 'person_mean']] # raw is ref\n",
    "y = df_sub.loc[:, 'female_mean']\n",
    "\n",
    "m = PanelOLS(dependent=y,\n",
    "            exog=X,\n",
    "            entity_effects=True,\n",
    "            time_effects=True,\n",
    "            drop_absorbed = True)\n",
    "\n",
    "# m = PanelOLS.from_formula('female_mean ~ log_best + Published + Submitted + person_mean + EntityEffects + TimeEffects', data=df_sub)\n",
    "\n",
    "m.fit(cov_type='clustered', cluster_time=True, cluster_entity=True)"
   ]
  },
  {
   "cell_type": "code",
   "execution_count": null,
   "metadata": {},
   "outputs": [],
   "source": [
    "X = df_sub.loc[:,['all_militarized','female_mean']] # raw is ref\n",
    "y = df_sub.loc[:, 'religiousGarmentFemale_mean']\n",
    "\n",
    "m = PanelOLS(dependent=y,\n",
    "            exog=X,\n",
    "            entity_effects=True,\n",
    "            time_effects=True,\n",
    "            drop_absorbed = True)\n",
    "\n",
    "# m = PanelOLS.from_formula('female_mean ~ log_best + Published + Submitted + person_mean + EntityEffects + TimeEffects', data=df_sub)\n",
    "\n",
    "m.fit(cov_type='clustered', cluster_time=True, cluster_entity=True)"
   ]
  },
  {
   "cell_type": "code",
   "execution_count": null,
   "metadata": {},
   "outputs": [],
   "source": []
  },
  {
   "cell_type": "code",
   "execution_count": null,
   "metadata": {},
   "outputs": [],
   "source": []
  },
  {
   "cell_type": "code",
   "execution_count": null,
   "metadata": {},
   "outputs": [],
   "source": []
  },
  {
   "cell_type": "code",
   "execution_count": null,
   "metadata": {},
   "outputs": [],
   "source": []
  },
  {
   "cell_type": "code",
   "execution_count": null,
   "metadata": {},
   "outputs": [],
   "source": [
    "X = df_sub.loc[:,['log_best']] # raw is ref\n",
    "y = df_sub.loc[:, 'religiousGarmentFemale_mean']\n",
    "\n",
    "m = PanelOLS(dependent=y,\n",
    "            exog=X,\n",
    "            entity_effects=True,\n",
    "            time_effects=True,\n",
    "            drop_absorbed = True)\n",
    "\n",
    "# m = PanelOLS.from_formula('female_mean ~ log_best + Published + Submitted + person_mean + EntityEffects + TimeEffects', data=df_sub)\n",
    "\n",
    "m.fit(cov_type='clustered', cluster_time=True, cluster_entity=True)"
   ]
  },
  {
   "cell_type": "code",
   "execution_count": null,
   "metadata": {},
   "outputs": [],
   "source": [
    "X = df_sub.loc[:,['tce']] # raw is ref\n",
    "y = df_sub.loc[:, 'religiousGarmentFemale_mean']\n",
    "\n",
    "m = PanelOLS(dependent=y,\n",
    "            exog=X,\n",
    "            entity_effects=True,\n",
    "            time_effects=True,\n",
    "            drop_absorbed = True)\n",
    "\n",
    "# m = PanelOLS.from_formula('female_mean ~ log_best + Published + Submitted + person_mean + EntityEffects + TimeEffects', data=df_sub)\n",
    "\n",
    "m.fit(cov_type='clustered', cluster_time=True, cluster_entity=True)"
   ]
  },
  {
   "cell_type": "code",
   "execution_count": null,
   "metadata": {},
   "outputs": [],
   "source": [
    "X = df_sub.loc[:,['tsce']] # raw is ref\n",
    "y = df_sub.loc[:, 'religiousGarmentFemale_mean']\n",
    "\n",
    "m = PanelOLS(dependent=y,\n",
    "            exog=X,\n",
    "            entity_effects=True,\n",
    "            time_effects=True,\n",
    "            drop_absorbed = True)\n",
    "\n",
    "# m = PanelOLS.from_formula('female_mean ~ log_best + Published + Submitted + person_mean + EntityEffects + TimeEffects', data=df_sub)\n",
    "\n",
    "m.fit(cov_type='clustered', cluster_time=True, cluster_entity=True)"
   ]
  },
  {
   "cell_type": "code",
   "execution_count": null,
   "metadata": {},
   "outputs": [],
   "source": [
    "X = df_sub.loc[:,['tsce', 'female_mean']] # raw is ref\n",
    "y = df_sub.loc[:, 'religiousGarmentFemale_mean']\n",
    "\n",
    "m = PanelOLS(dependent=y,\n",
    "            exog=X,\n",
    "            entity_effects=True,\n",
    "            time_effects=True,\n",
    "            drop_absorbed = True)\n",
    "\n",
    "# m = PanelOLS.from_formula('female_mean ~ log_best + Published + Submitted + person_mean + EntityEffects + TimeEffects', data=df_sub)\n",
    "\n",
    "m.fit(cov_type='clustered', cluster_time=True, cluster_entity=True)"
   ]
  },
  {
   "cell_type": "code",
   "execution_count": null,
   "metadata": {},
   "outputs": [],
   "source": [
    "X = df_sub.loc[:,['tce', 'female_mean']] # raw is ref\n",
    "y = df_sub.loc[:, 'religiousGarmentFemale_mean']\n",
    "\n",
    "m = PanelOLS(dependent=y,\n",
    "            exog=X,\n",
    "            entity_effects=True,\n",
    "            time_effects=True,\n",
    "            drop_absorbed = True)\n",
    "\n",
    "# m = PanelOLS.from_formula('female_mean ~ log_best + Published + Submitted + person_mean + EntityEffects + TimeEffects', data=df_sub)\n",
    "\n",
    "m.fit(cov_type='clustered', cluster_time=True, cluster_entity=True)"
   ]
  },
  {
   "cell_type": "code",
   "execution_count": null,
   "metadata": {},
   "outputs": [],
   "source": [
    "X = df_sub.loc[:,['log_best', 'female_mean']] # raw is ref\n",
    "y = df_sub.loc[:, 'religiousGarmentFemale_mean']\n",
    "\n",
    "m = PanelOLS(dependent=y,\n",
    "            exog=X,\n",
    "            entity_effects=True,\n",
    "            time_effects=True,\n",
    "            drop_absorbed = True)\n",
    "\n",
    "# m = PanelOLS.from_formula('female_mean ~ log_best + Published + Submitted + person_mean + EntityEffects + TimeEffects', data=df_sub)\n",
    "\n",
    "m.fit(cov_type='clustered', cluster_time=True, cluster_entity=True)"
   ]
  },
  {
   "cell_type": "code",
   "execution_count": null,
   "metadata": {},
   "outputs": [],
   "source": [
    "X = df_sub.loc[:,['log_best', 'female_mean', 'person_mean']] # raw is ref\n",
    "y = df_sub.loc[:, 'religiousGarmentFemale_mean']\n",
    "\n",
    "m = PanelOLS(dependent=y,\n",
    "            exog=X,\n",
    "            entity_effects=True,\n",
    "            time_effects=True,\n",
    "            drop_absorbed = True)\n",
    "\n",
    "# m = PanelOLS.from_formula('female_mean ~ log_best + Published + Submitted + person_mean + EntityEffects + TimeEffects', data=df_sub)\n",
    "\n",
    "m.fit(cov_type='clustered', cluster_time=True, cluster_entity=True)"
   ]
  },
  {
   "cell_type": "code",
   "execution_count": null,
   "metadata": {},
   "outputs": [],
   "source": [
    "X = df_sub.loc[:,['tce', 'female_mean', 'person_mean']] # raw is ref\n",
    "y = df_sub.loc[:, 'religiousGarmentFemale_mean']\n",
    "\n",
    "m = PanelOLS(dependent=y,\n",
    "            exog=X,\n",
    "            entity_effects=True,\n",
    "            time_effects=True,\n",
    "            drop_absorbed = True)\n",
    "\n",
    "# m = PanelOLS.from_formula('female_mean ~ log_best + Published + Submitted + person_mean + EntityEffects + TimeEffects', data=df_sub)\n",
    "\n",
    "m.fit(cov_type='clustered', cluster_time=True, cluster_entity=True)"
   ]
  },
  {
   "cell_type": "code",
   "execution_count": null,
   "metadata": {},
   "outputs": [],
   "source": [
    "X = df_sub.loc[:,['tsce', 'female_mean', 'person_mean']] # raw is ref\n",
    "y = df_sub.loc[:, 'religiousGarmentFemale_mean']\n",
    "\n",
    "m = PanelOLS(dependent=y,\n",
    "            exog=X,\n",
    "            entity_effects=True,\n",
    "            time_effects=True,\n",
    "            drop_absorbed = True)\n",
    "\n",
    "# m = PanelOLS.from_formula('female_mean ~ log_best + Published + Submitted + person_mean + EntityEffects + TimeEffects', data=df_sub)\n",
    "\n",
    "m.fit(cov_type='clustered', cluster_time=True, cluster_entity=True)"
   ]
  },
  {
   "cell_type": "code",
   "execution_count": null,
   "metadata": {},
   "outputs": [],
   "source": []
  },
  {
   "cell_type": "code",
   "execution_count": null,
   "metadata": {},
   "outputs": [],
   "source": [
    "X = df_sub.loc[:,['female_mean', 'person_mean']] # raw is ref\n",
    "y = df_sub.loc[:, 'log_best']\n",
    "\n",
    "m = PanelOLS(dependent=y,\n",
    "            exog=X,\n",
    "            entity_effects=True,\n",
    "            time_effects=True,\n",
    "            drop_absorbed = True)\n",
    "\n",
    "# m = PanelOLS.from_formula('female_mean ~ log_best + Published + Submitted + person_mean + EntityEffects + TimeEffects', data=df_sub)\n",
    "\n",
    "m.fit(cov_type='clustered', cluster_time=True, cluster_entity=True)"
   ]
  },
  {
   "cell_type": "code",
   "execution_count": null,
   "metadata": {},
   "outputs": [],
   "source": []
  },
  {
   "cell_type": "code",
   "execution_count": null,
   "metadata": {},
   "outputs": [],
   "source": []
  },
  {
   "cell_type": "code",
   "execution_count": null,
   "metadata": {},
   "outputs": [],
   "source": [
    "X = df_sub.loc[:,['female_mean', 'person_mean']] # raw is ref\n",
    "y = df_sub.loc[:, 'log_best']\n",
    "\n",
    "m = PanelOLS(dependent=y,\n",
    "            exog=X,\n",
    "            entity_effects=True,\n",
    "            time_effects=True,\n",
    "            drop_absorbed = True)\n",
    "\n",
    "# m = PanelOLS.from_formula('female_mean ~ log_best + Published + Submitted + person_mean + EntityEffects + TimeEffects', data=df_sub)\n",
    "\n",
    "m.fit(cov_type='clustered', cluster_time=True, cluster_entity=True)"
   ]
  },
  {
   "cell_type": "code",
   "execution_count": null,
   "metadata": {},
   "outputs": [],
   "source": [
    "X = df_sub.loc[:,['female_mean', 'person_mean']] # raw is ref\n",
    "y = df_sub.loc[:, 'tce']\n",
    "\n",
    "m = PanelOLS(dependent=y,\n",
    "            exog=X,\n",
    "            entity_effects=True,\n",
    "            time_effects=True,\n",
    "            drop_absorbed = True)\n",
    "\n",
    "# m = PanelOLS.from_formula('female_mean ~ log_best + Published + Submitted + person_mean + EntityEffects + TimeEffects', data=df_sub)\n",
    "\n",
    "m.fit(cov_type='clustered', cluster_time=True, cluster_entity=True)"
   ]
  },
  {
   "cell_type": "code",
   "execution_count": null,
   "metadata": {},
   "outputs": [],
   "source": [
    "X = df_sub.loc[:,['female_mean', 'person_mean']] # raw is ref\n",
    "y = df_sub.loc[:, 'tsce']\n",
    "\n",
    "m = PanelOLS(dependent=y,\n",
    "            exog=X,\n",
    "            entity_effects=True,\n",
    "            time_effects=True,\n",
    "            drop_absorbed = True)\n",
    "\n",
    "# m = PanelOLS.from_formula('female_mean ~ log_best + Published + Submitted + person_mean + EntityEffects + TimeEffects', data=df_sub)\n",
    "\n",
    "m.fit(cov_type='clustered', cluster_time=True, cluster_entity=True)"
   ]
  },
  {
   "cell_type": "code",
   "execution_count": null,
   "metadata": {},
   "outputs": [],
   "source": []
  },
  {
   "cell_type": "code",
   "execution_count": null,
   "metadata": {},
   "outputs": [],
   "source": [
    "X = df_sub.loc[:,['falgIRQ_mean', 'flagUS_mean', 'uniformed_mean', 'militaryVehicle_mean']] # raw is ref\n",
    "y = df_sub.loc[:, 'female_mean']\n",
    "\n",
    "m = PanelOLS(dependent=y,\n",
    "            exog=X,\n",
    "            entity_effects=True,\n",
    "            time_effects=True,\n",
    "            drop_absorbed = True)\n",
    "\n",
    "# m = PanelOLS.from_formula('female_mean ~ log_best + Published + Submitted + person_mean + EntityEffects + TimeEffects', data=df_sub)\n",
    "\n",
    "m.fit(cov_type='clustered', cluster_time=True, cluster_entity=True)"
   ]
  },
  {
   "cell_type": "code",
   "execution_count": null,
   "metadata": {},
   "outputs": [],
   "source": [
    "X = df_sub.loc[:,['falgIRQ_mean', 'flagUS_mean', 'uniformed_mean', 'militaryVehicle_mean', 'female_mean']] # raw is ref\n",
    "y = df_sub.loc[:, 'religiousGarmentFemale_mean']\n",
    "\n",
    "m = PanelOLS(dependent=y,\n",
    "            exog=X,\n",
    "            entity_effects=True,\n",
    "            time_effects=True,\n",
    "            drop_absorbed = True)\n",
    "\n",
    "# m = PanelOLS.from_formula('female_mean ~ log_best + Published + Submitted + person_mean + EntityEffects + TimeEffects', data=df_sub)\n",
    "\n",
    "m.fit(cov_type='clustered', cluster_time=True, cluster_entity=True)"
   ]
  },
  {
   "cell_type": "code",
   "execution_count": null,
   "metadata": {},
   "outputs": [],
   "source": []
  },
  {
   "cell_type": "code",
   "execution_count": null,
   "metadata": {},
   "outputs": [],
   "source": [
    "X = df_sub.loc[:,['uniformed_mean', 'person_mean']] # raw is ref\n",
    "y = df_sub.loc[:, 'female_mean']\n",
    "\n",
    "m = PanelOLS(dependent=y,\n",
    "            exog=X,\n",
    "            entity_effects=True,\n",
    "            time_effects=True,\n",
    "            drop_absorbed = True)\n",
    "\n",
    "# m = PanelOLS.from_formula('female_mean ~ log_best + Published + Submitted + person_mean + EntityEffects + TimeEffects', data=df_sub)\n",
    "\n",
    "m.fit(cov_type='clustered', cluster_time=True, cluster_entity=True)"
   ]
  },
  {
   "cell_type": "code",
   "execution_count": null,
   "metadata": {},
   "outputs": [],
   "source": [
    "X = df_sub.loc[:,['uniformed_mean','female_mean']] # raw is ref\n",
    "y = df_sub.loc[:, 'religiousGarmentFemale_mean']\n",
    "\n",
    "m = PanelOLS(dependent=y,\n",
    "            exog=X,\n",
    "            entity_effects=True,\n",
    "            time_effects=True,\n",
    "            drop_absorbed = True)\n",
    "\n",
    "# m = PanelOLS.from_formula('female_mean ~ log_best + Published + Submitted + person_mean + EntityEffects + TimeEffects', data=df_sub)\n",
    "\n",
    "m.fit(cov_type='clustered', cluster_time=True, cluster_entity=True)"
   ]
  },
  {
   "cell_type": "code",
   "execution_count": null,
   "metadata": {},
   "outputs": [],
   "source": [
    "df_sub['best_uni'] = df_sub['log_best'] * df_sub['uniformed_mean']\n",
    "df_sub['tce_uni'] = df_sub['tce'] * df_sub['uniformed_mean']\n",
    "df_sub['tsce_uni'] = df_sub['tsce'] * df_sub['uniformed_mean']"
   ]
  },
  {
   "cell_type": "code",
   "execution_count": null,
   "metadata": {},
   "outputs": [],
   "source": [
    "X = df_sub.loc[:,['tsce_uni', 'uniformed_mean', 'person_mean']] # raw is ref\n",
    "y = df_sub.loc[:, 'female_mean']\n",
    "\n",
    "m = PanelOLS(dependent=y,\n",
    "            exog=X,\n",
    "            entity_effects=True,\n",
    "            time_effects=True,\n",
    "            drop_absorbed = True)\n",
    "\n",
    "m.fit(cov_type='clustered', cluster_time=True, cluster_entity=True)"
   ]
  },
  {
   "cell_type": "code",
   "execution_count": null,
   "metadata": {},
   "outputs": [],
   "source": [
    "X = df_sub.loc[:,['uniformed_mean', 'person_mean']] # raw is ref\n",
    "y = df_sub.loc[:, 'female_mean']\n",
    "\n",
    "m = PanelOLS(dependent=y,\n",
    "            exog=X,\n",
    "            entity_effects=True,\n",
    "            time_effects=True,\n",
    "            drop_absorbed = True)\n",
    "\n",
    "# m = PanelOLS.from_formula('female_mean ~ log_best + Published + Submitted + person_mean + EntityEffects + TimeEffects', data=df_sub)\n",
    "\n",
    "m.fit(cov_type='clustered', cluster_time=True, cluster_entity=True)"
   ]
  },
  {
   "cell_type": "code",
   "execution_count": null,
   "metadata": {},
   "outputs": [],
   "source": []
  },
  {
   "cell_type": "code",
   "execution_count": null,
   "metadata": {},
   "outputs": [],
   "source": []
  },
  {
   "cell_type": "code",
   "execution_count": null,
   "metadata": {},
   "outputs": [],
   "source": []
  },
  {
   "cell_type": "code",
   "execution_count": null,
   "metadata": {},
   "outputs": [],
   "source": []
  },
  {
   "cell_type": "code",
   "execution_count": null,
   "metadata": {},
   "outputs": [],
   "source": [
    "X = df_sub.loc[:,['falgIRQ_mean', 'flagUS_mean', 'uniformed_mean', 'firearm_mean', 'militaryVehicle_mean', 'person_mean']] # raw is ref\n",
    "y = df_sub.loc[:, 'female_mean']\n",
    "\n",
    "m = PanelOLS(dependent=y,\n",
    "            exog=X,\n",
    "            entity_effects=True,\n",
    "            time_effects=True,\n",
    "            drop_absorbed = True)\n",
    "\n",
    "# m = PanelOLS.from_formula('female_mean ~ log_best + Published + Submitted + person_mean + EntityEffects + TimeEffects', data=df_sub)\n",
    "\n",
    "m.fit(cov_type='clustered', cluster_time=True, cluster_entity=True)"
   ]
  },
  {
   "cell_type": "code",
   "execution_count": null,
   "metadata": {},
   "outputs": [],
   "source": [
    "X = df_sub.loc[:,['falgIRQ_mean', 'flagUS_mean', 'uniformed_mean', 'firearm_mean', 'militaryVehicle_mean','female_mean']] # raw is ref\n",
    "y = df_sub.loc[:, 'religiousGarmentFemale_mean']\n",
    "\n",
    "m = PanelOLS(dependent=y,\n",
    "            exog=X,\n",
    "            entity_effects=True,\n",
    "            time_effects=True,\n",
    "            drop_absorbed = True)\n",
    "\n",
    "# m = PanelOLS.from_formula('female_mean ~ log_best + Published + Submitted + person_mean + EntityEffects + TimeEffects', data=df_sub)\n",
    "\n",
    "m.fit(cov_type='clustered', cluster_time=True, cluster_entity=True)"
   ]
  },
  {
   "cell_type": "code",
   "execution_count": null,
   "metadata": {},
   "outputs": [],
   "source": []
  },
  {
   "cell_type": "code",
   "execution_count": null,
   "metadata": {},
   "outputs": [],
   "source": []
  },
  {
   "cell_type": "code",
   "execution_count": null,
   "metadata": {},
   "outputs": [],
   "source": []
  },
  {
   "cell_type": "code",
   "execution_count": null,
   "metadata": {},
   "outputs": [],
   "source": []
  },
  {
   "cell_type": "code",
   "execution_count": null,
   "metadata": {},
   "outputs": [],
   "source": []
  },
  {
   "cell_type": "code",
   "execution_count": null,
   "metadata": {},
   "outputs": [],
   "source": []
  },
  {
   "cell_type": "code",
   "execution_count": null,
   "metadata": {},
   "outputs": [],
   "source": [
    "X = df_sub.loc[:,['tsce']] # raw is ref\n",
    "y = df_sub.loc[:, 'uniformed_mean']\n",
    "\n",
    "m = PanelOLS(dependent=y,\n",
    "            exog=X,\n",
    "            entity_effects=True,\n",
    "            time_effects=True,\n",
    "            drop_absorbed = True)\n",
    "\n",
    "# m = PanelOLS.from_formula('female_mean ~ log_best + Published + Submitted + person_mean + EntityEffects + TimeEffects', data=df_sub)\n",
    "\n",
    "m.fit(cov_type='clustered', cluster_time=True, cluster_entity=True)"
   ]
  },
  {
   "cell_type": "code",
   "execution_count": null,
   "metadata": {},
   "outputs": [],
   "source": [
    "df_sub.columns"
   ]
  },
  {
   "cell_type": "code",
   "execution_count": null,
   "metadata": {},
   "outputs": [],
   "source": [
    "'person_mean','falgIRQ_mean', 'female_mean', 'religiousGarmentFemale_mean',\n",
    "       'uniformed_mean', 'firearm_mean', 'flagUS_mean', 'bloodedArea_mean',\n",
    "       'militaryVehicle_mean'"
   ]
  },
  {
   "cell_type": "code",
   "execution_count": null,
   "metadata": {},
   "outputs": [],
   "source": [
    "plt.matshow(df_sub[['falgIRQ_mean', 'flagUS_mean', 'uniformed_mean', 'firearm_mean', 'militaryVehicle_mean']].corr())\n",
    "plt.show()"
   ]
  },
  {
   "cell_type": "code",
   "execution_count": null,
   "metadata": {},
   "outputs": [],
   "source": []
  },
  {
   "cell_type": "code",
   "execution_count": null,
   "metadata": {},
   "outputs": [],
   "source": []
  },
  {
   "cell_type": "code",
   "execution_count": null,
   "metadata": {},
   "outputs": [],
   "source": []
  },
  {
   "cell_type": "code",
   "execution_count": null,
   "metadata": {},
   "outputs": [],
   "source": [
    "X = df_sub.loc[:,['falgIRQ_mean', 'flagUS_mean', 'uniformed_mean', 'firearm_mean', 'militaryVehicle_mean']] # raw is ref\n",
    "y = df_sub.loc[:, 'log_best']\n",
    "\n",
    "m = PanelOLS(dependent=y,\n",
    "            exog=X,\n",
    "            entity_effects=True,\n",
    "            time_effects=True,\n",
    "            drop_absorbed = True)\n",
    "\n",
    "# m = PanelOLS.from_formula('female_mean ~ log_best + Published + Submitted + person_mean + EntityEffects + TimeEffects', data=df_sub)\n",
    "\n",
    "m.fit(cov_type='clustered', cluster_time=True, cluster_entity=True)"
   ]
  },
  {
   "cell_type": "code",
   "execution_count": null,
   "metadata": {},
   "outputs": [],
   "source": [
    "df_sub[df_sub['Raw'] == 1].shape"
   ]
  },
  {
   "cell_type": "code",
   "execution_count": null,
   "metadata": {},
   "outputs": [],
   "source": [
    "df_sub[df_sub['Submitted'] == 1].shape"
   ]
  },
  {
   "cell_type": "code",
   "execution_count": null,
   "metadata": {},
   "outputs": [],
   "source": [
    "X = df_sub.loc[:,['Submitted', 'person_mean']] # raw is ref\n",
    "y = df_sub.loc[:, 'female_mean']\n",
    "\n",
    "m = PanelOLS(dependent=y,\n",
    "            exog=X,\n",
    "            entity_effects=True,\n",
    "            time_effects=True,\n",
    "            drop_absorbed = True)\n",
    "\n",
    "# m = PanelOLS.from_formula('female_mean ~ log_best + Published + Submitted + person_mean + EntityEffects + TimeEffects', data=df_sub)\n",
    "\n",
    "m.fit(cov_type='clustered', cluster_time=True, cluster_entity=True)"
   ]
  },
  {
   "cell_type": "code",
   "execution_count": null,
   "metadata": {},
   "outputs": [],
   "source": [
    "X = df_sub.loc[:,['Raw']] # raw is ref\n",
    "y = df_sub.loc[:, 'religiousGarmentFemale_mean']\n",
    "\n",
    "m = PanelOLS(dependent=y,\n",
    "            exog=X,\n",
    "            entity_effects=True,\n",
    "            time_effects=True,\n",
    "            drop_absorbed = True)\n",
    "\n",
    "# m = PanelOLS.from_formula('female_mean ~ log_best + Published + Submitted + person_mean + EntityEffects + TimeEffects', data=df_sub)\n",
    "\n",
    "m.fit(cov_type='clustered', cluster_time=True, cluster_entity=True)"
   ]
  },
  {
   "cell_type": "code",
   "execution_count": null,
   "metadata": {},
   "outputs": [],
   "source": []
  },
  {
   "cell_type": "code",
   "execution_count": null,
   "metadata": {},
   "outputs": [],
   "source": []
  },
  {
   "cell_type": "code",
   "execution_count": null,
   "metadata": {},
   "outputs": [],
   "source": [
    "df_sub"
   ]
  },
  {
   "cell_type": "code",
   "execution_count": null,
   "metadata": {},
   "outputs": [],
   "source": []
  },
  {
   "cell_type": "code",
   "execution_count": null,
   "metadata": {},
   "outputs": [],
   "source": []
  },
  {
   "cell_type": "code",
   "execution_count": null,
   "metadata": {},
   "outputs": [],
   "source": []
  },
  {
   "cell_type": "code",
   "execution_count": null,
   "metadata": {},
   "outputs": [],
   "source": []
  },
  {
   "cell_type": "code",
   "execution_count": null,
   "metadata": {},
   "outputs": [],
   "source": []
  },
  {
   "cell_type": "code",
   "execution_count": null,
   "metadata": {},
   "outputs": [],
   "source": []
  },
  {
   "cell_type": "code",
   "execution_count": null,
   "metadata": {},
   "outputs": [],
   "source": []
  },
  {
   "cell_type": "code",
   "execution_count": null,
   "metadata": {},
   "outputs": [],
   "source": [
    "bodies_df_exposure['gid'].unique().shape[0] "
   ]
  },
  {
   "cell_type": "code",
   "execution_count": null,
   "metadata": {},
   "outputs": [],
   "source": [
    "bodies_df_exposure['gid'].unique().shape[0] * bodies_df_exposure['month_id'].unique().shape[0]"
   ]
  },
  {
   "cell_type": "code",
   "execution_count": null,
   "metadata": {},
   "outputs": [],
   "source": [
    "bodies_df_exposure['month_id'].unique()"
   ]
  },
  {
   "cell_type": "markdown",
   "metadata": {},
   "source": [
    "# Old ish"
   ]
  },
  {
   "cell_type": "markdown",
   "metadata": {},
   "source": [
    "# NOTES:\n",
    "\n",
    "\n",
    "RQ:\n",
    "- To what extent does the distribution of content in the images, differs across publication status.\n",
    " \n",
    "- To What extent does the distribution of content in the images corrolate with the magnitude/exposure of conflict \n"
   ]
  },
  {
   "cell_type": "code",
   "execution_count": null,
   "metadata": {},
   "outputs": [],
   "source": [
    "# pre\n",
    "\n",
    "list_of_features_mean = [feature for feature in bodies_df_exposure.columns if 'mean' in feature] \n",
    "\n",
    "df_sub = bodies_df_exposure[list_of_features_mean + ['log_best', 'tce', 'tsce', 'publication', 'month_id', 'gid']].copy()\n",
    "df_sub = df_sub[df_sub['person_mean'] != 0] # no people, no entry\n",
    "df_sub[['Published', 'Raw', 'Submitted']] = pd.get_dummies(df_sub[['publication']])\n",
    "df_sub.drop(columns= 'publication', inplace= True)\n",
    "df_sub.dropna(inplace= True)\n",
    "df_sub.set_index(['gid', 'month_id'], inplace = True)\n",
    "df_sub['intPubBest'] = df_sub['Published'] * df_sub['log_best']\n",
    "df_sub['intPubTce'] = df_sub['Published'] * df_sub['tce']\n",
    "df_sub['intPubTsce'] = df_sub['Published'] * df_sub['tsce']\n",
    "\n",
    "\n",
    "# also drop all with no persons in them"
   ]
  },
  {
   "cell_type": "markdown",
   "metadata": {},
   "source": [
    "# gender\n",
    "## Contiues dependents:\n",
    "\n",
    "$$\n",
    "female_{it} = \\alpha_{i} + \\gamma_{t} + \\beta_{1} logConflict_{it} + \\beta_{2} published_{it} + \\beta_{3} submitted_{it} + \\beta_{4} persons_{it} + \\epsilon_{it}   \n",
    "$$\n",
    "\n",
    "Interestingly, the results holds is we have male mean as dependent. I.e. then Published is significantly negativly corrolated with published \n"
   ]
  },
  {
   "cell_type": "code",
   "execution_count": null,
   "metadata": {},
   "outputs": [],
   "source": [
    "X = df_sub.loc[:,['log_best', 'Published', 'Submitted', 'person_mean']] # raw is ref\n",
    "y = df_sub.loc[:, 'female_mean']\n",
    "\n",
    "m = PanelOLS(dependent=y,\n",
    "            exog=X,\n",
    "            entity_effects=True,\n",
    "            time_effects=True,\n",
    "            drop_absorbed = True)\n",
    "\n",
    "# m = PanelOLS.from_formula('female_mean ~ log_best + Published + Submitted + person_mean + EntityEffects + TimeEffects', data=df_sub)\n",
    "\n",
    "m.fit(cov_type='clustered', cluster_time=True, cluster_entity=True)"
   ]
  },
  {
   "cell_type": "markdown",
   "metadata": {},
   "source": [
    "$$\n",
    "male_{it} = \\alpha_{i} + \\gamma_{t} + \\beta_{1} tce_{it} + \\beta_{2} published_{it} + \\beta_{3} submitted_{it} + \\beta_{4} persons_{it} + \\epsilon_{it}   \n",
    "$$\n"
   ]
  },
  {
   "cell_type": "code",
   "execution_count": null,
   "metadata": {},
   "outputs": [],
   "source": [
    "X = df_sub.loc[:,['log_best', 'Published', 'Submitted', 'person_mean']] # raw is ref\n",
    "y = df_sub.loc[:, 'male_mean']\n",
    "\n",
    "m = PanelOLS(dependent=y,\n",
    "            exog=X,\n",
    "            entity_effects=True,\n",
    "            time_effects=True,\n",
    "            drop_absorbed = True)\n",
    "\n",
    "# m = PanelOLS.from_formula('female_mean ~ log_best + Published + Submitted + person_mean + EntityEffects + TimeEffects', data=df_sub)\n",
    "\n",
    "m.fit(cov_type='clustered', cluster_time=True, cluster_entity=True)"
   ]
  },
  {
   "cell_type": "markdown",
   "metadata": {},
   "source": [
    "\n",
    "$$\n",
    "female_{it} = \\alpha_{i} + \\gamma_{t} + \\beta_{1} tce_{it} + \\beta_{2} published_{it} + \\beta_{3} submitted_{it} + \\beta_{4} persons_{it} + \\epsilon_{it}   \n",
    "$$\n"
   ]
  },
  {
   "cell_type": "code",
   "execution_count": null,
   "metadata": {},
   "outputs": [],
   "source": [
    "X = df_sub.loc[:,['tce', 'Published', 'Submitted', 'person_mean']] # raw is ref\n",
    "y = df_sub.loc[:, 'female_mean']\n",
    "\n",
    "m = PanelOLS(dependent=y,\n",
    "            exog=X,\n",
    "            entity_effects=True,\n",
    "            time_effects=True,\n",
    "            drop_absorbed = True)\n",
    "\n",
    "# m = PanelOLS.from_formula('female_mean ~ log_best + Published + Submitted + person_mean + EntityEffects + TimeEffects', data=df_sub)\n",
    "\n",
    "m.fit(cov_type='clustered', cluster_time=True, cluster_entity=True)"
   ]
  },
  {
   "cell_type": "code",
   "execution_count": null,
   "metadata": {},
   "outputs": [],
   "source": [
    "X = df_sub.loc[:,['tce', 'Published', 'Submitted', 'person_mean']] # raw is ref\n",
    "y = df_sub.loc[:, 'male_mean']\n",
    "\n",
    "m = PanelOLS(dependent=y,\n",
    "            exog=X,\n",
    "            entity_effects=True,\n",
    "            time_effects=True,\n",
    "            drop_absorbed = True)\n",
    "\n",
    "# m = PanelOLS.from_formula('female_mean ~ log_best + Published + Submitted + person_mean + EntityEffects + TimeEffects', data=df_sub)\n",
    "\n",
    "m.fit(cov_type='clustered', cluster_time=True, cluster_entity=True)"
   ]
  },
  {
   "cell_type": "markdown",
   "metadata": {},
   "source": [
    "\n",
    "$$\n",
    "female_{it} = \\alpha_{i} + \\gamma_{t} + \\beta_{1} tsce_{it} + \\beta_{2} published_{it} + \\beta_{3} submitted_{it} + \\beta_{4} persons_{it} + \\epsilon_{it}   \n",
    "$$\n"
   ]
  },
  {
   "cell_type": "code",
   "execution_count": null,
   "metadata": {},
   "outputs": [],
   "source": [
    "X = df_sub.loc[:,['tsce', 'Published', 'Submitted', 'person_mean']] # raw is ref\n",
    "y = df_sub.loc[:, 'female_mean']\n",
    "\n",
    "m = PanelOLS(dependent=y,\n",
    "            exog=X,\n",
    "            entity_effects=True,\n",
    "            time_effects=True,\n",
    "            drop_absorbed = True)\n",
    "\n",
    "# m = PanelOLS.from_formula('female_mean ~ log_best + Published + Submitted + person_mean + EntityEffects + TimeEffects', data=df_sub)\n",
    "\n",
    "m.fit(cov_type='clustered', cluster_time=True, cluster_entity=True)"
   ]
  },
  {
   "cell_type": "markdown",
   "metadata": {},
   "source": [
    "\n",
    "$$\n",
    "female_{it} = \\alpha_{i} + \\gamma_{t} + \\beta_{1} tsce_{it} + \\beta_{2} published_{it} + \\beta_{3} submitted_{it} + \\beta_{4} persons_{it} + \\epsilon_{it}   \n",
    "$$\n"
   ]
  },
  {
   "cell_type": "code",
   "execution_count": null,
   "metadata": {},
   "outputs": [],
   "source": [
    "X = df_sub.loc[:,['tsce', 'Published', 'Submitted', 'person_mean']] # raw is ref\n",
    "y = df_sub.loc[:, 'male_mean']\n",
    "\n",
    "m = PanelOLS(dependent=y,\n",
    "            exog=X,\n",
    "            entity_effects=True,\n",
    "            time_effects=True,\n",
    "            drop_absorbed = True)\n",
    "\n",
    "# m = PanelOLS.from_formula('female_mean ~ log_best + Published + Submitted + person_mean + EntityEffects + TimeEffects', data=df_sub)\n",
    "\n",
    "m.fit(cov_type='clustered', cluster_time=True, cluster_entity=True)"
   ]
  },
  {
   "cell_type": "markdown",
   "metadata": {},
   "source": [
    "$$\n",
    "religiousGarments_{it} =  \\alpha_{i} + \\gamma_{t} + \\beta_{1} logConflict_{it} + \\beta_{2} published_{it} + \\beta_{3} submitted_{it} + \\beta_{4} persons_{it} + \\beta_{5} female_{it} + \\epsilon_{it}  \n",
    "$$"
   ]
  },
  {
   "cell_type": "code",
   "execution_count": null,
   "metadata": {},
   "outputs": [],
   "source": [
    "X = df_sub.loc[:,['female_mean', 'log_best', 'Published', 'Submitted']] # raw is ref\n",
    "y = df_sub.loc[:, 'religiousGarmentFemale_mean']\n",
    "\n",
    "m = PanelOLS(dependent=y,\n",
    "            exog=X,\n",
    "            entity_effects=True,\n",
    "            time_effects=True,\n",
    "            drop_absorbed=True)\n",
    "\n",
    "m.fit(cov_type='clustered', cluster_time=True, cluster_entity=True)"
   ]
  },
  {
   "cell_type": "markdown",
   "metadata": {},
   "source": [
    "$$\n",
    "religiousGarments_{it} =  \\alpha_{i} + \\gamma_{t} + \\beta_{1} tce_{it} + \\beta_{2} published_{it} + \\beta_{3} submitted_{it} + \\beta_{4} persons_{it} + \\beta_{5} female_{it} + \\epsilon_{it}  \n",
    "$$"
   ]
  },
  {
   "cell_type": "code",
   "execution_count": null,
   "metadata": {},
   "outputs": [],
   "source": [
    "X = df_sub.loc[:,['female_mean', 'tce', 'Published', 'Submitted']] # raw is ref\n",
    "y = df_sub.loc[:, 'religiousGarmentFemale_mean']\n",
    "\n",
    "m = PanelOLS(dependent=y,\n",
    "            exog=X,\n",
    "            entity_effects=True,\n",
    "            time_effects=True,\n",
    "            drop_absorbed=True)\n",
    "\n",
    "m.fit(cov_type='clustered', cluster_time=True, cluster_entity=True)"
   ]
  },
  {
   "cell_type": "markdown",
   "metadata": {},
   "source": [
    "$$\n",
    "religiousGarments_{it} =  \\alpha_{i} + \\gamma_{t} + \\beta_{1} tsce_{it} + \\beta_{2} published_{it} + \\beta_{3} submitted_{it} + \\beta_{4} persons_{it} + \\beta_{5} female_{it} + \\epsilon_{it}  \n",
    "$$"
   ]
  },
  {
   "cell_type": "markdown",
   "metadata": {},
   "source": [
    "# with interactions"
   ]
  },
  {
   "cell_type": "code",
   "execution_count": null,
   "metadata": {},
   "outputs": [],
   "source": [
    "X = df_sub.loc[:,['log_best', 'intPubBest', 'Published', 'Submitted', 'person_mean']] # raw is ref\n",
    "y = df_sub.loc[:, 'female_mean']\n",
    "\n",
    "m = PanelOLS(dependent=y,\n",
    "            exog=X,\n",
    "            entity_effects=True,\n",
    "            time_effects=True,\n",
    "            drop_absorbed = True)\n",
    "\n",
    "# m = PanelOLS.from_formula('female_mean ~ log_best + Published + Submitted + person_mean + EntityEffects + TimeEffects', data=df_sub)\n",
    "\n",
    "m.fit(cov_type='clustered', cluster_time=True, cluster_entity=True)"
   ]
  },
  {
   "cell_type": "code",
   "execution_count": null,
   "metadata": {},
   "outputs": [],
   "source": [
    "X = df_sub.loc[:,['tce', 'intPubTce', 'Published', 'Submitted', 'person_mean']] # raw is ref\n",
    "y = df_sub.loc[:, 'female_mean']\n",
    "\n",
    "m = PanelOLS(dependent=y,\n",
    "            exog=X,\n",
    "            entity_effects=True,\n",
    "            time_effects=True,\n",
    "            drop_absorbed = True)\n",
    "\n",
    "# m = PanelOLS.from_formula('female_mean ~ log_best + Published + Submitted + person_mean + EntityEffects + TimeEffects', data=df_sub)\n",
    "\n",
    "m.fit(cov_type='clustered', cluster_time=True, cluster_entity=True)"
   ]
  },
  {
   "cell_type": "code",
   "execution_count": null,
   "metadata": {},
   "outputs": [],
   "source": [
    "X = df_sub.loc[:,['tsce', 'intPubTsce', 'Published', 'Submitted', 'person_mean']] # raw is ref\n",
    "y = df_sub.loc[:, 'female_mean']\n",
    "\n",
    "m = PanelOLS(dependent=y,\n",
    "            exog=X,\n",
    "            entity_effects=True,\n",
    "            time_effects=True,\n",
    "            drop_absorbed = True)\n",
    "\n",
    "# m = PanelOLS.from_formula('female_mean ~ log_best + Published + Submitted + person_mean + EntityEffects + TimeEffects', data=df_sub)\n",
    "\n",
    "m.fit(cov_type='clustered', cluster_time=True, cluster_entity=True)"
   ]
  },
  {
   "cell_type": "code",
   "execution_count": null,
   "metadata": {},
   "outputs": [],
   "source": [
    "X = df_sub.loc[:,['female_mean', 'log_best', 'intPubBest', 'Published', 'Submitted']] # raw is ref\n",
    "y = df_sub.loc[:, 'religiousGarmentFemale_mean']\n",
    "\n",
    "m = PanelOLS(dependent=y,\n",
    "            exog=X,\n",
    "            entity_effects=True,\n",
    "            time_effects=True,\n",
    "            drop_absorbed=True)\n",
    "\n",
    "m.fit(cov_type='clustered', cluster_time=True, cluster_entity=True)"
   ]
  },
  {
   "cell_type": "code",
   "execution_count": null,
   "metadata": {},
   "outputs": [],
   "source": [
    "X = df_sub.loc[:,['female_mean', 'tce', 'intPubTce', 'Published', 'Submitted']] # raw is ref\n",
    "y = df_sub.loc[:, 'religiousGarmentFemale_mean']\n",
    "\n",
    "m = PanelOLS(dependent=y,\n",
    "            exog=X,\n",
    "            entity_effects=True,\n",
    "            time_effects=True,\n",
    "            drop_absorbed=True)\n",
    "\n",
    "m.fit(cov_type='clustered', cluster_time=True, cluster_entity=True)"
   ]
  },
  {
   "cell_type": "code",
   "execution_count": null,
   "metadata": {},
   "outputs": [],
   "source": [
    "X = df_sub.loc[:,['female_mean', 'tsce', 'intPubTsce', 'Published', 'Submitted']] # raw is ref\n",
    "y = df_sub.loc[:, 'religiousGarmentFemale_mean']\n",
    "\n",
    "m = PanelOLS(dependent=y,\n",
    "            exog=X,\n",
    "            entity_effects=True,\n",
    "            time_effects=True,\n",
    "            drop_absorbed=True)\n",
    "\n",
    "m.fit(cov_type='clustered', cluster_time=True, cluster_entity=True)"
   ]
  },
  {
   "cell_type": "markdown",
   "metadata": {},
   "source": [
    "### Binary dependent (linar probability model)\n",
    "\n",
    "$$\n",
    "binaryFemale_{it} = \\alpha_{i} + \\gamma_{t} + \\beta_{1} logConflict_{it} + \\beta_{2} published_{it} + \\beta_{3} submitted_{it} + \\beta_{4} persons_{it} + \\epsilon_{it}   \n",
    "$$\n",
    "\n",
    "$$\n",
    "binaryFeligiousGarments_{it} =  \\gamma_{i} + \\alpha_{t} + \\beta_{1} logConflict_{it} + \\beta_{2} published_{it} + \\beta_{3} submitted_{it} + \\beta_{4} persons_{it} + \\beta_{5} female_{it} + \\epsilon_{it}  \n",
    "$$"
   ]
  },
  {
   "cell_type": "code",
   "execution_count": null,
   "metadata": {},
   "outputs": [],
   "source": [
    "X = df_sub.loc[:,['log_best', 'person_mean', 'Published', 'Submitted']] # raw is ref\n",
    "y = (df_sub.loc[:, 'female_mean'] > 0).astype(int)\n",
    "\n",
    "\n",
    "m = PanelOLS(dependent=y,\n",
    "            exog=X,\n",
    "            entity_effects=True,\n",
    "            time_effects=True)\n",
    "\n",
    "m.fit(cov_type='clustered', cluster_time=True, cluster_entity=True)"
   ]
  },
  {
   "cell_type": "code",
   "execution_count": null,
   "metadata": {},
   "outputs": [],
   "source": [
    "X = df_sub.loc[:,['female_mean', 'person_mean', 'log_best', 'Published', 'Submitted']] # raw is ref\n",
    "y = (df_sub.loc[:, 'religiousGarmentFemale_mean'] > 0).astype(int)\n",
    "\n",
    "m = PanelOLS(dependent=y,\n",
    "            exog=X,\n",
    "            entity_effects=True,\n",
    "            time_effects=True)\n",
    "\n",
    "m.fit(cov_type='clustered', cluster_time=True, cluster_entity=True)"
   ]
  },
  {
   "cell_type": "markdown",
   "metadata": {},
   "source": [
    "## Logged dependent\n",
    "\n",
    "$$\n",
    "logFemale_{it} = \\alpha_{i} + \\gamma_{t} + \\beta_{1} logConflict_{it} + \\beta_{2} published_{it} + \\beta_{3} submitted_{it} + \\beta_{4} persons_{it} + \\epsilon_{it}   \n",
    "$$\n",
    "\n",
    "$$\n",
    "logFeligiousGarments_{it} =  \\alpha_{i} + \\gamma_{t} + \\beta_{1} logConflict_{it} + \\beta_{2} published_{it} + \\beta_{3} submitted_{it} + \\beta_{4} persons_{it} + \\beta_{5} female_{it} + \\epsilon_{it}  \n",
    "$$"
   ]
  },
  {
   "cell_type": "code",
   "execution_count": null,
   "metadata": {},
   "outputs": [],
   "source": [
    "X = df_sub.loc[:,['log_best', 'person_mean', 'Published', 'Submitted']] # raw is ref\n",
    "y = np.log(df_sub.loc[:, 'female_mean']+1)\n",
    "\n",
    "\n",
    "m = PanelOLS(dependent=y,\n",
    "            exog=X,\n",
    "            entity_effects=True,\n",
    "            time_effects=True)\n",
    "\n",
    "m.fit(cov_type='clustered', cluster_time=True, cluster_entity=True)"
   ]
  },
  {
   "cell_type": "code",
   "execution_count": null,
   "metadata": {},
   "outputs": [],
   "source": [
    "X = df_sub.loc[:,['female_mean', 'person_mean', 'log_best', 'Published', 'Submitted']] # raw is ref\n",
    "y = np.log(df_sub.loc[:, 'religiousGarmentFemale_mean'] + 1)\n",
    "\n",
    "m = PanelOLS(dependent=y,\n",
    "            exog=X,\n",
    "            entity_effects=True,\n",
    "            time_effects=True)\n",
    "\n",
    "m.fit(cov_type='clustered', cluster_time=True, cluster_entity=True)"
   ]
  },
  {
   "cell_type": "markdown",
   "metadata": {},
   "source": [
    "## ratio dependent\n",
    "\n",
    "$$\n",
    "ratioFemalePerson_{it} = \\alpha_{i} + \\gamma_{t} + \\beta_{1} logConflict_{it} + \\beta_{2} published_{it} + \\beta_{3} submitted_{it} + \\beta_{4} persons_{it} + \\epsilon_{it}   \n",
    "$$\n",
    "\n",
    "$$\n",
    "ratioFemaleReligiousGarments_{it} =  \\alpha_{i} + \\gamma_{t} + \\beta_{1} logConflict_{it} + \\beta_{2} published_{it} + \\beta_{3} submitted_{it} + \\beta_{4} persons_{it} + \\beta_{5} + female_{it} \\epsilon_{it}  \n",
    "$$"
   ]
  },
  {
   "cell_type": "code",
   "execution_count": null,
   "metadata": {},
   "outputs": [],
   "source": [
    "X = df_sub.loc[:,['log_best', 'person_mean', 'Published', 'Submitted']] # raw is ref\n",
    "y = df_sub.loc[:, 'female_mean']/df_sub.loc[:, 'person_mean']\n",
    "\n",
    "\n",
    "m = PanelOLS(dependent=y,\n",
    "            exog=X,\n",
    "            entity_effects=True,\n",
    "            time_effects=True)\n",
    "\n",
    "m.fit(cov_type='clustered', cluster_time=True, cluster_entity=True)"
   ]
  },
  {
   "cell_type": "code",
   "execution_count": null,
   "metadata": {},
   "outputs": [],
   "source": [
    "df_sub_fem = df_sub[df_sub['female_mean']>0].copy()\n",
    "\n",
    "X = df_sub_fem.loc[:,['female_mean', 'person_mean', 'log_best', 'Published', 'Submitted']] # raw is ref\n",
    "y = df_sub_fem.loc[:, 'religiousGarmentFemale_mean']/df_sub_fem.loc[:, 'female_mean']\n",
    "\n",
    "m = PanelOLS(dependent=y,\n",
    "            exog=X,\n",
    "            entity_effects=True,\n",
    "            time_effects=True)\n",
    "\n",
    "m.fit(cov_type='clustered', cluster_time=True, cluster_entity=True)"
   ]
  },
  {
   "cell_type": "markdown",
   "metadata": {},
   "source": [
    "Conflict\n",
    "..."
   ]
  },
  {
   "cell_type": "code",
   "execution_count": null,
   "metadata": {},
   "outputs": [],
   "source": [
    "X = df_sub.loc[:, list_of_features_mean] # raw is ref\n",
    "y = df_sub.loc[:, 'log_best']\n",
    "\n",
    "m = PanelOLS(dependent=y,\n",
    "            exog=X,\n",
    "            entity_effects=True,\n",
    "            time_effects=True)\n",
    "\n",
    "m.fit(cov_type='clustered', cluster_time=True, cluster_entity=True)"
   ]
  },
  {
   "cell_type": "code",
   "execution_count": null,
   "metadata": {},
   "outputs": [],
   "source": [
    "X = df_sub.loc[:, list_of_features_mean] # raw is ref\n",
    "y = df_sub.loc[:, 'tce']\n",
    "\n",
    "m = PanelOLS(dependent=y,\n",
    "            exog=X,\n",
    "            entity_effects=True,\n",
    "            time_effects=True)\n",
    "\n",
    "m.fit(cov_type='clustered', cluster_time=True, cluster_entity=True)"
   ]
  },
  {
   "cell_type": "code",
   "execution_count": null,
   "metadata": {},
   "outputs": [],
   "source": [
    "\n",
    "X = df_sub.loc[:, list_of_features_mean + ['Published', 'Submitted']] # raw is ref\n",
    "y = df_sub.loc[:, 'tsce']\n",
    "\n",
    "m = PanelOLS(dependent=y,\n",
    "            exog=X,\n",
    "            entity_effects=True,\n",
    "            time_effects=True)\n",
    "\n",
    "m.fit(cov_type='clustered', cluster_time=True, cluster_entity=True)"
   ]
  },
  {
   "cell_type": "code",
   "execution_count": null,
   "metadata": {},
   "outputs": [],
   "source": [
    "\n",
    "X = df_sub.loc[:, ['religiousGarmentFemale_mean']] # raw is ref\n",
    "y = df_sub.loc[:, 'tsce']\n",
    "\n",
    "m = PanelOLS(dependent=y,\n",
    "            exog=X,\n",
    "            entity_effects=True,\n",
    "            time_effects=True)\n",
    "\n",
    "m.fit(cov_type='clustered', cluster_time=True, cluster_entity=True)"
   ]
  },
  {
   "cell_type": "code",
   "execution_count": null,
   "metadata": {},
   "outputs": [],
   "source": [
    "\n",
    "df_sub['intTsceFemale'] = df_sub.loc[:,'tsce']  * df_sub.loc[:,'female_mean'] \n",
    "\n",
    "\n",
    "X = df_sub.loc[:, ['tsce', 'female_mean', 'intTsceFemale']] # raw is ref\n",
    "y = df_sub.loc[:, 'religiousGarmentFemale_mean']\n",
    "\n",
    "m = PanelOLS(dependent=y,\n",
    "            exog=X,\n",
    "            entity_effects=True,\n",
    "            time_effects=True)\n",
    "\n",
    "m.fit(cov_type='clustered', cluster_time=True, cluster_entity=True)"
   ]
  },
  {
   "cell_type": "code",
   "execution_count": null,
   "metadata": {},
   "outputs": [],
   "source": [
    "df_sub_fem = df_sub[df_sub['female_mean']>0].copy()\n",
    "\n",
    "df_sub_fem['intTsceFemale'] = df_sub_fem.loc[:,'tsce']  * df_sub_fem.loc[:,'female_mean'] \n",
    "\n",
    "X = df_sub_fem.loc[:,['female_mean', 'tsce', 'intTsceFemale']] # raw is ref\n",
    "y = df_sub_fem.loc[:, 'religiousGarmentFemale_mean']\n",
    "\n",
    "m = PanelOLS(dependent=y,\n",
    "            exog=X,\n",
    "            entity_effects=True,\n",
    "            time_effects=True)\n",
    "\n",
    "m.fit(cov_type='clustered', cluster_time=True, cluster_entity=True)"
   ]
  },
  {
   "cell_type": "code",
   "execution_count": null,
   "metadata": {},
   "outputs": [],
   "source": [
    "X = df_sub.loc[:, ['tsce', 'person_mean', 'Published', 'Submitted']] # raw is ref\n",
    "y = df_sub.loc[:, 'male_mean']\n",
    "\n",
    "m = PanelOLS(dependent=y,\n",
    "            exog=X,\n",
    "            entity_effects=True,\n",
    "            time_effects=True)\n",
    "\n",
    "m.fit(cov_type='clustered', cluster_time=True, cluster_entity=True)"
   ]
  },
  {
   "cell_type": "code",
   "execution_count": null,
   "metadata": {},
   "outputs": [],
   "source": [
    "X = df_sub.loc[:, ['tsce', 'Published', 'Submitted']] # raw is ref\n",
    "y = df_sub.loc[:, 'person_mean']\n",
    "\n",
    "m = PanelOLS(dependent=y,\n",
    "            exog=X,\n",
    "            entity_effects=True,\n",
    "            time_effects=True)\n",
    "\n",
    "m.fit(cov_type='clustered', cluster_time=True, cluster_entity=True)"
   ]
  },
  {
   "cell_type": "code",
   "execution_count": null,
   "metadata": {},
   "outputs": [],
   "source": [
    "X = df_sub.loc[:, ['tsce', 'person_mean', 'Published', 'Submitted']] # raw is ref\n",
    "y = df_sub.loc[:, 'militaryVehicle_mean']\n",
    "\n",
    "m = PanelOLS(dependent=y,\n",
    "            exog=X,\n",
    "            entity_effects=True,\n",
    "            time_effects=True)\n",
    "\n",
    "m.fit(cov_type='clustered', cluster_time=True, cluster_entity=True)"
   ]
  },
  {
   "cell_type": "code",
   "execution_count": null,
   "metadata": {},
   "outputs": [],
   "source": [
    "list_of_features_mean"
   ]
  },
  {
   "cell_type": "code",
   "execution_count": null,
   "metadata": {},
   "outputs": [],
   "source": [
    "X = df_sub.loc[:, ['female_mean', 'religiousGarmentFemale_mean', 'person_mean', 'male_mean']] # raw is ref\n",
    "y = df_sub.loc[:, 'Published']\n",
    "\n",
    "m = PanelOLS(dependent=y,\n",
    "            exog=X,\n",
    "            entity_effects=True,\n",
    "            time_effects=True)\n",
    "\n",
    "m.fit(cov_type='clustered', cluster_time=True, cluster_entity=True)"
   ]
  },
  {
   "cell_type": "markdown",
   "metadata": {},
   "source": [
    "# old"
   ]
  },
  {
   "cell_type": "code",
   "execution_count": null,
   "metadata": {},
   "outputs": [],
   "source": []
  },
  {
   "cell_type": "code",
   "execution_count": null,
   "metadata": {},
   "outputs": [],
   "source": []
  },
  {
   "cell_type": "code",
   "execution_count": null,
   "metadata": {},
   "outputs": [],
   "source": []
  },
  {
   "cell_type": "code",
   "execution_count": null,
   "metadata": {},
   "outputs": [],
   "source": [
    "\n",
    "fitted_dict = dict()\n",
    "\n",
    "for i in list_of_features_mean:\n",
    "\n",
    "    X = df_sub.loc[:,['log_best', 'Published', 'Submitted']] # raw is ref\n",
    "    y = df_sub.loc[:, i]\n",
    "\n",
    "    m = PanelOLS(dependent=y,\n",
    "                exog=X,\n",
    "                entity_effects=True,\n",
    "                time_effects=True)\n",
    "\n",
    "    fitted_dict[i] = m.fit(cov_type='clustered', cluster_entity=True)"
   ]
  },
  {
   "cell_type": "code",
   "execution_count": null,
   "metadata": {},
   "outputs": [],
   "source": [
    "fitted_dict"
   ]
  },
  {
   "cell_type": "markdown",
   "metadata": {},
   "source": []
  },
  {
   "cell_type": "code",
   "execution_count": null,
   "metadata": {},
   "outputs": [],
   "source": [
    "X = df_sub.loc[:,['female_mean', 'log_best', 'Published', 'Submitted']] # raw is ref\n",
    "y = df_sub.loc[:, 'religiousGarmentFemale_mean']\n",
    "\n",
    "m = PanelOLS(dependent=y,\n",
    "            exog=X,\n",
    "            entity_effects=True,\n",
    "            time_effects=True)\n",
    "\n",
    "m.fit(cov_type='clustered', cluster_entity=True)"
   ]
  },
  {
   "cell_type": "code",
   "execution_count": null,
   "metadata": {},
   "outputs": [],
   "source": [
    "X = df_sub.loc[:,['female_mean', 'log_best', 'Published', 'Submitted']] # raw is ref\n",
    "y = df_sub.loc[:, 'religiousGarmentFemale_mean']\n",
    "\n",
    "m = PanelOLS(dependent=y,\n",
    "            exog=X,\n",
    "            entity_effects=True,\n",
    "            time_effects=True)\n",
    "\n",
    "m.fit(cov_type='clustered', cluster_entity=True)"
   ]
  }
 ],
 "metadata": {
  "kernelspec": {
   "display_name": "Python 3.8.13 ('scikit_env')",
   "language": "python",
   "name": "python3"
  },
  "language_info": {
   "codemirror_mode": {
    "name": "ipython",
    "version": 3
   },
   "file_extension": ".py",
   "mimetype": "text/x-python",
   "name": "python",
   "nbconvert_exporter": "python",
   "pygments_lexer": "ipython3",
   "version": "3.8.13"
  },
  "orig_nbformat": 4,
  "vscode": {
   "interpreter": {
    "hash": "db0d53181fc69c22f9e4b058cea75697c61780ca1ed81bc2eb5bd14731b6f4bf"
   }
  }
 },
 "nbformat": 4,
 "nbformat_minor": 2
}

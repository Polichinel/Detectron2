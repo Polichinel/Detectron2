{
 "cells": [
  {
   "cell_type": "code",
   "execution_count": 1,
   "metadata": {},
   "outputs": [
    {
     "name": "stdout",
     "output_type": "stream",
     "text": [
      "1.4.2\n"
     ]
    }
   ],
   "source": [
    "import numpy as np\n",
    "import pandas as pd\n",
    "\n",
    "import pickle\n",
    "\n",
    "import matplotlib.pyplot as plt\n",
    "\n",
    "from sklearn.neighbors import NearestNeighbors\n",
    "\n",
    "print(pd.__version__)"
   ]
  },
  {
   "cell_type": "code",
   "execution_count": 2,
   "metadata": {},
   "outputs": [],
   "source": [
    "def get_bodies_data():    \n",
    "    \n",
    "    data_dir = '/home/simon/Documents/Bodies/data/OD_dataframes_compiled/'\n",
    "\n",
    "    with open(f'{data_dir}df_od_coordinates.pkl', 'rb') as file:\n",
    "        bodies_df = pickle.load(file)\n",
    "\n",
    "    # correcting that one in manhatten\n",
    "    bodies_df.loc[bodies_df['longitude'] == bodies_df['longitude'].min(), 'latitude'] = bodies_df.loc[bodies_df['longitude'] == bodies_df['longitude'].min(), 'latitude_p']\n",
    "    bodies_df.loc[bodies_df['longitude'] == bodies_df['longitude'].min(), 'longitude'] = bodies_df.loc[bodies_df['longitude'] == bodies_df['longitude'].min(), 'latitude_p']\n",
    "\n",
    "    # correcting those with wrong time stamp\n",
    "    bodies_df.loc[bodies_df['date created'] == '00000000', 'date created'] = np.nan\n",
    "\n",
    "    # create ythe date time date\n",
    "    bodies_df['date'] = pd.to_datetime(bodies_df['date created'], format='%Y%m%d', exact = False)\n",
    "\n",
    "    # Create location annotation dummy\n",
    "    annotation_mask = (bodies_df['longitude'].notna()) & (bodies_df['latitude'].notna())\n",
    "    bodies_df['location_annot'] = annotation_mask * 1 \n",
    "\n",
    "    return(bodies_df)"
   ]
  },
  {
   "cell_type": "code",
   "execution_count": 3,
   "metadata": {},
   "outputs": [],
   "source": [
    "bodies_df = get_bodies_data()"
   ]
  },
  {
   "cell_type": "code",
   "execution_count": 4,
   "metadata": {},
   "outputs": [],
   "source": [
    "# you need a dummy regarding wheter the location is infered."
   ]
  },
  {
   "cell_type": "code",
   "execution_count": 5,
   "metadata": {},
   "outputs": [
    {
     "data": {
      "image/png": "[encoded data removed]",
      "text/plain": [
       "<Figure size 432x288 with 1 Axes>"
      ]
     },
     "metadata": {
      "needs_background": "light"
     },
     "output_type": "display_data"
    }
   ],
   "source": [
    "x = bodies_df[bodies_df['location_annot'] == 1]['longitude']\n",
    "y = bodies_df[bodies_df['location_annot'] == 1]['latitude']\n",
    "\n",
    "plt.scatter(x,y)\n",
    "plt.show()"
   ]
  },
  {
   "cell_type": "code",
   "execution_count": 19,
   "metadata": {},
   "outputs": [],
   "source": [
    "annotated = bodies_df.loc[bodies_df['location_annot'] == 1,'date'].values.reshape(-1, 1)\n",
    "annotated_location = bodies_df.loc[bodies_df['location_annot'] == 1, ['longitude', 'latitude']]\n",
    "\n",
    "neigh = NearestNeighbors(n_neighbors=1)\n",
    "neigh.fit(annotated)\n",
    "\n",
    "non_annotated = bodies_df.loc[bodies_df['location_annot'] == 0,'date'].values.reshape(-1, 1)\n",
    "non_annotated_img_id = bodies_df.loc[bodies_df['location_annot'] == 0,'img_id'] # to merge back\n",
    "\n",
    "distance, preds = neigh.kneighbors(non_annotated)\n",
    "distance_days = pd.to_timedelta(distance.reshape(-1,)) # from nano seconds to days\n",
    "\n",
    "non_annotated_df = pd.DataFrame({'img_id' : non_annotated_img_id, 'distance_days' : distance_days, 'pred_idx' : preds.reshape(-1,)})\n",
    "\n",
    "annotated_location['pred_idx'] = annotated_location.reset_index().index\n",
    "new_annotated_df = non_annotated_df.merge(right = annotated_location ,how='left', on= 'pred_idx')\n",
    "\n",
    "brandnew = bodies_df.merge(right = new_annotated_df, how = 'left', on = 'img_id')\n",
    "\n",
    "brandnew['longitude_full'] = brandnew.loc[:, 'longitude_x'].fillna(brandnew.loc[:, 'longitude_y'])\n",
    "brandnew.drop(['longitude_x', 'longitude_y'], axis=1, inplace=True)\n",
    "\n",
    "brandnew['latitude_full'] = brandnew.loc[:, 'latitude_x'].fillna(brandnew.loc[:, 'latitude_y'])\n",
    "brandnew.drop(['latitude_x', 'latitude_y'], axis=1, inplace=True)"
   ]
  },
  {
   "cell_type": "code",
   "execution_count": 27,
   "metadata": {},
   "outputs": [
    {
     "data": {
      "image/png": "[encoded data removed]",
      "text/plain": [
       "<Figure size 432x288 with 1 Axes>"
      ]
     },
     "metadata": {
      "needs_background": "light"
     },
     "output_type": "display_data"
    }
   ],
   "source": [
    "x = brandnew['longitude_full'] \n",
    "y = brandnew['latitude_full']\n",
    "\n",
    "plt.scatter(x,y, alpha = 0.1)\n",
    "plt.show()"
   ]
  }
 ],
 "metadata": {
  "kernelspec": {
   "display_name": "Python 3.8.13 ('scikit_env')",
   "language": "python",
   "name": "python3"
  },
  "language_info": {
   "codemirror_mode": {
    "name": "ipython",
    "version": 3
   },
   "file_extension": ".py",
   "mimetype": "text/x-python",
   "name": "python",
   "nbconvert_exporter": "python",
   "pygments_lexer": "ipython3",
   "version": "3.8.13"
  },
  "orig_nbformat": 4,
  "vscode": {
   "interpreter": {
    "hash": "db0d53181fc69c22f9e4b058cea75697c61780ca1ed81bc2eb5bd14731b6f4bf"
   }
  }
 },
 "nbformat": 4,
 "nbformat_minor": 2
}

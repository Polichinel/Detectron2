{
 "cells": [
  {
   "cell_type": "code",
   "execution_count": 1,
   "metadata": {},
   "outputs": [],
   "source": [
    "# if local use new_torch_env\n",
    "\n",
    "import os\n",
    "\n",
    "import numpy as np\n",
    "import pandas as pd\n",
    "import seaborn as sns\n",
    "\n",
    "from collections import Counter\n",
    "\n",
    "import cv2\n",
    "import matplotlib.pyplot as plt\n",
    "from matplotlib.patches import Rectangle\n",
    "from xml.etree import ElementTree, ElementInclude\n",
    "\n",
    "import pickle\n",
    "\n",
    "from detectron2.structures import BoxMode\n"
   ]
  },
  {
   "cell_type": "code",
   "execution_count": 2,
   "metadata": {},
   "outputs": [],
   "source": [
    "\n",
    "np.random.seed(42) # see if this is the culprit.\n",
    "\n",
    "def get_classes(img_dir):\n",
    "    \"\"\"Creates a list of classes and corrosponding ints. also a dict to translate\"\"\"\n",
    "\n",
    "    obj_name = []\n",
    "\n",
    "    # Get all objects that have been annotated\n",
    "    for filename in os.listdir(img_dir):\n",
    "        if filename.split('.')[1] == 'xml':\n",
    "            box_path = os.path.join(img_dir, filename)\n",
    "\n",
    "            tree = ElementTree.parse(box_path)\n",
    "            lst_obj = tree.findall('object')\n",
    "\n",
    "            for j in lst_obj:\n",
    "                obj_name.append(j.find('name').text)\n",
    "    \n",
    "    classes = list(sorted(set(obj_name))) # all labesl\n",
    "    classes_int = list(np.arange(0,len(classes))) # corrospoding int\n",
    "    class_to_int = dict(zip(classes,classes_int)) # a dict to translate between them\n",
    "\n",
    "    return(classes, classes_int, class_to_int)\n",
    "\n",
    "\n",
    "def get_img_path(img_dir):\n",
    "\n",
    "    \"\"\"Creates a list of all image paths.\"\"\"\n",
    "\n",
    "    # right now this does not take into account whether the image was anotated or not.\n",
    "    # It also does not handle test or train.\n",
    "\n",
    "    img_path_list = []\n",
    "\n",
    "    for root, dirs, files in os.walk(img_dir):\n",
    "        for img_name in files:\n",
    "            if img_name.split('.')[1] == 'jpg':\n",
    "                img_path = os.path.join(img_dir, img_name)                \n",
    "                img_path_list.append(img_path)\n",
    "\n",
    "    return(img_path_list)\n",
    "\n",
    "\n",
    "def get_annotation_path(img_dir):\n",
    "\n",
    "    \"\"\"Creates a list of all box paths.\"\"\"\n",
    "\n",
    "    annotation_list = []\n",
    "\n",
    "    for filename in os.listdir(img_dir):\n",
    "        if filename.split('.')[1] == 'xml':\n",
    "            annotation_list.append(filename)\n",
    "\n",
    "    return(annotation_list)\n",
    "\n",
    "def get_train_test(annotation_list, train_ratio = 0.8):\n",
    "\n",
    "    train_n = int(len(annotation_list) * train_ratio)\n",
    "    train_set = np.random.choice(annotation_list, train_n, replace = False)\n",
    "    test_set = [i for i in annotation_list if i not in train_set]\n",
    "\n",
    "    return(train_set, test_set)\n",
    "\n",
    "\n",
    "def get_img_dicts(img_dir, train = True):\n",
    "\n",
    "    _, _, class_to_int = get_classes(img_dir) # only need the dict here.\n",
    "    annotation_list = get_annotation_path(img_dir) # new\n",
    "    train_set, test_set = get_train_test(annotation_list) \n",
    "\n",
    "    dataset_dicts = []\n",
    "    idx = 0\n",
    "\n",
    "    # if you just want a list to go through, you cna generalizr the function below (get_img_path)... \n",
    "    # and if you had that function splitting into train and test would be simple.\n",
    "\n",
    "    if train == True:\n",
    "        subset = train_set\n",
    "    \n",
    "    elif train == False:\n",
    "        subset = test_set\n",
    "\n",
    "    for filename in subset:\n",
    "\n",
    "    # for filename in os.listdir(img_dir):\n",
    "    #    if filename.split('.')[1] == 'xml': # only for annotated images. filename is now effectively annotationes.\n",
    "\n",
    "        img_name = filename.split('.')[0] + '.jpg' # the image name w/ correct extension.\n",
    "        \n",
    "        record = {}\n",
    "        img_path = os.path.join(img_dir, img_name)\n",
    "\n",
    "        height, width = cv2.imread(img_path).shape[:2]\n",
    "\n",
    "        record[\"file_name\"] = img_path #  needs to be the full path to the image file acccording to docs.\n",
    "        record[\"image_id\"] = idx\n",
    "        record[\"height\"] = height\n",
    "        record[\"width\"] = width\n",
    "\n",
    "        objs = []\n",
    "        obj_path = os.path.join(img_dir, filename)\n",
    "        tree = ElementTree.parse(obj_path)\n",
    "\n",
    "        annotations = tree.findall('object')\n",
    "\n",
    "        for i in annotations: # go through all annotated objs in a given image\n",
    "\n",
    "            label = i.find('name').text # get the label\n",
    "            box = i.findall('bndbox') # find the box\n",
    "\n",
    "            for j in box: # get the 4 measures from the box\n",
    "\n",
    "                xmin = float(j.find('xmin').text) \n",
    "                xmax = float(j.find('xmax').text) \n",
    "                ymin = float(j.find('ymin').text)\n",
    "                ymax = float(j.find('ymax').text) \n",
    "\n",
    "            obj = { 'bbox': [xmin, ymin, xmax, ymax],\n",
    "                    'bbox_mode': BoxMode.XYXY_ABS, # remember to change!\n",
    "                    'category_id': class_to_int[label],\n",
    "                    'catagory_label': label,\n",
    "                    'iscrowd' : 0}\n",
    "\n",
    "            objs.append(obj)\n",
    "\n",
    "        record[\"annotations\"] = objs\n",
    "\n",
    "        dataset_dicts.append(record)\n",
    "        idx += 1\n",
    "        print(idx, end=\"\\r\")\n",
    "  \n",
    "    return(dataset_dicts)"
   ]
  },
  {
   "cell_type": "code",
   "execution_count": 3,
   "metadata": {},
   "outputs": [
    {
     "name": "stdout",
     "output_type": "stream",
     "text": [
      "202\r"
     ]
    }
   ],
   "source": [
    "img_dir = '/home/simon/Documents/Bodies/data/jeppe/images' #'/home/projects/ku_00017/data/raw/bodies/OD_images_annotated' \n",
    "\n",
    "train_img_dicts = get_img_dicts(img_dir, train = True)\n",
    "val_img_dicts = get_img_dicts(img_dir, train = False)\n",
    "\n",
    "classes = get_classes(img_dir)"
   ]
  },
  {
   "cell_type": "code",
   "execution_count": 4,
   "metadata": {},
   "outputs": [],
   "source": [
    "def get_count_df(img_dicts):\n",
    "\n",
    "    list_of_counts = []\n",
    "\n",
    "    for i in img_dicts[0:3]:\n",
    "\n",
    "        list_of_annotations = []\n",
    "        for j in i['annotations']:\n",
    "\n",
    "            list_of_annotations.append(j['catagory_label'])\n",
    "\n",
    "        dict_of_counts_a = {'image_id' : i['image_id'], 'file_name': i['file_name']}\n",
    "\n",
    "        dict_of_counts_b = dict(Counter(list_of_annotations))\n",
    "\n",
    "        dict_of_counts = {**dict_of_counts_a, **dict_of_counts_b} # merge dicts\n",
    "\n",
    "        list_of_counts.append(dict_of_counts)\n",
    "\n",
    "    count_df = pd.DataFrame(list_of_counts)\n",
    "    count_df.fillna(0, inplace = True)\n",
    "\n",
    "    # make all values ints, when applicable\n",
    "    for i in count_df.columns:\n",
    "        try: count_df[[i]] = count_df[[i]].astype(int)\n",
    "        except: pass\n",
    "\n",
    "    return(count_df)"
   ]
  },
  {
   "cell_type": "code",
   "execution_count": 5,
   "metadata": {},
   "outputs": [
    {
     "data": {
      "text/html": [
       "<div>\n",
       "<style scoped>\n",
       "    .dataframe tbody tr th:only-of-type {\n",
       "        vertical-align: middle;\n",
       "    }\n",
       "\n",
       "    .dataframe tbody tr th {\n",
       "        vertical-align: top;\n",
       "    }\n",
       "\n",
       "    .dataframe thead th {\n",
       "        text-align: right;\n",
       "    }\n",
       "</style>\n",
       "<table border=\"1\" class=\"dataframe\">\n",
       "  <thead>\n",
       "    <tr style=\"text-align: right;\">\n",
       "      <th></th>\n",
       "      <th>image_id</th>\n",
       "      <th>file_name</th>\n",
       "      <th>person</th>\n",
       "      <th>male</th>\n",
       "      <th>adult</th>\n",
       "      <th>uniformed</th>\n",
       "      <th>hostage</th>\n",
       "      <th>child</th>\n",
       "      <th>blooded_area</th>\n",
       "      <th>casualty</th>\n",
       "      <th>female</th>\n",
       "    </tr>\n",
       "  </thead>\n",
       "  <tbody>\n",
       "    <tr>\n",
       "      <th>0</th>\n",
       "      <td>0</td>\n",
       "      <td>/home/simon/Documents/Bodies/data/jeppe/images...</td>\n",
       "      <td>2</td>\n",
       "      <td>2</td>\n",
       "      <td>2</td>\n",
       "      <td>1</td>\n",
       "      <td>1</td>\n",
       "      <td>0</td>\n",
       "      <td>0</td>\n",
       "      <td>0</td>\n",
       "      <td>0</td>\n",
       "    </tr>\n",
       "    <tr>\n",
       "      <th>1</th>\n",
       "      <td>1</td>\n",
       "      <td>/home/simon/Documents/Bodies/data/jeppe/images...</td>\n",
       "      <td>2</td>\n",
       "      <td>2</td>\n",
       "      <td>2</td>\n",
       "      <td>0</td>\n",
       "      <td>0</td>\n",
       "      <td>0</td>\n",
       "      <td>0</td>\n",
       "      <td>0</td>\n",
       "      <td>0</td>\n",
       "    </tr>\n",
       "    <tr>\n",
       "      <th>2</th>\n",
       "      <td>2</td>\n",
       "      <td>/home/simon/Documents/Bodies/data/jeppe/images...</td>\n",
       "      <td>1</td>\n",
       "      <td>0</td>\n",
       "      <td>0</td>\n",
       "      <td>0</td>\n",
       "      <td>0</td>\n",
       "      <td>1</td>\n",
       "      <td>1</td>\n",
       "      <td>1</td>\n",
       "      <td>1</td>\n",
       "    </tr>\n",
       "  </tbody>\n",
       "</table>\n",
       "</div>"
      ],
      "text/plain": [
       "   image_id                                          file_name  person  male  \\\n",
       "0         0  /home/simon/Documents/Bodies/data/jeppe/images...       2     2   \n",
       "1         1  /home/simon/Documents/Bodies/data/jeppe/images...       2     2   \n",
       "2         2  /home/simon/Documents/Bodies/data/jeppe/images...       1     0   \n",
       "\n",
       "   adult  uniformed  hostage  child  blooded_area  casualty  female  \n",
       "0      2          1        1      0             0         0       0  \n",
       "1      2          0        0      0             0         0       0  \n",
       "2      0          0        0      1             1         1       1  "
      ]
     },
     "execution_count": 5,
     "metadata": {},
     "output_type": "execute_result"
    }
   ],
   "source": [
    "train_df = get_count_df(train_img_dicts)\n",
    "train_df"
   ]
  },
  {
   "cell_type": "code",
   "execution_count": 6,
   "metadata": {},
   "outputs": [
    {
     "data": {
      "text/plain": [
       "person          5\n",
       "male            4\n",
       "adult           4\n",
       "uniformed       1\n",
       "hostage         1\n",
       "child           1\n",
       "blooded_area    1\n",
       "casualty        1\n",
       "female          1\n",
       "dtype: object"
      ]
     },
     "execution_count": 6,
     "metadata": {},
     "output_type": "execute_result"
    }
   ],
   "source": [
    "# N objects\n",
    "train_df.sum(axis=0)[2:] # ignore image_id and file name"
   ]
  },
  {
   "cell_type": "code",
   "execution_count": 7,
   "metadata": {},
   "outputs": [
    {
     "data": {
      "text/plain": [
       "person          3\n",
       "male            2\n",
       "adult           2\n",
       "uniformed       1\n",
       "hostage         1\n",
       "child           1\n",
       "blooded_area    1\n",
       "casualty        1\n",
       "female          1\n",
       "dtype: int64"
      ]
     },
     "execution_count": 7,
     "metadata": {},
     "output_type": "execute_result"
    }
   ],
   "source": [
    "# N images containing objects\n",
    "train_df.astype(bool).astype(int).sum(axis=0)[2:] # ignore image_id and file name"
   ]
  },
  {
   "cell_type": "code",
   "execution_count": null,
   "metadata": {},
   "outputs": [],
   "source": []
  },
  {
   "cell_type": "code",
   "execution_count": null,
   "metadata": {},
   "outputs": [],
   "source": []
  },
  {
   "cell_type": "code",
   "execution_count": null,
   "metadata": {},
   "outputs": [],
   "source": []
  },
  {
   "cell_type": "code",
   "execution_count": null,
   "metadata": {},
   "outputs": [],
   "source": []
  },
  {
   "cell_type": "code",
   "execution_count": null,
   "metadata": {},
   "outputs": [],
   "source": []
  },
  {
   "cell_type": "code",
   "execution_count": null,
   "metadata": {},
   "outputs": [],
   "source": []
  },
  {
   "cell_type": "code",
   "execution_count": null,
   "metadata": {},
   "outputs": [],
   "source": []
  },
  {
   "cell_type": "code",
   "execution_count": null,
   "metadata": {},
   "outputs": [],
   "source": []
  },
  {
   "cell_type": "code",
   "execution_count": null,
   "metadata": {},
   "outputs": [],
   "source": []
  },
  {
   "cell_type": "code",
   "execution_count": null,
   "metadata": {},
   "outputs": [],
   "source": []
  },
  {
   "cell_type": "code",
   "execution_count": null,
   "metadata": {},
   "outputs": [],
   "source": []
  },
  {
   "cell_type": "code",
   "execution_count": 72,
   "metadata": {},
   "outputs": [
    {
     "name": "stdout",
     "output_type": "stream",
     "text": [
      "[{'image_id': 0, 'file_name': '/home/simon/Documents/Bodies/data/jeppe/images/JS10088.jpg', 'flag_us': 2, 'person': 5, 'adult': 5, 'male': 5, 'uniformed': 4, 'firearm': 2}, {'image_id': 1, 'file_name': '/home/simon/Documents/Bodies/data/jeppe/images/JS10743.jpg', 'person': 4, 'adult': 4, 'female': 2, 'male': 2}, {'image_id': 2, 'file_name': '/home/simon/Documents/Bodies/data/jeppe/images/JS36167.jpg', 'person': 2, 'adult': 2, 'male': 2}]\n"
     ]
    },
    {
     "data": {
      "text/html": [
       "<div>\n",
       "<style scoped>\n",
       "    .dataframe tbody tr th:only-of-type {\n",
       "        vertical-align: middle;\n",
       "    }\n",
       "\n",
       "    .dataframe tbody tr th {\n",
       "        vertical-align: top;\n",
       "    }\n",
       "\n",
       "    .dataframe thead th {\n",
       "        text-align: right;\n",
       "    }\n",
       "</style>\n",
       "<table border=\"1\" class=\"dataframe\">\n",
       "  <thead>\n",
       "    <tr style=\"text-align: right;\">\n",
       "      <th></th>\n",
       "      <th>image_id</th>\n",
       "      <th>file_name</th>\n",
       "      <th>flag_us</th>\n",
       "      <th>person</th>\n",
       "      <th>adult</th>\n",
       "      <th>male</th>\n",
       "      <th>uniformed</th>\n",
       "      <th>firearm</th>\n",
       "      <th>female</th>\n",
       "    </tr>\n",
       "  </thead>\n",
       "  <tbody>\n",
       "    <tr>\n",
       "      <th>0</th>\n",
       "      <td>0</td>\n",
       "      <td>/home/simon/Documents/Bodies/data/jeppe/images...</td>\n",
       "      <td>2</td>\n",
       "      <td>5</td>\n",
       "      <td>5</td>\n",
       "      <td>5</td>\n",
       "      <td>4</td>\n",
       "      <td>2</td>\n",
       "      <td>0</td>\n",
       "    </tr>\n",
       "    <tr>\n",
       "      <th>1</th>\n",
       "      <td>1</td>\n",
       "      <td>/home/simon/Documents/Bodies/data/jeppe/images...</td>\n",
       "      <td>0</td>\n",
       "      <td>4</td>\n",
       "      <td>4</td>\n",
       "      <td>2</td>\n",
       "      <td>0</td>\n",
       "      <td>0</td>\n",
       "      <td>2</td>\n",
       "    </tr>\n",
       "    <tr>\n",
       "      <th>2</th>\n",
       "      <td>2</td>\n",
       "      <td>/home/simon/Documents/Bodies/data/jeppe/images...</td>\n",
       "      <td>0</td>\n",
       "      <td>2</td>\n",
       "      <td>2</td>\n",
       "      <td>2</td>\n",
       "      <td>0</td>\n",
       "      <td>0</td>\n",
       "      <td>0</td>\n",
       "    </tr>\n",
       "  </tbody>\n",
       "</table>\n",
       "</div>"
      ],
      "text/plain": [
       "   image_id                                          file_name  flag_us  \\\n",
       "0         0  /home/simon/Documents/Bodies/data/jeppe/images...        2   \n",
       "1         1  /home/simon/Documents/Bodies/data/jeppe/images...        0   \n",
       "2         2  /home/simon/Documents/Bodies/data/jeppe/images...        0   \n",
       "\n",
       "   person  adult  male  uniformed  firearm  female  \n",
       "0       5      5     5          4        2       0  \n",
       "1       4      4     2          0        0       2  \n",
       "2       2      2     2          0        0       0  "
      ]
     },
     "execution_count": 72,
     "metadata": {},
     "output_type": "execute_result"
    }
   ],
   "source": [
    "list_of_counts = []\n",
    "\n",
    "for i in train_img_dicts[0:3]:\n",
    "\n",
    "    list_of_annotations = []\n",
    "    for j in i['annotations']:\n",
    "\n",
    "        list_of_annotations.append(j['catagory_label'])\n",
    "\n",
    "    dict_of_counts_a = {'image_id' : i['image_id'], 'file_name': i['file_name']}\n",
    "\n",
    "    dict_of_counts_b = dict(Counter(list_of_annotations))\n",
    "\n",
    "    dict_of_counts = {**dict_of_counts_a, **dict_of_counts_b} # merge dicts\n",
    "\n",
    "    list_of_counts.append(dict_of_counts)\n",
    "\n",
    "print(list_of_counts)\n",
    "\n",
    "train_df = pd.DataFrame(list_of_counts)\n",
    "train_df.fillna(0, inplace = True)\n",
    "\n",
    "# make all values ints, when applicable\n",
    "for i in train_df.columns:\n",
    "    try: train_df[[i]] = train_df[[i]].astype(int)\n",
    "    except: pass\n",
    "\n",
    "train_df"
   ]
  },
  {
   "cell_type": "code",
   "execution_count": 13,
   "metadata": {},
   "outputs": [
    {
     "data": {
      "text/plain": [
       "'person'"
      ]
     },
     "execution_count": 13,
     "metadata": {},
     "output_type": "execute_result"
    }
   ],
   "source": [
    "train_img_dicts[0]['annotations'][0]['catagory_label']\n",
    "\n",
    "# get classes\n",
    "# Make list to be a list of image specific dicts: list_counts \n",
    "\n",
    "# For each image i in list images:\n",
    "    # create annotaiton_list\n",
    "    # get number of annotations\n",
    "    # For each annotation a in image i:\n",
    "        # get catagory_label\n",
    "        # append to image specific annotation_list\n",
    "\n",
    "    # img_dict = img_dict_dict(Counter(annotation_list))\n",
    "    # img_dict[img] = img_id\n",
    "\n",
    "    # list_counts.append(img_dict) \n",
    "\n",
    "#train_df = pd.DataFrame(list_counts)\n",
    "\n",
    "# you want to end up w/ a datafram where columns are X_count (where X are a specific object) and rows are images."
   ]
  },
  {
   "cell_type": "code",
   "execution_count": 22,
   "metadata": {},
   "outputs": [],
   "source": []
  },
  {
   "cell_type": "code",
   "execution_count": 19,
   "metadata": {},
   "outputs": [
    {
     "data": {
      "text/html": [
       "<div>\n",
       "<style scoped>\n",
       "    .dataframe tbody tr th:only-of-type {\n",
       "        vertical-align: middle;\n",
       "    }\n",
       "\n",
       "    .dataframe tbody tr th {\n",
       "        vertical-align: top;\n",
       "    }\n",
       "\n",
       "    .dataframe thead th {\n",
       "        text-align: right;\n",
       "    }\n",
       "</style>\n",
       "<table border=\"1\" class=\"dataframe\">\n",
       "  <thead>\n",
       "    <tr style=\"text-align: right;\">\n",
       "      <th></th>\n",
       "      <th>image_id</th>\n",
       "      <th>X1_count</th>\n",
       "      <th>X2_count</th>\n",
       "    </tr>\n",
       "  </thead>\n",
       "  <tbody>\n",
       "    <tr>\n",
       "      <th>0</th>\n",
       "      <td>1</td>\n",
       "      <td>3</td>\n",
       "      <td>13</td>\n",
       "    </tr>\n",
       "    <tr>\n",
       "      <th>1</th>\n",
       "      <td>2</td>\n",
       "      <td>5</td>\n",
       "      <td>52</td>\n",
       "    </tr>\n",
       "    <tr>\n",
       "      <th>2</th>\n",
       "      <td>4</td>\n",
       "      <td>63</td>\n",
       "      <td>3</td>\n",
       "    </tr>\n",
       "    <tr>\n",
       "      <th>3</th>\n",
       "      <td>5</td>\n",
       "      <td>2</td>\n",
       "      <td>12</td>\n",
       "    </tr>\n",
       "  </tbody>\n",
       "</table>\n",
       "</div>"
      ],
      "text/plain": [
       "   image_id  X1_count  X2_count\n",
       "0         1         3        13\n",
       "1         2         5        52\n",
       "2         4        63         3\n",
       "3         5         2        12"
      ]
     },
     "execution_count": 19,
     "metadata": {},
     "output_type": "execute_result"
    }
   ],
   "source": [
    "test_dict = {'image_id' : [1,2,4,5], 'X1_count' : [3,5,63,2], 'X2_count' : [13,52,3,12]}\n",
    "pd.DataFrame(test_dict)"
   ]
  },
  {
   "cell_type": "code",
   "execution_count": 39,
   "metadata": {},
   "outputs": [],
   "source": [
    "test_list0 = ['i', 'i', 'm']\n",
    "test_dict0= dict(Counter(test_list0))\n",
    "test_dict0['img_id'] = 0\n",
    "\n",
    "test_list1 = ['m', 'i', 'm','a']\n",
    "test_dict1= dict(Counter(test_list1))\n",
    "test_dict1['img_id'] = 1\n"
   ]
  },
  {
   "cell_type": "code",
   "execution_count": 62,
   "metadata": {},
   "outputs": [],
   "source": [
    "test_dict0a = {'img_id' : 0}\n",
    "test_list0 = ['i', 'i', 'm']\n",
    "test_dict0b= dict(Counter(test_list0))\n",
    "test_dict0 = {**test_dict0a, **test_dict0b}\n",
    "\n",
    "test_dict1a = {'img_id' : 1}\n",
    "test_list1 = ['m', 'i', 'm','a']\n",
    "test_dict1b= dict(Counter(test_list1))\n",
    "test_dict1 = {**test_dict1a, **test_dict1b}\n"
   ]
  },
  {
   "cell_type": "code",
   "execution_count": 63,
   "metadata": {},
   "outputs": [
    {
     "data": {
      "text/plain": [
       "{'img_id': 1, 'm': 2, 'i': 1, 'a': 1}"
      ]
     },
     "execution_count": 63,
     "metadata": {},
     "output_type": "execute_result"
    }
   ],
   "source": [
    "test_dict1"
   ]
  },
  {
   "cell_type": "code",
   "execution_count": 64,
   "metadata": {},
   "outputs": [
    {
     "data": {
      "text/html": [
       "<div>\n",
       "<style scoped>\n",
       "    .dataframe tbody tr th:only-of-type {\n",
       "        vertical-align: middle;\n",
       "    }\n",
       "\n",
       "    .dataframe tbody tr th {\n",
       "        vertical-align: top;\n",
       "    }\n",
       "\n",
       "    .dataframe thead th {\n",
       "        text-align: right;\n",
       "    }\n",
       "</style>\n",
       "<table border=\"1\" class=\"dataframe\">\n",
       "  <thead>\n",
       "    <tr style=\"text-align: right;\">\n",
       "      <th></th>\n",
       "      <th>img_id</th>\n",
       "      <th>i</th>\n",
       "      <th>m</th>\n",
       "      <th>a</th>\n",
       "    </tr>\n",
       "  </thead>\n",
       "  <tbody>\n",
       "    <tr>\n",
       "      <th>0</th>\n",
       "      <td>0</td>\n",
       "      <td>2</td>\n",
       "      <td>1</td>\n",
       "      <td>NaN</td>\n",
       "    </tr>\n",
       "    <tr>\n",
       "      <th>1</th>\n",
       "      <td>1</td>\n",
       "      <td>1</td>\n",
       "      <td>2</td>\n",
       "      <td>1.0</td>\n",
       "    </tr>\n",
       "  </tbody>\n",
       "</table>\n",
       "</div>"
      ],
      "text/plain": [
       "   img_id  i  m    a\n",
       "0       0  2  1  NaN\n",
       "1       1  1  2  1.0"
      ]
     },
     "execution_count": 64,
     "metadata": {},
     "output_type": "execute_result"
    }
   ],
   "source": [
    "list_0f_dicts = [test_dict0, test_dict1]\n",
    "\n",
    "pd.DataFrame(list_0f_dicts)"
   ]
  },
  {
   "cell_type": "code",
   "execution_count": null,
   "metadata": {},
   "outputs": [],
   "source": [
    "# hist of train, val and test"
   ]
  },
  {
   "cell_type": "code",
   "execution_count": null,
   "metadata": {},
   "outputs": [],
   "source": [
    "# hist of objects in full set"
   ]
  },
  {
   "cell_type": "code",
   "execution_count": null,
   "metadata": {},
   "outputs": [],
   "source": [
    "# hist of objects in train, val and test set"
   ]
  },
  {
   "cell_type": "code",
   "execution_count": null,
   "metadata": {},
   "outputs": [],
   "source": [
    "# Hist of total objects"
   ]
  },
  {
   "cell_type": "code",
   "execution_count": null,
   "metadata": {},
   "outputs": [],
   "source": []
  },
  {
   "cell_type": "code",
   "execution_count": null,
   "metadata": {},
   "outputs": [],
   "source": []
  },
  {
   "cell_type": "code",
   "execution_count": null,
   "metadata": {},
   "outputs": [],
   "source": []
  }
 ],
 "metadata": {
  "interpreter": {
   "hash": "e7d17cb9a9d1570995e0d0bdc2d11126f4f4f2acc1c9f41118ccdb5e1f5d3dec"
  },
  "kernelspec": {
   "display_name": "Python 3.7.11 64-bit ('pytorch_env_new': conda)",
   "language": "python",
   "name": "python3"
  },
  "language_info": {
   "codemirror_mode": {
    "name": "ipython",
    "version": 3
   },
   "file_extension": ".py",
   "mimetype": "text/x-python",
   "name": "python",
   "nbconvert_exporter": "python",
   "pygments_lexer": "ipython3",
   "version": "3.8.8"
  },
  "orig_nbformat": 4
 },
 "nbformat": 4,
 "nbformat_minor": 2
}

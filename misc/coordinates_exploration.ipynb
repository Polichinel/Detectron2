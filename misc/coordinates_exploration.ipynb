{
 "cells": [
  {
   "cell_type": "code",
   "execution_count": 3,
   "metadata": {},
   "outputs": [],
   "source": [
    "import numpy as np\n",
    "import pandas as pd\n",
    "import geopandas as gpd\n",
    "import pickle\n",
    "import urllib.request"
   ]
  },
  {
   "cell_type": "code",
   "execution_count": 4,
   "metadata": {},
   "outputs": [],
   "source": [
    "location = '/home/simon/Documents/Bodies/data/UCDP'"
   ]
  },
  {
   "cell_type": "code",
   "execution_count": 5,
   "metadata": {},
   "outputs": [],
   "source": [
    "def get_data(location):\n",
    "\n",
    "    # Getting and loading views data\n",
    "    print('Beginning file download UCDP...')\n",
    "\n",
    "    url_ucdp = 'https://ucdp.uu.se/downloads/ged/ged201-csv.zip'\n",
    "    path_ucdp = location + \"/ged201-csv.zip\"\n",
    "    urllib.request.urlretrieve(url_ucdp, path_ucdp)\n",
    "\n",
    "\n",
    "    # Getting and loading prio data\n",
    "    print('Beginning file download PRIO...')\n",
    "\n",
    "    url_prio = 'http://file.prio.no/ReplicationData/PRIO-GRID/priogrid_shapefiles.zip'\n",
    "    path_prio = location + '/priogrid_shapefiles.zip'\n",
    "    urllib.request.urlretrieve(url_prio, path_prio)\n",
    "\n",
    "    # And move to correct location on computerome\n",
    "    # gpd.read_file('zip://' + path_prio)\n",
    "    prio_grid = gpd.read_file('zip://' + path_prio)\n",
    "    ucdp = pd.read_csv(path_ucdp)\n",
    "\n",
    "    return prio_grid, ucdp"
   ]
  },
  {
   "cell_type": "code",
   "execution_count": 6,
   "metadata": {},
   "outputs": [
    {
     "name": "stdout",
     "output_type": "stream",
     "text": [
      "Beginning file download UCDP...\n",
      "Beginning file download PRIO...\n"
     ]
    },
    {
     "name": "stderr",
     "output_type": "stream",
     "text": [
      "/home/simon/anaconda3/envs/geo_env/lib/python3.9/site-packages/IPython/core/interactiveshell.py:3357: DtypeWarning: Columns (47) have mixed types.Specify dtype option on import or set low_memory=False.\n",
      "  if (await self.run_code(code, result,  async_=asy)):\n"
     ]
    }
   ],
   "source": [
    "prio_grid, ucdp = get_data(location)"
   ]
  },
  {
   "cell_type": "code",
   "execution_count": 63,
   "metadata": {},
   "outputs": [],
   "source": [
    "ucdp_copy = ucdp.copy()"
   ]
  },
  {
   "cell_type": "code",
   "execution_count": 83,
   "metadata": {},
   "outputs": [],
   "source": [
    "# but do you need all years or just those in theb Bodies data?\n",
    "\n",
    "\n",
    "ds_uniques = ucdp_copy['date_start'].str.slice(start = 0, stop = 7).unique()\n",
    "de_uniques = ucdp_copy['date_end'].str.slice(start = 0, stop = 7).unique() # do you need both?\n",
    "\n",
    "months_unique = np.union1d(ds_uniques, de_uniques)\n",
    "months_unique.sort()\n",
    "\n",
    "month_id = np.arange(0, months_unique.shape[0], 1)\n",
    "\n",
    "month_df = pd.DataFrame({'month_id' : month_id, 'months_unique' : months_unique})\n"
   ]
  },
  {
   "cell_type": "code",
   "execution_count": 86,
   "metadata": {},
   "outputs": [
    {
     "data": {
      "text/html": [
       "<div>\n",
       "<style scoped>\n",
       "    .dataframe tbody tr th:only-of-type {\n",
       "        vertical-align: middle;\n",
       "    }\n",
       "\n",
       "    .dataframe tbody tr th {\n",
       "        vertical-align: top;\n",
       "    }\n",
       "\n",
       "    .dataframe thead th {\n",
       "        text-align: right;\n",
       "    }\n",
       "</style>\n",
       "<table border=\"1\" class=\"dataframe\">\n",
       "  <thead>\n",
       "    <tr style=\"text-align: right;\">\n",
       "      <th></th>\n",
       "      <th>month_id</th>\n",
       "      <th>months_unique</th>\n",
       "    </tr>\n",
       "  </thead>\n",
       "  <tbody>\n",
       "    <tr>\n",
       "      <th>120</th>\n",
       "      <td>120</td>\n",
       "      <td>1999-01</td>\n",
       "    </tr>\n",
       "  </tbody>\n",
       "</table>\n",
       "</div>"
      ],
      "text/plain": [
       "     month_id months_unique\n",
       "120       120       1999-01"
      ]
     },
     "execution_count": 86,
     "metadata": {},
     "output_type": "execute_result"
    }
   ],
   "source": [
    "month_df[month_df['month_id'] == 120]"
   ]
  },
  {
   "cell_type": "code",
   "execution_count": 82,
   "metadata": {},
   "outputs": [
    {
     "data": {
      "text/plain": [
       "(372,)"
      ]
     },
     "execution_count": 82,
     "metadata": {},
     "output_type": "execute_result"
    }
   ],
   "source": [
    "month_id = np.arange(0, months_unique.shape[0], 1)"
   ]
  },
  {
   "cell_type": "code",
   "execution_count": 79,
   "metadata": {},
   "outputs": [
    {
     "data": {
      "text/plain": [
       "array(['1989-01', '1989-02', '1989-03', '1989-04', '1989-05', '1989-06',\n",
       "       '1989-07', '1989-08', '1989-09', '1989-10', '1989-11', '1989-12',\n",
       "       '1990-01', '1990-02', '1990-03', '1990-04', '1990-05', '1990-06',\n",
       "       '1990-07', '1990-08', '1990-09', '1990-10', '1990-11', '1990-12',\n",
       "       '1991-01', '1991-02', '1991-03', '1991-04', '1991-05', '1991-06',\n",
       "       '1991-07', '1991-08', '1991-09', '1991-10', '1991-11', '1991-12',\n",
       "       '1992-01', '1992-02', '1992-03', '1992-04', '1992-05', '1992-06',\n",
       "       '1992-07', '1992-08', '1992-09', '1992-10', '1992-11', '1992-12',\n",
       "       '1993-01', '1993-02', '1993-03', '1993-04', '1993-05', '1993-06',\n",
       "       '1993-07', '1993-08', '1993-09', '1993-10', '1993-11', '1993-12',\n",
       "       '1994-01', '1994-02', '1994-03', '1994-04', '1994-05', '1994-06',\n",
       "       '1994-07', '1994-08', '1994-09', '1994-10', '1994-11', '1994-12',\n",
       "       '1995-01', '1995-02', '1995-03', '1995-04', '1995-05', '1995-06',\n",
       "       '1995-07', '1995-08', '1995-09', '1995-10', '1995-11', '1995-12',\n",
       "       '1996-01', '1996-02', '1996-03', '1996-04', '1996-05', '1996-06',\n",
       "       '1996-07', '1996-08', '1996-09', '1996-10', '1996-11', '1996-12',\n",
       "       '1997-01', '1997-02', '1997-03', '1997-04', '1997-05', '1997-06',\n",
       "       '1997-07', '1997-08', '1997-09', '1997-10', '1997-11', '1997-12',\n",
       "       '1998-01', '1998-02', '1998-03', '1998-04', '1998-05', '1998-06',\n",
       "       '1998-07', '1998-08', '1998-09', '1998-10', '1998-11', '1998-12',\n",
       "       '1999-01', '1999-02', '1999-03', '1999-04', '1999-05', '1999-06',\n",
       "       '1999-07', '1999-08', '1999-09', '1999-10', '1999-11', '1999-12',\n",
       "       '2000-01', '2000-02', '2000-03', '2000-04', '2000-05', '2000-06',\n",
       "       '2000-07', '2000-08', '2000-09', '2000-10', '2000-11', '2000-12',\n",
       "       '2001-01', '2001-02', '2001-03', '2001-04', '2001-05', '2001-06',\n",
       "       '2001-07', '2001-08', '2001-09', '2001-10', '2001-11', '2001-12',\n",
       "       '2002-01', '2002-02', '2002-03', '2002-04', '2002-05', '2002-06',\n",
       "       '2002-07', '2002-08', '2002-09', '2002-10', '2002-11', '2002-12',\n",
       "       '2003-01', '2003-02', '2003-03', '2003-04', '2003-05', '2003-06',\n",
       "       '2003-07', '2003-08', '2003-09', '2003-10', '2003-11', '2003-12',\n",
       "       '2004-01', '2004-02', '2004-03', '2004-04', '2004-05', '2004-06',\n",
       "       '2004-07', '2004-08', '2004-09', '2004-10', '2004-11', '2004-12',\n",
       "       '2005-01', '2005-02', '2005-03', '2005-04', '2005-05', '2005-06',\n",
       "       '2005-07', '2005-08', '2005-09', '2005-10', '2005-11', '2005-12',\n",
       "       '2006-01', '2006-02', '2006-03', '2006-04', '2006-05', '2006-06',\n",
       "       '2006-07', '2006-08', '2006-09', '2006-10', '2006-11', '2006-12',\n",
       "       '2007-01', '2007-02', '2007-03', '2007-04', '2007-05', '2007-06',\n",
       "       '2007-07', '2007-08', '2007-09', '2007-10', '2007-11', '2007-12',\n",
       "       '2008-01', '2008-02', '2008-03', '2008-04', '2008-05', '2008-06',\n",
       "       '2008-07', '2008-08', '2008-09', '2008-10', '2008-11', '2008-12',\n",
       "       '2009-01', '2009-02', '2009-03', '2009-04', '2009-05', '2009-06',\n",
       "       '2009-07', '2009-08', '2009-09', '2009-10', '2009-11', '2009-12',\n",
       "       '2010-01', '2010-02', '2010-03', '2010-04', '2010-05', '2010-06',\n",
       "       '2010-07', '2010-08', '2010-09', '2010-10', '2010-11', '2010-12',\n",
       "       '2011-01', '2011-02', '2011-03', '2011-04', '2011-05', '2011-06',\n",
       "       '2011-07', '2011-08', '2011-09', '2011-10', '2011-11', '2011-12',\n",
       "       '2012-01', '2012-02', '2012-03', '2012-04', '2012-05', '2012-06',\n",
       "       '2012-07', '2012-08', '2012-09', '2012-10', '2012-11', '2012-12',\n",
       "       '2013-01', '2013-02', '2013-03', '2013-04', '2013-05', '2013-06',\n",
       "       '2013-07', '2013-08', '2013-09', '2013-10', '2013-11', '2013-12',\n",
       "       '2014-01', '2014-02', '2014-03', '2014-04', '2014-05', '2014-06',\n",
       "       '2014-07', '2014-08', '2014-09', '2014-10', '2014-11', '2014-12',\n",
       "       '2015-01', '2015-02', '2015-03', '2015-04', '2015-05', '2015-06',\n",
       "       '2015-07', '2015-08', '2015-09', '2015-10', '2015-11', '2015-12',\n",
       "       '2016-01', '2016-02', '2016-03', '2016-04', '2016-05', '2016-06',\n",
       "       '2016-07', '2016-08', '2016-09', '2016-10', '2016-11', '2016-12',\n",
       "       '2017-01', '2017-02', '2017-03', '2017-04', '2017-05', '2017-06',\n",
       "       '2017-07', '2017-08', '2017-09', '2017-10', '2017-11', '2017-12',\n",
       "       '2018-01', '2018-02', '2018-03', '2018-04', '2018-05', '2018-06',\n",
       "       '2018-07', '2018-08', '2018-09', '2018-10', '2018-11', '2018-12',\n",
       "       '2019-01', '2019-02', '2019-03', '2019-04', '2019-05', '2019-06',\n",
       "       '2019-07', '2019-08', '2019-09', '2019-10', '2019-11', '2019-12'],\n",
       "      dtype=object)"
      ]
     },
     "execution_count": 79,
     "metadata": {},
     "output_type": "execute_result"
    }
   ],
   "source": [
    "np.union1d(ds_uniques, de_uniques)"
   ]
  },
  {
   "cell_type": "code",
   "execution_count": 74,
   "metadata": {},
   "outputs": [
    {
     "data": {
      "text/plain": [
       "array(['1989-01', '1989-02', '1989-03', '1989-04', '1989-05', '1989-06',\n",
       "       '1989-07', '1989-08', '1989-09', '1989-10', '1989-11', '1989-12',\n",
       "       '1990-01', '1990-02', '1990-03', '1990-04', '1990-05', '1990-06',\n",
       "       '1990-07', '1990-08', '1990-09', '1990-10', '1990-11', '1990-12',\n",
       "       '1991-01', '1991-02', '1991-03', '1991-04', '1991-05', '1991-06',\n",
       "       '1991-07', '1991-08', '1991-09', '1991-10', '1991-11', '1991-12',\n",
       "       '1992-01', '1992-02', '1992-03', '1992-04', '1992-05', '1992-06',\n",
       "       '1992-07', '1992-08', '1992-09', '1992-10', '1992-11', '1992-12',\n",
       "       '1993-01', '1993-02', '1993-03', '1993-04', '1993-05', '1993-06',\n",
       "       '1993-07', '1993-08', '1993-09', '1993-10', '1993-11', '1993-12',\n",
       "       '1994-01', '1994-02', '1994-03', '1994-04', '1994-05', '1994-06',\n",
       "       '1994-07', '1994-08', '1994-09', '1994-10', '1994-11', '1994-12',\n",
       "       '1995-01', '1995-02', '1995-03', '1995-04', '1995-05', '1995-06',\n",
       "       '1995-07', '1995-08', '1995-09', '1995-10', '1995-11', '1995-12',\n",
       "       '1996-01', '1996-02', '1996-03', '1996-04', '1996-05', '1996-06',\n",
       "       '1996-07', '1996-08', '1996-09', '1996-10', '1996-11', '1996-12',\n",
       "       '1997-01', '1997-02', '1997-03', '1997-04', '1997-05', '1997-06',\n",
       "       '1997-07', '1997-08', '1997-09', '1997-10', '1997-11', '1997-12',\n",
       "       '1998-01', '1998-02', '1998-03', '1998-04', '1998-05', '1998-06',\n",
       "       '1998-07', '1998-08', '1998-09', '1998-10', '1998-11', '1998-12',\n",
       "       '1999-01', '1999-02', '1999-03', '1999-04', '1999-05', '1999-06',\n",
       "       '1999-07', '1999-08', '1999-09', '1999-10', '1999-11', '1999-12',\n",
       "       '2000-01', '2000-02', '2000-03', '2000-04', '2000-05', '2000-06',\n",
       "       '2000-07', '2000-08', '2000-09', '2000-10', '2000-11', '2000-12',\n",
       "       '2001-01', '2001-02', '2001-03', '2001-04', '2001-05', '2001-06',\n",
       "       '2001-07', '2001-08', '2001-09', '2001-10', '2001-11', '2001-12',\n",
       "       '2002-01', '2002-02', '2002-03', '2002-04', '2002-05', '2002-06',\n",
       "       '2002-07', '2002-08', '2002-09', '2002-10', '2002-11', '2002-12',\n",
       "       '2003-01', '2003-02', '2003-03', '2003-04', '2003-05', '2003-06',\n",
       "       '2003-07', '2003-08', '2003-09', '2003-10', '2003-11', '2003-12',\n",
       "       '2004-01', '2004-02', '2004-03', '2004-04', '2004-05', '2004-06',\n",
       "       '2004-07', '2004-08', '2004-09', '2004-10', '2004-11', '2004-12',\n",
       "       '2005-01', '2005-02', '2005-03', '2005-04', '2005-05', '2005-06',\n",
       "       '2005-07', '2005-08', '2005-09', '2005-10', '2005-11', '2005-12',\n",
       "       '2006-01', '2006-02', '2006-03', '2006-04', '2006-05', '2006-06',\n",
       "       '2006-07', '2006-08', '2006-09', '2006-10', '2006-11', '2006-12',\n",
       "       '2007-01', '2007-02', '2007-03', '2007-04', '2007-05', '2007-06',\n",
       "       '2007-07', '2007-08', '2007-09', '2007-10', '2007-11', '2007-12',\n",
       "       '2008-01', '2008-02', '2008-03', '2008-04', '2008-05', '2008-06',\n",
       "       '2008-07', '2008-08', '2008-09', '2008-10', '2008-11', '2008-12',\n",
       "       '2009-01', '2009-02', '2009-03', '2009-04', '2009-05', '2009-06',\n",
       "       '2009-07', '2009-08', '2009-09', '2009-10', '2009-11', '2009-12',\n",
       "       '2010-01', '2010-02', '2010-03', '2010-04', '2010-05', '2010-06',\n",
       "       '2010-07', '2010-08', '2010-09', '2010-10', '2010-11', '2010-12',\n",
       "       '2011-01', '2011-02', '2011-03', '2011-04', '2011-05', '2011-06',\n",
       "       '2011-07', '2011-08', '2011-09', '2011-10', '2011-11', '2011-12',\n",
       "       '2012-01', '2012-02', '2012-03', '2012-04', '2012-05', '2012-06',\n",
       "       '2012-07', '2012-08', '2012-09', '2012-10', '2012-11', '2012-12',\n",
       "       '2013-01', '2013-02', '2013-03', '2013-04', '2013-05', '2013-06',\n",
       "       '2013-07', '2013-08', '2013-09', '2013-10', '2013-11', '2013-12',\n",
       "       '2014-01', '2014-02', '2014-03', '2014-04', '2014-05', '2014-06',\n",
       "       '2014-07', '2014-08', '2014-09', '2014-10', '2014-11', '2014-12',\n",
       "       '2015-01', '2015-02', '2015-03', '2015-04', '2015-05', '2015-06',\n",
       "       '2015-07', '2015-08', '2015-09', '2015-10', '2015-11', '2015-12',\n",
       "       '2016-01', '2016-02', '2016-03', '2016-04', '2016-05', '2016-06',\n",
       "       '2016-07', '2016-08', '2016-09', '2016-10', '2016-11', '2016-12',\n",
       "       '2017-01', '2017-02', '2017-03', '2017-04', '2017-05', '2017-06',\n",
       "       '2017-07', '2017-08', '2017-09', '2017-10', '2017-11', '2017-12',\n",
       "       '2018-01', '2018-02', '2018-03', '2018-04', '2018-05', '2018-06',\n",
       "       '2018-07', '2018-08', '2018-09', '2018-10', '2018-11', '2018-12',\n",
       "       '2019-01', '2019-02', '2019-03', '2019-04', '2019-05', '2019-06',\n",
       "       '2019-07', '2019-08', '2019-09', '2019-10', '2019-11', '2019-12'],\n",
       "      dtype=object)"
      ]
     },
     "execution_count": 74,
     "metadata": {},
     "output_type": "execute_result"
    }
   ],
   "source": [
    "ds_uniques"
   ]
  },
  {
   "cell_type": "code",
   "execution_count": null,
   "metadata": {},
   "outputs": [],
   "source": [
    "ds_df['date_start'].str.slice(start = 0, stop = 7)"
   ]
  },
  {
   "cell_type": "code",
   "execution_count": null,
   "metadata": {},
   "outputs": [],
   "source": []
  },
  {
   "cell_type": "code",
   "execution_count": null,
   "metadata": {},
   "outputs": [],
   "source": []
  },
  {
   "cell_type": "code",
   "execution_count": 8,
   "metadata": {},
   "outputs": [
    {
     "data": {
      "text/plain": [
       "Index(['id', 'relid', 'year', 'active_year', 'code_status', 'type_of_violence',\n",
       "       'conflict_dset_id', 'conflict_new_id', 'conflict_name', 'dyad_dset_id',\n",
       "       'dyad_new_id', 'dyad_name', 'side_a_dset_id', 'side_a_new_id', 'side_a',\n",
       "       'side_b_dset_id', 'side_b_new_id', 'side_b', 'number_of_sources',\n",
       "       'source_article', 'source_office', 'source_date', 'source_headline',\n",
       "       'source_original', 'where_prec', 'where_coordinates',\n",
       "       'where_description', 'adm_1', 'adm_2', 'latitude', 'longitude',\n",
       "       'geom_wkt', 'priogrid_gid', 'country', 'country_id', 'region',\n",
       "       'event_clarity', 'date_prec', 'date_start', 'date_end', 'deaths_a',\n",
       "       'deaths_b', 'deaths_civilians', 'deaths_unknown', 'best', 'high', 'low',\n",
       "       'gwnoa', 'gwnob'],\n",
       "      dtype='object')"
      ]
     },
     "execution_count": 8,
     "metadata": {},
     "output_type": "execute_result"
    }
   ],
   "source": [
    "ucdp.columns"
   ]
  },
  {
   "cell_type": "code",
   "execution_count": 15,
   "metadata": {},
   "outputs": [
    {
     "data": {
      "text/html": [
       "<div>\n",
       "<style scoped>\n",
       "    .dataframe tbody tr th:only-of-type {\n",
       "        vertical-align: middle;\n",
       "    }\n",
       "\n",
       "    .dataframe tbody tr th {\n",
       "        vertical-align: top;\n",
       "    }\n",
       "\n",
       "    .dataframe thead th {\n",
       "        text-align: right;\n",
       "    }\n",
       "</style>\n",
       "<table border=\"1\" class=\"dataframe\">\n",
       "  <thead>\n",
       "    <tr style=\"text-align: right;\">\n",
       "      <th></th>\n",
       "      <th>date_prec</th>\n",
       "      <th>date_start</th>\n",
       "      <th>date_end</th>\n",
       "    </tr>\n",
       "  </thead>\n",
       "  <tbody>\n",
       "    <tr>\n",
       "      <th>1459</th>\n",
       "      <td>1</td>\n",
       "      <td>2005-01-02 00:00:00.000</td>\n",
       "      <td>2005-01-02 00:00:00.000</td>\n",
       "    </tr>\n",
       "    <tr>\n",
       "      <th>1460</th>\n",
       "      <td>1</td>\n",
       "      <td>2005-01-03 00:00:00.000</td>\n",
       "      <td>2005-01-03 00:00:00.000</td>\n",
       "    </tr>\n",
       "    <tr>\n",
       "      <th>1461</th>\n",
       "      <td>1</td>\n",
       "      <td>2005-01-06 00:00:00.000</td>\n",
       "      <td>2005-01-06 00:00:00.000</td>\n",
       "    </tr>\n",
       "    <tr>\n",
       "      <th>1462</th>\n",
       "      <td>2</td>\n",
       "      <td>2005-01-12 00:00:00.000</td>\n",
       "      <td>2005-01-13 00:00:00.000</td>\n",
       "    </tr>\n",
       "    <tr>\n",
       "      <th>1463</th>\n",
       "      <td>1</td>\n",
       "      <td>2005-01-13 00:00:00.000</td>\n",
       "      <td>2005-01-13 00:00:00.000</td>\n",
       "    </tr>\n",
       "    <tr>\n",
       "      <th>...</th>\n",
       "      <td>...</td>\n",
       "      <td>...</td>\n",
       "      <td>...</td>\n",
       "    </tr>\n",
       "    <tr>\n",
       "      <th>222620</th>\n",
       "      <td>1</td>\n",
       "      <td>2005-11-25 00:00:00.000</td>\n",
       "      <td>2005-11-25 00:00:00.000</td>\n",
       "    </tr>\n",
       "    <tr>\n",
       "      <th>222621</th>\n",
       "      <td>1</td>\n",
       "      <td>2005-11-29 00:00:00.000</td>\n",
       "      <td>2005-11-29 00:00:00.000</td>\n",
       "    </tr>\n",
       "    <tr>\n",
       "      <th>222622</th>\n",
       "      <td>1</td>\n",
       "      <td>2005-12-09 00:00:00.000</td>\n",
       "      <td>2005-12-09 00:00:00.000</td>\n",
       "    </tr>\n",
       "    <tr>\n",
       "      <th>222623</th>\n",
       "      <td>1</td>\n",
       "      <td>2005-12-09 00:00:00.000</td>\n",
       "      <td>2005-12-09 00:00:00.000</td>\n",
       "    </tr>\n",
       "    <tr>\n",
       "      <th>222624</th>\n",
       "      <td>1</td>\n",
       "      <td>2005-12-24 00:00:00.000</td>\n",
       "      <td>2005-12-24 00:00:00.000</td>\n",
       "    </tr>\n",
       "  </tbody>\n",
       "</table>\n",
       "<p>5392 rows × 3 columns</p>\n",
       "</div>"
      ],
      "text/plain": [
       "        date_prec               date_start                 date_end\n",
       "1459            1  2005-01-02 00:00:00.000  2005-01-02 00:00:00.000\n",
       "1460            1  2005-01-03 00:00:00.000  2005-01-03 00:00:00.000\n",
       "1461            1  2005-01-06 00:00:00.000  2005-01-06 00:00:00.000\n",
       "1462            2  2005-01-12 00:00:00.000  2005-01-13 00:00:00.000\n",
       "1463            1  2005-01-13 00:00:00.000  2005-01-13 00:00:00.000\n",
       "...           ...                      ...                      ...\n",
       "222620          1  2005-11-25 00:00:00.000  2005-11-25 00:00:00.000\n",
       "222621          1  2005-11-29 00:00:00.000  2005-11-29 00:00:00.000\n",
       "222622          1  2005-12-09 00:00:00.000  2005-12-09 00:00:00.000\n",
       "222623          1  2005-12-09 00:00:00.000  2005-12-09 00:00:00.000\n",
       "222624          1  2005-12-24 00:00:00.000  2005-12-24 00:00:00.000\n",
       "\n",
       "[5392 rows x 3 columns]"
      ]
     },
     "execution_count": 15,
     "metadata": {},
     "output_type": "execute_result"
    }
   ],
   "source": [
    "# Date YYYY-MM-DD\n",
    "ucdp[ucdp['year'] == 2005][['date_prec', 'date_start', 'date_end']]"
   ]
  },
  {
   "cell_type": "code",
   "execution_count": 34,
   "metadata": {},
   "outputs": [
    {
     "data": {
      "text/html": [
       "<div>\n",
       "<style scoped>\n",
       "    .dataframe tbody tr th:only-of-type {\n",
       "        vertical-align: middle;\n",
       "    }\n",
       "\n",
       "    .dataframe tbody tr th {\n",
       "        vertical-align: top;\n",
       "    }\n",
       "\n",
       "    .dataframe thead th {\n",
       "        text-align: right;\n",
       "    }\n",
       "</style>\n",
       "<table border=\"1\" class=\"dataframe\">\n",
       "  <thead>\n",
       "    <tr style=\"text-align: right;\">\n",
       "      <th></th>\n",
       "      <th>date_prec</th>\n",
       "      <th>date_start</th>\n",
       "      <th>date_end</th>\n",
       "    </tr>\n",
       "  </thead>\n",
       "  <tbody>\n",
       "    <tr>\n",
       "      <th>146034</th>\n",
       "      <td>5</td>\n",
       "      <td>1989-01-01 00:00:00.000</td>\n",
       "      <td>1989-12-31 00:00:00.000</td>\n",
       "    </tr>\n",
       "    <tr>\n",
       "      <th>119619</th>\n",
       "      <td>5</td>\n",
       "      <td>1989-01-01 00:00:00.000</td>\n",
       "      <td>1989-10-26 00:00:00.000</td>\n",
       "    </tr>\n",
       "    <tr>\n",
       "      <th>120497</th>\n",
       "      <td>5</td>\n",
       "      <td>1989-01-01 00:00:00.000</td>\n",
       "      <td>1989-07-03 00:00:00.000</td>\n",
       "    </tr>\n",
       "    <tr>\n",
       "      <th>146094</th>\n",
       "      <td>5</td>\n",
       "      <td>1989-01-01 00:00:00.000</td>\n",
       "      <td>1989-12-31 00:00:00.000</td>\n",
       "    </tr>\n",
       "    <tr>\n",
       "      <th>140677</th>\n",
       "      <td>5</td>\n",
       "      <td>1989-01-01 00:00:00.000</td>\n",
       "      <td>1989-12-31 00:00:00.000</td>\n",
       "    </tr>\n",
       "    <tr>\n",
       "      <th>...</th>\n",
       "      <td>...</td>\n",
       "      <td>...</td>\n",
       "      <td>...</td>\n",
       "    </tr>\n",
       "    <tr>\n",
       "      <th>29263</th>\n",
       "      <td>1</td>\n",
       "      <td>2019-12-31 00:00:00.000</td>\n",
       "      <td>2019-12-31 00:00:00.000</td>\n",
       "    </tr>\n",
       "    <tr>\n",
       "      <th>29262</th>\n",
       "      <td>1</td>\n",
       "      <td>2019-12-31 00:00:00.000</td>\n",
       "      <td>2019-12-31 00:00:00.000</td>\n",
       "    </tr>\n",
       "    <tr>\n",
       "      <th>29261</th>\n",
       "      <td>1</td>\n",
       "      <td>2019-12-31 00:00:00.000</td>\n",
       "      <td>2019-12-31 00:00:00.000</td>\n",
       "    </tr>\n",
       "    <tr>\n",
       "      <th>29259</th>\n",
       "      <td>1</td>\n",
       "      <td>2019-12-31 00:00:00.000</td>\n",
       "      <td>2019-12-31 00:00:00.000</td>\n",
       "    </tr>\n",
       "    <tr>\n",
       "      <th>29257</th>\n",
       "      <td>1</td>\n",
       "      <td>2019-12-31 00:00:00.000</td>\n",
       "      <td>2019-12-31 00:00:00.000</td>\n",
       "    </tr>\n",
       "  </tbody>\n",
       "</table>\n",
       "<p>225385 rows × 3 columns</p>\n",
       "</div>"
      ],
      "text/plain": [
       "        date_prec               date_start                 date_end\n",
       "146034          5  1989-01-01 00:00:00.000  1989-12-31 00:00:00.000\n",
       "119619          5  1989-01-01 00:00:00.000  1989-10-26 00:00:00.000\n",
       "120497          5  1989-01-01 00:00:00.000  1989-07-03 00:00:00.000\n",
       "146094          5  1989-01-01 00:00:00.000  1989-12-31 00:00:00.000\n",
       "140677          5  1989-01-01 00:00:00.000  1989-12-31 00:00:00.000\n",
       "...           ...                      ...                      ...\n",
       "29263           1  2019-12-31 00:00:00.000  2019-12-31 00:00:00.000\n",
       "29262           1  2019-12-31 00:00:00.000  2019-12-31 00:00:00.000\n",
       "29261           1  2019-12-31 00:00:00.000  2019-12-31 00:00:00.000\n",
       "29259           1  2019-12-31 00:00:00.000  2019-12-31 00:00:00.000\n",
       "29257           1  2019-12-31 00:00:00.000  2019-12-31 00:00:00.000\n",
       "\n",
       "[225385 rows x 3 columns]"
      ]
     },
     "execution_count": 34,
     "metadata": {},
     "output_type": "execute_result"
    }
   ],
   "source": [
    "ucdp[['date_prec', 'date_start', 'date_end']].sort_values('date_start')"
   ]
  },
  {
   "cell_type": "code",
   "execution_count": 33,
   "metadata": {},
   "outputs": [],
   "source": [
    "ucdp['date_start'].unique().sort()"
   ]
  },
  {
   "cell_type": "code",
   "execution_count": 44,
   "metadata": {},
   "outputs": [],
   "source": [
    "ds_array = ucdp['date_start'].unique()\n",
    "ds_array.sort()\n",
    "ds_id = np.arange(0,ds_array.shape[0],1)\n",
    "ds_df = pd.DataFrame({'date_start' : ds_array, 'ds_id' : ds_id})"
   ]
  },
  {
   "cell_type": "code",
   "execution_count": 47,
   "metadata": {},
   "outputs": [
    {
     "data": {
      "text/plain": [
       "(11312,)"
      ]
     },
     "execution_count": 47,
     "metadata": {},
     "output_type": "execute_result"
    }
   ],
   "source": [
    "ucdp['date_start'].unique().shape"
   ]
  },
  {
   "cell_type": "code",
   "execution_count": 42,
   "metadata": {},
   "outputs": [
    {
     "data": {
      "text/plain": [
       "array([    0,     1,     2, ..., 11310, 11311, 11312])"
      ]
     },
     "execution_count": 42,
     "metadata": {},
     "output_type": "execute_result"
    }
   ],
   "source": [
    "np.arange(0,ds_array.shape[0]+1,1)"
   ]
  },
  {
   "cell_type": "code",
   "execution_count": 57,
   "metadata": {},
   "outputs": [
    {
     "data": {
      "text/plain": [
       "0        1989-01-01\n",
       "1        1989-01-02\n",
       "2        1989-01-03\n",
       "3        1989-01-04\n",
       "4        1989-01-05\n",
       "            ...    \n",
       "11307    2019-12-27\n",
       "11308    2019-12-28\n",
       "11309    2019-12-29\n",
       "11310    2019-12-30\n",
       "11311    2019-12-31\n",
       "Name: 0, Length: 11312, dtype: object"
      ]
     },
     "execution_count": 57,
     "metadata": {},
     "output_type": "execute_result"
    }
   ],
   "source": [
    "ds_df['date_start'].str.split(' ', expand= True).loc[:,0]"
   ]
  },
  {
   "cell_type": "code",
   "execution_count": 62,
   "metadata": {},
   "outputs": [
    {
     "data": {
      "text/plain": [
       "0        1989-01\n",
       "1        1989-01\n",
       "2        1989-01\n",
       "3        1989-01\n",
       "4        1989-01\n",
       "          ...   \n",
       "11307    2019-12\n",
       "11308    2019-12\n",
       "11309    2019-12\n",
       "11310    2019-12\n",
       "11311    2019-12\n",
       "Name: date_start, Length: 11312, dtype: object"
      ]
     },
     "execution_count": 62,
     "metadata": {},
     "output_type": "execute_result"
    }
   ],
   "source": [
    "ds_df['date_start'].str.slice(start = 0, stop = 7)"
   ]
  },
  {
   "cell_type": "code",
   "execution_count": 21,
   "metadata": {},
   "outputs": [],
   "source": [
    "import datetime"
   ]
  },
  {
   "cell_type": "code",
   "execution_count": 23,
   "metadata": {},
   "outputs": [
    {
     "ename": "ValueError",
     "evalue": "unconverted data remains:  00:00:00.000",
     "output_type": "error",
     "traceback": [
      "\u001b[0;31m---------------------------------------------------------------------------\u001b[0m",
      "\u001b[0;31mValueError\u001b[0m                                Traceback (most recent call last)",
      "\u001b[0;32m<ipython-input-23-f37e2b261142>\u001b[0m in \u001b[0;36m<module>\u001b[0;34m\u001b[0m\n\u001b[0;32m----> 1\u001b[0;31m \u001b[0mdatetime\u001b[0m\u001b[0;34m.\u001b[0m\u001b[0mdatetime\u001b[0m\u001b[0;34m.\u001b[0m\u001b[0mstrptime\u001b[0m\u001b[0;34m(\u001b[0m\u001b[0mucdp\u001b[0m\u001b[0;34m[\u001b[0m\u001b[0;34m'date_start'\u001b[0m\u001b[0;34m]\u001b[0m\u001b[0;34m[\u001b[0m\u001b[0;36m0\u001b[0m\u001b[0;34m]\u001b[0m\u001b[0;34m,\u001b[0m \u001b[0;34m\"%Y-%m-%d\"\u001b[0m\u001b[0;34m)\u001b[0m\u001b[0;34m\u001b[0m\u001b[0;34m\u001b[0m\u001b[0m\n\u001b[0m",
      "\u001b[0;32m~/anaconda3/envs/geo_env/lib/python3.9/_strptime.py\u001b[0m in \u001b[0;36m_strptime_datetime\u001b[0;34m(cls, data_string, format)\u001b[0m\n\u001b[1;32m    566\u001b[0m     \"\"\"Return a class cls instance based on the input string and the\n\u001b[1;32m    567\u001b[0m     format string.\"\"\"\n\u001b[0;32m--> 568\u001b[0;31m     \u001b[0mtt\u001b[0m\u001b[0;34m,\u001b[0m \u001b[0mfraction\u001b[0m\u001b[0;34m,\u001b[0m \u001b[0mgmtoff_fraction\u001b[0m \u001b[0;34m=\u001b[0m \u001b[0m_strptime\u001b[0m\u001b[0;34m(\u001b[0m\u001b[0mdata_string\u001b[0m\u001b[0;34m,\u001b[0m \u001b[0mformat\u001b[0m\u001b[0;34m)\u001b[0m\u001b[0;34m\u001b[0m\u001b[0;34m\u001b[0m\u001b[0m\n\u001b[0m\u001b[1;32m    569\u001b[0m     \u001b[0mtzname\u001b[0m\u001b[0;34m,\u001b[0m \u001b[0mgmtoff\u001b[0m \u001b[0;34m=\u001b[0m \u001b[0mtt\u001b[0m\u001b[0;34m[\u001b[0m\u001b[0;34m-\u001b[0m\u001b[0;36m2\u001b[0m\u001b[0;34m:\u001b[0m\u001b[0;34m]\u001b[0m\u001b[0;34m\u001b[0m\u001b[0;34m\u001b[0m\u001b[0m\n\u001b[1;32m    570\u001b[0m     \u001b[0margs\u001b[0m \u001b[0;34m=\u001b[0m \u001b[0mtt\u001b[0m\u001b[0;34m[\u001b[0m\u001b[0;34m:\u001b[0m\u001b[0;36m6\u001b[0m\u001b[0;34m]\u001b[0m \u001b[0;34m+\u001b[0m \u001b[0;34m(\u001b[0m\u001b[0mfraction\u001b[0m\u001b[0;34m,\u001b[0m\u001b[0;34m)\u001b[0m\u001b[0;34m\u001b[0m\u001b[0;34m\u001b[0m\u001b[0m\n",
      "\u001b[0;32m~/anaconda3/envs/geo_env/lib/python3.9/_strptime.py\u001b[0m in \u001b[0;36m_strptime\u001b[0;34m(data_string, format)\u001b[0m\n\u001b[1;32m    350\u001b[0m                          (data_string, format))\n\u001b[1;32m    351\u001b[0m     \u001b[0;32mif\u001b[0m \u001b[0mlen\u001b[0m\u001b[0;34m(\u001b[0m\u001b[0mdata_string\u001b[0m\u001b[0;34m)\u001b[0m \u001b[0;34m!=\u001b[0m \u001b[0mfound\u001b[0m\u001b[0;34m.\u001b[0m\u001b[0mend\u001b[0m\u001b[0;34m(\u001b[0m\u001b[0;34m)\u001b[0m\u001b[0;34m:\u001b[0m\u001b[0;34m\u001b[0m\u001b[0;34m\u001b[0m\u001b[0m\n\u001b[0;32m--> 352\u001b[0;31m         raise ValueError(\"unconverted data remains: %s\" %\n\u001b[0m\u001b[1;32m    353\u001b[0m                           data_string[found.end():])\n\u001b[1;32m    354\u001b[0m \u001b[0;34m\u001b[0m\u001b[0m\n",
      "\u001b[0;31mValueError\u001b[0m: unconverted data remains:  00:00:00.000"
     ]
    }
   ],
   "source": [
    "datetime.datetime.strptime(ucdp['date_start'][0], \"%Y-%m-%d\")\n"
   ]
  },
  {
   "cell_type": "code",
   "execution_count": 24,
   "metadata": {},
   "outputs": [
    {
     "name": "stdout",
     "output_type": "stream",
     "text": [
      "\u001b[0;31mDocstring:\u001b[0m string, format -> new datetime parsed from a string (like time.strptime()).\n",
      "\u001b[0;31mType:\u001b[0m      builtin_function_or_method\n"
     ]
    }
   ],
   "source": [
    "datetime.datetime.strptime?"
   ]
  },
  {
   "cell_type": "code",
   "execution_count": null,
   "metadata": {},
   "outputs": [],
   "source": []
  },
  {
   "cell_type": "code",
   "execution_count": null,
   "metadata": {},
   "outputs": [],
   "source": []
  },
  {
   "cell_type": "code",
   "execution_count": 14,
   "metadata": {},
   "outputs": [
    {
     "data": {
      "text/plain": [
       "29"
      ]
     },
     "execution_count": 14,
     "metadata": {},
     "output_type": "execute_result"
    }
   ],
   "source": [
    "(ucdp[ucdp['year'] == 2005][['date_prec', 'date_start', 'date_end']]['date_prec'] == 5).sum()"
   ]
  },
  {
   "cell_type": "code",
   "execution_count": null,
   "metadata": {},
   "outputs": [],
   "source": [
    "def trim_ucdp(ucdp):\n",
    "\n",
    "    ucdp_slim = ucdp[['year','priogrid_gid','best','low','high']]\n",
    "    ucdp_gid = ucdp_slim.groupby(by=['priogrid_gid','year']).sum().reset_index()\n",
    "    ucdp_gid.rename(columns={'priogrid_gid':'gid'}, inplace=True)\n",
    "\n",
    "    ucdp_gid['log_best'] = np.log(ucdp_gid['best'] +1)\n",
    "    ucdp_gid['log_low'] = np.log(ucdp_gid['low'] +1)\n",
    "    ucdp_gid['log_high'] = np.log(ucdp_gid['high'] +1)\n",
    "\n",
    "    return ucdp_gid"
   ]
  },
  {
   "cell_type": "code",
   "execution_count": null,
   "metadata": {},
   "outputs": [],
   "source": []
  },
  {
   "cell_type": "code",
   "execution_count": null,
   "metadata": {},
   "outputs": [],
   "source": []
  },
  {
   "cell_type": "code",
   "execution_count": null,
   "metadata": {},
   "outputs": [],
   "source": [
    "\n",
    "def elong_df(df, df_w_years):\n",
    "\n",
    "    years = sorted(df_w_years['year'].unique())\n",
    "    df['year'] = years[0]\n",
    "    concat_df = df.copy()\n",
    "\n",
    "    for i,j in enumerate(years[1:]):\n",
    "\n",
    "        df_temp = df.copy()\n",
    "        df_temp['year'] = j\n",
    "\n",
    "        concat_df = pd.concat([concat_df,df_temp])\n",
    "    \n",
    "    concat_df.reset_index(inplace = True)\n",
    "    return concat_df \n"
   ]
  },
  {
   "cell_type": "code",
   "execution_count": null,
   "metadata": {},
   "outputs": [],
   "source": []
  },
  {
   "cell_type": "code",
   "execution_count": null,
   "metadata": {},
   "outputs": [],
   "source": [
    "\n",
    "def make_df(prio_grid, ucdp):\n",
    "\n",
    "    print('Creating DF...')\n",
    "\n",
    "    ucdp_gid = trim_ucdp(ucdp=ucdp)\n",
    "    prio_grid_yearly = elong_df(prio_grid, ucdp_gid)\n",
    "\n",
    "    grid_ucdp =  pd.merge(prio_grid_yearly, ucdp_gid, how = 'left', on = ['gid', 'year'])\n",
    "    grid_ucdp.fillna({'best' : 0, 'low' : 0, 'high' : 0, 'log_best' : 0, 'log_low' : 0, 'log_high' : 0}, inplace = True)\n",
    "\n",
    "    grid_ucdp = grid_ucdp[['gid', 'xcoord', 'ycoord', 'year', 'best', 'low', 'high', 'log_best', 'log_low', 'log_high']].copy() # remove the everything also the geo col.\n",
    "\n",
    "    grid_ucdpS = grid_ucdp.sort_values(['year', 'ycoord', 'xcoord'], ascending = [True, False, True])\n",
    "\n",
    "    # try to keep the jazz\n",
    "    #grid_ucdpS = grid_ucdpS[['gid','best', 'low',  'high', 'log_best', 'log_low', 'log_high']].copy() # remove the everything also the geo col. But keep gid. Why not.\n",
    "\n",
    "    x_dim = grid_ucdp['xcoord'].unique().shape[0]\n",
    "    y_dim = grid_ucdp['ycoord'].unique().shape[0]\n",
    "    z_dim = grid_ucdp['year'].unique().shape[0]\n",
    "\n",
    "    ucpd_vol = np.array(grid_ucdpS).reshape((z_dim, y_dim, x_dim, -1))\n",
    "\n",
    "    return ucpd_vol"
   ]
  },
  {
   "cell_type": "code",
   "execution_count": null,
   "metadata": {},
   "outputs": [],
   "source": []
  },
  {
   "cell_type": "code",
   "execution_count": null,
   "metadata": {},
   "outputs": [],
   "source": []
  }
 ],
 "metadata": {
  "kernelspec": {
   "display_name": "Python 3.9.2 ('geo_env')",
   "language": "python",
   "name": "python3"
  },
  "language_info": {
   "codemirror_mode": {
    "name": "ipython",
    "version": 3
   },
   "file_extension": ".py",
   "mimetype": "text/x-python",
   "name": "python",
   "nbconvert_exporter": "python",
   "pygments_lexer": "ipython3",
   "version": "3.9.2"
  },
  "orig_nbformat": 4,
  "vscode": {
   "interpreter": {
    "hash": "659162e43ca8a1d02d094cfc6c53ae5badbb04774e96431a0181253a51500bb6"
   }
  }
 },
 "nbformat": 4,
 "nbformat_minor": 2
}

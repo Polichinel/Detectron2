{
 "cells": [
  {
   "cell_type": "code",
   "execution_count": 1,
   "metadata": {},
   "outputs": [],
   "source": [
    "import numpy as np\n",
    "import pandas as pd\n",
    "import geopandas as gpd\n",
    "import pickle\n",
    "import urllib.request"
   ]
  },
  {
   "cell_type": "code",
   "execution_count": 2,
   "metadata": {},
   "outputs": [],
   "source": [
    "location = '/home/simon/Documents/Bodies/data/UCDP'"
   ]
  },
  {
   "cell_type": "code",
   "execution_count": 3,
   "metadata": {},
   "outputs": [],
   "source": [
    "def get_data(location):\n",
    "\n",
    "    # Getting and loading views data\n",
    "    print('Beginning file download UCDP...')\n",
    "\n",
    "    url_ucdp = 'https://ucdp.uu.se/downloads/ged/ged201-csv.zip'\n",
    "    path_ucdp = location + \"/ged201-csv.zip\"\n",
    "    urllib.request.urlretrieve(url_ucdp, path_ucdp)\n",
    "\n",
    "\n",
    "    # Getting and loading prio data\n",
    "    print('Beginning file download PRIO...')\n",
    "\n",
    "    url_prio = 'http://file.prio.no/ReplicationData/PRIO-GRID/priogrid_shapefiles.zip'\n",
    "    path_prio = location + '/priogrid_shapefiles.zip'\n",
    "    urllib.request.urlretrieve(url_prio, path_prio)\n",
    "\n",
    "    # And move to correct location on computerome\n",
    "    # gpd.read_file('zip://' + path_prio)\n",
    "    prio_grid = gpd.read_file('zip://' + path_prio)\n",
    "    ucdp = pd.read_csv(path_ucdp)\n",
    "\n",
    "    return prio_grid, ucdp"
   ]
  },
  {
   "cell_type": "code",
   "execution_count": 4,
   "metadata": {},
   "outputs": [
    {
     "name": "stdout",
     "output_type": "stream",
     "text": [
      "Beginning file download UCDP...\n",
      "Beginning file download PRIO...\n"
     ]
    },
    {
     "name": "stderr",
     "output_type": "stream",
     "text": [
      "/home/simon/anaconda3/envs/geo_env/lib/python3.9/site-packages/IPython/core/interactiveshell.py:3357: DtypeWarning: Columns (47) have mixed types.Specify dtype option on import or set low_memory=False.\n",
      "  if (await self.run_code(code, result,  async_=asy)):\n"
     ]
    }
   ],
   "source": [
    "prio_grid, ucdp = get_data(location)"
   ]
  },
  {
   "cell_type": "code",
   "execution_count": 205,
   "metadata": {},
   "outputs": [],
   "source": [
    "ucdp_tmp1 = ucdp.copy()\n",
    "\n",
    "# debug\n",
    "# print(np.sort(ucdp_tmp1['year'].unique()))\n",
    "\n",
    "ucdp_tmp1['year_months_start'] = ucdp_tmp1['date_start'].str.slice(start = 0, stop = 7) # Date YYYY-MM-DD\n",
    "ucdp_tmp1['year_months_end'] = ucdp_tmp1['date_start'].str.slice(start = 0, stop = 7) # Date YYYY-MM-DD\n",
    "\n",
    "\n",
    "mask1 = (ucdp_tmp1['year'] != ucdp_tmp1['year_months_start'].str.slice(start = 0, stop = 4).astype(int))\n",
    "mask2 = (ucdp_tmp1['year'] != ucdp_tmp1['year_months_end'].str.slice(start = 0, stop = 4).astype(int))\n",
    "\n",
    "# check problem\n",
    "# ucdp_tmp1.loc[mask1 | mask2]\n",
    "\n",
    "# correction. Note that end and start year for the four entries that is corrected is the same.\n",
    "ucdp_tmp1.loc[mask1 | mask2, 'year'] = ucdp_tmp1.loc[mask1 | mask2,'year_months_start'].str.slice(start = 0, stop = 4).astype(int)\n",
    "\n",
    "# see that it have been solved\n",
    "# ucdp_tmp1.loc[mask1 | mask2]\n",
    "\n",
    "# debug\n",
    "# print(np.sort(ucdp_tmp1['year'].unique()))"
   ]
  },
  {
   "cell_type": "code",
   "execution_count": 206,
   "metadata": {},
   "outputs": [],
   "source": [
    "# but do you need all years or just those in theb Bodies data?\n",
    "# tjeck woth views month id.. could be nice to just nail that now.\n",
    "\n",
    "ds_uniques = ucdp_tmp1['date_start'].str.slice(start = 0, stop = 7).unique()\n",
    "de_uniques = ucdp_tmp1['date_end'].str.slice(start = 0, stop = 7).unique() # do you need both?\n",
    "\n",
    "months_unique = np.union1d(ds_uniques, de_uniques)\n",
    "months_unique.sort()\n",
    "\n",
    "month_id = np.arange(109, months_unique.shape[0] + 109, 1) # this makes sure the month_id matches that of ViWES replication data. Just in case.\n",
    "\n",
    "month_df = pd.DataFrame({'month_id' : month_id, 'year_months_start' : months_unique, 'year_months_end' : months_unique})\n",
    "\n",
    "# I checked. There is no instance where the month id will differ if we take start or end.\n",
    "ucdp_tmp2 = ucdp_tmp1.merge(month_df[['month_id', 'year_months_start']], how = 'outer', on= 'year_months_start')\n",
    "#ucdp_tmp3 = ucdp_tmp2.merge(month_df[['month_id', 'year_months_end']], how = 'outer', on= 'year_months_end')\n",
    "#ucdp_tmp3[ucdp_tmp3['month_id_x'] == ucdp_tmp3['month_id_y']] # None\n"
   ]
  },
  {
   "cell_type": "code",
   "execution_count": 192,
   "metadata": {},
   "outputs": [],
   "source": [
    "## just a test:\n",
    "\n",
    "# External\n",
    "# pkl_file = open('/media/simon/Seagate Backup Plus Drive/Articles/conflict_prediction/data/computerome/currents/preds_df_tt.pkl', 'rb')\n",
    "# currents_df = pickle.load(pkl_file)\n",
    "# pkl_file.close()\n",
    "\n",
    "# for y in np.sort(ucdp_tmp2['year'].unique())[1:29]:\n",
    "\n",
    "#     check = np.all(np.sort(ucdp_tmp2[ucdp_tmp2['year']==y]['month_id'].unique()) == currents_df[currents_df['year'] == y]['X'].unique())\n",
    "\n",
    "#     if check == False:\n",
    "\n",
    "#         print(f\"{y}:{np.sort(ucdp_tmp2[ucdp_tmp2['year']==y]['month_id'].unique())}\")\n",
    "#         print(f\"{y}:{currents_df[currents_df['year'] == y]['X'].unique()}\")\n",
    "#         print('\\n')\n",
    "\n",
    "# it is cool."
   ]
  },
  {
   "cell_type": "code",
   "execution_count": 207,
   "metadata": {},
   "outputs": [
    {
     "name": "stdout",
     "output_type": "stream",
     "text": [
      "1989:[109 110 111 112 113 114 115 116 117 118 119 120]\n",
      "1990:[121 122 123 124 125 126 127 128 129 130 131 132]\n",
      "1991:[133 134 135 136 137 138 139 140 141 142 143 144]\n",
      "1992:[145 146 147 148 149 150 151 152 153 154 155 156]\n",
      "1993:[157 158 159 160 161 162 163 164 165 166 167 168]\n",
      "1994:[169 170 171 172 173 174 175 176 177 178 179 180]\n",
      "1995:[181 182 183 184 185 186 187 188 189 190 191 192]\n",
      "1996:[193 194 195 196 197 198 199 200 201 202 203 204]\n",
      "1997:[205 206 207 208 209 210 211 212 213 214 215 216]\n",
      "1998:[217 218 219 220 221 222 223 224 225 226 227 228]\n",
      "1999:[229 230 231 232 233 234 235 236 237 238 239 240]\n",
      "2000:[241 242 243 244 245 246 247 248 249 250 251 252]\n",
      "2001:[253 254 255 256 257 258 259 260 261 262 263 264]\n",
      "2002:[265 266 267 268 269 270 271 272 273 274 275 276]\n",
      "2003:[277 278 279 280 281 282 283 284 285 286 287 288]\n",
      "2004:[289 290 291 292 293 294 295 296 297 298 299 300]\n",
      "2005:[301 302 303 304 305 306 307 308 309 310 311 312]\n",
      "2006:[313 314 315 316 317 318 319 320 321 322 323 324]\n",
      "2007:[325 326 327 328 329 330 331 332 333 334 335 336]\n",
      "2008:[337 338 339 340 341 342 343 344 345 346 347 348]\n",
      "2009:[349 350 351 352 353 354 355 356 357 358 359 360]\n",
      "2010:[361 362 363 364 365 366 367 368 369 370 371 372]\n",
      "2011:[373 374 375 376 377 378 379 380 381 382 383 384]\n",
      "2012:[385 386 387 388 389 390 391 392 393 394 395 396]\n",
      "2013:[397 398 399 400 401 402 403 404 405 406 407 408]\n",
      "2014:[409 410 411 412 413 414 415 416 417 418 419 420]\n",
      "2015:[421 422 423 424 425 426 427 428 429 430 431 432]\n",
      "2016:[433 434 435 436 437 438 439 440 441 442 443 444]\n",
      "2017:[445 446 447 448 449 450 451 452 453 454 455 456]\n",
      "2018:[457 458 459 460 461 462 463 464 465 466 467 468]\n",
      "2019:[469 470 471 472 473 474 475 476 477 478 479 480]\n"
     ]
    }
   ],
   "source": [
    "for y in np.sort(ucdp_tmp2['year'].unique()):\n",
    "\n",
    "    print(f\"{y}:{np.sort(ucdp_tmp2[ucdp_tmp2['year']==y]['month_id'].unique())}\")"
   ]
  },
  {
   "cell_type": "code",
   "execution_count": 208,
   "metadata": {},
   "outputs": [
    {
     "data": {
      "text/plain": [
       "array([1990])"
      ]
     },
     "execution_count": 208,
     "metadata": {},
     "output_type": "execute_result"
    }
   ],
   "source": [
    "ucdp_tmp2[ucdp_tmp2['month_id'] == 131]['year'].unique()"
   ]
  },
  {
   "cell_type": "code",
   "execution_count": null,
   "metadata": {},
   "outputs": [],
   "source": []
  },
  {
   "cell_type": "code",
   "execution_count": null,
   "metadata": {},
   "outputs": [],
   "source": []
  },
  {
   "cell_type": "code",
   "execution_count": null,
   "metadata": {},
   "outputs": [],
   "source": []
  },
  {
   "cell_type": "code",
   "execution_count": null,
   "metadata": {},
   "outputs": [],
   "source": []
  },
  {
   "cell_type": "code",
   "execution_count": null,
   "metadata": {},
   "outputs": [],
   "source": [
    "def trim_ucdp(ucdp):\n",
    "\n",
    "    ucdp_slim = ucdp[['year','priogrid_gid','best','low','high']]\n",
    "    ucdp_gid = ucdp_slim.groupby(by=['priogrid_gid','year']).sum().reset_index()\n",
    "    ucdp_gid.rename(columns={'priogrid_gid':'gid'}, inplace=True)\n",
    "\n",
    "    ucdp_gid['log_best'] = np.log(ucdp_gid['best'] +1)\n",
    "    ucdp_gid['log_low'] = np.log(ucdp_gid['low'] +1)\n",
    "    ucdp_gid['log_high'] = np.log(ucdp_gid['high'] +1)\n",
    "\n",
    "    return ucdp_gid"
   ]
  },
  {
   "cell_type": "code",
   "execution_count": null,
   "metadata": {},
   "outputs": [],
   "source": []
  },
  {
   "cell_type": "code",
   "execution_count": null,
   "metadata": {},
   "outputs": [],
   "source": []
  },
  {
   "cell_type": "code",
   "execution_count": null,
   "metadata": {},
   "outputs": [],
   "source": [
    "\n",
    "def elong_df(df, df_w_years):\n",
    "\n",
    "    years = sorted(df_w_years['year'].unique())\n",
    "    df['year'] = years[0]\n",
    "    concat_df = df.copy()\n",
    "\n",
    "    for i,j in enumerate(years[1:]):\n",
    "\n",
    "        df_temp = df.copy()\n",
    "        df_temp['year'] = j\n",
    "\n",
    "        concat_df = pd.concat([concat_df,df_temp])\n",
    "    \n",
    "    concat_df.reset_index(inplace = True)\n",
    "    return concat_df \n"
   ]
  },
  {
   "cell_type": "code",
   "execution_count": null,
   "metadata": {},
   "outputs": [],
   "source": []
  },
  {
   "cell_type": "code",
   "execution_count": null,
   "metadata": {},
   "outputs": [],
   "source": [
    "\n",
    "def make_df(prio_grid, ucdp):\n",
    "\n",
    "    print('Creating DF...')\n",
    "\n",
    "    ucdp_gid = trim_ucdp(ucdp=ucdp)\n",
    "    prio_grid_yearly = elong_df(prio_grid, ucdp_gid)\n",
    "\n",
    "    grid_ucdp =  pd.merge(prio_grid_yearly, ucdp_gid, how = 'left', on = ['gid', 'year'])\n",
    "    grid_ucdp.fillna({'best' : 0, 'low' : 0, 'high' : 0, 'log_best' : 0, 'log_low' : 0, 'log_high' : 0}, inplace = True)\n",
    "\n",
    "    grid_ucdp = grid_ucdp[['gid', 'xcoord', 'ycoord', 'year', 'best', 'low', 'high', 'log_best', 'log_low', 'log_high']].copy() # remove the everything also the geo col.\n",
    "\n",
    "    grid_ucdpS = grid_ucdp.sort_values(['year', 'ycoord', 'xcoord'], ascending = [True, False, True])\n",
    "\n",
    "    # try to keep the jazz\n",
    "    #grid_ucdpS = grid_ucdpS[['gid','best', 'low',  'high', 'log_best', 'log_low', 'log_high']].copy() # remove the everything also the geo col. But keep gid. Why not.\n",
    "\n",
    "    x_dim = grid_ucdp['xcoord'].unique().shape[0]\n",
    "    y_dim = grid_ucdp['ycoord'].unique().shape[0]\n",
    "    z_dim = grid_ucdp['year'].unique().shape[0]\n",
    "\n",
    "    ucpd_vol = np.array(grid_ucdpS).reshape((z_dim, y_dim, x_dim, -1))\n",
    "\n",
    "    return ucpd_vol"
   ]
  },
  {
   "cell_type": "code",
   "execution_count": null,
   "metadata": {},
   "outputs": [],
   "source": []
  },
  {
   "cell_type": "code",
   "execution_count": null,
   "metadata": {},
   "outputs": [],
   "source": []
  }
 ],
 "metadata": {
  "kernelspec": {
   "display_name": "Python 3.9.2 ('geo_env')",
   "language": "python",
   "name": "python3"
  },
  "language_info": {
   "codemirror_mode": {
    "name": "ipython",
    "version": 3
   },
   "file_extension": ".py",
   "mimetype": "text/x-python",
   "name": "python",
   "nbconvert_exporter": "python",
   "pygments_lexer": "ipython3",
   "version": "3.9.2"
  },
  "orig_nbformat": 4,
  "vscode": {
   "interpreter": {
    "hash": "659162e43ca8a1d02d094cfc6c53ae5badbb04774e96431a0181253a51500bb6"
   }
  }
 },
 "nbformat": 4,
 "nbformat_minor": 2
}
